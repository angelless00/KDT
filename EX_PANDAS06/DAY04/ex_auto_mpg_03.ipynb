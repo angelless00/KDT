{
 "cells": [
  {
   "cell_type": "markdown",
   "metadata": {},
   "source": [
    "### [ 데이터 표준화 ]\n",
    "- 수집된 데이터를 동일한 형태로 맞추어 주는 것\n",
    "- 단위변환, 자료형 변환"
   ]
  },
  {
   "cell_type": "code",
   "execution_count": null,
   "metadata": {},
   "outputs": [],
   "source": [
    "# [1] 모듈준비\n",
    "import pandas as pd"
   ]
  },
  {
   "cell_type": "code",
   "execution_count": null,
   "metadata": {},
   "outputs": [],
   "source": [
    "# [2] 데이터 준비\n",
    "file_name='auto_mpg.csv'"
   ]
  },
  {
   "cell_type": "code",
   "execution_count": null,
   "metadata": {},
   "outputs": [],
   "source": [
    "# [3] CSV 데이터 ==> DataFrame 형태로 저장\n",
    "mpgDF=pd.read_csv(file_name)\n",
    "mpgDF"
   ]
  },
  {
   "cell_type": "code",
   "execution_count": null,
   "metadata": {},
   "outputs": [],
   "source": [
    "#[4] 데이터 확인\n",
    "# - 기본정보 확인\n",
    "mpgDF.info()"
   ]
  },
  {
   "cell_type": "code",
   "execution_count": null,
   "metadata": {},
   "outputs": [],
   "source": [
    "# - 컬럼과 실제 데이터 타입 확인\n",
    "print(mpgDF.head(),mpgDF.tail(),sep='\\n\\n')"
   ]
  },
  {
   "cell_type": "code",
   "execution_count": null,
   "metadata": {},
   "outputs": [],
   "source": [
    "# [5] 데이터 전처리\n",
    "# [5-1] 결측치 체크\n",
    "#mpgDF.isna()    <= 너무많아!!!\n",
    "mpgDF.isna().sum()       # 합으로 개수만 확인"
   ]
  },
  {
   "cell_type": "code",
   "execution_count": null,
   "metadata": {},
   "outputs": [],
   "source": [
    "# [5-2] 중복데이터\n",
    "mpgDF.duplicated().sum()"
   ]
  },
  {
   "cell_type": "code",
   "execution_count": null,
   "metadata": {},
   "outputs": [],
   "source": [
    "# [5-3] 단위변환 표준화 mpg===> kmpL 컬럼추가\n",
    "mpgDF['kpl']=mpgDF['mpg']*0.425"
   ]
  },
  {
   "cell_type": "code",
   "execution_count": null,
   "metadata": {},
   "outputs": [],
   "source": [
    "mpgDF.head()"
   ]
  },
  {
   "cell_type": "code",
   "execution_count": null,
   "metadata": {},
   "outputs": [],
   "source": [
    "# - [5-4] 자료형 변환 표준화\n",
    "# - horsepower object=> int\n",
    "# mpgDF['horsepower].astype('int64)\n",
    "mpgDF['horsepower'].value_counts()['?']     #물음표 몇개인데?"
   ]
  },
  {
   "cell_type": "code",
   "execution_count": null,
   "metadata": {},
   "outputs": [],
   "source": [
    "mpgDF[mpgDF['horsepower']=='?'].index"
   ]
  },
  {
   "cell_type": "code",
   "execution_count": null,
   "metadata": {},
   "outputs": [],
   "source": [
    "# 데이터를 변경해주는 메서드 => replace()\n",
    "import numpy as np\n",
    "mpgDF['horsepower'].replace('?',np.nan,inplace=True)"
   ]
  },
  {
   "cell_type": "code",
   "execution_count": null,
   "metadata": {},
   "outputs": [],
   "source": [
    "mpgDF.isna().sum()"
   ]
  },
  {
   "cell_type": "code",
   "execution_count": null,
   "metadata": {},
   "outputs": [],
   "source": [
    "mpgDF2=mpgDF.dropna().copy()\n",
    "mpgDF2.info"
   ]
  },
  {
   "cell_type": "code",
   "execution_count": null,
   "metadata": {},
   "outputs": [],
   "source": [
    "mpgDF2['horsepower']=mpgDF2['horsepower'].astype('int64')\n",
    "# 위에서 copy 안해주면 오류생길수도잇으니 copy 해줘!"
   ]
  },
  {
   "cell_type": "code",
   "execution_count": null,
   "metadata": {},
   "outputs": [],
   "source": [
    "mpgDF2.info()"
   ]
  },
  {
   "cell_type": "code",
   "execution_count": null,
   "metadata": {},
   "outputs": [],
   "source": [
    "# [5-5] 컬럼별 데이터의 특성을 확인한 후 자료형 변환 표준화\n",
    "# - 'cylinders' ==> 데이터를 분류/그룹 가능 ==> 범주형\n",
    "# - 'origin'    ==> 데이터를 분류/그룹 가능 ==> 범주형\n",
    "mpgDF2['cylinders']=mpgDF2['cylinders'].astype('category')\n",
    "mpgDF2['origin']=mpgDF2['origin'].astype('category')  "
   ]
  },
  {
   "cell_type": "code",
   "execution_count": null,
   "metadata": {},
   "outputs": [],
   "source": [
    "mpgDF2.info()"
   ]
  },
  {
   "cell_type": "code",
   "execution_count": null,
   "metadata": {},
   "outputs": [],
   "source": [
    "# [5-5] 컬럼별 데이터의 특성을 확인한 후 데이터 변환\n",
    "# - 'horsepower' ==> 저출력-일반출력-고출력 ==> 범주형 : cut() 메서드\n",
    "hp=pd.cut(mpgDF2['horsepower'],\n",
    "        bins=3,\n",
    "        labels=['저출력','일반출력','고출력'])\n",
    "# bins : 구간 몇개할껀데?\n",
    "# retbins: 구간 알려죠!"
   ]
  },
  {
   "cell_type": "code",
   "execution_count": null,
   "metadata": {},
   "outputs": [],
   "source": [
    "mpgDF2['horsepower_range']=hp"
   ]
  },
  {
   "cell_type": "markdown",
   "metadata": {},
   "source": [
    "- [문자열 데이터를 분리 시켜주는 기능 => 컬럼 분리]\n",
    "    - 조건, 데이터가 str이어야 함!\n",
    "    - 형식 : Series.str.메서드()"
   ]
  },
  {
   "cell_type": "code",
   "execution_count": null,
   "metadata": {},
   "outputs": [],
   "source": [
    "namesSR=mpgDF2['car name'].str.split() #upper(),lower()등 사용가능\n",
    "namesSR.head(3)"
   ]
  },
  {
   "cell_type": "code",
   "execution_count": null,
   "metadata": {},
   "outputs": [],
   "source": [
    "# - 나누어진 문자열을 하나씩 컬럼으로 분리\n",
    "mpgDF2['car name'].str.split(expand=True)"
   ]
  },
  {
   "cell_type": "code",
   "execution_count": null,
   "metadata": {},
   "outputs": [],
   "source": [
    "namesDF=mpgDF2['car name'].str.split(expand=True,n=1) ## index 1번까지만 나눌래!\n",
    "namesDF.info()"
   ]
  },
  {
   "cell_type": "markdown",
   "metadata": {},
   "source": [
    "- [DataFrame 연결하기]\n",
    "    - 함수 : pandas.concat([df1,df2,...])"
   ]
  },
  {
   "cell_type": "code",
   "execution_count": null,
   "metadata": {},
   "outputs": [],
   "source": [
    "DF3=pd.concat([mpgDF2,namesDF],axis=1)\n",
    "DF3.info()"
   ]
  },
  {
   "cell_type": "code",
   "execution_count": null,
   "metadata": {},
   "outputs": [],
   "source": [
    "# - 행 방향 연결 시 인덱스 다시 정리 필요\n",
    "# - 매개변수 ignore_index=True\n",
    "DF4=pd.concat([mpgDF2,namesDF],ignore_index=True)\n",
    "DF4.info()"
   ]
  },
  {
   "cell_type": "code",
   "execution_count": null,
   "metadata": {},
   "outputs": [],
   "source": [
    "DF4.tail(2)"
   ]
  },
  {
   "cell_type": "code",
   "execution_count": null,
   "metadata": {},
   "outputs": [],
   "source": []
  }
 ],
 "metadata": {
  "kernelspec": {
   "display_name": "PY_39",
   "language": "python",
   "name": "python3"
  },
  "language_info": {
   "codemirror_mode": {
    "name": "ipython",
    "version": 3
   },
   "file_extension": ".py",
   "mimetype": "text/x-python",
   "name": "python",
   "nbconvert_exporter": "python",
   "pygments_lexer": "ipython3",
   "version": "3.9.19"
  }
 },
 "nbformat": 4,
 "nbformat_minor": 2
}

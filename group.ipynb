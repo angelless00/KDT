{
 "cells": [
  {
   "cell_type": "code",
   "execution_count": 127,
   "metadata": {},
   "outputs": [],
   "source": [
    "import pandas as pd\n",
    "import random"
   ]
  },
  {
   "cell_type": "code",
   "execution_count": 128,
   "metadata": {},
   "outputs": [],
   "source": [
    "gr =pd.read_excel('조 현황.xlsx')"
   ]
  },
  {
   "cell_type": "code",
   "execution_count": 129,
   "metadata": {},
   "outputs": [],
   "source": [
    "gr.set_index('Unnamed: 0',inplace=True)"
   ]
  },
  {
   "cell_type": "code",
   "execution_count": 130,
   "metadata": {},
   "outputs": [
    {
     "data": {
      "text/plain": [
       "Index(['곽경민', '구성윤', '권도운', '김경태', '김경환', '김도연', '김미소', '김민석', '김아란', '김영주',\n",
       "       '김이현', '김재성', '김태헌', '김현주', '김환선', '도영훈', '박란영', '박지훈', '박형준', '손지원',\n",
       "       '안윤호', '안효준', '이동건', '이민하', '이송은', '이현종', '장재웅', '전민규', '조혜리', '한세진',\n",
       "       '황은혁', '황지원'],\n",
       "      dtype='object')"
      ]
     },
     "execution_count": 130,
     "metadata": {},
     "output_type": "execute_result"
    }
   ],
   "source": [
    "gr.columns"
   ]
  },
  {
   "cell_type": "code",
   "execution_count": 131,
   "metadata": {},
   "outputs": [],
   "source": [
    "random.choice(gr.columns)\n",
    "grd={1:[],2:[],3:[],4:[],5:[],6:[],7:[],8:[]}"
   ]
  },
  {
   "cell_type": "code",
   "execution_count": 132,
   "metadata": {},
   "outputs": [
    {
     "name": "stdout",
     "output_type": "stream",
     "text": [
      "{1: ['곽경민', '김현주', '김미소', '박지훈'], 2: [], 3: [], 4: [], 5: [], 6: [], 7: [], 8: []}\n",
      "{1: ['곽경민', '김현주', '김미소', '박지훈'], 2: ['장재웅', '김민석', '이동건', '안윤호'], 3: [], 4: [], 5: [], 6: [], 7: [], 8: []}\n",
      "{1: ['곽경민', '김현주', '김미소', '박지훈'], 2: ['장재웅', '김민석', '이동건', '안윤호'], 3: ['황지원', '김재성', '김경태', '김경환'], 4: [], 5: [], 6: [], 7: [], 8: []}\n",
      "{1: ['곽경민', '김현주', '김미소', '박지훈'], 2: ['장재웅', '김민석', '이동건', '안윤호'], 3: ['황지원', '김재성', '김경태', '김경환'], 4: ['도영훈', '박란영', '이송은', '김영주'], 5: [], 6: [], 7: [], 8: []}\n",
      "{1: ['곽경민', '김현주', '김미소', '박지훈'], 2: ['장재웅', '김민석', '이동건', '안윤호'], 3: ['황지원', '김재성', '김경태', '김경환'], 4: ['도영훈', '박란영', '이송은', '김영주'], 5: ['전민규', '김도연', '황은혁', '김이현'], 6: [], 7: [], 8: []}\n",
      "{1: ['곽경민', '김현주', '김미소', '박지훈'], 2: ['장재웅', '김민석', '이동건', '안윤호'], 3: ['황지원', '김재성', '김경태', '김경환'], 4: ['도영훈', '박란영', '이송은', '김영주'], 5: ['전민규', '김도연', '황은혁', '김이현'], 6: ['김태헌', '손지원', '구성윤', '이현종'], 7: [], 8: []}\n"
     ]
    },
    {
     "ename": "KeyboardInterrupt",
     "evalue": "",
     "output_type": "error",
     "traceback": [
      "\u001b[1;31m---------------------------------------------------------------------------\u001b[0m",
      "\u001b[1;31mKeyboardInterrupt\u001b[0m                         Traceback (most recent call last)",
      "Cell \u001b[1;32mIn[132], line 23\u001b[0m\n\u001b[0;32m     21\u001b[0m     \u001b[38;5;28;01melif\u001b[39;00m gr\u001b[38;5;241m.\u001b[39mloc[nn,name2]\u001b[38;5;241m==\u001b[39m\u001b[38;5;241m0\u001b[39m \u001b[38;5;241m|\u001b[39m gr\u001b[38;5;241m.\u001b[39mloc[nn,name2]\u001b[38;5;241m==\u001b[39m\u001b[38;5;241m1\u001b[39m:\n\u001b[0;32m     22\u001b[0m         count\u001b[38;5;241m=\u001b[39mcount\u001b[38;5;241m*\u001b[39m\u001b[38;5;241m1\u001b[39m\n\u001b[1;32m---> 23\u001b[0m     \u001b[38;5;28;01melif\u001b[39;00m \u001b[43mgr\u001b[49m\u001b[38;5;241;43m.\u001b[39;49m\u001b[43mloc\u001b[49m\u001b[43m[\u001b[49m\u001b[43mnn\u001b[49m\u001b[43m,\u001b[49m\u001b[43mname2\u001b[49m\u001b[43m]\u001b[49m\u001b[38;5;241m>\u001b[39m\u001b[38;5;241m=\u001b[39m\u001b[38;5;241m2\u001b[39m:\n\u001b[0;32m     24\u001b[0m         count\u001b[38;5;241m=\u001b[39mcount\u001b[38;5;241m*\u001b[39m\u001b[38;5;241m0\u001b[39m\n\u001b[0;32m     25\u001b[0m \u001b[38;5;28;01mif\u001b[39;00m num\u001b[38;5;241m==\u001b[39m\u001b[38;5;241m50\u001b[39m:\n",
      "File \u001b[1;32mc:\\Users\\KDP-30\\anaconda3\\envs\\PY_39\\lib\\site-packages\\pandas\\core\\indexing.py:1178\u001b[0m, in \u001b[0;36m_LocationIndexer.__getitem__\u001b[1;34m(self, key)\u001b[0m\n\u001b[0;32m   1176\u001b[0m \u001b[38;5;129m@final\u001b[39m\n\u001b[0;32m   1177\u001b[0m \u001b[38;5;28;01mdef\u001b[39;00m \u001b[38;5;21m__getitem__\u001b[39m(\u001b[38;5;28mself\u001b[39m, key):\n\u001b[1;32m-> 1178\u001b[0m     \u001b[43mcheck_dict_or_set_indexers\u001b[49m\u001b[43m(\u001b[49m\u001b[43mkey\u001b[49m\u001b[43m)\u001b[49m\n\u001b[0;32m   1179\u001b[0m     \u001b[38;5;28;01mif\u001b[39;00m \u001b[38;5;28mtype\u001b[39m(key) \u001b[38;5;129;01mis\u001b[39;00m \u001b[38;5;28mtuple\u001b[39m:\n\u001b[0;32m   1180\u001b[0m         key \u001b[38;5;241m=\u001b[39m \u001b[38;5;28mtuple\u001b[39m(\u001b[38;5;28mlist\u001b[39m(x) \u001b[38;5;28;01mif\u001b[39;00m is_iterator(x) \u001b[38;5;28;01melse\u001b[39;00m x \u001b[38;5;28;01mfor\u001b[39;00m x \u001b[38;5;129;01min\u001b[39;00m key)\n",
      "File \u001b[1;32mc:\\Users\\KDP-30\\anaconda3\\envs\\PY_39\\lib\\site-packages\\pandas\\core\\indexing.py:2781\u001b[0m, in \u001b[0;36mcheck_dict_or_set_indexers\u001b[1;34m(key)\u001b[0m\n\u001b[0;32m   2769\u001b[0m \u001b[38;5;28;01mif\u001b[39;00m (\n\u001b[0;32m   2770\u001b[0m     \u001b[38;5;28misinstance\u001b[39m(key, \u001b[38;5;28mset\u001b[39m)\n\u001b[0;32m   2771\u001b[0m     \u001b[38;5;129;01mor\u001b[39;00m \u001b[38;5;28misinstance\u001b[39m(key, \u001b[38;5;28mtuple\u001b[39m)\n\u001b[0;32m   2772\u001b[0m     \u001b[38;5;129;01mand\u001b[39;00m \u001b[38;5;28many\u001b[39m(\u001b[38;5;28misinstance\u001b[39m(x, \u001b[38;5;28mset\u001b[39m) \u001b[38;5;28;01mfor\u001b[39;00m x \u001b[38;5;129;01min\u001b[39;00m key)\n\u001b[0;32m   2773\u001b[0m ):\n\u001b[0;32m   2774\u001b[0m     \u001b[38;5;28;01mraise\u001b[39;00m \u001b[38;5;167;01mTypeError\u001b[39;00m(\n\u001b[0;32m   2775\u001b[0m         \u001b[38;5;124m\"\u001b[39m\u001b[38;5;124mPassing a set as an indexer is not supported. Use a list instead.\u001b[39m\u001b[38;5;124m\"\u001b[39m\n\u001b[0;32m   2776\u001b[0m     )\n\u001b[0;32m   2778\u001b[0m \u001b[38;5;28;01mif\u001b[39;00m (\n\u001b[0;32m   2779\u001b[0m     \u001b[38;5;28misinstance\u001b[39m(key, \u001b[38;5;28mdict\u001b[39m)\n\u001b[0;32m   2780\u001b[0m     \u001b[38;5;129;01mor\u001b[39;00m \u001b[38;5;28misinstance\u001b[39m(key, \u001b[38;5;28mtuple\u001b[39m)\n\u001b[1;32m-> 2781\u001b[0m     \u001b[38;5;129;01mand\u001b[39;00m \u001b[38;5;28;43many\u001b[39;49m\u001b[43m(\u001b[49m\u001b[38;5;28;43misinstance\u001b[39;49m\u001b[43m(\u001b[49m\u001b[43mx\u001b[49m\u001b[43m,\u001b[49m\u001b[43m \u001b[49m\u001b[38;5;28;43mdict\u001b[39;49m\u001b[43m)\u001b[49m\u001b[43m \u001b[49m\u001b[38;5;28;43;01mfor\u001b[39;49;00m\u001b[43m \u001b[49m\u001b[43mx\u001b[49m\u001b[43m \u001b[49m\u001b[38;5;129;43;01min\u001b[39;49;00m\u001b[43m \u001b[49m\u001b[43mkey\u001b[49m\u001b[43m)\u001b[49m\n\u001b[0;32m   2782\u001b[0m ):\n\u001b[0;32m   2783\u001b[0m     \u001b[38;5;28;01mraise\u001b[39;00m \u001b[38;5;167;01mTypeError\u001b[39;00m(\n\u001b[0;32m   2784\u001b[0m         \u001b[38;5;124m\"\u001b[39m\u001b[38;5;124mPassing a dict as an indexer is not supported. Use a list instead.\u001b[39m\u001b[38;5;124m\"\u001b[39m\n\u001b[0;32m   2785\u001b[0m     )\n",
      "File \u001b[1;32mc:\\Users\\KDP-30\\anaconda3\\envs\\PY_39\\lib\\site-packages\\pandas\\core\\indexing.py:2781\u001b[0m, in \u001b[0;36m<genexpr>\u001b[1;34m(.0)\u001b[0m\n\u001b[0;32m   2769\u001b[0m \u001b[38;5;28;01mif\u001b[39;00m (\n\u001b[0;32m   2770\u001b[0m     \u001b[38;5;28misinstance\u001b[39m(key, \u001b[38;5;28mset\u001b[39m)\n\u001b[0;32m   2771\u001b[0m     \u001b[38;5;129;01mor\u001b[39;00m \u001b[38;5;28misinstance\u001b[39m(key, \u001b[38;5;28mtuple\u001b[39m)\n\u001b[0;32m   2772\u001b[0m     \u001b[38;5;129;01mand\u001b[39;00m \u001b[38;5;28many\u001b[39m(\u001b[38;5;28misinstance\u001b[39m(x, \u001b[38;5;28mset\u001b[39m) \u001b[38;5;28;01mfor\u001b[39;00m x \u001b[38;5;129;01min\u001b[39;00m key)\n\u001b[0;32m   2773\u001b[0m ):\n\u001b[0;32m   2774\u001b[0m     \u001b[38;5;28;01mraise\u001b[39;00m \u001b[38;5;167;01mTypeError\u001b[39;00m(\n\u001b[0;32m   2775\u001b[0m         \u001b[38;5;124m\"\u001b[39m\u001b[38;5;124mPassing a set as an indexer is not supported. Use a list instead.\u001b[39m\u001b[38;5;124m\"\u001b[39m\n\u001b[0;32m   2776\u001b[0m     )\n\u001b[0;32m   2778\u001b[0m \u001b[38;5;28;01mif\u001b[39;00m (\n\u001b[0;32m   2779\u001b[0m     \u001b[38;5;28misinstance\u001b[39m(key, \u001b[38;5;28mdict\u001b[39m)\n\u001b[0;32m   2780\u001b[0m     \u001b[38;5;129;01mor\u001b[39;00m \u001b[38;5;28misinstance\u001b[39m(key, \u001b[38;5;28mtuple\u001b[39m)\n\u001b[1;32m-> 2781\u001b[0m     \u001b[38;5;129;01mand\u001b[39;00m \u001b[38;5;28many\u001b[39m(\u001b[38;5;28misinstance\u001b[39m(x, \u001b[38;5;28mdict\u001b[39m) \u001b[38;5;28;01mfor\u001b[39;00m x \u001b[38;5;129;01min\u001b[39;00m key)\n\u001b[0;32m   2782\u001b[0m ):\n\u001b[0;32m   2783\u001b[0m     \u001b[38;5;28;01mraise\u001b[39;00m \u001b[38;5;167;01mTypeError\u001b[39;00m(\n\u001b[0;32m   2784\u001b[0m         \u001b[38;5;124m\"\u001b[39m\u001b[38;5;124mPassing a dict as an indexer is not supported. Use a list instead.\u001b[39m\u001b[38;5;124m\"\u001b[39m\n\u001b[0;32m   2785\u001b[0m     )\n",
      "\u001b[1;31mKeyboardInterrupt\u001b[0m: "
     ]
    }
   ],
   "source": [
    "\n",
    "while True:\n",
    "    grn=['곽경민', '구성윤', '권도운', '김경태', '김경환', '김도연', '김미소', '김민석',\n",
    "       '김아란', '김영주', '김이현', '김재성', '김태헌', '김현주', '김환선', '도영훈', '박란영', '박지훈',\n",
    "       '박형준', '손지원', '안윤호', '안효준', '이동건', '이민하', '이송은', '이현종', '장재웅', '전민규',\n",
    "       '조혜리', '한세진', '황은혁', '황지원']\n",
    "    grd={1:[],2:[],3:[],4:[],5:[],6:[],7:[],8:[]}\n",
    "    try:\n",
    "        for i in range(1,9):\n",
    "            name=random.choice(grn)\n",
    "            grn.remove(name)\n",
    "            grd[i].append(name)\n",
    "            \n",
    "            while True:\n",
    "                name2=random.choice(grn)\n",
    "                count=1\n",
    "                num=0\n",
    "                for nn in grd[i]:\n",
    "                    num+=1\n",
    "                    if nn==name2:\n",
    "                        pass\n",
    "                    elif gr.loc[nn,name2]==0 | gr.loc[nn,name2]==1:\n",
    "                        count=count*1\n",
    "                    elif gr.loc[nn,name2]>=2:\n",
    "                        count=count*0\n",
    "\n",
    "                if count==1:\n",
    "                    grd[i].append(name2)\n",
    "                    grn.remove(name2)\n",
    "                if len(grd[i])==4:\n",
    "                    print(grd)    \n",
    "                    break\n",
    "                \n",
    "    except Exception as e:\n",
    "        print('에러')\n",
    "        continue\n",
    "    if len(grn)==0:\n",
    "        print(grd)\n",
    "        break\n",
    "\n",
    "\n",
    "    "
   ]
  },
  {
   "cell_type": "code",
   "execution_count": null,
   "metadata": {},
   "outputs": [],
   "source": []
  }
 ],
 "metadata": {
  "kernelspec": {
   "display_name": "TORCH_CV_38",
   "language": "python",
   "name": "python3"
  },
  "language_info": {
   "codemirror_mode": {
    "name": "ipython",
    "version": 3
   },
   "file_extension": ".py",
   "mimetype": "text/x-python",
   "name": "python",
   "nbconvert_exporter": "python",
   "pygments_lexer": "ipython3",
   "version": "3.9.19"
  }
 },
 "nbformat": 4,
 "nbformat_minor": 2
}

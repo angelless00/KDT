{
 "cells": [
  {
   "cell_type": "code",
   "execution_count": 217,
   "metadata": {},
   "outputs": [],
   "source": [
    "import pandas as pd\n",
    "import random"
   ]
  },
  {
   "cell_type": "code",
   "execution_count": 218,
   "metadata": {},
   "outputs": [],
   "source": [
    "gr =pd.read_excel('조 현황.xlsx')"
   ]
  },
  {
   "cell_type": "code",
   "execution_count": 219,
   "metadata": {},
   "outputs": [],
   "source": [
    "gr.set_index('Unnamed: 0',inplace=True)"
   ]
  },
  {
   "cell_type": "code",
   "execution_count": 220,
   "metadata": {},
   "outputs": [
    {
     "data": {
      "text/plain": [
       "Index(['곽경민', '구성윤', '권도운', '김경태', '김경환', '김도연', '김미소', '김민석', '김아란', '김영주',\n",
       "       '김이현', '김재성', '김태헌', '김현주', '김환선', '도영훈', '박란영', '박지훈', '박형준', '손지원',\n",
       "       '안윤호', '안효준', '이동건', '이민하', '이송은', '이현종', '장재웅', '전민규', '조혜리', '한세진',\n",
       "       '황은혁', '황지원'],\n",
       "      dtype='object')"
      ]
     },
     "execution_count": 220,
     "metadata": {},
     "output_type": "execute_result"
    }
   ],
   "source": [
    "gr.columns"
   ]
  },
  {
   "cell_type": "code",
   "execution_count": 221,
   "metadata": {},
   "outputs": [],
   "source": [
    "random.choice(gr.columns)\n",
    "grd={1:[],2:[],3:[],4:[],5:[],6:[],7:[],8:[]}"
   ]
  },
  {
   "cell_type": "code",
   "execution_count": 222,
   "metadata": {},
   "outputs": [
    {
     "name": "stdout",
     "output_type": "stream",
     "text": [
      "{1: ['박지훈', '김환선', '김재성', '김현주'], 2: ['안윤호', '박형준', '박란영', '이민하'], 3: ['장재웅', '조혜리', '곽경민', '황지원'], 4: ['김도연', '김이현', '이현종', '이송은'], 5: ['황은혁', '손지원', '안효준', '김아란'], 6: ['한세진', '김태헌', '도영훈', '김민석'], 7: ['김미소', '김경환', '권도운', '전민규'], 8: []}\n",
      "['구성윤', '김경태', '김영주', '이동건']\n",
      "{1: ['박지훈', '김환선', '김재성', '김현주'], 2: ['안윤호', '박형준', '박란영', '이민하'], 3: ['장재웅', '조혜리', '곽경민', '황지원'], 4: ['김도연', '김이현', '이현종', '이송은'], 5: ['황은혁', '손지원', '안효준', '김아란'], 6: ['한세진', '김태헌', '도영훈', '김민석'], 7: ['김미소', '김경환', '권도운', '전민규'], 8: ['구성윤', '김경태', '김영주', '이동건']}\n"
     ]
    }
   ],
   "source": [
    "limit=5\n",
    "while True:\n",
    "    grn=['곽경민', '구성윤', '권도운', '김경태', '김경환', '김도연', '김미소', '김민석',\n",
    "       '김아란', '김영주', '김이현', '김재성', '김태헌', '김현주', '김환선', '도영훈', '박란영', '박지훈',\n",
    "       '박형준', '손지원', '안윤호', '안효준', '이동건', '이민하', '이송은', '이현종', '장재웅', '전민규',\n",
    "       '조혜리', '한세진', '황은혁', '황지원']\n",
    "    grd={1:[],2:[],3:[],4:[],5:[],6:[],7:[],8:[]}\n",
    "    try:\n",
    "        for i in range(1,8):\n",
    "            name=random.choice(grn)\n",
    "            \n",
    "            while True:\n",
    "                name2=random.choice(grn)\n",
    "                count=1\n",
    "                num=0\n",
    "                if name!=name2:\n",
    "                    for nn in grd[i]:\n",
    "                        num+=1\n",
    "                        if nn==name2:\n",
    "                            pass\n",
    "                        elif gr.loc[nn,name2]==0 | gr.loc[nn,name2]==1:\n",
    "                            count=count*1\n",
    "                        elif (gr.loc[nn,name2]>=2) | (nn==name2):\n",
    "                            count=count*0\n",
    "                    if count==1:\n",
    "                        grd[i].append(name2)\n",
    "                    if len(grd[i])==4:\n",
    "                        cc=0\n",
    "                        for n1 in grd[i]:\n",
    "                            for n2 in grd[i]: \n",
    "                                cc+=gr.loc[n1,n2]\n",
    "                        if cc>limit:\n",
    "                            grd[i]=[]\n",
    "                        else:\n",
    "                            break\n",
    "            for n1 in grd[i]:\n",
    "                grn.remove(n1)\n",
    "            if len(grd[7])==4:\n",
    "                print(grd)\n",
    "                print(grn)            \n",
    "       \n",
    " \n",
    "\n",
    "        if len(grn)==4:\n",
    "            count=0\n",
    "            for n1 in grd[8]:\n",
    "                for n2 in grd[8]:\n",
    "                    count+=gr.loc[n1,n2]\n",
    "            if count>limit:\n",
    "                continue\n",
    "            else:\n",
    "                grd[8]=grn\n",
    "            \n",
    "\n",
    "\n",
    "\n",
    "                \n",
    "    except Exception as e:\n",
    "        pass\n",
    "    if len(grd[8])==4:\n",
    "        print(grd)\n",
    "        break\n",
    "    if len(grn)==0:\n",
    "        \n",
    "        break\n",
    "\n",
    "\n",
    "\n",
    "    "
   ]
  },
  {
   "cell_type": "code",
   "execution_count": 223,
   "metadata": {},
   "outputs": [
    {
     "data": {
      "text/plain": [
       "[2, 3, 4, 5]"
      ]
     },
     "execution_count": 223,
     "metadata": {},
     "output_type": "execute_result"
    }
   ],
   "source": [
    "aa=[1,2,3,4,5]\n",
    "aa.remove(1)\n",
    "aa"
   ]
  },
  {
   "cell_type": "code",
   "execution_count": 224,
   "metadata": {},
   "outputs": [
    {
     "data": {
      "text/plain": [
       "['구성윤', '김경태', '김영주', '이동건']"
      ]
     },
     "execution_count": 224,
     "metadata": {},
     "output_type": "execute_result"
    }
   ],
   "source": [
    "grd[8]"
   ]
  },
  {
   "cell_type": "code",
   "execution_count": null,
   "metadata": {},
   "outputs": [],
   "source": []
  }
 ],
 "metadata": {
  "kernelspec": {
   "display_name": "TORCH_CV_38",
   "language": "python",
   "name": "python3"
  },
  "language_info": {
   "codemirror_mode": {
    "name": "ipython",
    "version": 3
   },
   "file_extension": ".py",
   "mimetype": "text/x-python",
   "name": "python",
   "nbconvert_exporter": "python",
   "pygments_lexer": "ipython3",
   "version": "3.9.19"
  }
 },
 "nbformat": 4,
 "nbformat_minor": 2
}

{
 "cells": [
  {
   "cell_type": "code",
   "execution_count": 14,
   "metadata": {},
   "outputs": [],
   "source": [
    "import pandas as pd\n",
    "import matplotlib.pyplot as plt"
   ]
  },
  {
   "cell_type": "code",
   "execution_count": 15,
   "metadata": {},
   "outputs": [],
   "source": [
    "trafficDF=pd.read_csv(\"교통 안전지수.csv\")\n",
    "fireDF=pd.read_csv(\"화재 안전지수.csv\")\n",
    "criminalDF=pd.read_csv(\"범죄 안전지수.csv\")"
   ]
  },
  {
   "cell_type": "code",
   "execution_count": 16,
   "metadata": {},
   "outputs": [],
   "source": [
    "trafficDF.set_index(['시도','시군구'],inplace=True)\n",
    "fireDF.set_index(['시도','시군구'],inplace=True)\n",
    "criminalDF.set_index(['시도','시군구'],inplace=True)"
   ]
  },
  {
   "cell_type": "code",
   "execution_count": 17,
   "metadata": {},
   "outputs": [
    {
     "name": "stdout",
     "output_type": "stream",
     "text": [
      "<class 'pandas.core.frame.DataFrame'>\n",
      "MultiIndex: 226 entries, ('경기', '수원시') to ('울산', '북구')\n",
      "Data columns (total 9 columns):\n",
      " #   Column  Non-Null Count  Dtype\n",
      "---  ------  --------------  -----\n",
      " 0   15      226 non-null    int64\n",
      " 1   16      226 non-null    int64\n",
      " 2   17      226 non-null    int64\n",
      " 3   18      226 non-null    int64\n",
      " 4   19      226 non-null    int64\n",
      " 5   20      226 non-null    int64\n",
      " 6   21      226 non-null    int64\n",
      " 7   22      226 non-null    int64\n",
      " 8   23      226 non-null    int64\n",
      "dtypes: int64(9)\n",
      "memory usage: 27.1+ KB\n"
     ]
    }
   ],
   "source": [
    "trafficDF.info()"
   ]
  },
  {
   "cell_type": "code",
   "execution_count": 18,
   "metadata": {},
   "outputs": [
    {
     "name": "stdout",
     "output_type": "stream",
     "text": [
      "<class 'pandas.core.frame.DataFrame'>\n",
      "MultiIndex: 226 entries, ('경기', '수원시') to ('울산', '북구')\n",
      "Data columns (total 9 columns):\n",
      " #   Column  Non-Null Count  Dtype\n",
      "---  ------  --------------  -----\n",
      " 0   15      226 non-null    int64\n",
      " 1   16      226 non-null    int64\n",
      " 2   17      226 non-null    int64\n",
      " 3   18      226 non-null    int64\n",
      " 4   19      226 non-null    int64\n",
      " 5   20      226 non-null    int64\n",
      " 6   21      226 non-null    int64\n",
      " 7   22      226 non-null    int64\n",
      " 8   23      226 non-null    int64\n",
      "dtypes: int64(9)\n",
      "memory usage: 27.1+ KB\n"
     ]
    }
   ],
   "source": [
    "fireDF.info()"
   ]
  },
  {
   "cell_type": "code",
   "execution_count": 19,
   "metadata": {},
   "outputs": [
    {
     "name": "stdout",
     "output_type": "stream",
     "text": [
      "<class 'pandas.core.frame.DataFrame'>\n",
      "MultiIndex: 226 entries, ('경기', '수원시') to ('울산', '북구')\n",
      "Data columns (total 9 columns):\n",
      " #   Column  Non-Null Count  Dtype\n",
      "---  ------  --------------  -----\n",
      " 0   15      226 non-null    int64\n",
      " 1   16      226 non-null    int64\n",
      " 2   17      226 non-null    int64\n",
      " 3   18      226 non-null    int64\n",
      " 4   19      226 non-null    int64\n",
      " 5   20      226 non-null    int64\n",
      " 6   21      226 non-null    int64\n",
      " 7   22      226 non-null    int64\n",
      " 8   23      226 non-null    int64\n",
      "dtypes: int64(9)\n",
      "memory usage: 27.1+ KB\n"
     ]
    }
   ],
   "source": [
    "criminalDF.info()"
   ]
  },
  {
   "cell_type": "code",
   "execution_count": 50,
   "metadata": {},
   "outputs": [],
   "source": [
    "## 두 연도 비교하는 함수\n",
    "def compare(DF,start,end):\n",
    "    \"\"\"column명 string사용\"\"\"\n",
    "    gap=DF[end]-DF[start]\n",
    "    M=gap.max()\n",
    "    m=gap.min()\n",
    "    gap=DF[end]-DF[start]\n",
    "    m_dict={'max':[],'min':[]}\n",
    "    for i in gap.index:\n",
    "        if gap[i]==gap.max():\n",
    "            m_dict['max'].append(i)\n",
    "        elif gap[i]==gap.min():\n",
    "            m_dict['min'].append(i)\n",
    "    return m_dict"
   ]
  },
  {
   "cell_type": "code",
   "execution_count": 54,
   "metadata": {},
   "outputs": [
    {
     "data": {
      "text/plain": [
       "{'max': [('경북', '고령군'), ('경남', '남해군'), ('경남', '함양군'), ('서울', '관악구')],\n",
       " 'min': [('충남', '아산시'),\n",
       "  ('강원', '철원군'),\n",
       "  ('충북', '보은군'),\n",
       "  ('전남', '보성군'),\n",
       "  ('경북', '청도군'),\n",
       "  ('서울', '종로구')]}"
      ]
     },
     "execution_count": 54,
     "metadata": {},
     "output_type": "execute_result"
    }
   ],
   "source": [
    "compare(trafficDF,'18','23')"
   ]
  },
  {
   "cell_type": "code",
   "execution_count": 55,
   "metadata": {},
   "outputs": [
    {
     "data": {
      "text/plain": [
       "{'max': [('부산', '서구')],\n",
       " 'min': [('강원', '삼척시'),\n",
       "  ('충남', '계룡시'),\n",
       "  ('강원', '화천군'),\n",
       "  ('충북', '증평군'),\n",
       "  ('부산', '중구'),\n",
       "  ('부산', '강서구'),\n",
       "  ('인천', '중구'),\n",
       "  ('광주', '북구')]}"
      ]
     },
     "execution_count": 55,
     "metadata": {},
     "output_type": "execute_result"
    }
   ],
   "source": [
    "compare(fireDF,'18','23')"
   ]
  },
  {
   "cell_type": "code",
   "execution_count": 56,
   "metadata": {},
   "outputs": [
    {
     "data": {
      "text/plain": [
       "{'max': [('충남', '홍성군')],\n",
       " 'min': [('경기', '여주시'),\n",
       "  ('강원', '강릉시'),\n",
       "  ('강원', '태백시'),\n",
       "  ('전북', '남원시'),\n",
       "  ('강원', '정선군'),\n",
       "  ('충북', '보은군'),\n",
       "  ('충북', '괴산군'),\n",
       "  ('충북', '단양군'),\n",
       "  ('충남', '청양군'),\n",
       "  ('전남', '담양군'),\n",
       "  ('전남', '구례군'),\n",
       "  ('전남', '장흥군'),\n",
       "  ('울산', '동구')]}"
      ]
     },
     "execution_count": 56,
     "metadata": {},
     "output_type": "execute_result"
    }
   ],
   "source": [
    "compare(criminalDF,'18','23')"
   ]
  },
  {
   "cell_type": "code",
   "execution_count": null,
   "metadata": {},
   "outputs": [],
   "source": []
  }
 ],
 "metadata": {
  "kernelspec": {
   "display_name": "TORCH_CV_38",
   "language": "python",
   "name": "python3"
  },
  "language_info": {
   "codemirror_mode": {
    "name": "ipython",
    "version": 3
   },
   "file_extension": ".py",
   "mimetype": "text/x-python",
   "name": "python",
   "nbconvert_exporter": "python",
   "pygments_lexer": "ipython3",
   "version": "3.8.19"
  }
 },
 "nbformat": 4,
 "nbformat_minor": 2
}

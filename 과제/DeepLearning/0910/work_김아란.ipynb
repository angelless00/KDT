{
 "cells": [
  {
   "cell_type": "markdown",
   "metadata": {},
   "source": [
    "- 보스턴 집값예측\n",
    "- linear"
   ]
  },
  {
   "cell_type": "code",
   "execution_count": 131,
   "metadata": {},
   "outputs": [],
   "source": [
    "import pandas as pd\n",
    "import torch\n",
    "import torch.nn.functional as f\n",
    "import torch.nn as nn\n",
    "import torch.optim as optimize\n",
    "import matplotlib.pyplot as plt\n",
    "from sklearn.model_selection import train_test_split"
   ]
  },
  {
   "cell_type": "code",
   "execution_count": 132,
   "metadata": {},
   "outputs": [
    {
     "data": {
      "text/html": [
       "<div>\n",
       "<style scoped>\n",
       "    .dataframe tbody tr th:only-of-type {\n",
       "        vertical-align: middle;\n",
       "    }\n",
       "\n",
       "    .dataframe tbody tr th {\n",
       "        vertical-align: top;\n",
       "    }\n",
       "\n",
       "    .dataframe thead th {\n",
       "        text-align: right;\n",
       "    }\n",
       "</style>\n",
       "<table border=\"1\" class=\"dataframe\">\n",
       "  <thead>\n",
       "    <tr style=\"text-align: right;\">\n",
       "      <th></th>\n",
       "      <th>CRIM</th>\n",
       "      <th>ZN</th>\n",
       "      <th>INDUS</th>\n",
       "      <th>CHAS</th>\n",
       "      <th>NOX</th>\n",
       "      <th>RM</th>\n",
       "      <th>AGE</th>\n",
       "      <th>DIS</th>\n",
       "      <th>RAD</th>\n",
       "      <th>TAX</th>\n",
       "      <th>PTRATIO</th>\n",
       "      <th>B</th>\n",
       "      <th>LSTAT</th>\n",
       "      <th>MEDV</th>\n",
       "    </tr>\n",
       "  </thead>\n",
       "  <tbody>\n",
       "    <tr>\n",
       "      <th>0</th>\n",
       "      <td>0.00632</td>\n",
       "      <td>18.0</td>\n",
       "      <td>2.31</td>\n",
       "      <td>0</td>\n",
       "      <td>0.538</td>\n",
       "      <td>6.575</td>\n",
       "      <td>65.2</td>\n",
       "      <td>4.0900</td>\n",
       "      <td>1</td>\n",
       "      <td>296.0</td>\n",
       "      <td>15.3</td>\n",
       "      <td>396.90</td>\n",
       "      <td>4.98</td>\n",
       "      <td>24.0</td>\n",
       "    </tr>\n",
       "    <tr>\n",
       "      <th>1</th>\n",
       "      <td>0.02731</td>\n",
       "      <td>0.0</td>\n",
       "      <td>7.07</td>\n",
       "      <td>0</td>\n",
       "      <td>0.469</td>\n",
       "      <td>6.421</td>\n",
       "      <td>78.9</td>\n",
       "      <td>4.9671</td>\n",
       "      <td>2</td>\n",
       "      <td>242.0</td>\n",
       "      <td>17.8</td>\n",
       "      <td>396.90</td>\n",
       "      <td>9.14</td>\n",
       "      <td>21.6</td>\n",
       "    </tr>\n",
       "    <tr>\n",
       "      <th>2</th>\n",
       "      <td>0.02729</td>\n",
       "      <td>0.0</td>\n",
       "      <td>7.07</td>\n",
       "      <td>0</td>\n",
       "      <td>0.469</td>\n",
       "      <td>7.185</td>\n",
       "      <td>61.1</td>\n",
       "      <td>4.9671</td>\n",
       "      <td>2</td>\n",
       "      <td>242.0</td>\n",
       "      <td>17.8</td>\n",
       "      <td>392.83</td>\n",
       "      <td>4.03</td>\n",
       "      <td>34.7</td>\n",
       "    </tr>\n",
       "    <tr>\n",
       "      <th>3</th>\n",
       "      <td>0.03237</td>\n",
       "      <td>0.0</td>\n",
       "      <td>2.18</td>\n",
       "      <td>0</td>\n",
       "      <td>0.458</td>\n",
       "      <td>6.998</td>\n",
       "      <td>45.8</td>\n",
       "      <td>6.0622</td>\n",
       "      <td>3</td>\n",
       "      <td>222.0</td>\n",
       "      <td>18.7</td>\n",
       "      <td>394.63</td>\n",
       "      <td>2.94</td>\n",
       "      <td>33.4</td>\n",
       "    </tr>\n",
       "    <tr>\n",
       "      <th>4</th>\n",
       "      <td>0.06905</td>\n",
       "      <td>0.0</td>\n",
       "      <td>2.18</td>\n",
       "      <td>0</td>\n",
       "      <td>0.458</td>\n",
       "      <td>7.147</td>\n",
       "      <td>54.2</td>\n",
       "      <td>6.0622</td>\n",
       "      <td>3</td>\n",
       "      <td>222.0</td>\n",
       "      <td>18.7</td>\n",
       "      <td>396.90</td>\n",
       "      <td>5.33</td>\n",
       "      <td>36.2</td>\n",
       "    </tr>\n",
       "  </tbody>\n",
       "</table>\n",
       "</div>"
      ],
      "text/plain": [
       "      CRIM    ZN  INDUS  CHAS    NOX     RM   AGE     DIS  RAD    TAX  \\\n",
       "0  0.00632  18.0   2.31     0  0.538  6.575  65.2  4.0900    1  296.0   \n",
       "1  0.02731   0.0   7.07     0  0.469  6.421  78.9  4.9671    2  242.0   \n",
       "2  0.02729   0.0   7.07     0  0.469  7.185  61.1  4.9671    2  242.0   \n",
       "3  0.03237   0.0   2.18     0  0.458  6.998  45.8  6.0622    3  222.0   \n",
       "4  0.06905   0.0   2.18     0  0.458  7.147  54.2  6.0622    3  222.0   \n",
       "\n",
       "   PTRATIO       B  LSTAT  MEDV  \n",
       "0     15.3  396.90   4.98  24.0  \n",
       "1     17.8  396.90   9.14  21.6  \n",
       "2     17.8  392.83   4.03  34.7  \n",
       "3     18.7  394.63   2.94  33.4  \n",
       "4     18.7  396.90   5.33  36.2  "
      ]
     },
     "execution_count": 132,
     "metadata": {},
     "output_type": "execute_result"
    }
   ],
   "source": [
    "bostonDF=pd.read_csv('boston.csv')\n",
    "bostonDF.head()"
   ]
  },
  {
   "cell_type": "code",
   "execution_count": 133,
   "metadata": {},
   "outputs": [
    {
     "name": "stdout",
     "output_type": "stream",
     "text": [
      "<class 'pandas.core.frame.DataFrame'>\n",
      "RangeIndex: 506 entries, 0 to 505\n",
      "Data columns (total 14 columns):\n",
      " #   Column   Non-Null Count  Dtype  \n",
      "---  ------   --------------  -----  \n",
      " 0   CRIM     506 non-null    float64\n",
      " 1   ZN       506 non-null    float64\n",
      " 2   INDUS    506 non-null    float64\n",
      " 3   CHAS     506 non-null    int64  \n",
      " 4   NOX      506 non-null    float64\n",
      " 5   RM       506 non-null    float64\n",
      " 6   AGE      506 non-null    float64\n",
      " 7   DIS      506 non-null    float64\n",
      " 8   RAD      506 non-null    int64  \n",
      " 9   TAX      506 non-null    float64\n",
      " 10  PTRATIO  506 non-null    float64\n",
      " 11  B        506 non-null    float64\n",
      " 12  LSTAT    506 non-null    float64\n",
      " 13  MEDV     506 non-null    float64\n",
      "dtypes: float64(12), int64(2)\n",
      "memory usage: 55.5 KB\n"
     ]
    }
   ],
   "source": [
    "bostonDF.info()"
   ]
  },
  {
   "cell_type": "code",
   "execution_count": 134,
   "metadata": {},
   "outputs": [
    {
     "name": "stdout",
     "output_type": "stream",
     "text": [
      "feature : torch.Size([506, 13]), target : torch.Size([506, 1])\n"
     ]
    }
   ],
   "source": [
    "target=bostonDF[['MEDV']]\n",
    "feature=bostonDF.drop(columns='MEDV')\n",
    "\n",
    "# tensor로 변경\n",
    "featureTS=torch.from_numpy(feature.values).float()\n",
    "targetTS=torch.from_numpy(target.values).float()\n",
    "\n",
    "print(f'feature : {featureTS.shape}, target : {targetTS.shape}')"
   ]
  },
  {
   "cell_type": "code",
   "execution_count": 135,
   "metadata": {},
   "outputs": [
    {
     "name": "stdout",
     "output_type": "stream",
     "text": [
      "X_train : torch.Size([323, 13]), X_val : torch.Size([81, 13]), X_test : torch.Size([102, 13])\n",
      "y_train : torch.Size([323, 1]), y_val : torch.Size([81, 1]), y_test : torch.Size([102, 1])\n"
     ]
    }
   ],
   "source": [
    "# 데이터셋 분리\n",
    "X_train,X_test,y_train,y_test=train_test_split(featureTS,targetTS,\n",
    "                                               test_size=0.2)\n",
    "\n",
    "X_train,X_val,y_train,y_val=train_test_split(X_train,y_train,\n",
    "                                             test_size=0.2)\n",
    "\n",
    "print(f'X_train : {X_train.shape}, X_val : {X_val.shape}, X_test : {X_test.shape}')\n",
    "print(f'y_train : {y_train.shape}, y_val : {y_val.shape}, y_test : {y_test.shape}')"
   ]
  },
  {
   "cell_type": "code",
   "execution_count": 136,
   "metadata": {},
   "outputs": [],
   "source": [
    "# 모델 인스턴스 호출\n",
    "model=nn.Linear(13,1)\n",
    "opti=optimize.Adam(model.parameters(),lr=0.1)"
   ]
  },
  {
   "cell_type": "code",
   "execution_count": 137,
   "metadata": {},
   "outputs": [],
   "source": [
    "def testing(X,Y):\n",
    "    with torch.no_grad():\n",
    "        \n",
    "        pred_y=model(X)\n",
    "\n",
    "        test_loss=f.mse_loss(pred_y,Y)\n",
    "\n",
    "    return test_loss"
   ]
  },
  {
   "cell_type": "code",
   "execution_count": 138,
   "metadata": {},
   "outputs": [],
   "source": [
    "def training(X_train,y_train,X_val,y_val,X_test,y_test,EPOCH):\n",
    "    loss_list=[[],[],[]]\n",
    "    for epoch in range(EPOCH):\n",
    "        pred_y=model(X_train)\n",
    "        \n",
    "        # train, val, test\n",
    "        \n",
    "\n",
    "        # train\n",
    "        train_loss=f.mse_loss(pred_y,y_train)\n",
    "\n",
    "        opti.zero_grad()\n",
    "        train_loss.backward()\n",
    "        opti.step()\n",
    "        loss_list[0].append(train_loss.item())\n",
    "\n",
    "        # val\n",
    "        val_loss=testing(X_val,y_val)\n",
    "        loss_list[1].append(val_loss.item())\n",
    "\n",
    "        # testing\n",
    "        test_loss=testing(X_test,y_test)\n",
    "        loss_list[2].append(test_loss.item())\n",
    "\n",
    "\n",
    "        print(f'[{epoch+1}/{EPOCH}] train_loss : {train_loss}, val_loss : {val_loss}, test_loss : {test_loss}')\n",
    "    \n",
    "    return loss_list"
   ]
  },
  {
   "cell_type": "code",
   "execution_count": 139,
   "metadata": {},
   "outputs": [
    {
     "name": "stdout",
     "output_type": "stream",
     "text": [
      "[1/50] train_loss : 3230.490234375, val_loss : 2176.606201171875, test_loss : 1856.00732421875\n",
      "[2/50] train_loss : 2117.16455078125, val_loss : 2656.322021484375, test_loss : 2362.873046875\n",
      "[3/50] train_loss : 2609.2626953125, val_loss : 614.92626953125, test_loss : 548.4346923828125\n",
      "[4/50] train_loss : 627.6748046875, val_loss : 415.8515625, test_loss : 800.337158203125\n",
      "[5/50] train_loss : 542.2169189453125, val_loss : 1277.8380126953125, test_loss : 1948.891845703125\n",
      "[6/50] train_loss : 1474.2156982421875, val_loss : 1030.0733642578125, test_loss : 1552.9296875\n",
      "[7/50] train_loss : 1186.4139404296875, val_loss : 256.7109680175781, test_loss : 465.4420166015625\n",
      "[8/50] train_loss : 333.63031005859375, val_loss : 185.04757690429688, test_loss : 217.86598205566406\n",
      "[9/50] train_loss : 220.21713256835938, val_loss : 707.7321166992188, test_loss : 744.1510620117188\n",
      "[10/50] train_loss : 746.2052001953125, val_loss : 856.0534057617188, test_loss : 923.0215454101562\n",
      "[11/50] train_loss : 901.3196411132812, val_loss : 454.65667724609375, test_loss : 507.5430603027344\n",
      "[12/50] train_loss : 492.8701477050781, val_loss : 135.034912109375, test_loss : 184.10523986816406\n",
      "[13/50] train_loss : 169.28717041015625, val_loss : 275.1884765625, test_loss : 369.57086181640625\n",
      "[14/50] train_loss : 320.6764221191406, val_loss : 541.559814453125, test_loss : 682.2385864257812\n",
      "[15/50] train_loss : 600.86083984375, val_loss : 492.5481262207031, test_loss : 622.1085815429688\n",
      "[16/50] train_loss : 550.7932739257812, val_loss : 221.1052703857422, test_loss : 298.79638671875\n",
      "[17/50] train_loss : 265.3066101074219, val_loss : 109.0915298461914, test_loss : 151.186279296875\n",
      "[18/50] train_loss : 140.2576141357422, val_loss : 255.00772094726562, test_loss : 296.4256896972656\n",
      "[19/50] train_loss : 280.34857177734375, val_loss : 382.7684326171875, test_loss : 427.4059143066406\n",
      "[20/50] train_loss : 404.3687438964844, val_loss : 289.2664794921875, test_loss : 321.45037841796875\n",
      "[21/50] train_loss : 306.8769226074219, val_loss : 113.4375991821289, test_loss : 141.25347900390625\n",
      "[22/50] train_loss : 133.72987365722656, val_loss : 80.22966003417969, test_loss : 137.43751525878906\n",
      "[23/50] train_loss : 114.65141296386719, val_loss : 175.90147399902344, test_loss : 278.2953186035156\n",
      "[24/50] train_loss : 227.47198486328125, val_loss : 211.4871063232422, test_loss : 330.4787902832031\n",
      "[25/50] train_loss : 268.1504211425781, val_loss : 130.58787536621094, test_loss : 221.82183837890625\n",
      "[26/50] train_loss : 175.05636596679688, val_loss : 69.69432067871094, test_loss : 115.28790283203125\n",
      "[27/50] train_loss : 93.46736907958984, val_loss : 122.88619995117188, test_loss : 136.4110107421875\n",
      "[28/50] train_loss : 129.52874755859375, val_loss : 200.77830505371094, test_loss : 202.45884704589844\n",
      "[29/50] train_loss : 199.41937255859375, val_loss : 183.17849731445312, test_loss : 186.05349731445312\n",
      "[30/50] train_loss : 182.82139587402344, val_loss : 100.97272491455078, test_loss : 118.1179428100586\n",
      "[31/50] train_loss : 109.55452728271484, val_loss : 67.2783203125, test_loss : 112.79429626464844\n",
      "[32/50] train_loss : 89.9762954711914, val_loss : 99.35553741455078, test_loss : 172.65721130371094\n",
      "[33/50] train_loss : 134.2345733642578, val_loss : 114.44564056396484, test_loss : 193.26766967773438\n",
      "[34/50] train_loss : 152.04547119140625, val_loss : 79.09015655517578, test_loss : 138.32713317871094\n",
      "[35/50] train_loss : 109.51083374023438, val_loss : 53.533626556396484, test_loss : 87.35655975341797\n",
      "[36/50] train_loss : 73.81351470947266, val_loss : 77.2753677368164, test_loss : 97.48078155517578\n",
      "[37/50] train_loss : 91.25737762451172, val_loss : 103.77782440185547, test_loss : 122.20833587646484\n",
      "[38/50] train_loss : 116.62938690185547, val_loss : 85.69384765625, test_loss : 106.59353637695312\n",
      "[39/50] train_loss : 100.55010223388672, val_loss : 52.16146469116211, test_loss : 78.10611724853516\n",
      "[40/50] train_loss : 70.67684936523438, val_loss : 51.218482971191406, test_loss : 85.28369140625\n",
      "[41/50] train_loss : 73.9100570678711, val_loss : 70.20218658447266, test_loss : 110.08708953857422\n",
      "[42/50] train_loss : 95.35383605957031, val_loss : 68.33171844482422, test_loss : 106.00265502929688\n",
      "[43/50] train_loss : 92.60881805419922, val_loss : 50.19437026977539, test_loss : 80.70771789550781\n",
      "[44/50] train_loss : 71.51030731201172, val_loss : 49.409122467041016, test_loss : 75.35795593261719\n",
      "[45/50] train_loss : 68.29495239257812, val_loss : 64.48947143554688, test_loss : 89.97660064697266\n",
      "[46/50] train_loss : 82.41095733642578, val_loss : 65.51406860351562, test_loss : 90.88465881347656\n",
      "[47/50] train_loss : 83.21476745605469, val_loss : 50.34412384033203, test_loss : 75.29071807861328\n",
      "[48/50] train_loss : 68.3365249633789, val_loss : 44.24930953979492, test_loss : 71.08332061767578\n",
      "[49/50] train_loss : 63.40121841430664, val_loss : 51.68593215942383, test_loss : 81.8749771118164\n",
      "[50/50] train_loss : 72.18069458007812, val_loss : 52.924869537353516, test_loss : 83.69611358642578\n"
     ]
    }
   ],
   "source": [
    "epoch=50\n",
    "loss_list=training(X_train,y_train,X_val,y_val,X_test,y_test,epoch)"
   ]
  },
  {
   "cell_type": "code",
   "execution_count": 140,
   "metadata": {},
   "outputs": [
    {
     "data": {
      "image/png": "[encoded data removed]",
      "text/plain": [
       "<Figure size 640x480 with 1 Axes>"
      ]
     },
     "metadata": {},
     "output_type": "display_data"
    }
   ],
   "source": [
    "plt.plot(range(1,epoch+1),loss_list[0],label='train')\n",
    "plt.plot(range(1,epoch+1),loss_list[1],label='val')\n",
    "plt.plot(range(1,epoch+1),loss_list[2],label='test')\n",
    "plt.grid()\n",
    "plt.xlabel('Epoch')\n",
    "plt.ylabel('Loss')\n",
    "plt.legend()\n",
    "plt.show()"
   ]
  },
  {
   "cell_type": "code",
   "execution_count": null,
   "metadata": {},
   "outputs": [],
   "source": []
  }
 ],
 "metadata": {
  "kernelspec": {
   "display_name": "TORCH_38",
   "language": "python",
   "name": "python3"
  },
  "language_info": {
   "codemirror_mode": {
    "name": "ipython",
    "version": 3
   },
   "file_extension": ".py",
   "mimetype": "text/x-python",
   "name": "python",
   "nbconvert_exporter": "python",
   "pygments_lexer": "ipython3",
   "version": "3.8.19"
  }
 },
 "nbformat": 4,
 "nbformat_minor": 2
}

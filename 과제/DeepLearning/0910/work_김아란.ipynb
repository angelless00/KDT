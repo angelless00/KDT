{
 "cells": [
  {
   "cell_type": "markdown",
   "metadata": {},
   "source": [
    "- 보스턴 집값예측\n",
    "- linear"
   ]
  },
  {
   "cell_type": "code",
   "execution_count": 100,
   "metadata": {},
   "outputs": [],
   "source": [
    "import pandas as pd\n",
    "import torch\n",
    "import torch.nn.functional as f\n",
    "import torch.nn as nn\n",
    "import torch.optim as optimize\n",
    "import matplotlib.pyplot as plt\n",
    "from sklearn.model_selection import train_test_split\n",
    "\n",
    "from sklearn.preprocessing import MinMaxScaler"
   ]
  },
  {
   "cell_type": "code",
   "execution_count": 101,
   "metadata": {},
   "outputs": [
    {
     "data": {
      "text/html": [
       "<div>\n",
       "<style scoped>\n",
       "    .dataframe tbody tr th:only-of-type {\n",
       "        vertical-align: middle;\n",
       "    }\n",
       "\n",
       "    .dataframe tbody tr th {\n",
       "        vertical-align: top;\n",
       "    }\n",
       "\n",
       "    .dataframe thead th {\n",
       "        text-align: right;\n",
       "    }\n",
       "</style>\n",
       "<table border=\"1\" class=\"dataframe\">\n",
       "  <thead>\n",
       "    <tr style=\"text-align: right;\">\n",
       "      <th></th>\n",
       "      <th>CRIM</th>\n",
       "      <th>ZN</th>\n",
       "      <th>INDUS</th>\n",
       "      <th>CHAS</th>\n",
       "      <th>NOX</th>\n",
       "      <th>RM</th>\n",
       "      <th>AGE</th>\n",
       "      <th>DIS</th>\n",
       "      <th>RAD</th>\n",
       "      <th>TAX</th>\n",
       "      <th>PTRATIO</th>\n",
       "      <th>B</th>\n",
       "      <th>LSTAT</th>\n",
       "      <th>MEDV</th>\n",
       "    </tr>\n",
       "  </thead>\n",
       "  <tbody>\n",
       "    <tr>\n",
       "      <th>0</th>\n",
       "      <td>0.00632</td>\n",
       "      <td>18.0</td>\n",
       "      <td>2.31</td>\n",
       "      <td>0</td>\n",
       "      <td>0.538</td>\n",
       "      <td>6.575</td>\n",
       "      <td>65.2</td>\n",
       "      <td>4.0900</td>\n",
       "      <td>1</td>\n",
       "      <td>296.0</td>\n",
       "      <td>15.3</td>\n",
       "      <td>396.90</td>\n",
       "      <td>4.98</td>\n",
       "      <td>24.0</td>\n",
       "    </tr>\n",
       "    <tr>\n",
       "      <th>1</th>\n",
       "      <td>0.02731</td>\n",
       "      <td>0.0</td>\n",
       "      <td>7.07</td>\n",
       "      <td>0</td>\n",
       "      <td>0.469</td>\n",
       "      <td>6.421</td>\n",
       "      <td>78.9</td>\n",
       "      <td>4.9671</td>\n",
       "      <td>2</td>\n",
       "      <td>242.0</td>\n",
       "      <td>17.8</td>\n",
       "      <td>396.90</td>\n",
       "      <td>9.14</td>\n",
       "      <td>21.6</td>\n",
       "    </tr>\n",
       "    <tr>\n",
       "      <th>2</th>\n",
       "      <td>0.02729</td>\n",
       "      <td>0.0</td>\n",
       "      <td>7.07</td>\n",
       "      <td>0</td>\n",
       "      <td>0.469</td>\n",
       "      <td>7.185</td>\n",
       "      <td>61.1</td>\n",
       "      <td>4.9671</td>\n",
       "      <td>2</td>\n",
       "      <td>242.0</td>\n",
       "      <td>17.8</td>\n",
       "      <td>392.83</td>\n",
       "      <td>4.03</td>\n",
       "      <td>34.7</td>\n",
       "    </tr>\n",
       "    <tr>\n",
       "      <th>3</th>\n",
       "      <td>0.03237</td>\n",
       "      <td>0.0</td>\n",
       "      <td>2.18</td>\n",
       "      <td>0</td>\n",
       "      <td>0.458</td>\n",
       "      <td>6.998</td>\n",
       "      <td>45.8</td>\n",
       "      <td>6.0622</td>\n",
       "      <td>3</td>\n",
       "      <td>222.0</td>\n",
       "      <td>18.7</td>\n",
       "      <td>394.63</td>\n",
       "      <td>2.94</td>\n",
       "      <td>33.4</td>\n",
       "    </tr>\n",
       "    <tr>\n",
       "      <th>4</th>\n",
       "      <td>0.06905</td>\n",
       "      <td>0.0</td>\n",
       "      <td>2.18</td>\n",
       "      <td>0</td>\n",
       "      <td>0.458</td>\n",
       "      <td>7.147</td>\n",
       "      <td>54.2</td>\n",
       "      <td>6.0622</td>\n",
       "      <td>3</td>\n",
       "      <td>222.0</td>\n",
       "      <td>18.7</td>\n",
       "      <td>396.90</td>\n",
       "      <td>5.33</td>\n",
       "      <td>36.2</td>\n",
       "    </tr>\n",
       "  </tbody>\n",
       "</table>\n",
       "</div>"
      ],
      "text/plain": [
       "      CRIM    ZN  INDUS  CHAS    NOX     RM   AGE     DIS  RAD    TAX  \\\n",
       "0  0.00632  18.0   2.31     0  0.538  6.575  65.2  4.0900    1  296.0   \n",
       "1  0.02731   0.0   7.07     0  0.469  6.421  78.9  4.9671    2  242.0   \n",
       "2  0.02729   0.0   7.07     0  0.469  7.185  61.1  4.9671    2  242.0   \n",
       "3  0.03237   0.0   2.18     0  0.458  6.998  45.8  6.0622    3  222.0   \n",
       "4  0.06905   0.0   2.18     0  0.458  7.147  54.2  6.0622    3  222.0   \n",
       "\n",
       "   PTRATIO       B  LSTAT  MEDV  \n",
       "0     15.3  396.90   4.98  24.0  \n",
       "1     17.8  396.90   9.14  21.6  \n",
       "2     17.8  392.83   4.03  34.7  \n",
       "3     18.7  394.63   2.94  33.4  \n",
       "4     18.7  396.90   5.33  36.2  "
      ]
     },
     "execution_count": 101,
     "metadata": {},
     "output_type": "execute_result"
    }
   ],
   "source": [
    "bostonDF=pd.read_csv('boston.csv')\n",
    "bostonDF.head()"
   ]
  },
  {
   "cell_type": "code",
   "execution_count": 102,
   "metadata": {},
   "outputs": [
    {
     "name": "stdout",
     "output_type": "stream",
     "text": [
      "<class 'pandas.core.frame.DataFrame'>\n",
      "RangeIndex: 506 entries, 0 to 505\n",
      "Data columns (total 14 columns):\n",
      " #   Column   Non-Null Count  Dtype  \n",
      "---  ------   --------------  -----  \n",
      " 0   CRIM     506 non-null    float64\n",
      " 1   ZN       506 non-null    float64\n",
      " 2   INDUS    506 non-null    float64\n",
      " 3   CHAS     506 non-null    int64  \n",
      " 4   NOX      506 non-null    float64\n",
      " 5   RM       506 non-null    float64\n",
      " 6   AGE      506 non-null    float64\n",
      " 7   DIS      506 non-null    float64\n",
      " 8   RAD      506 non-null    int64  \n",
      " 9   TAX      506 non-null    float64\n",
      " 10  PTRATIO  506 non-null    float64\n",
      " 11  B        506 non-null    float64\n",
      " 12  LSTAT    506 non-null    float64\n",
      " 13  MEDV     506 non-null    float64\n",
      "dtypes: float64(12), int64(2)\n",
      "memory usage: 55.5 KB\n"
     ]
    }
   ],
   "source": [
    "bostonDF.info()"
   ]
  },
  {
   "cell_type": "code",
   "execution_count": 103,
   "metadata": {},
   "outputs": [
    {
     "name": "stdout",
     "output_type": "stream",
     "text": [
      "feature : torch.Size([506, 13]), target : torch.Size([506, 1])\n"
     ]
    }
   ],
   "source": [
    "target=bostonDF[['MEDV']]\n",
    "feature=bostonDF.drop(columns='MEDV')\n",
    "\n",
    "# tensor로 변경\n",
    "featureTS=torch.from_numpy(feature.values).float()\n",
    "targetTS=torch.from_numpy(target.values).float()\n",
    "\n",
    "print(f'feature : {featureTS.shape}, target : {targetTS.shape}')"
   ]
  },
  {
   "cell_type": "code",
   "execution_count": 104,
   "metadata": {},
   "outputs": [
    {
     "name": "stdout",
     "output_type": "stream",
     "text": [
      "X_train : torch.Size([323, 13]), X_val : torch.Size([81, 13]), X_test : torch.Size([102, 13])\n",
      "y_train : torch.Size([323, 1]), y_val : torch.Size([81, 1]), y_test : torch.Size([102, 1])\n"
     ]
    }
   ],
   "source": [
    "# 데이터셋 분리\n",
    "X_train,X_test,y_train,y_test=train_test_split(featureTS,targetTS,\n",
    "                                               test_size=0.2)\n",
    "\n",
    "X_train,X_val,y_train,y_val=train_test_split(X_train,y_train,\n",
    "                                             test_size=0.2)\n",
    "\n",
    "print(f'X_train : {X_train.shape}, X_val : {X_val.shape}, X_test : {X_test.shape}')\n",
    "print(f'y_train : {y_train.shape}, y_val : {y_val.shape}, y_test : {y_test.shape}')"
   ]
  },
  {
   "cell_type": "code",
   "execution_count": 105,
   "metadata": {},
   "outputs": [],
   "source": [
    "# 스케일링\n",
    "scale=MinMaxScaler()\n",
    "scale.fit(X_train)\n",
    "X_train=torch.from_numpy(scale.transform(X_train)).float()\n",
    "X_val=torch.from_numpy(scale.transform(X_val)).float()\n",
    "X_test=torch.from_numpy(scale.transform(X_test)).float()"
   ]
  },
  {
   "cell_type": "code",
   "execution_count": 106,
   "metadata": {},
   "outputs": [],
   "source": [
    "# 모델 인스턴스 호출\n",
    "model=nn.Linear(13,1)\n",
    "opti=optimize.Adam(model.parameters(),lr=1)"
   ]
  },
  {
   "cell_type": "code",
   "execution_count": 107,
   "metadata": {},
   "outputs": [],
   "source": [
    "def testing(X,Y):\n",
    "    with torch.no_grad():\n",
    "        \n",
    "        pred_y=model(X)\n",
    "\n",
    "        test_loss=f.mse_loss(pred_y,Y)\n",
    "\n",
    "    return test_loss"
   ]
  },
  {
   "cell_type": "code",
   "execution_count": 108,
   "metadata": {},
   "outputs": [],
   "source": [
    "def training(X_train,y_train,X_val,y_val,X_test,y_test,EPOCH):\n",
    "    loss_list=[[],[],[]]\n",
    "    for epoch in range(EPOCH):\n",
    "        pred_y=model(X_train)\n",
    "        \n",
    "        # train, val, test\n",
    "        \n",
    "\n",
    "        # train\n",
    "        train_loss=f.mse_loss(pred_y,y_train)\n",
    "\n",
    "        opti.zero_grad()\n",
    "        train_loss.backward()\n",
    "        opti.step()\n",
    "        loss_list[0].append(train_loss.item())\n",
    "\n",
    "        # val\n",
    "        val_loss=testing(X_val,y_val)\n",
    "        loss_list[1].append(val_loss.item())\n",
    "\n",
    "        # testing\n",
    "        test_loss=testing(X_test,y_test)\n",
    "        loss_list[2].append(test_loss.item())\n",
    "\n",
    "\n",
    "        print(f'[{epoch+1}/{EPOCH}] train_loss : {train_loss}, val_loss : {val_loss}, test_loss : {test_loss}')\n",
    "    \n",
    "    return loss_list"
   ]
  },
  {
   "cell_type": "code",
   "execution_count": 109,
   "metadata": {},
   "outputs": [
    {
     "name": "stdout",
     "output_type": "stream",
     "text": [
      "[1/100] train_loss : 553.7681884765625, val_loss : 388.3118591308594, test_loss : 384.7665100097656\n",
      "[2/100] train_loss : 340.91552734375, val_loss : 243.55352783203125, test_loss : 232.6539764404297\n",
      "[3/100] train_loss : 205.994384765625, val_loss : 169.69349670410156, test_loss : 151.1025848388672\n",
      "[4/100] train_loss : 143.42649841308594, val_loss : 151.53834533691406, test_loss : 126.00008392333984\n",
      "[5/100] train_loss : 136.4529266357422, val_loss : 163.3435516357422, test_loss : 133.04527282714844\n",
      "[6/100] train_loss : 157.51962280273438, val_loss : 179.14990234375, test_loss : 147.12921142578125\n",
      "[7/100] train_loss : 179.4918212890625, val_loss : 183.73394775390625, test_loss : 152.79576110839844\n",
      "[8/100] train_loss : 186.9633026123047, val_loss : 173.60928344726562, test_loss : 145.71644592285156\n",
      "[9/100] train_loss : 176.947998046875, val_loss : 152.42665100097656, test_loss : 128.637451171875\n",
      "[10/100] train_loss : 153.86109924316406, val_loss : 126.59184265136719, test_loss : 107.23165893554688\n",
      "[11/100] train_loss : 124.89178466796875, val_loss : 102.48094177246094, test_loss : 87.35140228271484\n",
      "[12/100] train_loss : 97.11412048339844, val_loss : 84.85919952392578, test_loss : 73.42532348632812\n",
      "[13/100] train_loss : 75.86811065673828, val_loss : 76.047607421875, test_loss : 67.60028839111328\n",
      "[14/100] train_loss : 63.910011291503906, val_loss : 75.67909240722656, test_loss : 69.47969818115234\n",
      "[15/100] train_loss : 61.15915298461914, val_loss : 81.09439086914062, test_loss : 76.49798583984375\n",
      "[16/100] train_loss : 65.09255981445312, val_loss : 88.37971496582031, test_loss : 84.92139434814453\n",
      "[17/100] train_loss : 71.79862976074219, val_loss : 93.75855255126953, test_loss : 91.18622589111328\n",
      "[18/100] train_loss : 77.40581512451172, val_loss : 94.78863525390625, test_loss : 93.04048156738281\n",
      "[19/100] train_loss : 79.32845306396484, val_loss : 90.9017562866211, test_loss : 90.04527282714844\n",
      "[20/100] train_loss : 76.84838104248047, val_loss : 83.2074203491211, test_loss : 83.3662109375\n",
      "[21/100] train_loss : 70.94036865234375, val_loss : 73.81346893310547, test_loss : 75.10247039794922\n",
      "[22/100] train_loss : 63.593326568603516, val_loss : 65.00148010253906, test_loss : 67.4819107055664\n",
      "[23/100] train_loss : 56.97444152832031, val_loss : 58.51724624633789, test_loss : 62.173587799072266\n",
      "[24/100] train_loss : 52.7069091796875, val_loss : 55.134193420410156, test_loss : 59.87143325805664\n",
      "[25/100] train_loss : 51.42810821533203, val_loss : 54.567195892333984, test_loss : 60.22444152832031\n",
      "[26/100] train_loss : 52.71009063720703, val_loss : 55.730709075927734, test_loss : 62.10504150390625\n",
      "[27/100] train_loss : 55.33553695678711, val_loss : 57.231781005859375, test_loss : 64.10565185546875\n",
      "[28/100] train_loss : 57.81373977661133, val_loss : 57.90299606323242, test_loss : 65.06842803955078\n",
      "[29/100] train_loss : 58.932891845703125, val_loss : 57.17317199707031, test_loss : 64.44876861572266\n",
      "[30/100] train_loss : 58.139041900634766, val_loss : 55.161109924316406, test_loss : 62.40106201171875\n",
      "[31/100] train_loss : 55.62430953979492, val_loss : 52.50444793701172, test_loss : 59.60161209106445\n",
      "[32/100] train_loss : 52.13960266113281, val_loss : 50.03134536743164, test_loss : 56.917083740234375\n",
      "[33/100] train_loss : 48.64491271972656, val_loss : 48.4157600402832, test_loss : 55.057838439941406\n",
      "[34/100] train_loss : 45.94343185424805, val_loss : 47.9371223449707, test_loss : 54.33611297607422\n",
      "[35/100] train_loss : 44.42490768432617, val_loss : 48.4155387878418, test_loss : 54.59868240356445\n",
      "[36/100] train_loss : 43.99120330810547, val_loss : 49.3269157409668, test_loss : 55.338836669921875\n",
      "[37/100] train_loss : 44.16916275024414, val_loss : 50.03721237182617, test_loss : 55.92804718017578\n",
      "[38/100] train_loss : 44.34836196899414, val_loss : 50.05317306518555, test_loss : 55.86626434326172\n",
      "[39/100] train_loss : 44.03841781616211, val_loss : 49.18961715698242, test_loss : 54.951717376708984\n",
      "[40/100] train_loss : 43.04267120361328, val_loss : 47.59803009033203, test_loss : 53.31478500366211\n",
      "[41/100] train_loss : 41.4910774230957, val_loss : 45.66446304321289, test_loss : 51.32249450683594\n",
      "[42/100] train_loss : 39.739688873291016, val_loss : 43.83441925048828, test_loss : 49.40922927856445\n",
      "[43/100] train_loss : 38.19572830200195, val_loss : 42.44172668457031, test_loss : 47.90916442871094\n",
      "[44/100] train_loss : 37.1472053527832, val_loss : 41.60606384277344, test_loss : 46.9538688659668\n",
      "[45/100] train_loss : 36.66340637207031, val_loss : 41.22924041748047, test_loss : 46.46512985229492\n",
      "[46/100] train_loss : 36.596858978271484, val_loss : 41.077781677246094, test_loss : 46.231815338134766\n",
      "[47/100] train_loss : 36.673213958740234, val_loss : 40.90584182739258, test_loss : 46.02654266357422\n",
      "[48/100] train_loss : 36.62118911743164, val_loss : 40.56105422973633, test_loss : 45.706764221191406\n",
      "[49/100] train_loss : 36.28253936767578, val_loss : 40.03053283691406, test_loss : 45.25887680053711\n",
      "[50/100] train_loss : 35.65821838378906, val_loss : 39.416603088378906, test_loss : 44.775272369384766\n",
      "[51/100] train_loss : 34.8800163269043, val_loss : 38.863826751708984, test_loss : 44.38483810424805\n",
      "[52/100] train_loss : 34.130706787109375, val_loss : 38.47734069824219, test_loss : 44.1759147644043\n",
      "[53/100] train_loss : 33.55473709106445, val_loss : 38.27069854736328, test_loss : 44.148094177246094\n",
      "[54/100] train_loss : 33.199462890625, val_loss : 38.16333770751953, test_loss : 44.21222686767578\n",
      "[55/100] train_loss : 33.00850296020508, val_loss : 38.02311325073242, test_loss : 44.23357009887695\n",
      "[56/100] train_loss : 32.8627815246582, val_loss : 37.72918701171875, test_loss : 44.093650817871094\n",
      "[57/100] train_loss : 32.64413833618164, val_loss : 37.22418212890625, test_loss : 43.74038314819336\n",
      "[58/100] train_loss : 32.28936767578125, val_loss : 36.532981872558594, test_loss : 43.20464324951172\n",
      "[59/100] train_loss : 31.81109046936035, val_loss : 35.74373245239258, test_loss : 42.579471588134766\n",
      "[60/100] train_loss : 31.280696868896484, val_loss : 34.96446990966797, test_loss : 41.975528717041016\n",
      "[61/100] train_loss : 30.786556243896484, val_loss : 34.278141021728516, test_loss : 41.4755859375\n",
      "[62/100] train_loss : 30.39068031311035, val_loss : 33.71609878540039, test_loss : 41.108116149902344\n",
      "[63/100] train_loss : 30.104368209838867, val_loss : 33.25917053222656, test_loss : 40.84870910644531\n",
      "[64/100] train_loss : 29.891462326049805, val_loss : 32.860801696777344, test_loss : 40.64400863647461\n",
      "[65/100] train_loss : 29.693735122680664, val_loss : 32.477447509765625, test_loss : 40.44320297241211\n",
      "[66/100] train_loss : 29.462806701660156, val_loss : 32.09035873413086, test_loss : 40.22101593017578\n",
      "[67/100] train_loss : 29.18207359313965, val_loss : 31.709394454956055, test_loss : 39.98283004760742\n",
      "[68/100] train_loss : 28.869497299194336, val_loss : 31.36030387878418, test_loss : 39.7529411315918\n",
      "[69/100] train_loss : 28.562633514404297, val_loss : 31.06488800048828, test_loss : 39.555076599121094\n",
      "[70/100] train_loss : 28.296201705932617, val_loss : 30.825780868530273, test_loss : 39.39681625366211\n",
      "[71/100] train_loss : 28.08453369140625, val_loss : 30.623559951782227, test_loss : 39.26555633544922\n",
      "[72/100] train_loss : 27.917003631591797, val_loss : 30.426311492919922, test_loss : 39.13652420043945\n",
      "[73/100] train_loss : 27.766990661621094, val_loss : 30.20529556274414, test_loss : 38.98685073852539\n",
      "[74/100] train_loss : 27.607582092285156, val_loss : 29.947895050048828, test_loss : 38.807315826416016\n",
      "[75/100] train_loss : 27.425073623657227, val_loss : 29.661434173583984, test_loss : 38.60569381713867\n",
      "[76/100] train_loss : 27.223527908325195, val_loss : 29.36716079711914, test_loss : 38.40092086791992\n",
      "[77/100] train_loss : 27.01941680908203, val_loss : 29.088623046875, test_loss : 38.21226501464844\n",
      "[78/100] train_loss : 26.830686569213867, val_loss : 28.841054916381836, test_loss : 38.04986572265625\n",
      "[79/100] train_loss : 26.666873931884766, val_loss : 28.62691307067871, test_loss : 37.911319732666016\n",
      "[80/100] train_loss : 26.52536392211914, val_loss : 28.43850326538086, test_loss : 37.785125732421875\n",
      "[81/100] train_loss : 26.394824981689453, val_loss : 28.265016555786133, test_loss : 37.65839385986328\n",
      "[82/100] train_loss : 26.26280975341797, val_loss : 28.09929847717285, test_loss : 37.52372741699219\n",
      "[83/100] train_loss : 26.122756958007812, val_loss : 27.940670013427734, test_loss : 37.38206481933594\n",
      "[84/100] train_loss : 25.97665023803711, val_loss : 27.793058395385742, test_loss : 37.240509033203125\n",
      "[85/100] train_loss : 25.832487106323242, val_loss : 27.66033935546875, test_loss : 37.10723114013672\n",
      "[86/100] train_loss : 25.698856353759766, val_loss : 27.542251586914062, test_loss : 36.98680114746094\n",
      "[87/100] train_loss : 25.580001831054688, val_loss : 27.4333438873291, test_loss : 36.878440856933594\n",
      "[88/100] train_loss : 25.474103927612305, val_loss : 27.325273513793945, test_loss : 36.77768325805664\n",
      "[89/100] train_loss : 25.375221252441406, val_loss : 27.21084976196289, test_loss : 36.67988967895508\n",
      "[90/100] train_loss : 25.2772159576416, val_loss : 27.087308883666992, test_loss : 36.58319091796875\n",
      "[91/100] train_loss : 25.177139282226562, val_loss : 26.957088470458984, test_loss : 36.48925018310547\n",
      "[92/100] train_loss : 25.076196670532227, val_loss : 26.825952529907227, test_loss : 36.40165328979492\n",
      "[93/100] train_loss : 24.978200912475586, val_loss : 26.699857711791992, test_loss : 36.32318878173828\n",
      "[94/100] train_loss : 24.886734008789062, val_loss : 26.582368850708008, test_loss : 36.25387191772461\n",
      "[95/100] train_loss : 24.80294418334961, val_loss : 26.473907470703125, test_loss : 36.190731048583984\n",
      "[96/100] train_loss : 24.725149154663086, val_loss : 26.372751235961914, test_loss : 36.12934875488281\n",
      "[97/100] train_loss : 24.650182723999023, val_loss : 26.27689552307129, test_loss : 36.066062927246094\n",
      "[98/100] train_loss : 24.575407028198242, val_loss : 26.18538475036621, test_loss : 35.999507904052734\n",
      "[99/100] train_loss : 24.500102996826172, val_loss : 26.098478317260742, test_loss : 35.930816650390625\n",
      "[100/100] train_loss : 24.425508499145508, val_loss : 26.016830444335938, test_loss : 35.8625602722168\n"
     ]
    }
   ],
   "source": [
    "epoch=100\n",
    "loss_list=training(X_train,y_train,X_val,y_val,X_test,y_test,epoch)"
   ]
  },
  {
   "cell_type": "code",
   "execution_count": 110,
   "metadata": {},
   "outputs": [
    {
     "data": {
      "image/png": "[encoded data removed]",
      "text/plain": [
       "<Figure size 640x480 with 1 Axes>"
      ]
     },
     "metadata": {},
     "output_type": "display_data"
    }
   ],
   "source": [
    "plt.plot(range(1,epoch+1),loss_list[0],label='train')\n",
    "plt.plot(range(1,epoch+1),loss_list[1],label='val')\n",
    "plt.plot(range(1,epoch+1),loss_list[2],label='test')\n",
    "plt.grid()\n",
    "plt.xlabel('Epoch')\n",
    "plt.ylabel('Loss')\n",
    "plt.legend()\n",
    "plt.show()"
   ]
  },
  {
   "cell_type": "code",
   "execution_count": null,
   "metadata": {},
   "outputs": [],
   "source": []
  }
 ],
 "metadata": {
  "kernelspec": {
   "display_name": "TORCH_38",
   "language": "python",
   "name": "python3"
  },
  "language_info": {
   "codemirror_mode": {
    "name": "ipython",
    "version": 3
   },
   "file_extension": ".py",
   "mimetype": "text/x-python",
   "name": "python",
   "nbconvert_exporter": "python",
   "pygments_lexer": "ipython3",
   "version": "3.8.19"
  }
 },
 "nbformat": 4,
 "nbformat_minor": 2
}

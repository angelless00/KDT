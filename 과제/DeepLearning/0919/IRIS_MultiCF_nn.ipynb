{
 "cells": [
  {
   "cell_type": "markdown",
   "metadata": {},
   "source": [
    "### DNN 기반 다중분류 모델 구현 <hr>\n",
    "- 데이터셋 : iris.csv\n",
    "- 피쳐/속성 : 4개 Sepal_Length, Sepan_Width, Petal_ Length, Peatal_Width\n",
    "- 타겟/라벨 : 1개 variety\n",
    "- 학습방벙 : 지도학습 > 분류 > 다중 분류\n",
    "- 알고리즘 : 인공신경망 (ANN) -> MLP(Multi Layer Percetron),  심층신경망(DNN)(은닉층 多)\n",
    "- 프레임워크 : Pytorch\n",
    "---"
   ]
  },
  {
   "cell_type": "code",
   "execution_count": null,
   "metadata": {},
   "outputs": [],
   "source": []
  },
  {
   "cell_type": "markdown",
   "metadata": {},
   "source": [
    "[1] 모듈 로딩 및 데이터 준비  <hr>"
   ]
  },
  {
   "cell_type": "code",
   "execution_count": 1,
   "metadata": {},
   "outputs": [],
   "source": [
    "# 모듈로딩\n",
    "# Model 관련\n",
    "import torch\n",
    "import torch.nn as nn\n",
    "import torch.nn.functional as F\n",
    "from torch.utils.data import Dataset,DataLoader\n",
    "import torch.optim as optim\n",
    "from torchmetrics.classification import MulticlassF1Score\n",
    "from torchinfo import summary\n",
    "\n",
    "# - Data관련\n",
    "import pandas as pd\n",
    "import matplotlib.pyplot as plt\n",
    "from sklearn.preprocessing import *\n",
    "from sklearn.model_selection import train_test_split"
   ]
  },
  {
   "cell_type": "code",
   "execution_count": 2,
   "metadata": {},
   "outputs": [
    {
     "name": "stdout",
     "output_type": "stream",
     "text": [
      "Pytorch v.2.4.1\n",
      "Pandas v.2.0.3\n"
     ]
    }
   ],
   "source": [
    "# 활용 패키지 버전 체크 - 사용자 정의 함수로 구현할것!\n",
    "print(f'Pytorch v.{torch.__version__}')\n",
    "print(f'Pandas v.{pd.__version__}')"
   ]
  },
  {
   "cell_type": "code",
   "execution_count": 3,
   "metadata": {},
   "outputs": [
    {
     "data": {
      "text/html": [
       "<div>\n",
       "<style scoped>\n",
       "    .dataframe tbody tr th:only-of-type {\n",
       "        vertical-align: middle;\n",
       "    }\n",
       "\n",
       "    .dataframe tbody tr th {\n",
       "        vertical-align: top;\n",
       "    }\n",
       "\n",
       "    .dataframe thead th {\n",
       "        text-align: right;\n",
       "    }\n",
       "</style>\n",
       "<table border=\"1\" class=\"dataframe\">\n",
       "  <thead>\n",
       "    <tr style=\"text-align: right;\">\n",
       "      <th></th>\n",
       "      <th>sepal.length</th>\n",
       "      <th>sepal.width</th>\n",
       "      <th>petal.length</th>\n",
       "      <th>petal.width</th>\n",
       "      <th>variety</th>\n",
       "    </tr>\n",
       "  </thead>\n",
       "  <tbody>\n",
       "    <tr>\n",
       "      <th>0</th>\n",
       "      <td>5.1</td>\n",
       "      <td>3.5</td>\n",
       "      <td>1.4</td>\n",
       "      <td>0.2</td>\n",
       "      <td>Setosa</td>\n",
       "    </tr>\n",
       "    <tr>\n",
       "      <th>1</th>\n",
       "      <td>4.9</td>\n",
       "      <td>3.0</td>\n",
       "      <td>1.4</td>\n",
       "      <td>0.2</td>\n",
       "      <td>Setosa</td>\n",
       "    </tr>\n",
       "    <tr>\n",
       "      <th>2</th>\n",
       "      <td>4.7</td>\n",
       "      <td>3.2</td>\n",
       "      <td>1.3</td>\n",
       "      <td>0.2</td>\n",
       "      <td>Setosa</td>\n",
       "    </tr>\n",
       "    <tr>\n",
       "      <th>3</th>\n",
       "      <td>4.6</td>\n",
       "      <td>3.1</td>\n",
       "      <td>1.5</td>\n",
       "      <td>0.2</td>\n",
       "      <td>Setosa</td>\n",
       "    </tr>\n",
       "    <tr>\n",
       "      <th>4</th>\n",
       "      <td>5.0</td>\n",
       "      <td>3.6</td>\n",
       "      <td>1.4</td>\n",
       "      <td>0.2</td>\n",
       "      <td>Setosa</td>\n",
       "    </tr>\n",
       "  </tbody>\n",
       "</table>\n",
       "</div>"
      ],
      "text/plain": [
       "   sepal.length  sepal.width  petal.length  petal.width variety\n",
       "0           5.1          3.5           1.4          0.2  Setosa\n",
       "1           4.9          3.0           1.4          0.2  Setosa\n",
       "2           4.7          3.2           1.3          0.2  Setosa\n",
       "3           4.6          3.1           1.5          0.2  Setosa\n",
       "4           5.0          3.6           1.4          0.2  Setosa"
      ]
     },
     "execution_count": 3,
     "metadata": {},
     "output_type": "execute_result"
    }
   ],
   "source": [
    "## 데이터로딩\n",
    "DATA_FILE='../../../수업/MachineLearning/data/iris.csv'\n",
    "\n",
    "## CSV >> DataFrame\n",
    "irisDF=pd.read_csv(DATA_FILE)\n",
    "\n",
    "## 확인\n",
    "irisDF.head()"
   ]
  },
  {
   "cell_type": "code",
   "execution_count": 4,
   "metadata": {},
   "outputs": [
    {
     "name": "stdout",
     "output_type": "stream",
     "text": [
      "labels=> {'Setosa': 0, 'Versicolor': 1, 'Virginica': 2}\n"
     ]
    },
    {
     "data": {
      "text/html": [
       "<div>\n",
       "<style scoped>\n",
       "    .dataframe tbody tr th:only-of-type {\n",
       "        vertical-align: middle;\n",
       "    }\n",
       "\n",
       "    .dataframe tbody tr th {\n",
       "        vertical-align: top;\n",
       "    }\n",
       "\n",
       "    .dataframe thead th {\n",
       "        text-align: right;\n",
       "    }\n",
       "</style>\n",
       "<table border=\"1\" class=\"dataframe\">\n",
       "  <thead>\n",
       "    <tr style=\"text-align: right;\">\n",
       "      <th></th>\n",
       "      <th>sepal.length</th>\n",
       "      <th>sepal.width</th>\n",
       "      <th>petal.length</th>\n",
       "      <th>petal.width</th>\n",
       "      <th>variety</th>\n",
       "    </tr>\n",
       "  </thead>\n",
       "  <tbody>\n",
       "    <tr>\n",
       "      <th>0</th>\n",
       "      <td>5.1</td>\n",
       "      <td>3.5</td>\n",
       "      <td>1.4</td>\n",
       "      <td>0.2</td>\n",
       "      <td>0</td>\n",
       "    </tr>\n",
       "    <tr>\n",
       "      <th>1</th>\n",
       "      <td>4.9</td>\n",
       "      <td>3.0</td>\n",
       "      <td>1.4</td>\n",
       "      <td>0.2</td>\n",
       "      <td>0</td>\n",
       "    </tr>\n",
       "    <tr>\n",
       "      <th>2</th>\n",
       "      <td>4.7</td>\n",
       "      <td>3.2</td>\n",
       "      <td>1.3</td>\n",
       "      <td>0.2</td>\n",
       "      <td>0</td>\n",
       "    </tr>\n",
       "    <tr>\n",
       "      <th>3</th>\n",
       "      <td>4.6</td>\n",
       "      <td>3.1</td>\n",
       "      <td>1.5</td>\n",
       "      <td>0.2</td>\n",
       "      <td>0</td>\n",
       "    </tr>\n",
       "    <tr>\n",
       "      <th>4</th>\n",
       "      <td>5.0</td>\n",
       "      <td>3.6</td>\n",
       "      <td>1.4</td>\n",
       "      <td>0.2</td>\n",
       "      <td>0</td>\n",
       "    </tr>\n",
       "  </tbody>\n",
       "</table>\n",
       "</div>"
      ],
      "text/plain": [
       "   sepal.length  sepal.width  petal.length  petal.width  variety\n",
       "0           5.1          3.5           1.4          0.2        0\n",
       "1           4.9          3.0           1.4          0.2        0\n",
       "2           4.7          3.2           1.3          0.2        0\n",
       "3           4.6          3.1           1.5          0.2        0\n",
       "4           5.0          3.6           1.4          0.2        0"
      ]
     },
     "execution_count": 4,
     "metadata": {},
     "output_type": "execute_result"
    }
   ],
   "source": [
    "# 타겟 정수화\n",
    "labels=dict(zip(irisDF['variety'].unique().tolist(),range(3)))\n",
    "print(f'labels=> {labels}')\n",
    "# 라벨인코딩<<\n",
    "irisDF['variety']=irisDF['variety'].replace(labels)\n",
    "irisDF.head()"
   ]
  },
  {
   "cell_type": "markdown",
   "metadata": {},
   "source": [
    "[2] 모델 클래스 설계 및 정의 <hr>\n",
    "- 클래스목적 : iris 데이터를 학습 및 추론 목적\n",
    "- 클래스이름 : IrisBCFModel\n",
    "- 부모클래스 : nn.Module\n",
    "- 매개변수 : 층별 입출력 갯수 고정하므로 필요 없음\n",
    "- 속성/필드 : featruesDF, targetDF, n_rows, n_features\n",
    "- 기능/역할 <필수 >\n",
    "    -  __ init __() : 모델 구조 설정 \n",
    "    - forward() : 순방향 학습 <- 오버라이딩(overriding)\n",
    "- 클래스구조\n",
    "    - 입력층 : 입력 4개 / 출력 10개 (퍼셉트론/뉴런 10개 존재)\n",
    "    - 은닉층 : 입력 10개 / 출력 5개 (퍼셉트론/뉴런 30개 존재) \n",
    "    - 출력층 : 입력 5개 / 출력 1개 (다중분류)\n",
    "- 손실함수/ 활성화함수 \n",
    "    - 클래스형태 => nn. 아래  \n",
    "        - ex) nn.ReLu << __init__() 에 사용\n",
    "    - 함수 형태 => torch.nn.functional 아래\n",
    "        - ex) F.relu << def forward() 에 사용\n"
   ]
  },
  {
   "cell_type": "code",
   "execution_count": 5,
   "metadata": {},
   "outputs": [],
   "source": [
    "class IrisMCFModel(nn.Module):\n",
    "\n",
    "    # 모델 구조 구성 및 인스턴스 생성 메서드\n",
    "    def __init__(self):\n",
    "        super().__init__()\n",
    "\n",
    "        self.in_layer=nn.Linear(4,10)\n",
    "        self.hd_layer=nn.Linear(10,5)\n",
    "        self.out_layer=nn.Linear(5,3)   # 다중분류\n",
    "\n",
    "    # 순방향 학습 진행 메서드\n",
    "    def forward(self,x):\n",
    "        # - 입력층\n",
    "        y=self.in_layer(x)        # f1_1w1_1+f1_2w1_2+f1_3w1_3+b << 이런식 10개\n",
    "        y=F.relu(y)\n",
    "\n",
    "        # - 은닉층 : 10개의 숫자값 (>=0)\n",
    "        y=self.hd_layer(y)        # f2_1w2_1+f2_2w2_2+....f2_10w2_10 +b << 이런식 5개\n",
    "        y=F.relu(y)\n",
    "\n",
    "        # - 출력층 : 5개의 숫자값 (>=0) - 다중분류 : 손실함수 crossentroploss 가 내부에서 softmax진행\n",
    "        return self.out_layer(y)        # f3_1w3_1+.....f3_30w3_30+b << 1 개\n",
    "\n"
   ]
  },
  {
   "cell_type": "code",
   "execution_count": 6,
   "metadata": {},
   "outputs": [
    {
     "name": "stdout",
     "output_type": "stream",
     "text": [
      "IrisMCFModel(\n",
      "  (in_layer): Linear(in_features=4, out_features=10, bias=True)\n",
      "  (hd_layer): Linear(in_features=10, out_features=5, bias=True)\n",
      "  (out_layer): Linear(in_features=5, out_features=3, bias=True)\n",
      ")\n"
     ]
    }
   ],
   "source": [
    "### [테스트] 모델 인스턴스 생성\n",
    "model=IrisMCFModel()\n",
    "\n",
    "print(model)"
   ]
  },
  {
   "cell_type": "code",
   "execution_count": 7,
   "metadata": {},
   "outputs": [
    {
     "data": {
      "text/plain": [
       "==========================================================================================\n",
       "Layer (type:depth-idx)                   Output Shape              Param #\n",
       "==========================================================================================\n",
       "IrisMCFModel                             [17, 3]                   --\n",
       "├─Linear: 1-1                            [17, 10]                  50\n",
       "├─Linear: 1-2                            [17, 5]                   55\n",
       "├─Linear: 1-3                            [17, 3]                   18\n",
       "==========================================================================================\n",
       "Total params: 123\n",
       "Trainable params: 123\n",
       "Non-trainable params: 0\n",
       "Total mult-adds (M): 0.00\n",
       "==========================================================================================\n",
       "Input size (MB): 0.00\n",
       "Forward/backward pass size (MB): 0.00\n",
       "Params size (MB): 0.00\n",
       "Estimated Total Size (MB): 0.00\n",
       "=========================================================================================="
      ]
     },
     "execution_count": 7,
     "metadata": {},
     "output_type": "execute_result"
    }
   ],
   "source": [
    "### [테스트] 모델 확인\n",
    "summary(model,input_size=(17,4))"
   ]
  },
  {
   "cell_type": "markdown",
   "metadata": {},
   "source": [
    "[3] 데이터셋 클래스 설계 및 정의 <hr>\n",
    "- 데이터셋 : iris.csv\n",
    "- 피쳐개수 : 4개\n",
    "- 타겟개수 : 1개\n",
    "- 클래스이름 : IrisDataset\n",
    "- 부모클래스 : utils.data.Dataset\n",
    "- 속성필드 : featureDF, targetDF, n_rows, n_features\n",
    "- 필수메서드 \n",
    "    - __ init __(self) : 데이터셋 저장 및 전처리, 개발자가 필요한 속성 설정\n",
    "    - __ len __(self) : 데이터의 개수 반환\n",
    "    - __ getitem __(self,index) : 특정 인덱스의 피쳐와 타겟 반환"
   ]
  },
  {
   "cell_type": "code",
   "execution_count": 8,
   "metadata": {},
   "outputs": [],
   "source": [
    "class IrisDataset(Dataset):\n",
    "\n",
    "    def __init__(self,featureDF,targetDF):\n",
    "        self.featureDF=featureDF\n",
    "        self.targetDF=targetDF\n",
    "        self.n_rows=featureDF.shape[0]      # 필수아님\n",
    "        self.n_features=featureDF.shape[1]  # 필수아님\n",
    "\n",
    "\n",
    "    def __len__(self):\n",
    "        return self.n_rows\n",
    "        \n",
    "    def __getitem__(self, index):\n",
    "        # 텐서화\n",
    "        featureTS=torch.FloatTensor(self.featureDF.iloc[index].values)\n",
    "        targetTS=torch.FloatTensor(self.targetDF.iloc[index].values)\n",
    "        \n",
    "        # 피쳐와 타겟 반환\n",
    "        return featureTS, targetTS\n",
    "    "
   ]
  },
  {
   "cell_type": "code",
   "execution_count": 9,
   "metadata": {},
   "outputs": [
    {
     "name": "stdout",
     "output_type": "stream",
     "text": [
      "tensor([[5.1000, 3.5000, 1.4000, 0.2000]]) tensor([[0.]])\n"
     ]
    }
   ],
   "source": [
    "## [테스트] 데이터셋 인스턴스 생성\n",
    "\n",
    "featureDF=irisDF[irisDF.columns[:4]]        # 2D (150,3)\n",
    "targetDF=irisDF[irisDF.columns[[4]]]        # 2D (150,1)\n",
    "\n",
    "# - 커스템데이터셋 인스턴스 생성\n",
    "irisDS=IrisDataset(featureDF,targetDF)\n",
    "\n",
    "# 데이터 로드 인스턴스 생성\n",
    "irisDL=DataLoader(irisDS)\n",
    "for feature,target in irisDL:\n",
    "    print(feature,target)\n",
    "    break\n"
   ]
  },
  {
   "cell_type": "markdown",
   "metadata": {},
   "source": [
    "[4] 학습 준비\n",
    "- 학습횟수 : EPOCH <- 처음부터 끝까지 공부하는 횟수\n",
    "- 배치크기 : BATCH_SIZE <- 한번에 학습할 데이터셋 양\n",
    "- 위치지정 : DEVICE <- 텐서 저장 및 실행 위치 (GPU/CPU)\n",
    "- 학습률(LR, learning Rate) : 가중치와 절편 업데이트 시 경사하강법으로 업데이트 간격 설정 0.001~0.1"
   ]
  },
  {
   "cell_type": "code",
   "execution_count": 10,
   "metadata": {},
   "outputs": [],
   "source": [
    "### 학습 진행 관련 설정 값 \n",
    "EPOCH = 100\n",
    "BATCH_SIZE= 10\n",
    "DEVICE ='cuda' if torch.cuda.is_available() else 'cpu'\n",
    "LR=0.001"
   ]
  },
  {
   "cell_type": "markdown",
   "metadata": {},
   "source": [
    "- 인스턴스/객체 : 모델, 데이터셋, 최적화, 손실함수 (, 성능지표)"
   ]
  },
  {
   "cell_type": "code",
   "execution_count": 11,
   "metadata": {},
   "outputs": [
    {
     "name": "stdout",
     "output_type": "stream",
     "text": [
      " X_train : (84, 4), X_val : (28, 4) , X_test : (38, 4)\n",
      " y_train : (84, 1), y_val : (28, 1) , y_test : (38, 1)\n"
     ]
    }
   ],
   "source": [
    "# 모델 인스턴스\n",
    "model= IrisMCFModel()\n",
    "\n",
    "# 데이터셋 인스턴스\n",
    "# # 학습,검증,테스트 데이터 분리\n",
    "X_train, X_test, y_train, y_test=train_test_split(featureDF,targetDF,random_state=1)\n",
    "X_train,X_val,y_train,y_val=train_test_split(X_train,y_train,random_state=1)\n",
    "print(f' X_train : {X_train.shape}, X_val : {X_val.shape} , X_test : {X_test.shape}')\n",
    "print(f' y_train : {y_train.shape}, y_val : {y_val.shape} , y_test : {y_test.shape}')\n",
    "\n",
    "\n",
    "\n",
    "trainDS=IrisDataset(X_train,y_train)\n",
    "valDS=IrisDataset(X_val,y_val)\n",
    "testDS=IrisDataset(X_test,y_test)\n",
    "\n",
    "# 데이터로더 인스턴스\n",
    "trainDL=DataLoader(trainDS,batch_size=BATCH_SIZE)"
   ]
  },
  {
   "cell_type": "markdown",
   "metadata": {},
   "source": [
    "- 최적화 , 손실함수 인스턴스 생성"
   ]
  },
  {
   "cell_type": "code",
   "execution_count": 12,
   "metadata": {},
   "outputs": [],
   "source": [
    "# 최적화 인스턴스 => W,b 텐서 즉, model.parameters() 전달\n",
    "optimizer=optim.Adam(model.parameters(),lr=LR)\n",
    "\n",
    "# 손실함수 인스턴스 => 분류 => 다중분류 CrossEntropyLoss \n",
    "#                            예측값은 선형식 결과값값으로 전달 => sigmoid() AF처리후 전달\n",
    "crossLoss=nn.CrossEntropyLoss()"
   ]
  },
  {
   "cell_type": "markdown",
   "metadata": {},
   "source": [
    "[5] 학습진행"
   ]
  },
  {
   "cell_type": "code",
   "execution_count": 13,
   "metadata": {},
   "outputs": [],
   "source": [
    "### models 폴더 아래 프로젝트 폴더 아래 모델파일 저장\n",
    "import os\n",
    "\n",
    "# 저장경로\n",
    "SAVE_PATH='../models/iris/MCF/'\n",
    "# 저장 파일명\n",
    "SAVE_FILE=SAVE_PATH+'model_train_wbs.pth'\n",
    "\n",
    "# 모델 구조 및 파라미터 모두 저장 파일명\n",
    "SAVE_MODEL=SAVE_PATH+'model_all.pth'\n",
    "\n",
    "# 경로상 폴더 존재 여부 체크\n",
    "\n",
    "if not os.path.exists(SAVE_PATH):\n",
    "    os.makedirs(SAVE_PATH)  # 폴더/폴더/... 하위폴더까지 생성"
   ]
  },
  {
   "cell_type": "code",
   "execution_count": 14,
   "metadata": {},
   "outputs": [
    {
     "name": "stdout",
     "output_type": "stream",
     "text": [
      "[0/100]\n",
      "trainloss=1.0831773148642645 trainscore=0.248139931095971\n",
      "valloss=1.0700030326843262 trainscore=0.30568355321884155\n",
      "[1/100]\n",
      "trainloss=1.0688646104600694 trainscore=0.4602880809042189\n",
      "valloss=1.0582141876220703 trainscore=0.41295546293258667\n",
      "[2/100]\n",
      "trainloss=1.0579224295086331 trainscore=0.49349047078026664\n",
      "valloss=1.0475691556930542 trainscore=0.45333331823349\n",
      "[3/100]\n",
      "trainloss=1.0478251642651029 trainscore=0.49349047078026664\n",
      "valloss=1.0372041463851929 trainscore=0.4920635223388672\n",
      "[4/100]\n",
      "trainloss=1.0381005340152316 trainscore=0.5452109773953756\n",
      "valloss=1.0277409553527832 trainscore=0.4920635223388672\n",
      "[5/100]\n",
      "trainloss=1.0282167593638103 trainscore=0.629113495349884\n",
      "valloss=1.0178656578063965 trainscore=0.7071895599365234\n",
      "[6/100]\n",
      "trainloss=1.0178059339523315 trainscore=0.8363155391481187\n",
      "valloss=1.007078766822815 trainscore=0.7908496856689453\n",
      "[7/100]\n",
      "trainloss=1.006806042459276 trainscore=0.8761450582080417\n",
      "valloss=0.9950123429298401 trainscore=0.7777777910232544\n",
      "[8/100]\n",
      "trainloss=0.9951343602604337 trainscore=0.7909304764535692\n",
      "valloss=0.9812833070755005 trainscore=0.7777777910232544\n",
      "[9/100]\n",
      "trainloss=0.9827524026234945 trainscore=0.6491101715299818\n",
      "valloss=0.96600341796875 trainscore=0.7264957427978516\n",
      "[10/100]\n",
      "trainloss=0.9696202344364591 trainscore=0.580599672264523\n",
      "valloss=0.9492230415344238 trainscore=0.604938268661499\n",
      "[11/100]\n",
      "trainloss=0.9555244247118632 trainscore=0.5544498960177103\n",
      "valloss=0.9308109283447266 trainscore=0.604938268661499\n",
      "[12/100]\n",
      "trainloss=0.9404645098580254 trainscore=0.5544498960177103\n",
      "valloss=0.9110468029975891 trainscore=0.604938268661499\n",
      "[13/100]\n",
      "trainloss=0.9245162341329787 trainscore=0.5544498960177103\n",
      "valloss=0.8903059959411621 trainscore=0.604938268661499\n",
      "[14/100]\n",
      "trainloss=0.9079393876923455 trainscore=0.5544498960177103\n",
      "valloss=0.869570791721344 trainscore=0.604938268661499\n",
      "[15/100]\n",
      "trainloss=0.890999608569675 trainscore=0.5544498960177103\n",
      "valloss=0.8483369946479797 trainscore=0.604938268661499\n",
      "[16/100]\n",
      "trainloss=0.8734559549225701 trainscore=0.5544498960177103\n",
      "valloss=0.8259388208389282 trainscore=0.604938268661499\n",
      "성능 및 손실 개선이 없어서 학습 중단\n"
     ]
    }
   ],
   "source": [
    "## 학습의 효과 확인 손실값과 성능 평가값 저장 필요\n",
    "LOSS_HISTORY,SCORE_HISTORY=[[],[]],[[],[]]\n",
    "\n",
    "# 학습 모니터링/스케쥴링 설정\n",
    "# => LOSS_HISTORY, SCORE_HISTORY활용\n",
    "# 임계기준 : 10번 (내가설정)\n",
    "BREAK_CNT= 0\n",
    "\n",
    "# 학습 모드로 모델 설정\n",
    " \n",
    "for epoch in range(EPOCH):\n",
    "    model.train()  ## 학습모드 켜기! 에포크 단위로 학습과 검증 진행시 for문안에서 껐다 켯다 해야함! \n",
    "\n",
    "    # 배치 크기 만큼 데이터 로딩해서 학습 진행\n",
    "    loss_total=0\n",
    "    score_total=0\n",
    "    for featureTS,targetTS in trainDL:\n",
    "\n",
    "        # 학습 진행\n",
    "        pre_y=model(featureTS)\n",
    "\n",
    "        # 손실 계산 # nn.CrossEntropyLoss 요구사항 : 정답/타겟 0D or1D 타입은 long\n",
    "        loss=crossLoss(pre_y,targetTS.reshape(-1).long())\n",
    "        loss_total+=loss.item()\n",
    "\n",
    "        # 성능평가 계산\n",
    "        score=MulticlassF1Score(num_classes=3)(pre_y,targetTS.reshape(-1))\n",
    "        score_total+=score.item()\n",
    "\n",
    "        # 최적화 진행\n",
    "        optimizer.zero_grad()\n",
    "        loss.backward()\n",
    "        optimizer.step()\n",
    "\n",
    "    model.eval() # 검증모드 켜기!\n",
    "    with torch.no_grad():\n",
    "        # 검증데이터셋\n",
    "        val_featureTS=torch.FloatTensor(valDS.featureDF.values)\n",
    "        val_targetTS=torch.FloatTensor(valDS.targetDF.values)\n",
    "\n",
    "        # 평가\n",
    "        pre_val = model(val_featureTS)\n",
    "        #손실\n",
    "        val_loss=crossLoss(pre_val,val_targetTS.reshape(-1).long())\n",
    "        # 성능평가\n",
    "        val_score=MulticlassF1Score(num_classes=3)(pre_val,val_targetTS.reshape(-1))\n",
    "    \n",
    "    # 손실값과 성능 평가값 저장\n",
    "    LOSS_HISTORY[0].append(loss_total/len(trainDL))\n",
    "    SCORE_HISTORY[0].append(score_total/len(trainDL))\n",
    "\n",
    "    LOSS_HISTORY[1].append(val_loss.item())\n",
    "    SCORE_HISTORY[1].append(val_score.item())\n",
    "\n",
    "    print(f'[{epoch}/{EPOCH}]')\n",
    "    print(f'trainloss={loss_total/len(trainDL)} trainscore={score_total/len(trainDL)}')\n",
    "    print(f'valloss={val_loss} trainscore={val_score}')\n",
    "\n",
    "        # Score 기준\n",
    "    if len(SCORE_HISTORY[0])>=2:\n",
    "        if SCORE_HISTORY[1][-1] <= SCORE_HISTORY[1][-2]:\n",
    "            BREAK_CNT+=1\n",
    "    #loss나 score 둘중 하나만 사용\n",
    "    \n",
    "    # 성능이 좋은 학습 가중치 저장\n",
    "    if len(SCORE_HISTORY[0])==1:\n",
    "        # 첫번째라서 무조건 모델 저장\n",
    "        torch.save(model.state_dict(),SAVE_FILE)\n",
    "        # 모델 전체 저장\n",
    "        torch.save(model,SAVE_MODEL)\n",
    "    else:\n",
    "        if SCORE_HISTORY[1][-1]>max(SCORE_HISTORY[1]):\n",
    "            # 파일하나에 덮어쓰기\n",
    "            torch.save(model.state_dict(),SAVE_FILE)\n",
    "            # 계속 파일 새로 만들기\n",
    "            #torch.save(model.state_dict(),SAVE_PATH+SAVE_FILE+epoch)\n",
    "            # 모델 저장\n",
    "            torch.save(model,SAVE_MODEL)\n",
    "\n",
    "\n",
    "    ## 학습 중단 여부 설정\n",
    "    if BREAK_CNT>10:\n",
    "        print('성능 및 손실 개선이 없어서 학습 중단')\n",
    "        break"
   ]
  },
  {
   "cell_type": "code",
   "execution_count": 15,
   "metadata": {},
   "outputs": [
    {
     "name": "stdout",
     "output_type": "stream",
     "text": [
      "tensor(0.8766) tensor(0.5098)\n"
     ]
    }
   ],
   "source": [
    "model.eval() # 검증모드 켜기!\n",
    "with torch.no_grad():\n",
    "    # 검증데이터셋\n",
    "    test_featureTS=torch.FloatTensor(testDS.featureDF.values)\n",
    "    test_targetTS=torch.FloatTensor(testDS.targetDF.values)\n",
    "\n",
    "    # 평가\n",
    "    pre_test = model(test_featureTS)\n",
    "    #손실\n",
    "    test_loss=crossLoss(pre_test,test_targetTS.reshape(-1).long())\n",
    "    # 성능평가\n",
    "    test_score=MulticlassF1Score(num_classes=3)(pre_test,test_targetTS.reshape(-1))\n",
    "\n",
    "print(test_loss,test_score)"
   ]
  },
  {
   "cell_type": "code",
   "execution_count": 16,
   "metadata": {},
   "outputs": [],
   "source": [
    "import utils"
   ]
  },
  {
   "cell_type": "code",
   "execution_count": 26,
   "metadata": {},
   "outputs": [
    {
     "data": {
      "image/png": "[encoded data removed]",
      "text/plain": [
       "<Figure size 1000x500 with 2 Axes>"
      ]
     },
     "metadata": {},
     "output_type": "display_data"
    }
   ],
   "source": [
    "\n",
    "pp=utils.LossScorePlot(LOSS_HISTORY[0],SCORE_HISTORY[0])\n",
    "pp.LSplot()\n"
   ]
  },
  {
   "cell_type": "code",
   "execution_count": 18,
   "metadata": {},
   "outputs": [
    {
     "data": {
      "text/plain": [
       "[<matplotlib.lines.Line2D at 0x1c4fd989b50>]"
      ]
     },
     "execution_count": 18,
     "metadata": {},
     "output_type": "execute_result"
    },
    {
     "data": {
      "image/png": "[encoded data removed]",
      "text/plain": [
       "<Figure size 640x480 with 1 Axes>"
      ]
     },
     "metadata": {},
     "output_type": "display_data"
    }
   ],
   "source": [
    "plt.plot(LOSS_HISTORY[0])\n",
    "plt.plot(LOSS_HISTORY[1])"
   ]
  },
  {
   "cell_type": "code",
   "execution_count": null,
   "metadata": {},
   "outputs": [],
   "source": []
  }
 ],
 "metadata": {
  "kernelspec": {
   "display_name": "TORCH_38",
   "language": "python",
   "name": "python3"
  },
  "language_info": {
   "codemirror_mode": {
    "name": "ipython",
    "version": 3
   },
   "file_extension": ".py",
   "mimetype": "text/x-python",
   "name": "python",
   "nbconvert_exporter": "python",
   "pygments_lexer": "ipython3",
   "version": "3.8.19"
  }
 },
 "nbformat": 4,
 "nbformat_minor": 2
}

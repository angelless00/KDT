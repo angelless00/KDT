{
 "cells": [
  {
   "cell_type": "markdown",
   "metadata": {},
   "source": [
    "### 알파벳 기반 언어 식별 모델\n",
    "- 데이터셋 : lang.zip 사용해서 생성 -> csv,json....\n",
    "- 학습방벙 : 지도학습 - 분류 : 다중분류\n",
    "- 알고리즘 : 다양하게"
   ]
  },
  {
   "cell_type": "markdown",
   "metadata": {},
   "source": [
    "[1] 모듈 로딩 및 데이터 준비"
   ]
  },
  {
   "cell_type": "code",
   "execution_count": 2663,
   "metadata": {},
   "outputs": [],
   "source": [
    "# 모듈로딩\n",
    "import pandas as pd\n",
    "import numpy as np\n",
    "import os\n",
    "from sklearn.preprocessing import LabelEncoder\n",
    "import torch\n",
    "import torch.nn as nn\n",
    "import torch.nn.functional as F\n",
    "from torch.utils.data import Dataset,DataLoader\n",
    "import torch.optim as optim\n",
    "from torchmetrics.classification import MulticlassF1Score,F1Score\n",
    "from torchinfo import summary\n",
    "import utils"
   ]
  },
  {
   "cell_type": "code",
   "execution_count": 2664,
   "metadata": {},
   "outputs": [],
   "source": [
    "# 알파벳 분해 함수 생성\n",
    "def file_make(train):\n",
    "    if os.path.exists(train):\n",
    "\n",
    "        files=os.listdir(f'{train}/')\n",
    "        alphabetDF=pd.DataFrame(columns=[chr(i) for i in range(ord('a'),ord('z')+1)])\n",
    "        target=[]\n",
    "        for file in files:\n",
    "            with open(f'{train}/{file}',mode='r') as f:\n",
    "                data=f.read()\n",
    "\n",
    "                # 소문자로\n",
    "                data=data.lower()\n",
    "\n",
    "                data=data.replace('\\n','')\n",
    "\n",
    "                for cha in data:\n",
    "                    if ord('a')>ord(cha) or ord(cha)>ord('z'):\n",
    "                        data=data.replace(cha,'')\n",
    "                values=pd.Series(list(data)).value_counts()\n",
    "                alphabet_prob=pd.DataFrame(values/values.sum())\n",
    "                alphabet_prob.columns=[file]\n",
    "                alphabetDF=pd.concat([alphabetDF,alphabet_prob.T])\n",
    "                label=file[:2]\n",
    "                target.append(label)\n",
    "        alphabetDF['target']=target\n",
    "        return alphabetDF.to_csv(f'{train}.csv')\n",
    "\n",
    "    else:\n",
    "        print(f'{train} 폴더가 존재하지 않습니다.')\n"
   ]
  },
  {
   "cell_type": "code",
   "execution_count": 2665,
   "metadata": {},
   "outputs": [],
   "source": [
    "# # csv 파일생성\n",
    "# file_make('train')\n",
    "# file_make('test')"
   ]
  },
  {
   "cell_type": "code",
   "execution_count": 2666,
   "metadata": {},
   "outputs": [],
   "source": [
    "# 파일을 불러서 feature와 target분리후 인코딩\n",
    "def dataload(filename):\n",
    "    dataDF=pd.read_csv(filename,index_col=[0])\n",
    "    targetDF=dataDF[dataDF.columns[-1]]\n",
    "    featureDF=dataDF[dataDF.columns[:-1]]\n",
    "    return featureDF,targetDF"
   ]
  },
  {
   "cell_type": "code",
   "execution_count": 2667,
   "metadata": {},
   "outputs": [
    {
     "name": "stdout",
     "output_type": "stream",
     "text": [
      "train_feature : (20, 26), train_target : (20,)\n",
      "test_feature : (8, 26), test_target : (8,)\n"
     ]
    }
   ],
   "source": [
    "train_featureDF,train_targetDF=dataload('train.csv')\n",
    "test_featureDF,test_targetDF=dataload('test.csv')\n",
    "train_featureDF=train_featureDF.fillna(0)\n",
    "test_featureDF=test_featureDF.fillna(0)\n",
    "print(f'train_feature : {train_featureDF.shape}, train_target : {train_targetDF.shape}')\n",
    "print(f'test_feature : {test_featureDF.shape}, test_target : {test_targetDF.shape}')"
   ]
  },
  {
   "cell_type": "code",
   "execution_count": 2668,
   "metadata": {},
   "outputs": [
    {
     "data": {
      "text/plain": [
       "array([0, 0, 0, 0, 0, 1, 1, 1, 1, 1, 2, 2, 2, 2, 2, 3, 3, 3, 3, 3])"
      ]
     },
     "execution_count": 2668,
     "metadata": {},
     "output_type": "execute_result"
    }
   ],
   "source": [
    "# 라벨인코딩\n",
    "encoder=LabelEncoder()\n",
    "encoder.fit(train_targetDF)\n",
    "train_target=encoder.transform(train_targetDF)\n",
    "test_target=encoder.transform(test_targetDF)\n",
    "train_target"
   ]
  },
  {
   "cell_type": "code",
   "execution_count": 2669,
   "metadata": {},
   "outputs": [
    {
     "data": {
      "text/plain": [
       "array([0, 0, 1, 1, 2, 2, 3, 3])"
      ]
     },
     "execution_count": 2669,
     "metadata": {},
     "output_type": "execute_result"
    }
   ],
   "source": [
    "test_target"
   ]
  },
  {
   "cell_type": "code",
   "execution_count": 2670,
   "metadata": {},
   "outputs": [
    {
     "data": {
      "text/plain": [
       "4"
      ]
     },
     "execution_count": 2670,
     "metadata": {},
     "output_type": "execute_result"
    }
   ],
   "source": [
    "# target 레이블수 확인\n",
    "target_num=len(pd.Series(train_target).unique())\n",
    "target_num"
   ]
  },
  {
   "cell_type": "code",
   "execution_count": 2671,
   "metadata": {},
   "outputs": [],
   "source": [
    "train_featureTS=torch.FloatTensor(train_featureDF.values)\n",
    "train_targetTS=torch.FloatTensor(train_target)\n",
    "test_featureTS=torch.FloatTensor(test_featureDF.values)\n",
    "test_targetTS=torch.FloatTensor(test_target)"
   ]
  },
  {
   "cell_type": "code",
   "execution_count": 2672,
   "metadata": {},
   "outputs": [],
   "source": [
    "model=utils.AlphaMCFModel(train_featureTS.shape[1],target_num,300,200)"
   ]
  },
  {
   "cell_type": "code",
   "execution_count": 2673,
   "metadata": {},
   "outputs": [
    {
     "data": {
      "text/plain": [
       "==========================================================================================\n",
       "Layer (type:depth-idx)                   Output Shape              Param #\n",
       "==========================================================================================\n",
       "AlphaMCFModel                            [20, 4]                   --\n",
       "├─Linear: 1-1                            [20, 300]                 8,100\n",
       "├─Linear: 1-2                            [20, 200]                 60,200\n",
       "├─Linear: 1-3                            [20, 4]                   804\n",
       "==========================================================================================\n",
       "Total params: 69,104\n",
       "Trainable params: 69,104\n",
       "Non-trainable params: 0\n",
       "Total mult-adds (M): 1.38\n",
       "==========================================================================================\n",
       "Input size (MB): 0.00\n",
       "Forward/backward pass size (MB): 0.08\n",
       "Params size (MB): 0.28\n",
       "Estimated Total Size (MB): 0.36\n",
       "=========================================================================================="
      ]
     },
     "execution_count": 2673,
     "metadata": {},
     "output_type": "execute_result"
    }
   ],
   "source": [
    "summary(model,input_size=train_featureTS.shape)"
   ]
  },
  {
   "cell_type": "code",
   "execution_count": 2674,
   "metadata": {},
   "outputs": [],
   "source": [
    "optimizer=optim.Adam(model.parameters(),lr=0.01)"
   ]
  },
  {
   "cell_type": "code",
   "execution_count": 2675,
   "metadata": {},
   "outputs": [],
   "source": [
    "EPOCH=100"
   ]
  },
  {
   "cell_type": "code",
   "execution_count": 2676,
   "metadata": {},
   "outputs": [],
   "source": [
    "scorefu=MulticlassF1Score(num_classes=target_num)"
   ]
  },
  {
   "cell_type": "code",
   "execution_count": 2677,
   "metadata": {},
   "outputs": [
    {
     "name": "stdout",
     "output_type": "stream",
     "text": [
      "[1/100] loss : 1.387414574623108, score :0.10000000149011612\n",
      "[2/100] loss : 1.3735729455947876, score :0.33936652541160583\n",
      "[3/100] loss : 1.349753737449646, score :0.42627960443496704\n",
      "[4/100] loss : 1.314959168434143, score :0.3333333432674408\n",
      "[5/100] loss : 1.2596139907836914, score :0.5784721970558167\n",
      "[6/100] loss : 1.1850720643997192, score :0.3333333432674408\n",
      "[7/100] loss : 1.0914340019226074, score :0.5018315315246582\n",
      "[8/100] loss : 0.9860490560531616, score :0.5625\n",
      "[9/100] loss : 0.881621241569519, score :0.3333333432674408\n",
      "[10/100] loss : 0.7878174185752869, score :0.3333333432674408\n",
      "[11/100] loss : 0.7126022577285767, score :0.8351648449897766\n",
      "[12/100] loss : 0.6520923376083374, score :0.9494949579238892\n",
      "[13/100] loss : 0.6063429713249207, score :0.9494949579238892\n"
     ]
    }
   ],
   "source": [
    "loss_history=[]\n",
    "score_history=[]\n",
    "breaknum=0\n",
    "for epoch in range(EPOCH):\n",
    "    model.train()\n",
    "\n",
    "    pre_y=model(train_featureTS)\n",
    "\n",
    "    # loss 값\n",
    "    loss=nn.CrossEntropyLoss()(pre_y,train_targetTS.reshape(-1).long())\n",
    "    # score 값\n",
    "    score=scorefu(pre_y,train_targetTS.reshape(-1))\n",
    "\n",
    "    optimizer.zero_grad()\n",
    "    loss.backward()\n",
    "    optimizer.step()\n",
    "\n",
    "    loss_history.append(loss.item())\n",
    "    score_history.append(score.item())\n",
    "    print(f'[{epoch+1}/{EPOCH}] loss : {loss}, score :{score}')\n",
    "    if len(score_history)==1:\n",
    "        torch.save(model,'best_model.pth')\n",
    "        torch.save(model.state_dict(),'best_weight.pth')\n",
    "\n",
    "    else:\n",
    "        if score_history[-1] <= score_history[-2]:\n",
    "            breaknum+=1\n",
    "        elif score_history[-1]>=max(score_history):\n",
    "            torch.save(model,'best_model.pth')\n",
    "            torch.save(model.state_dict(),'best_weight.pth')\n",
    "\n",
    "        \n",
    "        if breaknum==5:\n",
    "            break\n"
   ]
  },
  {
   "cell_type": "code",
   "execution_count": 2678,
   "metadata": {},
   "outputs": [
    {
     "data": {
      "text/plain": [
       "tensor(0.8667)"
      ]
     },
     "execution_count": 2678,
     "metadata": {},
     "output_type": "execute_result"
    }
   ],
   "source": [
    "BestModel=torch.load('best_model.pth',weights_only=False)\n",
    "test_y=BestModel(test_featureTS)\n",
    "scorefu(test_y,test_targetTS.reshape(-1))"
   ]
  },
  {
   "cell_type": "code",
   "execution_count": null,
   "metadata": {},
   "outputs": [],
   "source": []
  }
 ],
 "metadata": {
  "kernelspec": {
   "display_name": "ML_38",
   "language": "python",
   "name": "python3"
  },
  "language_info": {
   "codemirror_mode": {
    "name": "ipython",
    "version": 3
   },
   "file_extension": ".py",
   "mimetype": "text/x-python",
   "name": "python",
   "nbconvert_exporter": "python",
   "pygments_lexer": "ipython3",
   "version": "3.8.19"
  }
 },
 "nbformat": 4,
 "nbformat_minor": 2
}

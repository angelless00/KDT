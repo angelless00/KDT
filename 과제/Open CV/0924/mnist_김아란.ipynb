{
 "cells": [
  {
   "cell_type": "code",
   "execution_count": 13,
   "metadata": {},
   "outputs": [],
   "source": [
    "import pandas as pd\n",
    "import cv2\n",
    "import torch\n",
    "import multiCLFutils as utils\n",
    "from torch.utils.data import DataLoader\n",
    "import torch.optim as optim\n",
    "from torchmetrics.classification import MulticlassF1Score\n",
    "from torchinfo import summary\n",
    "import torch.optim.lr_scheduler as lr_scheduler\n",
    "import torch.nn as nn\n"
   ]
  },
  {
   "cell_type": "code",
   "execution_count": 14,
   "metadata": {},
   "outputs": [],
   "source": [
    "DATA_PATH='../../../수업/TORCH_IMAGE/data/'\n",
    "TRAIN_FILE='mnist_train.csv'\n",
    "TEST_FILE='mnist_test.csv'"
   ]
  },
  {
   "cell_type": "code",
   "execution_count": 15,
   "metadata": {},
   "outputs": [],
   "source": [
    "trainDF=pd.read_csv(DATA_PATH+TRAIN_FILE,header=None)\n",
    "testDF=pd.read_csv(DATA_PATH+TEST_FILE,header=None)"
   ]
  },
  {
   "cell_type": "code",
   "execution_count": 16,
   "metadata": {},
   "outputs": [
    {
     "data": {
      "text/html": [
       "<div>\n",
       "<style scoped>\n",
       "    .dataframe tbody tr th:only-of-type {\n",
       "        vertical-align: middle;\n",
       "    }\n",
       "\n",
       "    .dataframe tbody tr th {\n",
       "        vertical-align: top;\n",
       "    }\n",
       "\n",
       "    .dataframe thead th {\n",
       "        text-align: right;\n",
       "    }\n",
       "</style>\n",
       "<table border=\"1\" class=\"dataframe\">\n",
       "  <thead>\n",
       "    <tr style=\"text-align: right;\">\n",
       "      <th></th>\n",
       "      <th>0</th>\n",
       "      <th>1</th>\n",
       "      <th>2</th>\n",
       "      <th>3</th>\n",
       "      <th>4</th>\n",
       "      <th>5</th>\n",
       "      <th>6</th>\n",
       "      <th>7</th>\n",
       "      <th>8</th>\n",
       "      <th>9</th>\n",
       "      <th>...</th>\n",
       "      <th>775</th>\n",
       "      <th>776</th>\n",
       "      <th>777</th>\n",
       "      <th>778</th>\n",
       "      <th>779</th>\n",
       "      <th>780</th>\n",
       "      <th>781</th>\n",
       "      <th>782</th>\n",
       "      <th>783</th>\n",
       "      <th>784</th>\n",
       "    </tr>\n",
       "  </thead>\n",
       "  <tbody>\n",
       "    <tr>\n",
       "      <th>0</th>\n",
       "      <td>0</td>\n",
       "      <td>0</td>\n",
       "      <td>0</td>\n",
       "      <td>0</td>\n",
       "      <td>0</td>\n",
       "      <td>0</td>\n",
       "      <td>0</td>\n",
       "      <td>0</td>\n",
       "      <td>0</td>\n",
       "      <td>0</td>\n",
       "      <td>...</td>\n",
       "      <td>0</td>\n",
       "      <td>0</td>\n",
       "      <td>0</td>\n",
       "      <td>0</td>\n",
       "      <td>0</td>\n",
       "      <td>0</td>\n",
       "      <td>0</td>\n",
       "      <td>0</td>\n",
       "      <td>0</td>\n",
       "      <td>5</td>\n",
       "    </tr>\n",
       "    <tr>\n",
       "      <th>1</th>\n",
       "      <td>0</td>\n",
       "      <td>0</td>\n",
       "      <td>0</td>\n",
       "      <td>0</td>\n",
       "      <td>0</td>\n",
       "      <td>0</td>\n",
       "      <td>0</td>\n",
       "      <td>0</td>\n",
       "      <td>0</td>\n",
       "      <td>0</td>\n",
       "      <td>...</td>\n",
       "      <td>0</td>\n",
       "      <td>0</td>\n",
       "      <td>0</td>\n",
       "      <td>0</td>\n",
       "      <td>0</td>\n",
       "      <td>0</td>\n",
       "      <td>0</td>\n",
       "      <td>0</td>\n",
       "      <td>0</td>\n",
       "      <td>0</td>\n",
       "    </tr>\n",
       "    <tr>\n",
       "      <th>2</th>\n",
       "      <td>0</td>\n",
       "      <td>0</td>\n",
       "      <td>0</td>\n",
       "      <td>0</td>\n",
       "      <td>0</td>\n",
       "      <td>0</td>\n",
       "      <td>0</td>\n",
       "      <td>0</td>\n",
       "      <td>0</td>\n",
       "      <td>0</td>\n",
       "      <td>...</td>\n",
       "      <td>0</td>\n",
       "      <td>0</td>\n",
       "      <td>0</td>\n",
       "      <td>0</td>\n",
       "      <td>0</td>\n",
       "      <td>0</td>\n",
       "      <td>0</td>\n",
       "      <td>0</td>\n",
       "      <td>0</td>\n",
       "      <td>4</td>\n",
       "    </tr>\n",
       "    <tr>\n",
       "      <th>3</th>\n",
       "      <td>0</td>\n",
       "      <td>0</td>\n",
       "      <td>0</td>\n",
       "      <td>0</td>\n",
       "      <td>0</td>\n",
       "      <td>0</td>\n",
       "      <td>0</td>\n",
       "      <td>0</td>\n",
       "      <td>0</td>\n",
       "      <td>0</td>\n",
       "      <td>...</td>\n",
       "      <td>0</td>\n",
       "      <td>0</td>\n",
       "      <td>0</td>\n",
       "      <td>0</td>\n",
       "      <td>0</td>\n",
       "      <td>0</td>\n",
       "      <td>0</td>\n",
       "      <td>0</td>\n",
       "      <td>0</td>\n",
       "      <td>1</td>\n",
       "    </tr>\n",
       "    <tr>\n",
       "      <th>4</th>\n",
       "      <td>0</td>\n",
       "      <td>0</td>\n",
       "      <td>0</td>\n",
       "      <td>0</td>\n",
       "      <td>0</td>\n",
       "      <td>0</td>\n",
       "      <td>0</td>\n",
       "      <td>0</td>\n",
       "      <td>0</td>\n",
       "      <td>0</td>\n",
       "      <td>...</td>\n",
       "      <td>0</td>\n",
       "      <td>0</td>\n",
       "      <td>0</td>\n",
       "      <td>0</td>\n",
       "      <td>0</td>\n",
       "      <td>0</td>\n",
       "      <td>0</td>\n",
       "      <td>0</td>\n",
       "      <td>0</td>\n",
       "      <td>9</td>\n",
       "    </tr>\n",
       "  </tbody>\n",
       "</table>\n",
       "<p>5 rows × 785 columns</p>\n",
       "</div>"
      ],
      "text/plain": [
       "   0    1    2    3    4    5    6    7    8    9    ...  775  776  777  778  \\\n",
       "0    0    0    0    0    0    0    0    0    0    0  ...    0    0    0    0   \n",
       "1    0    0    0    0    0    0    0    0    0    0  ...    0    0    0    0   \n",
       "2    0    0    0    0    0    0    0    0    0    0  ...    0    0    0    0   \n",
       "3    0    0    0    0    0    0    0    0    0    0  ...    0    0    0    0   \n",
       "4    0    0    0    0    0    0    0    0    0    0  ...    0    0    0    0   \n",
       "\n",
       "   779  780  781  782  783  784  \n",
       "0    0    0    0    0    0    5  \n",
       "1    0    0    0    0    0    0  \n",
       "2    0    0    0    0    0    4  \n",
       "3    0    0    0    0    0    1  \n",
       "4    0    0    0    0    0    9  \n",
       "\n",
       "[5 rows x 785 columns]"
      ]
     },
     "execution_count": 16,
     "metadata": {},
     "output_type": "execute_result"
    }
   ],
   "source": [
    "trainDF.head()"
   ]
  },
  {
   "cell_type": "code",
   "execution_count": 17,
   "metadata": {},
   "outputs": [
    {
     "name": "stdout",
     "output_type": "stream",
     "text": [
      " train feature (60000, 784) train target (60000, 1)\n",
      " test feature (10000, 784) test target (10000, 1)\n"
     ]
    }
   ],
   "source": [
    "train_featureDF=trainDF[trainDF.columns[:-1]]\n",
    "train_targetDF=trainDF[[trainDF.columns[-1]]]\n",
    "test_featureDF=testDF[testDF.columns[:-1]]\n",
    "test_targetDF=testDF[[testDF.columns[-1]]]\n",
    "print(f' train feature { train_featureDF.shape} train target { train_targetDF.shape}')\n",
    "print(f' test feature { test_featureDF.shape} test target { test_targetDF.shape}')"
   ]
  },
  {
   "cell_type": "code",
   "execution_count": 18,
   "metadata": {},
   "outputs": [],
   "source": [
    "trainDS=utils.MyDataSet(train_featureDF,train_targetDF)\n",
    "testDS=utils.MyDataSet(test_featureDF,test_targetDF)\n",
    "\n",
    "trainDL=DataLoader(trainDS,batch_size=32)\n",
    "testDL=DataLoader(testDS,batch_size=len(trainDS))"
   ]
  },
  {
   "cell_type": "code",
   "execution_count": 19,
   "metadata": {},
   "outputs": [],
   "source": [
    "num=len(train_targetDF.value_counts())"
   ]
  },
  {
   "cell_type": "code",
   "execution_count": 20,
   "metadata": {},
   "outputs": [],
   "source": [
    "model=utils.DynamicsModel(train_featureDF.shape[1],num,nums=[600,200,100])\n",
    "optimizer=optim.Adam(model.parameters(),lr=0.001)\n",
    "scheduler=lr_scheduler.ReduceLROnPlateau(optimizer,patience=5,factor=0.1,mode='max')\n",
    "lossf=nn.CrossEntropyLoss()\n",
    "scoref=MulticlassF1Score(num_classes=num)"
   ]
  },
  {
   "cell_type": "code",
   "execution_count": 21,
   "metadata": {},
   "outputs": [
    {
     "data": {
      "text/plain": [
       "==========================================================================================\n",
       "Layer (type:depth-idx)                   Output Shape              Param #\n",
       "==========================================================================================\n",
       "DynamicsModel                            [60000, 10]               --\n",
       "├─Linear: 1-1                            [60000, 600]              471,000\n",
       "├─ModuleList: 1-2                        --                        --\n",
       "│    └─Linear: 2-1                       [60000, 200]              120,200\n",
       "│    └─Linear: 2-2                       [60000, 100]              20,100\n",
       "├─Linear: 1-3                            [60000, 10]               1,010\n",
       "==========================================================================================\n",
       "Total params: 612,310\n",
       "Trainable params: 612,310\n",
       "Non-trainable params: 0\n",
       "Total mult-adds (G): 36.74\n",
       "==========================================================================================\n",
       "Input size (MB): 188.16\n",
       "Forward/backward pass size (MB): 436.80\n",
       "Params size (MB): 2.45\n",
       "Estimated Total Size (MB): 627.41\n",
       "=========================================================================================="
      ]
     },
     "execution_count": 21,
     "metadata": {},
     "output_type": "execute_result"
    }
   ],
   "source": [
    "summary(model,input_size=train_featureDF.shape)"
   ]
  },
  {
   "cell_type": "code",
   "execution_count": 22,
   "metadata": {},
   "outputs": [],
   "source": [
    "TRAIN=utils.Train_val(trainDL,testDL,model,optimizer,lossf,scoref)"
   ]
  },
  {
   "cell_type": "code",
   "execution_count": 23,
   "metadata": {},
   "outputs": [
    {
     "name": "stdout",
     "output_type": "stream",
     "text": [
      "[1/100]\n",
      "train loss 0.2601315533743861, train score 0.9090401545087496\n",
      "test loss 0.15794223546981812, test score 0.9538049101829529\n",
      "scheduler.num_bad_epochs 0/5\n",
      "[2/100]\n",
      "train loss 0.14061892310203208, train score 0.9505475040753683\n",
      "test loss 0.1691197007894516, test score 0.953424870967865\n",
      "scheduler.num_bad_epochs 1/5\n",
      "[3/100]\n",
      "train loss 0.11859491279965732, train score 0.9602142710049947\n",
      "test loss 0.11953385919332504, test score 0.9687398672103882\n",
      "scheduler.num_bad_epochs 0/5\n",
      "[4/100]\n",
      "train loss 0.09689995055909288, train score 0.9676989825884501\n",
      "test loss 0.12667354941368103, test score 0.970098614692688\n",
      "scheduler.num_bad_epochs 0/5\n",
      "[5/100]\n",
      "train loss 0.09065277013337181, train score 0.9701977021853129\n",
      "test loss 0.23847731947898865, test score 0.9503290057182312\n",
      "scheduler.num_bad_epochs 1/5\n",
      "[6/100]\n",
      "train loss 0.08530195276443701, train score 0.9718325249036153\n",
      "test loss 0.14206598699092865, test score 0.9684672355651855\n",
      "scheduler.num_bad_epochs 2/5\n",
      "[7/100]\n",
      "train loss 0.06527722450186471, train score 0.9784973980585734\n",
      "test loss 0.13783876597881317, test score 0.9706898331642151\n",
      "scheduler.num_bad_epochs 0/5\n",
      "[8/100]\n",
      "train loss 0.06640084685745036, train score 0.9790901620229086\n",
      "test loss 0.19950126111507416, test score 0.963405430316925\n",
      "scheduler.num_bad_epochs 1/5\n",
      "[9/100]\n",
      "train loss 0.06363621186684493, train score 0.9809433735847474\n",
      "test loss 0.18631801009178162, test score 0.9717194437980652\n",
      "scheduler.num_bad_epochs 0/5\n",
      "[10/100]\n",
      "train loss 0.05504506992633306, train score 0.9820261017799378\n",
      "test loss 0.14669711887836456, test score 0.973710298538208\n",
      "scheduler.num_bad_epochs 0/5\n",
      "[11/100]\n",
      "train loss 0.061238185720623124, train score 0.9822462423324585\n",
      "test loss 0.16303057968616486, test score 0.9713729023933411\n",
      "scheduler.num_bad_epochs 1/5\n",
      "[12/100]\n",
      "train loss 0.05232196989739999, train score 0.9840587506612142\n",
      "test loss 0.22983893752098083, test score 0.9734650254249573\n",
      "scheduler.num_bad_epochs 2/5\n",
      "[13/100]\n",
      "train loss 0.056703914372922555, train score 0.9839323212305705\n",
      "test loss 0.20228546857833862, test score 0.9700533151626587\n",
      "scheduler.num_bad_epochs 3/5\n",
      "[14/100]\n",
      "train loss 0.055254833322285646, train score 0.9850195078214009\n",
      "test loss 0.19195488095283508, test score 0.976948082447052\n",
      "scheduler.num_bad_epochs 0/5\n",
      "[15/100]\n",
      "train loss 0.05280318973737828, train score 0.9860038921674092\n",
      "test loss 0.1651279777288437, test score 0.97428959608078\n",
      "scheduler.num_bad_epochs 1/5\n",
      "[16/100]\n",
      "train loss 0.0427822438266041, train score 0.9884710289319356\n",
      "test loss 0.1821766495704651, test score 0.9774218797683716\n",
      "scheduler.num_bad_epochs 0/5\n",
      "[17/100]\n",
      "train loss 0.04468364424802028, train score 0.9878721364657084\n",
      "test loss 0.20371600985527039, test score 0.9730184674263\n",
      "scheduler.num_bad_epochs 1/5\n",
      "[18/100]\n",
      "train loss 0.04814419821278901, train score 0.9882129167238871\n",
      "test loss 0.18148328363895416, test score 0.9804931282997131\n",
      "scheduler.num_bad_epochs 0/5\n",
      "[19/100]\n",
      "train loss 0.05219588557560564, train score 0.9888466273943584\n",
      "test loss 0.1733323186635971, test score 0.9765660166740417\n",
      "scheduler.num_bad_epochs 1/5\n",
      "[20/100]\n",
      "train loss 0.04442817186051773, train score 0.9889870807965596\n",
      "test loss 0.20804746448993683, test score 0.9751442074775696\n",
      "scheduler.num_bad_epochs 2/5\n",
      "[21/100]\n",
      "train loss 0.04680725783272483, train score 0.9879209342002868\n",
      "test loss 0.2394503355026245, test score 0.9780031442642212\n",
      "scheduler.num_bad_epochs 3/5\n",
      "[22/100]\n",
      "train loss 0.050084711476594684, train score 0.9883667097727458\n",
      "test loss 0.1809995174407959, test score 0.9787284135818481\n",
      "scheduler.num_bad_epochs 4/5\n",
      "[23/100]\n",
      "train loss 0.04204992329876553, train score 0.9900666154225667\n",
      "test loss 0.2510058581829071, test score 0.9786425828933716\n",
      "scheduler.num_bad_epochs 5/5\n",
      "[5] EPOCH 성능개선이 없어서 조기 종료함\n"
     ]
    }
   ],
   "source": [
    "EPOCH=100\n",
    "history=TRAIN.train(EPOCH,scheduler,'1')"
   ]
  },
  {
   "cell_type": "markdown",
   "metadata": {},
   "source": [
    "best_  \n",
    "[10/100]  \n",
    "train loss 0.05276141886404398, train score 0.9843309675852457      \n",
    "test loss 0.14056679606437683, test score 0.9769065380096436        \n",
    "scheduler.num_bad_epochs 0/5  "
   ]
  },
  {
   "cell_type": "code",
   "execution_count": 24,
   "metadata": {},
   "outputs": [
    {
     "data": {
      "image/png": "[encoded data removed]",
      "text/plain": [
       "<Figure size 1000x500 with 2 Axes>"
      ]
     },
     "metadata": {},
     "output_type": "display_data"
    }
   ],
   "source": [
    "pp=utils.Plot_History(history)\n",
    "pp.draw()"
   ]
  },
  {
   "cell_type": "code",
   "execution_count": null,
   "metadata": {},
   "outputs": [],
   "source": []
  }
 ],
 "metadata": {
  "kernelspec": {
   "display_name": "TORCH_CV_38",
   "language": "python",
   "name": "python3"
  },
  "language_info": {
   "codemirror_mode": {
    "name": "ipython",
    "version": 3
   },
   "file_extension": ".py",
   "mimetype": "text/x-python",
   "name": "python",
   "nbconvert_exporter": "python",
   "pygments_lexer": "ipython3",
   "version": "3.8.19"
  }
 },
 "nbformat": 4,
 "nbformat_minor": 2
}

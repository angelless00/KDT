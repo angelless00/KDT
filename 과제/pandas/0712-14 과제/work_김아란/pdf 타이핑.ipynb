{
 "cells": [
  {
   "cell_type": "code",
   "execution_count": null,
   "metadata": {},
   "outputs": [],
   "source": [
    "#p.73\n",
    "import pandas as pd\n",
    "dict_data={'a':1,'b':2,'c':3}\n",
    "sr=pd.Series(dict_data)\n",
    "print(type(sr))\n",
    "print('\\n')\n",
    "print(sr)"
   ]
  },
  {
   "cell_type": "code",
   "execution_count": null,
   "metadata": {},
   "outputs": [],
   "source": [
    "#p.76\n",
    "import pandas as pd\n",
    "list_data=['2019-01-02',3.14,'ABC',100,True]\n",
    "sr=pd.Series(list_data)\n",
    "print(sr)\n",
    "print('\\n')\n",
    "idx=sr.index\n",
    "val=sr.values"
   ]
  },
  {
   "cell_type": "code",
   "execution_count": null,
   "metadata": {},
   "outputs": [],
   "source": [
    "#p.77\n",
    "import pandas as pd\n",
    "tup_data=('영인','2010-05-01','여',True)\n",
    "sr=pd.Series(tup_data,index=['이름','생년월일','성별','학생여부'])\n",
    "print(sr)\n",
    "print('\\n')\n",
    "print(sr[0])\n",
    "print(sr['이름'])\n",
    "print('\\n')\n",
    "print(sr[1,2])\n",
    "print('\\n')\n",
    "print(sr['생년월일','성별'])\n",
    "print('\\n')\n",
    "print(sr[1:2])\n",
    "print('\\n')\n",
    "print(sr['생년월일':'성별'])\n"
   ]
  },
  {
   "cell_type": "code",
   "execution_count": null,
   "metadata": {},
   "outputs": [],
   "source": [
    "#p.82\n",
    "import pandas as pd\n",
    "dict_data={'c0':[1,2,3],'c1':[4,5,6],'c2':[7,8,9],'c3':[10,11,12],'c4':[13,14,15]}\n",
    "df=pd.DataFrame(dict_data)\n",
    "print(type(df))\n",
    "print('\\n')\n",
    "print(df)"
   ]
  },
  {
   "cell_type": "code",
   "execution_count": null,
   "metadata": {},
   "outputs": [],
   "source": [
    "#p.84\n",
    "import pandas as pd\n",
    "df=pd.DataFrame([[12,'남','덕영중'],[17,'여','수리중']],index=['준서','예은'],columns=['나이','성별','학교'])\n",
    "print('df------------------------------------\\n',df)\n",
    "print('df.index =>',df.index)\n",
    "print('df.columns=>',df.columns)\n",
    "df.index=['학생1','학생2']\n",
    "df.columns=['연령','남녀','소속']\n",
    "print(df)\n",
    "print('\\n')\n",
    "print(df.index)\n",
    "print('\\n')\n",
    "print(df.columns)"
   ]
  },
  {
   "cell_type": "code",
   "execution_count": null,
   "metadata": {},
   "outputs": [],
   "source": [
    "#p.87\n",
    "df2=df.rename(columns={'나이':'연령','성별':'남녀','학교':'소속'})\n",
    "df3=df.rename(index={'준서':'학생1','예은':'학생2'},inplace=True)\n",
    "print(f'df=========={df3}\\n{df}')\n",
    "print(f'df2========\\n{df2}')"
   ]
  },
  {
   "cell_type": "code",
   "execution_count": null,
   "metadata": {},
   "outputs": [],
   "source": [
    "import pandas as pd\n",
    "exam_Data={'수학':[90,80,70],'영어':[98,89,95],'음악':[85,95,100],'체육':[100,90,90]}\n",
    "df=pd.DataFrame(exam_Data,index=['서준','우현','인아'])\n",
    "print(df)\n",
    "print('\\n')\n",
    "\n",
    "df2=df[:]\n",
    "df2.drop('우현',inplace=True)\n",
    "print(df2)\n",
    "print('\\n')\n",
    "df3=df[:]\n",
    "df3.drop(['우현','인아'],axis=0,inplace=True)\n",
    "print(df3)"
   ]
  },
  {
   "cell_type": "code",
   "execution_count": null,
   "metadata": {},
   "outputs": [],
   "source": [
    "#p.90\n",
    "import pandas as pd\n",
    "exam_Data={'수학':[90,80,70],'영어':[98,89,95],'음악':[85,95,100],'체육':[100,90,90]}\n",
    "df=pd.DataFrame(exam_Data,index=['서준','우현','인아'])\n",
    "print(df)\n",
    "print('\\n')\n",
    "\n",
    "df4=df[:]\n",
    "df4.drop('수학',axis=1,inplace=True)\n",
    "print(df4)\n",
    "print('\\n')\n",
    "\n",
    "df5=df[:]\n",
    "df5.drop(['영어','음악'],axis=1,inplace=True)\n",
    "print(df5)"
   ]
  },
  {
   "cell_type": "code",
   "execution_count": null,
   "metadata": {},
   "outputs": [],
   "source": [
    "#p.95\n",
    "import pandas as pd\n",
    "exam_Data={'수학':[90,80,70],'영어':[98,89,95],'음악':[85,95,100],'체육':[100,90,90]}\n",
    "df=pd.DataFrame(exam_Data,index=['서준','우현','인아'])\n",
    "print('df=================\\n',df)\n",
    "print('\\n')\n",
    "\n",
    "label1=df.loc['서준']\n",
    "position1=df.iloc[0]\n",
    "print('label1 =>', label1)\n",
    "print('\\n')\n",
    "print('position1 =>',position1)\n",
    "print('\\n')\n",
    "\n",
    "label2=df.loc[['서준','우현']]\n",
    "position2=df.iloc[[0,1]]\n",
    "print(label2)\n",
    "print('\\n')\n",
    "print(position2)\n",
    "print('\\n')\n",
    "\n",
    "label3=df.loc['서준','우현']\n",
    "position3=df.iloc[0:1]\n",
    "print(label3)\n",
    "print('\\n')\n",
    "print(position3)"
   ]
  },
  {
   "cell_type": "code",
   "execution_count": null,
   "metadata": {},
   "outputs": [],
   "source": [
    "#p.95\n",
    "import pandas as pd\n",
    "exam_Data={'이름':['서준','우현','인아'],'수학':[90,80,70],'영어':[98,89,95],'음악':[85,95,100],'체육':[100,90,90]}\n",
    "df=pd.DataFrame(exam_Data)\n",
    "print(df)\n",
    "print(type(df))\n",
    "print('\\n')\n",
    "\n",
    "math1=df['수학']\n",
    "print(math1)\n",
    "print(type(math1))\n",
    "print('\\n')\n",
    "\n",
    "english=df.영어\n",
    "print(english)\n",
    "print(type(english))\n",
    "\n",
    "music_gym=df[['음악','체육']]\n",
    "print(music_gym)\n",
    "print(type(music_gym))\n",
    "\n",
    "math2=df[['수학']]\n",
    "print(math2)\n",
    "print(type(math2))"
   ]
  },
  {
   "cell_type": "code",
   "execution_count": null,
   "metadata": {},
   "outputs": [],
   "source": [
    "#p.98\n",
    "import pandas as pd\n",
    "exam_Data={'이름':['서준','우현','인아'],'수학':[90,80,70],'영어':[98,89,95],'음악':[85,95,100],'체육':[100,90,90]}\n",
    "df=pd.DataFrame(exam_Data)\n",
    "\n",
    "df.set_index('이름',inplace=True)\n",
    "print(df)\n",
    "\n",
    "a=df.loc['서준','음악']\n",
    "print(a)\n",
    "b=df.iloc[0,2]\n",
    "print(b)\n",
    "c=df.loc['서준',['음악','체육']]\n",
    "print(c)\n",
    "d=df.iloc[0,[2,3]]\n",
    "print(d)\n",
    "e=df.loc['서준','음악','체육']\n",
    "print(e)\n",
    "f=df.iloc[0,2:]\n",
    "print(f)\n",
    "print('\\n')\n",
    "g=df.loc[['서준','우현'],['음악','체육']]\n",
    "print(g)\n",
    "h=df.iloc[[0,1],[2,3]]\n",
    "print(h)\n",
    "i=df.loc['서준':'우현','음악':'체육']\n",
    "print(i)\n",
    "j=df.iloc[0:2,2:]\n",
    "print(j)"
   ]
  },
  {
   "cell_type": "code",
   "execution_count": null,
   "metadata": {},
   "outputs": [],
   "source": [
    "#p.101\n",
    "import pandas as pd\n",
    "exam_Data={'이름':['서준','우현','인아'],'수학':[90,80,70],'영어':[98,89,95],'음악':[85,95,100],'체육':[100,90,90]}\n",
    "df=pd.DataFrame(exam_Data)\n",
    "print(df)\n",
    "print('\\n')\n",
    "\n",
    "df['국어']=80\n",
    "print(df)"
   ]
  },
  {
   "cell_type": "code",
   "execution_count": null,
   "metadata": {},
   "outputs": [],
   "source": [
    "#p.102\n",
    "import pandas as pd\n",
    "exam_Data={'이름':['서준','우현','인아'],'수학':[90,80,70],'영어':[98,89,95],'음악':[85,95,100],'체육':[100,90,90]}\n",
    "df=pd.DataFrame(exam_Data)\n",
    "print(df)\n",
    "print('\\n')\n",
    "\n",
    "df.loc[3]=0\n",
    "print(df)\n",
    "print('\\n')\n",
    "\n",
    "df.loc[4]=['동규',90,80,70,60]\n",
    "print(df)\n",
    "print('\\n')\n",
    "df.loc['행5']=df.loc[3]\n",
    "print(df)"
   ]
  },
  {
   "cell_type": "code",
   "execution_count": null,
   "metadata": {},
   "outputs": [],
   "source": [
    "#p.105\n",
    "import pandas as pd\n",
    "exam_Data={'이름':['서준','우현','인아'],'수학':[90,80,70],'영어':[98,89,95],'음악':[85,95,100],'체육':[100,90,90]}\n",
    "df=pd.DataFrame(exam_Data)\n",
    "df.set_index('이름',inplace=True)\n",
    "print(df)\n",
    "print('\\n')\n",
    "\n",
    "df.iloc[0][3]=80\n",
    "print(df)\n",
    "print('\\n')\n",
    "\n",
    "df.loc['서준']['체육']=90\n",
    "print(df)\n",
    "print('\\n')\n",
    "\n",
    "df.loc['서준','체육']=100\n",
    "print(df)\n",
    "print('\\n')\n",
    "\n",
    "df.loc['서준',['음악','체육']]=50\n",
    "print(df)\n",
    "print('\\n')\n",
    "\n",
    "df.loc['서준',['음악','체육']]=100,50\n",
    "print(df)\n",
    "\n"
   ]
  },
  {
   "cell_type": "code",
   "execution_count": null,
   "metadata": {},
   "outputs": [],
   "source": []
  }
 ],
 "metadata": {
  "kernelspec": {
   "display_name": "PY_39",
   "language": "python",
   "name": "python3"
  },
  "language_info": {
   "codemirror_mode": {
    "name": "ipython",
    "version": 3
   },
   "file_extension": ".py",
   "mimetype": "text/x-python",
   "name": "python",
   "nbconvert_exporter": "python",
   "pygments_lexer": "ipython3",
   "version": "3.9.19"
  }
 },
 "nbformat": 4,
 "nbformat_minor": 2
}

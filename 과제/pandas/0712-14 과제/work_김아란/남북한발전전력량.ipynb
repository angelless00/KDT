{
 "cells": [
  {
   "cell_type": "code",
   "execution_count": null,
   "metadata": {},
   "outputs": [],
   "source": [
    "import pandas as pd\n",
    "import numpy as np\n",
    "data=pd.read_excel(r'C:\\KDT\\과제\\pandas\\0712-14 과제\\남북한발전전력량.xlsx')"
   ]
  },
  {
   "cell_type": "code",
   "execution_count": null,
   "metadata": {},
   "outputs": [],
   "source": [
    "def add(DATA,start,end):\n",
    "    total=0\n",
    "    for i in range(start,end+1):\n",
    "        total=total+DATA[i]\n",
    "    return total"
   ]
  },
  {
   "cell_type": "code",
   "execution_count": null,
   "metadata": {},
   "outputs": [],
   "source": [
    "#신재생 행 만들어주기\n",
    "data.loc[9]=0\n",
    "data.iloc[9,0]=np.nan\n",
    "data.iloc[9,1]='신재생'\n",
    "data"
   ]
  },
  {
   "cell_type": "code",
   "execution_count": null,
   "metadata": {},
   "outputs": [],
   "source": [
    "# '-'을 0으로 만들어주기\n",
    "for r in data.index:\n",
    "    for c in data.columns:\n",
    "        if data.iloc[r][c]=='-':\n",
    "            data.loc[r,c]=0\n",
    "data"
   ]
  },
  {
   "cell_type": "code",
   "execution_count": null,
   "metadata": {},
   "outputs": [],
   "source": [
    "# # 합계 구하기\n",
    "# data['합계']=0\n",
    "# end_col_num=len(data.columns)-1\n",
    "# for r in data.index:\n",
    "#     total=0\n",
    "#     for c in data.columns[2:]:\n",
    "#         total=total+data.iloc[r][c]\n",
    "#     data.iloc[r,end_col_num]=total"
   ]
  },
  {
   "cell_type": "code",
   "execution_count": null,
   "metadata": {},
   "outputs": [],
   "source": [
    "data['합계']=0\n",
    "end_col_num=len(data.columns)-1\n"
   ]
  },
  {
   "cell_type": "code",
   "execution_count": null,
   "metadata": {},
   "outputs": [],
   "source": [
    "for r in data.index:\n",
    "    data.iloc[r,end_col_num]=add(list(data.iloc[r]),2,end_col_num)"
   ]
  },
  {
   "cell_type": "code",
   "execution_count": null,
   "metadata": {},
   "outputs": [],
   "source": [
    "data"
   ]
  }
 ],
 "metadata": {
  "kernelspec": {
   "display_name": "PY_39",
   "language": "python",
   "name": "python3"
  },
  "language_info": {
   "codemirror_mode": {
    "name": "ipython",
    "version": 3
   },
   "file_extension": ".py",
   "mimetype": "text/x-python",
   "name": "python",
   "nbconvert_exporter": "python",
   "pygments_lexer": "ipython3",
   "version": "3.9.19"
  }
 },
 "nbformat": 4,
 "nbformat_minor": 2
}

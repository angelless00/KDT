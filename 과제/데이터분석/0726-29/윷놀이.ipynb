{
 "cells": [
  {
   "cell_type": "code",
   "execution_count": 1090,
   "metadata": {},
   "outputs": [],
   "source": [
    "import random as rad"
   ]
  },
  {
   "cell_type": "markdown",
   "metadata": {},
   "source": [
    "- 윷가락은 4개의 값을 저장할 수 있도록 sticks=\t[0,\t0,\t0,\t0] 형태로 구현\n",
    "- 윷을 던질 때 마다 랜덤하게 0,\t1\t사이의 값을 생성해서 sticks[]에 저장하고 점수를 계산\n",
    "함(예:\tsticks[i]\t=\trandom.randint(0,\t1))\n",
    "- 한 명의 점수가 먼저 20점 이상이면 게임은 바로 종료\n",
    "- ‘모’나 ‘윷’이 나온 경우, 이미 총 점수가 20점 이상이면 한 번 더 던지지 않음\n",
    "- 경기 시작은 어느 누구나 상관없음\n",
    "- 게임이 종료되면 승패 결과를 화면에 출력하고 프로그램 종료"
   ]
  },
  {
   "cell_type": "code",
   "execution_count": 1091,
   "metadata": {},
   "outputs": [],
   "source": [
    "def throw():\n",
    "    sticks=[0,0,0,0]\n",
    "    for i in range(len(sticks)):\n",
    "        sticks[i]=rad.randint(0,1)\n",
    "    return sticks"
   ]
  },
  {
   "cell_type": "code",
   "execution_count": 1092,
   "metadata": {},
   "outputs": [],
   "source": [
    "# 점수 배정 함수\n",
    "def yoot(sticks):\n",
    "    cnt=0\n",
    "    for i in sticks:\n",
    "        cnt+=i\n",
    "    if cnt==0:\n",
    "        score=4\n",
    "        name='윷'\n",
    "    elif cnt==4:\n",
    "        score=5\n",
    "        name='모'\n",
    "    elif cnt==1:\n",
    "        score=3\n",
    "        name='걸'\n",
    "    elif cnt==2:\n",
    "        score=2\n",
    "        name='개'\n",
    "    elif cnt==3:\n",
    "        score=1\n",
    "        name='도'\n",
    "    return score,name"
   ]
  },
  {
   "cell_type": "code",
   "execution_count": 1093,
   "metadata": {},
   "outputs": [],
   "source": [
    "#현재스코어 ==> 결과 후 스코어 \n",
    "# 결과가 나와야 윷이나 모 해결!\n",
    "def hng(hng_score):\n",
    "    hng=throw()\n",
    "    hng_yoot=yoot(hng)\n",
    "    hng_score=hng_score+hng_yoot[0]\n",
    "    print(f'흥부 {hng}: {hng_yoot[1]} ({hng_yoot[0]}점)/(총 {hng_score}점)--->')\n",
    "    return hng_score,hng_yoot[1]"
   ]
  },
  {
   "cell_type": "code",
   "execution_count": 1094,
   "metadata": {},
   "outputs": [],
   "source": [
    "def nol(nol_score):\n",
    "    nol=throw()\n",
    "    nol_yoot=yoot(nol)\n",
    "    nol_score=nol_score+nol_yoot[0]\n",
    "    print(f'\\t\\t\\t\\t\\t\\t<--- 놀부 {nol}: {nol_yoot[1]} ({nol_yoot[0]}점)/(총 {nol_score}점)')\n",
    "    return nol_score,nol_yoot[1]"
   ]
  },
  {
   "cell_type": "code",
   "execution_count": 1095,
   "metadata": {},
   "outputs": [],
   "source": [
    "def hng_worst(hng_score):\n",
    "    hng=[1,1,1,1]\n",
    "    hng_yoot=yoot(hng)\n",
    "    hng_score=hng_score+hng_yoot[0]\n",
    "    print(f'흥부 {hng}: {hng_yoot[1]} ({hng_yoot[0]}점)/(총 {hng_score}점)--->')\n",
    "    return hng_score,hng_yoot[1]"
   ]
  },
  {
   "cell_type": "code",
   "execution_count": 1096,
   "metadata": {},
   "outputs": [],
   "source": [
    "def nol_worst(nol_score):\n",
    "    nol=[1,1,1,1]\n",
    "    nol_yoot=yoot(nol)\n",
    "    nol_score=nol_score+nol_yoot[0]\n",
    "    print(f'\\t\\t\\t\\t\\t\\t<--- 놀부 {nol}: {nol_yoot[1]} ({nol_yoot[0]}점)/(총 {nol_score}점)')\n",
    "    return nol_score,nol_yoot[1]"
   ]
  },
  {
   "cell_type": "code",
   "execution_count": 1097,
   "metadata": {},
   "outputs": [],
   "source": [
    "def main(hng,nol):\n",
    "    hng_score=0\n",
    "    nol_score=0\n",
    "    win_score=20\n",
    "    while True:\n",
    "        hng_yoot='윷'\n",
    "        nol_yoot='윷'\n",
    "        while hng_yoot=='윷' or hng_yoot=='모':\n",
    "            hng_throw=hng(hng_score)\n",
    "            hng_score=hng_throw[0]\n",
    "            hng_yoot=hng_throw[1]\n",
    "            if hng_score>=20:\n",
    "                print(f'흥부 승리 => 흥부: {hng_score}, 놀부: {nol_score}')\n",
    "                break\n",
    "        if hng_score>=20:\n",
    "            break    \n",
    "        while nol_yoot=='윷' or nol_yoot=='모':\n",
    "            nol_throw=nol(nol_score)\n",
    "            nol_score=nol_throw[0]\n",
    "            nol_yoot=nol_throw[1]\n",
    "            if nol_score>=20:\n",
    "                print(f'놀부 승리 => 흥부: {hng_score}, 놀부: {nol_score}')\n",
    "                break\n",
    "        if nol_score>=20:\n",
    "            break  \n"
   ]
  },
  {
   "cell_type": "code",
   "execution_count": 1098,
   "metadata": {},
   "outputs": [
    {
     "name": "stdout",
     "output_type": "stream",
     "text": [
      "흥부 [0, 0, 0, 0]: 윷 (4점)/(총 4점)--->\n",
      "흥부 [1, 0, 1, 0]: 개 (2점)/(총 6점)--->\n",
      "\t\t\t\t\t\t<--- 놀부 [1, 1, 0, 0]: 개 (2점)/(총 2점)\n",
      "흥부 [0, 0, 0, 0]: 윷 (4점)/(총 10점)--->\n",
      "흥부 [0, 1, 0, 1]: 개 (2점)/(총 12점)--->\n",
      "\t\t\t\t\t\t<--- 놀부 [1, 1, 1, 0]: 도 (1점)/(총 3점)\n",
      "흥부 [0, 1, 0, 0]: 걸 (3점)/(총 15점)--->\n",
      "\t\t\t\t\t\t<--- 놀부 [1, 1, 0, 1]: 도 (1점)/(총 4점)\n",
      "흥부 [1, 0, 0, 0]: 걸 (3점)/(총 18점)--->\n",
      "\t\t\t\t\t\t<--- 놀부 [1, 0, 1, 0]: 개 (2점)/(총 6점)\n",
      "흥부 [0, 0, 0, 1]: 걸 (3점)/(총 21점)--->\n",
      "흥부 승리 => 흥부: 21, 놀부: 6\n"
     ]
    }
   ],
   "source": [
    "# 메인 게임\n",
    "main(hng,nol)"
   ]
  },
  {
   "cell_type": "code",
   "execution_count": 1099,
   "metadata": {},
   "outputs": [
    {
     "name": "stdout",
     "output_type": "stream",
     "text": [
      "흥부 [1, 1, 1, 1]: 모 (5점)/(총 5점)--->\n",
      "흥부 [1, 1, 1, 1]: 모 (5점)/(총 10점)--->\n",
      "흥부 [1, 1, 1, 1]: 모 (5점)/(총 15점)--->\n",
      "흥부 [1, 1, 1, 1]: 모 (5점)/(총 20점)--->\n",
      "흥부 승리 => 흥부: 20, 놀부: 0\n"
     ]
    }
   ],
   "source": [
    "## 최악의 경우-흥부승리\n",
    "main(hng_worst,nol)"
   ]
  },
  {
   "cell_type": "code",
   "execution_count": 1100,
   "metadata": {},
   "outputs": [
    {
     "name": "stdout",
     "output_type": "stream",
     "text": [
      "흥부 [1, 0, 0, 0]: 걸 (3점)/(총 3점)--->\n",
      "\t\t\t\t\t\t<--- 놀부 [1, 1, 1, 1]: 모 (5점)/(총 5점)\n",
      "\t\t\t\t\t\t<--- 놀부 [1, 1, 1, 1]: 모 (5점)/(총 10점)\n",
      "\t\t\t\t\t\t<--- 놀부 [1, 1, 1, 1]: 모 (5점)/(총 15점)\n",
      "\t\t\t\t\t\t<--- 놀부 [1, 1, 1, 1]: 모 (5점)/(총 20점)\n",
      "놀부 승리 => 흥부: 3, 놀부: 20\n"
     ]
    }
   ],
   "source": [
    "## 최악의 경우-놀부승리\n",
    "main(hng,nol_worst)"
   ]
  },
  {
   "cell_type": "code",
   "execution_count": null,
   "metadata": {},
   "outputs": [],
   "source": []
  },
  {
   "cell_type": "code",
   "execution_count": null,
   "metadata": {},
   "outputs": [],
   "source": []
  }
 ],
 "metadata": {
  "kernelspec": {
   "display_name": "PY_39",
   "language": "python",
   "name": "python3"
  },
  "language_info": {
   "codemirror_mode": {
    "name": "ipython",
    "version": 3
   },
   "file_extension": ".py",
   "mimetype": "text/x-python",
   "name": "python",
   "nbconvert_exporter": "python",
   "pygments_lexer": "ipython3",
   "version": "3.9.19"
  }
 },
 "nbformat": 4,
 "nbformat_minor": 2
}

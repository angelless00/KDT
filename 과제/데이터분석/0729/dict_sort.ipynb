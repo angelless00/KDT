{
 "cells": [
  {
   "cell_type": "code",
   "execution_count": 14,
   "metadata": {},
   "outputs": [],
   "source": [
    "def menu():\n",
    "    print('-'*40)\n",
    "    print('1. 전체 데이터 출력')\n",
    "    print('2. 수도 이름 오름차순 출력')\n",
    "    print('3. 모든 도시의 인구수 내림차순 출력')\n",
    "    print('4. 특정 도시의 정보 출력')\n",
    "    print('5. 대륙별 인구수 계산 및 출력')\n",
    "    print('6. 프로그램 종료')\n",
    "    print('-'*40)"
   ]
  },
  {
   "cell_type": "code",
   "execution_count": 15,
   "metadata": {},
   "outputs": [],
   "source": [
    "def code1(table):\n",
    "    num=1\n",
    "    for i in table:\n",
    "        print(f'[{num}] {i}: {table[i]}')\n",
    "        num+=1"
   ]
  },
  {
   "cell_type": "code",
   "execution_count": 16,
   "metadata": {},
   "outputs": [],
   "source": [
    "def code1(table):\n",
    "    sorted(table,key=lambda x:x.keys())"
   ]
  },
  {
   "cell_type": "code",
   "execution_count": 17,
   "metadata": {},
   "outputs": [],
   "source": [
    "Table={'Seoul':['South Korea','Asia',9655000],\n",
    "       'Tokyo':['Japan','Asia',14110000],\n",
    "       'Beijing':['China','Asia',21540000],\n",
    "       'London':['United Kingdom','Europe',14800000],\n",
    "       'Berlin':['Germany','Europe',3426000],\n",
    "       'Mexico City':['Mexico','America',21200000]}"
   ]
  },
  {
   "cell_type": "code",
   "execution_count": 18,
   "metadata": {},
   "outputs": [
    {
     "name": "stdout",
     "output_type": "stream",
     "text": [
      "----------------------------------------\n",
      "1. 전체 데이터 출력\n",
      "2. 수도 이름 오름차순 출력\n",
      "3. 모든 도시의 인구수 내림차순 출력\n",
      "4. 특정 도시의 정보 출력\n",
      "5. 대륙별 인구수 계산 및 출력\n",
      "6. 프로그램 종료\n",
      "----------------------------------------\n",
      "----------------------------------------\n",
      "1. 전체 데이터 출력\n",
      "2. 수도 이름 오름차순 출력\n",
      "3. 모든 도시의 인구수 내림차순 출력\n",
      "4. 특정 도시의 정보 출력\n",
      "5. 대륙별 인구수 계산 및 출력\n",
      "6. 프로그램 종료\n",
      "----------------------------------------\n",
      "----------------------------------------\n",
      "1. 전체 데이터 출력\n",
      "2. 수도 이름 오름차순 출력\n",
      "3. 모든 도시의 인구수 내림차순 출력\n",
      "4. 특정 도시의 정보 출력\n",
      "5. 대륙별 인구수 계산 및 출력\n",
      "6. 프로그램 종료\n",
      "----------------------------------------\n",
      "----------------------------------------\n",
      "1. 전체 데이터 출력\n",
      "2. 수도 이름 오름차순 출력\n",
      "3. 모든 도시의 인구수 내림차순 출력\n",
      "4. 특정 도시의 정보 출력\n",
      "5. 대륙별 인구수 계산 및 출력\n",
      "6. 프로그램 종료\n",
      "----------------------------------------\n",
      "----------------------------------------\n",
      "1. 전체 데이터 출력\n",
      "2. 수도 이름 오름차순 출력\n",
      "3. 모든 도시의 인구수 내림차순 출력\n",
      "4. 특정 도시의 정보 출력\n",
      "5. 대륙별 인구수 계산 및 출력\n",
      "6. 프로그램 종료\n",
      "----------------------------------------\n",
      "----------------------------------------\n",
      "1. 전체 데이터 출력\n",
      "2. 수도 이름 오름차순 출력\n",
      "3. 모든 도시의 인구수 내림차순 출력\n",
      "4. 특정 도시의 정보 출력\n",
      "5. 대륙별 인구수 계산 및 출력\n",
      "6. 프로그램 종료\n",
      "----------------------------------------\n",
      "----------------------------------------\n",
      "1. 전체 데이터 출력\n",
      "2. 수도 이름 오름차순 출력\n",
      "3. 모든 도시의 인구수 내림차순 출력\n",
      "4. 특정 도시의 정보 출력\n",
      "5. 대륙별 인구수 계산 및 출력\n",
      "6. 프로그램 종료\n",
      "----------------------------------------\n",
      "----------------------------------------\n",
      "1. 전체 데이터 출력\n",
      "2. 수도 이름 오름차순 출력\n",
      "3. 모든 도시의 인구수 내림차순 출력\n",
      "4. 특정 도시의 정보 출력\n",
      "5. 대륙별 인구수 계산 및 출력\n",
      "6. 프로그램 종료\n",
      "----------------------------------------\n",
      "----------------------------------------\n",
      "1. 전체 데이터 출력\n",
      "2. 수도 이름 오름차순 출력\n",
      "3. 모든 도시의 인구수 내림차순 출력\n",
      "4. 특정 도시의 정보 출력\n",
      "5. 대륙별 인구수 계산 및 출력\n",
      "6. 프로그램 종료\n",
      "----------------------------------------\n"
     ]
    }
   ],
   "source": [
    "inp_num=0\n",
    "while True:\n",
    "    menu()\n",
    "    inp_num=input('메뉴를 입력하세요: ')\n",
    "    if inp_num==1:\n",
    "        code1(Table)\n",
    "    if inp_num==2:\n",
    "        code2(Table)\n",
    "\n",
    "    elif inp_num==6:\n",
    "        break"
   ]
  },
  {
   "cell_type": "code",
   "execution_count": null,
   "metadata": {},
   "outputs": [
    {
     "data": {
      "text/plain": [
       "dict_keys(['Seoul', 'Tokyo', 'Beijing', 'London', 'Berlin', 'Mexico City'])"
      ]
     },
     "execution_count": 7,
     "metadata": {},
     "output_type": "execute_result"
    }
   ],
   "source": [
    "Table.keys()"
   ]
  },
  {
   "cell_type": "code",
   "execution_count": null,
   "metadata": {},
   "outputs": [],
   "source": []
  }
 ],
 "metadata": {
  "kernelspec": {
   "display_name": "PY_39",
   "language": "python",
   "name": "python3"
  },
  "language_info": {
   "codemirror_mode": {
    "name": "ipython",
    "version": 3
   },
   "file_extension": ".py",
   "mimetype": "text/x-python",
   "name": "python",
   "nbconvert_exporter": "python",
   "pygments_lexer": "ipython3",
   "version": "3.9.19"
  }
 },
 "nbformat": 4,
 "nbformat_minor": 2
}

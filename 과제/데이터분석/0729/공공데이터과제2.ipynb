{
 "cells": [
  {
   "cell_type": "code",
   "execution_count": 431,
   "metadata": {},
   "outputs": [],
   "source": [
    "import pandas as pd\n",
    "import matplotlib.pyplot as plt\n",
    "import koreanize_matplotlib"
   ]
  },
  {
   "cell_type": "code",
   "execution_count": 432,
   "metadata": {},
   "outputs": [],
   "source": [
    "dataDF=pd.read_csv('subwaytime.csv',header=[0,1])"
   ]
  },
  {
   "cell_type": "code",
   "execution_count": 433,
   "metadata": {},
   "outputs": [
    {
     "name": "stdout",
     "output_type": "stream",
     "text": [
      "                 사용월                호선명                역ID               지하철역  \\\n",
      "  Unnamed: 0_level_1 Unnamed: 1_level_1 Unnamed: 2_level_1 Unnamed: 3_level_1   \n",
      "0             Jun.24                1호선                150                서울역   \n",
      "1             Jun.24                1호선                151                 시청   \n",
      "2             Jun.24                1호선                152                 종각   \n",
      "3             Jun.24                1호선                153               종로3가   \n",
      "4             Jun.24                1호선                154               종로5가   \n",
      "\n",
      "  04:00:00~04:59:59 Unnamed: 5_level_0 05:00:00~05:59:59 Unnamed: 7_level_0  \\\n",
      "                 승차                 하차                승차                 하차   \n",
      "0               654                 20              8727               9083   \n",
      "1                74                  0              2105               5374   \n",
      "2               132                  7              4291               5787   \n",
      "3               206                 13              4296               3015   \n",
      "4                42                  2              2053               3522   \n",
      "\n",
      "  06:00:00~06:59:59 Unnamed: 9_level_0  ... 23:00:00~23:59:59  \\\n",
      "                 승차                 하차  ...                승차   \n",
      "0             13812              56637  ...             27544   \n",
      "1              4050              25949  ...             10250   \n",
      "2              4312              32747  ...             26952   \n",
      "3              3961              13851  ...             18427   \n",
      "4              3089              17690  ...              5933   \n",
      "\n",
      "  Unnamed: 43_level_0 00:00:00~00:59:59 Unnamed: 45_level_0 01:00:00~01:59:59  \\\n",
      "                   하차                승차                  하차                승차   \n",
      "0               13883              2863                3984                 3   \n",
      "1                3898               502                 991                 1   \n",
      "2                4587              1676                1300                 0   \n",
      "3                5240              1765                2042                 2   \n",
      "4                3597               334                1000                 0   \n",
      "\n",
      "  Unnamed: 47_level_0 02:00:00~02:59:59 Unnamed: 49_level_0 03:00:00~03:59:59  \\\n",
      "                   하차                승차                  하차                승차   \n",
      "0                 215                 0                   0                 0   \n",
      "1                  38                 0                   0                 0   \n",
      "2                   0                 0                   0                 0   \n",
      "3                   6                 0                   0                 0   \n",
      "4                   0                 0                   0                 0   \n",
      "\n",
      "  Unnamed: 51_level_0  \n",
      "                   하차  \n",
      "0                   0  \n",
      "1                   0  \n",
      "2                   0  \n",
      "3                   0  \n",
      "4                   0  \n",
      "\n",
      "[5 rows x 52 columns]\n"
     ]
    }
   ],
   "source": [
    "print(dataDF.head())"
   ]
  },
  {
   "cell_type": "code",
   "execution_count": 434,
   "metadata": {},
   "outputs": [
    {
     "name": "stdout",
     "output_type": "stream",
     "text": [
      "MultiIndex([(                '사용월', 'Unnamed: 0_level_1'),\n",
      "            (                '호선명', 'Unnamed: 1_level_1'),\n",
      "            (                '역ID', 'Unnamed: 2_level_1'),\n",
      "            (               '지하철역', 'Unnamed: 3_level_1'),\n",
      "            (  '04:00:00~04:59:59',                 '승차'),\n",
      "            ( 'Unnamed: 5_level_0',                 '하차'),\n",
      "            (  '05:00:00~05:59:59',                 '승차'),\n",
      "            ( 'Unnamed: 7_level_0',                 '하차'),\n",
      "            (  '06:00:00~06:59:59',                 '승차'),\n",
      "            ( 'Unnamed: 9_level_0',                 '하차'),\n",
      "            (  '07:00:00~07:59:59',                 '승차'),\n",
      "            ('Unnamed: 11_level_0',                 '하차'),\n",
      "            (  '08:00:00~08:59:59',                 '승차'),\n",
      "            ('Unnamed: 13_level_0',                 '하차'),\n",
      "            (  '09:00:00~09:59:59',                 '승차'),\n",
      "            ('Unnamed: 15_level_0',                 '하차'),\n",
      "            (  '10:00:00~10:59:59',                 '승차'),\n",
      "            ('Unnamed: 17_level_0',                 '하차'),\n",
      "            (  '11:00:00~11:59:59',                 '승차'),\n",
      "            ('Unnamed: 19_level_0',                 '하차'),\n",
      "            (  '12:00:00~12:59:59',                 '승차'),\n",
      "            ('Unnamed: 21_level_0',                 '하차'),\n",
      "            (  '13:00:00~13:59:59',                 '승차'),\n",
      "            ('Unnamed: 23_level_0',                 '하차'),\n",
      "            (  '14:00:00~14:59:59',                 '승차'),\n",
      "            ('Unnamed: 25_level_0',                 '하차'),\n",
      "            (  '15:00:00~15:59:59',                 '승차'),\n",
      "            ('Unnamed: 27_level_0',                 '하차'),\n",
      "            (  '16:00:00~16:59:59',                 '승차'),\n",
      "            ('Unnamed: 29_level_0',                 '하차'),\n",
      "            (  '17:00:00~17:59:59',                 '승차'),\n",
      "            ('Unnamed: 31_level_0',                 '하차'),\n",
      "            (  '18:00:00~18:59:59',                 '승차'),\n",
      "            ('Unnamed: 33_level_0',                 '하차'),\n",
      "            (  '19:00:00~19:59:59',                 '승차'),\n",
      "            ('Unnamed: 35_level_0',                 '하차'),\n",
      "            (  '20:00:00~20:59:59',                 '승차'),\n",
      "            ('Unnamed: 37_level_0',                 '하차'),\n",
      "            (  '21:00:00~21:59:59',                 '승차'),\n",
      "            ('Unnamed: 39_level_0',                 '하차'),\n",
      "            (  '22:00:00~22:59:59',                 '승차'),\n",
      "            ('Unnamed: 41_level_0',                 '하차'),\n",
      "            (  '23:00:00~23:59:59',                 '승차'),\n",
      "            ('Unnamed: 43_level_0',                 '하차'),\n",
      "            (  '00:00:00~00:59:59',                 '승차'),\n",
      "            ('Unnamed: 45_level_0',                 '하차'),\n",
      "            (  '01:00:00~01:59:59',                 '승차'),\n",
      "            ('Unnamed: 47_level_0',                 '하차'),\n",
      "            (  '02:00:00~02:59:59',                 '승차'),\n",
      "            ('Unnamed: 49_level_0',                 '하차'),\n",
      "            (  '03:00:00~03:59:59',                 '승차'),\n",
      "            ('Unnamed: 51_level_0',                 '하차')],\n",
      "           )\n"
     ]
    }
   ],
   "source": [
    "print(dataDF.columns)"
   ]
  },
  {
   "cell_type": "code",
   "execution_count": 435,
   "metadata": {},
   "outputs": [
    {
     "name": "stdout",
     "output_type": "stream",
     "text": [
      "<class 'pandas.core.frame.DataFrame'>\n",
      "RangeIndex: 622 entries, 0 to 621\n",
      "Data columns (total 52 columns):\n",
      " #   Column                      Non-Null Count  Dtype \n",
      "---  ------                      --------------  ----- \n",
      " 0   (사용월, Unnamed: 0_level_1)   622 non-null    object\n",
      " 1   (호선명, Unnamed: 1_level_1)   622 non-null    object\n",
      " 2   (역ID, Unnamed: 2_level_1)   622 non-null    int64 \n",
      " 3   (지하철역, Unnamed: 3_level_1)  622 non-null    object\n",
      " 4   (04:00:00~04:59:59, 승차)     622 non-null    int64 \n",
      " 5   (Unnamed: 5_level_0, 하차)    622 non-null    int64 \n",
      " 6   (05:00:00~05:59:59, 승차)     622 non-null    int64 \n",
      " 7   (Unnamed: 7_level_0, 하차)    622 non-null    int64 \n",
      " 8   (06:00:00~06:59:59, 승차)     622 non-null    int64 \n",
      " 9   (Unnamed: 9_level_0, 하차)    622 non-null    int64 \n",
      " 10  (07:00:00~07:59:59, 승차)     622 non-null    int64 \n",
      " 11  (Unnamed: 11_level_0, 하차)   622 non-null    int64 \n",
      " 12  (08:00:00~08:59:59, 승차)     622 non-null    int64 \n",
      " 13  (Unnamed: 13_level_0, 하차)   622 non-null    int64 \n",
      " 14  (09:00:00~09:59:59, 승차)     622 non-null    int64 \n",
      " 15  (Unnamed: 15_level_0, 하차)   622 non-null    int64 \n",
      " 16  (10:00:00~10:59:59, 승차)     622 non-null    int64 \n",
      " 17  (Unnamed: 17_level_0, 하차)   622 non-null    int64 \n",
      " 18  (11:00:00~11:59:59, 승차)     622 non-null    int64 \n",
      " 19  (Unnamed: 19_level_0, 하차)   622 non-null    int64 \n",
      " 20  (12:00:00~12:59:59, 승차)     622 non-null    int64 \n",
      " 21  (Unnamed: 21_level_0, 하차)   622 non-null    int64 \n",
      " 22  (13:00:00~13:59:59, 승차)     622 non-null    int64 \n",
      " 23  (Unnamed: 23_level_0, 하차)   622 non-null    int64 \n",
      " 24  (14:00:00~14:59:59, 승차)     622 non-null    int64 \n",
      " 25  (Unnamed: 25_level_0, 하차)   622 non-null    int64 \n",
      " 26  (15:00:00~15:59:59, 승차)     622 non-null    int64 \n",
      " 27  (Unnamed: 27_level_0, 하차)   622 non-null    int64 \n",
      " 28  (16:00:00~16:59:59, 승차)     622 non-null    int64 \n",
      " 29  (Unnamed: 29_level_0, 하차)   622 non-null    int64 \n",
      " 30  (17:00:00~17:59:59, 승차)     622 non-null    int64 \n",
      " 31  (Unnamed: 31_level_0, 하차)   622 non-null    int64 \n",
      " 32  (18:00:00~18:59:59, 승차)     622 non-null    int64 \n",
      " 33  (Unnamed: 33_level_0, 하차)   622 non-null    int64 \n",
      " 34  (19:00:00~19:59:59, 승차)     622 non-null    int64 \n",
      " 35  (Unnamed: 35_level_0, 하차)   622 non-null    int64 \n",
      " 36  (20:00:00~20:59:59, 승차)     622 non-null    int64 \n",
      " 37  (Unnamed: 37_level_0, 하차)   622 non-null    int64 \n",
      " 38  (21:00:00~21:59:59, 승차)     622 non-null    int64 \n",
      " 39  (Unnamed: 39_level_0, 하차)   622 non-null    int64 \n",
      " 40  (22:00:00~22:59:59, 승차)     622 non-null    int64 \n",
      " 41  (Unnamed: 41_level_0, 하차)   622 non-null    int64 \n",
      " 42  (23:00:00~23:59:59, 승차)     622 non-null    int64 \n",
      " 43  (Unnamed: 43_level_0, 하차)   622 non-null    int64 \n",
      " 44  (00:00:00~00:59:59, 승차)     622 non-null    int64 \n",
      " 45  (Unnamed: 45_level_0, 하차)   622 non-null    int64 \n",
      " 46  (01:00:00~01:59:59, 승차)     622 non-null    int64 \n",
      " 47  (Unnamed: 47_level_0, 하차)   622 non-null    int64 \n",
      " 48  (02:00:00~02:59:59, 승차)     622 non-null    int64 \n",
      " 49  (Unnamed: 49_level_0, 하차)   622 non-null    int64 \n",
      " 50  (03:00:00~03:59:59, 승차)     622 non-null    int64 \n",
      " 51  (Unnamed: 51_level_0, 하차)   622 non-null    int64 \n",
      "dtypes: int64(49), object(3)\n",
      "memory usage: 252.8+ KB\n",
      "None\n"
     ]
    }
   ],
   "source": [
    "print(dataDF.info())"
   ]
  },
  {
   "cell_type": "code",
   "execution_count": 436,
   "metadata": {},
   "outputs": [
    {
     "name": "stderr",
     "output_type": "stream",
     "text": [
      "C:\\Users\\KDP-30\\AppData\\Local\\Temp\\ipykernel_12704\\643960897.py:2: SettingWithCopyWarning: \n",
      "A value is trying to be set on a copy of a slice from a DataFrame.\n",
      "Try using .loc[row_indexer,col_indexer] = value instead\n",
      "\n",
      "See the caveats in the documentation: https://pandas.pydata.org/pandas-docs/stable/user_guide/indexing.html#returning-a-view-versus-a-copy\n",
      "  subway_out['people_count']=0\n"
     ]
    },
    {
     "data": {
      "text/html": [
       "<div>\n",
       "<style scoped>\n",
       "    .dataframe tbody tr th:only-of-type {\n",
       "        vertical-align: middle;\n",
       "    }\n",
       "\n",
       "    .dataframe tbody tr th {\n",
       "        vertical-align: top;\n",
       "    }\n",
       "\n",
       "    .dataframe thead tr th {\n",
       "        text-align: left;\n",
       "    }\n",
       "</style>\n",
       "<table border=\"1\" class=\"dataframe\">\n",
       "  <thead>\n",
       "    <tr>\n",
       "      <th></th>\n",
       "      <th>호선명</th>\n",
       "      <th>지하철역</th>\n",
       "      <th>people_count</th>\n",
       "    </tr>\n",
       "    <tr>\n",
       "      <th></th>\n",
       "      <th>Unnamed: 1_level_1</th>\n",
       "      <th>Unnamed: 3_level_1</th>\n",
       "      <th></th>\n",
       "    </tr>\n",
       "  </thead>\n",
       "  <tbody>\n",
       "    <tr>\n",
       "      <th>0</th>\n",
       "      <td>1호선</td>\n",
       "      <td>서울역</td>\n",
       "      <td>0</td>\n",
       "    </tr>\n",
       "    <tr>\n",
       "      <th>1</th>\n",
       "      <td>1호선</td>\n",
       "      <td>시청</td>\n",
       "      <td>0</td>\n",
       "    </tr>\n",
       "    <tr>\n",
       "      <th>2</th>\n",
       "      <td>1호선</td>\n",
       "      <td>종각</td>\n",
       "      <td>0</td>\n",
       "    </tr>\n",
       "    <tr>\n",
       "      <th>3</th>\n",
       "      <td>1호선</td>\n",
       "      <td>종로3가</td>\n",
       "      <td>0</td>\n",
       "    </tr>\n",
       "    <tr>\n",
       "      <th>4</th>\n",
       "      <td>1호선</td>\n",
       "      <td>종로5가</td>\n",
       "      <td>0</td>\n",
       "    </tr>\n",
       "    <tr>\n",
       "      <th>...</th>\n",
       "      <td>...</td>\n",
       "      <td>...</td>\n",
       "      <td>...</td>\n",
       "    </tr>\n",
       "    <tr>\n",
       "      <th>617</th>\n",
       "      <td>신림선</td>\n",
       "      <td>당곡</td>\n",
       "      <td>0</td>\n",
       "    </tr>\n",
       "    <tr>\n",
       "      <th>618</th>\n",
       "      <td>신림선</td>\n",
       "      <td>신림</td>\n",
       "      <td>0</td>\n",
       "    </tr>\n",
       "    <tr>\n",
       "      <th>619</th>\n",
       "      <td>신림선</td>\n",
       "      <td>서원</td>\n",
       "      <td>0</td>\n",
       "    </tr>\n",
       "    <tr>\n",
       "      <th>620</th>\n",
       "      <td>신림선</td>\n",
       "      <td>서울대벤처타운</td>\n",
       "      <td>0</td>\n",
       "    </tr>\n",
       "    <tr>\n",
       "      <th>621</th>\n",
       "      <td>신림선</td>\n",
       "      <td>관악산(서울대)</td>\n",
       "      <td>0</td>\n",
       "    </tr>\n",
       "  </tbody>\n",
       "</table>\n",
       "<p>622 rows × 3 columns</p>\n",
       "</div>"
      ],
      "text/plain": [
       "                   호선명               지하철역 people_count\n",
       "    Unnamed: 1_level_1 Unnamed: 3_level_1             \n",
       "0                  1호선                서울역            0\n",
       "1                  1호선                 시청            0\n",
       "2                  1호선                 종각            0\n",
       "3                  1호선               종로3가            0\n",
       "4                  1호선               종로5가            0\n",
       "..                 ...                ...          ...\n",
       "617                신림선                 당곡            0\n",
       "618                신림선                 신림            0\n",
       "619                신림선                 서원            0\n",
       "620                신림선            서울대벤처타운            0\n",
       "621                신림선           관악산(서울대)            0\n",
       "\n",
       "[622 rows x 3 columns]"
      ]
     },
     "execution_count": 436,
     "metadata": {},
     "output_type": "execute_result"
    }
   ],
   "source": [
    "subway_out=dataDF[['호선명','지하철역']]\n",
    "subway_out['people_count']=0\n",
    "subway_out"
   ]
  },
  {
   "cell_type": "code",
   "execution_count": 437,
   "metadata": {},
   "outputs": [],
   "source": [
    "for row in dataDF.index:\n",
    "    count=0\n",
    "    for col in dataDF.columns[[11,13]]:\n",
    "        count+=dataDF.loc[row,col]\n",
    "    subway_out.loc[row,'people_count']=int(count)"
   ]
  },
  {
   "cell_type": "code",
   "execution_count": 438,
   "metadata": {},
   "outputs": [
    {
     "data": {
      "text/plain": [
       "MultiIndex([( 'Unnamed: 5_level_0', '하차'),\n",
       "            ( 'Unnamed: 7_level_0', '하차'),\n",
       "            ( 'Unnamed: 9_level_0', '하차'),\n",
       "            ('Unnamed: 11_level_0', '하차'),\n",
       "            ('Unnamed: 13_level_0', '하차'),\n",
       "            ('Unnamed: 15_level_0', '하차'),\n",
       "            ('Unnamed: 17_level_0', '하차'),\n",
       "            ('Unnamed: 19_level_0', '하차'),\n",
       "            ('Unnamed: 21_level_0', '하차'),\n",
       "            ('Unnamed: 23_level_0', '하차'),\n",
       "            ('Unnamed: 25_level_0', '하차'),\n",
       "            ('Unnamed: 27_level_0', '하차'),\n",
       "            ('Unnamed: 29_level_0', '하차'),\n",
       "            ('Unnamed: 31_level_0', '하차'),\n",
       "            ('Unnamed: 33_level_0', '하차'),\n",
       "            ('Unnamed: 35_level_0', '하차'),\n",
       "            ('Unnamed: 37_level_0', '하차'),\n",
       "            ('Unnamed: 39_level_0', '하차'),\n",
       "            ('Unnamed: 41_level_0', '하차'),\n",
       "            ('Unnamed: 43_level_0', '하차'),\n",
       "            ('Unnamed: 45_level_0', '하차'),\n",
       "            ('Unnamed: 47_level_0', '하차'),\n",
       "            ('Unnamed: 49_level_0', '하차'),\n",
       "            ('Unnamed: 51_level_0', '하차')],\n",
       "           )"
      ]
     },
     "execution_count": 438,
     "metadata": {},
     "output_type": "execute_result"
    }
   ],
   "source": [
    "dataDF.columns[5::2]"
   ]
  },
  {
   "cell_type": "code",
   "execution_count": 439,
   "metadata": {},
   "outputs": [
    {
     "name": "stdout",
     "output_type": "stream",
     "text": [
      "                 호선명               지하철역 people_count\n",
      "  Unnamed: 1_level_1 Unnamed: 3_level_1             \n",
      "0                1호선                서울역       339596\n",
      "1                1호선                 시청       255113\n",
      "2                1호선                 종각       356704\n",
      "3                1호선               종로3가        93311\n",
      "4                1호선               종로5가       131154\n",
      "5                1호선                동대문        32874\n",
      "6                1호선                신설동        78675\n",
      "7                1호선                제기동        62950\n",
      "8                1호선       청량리(서울시립대입구)        57720\n",
      "9                1호선                동묘앞        32022\n"
     ]
    }
   ],
   "source": [
    "print(subway_out.head(10))\n"
   ]
  },
  {
   "cell_type": "code",
   "execution_count": 440,
   "metadata": {},
   "outputs": [
    {
     "name": "stdout",
     "output_type": "stream",
     "text": [
      "<class 'pandas.core.frame.DataFrame'>\n",
      "RangeIndex: 622 entries, 0 to 621\n",
      "Data columns (total 3 columns):\n",
      " #   Column                      Non-Null Count  Dtype \n",
      "---  ------                      --------------  ----- \n",
      " 0   (호선명, Unnamed: 1_level_1)   622 non-null    object\n",
      " 1   (지하철역, Unnamed: 3_level_1)  622 non-null    object\n",
      " 2   (people_count, )            622 non-null    int64 \n",
      "dtypes: int64(1), object(2)\n",
      "memory usage: 14.7+ KB\n"
     ]
    }
   ],
   "source": [
    "subway_out.info()"
   ]
  },
  {
   "cell_type": "code",
   "execution_count": 441,
   "metadata": {},
   "outputs": [],
   "source": [
    "line=[]\n",
    "line_max_name=[]\n",
    "line_max_number=[]"
   ]
  },
  {
   "cell_type": "code",
   "execution_count": 442,
   "metadata": {},
   "outputs": [
    {
     "name": "stdout",
     "output_type": "stream",
     "text": [
      "출근 시간대 1호선 최대 하차역: 종각, 하차인원: 356704명\n",
      "출근 시간대 2호선 최대 하차역: 역삼, 하차인원: 488949명\n",
      "출근 시간대 3호선 최대 하차역: 양재(서초구청), 하차인원: 318850명\n",
      "출근 시간대 4호선 최대 하차역: 충무로, 하차인원: 224078명\n",
      "출근 시간대 5호선 최대 하차역: 여의도, 하차인원: 340464명\n",
      "출근 시간대 6호선 최대 하차역: 공덕, 하차인원: 131646명\n",
      "출근 시간대 7호선 최대 하차역: 가산디지털단지, 하차인원: 494848명\n"
     ]
    }
   ],
   "source": [
    "for i in range(7):\n",
    "    max_name=''\n",
    "    max_number=0\n",
    "    nline=subway_out[subway_out[('호선명','Unnamed: 1_level_1')]==str(i+1)+'호선']\n",
    "    for row in range(len(nline.index)):\n",
    "        if nline.iloc[row,2]>max_number:\n",
    "            max_number=nline.iloc[row,2]\n",
    "            max_name=nline.iloc[row,1]\n",
    "    print(f'출근 시간대 {i+1}호선 최대 하차역: {max_name}, 하차인원: {max_number:,}명')\n",
    "    line.append(str(i+1)+'호선 '+max_name)\n",
    "    line_max_name.append(max_name)\n",
    "    line_max_number.append(max_number)\n"
   ]
  },
  {
   "cell_type": "code",
   "execution_count": 447,
   "metadata": {},
   "outputs": [
    {
     "data": {
      "text/plain": [
       "Text(0.5, 1.0, '출근 시간대 지하철 노선별 최대 하차 인원 및 하차역')"
      ]
     },
     "execution_count": 447,
     "metadata": {},
     "output_type": "execute_result"
    },
    {
     "data": {
      "image/png": "[encoded data removed]",
      "text/plain": [
       "<Figure size 640x480 with 1 Axes>"
      ]
     },
     "metadata": {},
     "output_type": "display_data"
    }
   ],
   "source": [
    "plt.bar(line,line_max_number)\n",
    "plt.xticks(rotation=80)\n",
    "plt.title('출근 시간대 지하철 노선별 최대 하차 인원 및 하차역')"
   ]
  },
  {
   "cell_type": "code",
   "execution_count": null,
   "metadata": {},
   "outputs": [],
   "source": []
  }
 ],
 "metadata": {
  "kernelspec": {
   "display_name": "PY_39",
   "language": "python",
   "name": "python3"
  },
  "language_info": {
   "codemirror_mode": {
    "name": "ipython",
    "version": 3
   },
   "file_extension": ".py",
   "mimetype": "text/x-python",
   "name": "python",
   "nbconvert_exporter": "python",
   "pygments_lexer": "ipython3",
   "version": "3.9.19"
  }
 },
 "nbformat": 4,
 "nbformat_minor": 2
}

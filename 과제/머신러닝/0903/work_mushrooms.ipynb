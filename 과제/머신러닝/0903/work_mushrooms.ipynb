{
 "cells": [
  {
   "cell_type": "code",
   "execution_count": 265,
   "metadata": {},
   "outputs": [],
   "source": [
    "import pandas as pd\n",
    "import numpy as np\n",
    "from sklearn.model_selection import train_test_split, cross_validate\n",
    "from sklearn.preprocessing import LabelEncoder, OneHotEncoder\n",
    "from sklearn.tree import DecisionTreeClassifier\n",
    "from sklearn.linear_model import LogisticRegression\n",
    "from sklearn.ensemble import VotingClassifier"
   ]
  },
  {
   "cell_type": "markdown",
   "metadata": {},
   "source": [
    "데이터 준비"
   ]
  },
  {
   "cell_type": "code",
   "execution_count": 266,
   "metadata": {},
   "outputs": [],
   "source": [
    "mrDF=pd.read_csv('mushrooms.csv')"
   ]
  },
  {
   "cell_type": "code",
   "execution_count": 267,
   "metadata": {},
   "outputs": [
    {
     "name": "stdout",
     "output_type": "stream",
     "text": [
      "<class 'pandas.core.frame.DataFrame'>\n",
      "RangeIndex: 8124 entries, 0 to 8123\n",
      "Data columns (total 23 columns):\n",
      " #   Column                    Non-Null Count  Dtype \n",
      "---  ------                    --------------  ----- \n",
      " 0   class                     8124 non-null   object\n",
      " 1   cap-shape                 8124 non-null   object\n",
      " 2   cap-surface               8124 non-null   object\n",
      " 3   cap-color                 8124 non-null   object\n",
      " 4   bruises                   8124 non-null   object\n",
      " 5   odor                      8124 non-null   object\n",
      " 6   gill-attachment           8124 non-null   object\n",
      " 7   gill-spacing              8124 non-null   object\n",
      " 8   gill-size                 8124 non-null   object\n",
      " 9   gill-color                8124 non-null   object\n",
      " 10  stalk-shape               8124 non-null   object\n",
      " 11  stalk-root                8124 non-null   object\n",
      " 12  stalk-surface-above-ring  8124 non-null   object\n",
      " 13  stalk-surface-below-ring  8124 non-null   object\n",
      " 14  stalk-color-above-ring    8124 non-null   object\n",
      " 15  stalk-color-below-ring    8124 non-null   object\n",
      " 16  veil-type                 8124 non-null   object\n",
      " 17  veil-color                8124 non-null   object\n",
      " 18  ring-number               8124 non-null   object\n",
      " 19  ring-type                 8124 non-null   object\n",
      " 20  spore-print-color         8124 non-null   object\n",
      " 21  population                8124 non-null   object\n",
      " 22  habitat                   8124 non-null   object\n",
      "dtypes: object(23)\n",
      "memory usage: 1.4+ MB\n"
     ]
    }
   ],
   "source": [
    "mrDF.info()"
   ]
  },
  {
   "cell_type": "markdown",
   "metadata": {},
   "source": [
    "결측치확인"
   ]
  },
  {
   "cell_type": "code",
   "execution_count": 268,
   "metadata": {},
   "outputs": [
    {
     "name": "stdout",
     "output_type": "stream",
     "text": [
      " class ['p' 'e']\n",
      " cap-shape ['x' 'b' 's' 'f' 'k' 'c']\n",
      " cap-surface ['s' 'y' 'f' 'g']\n",
      " cap-color ['n' 'y' 'w' 'g' 'e' 'p' 'b' 'u' 'c' 'r']\n",
      " bruises ['t' 'f']\n",
      " odor ['p' 'a' 'l' 'n' 'f' 'c' 'y' 's' 'm']\n",
      " gill-attachment ['f' 'a']\n",
      " gill-spacing ['c' 'w']\n",
      " gill-size ['n' 'b']\n",
      " gill-color ['k' 'n' 'g' 'p' 'w' 'h' 'u' 'e' 'b' 'r' 'y' 'o']\n",
      " stalk-shape ['e' 't']\n",
      " stalk-root ['e' 'c' 'b' 'r' '?']\n",
      " stalk-surface-above-ring ['s' 'f' 'k' 'y']\n",
      " stalk-surface-below-ring ['s' 'f' 'y' 'k']\n",
      " stalk-color-above-ring ['w' 'g' 'p' 'n' 'b' 'e' 'o' 'c' 'y']\n",
      " stalk-color-below-ring ['w' 'p' 'g' 'b' 'n' 'e' 'y' 'o' 'c']\n",
      " veil-type ['p']\n",
      " veil-color ['w' 'n' 'o' 'y']\n",
      " ring-number ['o' 't' 'n']\n",
      " ring-type ['p' 'e' 'l' 'f' 'n']\n",
      " spore-print-color ['k' 'n' 'u' 'h' 'w' 'r' 'o' 'y' 'b']\n",
      " population ['s' 'n' 'a' 'v' 'y' 'c']\n",
      " habitat ['u' 'g' 'm' 'd' 'p' 'w' 'l']\n"
     ]
    }
   ],
   "source": [
    "for col in mrDF.columns:\n",
    "    print(f' {col} {mrDF[col].unique()}')"
   ]
  },
  {
   "cell_type": "markdown",
   "metadata": {},
   "source": [
    "stalk_root 에 ? 존재!"
   ]
  },
  {
   "cell_type": "code",
   "execution_count": 269,
   "metadata": {},
   "outputs": [
    {
     "data": {
      "text/plain": [
       "stalk-root\n",
       "b    3776\n",
       "?    2480\n",
       "e    1120\n",
       "c     556\n",
       "r     192\n",
       "Name: count, dtype: int64"
      ]
     },
     "execution_count": 269,
     "metadata": {},
     "output_type": "execute_result"
    }
   ],
   "source": [
    "mrDF['stalk-root'].value_counts()"
   ]
  },
  {
   "cell_type": "markdown",
   "metadata": {},
   "source": [
    "?를...일단.. 제거?"
   ]
  },
  {
   "cell_type": "code",
   "execution_count": 270,
   "metadata": {},
   "outputs": [
    {
     "name": "stdout",
     "output_type": "stream",
     "text": [
      "<class 'pandas.core.frame.DataFrame'>\n",
      "Index: 5644 entries, 0 to 8114\n",
      "Data columns (total 23 columns):\n",
      " #   Column                    Non-Null Count  Dtype \n",
      "---  ------                    --------------  ----- \n",
      " 0   class                     5644 non-null   object\n",
      " 1   cap-shape                 5644 non-null   object\n",
      " 2   cap-surface               5644 non-null   object\n",
      " 3   cap-color                 5644 non-null   object\n",
      " 4   bruises                   5644 non-null   object\n",
      " 5   odor                      5644 non-null   object\n",
      " 6   gill-attachment           5644 non-null   object\n",
      " 7   gill-spacing              5644 non-null   object\n",
      " 8   gill-size                 5644 non-null   object\n",
      " 9   gill-color                5644 non-null   object\n",
      " 10  stalk-shape               5644 non-null   object\n",
      " 11  stalk-root                5644 non-null   object\n",
      " 12  stalk-surface-above-ring  5644 non-null   object\n",
      " 13  stalk-surface-below-ring  5644 non-null   object\n",
      " 14  stalk-color-above-ring    5644 non-null   object\n",
      " 15  stalk-color-below-ring    5644 non-null   object\n",
      " 16  veil-type                 5644 non-null   object\n",
      " 17  veil-color                5644 non-null   object\n",
      " 18  ring-number               5644 non-null   object\n",
      " 19  ring-type                 5644 non-null   object\n",
      " 20  spore-print-color         5644 non-null   object\n",
      " 21  population                5644 non-null   object\n",
      " 22  habitat                   5644 non-null   object\n",
      "dtypes: object(23)\n",
      "memory usage: 1.0+ MB\n"
     ]
    }
   ],
   "source": [
    "mrDF['stalk-root'].replace('?',np.NaN,inplace=True)\n",
    "mrDF.dropna(inplace=True)\n",
    "mrDF.info()"
   ]
  },
  {
   "cell_type": "code",
   "execution_count": 294,
   "metadata": {},
   "outputs": [
    {
     "data": {
      "text/plain": [
       "0"
      ]
     },
     "execution_count": 294,
     "metadata": {},
     "output_type": "execute_result"
    }
   ],
   "source": [
    "# 중복값\n",
    "mrDF.duplicated().sum()"
   ]
  },
  {
   "cell_type": "markdown",
   "metadata": {},
   "source": [
    "피쳐 타겟 분리"
   ]
  },
  {
   "cell_type": "code",
   "execution_count": 271,
   "metadata": {},
   "outputs": [
    {
     "name": "stdout",
     "output_type": "stream",
     "text": [
      "<class 'pandas.core.frame.DataFrame'>\n",
      "Index: 5644 entries, 0 to 8114\n",
      "Data columns (total 22 columns):\n",
      " #   Column                    Non-Null Count  Dtype \n",
      "---  ------                    --------------  ----- \n",
      " 0   cap-shape                 5644 non-null   object\n",
      " 1   cap-surface               5644 non-null   object\n",
      " 2   cap-color                 5644 non-null   object\n",
      " 3   bruises                   5644 non-null   object\n",
      " 4   odor                      5644 non-null   object\n",
      " 5   gill-attachment           5644 non-null   object\n",
      " 6   gill-spacing              5644 non-null   object\n",
      " 7   gill-size                 5644 non-null   object\n",
      " 8   gill-color                5644 non-null   object\n",
      " 9   stalk-shape               5644 non-null   object\n",
      " 10  stalk-root                5644 non-null   object\n",
      " 11  stalk-surface-above-ring  5644 non-null   object\n",
      " 12  stalk-surface-below-ring  5644 non-null   object\n",
      " 13  stalk-color-above-ring    5644 non-null   object\n",
      " 14  stalk-color-below-ring    5644 non-null   object\n",
      " 15  veil-type                 5644 non-null   object\n",
      " 16  veil-color                5644 non-null   object\n",
      " 17  ring-number               5644 non-null   object\n",
      " 18  ring-type                 5644 non-null   object\n",
      " 19  spore-print-color         5644 non-null   object\n",
      " 20  population                5644 non-null   object\n",
      " 21  habitat                   5644 non-null   object\n",
      "dtypes: object(22)\n",
      "memory usage: 1014.2+ KB\n"
     ]
    }
   ],
   "source": [
    "targetSR=mrDF['class']\n",
    "featureDF=mrDF.drop(columns='class')\n",
    "featureDF.info()"
   ]
  },
  {
   "cell_type": "markdown",
   "metadata": {},
   "source": [
    "인코딩"
   ]
  },
  {
   "cell_type": "code",
   "execution_count": 272,
   "metadata": {},
   "outputs": [],
   "source": [
    "# encoder=LabelEncoder()\n",
    "# for col in featureDF.columns:\n",
    "#     featureDF[col]=encoder.fit_transform(featureDF[col])\n",
    "\n",
    "# featureDF"
   ]
  },
  {
   "cell_type": "code",
   "execution_count": 273,
   "metadata": {},
   "outputs": [],
   "source": [
    "# encoder=OneHotEncoder(sparse_output=False)\n",
    "# featureDF=encoder.fit_transform(featureDF)\n"
   ]
  },
  {
   "cell_type": "code",
   "execution_count": 274,
   "metadata": {},
   "outputs": [],
   "source": [
    "featureDF=pd.get_dummies(featureDF)"
   ]
  },
  {
   "cell_type": "markdown",
   "metadata": {},
   "source": [
    "데이터셋분리"
   ]
  },
  {
   "cell_type": "code",
   "execution_count": 275,
   "metadata": {},
   "outputs": [],
   "source": [
    "X_train,X_test,y_train,y_test=train_test_split(featureDF,targetSR,stratify=targetSR,random_state=0)"
   ]
  },
  {
   "cell_type": "markdown",
   "metadata": {},
   "source": [
    "학습진행 -\n",
    "- VotingClassfier\n",
    "    - LogisticRegression\n",
    "    - DecisionTreeClassfier"
   ]
  },
  {
   "cell_type": "code",
   "execution_count": 276,
   "metadata": {},
   "outputs": [],
   "source": [
    "lr_model=LogisticRegression()\n",
    "dt_model=DecisionTreeClassifier()"
   ]
  },
  {
   "cell_type": "markdown",
   "metadata": {},
   "source": [
    "logisticRegression\n"
   ]
  },
  {
   "cell_type": "code",
   "execution_count": 277,
   "metadata": {},
   "outputs": [
    {
     "data": {
      "text/html": [
       "<style>#sk-container-id-26 {color: black;}#sk-container-id-26 pre{padding: 0;}#sk-container-id-26 div.sk-toggleable {background-color: white;}#sk-container-id-26 label.sk-toggleable__label {cursor: pointer;display: block;width: 100%;margin-bottom: 0;padding: 0.3em;box-sizing: border-box;text-align: center;}#sk-container-id-26 label.sk-toggleable__label-arrow:before {content: \"▸\";float: left;margin-right: 0.25em;color: #696969;}#sk-container-id-26 label.sk-toggleable__label-arrow:hover:before {color: black;}#sk-container-id-26 div.sk-estimator:hover label.sk-toggleable__label-arrow:before {color: black;}#sk-container-id-26 div.sk-toggleable__content {max-height: 0;max-width: 0;overflow: hidden;text-align: left;background-color: #f0f8ff;}#sk-container-id-26 div.sk-toggleable__content pre {margin: 0.2em;color: black;border-radius: 0.25em;background-color: #f0f8ff;}#sk-container-id-26 input.sk-toggleable__control:checked~div.sk-toggleable__content {max-height: 200px;max-width: 100%;overflow: auto;}#sk-container-id-26 input.sk-toggleable__control:checked~label.sk-toggleable__label-arrow:before {content: \"▾\";}#sk-container-id-26 div.sk-estimator input.sk-toggleable__control:checked~label.sk-toggleable__label {background-color: #d4ebff;}#sk-container-id-26 div.sk-label input.sk-toggleable__control:checked~label.sk-toggleable__label {background-color: #d4ebff;}#sk-container-id-26 input.sk-hidden--visually {border: 0;clip: rect(1px 1px 1px 1px);clip: rect(1px, 1px, 1px, 1px);height: 1px;margin: -1px;overflow: hidden;padding: 0;position: absolute;width: 1px;}#sk-container-id-26 div.sk-estimator {font-family: monospace;background-color: #f0f8ff;border: 1px dotted black;border-radius: 0.25em;box-sizing: border-box;margin-bottom: 0.5em;}#sk-container-id-26 div.sk-estimator:hover {background-color: #d4ebff;}#sk-container-id-26 div.sk-parallel-item::after {content: \"\";width: 100%;border-bottom: 1px solid gray;flex-grow: 1;}#sk-container-id-26 div.sk-label:hover label.sk-toggleable__label {background-color: #d4ebff;}#sk-container-id-26 div.sk-serial::before {content: \"\";position: absolute;border-left: 1px solid gray;box-sizing: border-box;top: 0;bottom: 0;left: 50%;z-index: 0;}#sk-container-id-26 div.sk-serial {display: flex;flex-direction: column;align-items: center;background-color: white;padding-right: 0.2em;padding-left: 0.2em;position: relative;}#sk-container-id-26 div.sk-item {position: relative;z-index: 1;}#sk-container-id-26 div.sk-parallel {display: flex;align-items: stretch;justify-content: center;background-color: white;position: relative;}#sk-container-id-26 div.sk-item::before, #sk-container-id-26 div.sk-parallel-item::before {content: \"\";position: absolute;border-left: 1px solid gray;box-sizing: border-box;top: 0;bottom: 0;left: 50%;z-index: -1;}#sk-container-id-26 div.sk-parallel-item {display: flex;flex-direction: column;z-index: 1;position: relative;background-color: white;}#sk-container-id-26 div.sk-parallel-item:first-child::after {align-self: flex-end;width: 50%;}#sk-container-id-26 div.sk-parallel-item:last-child::after {align-self: flex-start;width: 50%;}#sk-container-id-26 div.sk-parallel-item:only-child::after {width: 0;}#sk-container-id-26 div.sk-dashed-wrapped {border: 1px dashed gray;margin: 0 0.4em 0.5em 0.4em;box-sizing: border-box;padding-bottom: 0.4em;background-color: white;}#sk-container-id-26 div.sk-label label {font-family: monospace;font-weight: bold;display: inline-block;line-height: 1.2em;}#sk-container-id-26 div.sk-label-container {text-align: center;}#sk-container-id-26 div.sk-container {/* jupyter's `normalize.less` sets `[hidden] { display: none; }` but bootstrap.min.css set `[hidden] { display: none !important; }` so we also need the `!important` here to be able to override the default hidden behavior on the sphinx rendered scikit-learn.org. See: https://github.com/scikit-learn/scikit-learn/issues/21755 */display: inline-block !important;position: relative;}#sk-container-id-26 div.sk-text-repr-fallback {display: none;}</style><div id=\"sk-container-id-26\" class=\"sk-top-container\"><div class=\"sk-text-repr-fallback\"><pre>LogisticRegression()</pre><b>In a Jupyter environment, please rerun this cell to show the HTML representation or trust the notebook. <br />On GitHub, the HTML representation is unable to render, please try loading this page with nbviewer.org.</b></div><div class=\"sk-container\" hidden><div class=\"sk-item\"><div class=\"sk-estimator sk-toggleable\"><input class=\"sk-toggleable__control sk-hidden--visually\" id=\"sk-estimator-id-44\" type=\"checkbox\" checked><label for=\"sk-estimator-id-44\" class=\"sk-toggleable__label sk-toggleable__label-arrow\">LogisticRegression</label><div class=\"sk-toggleable__content\"><pre>LogisticRegression()</pre></div></div></div></div></div>"
      ],
      "text/plain": [
       "LogisticRegression()"
      ]
     },
     "execution_count": 277,
     "metadata": {},
     "output_type": "execute_result"
    }
   ],
   "source": [
    "lr_model.fit(X_train,y_train)"
   ]
  },
  {
   "cell_type": "code",
   "execution_count": 278,
   "metadata": {},
   "outputs": [
    {
     "data": {
      "text/plain": [
       "array([[ 3.71581328e-03,  3.77384463e-01,  6.85320222e-02,\n",
       "         8.56205254e-02, -5.20136805e-01, -1.51734537e-02,\n",
       "        -9.70467970e-01,  4.42582259e-01,  3.81367286e-01,\n",
       "         1.46460989e-01,  8.92931715e-01, -6.12499757e-01,\n",
       "        -2.43311840e-01, -2.88176192e-02, -6.07211094e-01,\n",
       "         7.29803324e-01,  3.69002201e-01, -4.99954364e-01,\n",
       "        -7.26032316e-02,  7.25457961e-02, -2.46768968e+00,\n",
       "         2.25760146e+00,  2.34038691e+00, -2.43154024e+00,\n",
       "         4.08431201e-01, -2.84727700e+00,  2.74002990e+00,\n",
       "         1.83053417e-01, -1.83110853e-01,  3.63206782e-01,\n",
       "        -3.63264218e-01, -1.36758167e+00,  1.36752423e+00,\n",
       "         4.18172048e-03,  4.11640039e-01, -3.70654621e-01,\n",
       "        -3.82948377e-01, -9.46442580e-02,  4.57723432e-01,\n",
       "         9.64747846e-02, -4.17269895e-01,  2.95439739e-01,\n",
       "         1.40843430e+00, -1.40849174e+00,  1.81744186e+00,\n",
       "        -1.32475652e+00,  2.54545073e-01, -7.47287854e-01,\n",
       "        -3.42234558e-01,  1.02791799e+00, -9.99414655e-01,\n",
       "         3.13673787e-01, -1.08754098e-01,  6.19486790e-01,\n",
       "        -4.85607261e-01, -2.51828660e-02,  1.69539873e-01,\n",
       "         4.08431201e-01, -3.62678630e-01, -1.77797379e-01,\n",
       "        -1.90528909e-01, -5.55717246e-01,  7.08693655e-01,\n",
       "         1.01803492e-01,  4.08431201e-01, -2.64567662e-01,\n",
       "        -1.18947109e+00, -1.65014091e-01,  4.00067063e-01,\n",
       "         7.08693655e-01, -5.74354737e-05, -7.08751090e-01,\n",
       "         7.08693655e-01,  4.08431201e-01, -9.00589257e-01,\n",
       "         4.92100620e-01, -8.14362293e-01,  6.19486790e-01,\n",
       "         4.08431201e-01, -2.13613133e-01,  2.34038691e+00,\n",
       "        -1.17636145e+00, -1.26229896e+00,  2.14803805e+00,\n",
       "        -1.03100985e+00, -1.01881215e+00, -1.40053122e-01,\n",
       "         1.82343693e+00, -6.70442110e-01,  2.49591760e-01,\n",
       "        -7.36367130e-02, -1.18895418e+00, -2.37497166e-01,\n",
       "         5.42083302e-01,  2.28694081e-01,  2.90957317e-01,\n",
       "        -1.11738221e+00,  2.93087246e-01]])"
      ]
     },
     "execution_count": 278,
     "metadata": {},
     "output_type": "execute_result"
    }
   ],
   "source": [
    "lr_model.coef_"
   ]
  },
  {
   "cell_type": "code",
   "execution_count": 279,
   "metadata": {},
   "outputs": [
    {
     "data": {
      "text/plain": [
       "1.0"
      ]
     },
     "execution_count": 279,
     "metadata": {},
     "output_type": "execute_result"
    }
   ],
   "source": [
    "lr_model.score(X_train,y_train)"
   ]
  },
  {
   "cell_type": "code",
   "execution_count": 280,
   "metadata": {},
   "outputs": [
    {
     "data": {
      "text/plain": [
       "1.0"
      ]
     },
     "execution_count": 280,
     "metadata": {},
     "output_type": "execute_result"
    }
   ],
   "source": [
    "lr_model.score(X_test,y_test)"
   ]
  },
  {
   "cell_type": "markdown",
   "metadata": {},
   "source": [
    "LogisticRegression cross_validate"
   ]
  },
  {
   "cell_type": "code",
   "execution_count": 281,
   "metadata": {},
   "outputs": [
    {
     "data": {
      "text/plain": [
       "{'fit_time': array([0.03159761, 0.02836609, 0.02542496, 0.02234912, 0.02894115]),\n",
       " 'score_time': array([0.00303435, 0.00202751, 0.00299001, 0.00423551, 0.00449109]),\n",
       " 'test_score': array([1., 1., 1., 1., 1.])}"
      ]
     },
     "execution_count": 281,
     "metadata": {},
     "output_type": "execute_result"
    }
   ],
   "source": [
    "cross_validate(lr_model,X_train,y_train)"
   ]
  },
  {
   "cell_type": "markdown",
   "metadata": {},
   "source": [
    "DecisionTreeClassfier"
   ]
  },
  {
   "cell_type": "code",
   "execution_count": 282,
   "metadata": {},
   "outputs": [
    {
     "data": {
      "text/html": [
       "<style>#sk-container-id-27 {color: black;}#sk-container-id-27 pre{padding: 0;}#sk-container-id-27 div.sk-toggleable {background-color: white;}#sk-container-id-27 label.sk-toggleable__label {cursor: pointer;display: block;width: 100%;margin-bottom: 0;padding: 0.3em;box-sizing: border-box;text-align: center;}#sk-container-id-27 label.sk-toggleable__label-arrow:before {content: \"▸\";float: left;margin-right: 0.25em;color: #696969;}#sk-container-id-27 label.sk-toggleable__label-arrow:hover:before {color: black;}#sk-container-id-27 div.sk-estimator:hover label.sk-toggleable__label-arrow:before {color: black;}#sk-container-id-27 div.sk-toggleable__content {max-height: 0;max-width: 0;overflow: hidden;text-align: left;background-color: #f0f8ff;}#sk-container-id-27 div.sk-toggleable__content pre {margin: 0.2em;color: black;border-radius: 0.25em;background-color: #f0f8ff;}#sk-container-id-27 input.sk-toggleable__control:checked~div.sk-toggleable__content {max-height: 200px;max-width: 100%;overflow: auto;}#sk-container-id-27 input.sk-toggleable__control:checked~label.sk-toggleable__label-arrow:before {content: \"▾\";}#sk-container-id-27 div.sk-estimator input.sk-toggleable__control:checked~label.sk-toggleable__label {background-color: #d4ebff;}#sk-container-id-27 div.sk-label input.sk-toggleable__control:checked~label.sk-toggleable__label {background-color: #d4ebff;}#sk-container-id-27 input.sk-hidden--visually {border: 0;clip: rect(1px 1px 1px 1px);clip: rect(1px, 1px, 1px, 1px);height: 1px;margin: -1px;overflow: hidden;padding: 0;position: absolute;width: 1px;}#sk-container-id-27 div.sk-estimator {font-family: monospace;background-color: #f0f8ff;border: 1px dotted black;border-radius: 0.25em;box-sizing: border-box;margin-bottom: 0.5em;}#sk-container-id-27 div.sk-estimator:hover {background-color: #d4ebff;}#sk-container-id-27 div.sk-parallel-item::after {content: \"\";width: 100%;border-bottom: 1px solid gray;flex-grow: 1;}#sk-container-id-27 div.sk-label:hover label.sk-toggleable__label {background-color: #d4ebff;}#sk-container-id-27 div.sk-serial::before {content: \"\";position: absolute;border-left: 1px solid gray;box-sizing: border-box;top: 0;bottom: 0;left: 50%;z-index: 0;}#sk-container-id-27 div.sk-serial {display: flex;flex-direction: column;align-items: center;background-color: white;padding-right: 0.2em;padding-left: 0.2em;position: relative;}#sk-container-id-27 div.sk-item {position: relative;z-index: 1;}#sk-container-id-27 div.sk-parallel {display: flex;align-items: stretch;justify-content: center;background-color: white;position: relative;}#sk-container-id-27 div.sk-item::before, #sk-container-id-27 div.sk-parallel-item::before {content: \"\";position: absolute;border-left: 1px solid gray;box-sizing: border-box;top: 0;bottom: 0;left: 50%;z-index: -1;}#sk-container-id-27 div.sk-parallel-item {display: flex;flex-direction: column;z-index: 1;position: relative;background-color: white;}#sk-container-id-27 div.sk-parallel-item:first-child::after {align-self: flex-end;width: 50%;}#sk-container-id-27 div.sk-parallel-item:last-child::after {align-self: flex-start;width: 50%;}#sk-container-id-27 div.sk-parallel-item:only-child::after {width: 0;}#sk-container-id-27 div.sk-dashed-wrapped {border: 1px dashed gray;margin: 0 0.4em 0.5em 0.4em;box-sizing: border-box;padding-bottom: 0.4em;background-color: white;}#sk-container-id-27 div.sk-label label {font-family: monospace;font-weight: bold;display: inline-block;line-height: 1.2em;}#sk-container-id-27 div.sk-label-container {text-align: center;}#sk-container-id-27 div.sk-container {/* jupyter's `normalize.less` sets `[hidden] { display: none; }` but bootstrap.min.css set `[hidden] { display: none !important; }` so we also need the `!important` here to be able to override the default hidden behavior on the sphinx rendered scikit-learn.org. See: https://github.com/scikit-learn/scikit-learn/issues/21755 */display: inline-block !important;position: relative;}#sk-container-id-27 div.sk-text-repr-fallback {display: none;}</style><div id=\"sk-container-id-27\" class=\"sk-top-container\"><div class=\"sk-text-repr-fallback\"><pre>DecisionTreeClassifier()</pre><b>In a Jupyter environment, please rerun this cell to show the HTML representation or trust the notebook. <br />On GitHub, the HTML representation is unable to render, please try loading this page with nbviewer.org.</b></div><div class=\"sk-container\" hidden><div class=\"sk-item\"><div class=\"sk-estimator sk-toggleable\"><input class=\"sk-toggleable__control sk-hidden--visually\" id=\"sk-estimator-id-45\" type=\"checkbox\" checked><label for=\"sk-estimator-id-45\" class=\"sk-toggleable__label sk-toggleable__label-arrow\">DecisionTreeClassifier</label><div class=\"sk-toggleable__content\"><pre>DecisionTreeClassifier()</pre></div></div></div></div></div>"
      ],
      "text/plain": [
       "DecisionTreeClassifier()"
      ]
     },
     "execution_count": 282,
     "metadata": {},
     "output_type": "execute_result"
    }
   ],
   "source": [
    "dt_model.fit(X_train,y_train)"
   ]
  },
  {
   "cell_type": "code",
   "execution_count": 283,
   "metadata": {},
   "outputs": [
    {
     "data": {
      "text/plain": [
       "1.0"
      ]
     },
     "execution_count": 283,
     "metadata": {},
     "output_type": "execute_result"
    }
   ],
   "source": [
    "dt_model.score(X_train,y_train)"
   ]
  },
  {
   "cell_type": "code",
   "execution_count": 284,
   "metadata": {},
   "outputs": [
    {
     "data": {
      "text/plain": [
       "1.0"
      ]
     },
     "execution_count": 284,
     "metadata": {},
     "output_type": "execute_result"
    }
   ],
   "source": [
    "dt_model.score(X_test,y_test)"
   ]
  },
  {
   "cell_type": "code",
   "execution_count": 285,
   "metadata": {},
   "outputs": [
    {
     "data": {
      "text/plain": [
       "class\n",
       "e    2616\n",
       "p    1617\n",
       "Name: count, dtype: int64"
      ]
     },
     "execution_count": 285,
     "metadata": {},
     "output_type": "execute_result"
    }
   ],
   "source": [
    "y_train.value_counts()"
   ]
  },
  {
   "cell_type": "code",
   "execution_count": 286,
   "metadata": {},
   "outputs": [],
   "source": [
    "from sklearn.tree import export_graphviz\n",
    "\n",
    "export_graphviz(dt_model,out_file='tree.dot',class_names=['enable','poison'],\n",
    "                feature_names=featureDF.columns,impurity=True,filled=True,\n",
    "                rounded=True, # 동글동글\n",
    "                )"
   ]
  },
  {
   "cell_type": "code",
   "execution_count": 287,
   "metadata": {},
   "outputs": [
    {
     "data": {
      "image/svg+xml": [
       "<?xml version=\"1.0\" encoding=\"UTF-8\" standalone=\"no\"?>\n",
       "<!DOCTYPE svg PUBLIC \"-//W3C//DTD SVG 1.1//EN\"\n",
       " \"http://www.w3.org/Graphics/SVG/1.1/DTD/svg11.dtd\">\n",
       "<!-- Generated by graphviz version 2.50.0 (0)\n",
       " -->\n",
       "<!-- Title: Tree Pages: 1 -->\n",
       "<svg width=\"769pt\" height=\"671pt\"\n",
       " viewBox=\"0.00 0.00 768.50 671.00\" xmlns=\"http://www.w3.org/2000/svg\" xmlns:xlink=\"http://www.w3.org/1999/xlink\">\n",
       "<g id=\"graph0\" class=\"graph\" transform=\"scale(1 1) rotate(0) translate(4 667)\">\n",
       "<title>Tree</title>\n",
       "<polygon fill=\"white\" stroke=\"transparent\" points=\"-4,4 -4,-667 764.5,-667 764.5,4 -4,4\"/>\n",
       "<!-- 0 -->\n",
       "<g id=\"node1\" class=\"node\">\n",
       "<title>0</title>\n",
       "<path fill=\"#f5cfb3\" stroke=\"black\" d=\"M635.5,-663C635.5,-663 486.5,-663 486.5,-663 480.5,-663 474.5,-657 474.5,-651 474.5,-651 474.5,-592 474.5,-592 474.5,-586 480.5,-580 486.5,-580 486.5,-580 635.5,-580 635.5,-580 641.5,-580 647.5,-586 647.5,-592 647.5,-592 647.5,-651 647.5,-651 647.5,-657 641.5,-663 635.5,-663\"/>\n",
       "<text text-anchor=\"middle\" x=\"561\" y=\"-647.8\" font-family=\"Helvetica,sans-Serif\" font-size=\"14.00\">spore&#45;print&#45;color_h &lt;= 0.5</text>\n",
       "<text text-anchor=\"middle\" x=\"561\" y=\"-632.8\" font-family=\"Helvetica,sans-Serif\" font-size=\"14.00\">gini = 0.472</text>\n",
       "<text text-anchor=\"middle\" x=\"561\" y=\"-617.8\" font-family=\"Helvetica,sans-Serif\" font-size=\"14.00\">samples = 4233</text>\n",
       "<text text-anchor=\"middle\" x=\"561\" y=\"-602.8\" font-family=\"Helvetica,sans-Serif\" font-size=\"14.00\">value = [2616, 1617]</text>\n",
       "<text text-anchor=\"middle\" x=\"561\" y=\"-587.8\" font-family=\"Helvetica,sans-Serif\" font-size=\"14.00\">class = enable</text>\n",
       "</g>\n",
       "<!-- 1 -->\n",
       "<g id=\"node2\" class=\"node\">\n",
       "<title>1</title>\n",
       "<path fill=\"#e9965b\" stroke=\"black\" d=\"M544,-544C544,-544 436,-544 436,-544 430,-544 424,-538 424,-532 424,-532 424,-473 424,-473 424,-467 430,-461 436,-461 436,-461 544,-461 544,-461 550,-461 556,-467 556,-473 556,-473 556,-532 556,-532 556,-538 550,-544 544,-544\"/>\n",
       "<text text-anchor=\"middle\" x=\"490\" y=\"-528.8\" font-family=\"Helvetica,sans-Serif\" font-size=\"14.00\">gill&#45;size_b &lt;= 0.5</text>\n",
       "<text text-anchor=\"middle\" x=\"490\" y=\"-513.8\" font-family=\"Helvetica,sans-Serif\" font-size=\"14.00\">gini = 0.248</text>\n",
       "<text text-anchor=\"middle\" x=\"490\" y=\"-498.8\" font-family=\"Helvetica,sans-Serif\" font-size=\"14.00\">samples = 3061</text>\n",
       "<text text-anchor=\"middle\" x=\"490\" y=\"-483.8\" font-family=\"Helvetica,sans-Serif\" font-size=\"14.00\">value = [2616, 445]</text>\n",
       "<text text-anchor=\"middle\" x=\"490\" y=\"-468.8\" font-family=\"Helvetica,sans-Serif\" font-size=\"14.00\">class = enable</text>\n",
       "</g>\n",
       "<!-- 0&#45;&gt;1 -->\n",
       "<g id=\"edge1\" class=\"edge\">\n",
       "<title>0&#45;&gt;1</title>\n",
       "<path fill=\"none\" stroke=\"black\" d=\"M536.37,-579.91C531.03,-571.1 525.32,-561.7 519.8,-552.61\"/>\n",
       "<polygon fill=\"black\" stroke=\"black\" points=\"522.77,-550.75 514.59,-544.02 516.79,-554.39 522.77,-550.75\"/>\n",
       "<text text-anchor=\"middle\" x=\"508.65\" y=\"-564.6\" font-family=\"Helvetica,sans-Serif\" font-size=\"14.00\">True</text>\n",
       "</g>\n",
       "<!-- 16 -->\n",
       "<g id=\"node17\" class=\"node\">\n",
       "<title>16</title>\n",
       "<path fill=\"#399de5\" stroke=\"black\" d=\"M678,-536.5C678,-536.5 586,-536.5 586,-536.5 580,-536.5 574,-530.5 574,-524.5 574,-524.5 574,-480.5 574,-480.5 574,-474.5 580,-468.5 586,-468.5 586,-468.5 678,-468.5 678,-468.5 684,-468.5 690,-474.5 690,-480.5 690,-480.5 690,-524.5 690,-524.5 690,-530.5 684,-536.5 678,-536.5\"/>\n",
       "<text text-anchor=\"middle\" x=\"632\" y=\"-521.3\" font-family=\"Helvetica,sans-Serif\" font-size=\"14.00\">gini = 0.0</text>\n",
       "<text text-anchor=\"middle\" x=\"632\" y=\"-506.3\" font-family=\"Helvetica,sans-Serif\" font-size=\"14.00\">samples = 1172</text>\n",
       "<text text-anchor=\"middle\" x=\"632\" y=\"-491.3\" font-family=\"Helvetica,sans-Serif\" font-size=\"14.00\">value = [0, 1172]</text>\n",
       "<text text-anchor=\"middle\" x=\"632\" y=\"-476.3\" font-family=\"Helvetica,sans-Serif\" font-size=\"14.00\">class = poison</text>\n",
       "</g>\n",
       "<!-- 0&#45;&gt;16 -->\n",
       "<g id=\"edge16\" class=\"edge\">\n",
       "<title>0&#45;&gt;16</title>\n",
       "<path fill=\"none\" stroke=\"black\" d=\"M585.63,-579.91C592.4,-568.76 599.74,-556.66 606.55,-545.44\"/>\n",
       "<polygon fill=\"black\" stroke=\"black\" points=\"609.68,-547.03 611.87,-536.67 603.69,-543.4 609.68,-547.03\"/>\n",
       "<text text-anchor=\"middle\" x=\"617.81\" y=\"-557.25\" font-family=\"Helvetica,sans-Serif\" font-size=\"14.00\">False</text>\n",
       "</g>\n",
       "<!-- 2 -->\n",
       "<g id=\"node3\" class=\"node\">\n",
       "<title>2</title>\n",
       "<path fill=\"#99cdf2\" stroke=\"black\" d=\"M424.5,-425C424.5,-425 323.5,-425 323.5,-425 317.5,-425 311.5,-419 311.5,-413 311.5,-413 311.5,-354 311.5,-354 311.5,-348 317.5,-342 323.5,-342 323.5,-342 424.5,-342 424.5,-342 430.5,-342 436.5,-348 436.5,-354 436.5,-354 436.5,-413 436.5,-413 436.5,-419 430.5,-425 424.5,-425\"/>\n",
       "<text text-anchor=\"middle\" x=\"374\" y=\"-409.8\" font-family=\"Helvetica,sans-Serif\" font-size=\"14.00\">odor_n &lt;= 0.5</text>\n",
       "<text text-anchor=\"middle\" x=\"374\" y=\"-394.8\" font-family=\"Helvetica,sans-Serif\" font-size=\"14.00\">gini = 0.44</text>\n",
       "<text text-anchor=\"middle\" x=\"374\" y=\"-379.8\" font-family=\"Helvetica,sans-Serif\" font-size=\"14.00\">samples = 529</text>\n",
       "<text text-anchor=\"middle\" x=\"374\" y=\"-364.8\" font-family=\"Helvetica,sans-Serif\" font-size=\"14.00\">value = [173, 356]</text>\n",
       "<text text-anchor=\"middle\" x=\"374\" y=\"-349.8\" font-family=\"Helvetica,sans-Serif\" font-size=\"14.00\">class = poison</text>\n",
       "</g>\n",
       "<!-- 1&#45;&gt;2 -->\n",
       "<g id=\"edge2\" class=\"edge\">\n",
       "<title>1&#45;&gt;2</title>\n",
       "<path fill=\"none\" stroke=\"black\" d=\"M449.75,-460.91C440.58,-451.65 430.74,-441.73 421.3,-432.21\"/>\n",
       "<polygon fill=\"black\" stroke=\"black\" points=\"423.7,-429.66 414.17,-425.02 418.73,-434.59 423.7,-429.66\"/>\n",
       "</g>\n",
       "<!-- 9 -->\n",
       "<g id=\"node10\" class=\"node\">\n",
       "<title>9</title>\n",
       "<path fill=\"#e68640\" stroke=\"black\" d=\"M630,-425C630,-425 506,-425 506,-425 500,-425 494,-419 494,-413 494,-413 494,-354 494,-354 494,-348 500,-342 506,-342 506,-342 630,-342 630,-342 636,-342 642,-348 642,-354 642,-354 642,-413 642,-413 642,-419 636,-425 630,-425\"/>\n",
       "<text text-anchor=\"middle\" x=\"568\" y=\"-409.8\" font-family=\"Helvetica,sans-Serif\" font-size=\"14.00\">ring&#45;number_o &lt;= 0.5</text>\n",
       "<text text-anchor=\"middle\" x=\"568\" y=\"-394.8\" font-family=\"Helvetica,sans-Serif\" font-size=\"14.00\">gini = 0.068</text>\n",
       "<text text-anchor=\"middle\" x=\"568\" y=\"-379.8\" font-family=\"Helvetica,sans-Serif\" font-size=\"14.00\">samples = 2532</text>\n",
       "<text text-anchor=\"middle\" x=\"568\" y=\"-364.8\" font-family=\"Helvetica,sans-Serif\" font-size=\"14.00\">value = [2443, 89]</text>\n",
       "<text text-anchor=\"middle\" x=\"568\" y=\"-349.8\" font-family=\"Helvetica,sans-Serif\" font-size=\"14.00\">class = enable</text>\n",
       "</g>\n",
       "<!-- 1&#45;&gt;9 -->\n",
       "<g id=\"edge9\" class=\"edge\">\n",
       "<title>1&#45;&gt;9</title>\n",
       "<path fill=\"none\" stroke=\"black\" d=\"M517.06,-460.91C522.93,-452.1 529.2,-442.7 535.26,-433.61\"/>\n",
       "<polygon fill=\"black\" stroke=\"black\" points=\"538.35,-435.28 540.99,-425.02 532.53,-431.4 538.35,-435.28\"/>\n",
       "</g>\n",
       "<!-- 3 -->\n",
       "<g id=\"node4\" class=\"node\">\n",
       "<title>3</title>\n",
       "<path fill=\"#60b0ea\" stroke=\"black\" d=\"M238,-306C238,-306 122,-306 122,-306 116,-306 110,-300 110,-294 110,-294 110,-235 110,-235 110,-229 116,-223 122,-223 122,-223 238,-223 238,-223 244,-223 250,-229 250,-235 250,-235 250,-294 250,-294 250,-300 244,-306 238,-306\"/>\n",
       "<text text-anchor=\"middle\" x=\"180\" y=\"-290.8\" font-family=\"Helvetica,sans-Serif\" font-size=\"14.00\">stalk&#45;shape_t &lt;= 0.5</text>\n",
       "<text text-anchor=\"middle\" x=\"180\" y=\"-275.8\" font-family=\"Helvetica,sans-Serif\" font-size=\"14.00\">gini = 0.276</text>\n",
       "<text text-anchor=\"middle\" x=\"180\" y=\"-260.8\" font-family=\"Helvetica,sans-Serif\" font-size=\"14.00\">samples = 412</text>\n",
       "<text text-anchor=\"middle\" x=\"180\" y=\"-245.8\" font-family=\"Helvetica,sans-Serif\" font-size=\"14.00\">value = [68, 344]</text>\n",
       "<text text-anchor=\"middle\" x=\"180\" y=\"-230.8\" font-family=\"Helvetica,sans-Serif\" font-size=\"14.00\">class = poison</text>\n",
       "</g>\n",
       "<!-- 2&#45;&gt;3 -->\n",
       "<g id=\"edge3\" class=\"edge\">\n",
       "<title>2&#45;&gt;3</title>\n",
       "<path fill=\"none\" stroke=\"black\" d=\"M311.28,-344.68C293.68,-334.06 274.35,-322.4 256.07,-311.38\"/>\n",
       "<polygon fill=\"black\" stroke=\"black\" points=\"257.56,-308.19 247.19,-306.02 253.94,-314.18 257.56,-308.19\"/>\n",
       "</g>\n",
       "<!-- 6 -->\n",
       "<g id=\"node7\" class=\"node\">\n",
       "<title>6</title>\n",
       "<path fill=\"#e88f50\" stroke=\"black\" d=\"M430,-306C430,-306 318,-306 318,-306 312,-306 306,-300 306,-294 306,-294 306,-235 306,-235 306,-229 312,-223 318,-223 318,-223 430,-223 430,-223 436,-223 442,-229 442,-235 442,-235 442,-294 442,-294 442,-300 436,-306 430,-306\"/>\n",
       "<text text-anchor=\"middle\" x=\"374\" y=\"-290.8\" font-family=\"Helvetica,sans-Serif\" font-size=\"14.00\">population_c &lt;= 0.5</text>\n",
       "<text text-anchor=\"middle\" x=\"374\" y=\"-275.8\" font-family=\"Helvetica,sans-Serif\" font-size=\"14.00\">gini = 0.184</text>\n",
       "<text text-anchor=\"middle\" x=\"374\" y=\"-260.8\" font-family=\"Helvetica,sans-Serif\" font-size=\"14.00\">samples = 117</text>\n",
       "<text text-anchor=\"middle\" x=\"374\" y=\"-245.8\" font-family=\"Helvetica,sans-Serif\" font-size=\"14.00\">value = [105, 12]</text>\n",
       "<text text-anchor=\"middle\" x=\"374\" y=\"-230.8\" font-family=\"Helvetica,sans-Serif\" font-size=\"14.00\">class = enable</text>\n",
       "</g>\n",
       "<!-- 2&#45;&gt;6 -->\n",
       "<g id=\"edge6\" class=\"edge\">\n",
       "<title>2&#45;&gt;6</title>\n",
       "<path fill=\"none\" stroke=\"black\" d=\"M374,-341.91C374,-333.65 374,-324.86 374,-316.3\"/>\n",
       "<polygon fill=\"black\" stroke=\"black\" points=\"377.5,-316.02 374,-306.02 370.5,-316.02 377.5,-316.02\"/>\n",
       "</g>\n",
       "<!-- 4 -->\n",
       "<g id=\"node5\" class=\"node\">\n",
       "<title>4</title>\n",
       "<path fill=\"#399de5\" stroke=\"black\" d=\"M98,-179.5C98,-179.5 12,-179.5 12,-179.5 6,-179.5 0,-173.5 0,-167.5 0,-167.5 0,-123.5 0,-123.5 0,-117.5 6,-111.5 12,-111.5 12,-111.5 98,-111.5 98,-111.5 104,-111.5 110,-117.5 110,-123.5 110,-123.5 110,-167.5 110,-167.5 110,-173.5 104,-179.5 98,-179.5\"/>\n",
       "<text text-anchor=\"middle\" x=\"55\" y=\"-164.3\" font-family=\"Helvetica,sans-Serif\" font-size=\"14.00\">gini = 0.0</text>\n",
       "<text text-anchor=\"middle\" x=\"55\" y=\"-149.3\" font-family=\"Helvetica,sans-Serif\" font-size=\"14.00\">samples = 344</text>\n",
       "<text text-anchor=\"middle\" x=\"55\" y=\"-134.3\" font-family=\"Helvetica,sans-Serif\" font-size=\"14.00\">value = [0, 344]</text>\n",
       "<text text-anchor=\"middle\" x=\"55\" y=\"-119.3\" font-family=\"Helvetica,sans-Serif\" font-size=\"14.00\">class = poison</text>\n",
       "</g>\n",
       "<!-- 3&#45;&gt;4 -->\n",
       "<g id=\"edge4\" class=\"edge\">\n",
       "<title>3&#45;&gt;4</title>\n",
       "<path fill=\"none\" stroke=\"black\" d=\"M136.63,-222.91C124.14,-211.21 110.51,-198.46 98.03,-186.78\"/>\n",
       "<polygon fill=\"black\" stroke=\"black\" points=\"100.13,-183.95 90.43,-179.67 95.34,-189.06 100.13,-183.95\"/>\n",
       "</g>\n",
       "<!-- 5 -->\n",
       "<g id=\"node6\" class=\"node\">\n",
       "<title>5</title>\n",
       "<path fill=\"#e58139\" stroke=\"black\" d=\"M220,-179.5C220,-179.5 140,-179.5 140,-179.5 134,-179.5 128,-173.5 128,-167.5 128,-167.5 128,-123.5 128,-123.5 128,-117.5 134,-111.5 140,-111.5 140,-111.5 220,-111.5 220,-111.5 226,-111.5 232,-117.5 232,-123.5 232,-123.5 232,-167.5 232,-167.5 232,-173.5 226,-179.5 220,-179.5\"/>\n",
       "<text text-anchor=\"middle\" x=\"180\" y=\"-164.3\" font-family=\"Helvetica,sans-Serif\" font-size=\"14.00\">gini = 0.0</text>\n",
       "<text text-anchor=\"middle\" x=\"180\" y=\"-149.3\" font-family=\"Helvetica,sans-Serif\" font-size=\"14.00\">samples = 68</text>\n",
       "<text text-anchor=\"middle\" x=\"180\" y=\"-134.3\" font-family=\"Helvetica,sans-Serif\" font-size=\"14.00\">value = [68, 0]</text>\n",
       "<text text-anchor=\"middle\" x=\"180\" y=\"-119.3\" font-family=\"Helvetica,sans-Serif\" font-size=\"14.00\">class = enable</text>\n",
       "</g>\n",
       "<!-- 3&#45;&gt;5 -->\n",
       "<g id=\"edge5\" class=\"edge\">\n",
       "<title>3&#45;&gt;5</title>\n",
       "<path fill=\"none\" stroke=\"black\" d=\"M180,-222.91C180,-212.2 180,-200.62 180,-189.78\"/>\n",
       "<polygon fill=\"black\" stroke=\"black\" points=\"183.5,-189.67 180,-179.67 176.5,-189.67 183.5,-189.67\"/>\n",
       "</g>\n",
       "<!-- 7 -->\n",
       "<g id=\"node8\" class=\"node\">\n",
       "<title>7</title>\n",
       "<path fill=\"#e58139\" stroke=\"black\" d=\"M348,-179.5C348,-179.5 262,-179.5 262,-179.5 256,-179.5 250,-173.5 250,-167.5 250,-167.5 250,-123.5 250,-123.5 250,-117.5 256,-111.5 262,-111.5 262,-111.5 348,-111.5 348,-111.5 354,-111.5 360,-117.5 360,-123.5 360,-123.5 360,-167.5 360,-167.5 360,-173.5 354,-179.5 348,-179.5\"/>\n",
       "<text text-anchor=\"middle\" x=\"305\" y=\"-164.3\" font-family=\"Helvetica,sans-Serif\" font-size=\"14.00\">gini = 0.0</text>\n",
       "<text text-anchor=\"middle\" x=\"305\" y=\"-149.3\" font-family=\"Helvetica,sans-Serif\" font-size=\"14.00\">samples = 105</text>\n",
       "<text text-anchor=\"middle\" x=\"305\" y=\"-134.3\" font-family=\"Helvetica,sans-Serif\" font-size=\"14.00\">value = [105, 0]</text>\n",
       "<text text-anchor=\"middle\" x=\"305\" y=\"-119.3\" font-family=\"Helvetica,sans-Serif\" font-size=\"14.00\">class = enable</text>\n",
       "</g>\n",
       "<!-- 6&#45;&gt;7 -->\n",
       "<g id=\"edge7\" class=\"edge\">\n",
       "<title>6&#45;&gt;7</title>\n",
       "<path fill=\"none\" stroke=\"black\" d=\"M350.06,-222.91C343.49,-211.76 336.35,-199.66 329.73,-188.44\"/>\n",
       "<polygon fill=\"black\" stroke=\"black\" points=\"332.65,-186.5 324.56,-179.67 326.63,-190.06 332.65,-186.5\"/>\n",
       "</g>\n",
       "<!-- 8 -->\n",
       "<g id=\"node9\" class=\"node\">\n",
       "<title>8</title>\n",
       "<path fill=\"#399de5\" stroke=\"black\" d=\"M469.5,-179.5C469.5,-179.5 390.5,-179.5 390.5,-179.5 384.5,-179.5 378.5,-173.5 378.5,-167.5 378.5,-167.5 378.5,-123.5 378.5,-123.5 378.5,-117.5 384.5,-111.5 390.5,-111.5 390.5,-111.5 469.5,-111.5 469.5,-111.5 475.5,-111.5 481.5,-117.5 481.5,-123.5 481.5,-123.5 481.5,-167.5 481.5,-167.5 481.5,-173.5 475.5,-179.5 469.5,-179.5\"/>\n",
       "<text text-anchor=\"middle\" x=\"430\" y=\"-164.3\" font-family=\"Helvetica,sans-Serif\" font-size=\"14.00\">gini = 0.0</text>\n",
       "<text text-anchor=\"middle\" x=\"430\" y=\"-149.3\" font-family=\"Helvetica,sans-Serif\" font-size=\"14.00\">samples = 12</text>\n",
       "<text text-anchor=\"middle\" x=\"430\" y=\"-134.3\" font-family=\"Helvetica,sans-Serif\" font-size=\"14.00\">value = [0, 12]</text>\n",
       "<text text-anchor=\"middle\" x=\"430\" y=\"-119.3\" font-family=\"Helvetica,sans-Serif\" font-size=\"14.00\">class = poison</text>\n",
       "</g>\n",
       "<!-- 6&#45;&gt;8 -->\n",
       "<g id=\"edge8\" class=\"edge\">\n",
       "<title>6&#45;&gt;8</title>\n",
       "<path fill=\"none\" stroke=\"black\" d=\"M393.43,-222.91C398.71,-211.87 404.44,-199.9 409.77,-188.77\"/>\n",
       "<polygon fill=\"black\" stroke=\"black\" points=\"412.96,-190.2 414.13,-179.67 406.65,-187.18 412.96,-190.2\"/>\n",
       "</g>\n",
       "<!-- 10 -->\n",
       "<g id=\"node11\" class=\"node\">\n",
       "<title>10</title>\n",
       "<path fill=\"#82c1ef\" stroke=\"black\" d=\"M613.5,-306C613.5,-306 522.5,-306 522.5,-306 516.5,-306 510.5,-300 510.5,-294 510.5,-294 510.5,-235 510.5,-235 510.5,-229 516.5,-223 522.5,-223 522.5,-223 613.5,-223 613.5,-223 619.5,-223 625.5,-229 625.5,-235 625.5,-235 625.5,-294 625.5,-294 625.5,-300 619.5,-306 613.5,-306\"/>\n",
       "<text text-anchor=\"middle\" x=\"568\" y=\"-290.8\" font-family=\"Helvetica,sans-Serif\" font-size=\"14.00\">habitat_p &lt;= 0.5</text>\n",
       "<text text-anchor=\"middle\" x=\"568\" y=\"-275.8\" font-family=\"Helvetica,sans-Serif\" font-size=\"14.00\">gini = 0.395</text>\n",
       "<text text-anchor=\"middle\" x=\"568\" y=\"-260.8\" font-family=\"Helvetica,sans-Serif\" font-size=\"14.00\">samples = 122</text>\n",
       "<text text-anchor=\"middle\" x=\"568\" y=\"-245.8\" font-family=\"Helvetica,sans-Serif\" font-size=\"14.00\">value = [33, 89]</text>\n",
       "<text text-anchor=\"middle\" x=\"568\" y=\"-230.8\" font-family=\"Helvetica,sans-Serif\" font-size=\"14.00\">class = poison</text>\n",
       "</g>\n",
       "<!-- 9&#45;&gt;10 -->\n",
       "<g id=\"edge10\" class=\"edge\">\n",
       "<title>9&#45;&gt;10</title>\n",
       "<path fill=\"none\" stroke=\"black\" d=\"M568,-341.91C568,-333.65 568,-324.86 568,-316.3\"/>\n",
       "<polygon fill=\"black\" stroke=\"black\" points=\"571.5,-316.02 568,-306.02 564.5,-316.02 571.5,-316.02\"/>\n",
       "</g>\n",
       "<!-- 15 -->\n",
       "<g id=\"node16\" class=\"node\">\n",
       "<title>15</title>\n",
       "<path fill=\"#e58139\" stroke=\"black\" d=\"M748.5,-298.5C748.5,-298.5 655.5,-298.5 655.5,-298.5 649.5,-298.5 643.5,-292.5 643.5,-286.5 643.5,-286.5 643.5,-242.5 643.5,-242.5 643.5,-236.5 649.5,-230.5 655.5,-230.5 655.5,-230.5 748.5,-230.5 748.5,-230.5 754.5,-230.5 760.5,-236.5 760.5,-242.5 760.5,-242.5 760.5,-286.5 760.5,-286.5 760.5,-292.5 754.5,-298.5 748.5,-298.5\"/>\n",
       "<text text-anchor=\"middle\" x=\"702\" y=\"-283.3\" font-family=\"Helvetica,sans-Serif\" font-size=\"14.00\">gini = 0.0</text>\n",
       "<text text-anchor=\"middle\" x=\"702\" y=\"-268.3\" font-family=\"Helvetica,sans-Serif\" font-size=\"14.00\">samples = 2410</text>\n",
       "<text text-anchor=\"middle\" x=\"702\" y=\"-253.3\" font-family=\"Helvetica,sans-Serif\" font-size=\"14.00\">value = [2410, 0]</text>\n",
       "<text text-anchor=\"middle\" x=\"702\" y=\"-238.3\" font-family=\"Helvetica,sans-Serif\" font-size=\"14.00\">class = enable</text>\n",
       "</g>\n",
       "<!-- 9&#45;&gt;15 -->\n",
       "<g id=\"edge15\" class=\"edge\">\n",
       "<title>9&#45;&gt;15</title>\n",
       "<path fill=\"none\" stroke=\"black\" d=\"M614.49,-341.91C628.01,-330.1 642.77,-317.22 656.25,-305.45\"/>\n",
       "<polygon fill=\"black\" stroke=\"black\" points=\"658.78,-307.88 664.01,-298.67 654.18,-302.61 658.78,-307.88\"/>\n",
       "</g>\n",
       "<!-- 11 -->\n",
       "<g id=\"node12\" class=\"node\">\n",
       "<title>11</title>\n",
       "<path fill=\"#44a3e6\" stroke=\"black\" d=\"M624,-187C624,-187 512,-187 512,-187 506,-187 500,-181 500,-175 500,-175 500,-116 500,-116 500,-110 506,-104 512,-104 512,-104 624,-104 624,-104 630,-104 636,-110 636,-116 636,-116 636,-175 636,-175 636,-181 630,-187 624,-187\"/>\n",
       "<text text-anchor=\"middle\" x=\"568\" y=\"-171.8\" font-family=\"Helvetica,sans-Serif\" font-size=\"14.00\">population_y &lt;= 0.5</text>\n",
       "<text text-anchor=\"middle\" x=\"568\" y=\"-156.8\" font-family=\"Helvetica,sans-Serif\" font-size=\"14.00\">gini = 0.101</text>\n",
       "<text text-anchor=\"middle\" x=\"568\" y=\"-141.8\" font-family=\"Helvetica,sans-Serif\" font-size=\"14.00\">samples = 94</text>\n",
       "<text text-anchor=\"middle\" x=\"568\" y=\"-126.8\" font-family=\"Helvetica,sans-Serif\" font-size=\"14.00\">value = [5, 89]</text>\n",
       "<text text-anchor=\"middle\" x=\"568\" y=\"-111.8\" font-family=\"Helvetica,sans-Serif\" font-size=\"14.00\">class = poison</text>\n",
       "</g>\n",
       "<!-- 10&#45;&gt;11 -->\n",
       "<g id=\"edge11\" class=\"edge\">\n",
       "<title>10&#45;&gt;11</title>\n",
       "<path fill=\"none\" stroke=\"black\" d=\"M568,-222.91C568,-214.65 568,-205.86 568,-197.3\"/>\n",
       "<polygon fill=\"black\" stroke=\"black\" points=\"571.5,-197.02 568,-187.02 564.5,-197.02 571.5,-197.02\"/>\n",
       "</g>\n",
       "<!-- 14 -->\n",
       "<g id=\"node15\" class=\"node\">\n",
       "<title>14</title>\n",
       "<path fill=\"#e58139\" stroke=\"black\" d=\"M746,-179.5C746,-179.5 666,-179.5 666,-179.5 660,-179.5 654,-173.5 654,-167.5 654,-167.5 654,-123.5 654,-123.5 654,-117.5 660,-111.5 666,-111.5 666,-111.5 746,-111.5 746,-111.5 752,-111.5 758,-117.5 758,-123.5 758,-123.5 758,-167.5 758,-167.5 758,-173.5 752,-179.5 746,-179.5\"/>\n",
       "<text text-anchor=\"middle\" x=\"706\" y=\"-164.3\" font-family=\"Helvetica,sans-Serif\" font-size=\"14.00\">gini = 0.0</text>\n",
       "<text text-anchor=\"middle\" x=\"706\" y=\"-149.3\" font-family=\"Helvetica,sans-Serif\" font-size=\"14.00\">samples = 28</text>\n",
       "<text text-anchor=\"middle\" x=\"706\" y=\"-134.3\" font-family=\"Helvetica,sans-Serif\" font-size=\"14.00\">value = [28, 0]</text>\n",
       "<text text-anchor=\"middle\" x=\"706\" y=\"-119.3\" font-family=\"Helvetica,sans-Serif\" font-size=\"14.00\">class = enable</text>\n",
       "</g>\n",
       "<!-- 10&#45;&gt;14 -->\n",
       "<g id=\"edge14\" class=\"edge\">\n",
       "<title>10&#45;&gt;14</title>\n",
       "<path fill=\"none\" stroke=\"black\" d=\"M615.88,-222.91C629.8,-211.1 645,-198.22 658.88,-186.45\"/>\n",
       "<polygon fill=\"black\" stroke=\"black\" points=\"661.52,-188.8 666.88,-179.67 656.99,-183.46 661.52,-188.8\"/>\n",
       "</g>\n",
       "<!-- 12 -->\n",
       "<g id=\"node13\" class=\"node\">\n",
       "<title>12</title>\n",
       "<path fill=\"#399de5\" stroke=\"black\" d=\"M546.5,-68C546.5,-68 467.5,-68 467.5,-68 461.5,-68 455.5,-62 455.5,-56 455.5,-56 455.5,-12 455.5,-12 455.5,-6 461.5,0 467.5,0 467.5,0 546.5,0 546.5,0 552.5,0 558.5,-6 558.5,-12 558.5,-12 558.5,-56 558.5,-56 558.5,-62 552.5,-68 546.5,-68\"/>\n",
       "<text text-anchor=\"middle\" x=\"507\" y=\"-52.8\" font-family=\"Helvetica,sans-Serif\" font-size=\"14.00\">gini = 0.0</text>\n",
       "<text text-anchor=\"middle\" x=\"507\" y=\"-37.8\" font-family=\"Helvetica,sans-Serif\" font-size=\"14.00\">samples = 89</text>\n",
       "<text text-anchor=\"middle\" x=\"507\" y=\"-22.8\" font-family=\"Helvetica,sans-Serif\" font-size=\"14.00\">value = [0, 89]</text>\n",
       "<text text-anchor=\"middle\" x=\"507\" y=\"-7.8\" font-family=\"Helvetica,sans-Serif\" font-size=\"14.00\">class = poison</text>\n",
       "</g>\n",
       "<!-- 11&#45;&gt;12 -->\n",
       "<g id=\"edge12\" class=\"edge\">\n",
       "<title>11&#45;&gt;12</title>\n",
       "<path fill=\"none\" stroke=\"black\" d=\"M545.29,-103.73C540.46,-95.06 535.35,-85.9 530.5,-77.18\"/>\n",
       "<polygon fill=\"black\" stroke=\"black\" points=\"533.47,-75.33 525.55,-68.3 527.36,-78.74 533.47,-75.33\"/>\n",
       "</g>\n",
       "<!-- 13 -->\n",
       "<g id=\"node14\" class=\"node\">\n",
       "<title>13</title>\n",
       "<path fill=\"#e58139\" stroke=\"black\" d=\"M669,-68C669,-68 589,-68 589,-68 583,-68 577,-62 577,-56 577,-56 577,-12 577,-12 577,-6 583,0 589,0 589,0 669,0 669,0 675,0 681,-6 681,-12 681,-12 681,-56 681,-56 681,-62 675,-68 669,-68\"/>\n",
       "<text text-anchor=\"middle\" x=\"629\" y=\"-52.8\" font-family=\"Helvetica,sans-Serif\" font-size=\"14.00\">gini = 0.0</text>\n",
       "<text text-anchor=\"middle\" x=\"629\" y=\"-37.8\" font-family=\"Helvetica,sans-Serif\" font-size=\"14.00\">samples = 5</text>\n",
       "<text text-anchor=\"middle\" x=\"629\" y=\"-22.8\" font-family=\"Helvetica,sans-Serif\" font-size=\"14.00\">value = [5, 0]</text>\n",
       "<text text-anchor=\"middle\" x=\"629\" y=\"-7.8\" font-family=\"Helvetica,sans-Serif\" font-size=\"14.00\">class = enable</text>\n",
       "</g>\n",
       "<!-- 11&#45;&gt;13 -->\n",
       "<g id=\"edge13\" class=\"edge\">\n",
       "<title>11&#45;&gt;13</title>\n",
       "<path fill=\"none\" stroke=\"black\" d=\"M590.71,-103.73C595.54,-95.06 600.65,-85.9 605.5,-77.18\"/>\n",
       "<polygon fill=\"black\" stroke=\"black\" points=\"608.64,-78.74 610.45,-68.3 602.53,-75.33 608.64,-78.74\"/>\n",
       "</g>\n",
       "</g>\n",
       "</svg>\n"
      ],
      "text/plain": [
       "<graphviz.sources.Source at 0x243814600d0>"
      ]
     },
     "execution_count": 287,
     "metadata": {},
     "output_type": "execute_result"
    }
   ],
   "source": [
    "##(2) dot 파일 출력\n",
    "import graphviz\n",
    "\n",
    "# 파일데이터 읽어오기\n",
    "with open('tree.dot') as f:\n",
    "    dot_data=f.read()\n",
    "\n",
    "# 화면에 출력하기\n",
    "graphviz.Source(dot_data)"
   ]
  },
  {
   "cell_type": "code",
   "execution_count": 288,
   "metadata": {},
   "outputs": [
    {
     "data": {
      "text/plain": [
       "{'fit_time': array([0.01165152, 0.01134133, 0.00989652, 0.00889993, 0.00989509]),\n",
       " 'score_time': array([0.00299144, 0.00404406, 0.00406861, 0.00406146, 0.00298548]),\n",
       " 'test_score': array([1., 1., 1., 1., 1.])}"
      ]
     },
     "execution_count": 288,
     "metadata": {},
     "output_type": "execute_result"
    }
   ],
   "source": [
    "cross_validate(dt_model,X_train,y_train)"
   ]
  },
  {
   "cell_type": "markdown",
   "metadata": {},
   "source": [
    "VotingClassifier"
   ]
  },
  {
   "cell_type": "code",
   "execution_count": 289,
   "metadata": {},
   "outputs": [],
   "source": [
    "vh_model=VotingClassifier(estimators=[('lr_model',lr_model),('dt_model',dt_model)],voting='hard')\n",
    "vs_model=VotingClassifier(estimators=[('lr_model',lr_model),('dt_model',dt_model)],voting='soft')\n"
   ]
  },
  {
   "cell_type": "code",
   "execution_count": 290,
   "metadata": {},
   "outputs": [
    {
     "data": {
      "text/html": [
       "<style>#sk-container-id-28 {color: black;}#sk-container-id-28 pre{padding: 0;}#sk-container-id-28 div.sk-toggleable {background-color: white;}#sk-container-id-28 label.sk-toggleable__label {cursor: pointer;display: block;width: 100%;margin-bottom: 0;padding: 0.3em;box-sizing: border-box;text-align: center;}#sk-container-id-28 label.sk-toggleable__label-arrow:before {content: \"▸\";float: left;margin-right: 0.25em;color: #696969;}#sk-container-id-28 label.sk-toggleable__label-arrow:hover:before {color: black;}#sk-container-id-28 div.sk-estimator:hover label.sk-toggleable__label-arrow:before {color: black;}#sk-container-id-28 div.sk-toggleable__content {max-height: 0;max-width: 0;overflow: hidden;text-align: left;background-color: #f0f8ff;}#sk-container-id-28 div.sk-toggleable__content pre {margin: 0.2em;color: black;border-radius: 0.25em;background-color: #f0f8ff;}#sk-container-id-28 input.sk-toggleable__control:checked~div.sk-toggleable__content {max-height: 200px;max-width: 100%;overflow: auto;}#sk-container-id-28 input.sk-toggleable__control:checked~label.sk-toggleable__label-arrow:before {content: \"▾\";}#sk-container-id-28 div.sk-estimator input.sk-toggleable__control:checked~label.sk-toggleable__label {background-color: #d4ebff;}#sk-container-id-28 div.sk-label input.sk-toggleable__control:checked~label.sk-toggleable__label {background-color: #d4ebff;}#sk-container-id-28 input.sk-hidden--visually {border: 0;clip: rect(1px 1px 1px 1px);clip: rect(1px, 1px, 1px, 1px);height: 1px;margin: -1px;overflow: hidden;padding: 0;position: absolute;width: 1px;}#sk-container-id-28 div.sk-estimator {font-family: monospace;background-color: #f0f8ff;border: 1px dotted black;border-radius: 0.25em;box-sizing: border-box;margin-bottom: 0.5em;}#sk-container-id-28 div.sk-estimator:hover {background-color: #d4ebff;}#sk-container-id-28 div.sk-parallel-item::after {content: \"\";width: 100%;border-bottom: 1px solid gray;flex-grow: 1;}#sk-container-id-28 div.sk-label:hover label.sk-toggleable__label {background-color: #d4ebff;}#sk-container-id-28 div.sk-serial::before {content: \"\";position: absolute;border-left: 1px solid gray;box-sizing: border-box;top: 0;bottom: 0;left: 50%;z-index: 0;}#sk-container-id-28 div.sk-serial {display: flex;flex-direction: column;align-items: center;background-color: white;padding-right: 0.2em;padding-left: 0.2em;position: relative;}#sk-container-id-28 div.sk-item {position: relative;z-index: 1;}#sk-container-id-28 div.sk-parallel {display: flex;align-items: stretch;justify-content: center;background-color: white;position: relative;}#sk-container-id-28 div.sk-item::before, #sk-container-id-28 div.sk-parallel-item::before {content: \"\";position: absolute;border-left: 1px solid gray;box-sizing: border-box;top: 0;bottom: 0;left: 50%;z-index: -1;}#sk-container-id-28 div.sk-parallel-item {display: flex;flex-direction: column;z-index: 1;position: relative;background-color: white;}#sk-container-id-28 div.sk-parallel-item:first-child::after {align-self: flex-end;width: 50%;}#sk-container-id-28 div.sk-parallel-item:last-child::after {align-self: flex-start;width: 50%;}#sk-container-id-28 div.sk-parallel-item:only-child::after {width: 0;}#sk-container-id-28 div.sk-dashed-wrapped {border: 1px dashed gray;margin: 0 0.4em 0.5em 0.4em;box-sizing: border-box;padding-bottom: 0.4em;background-color: white;}#sk-container-id-28 div.sk-label label {font-family: monospace;font-weight: bold;display: inline-block;line-height: 1.2em;}#sk-container-id-28 div.sk-label-container {text-align: center;}#sk-container-id-28 div.sk-container {/* jupyter's `normalize.less` sets `[hidden] { display: none; }` but bootstrap.min.css set `[hidden] { display: none !important; }` so we also need the `!important` here to be able to override the default hidden behavior on the sphinx rendered scikit-learn.org. See: https://github.com/scikit-learn/scikit-learn/issues/21755 */display: inline-block !important;position: relative;}#sk-container-id-28 div.sk-text-repr-fallback {display: none;}</style><div id=\"sk-container-id-28\" class=\"sk-top-container\"><div class=\"sk-text-repr-fallback\"><pre>VotingClassifier(estimators=[(&#x27;lr_model&#x27;, LogisticRegression()),\n",
       "                             (&#x27;dt_model&#x27;, DecisionTreeClassifier())],\n",
       "                 voting=&#x27;soft&#x27;)</pre><b>In a Jupyter environment, please rerun this cell to show the HTML representation or trust the notebook. <br />On GitHub, the HTML representation is unable to render, please try loading this page with nbviewer.org.</b></div><div class=\"sk-container\" hidden><div class=\"sk-item sk-dashed-wrapped\"><div class=\"sk-label-container\"><div class=\"sk-label sk-toggleable\"><input class=\"sk-toggleable__control sk-hidden--visually\" id=\"sk-estimator-id-46\" type=\"checkbox\" ><label for=\"sk-estimator-id-46\" class=\"sk-toggleable__label sk-toggleable__label-arrow\">VotingClassifier</label><div class=\"sk-toggleable__content\"><pre>VotingClassifier(estimators=[(&#x27;lr_model&#x27;, LogisticRegression()),\n",
       "                             (&#x27;dt_model&#x27;, DecisionTreeClassifier())],\n",
       "                 voting=&#x27;soft&#x27;)</pre></div></div></div><div class=\"sk-parallel\"><div class=\"sk-parallel-item\"><div class=\"sk-item\"><div class=\"sk-label-container\"><div class=\"sk-label sk-toggleable\"><label>lr_model</label></div></div><div class=\"sk-serial\"><div class=\"sk-item\"><div class=\"sk-estimator sk-toggleable\"><input class=\"sk-toggleable__control sk-hidden--visually\" id=\"sk-estimator-id-47\" type=\"checkbox\" ><label for=\"sk-estimator-id-47\" class=\"sk-toggleable__label sk-toggleable__label-arrow\">LogisticRegression</label><div class=\"sk-toggleable__content\"><pre>LogisticRegression()</pre></div></div></div></div></div></div><div class=\"sk-parallel-item\"><div class=\"sk-item\"><div class=\"sk-label-container\"><div class=\"sk-label sk-toggleable\"><label>dt_model</label></div></div><div class=\"sk-serial\"><div class=\"sk-item\"><div class=\"sk-estimator sk-toggleable\"><input class=\"sk-toggleable__control sk-hidden--visually\" id=\"sk-estimator-id-48\" type=\"checkbox\" ><label for=\"sk-estimator-id-48\" class=\"sk-toggleable__label sk-toggleable__label-arrow\">DecisionTreeClassifier</label><div class=\"sk-toggleable__content\"><pre>DecisionTreeClassifier()</pre></div></div></div></div></div></div></div></div></div></div>"
      ],
      "text/plain": [
       "VotingClassifier(estimators=[('lr_model', LogisticRegression()),\n",
       "                             ('dt_model', DecisionTreeClassifier())],\n",
       "                 voting='soft')"
      ]
     },
     "execution_count": 290,
     "metadata": {},
     "output_type": "execute_result"
    }
   ],
   "source": [
    "vh_model.fit(X_train,y_train)\n",
    "vs_model.fit(X_train,y_train)"
   ]
  },
  {
   "cell_type": "code",
   "execution_count": 291,
   "metadata": {},
   "outputs": [],
   "source": [
    "hard_train_score=vh_model.score(X_train,y_train)\n",
    "hard_test_score=vh_model.score(X_test,y_test)\n",
    "\n",
    "soft_train_score=vs_model.score(X_train,y_train)\n",
    "soft_test_score=vs_model.score(X_test,y_test)"
   ]
  },
  {
   "cell_type": "code",
   "execution_count": 292,
   "metadata": {},
   "outputs": [
    {
     "name": "stdout",
     "output_type": "stream",
     "text": [
      "hard_train_score : hard_test_score = 1.0 : 1.0\n",
      "soft_train_score : soft_test_score = 1.0 : 1.0\n"
     ]
    }
   ],
   "source": [
    "print(F'hard_train_score : hard_test_score = {hard_train_score} : {hard_test_score}')\n",
    "\n",
    "print(F'soft_train_score : soft_test_score = {soft_train_score} : {soft_test_score}')"
   ]
  },
  {
   "cell_type": "markdown",
   "metadata": {},
   "source": [
    "## 중요도낮은 피쳐를 줄여볼것"
   ]
  },
  {
   "cell_type": "code",
   "execution_count": 296,
   "metadata": {},
   "outputs": [
    {
     "data": {
      "text/plain": [
       "Index(['cap-shape_b', 'cap-shape_c', 'cap-shape_f', 'cap-shape_k',\n",
       "       'cap-shape_s', 'cap-shape_x', 'cap-surface_f', 'cap-surface_g',\n",
       "       'cap-surface_s', 'cap-surface_y', 'cap-color_b', 'cap-color_c',\n",
       "       'cap-color_e', 'cap-color_g', 'cap-color_n', 'cap-color_p',\n",
       "       'cap-color_w', 'cap-color_y', 'bruises_f', 'bruises_t', 'odor_a',\n",
       "       'odor_c', 'odor_f', 'odor_l', 'odor_m', 'odor_n', 'odor_p',\n",
       "       'gill-attachment_a', 'gill-attachment_f', 'gill-spacing_c',\n",
       "       'gill-spacing_w', 'gill-size_b', 'gill-size_n', 'gill-color_g',\n",
       "       'gill-color_h', 'gill-color_k', 'gill-color_n', 'gill-color_p',\n",
       "       'gill-color_r', 'gill-color_u', 'gill-color_w', 'gill-color_y',\n",
       "       'stalk-shape_e', 'stalk-shape_t', 'stalk-root_b', 'stalk-root_c',\n",
       "       'stalk-root_e', 'stalk-root_r', 'stalk-surface-above-ring_f',\n",
       "       'stalk-surface-above-ring_k', 'stalk-surface-above-ring_s',\n",
       "       'stalk-surface-above-ring_y', 'stalk-surface-below-ring_f',\n",
       "       'stalk-surface-below-ring_k', 'stalk-surface-below-ring_s',\n",
       "       'stalk-surface-below-ring_y', 'stalk-color-above-ring_b',\n",
       "       'stalk-color-above-ring_c', 'stalk-color-above-ring_g',\n",
       "       'stalk-color-above-ring_n', 'stalk-color-above-ring_p',\n",
       "       'stalk-color-above-ring_w', 'stalk-color-above-ring_y',\n",
       "       'stalk-color-below-ring_b', 'stalk-color-below-ring_c',\n",
       "       'stalk-color-below-ring_g', 'stalk-color-below-ring_n',\n",
       "       'stalk-color-below-ring_p', 'stalk-color-below-ring_w',\n",
       "       'stalk-color-below-ring_y', 'veil-type_p', 'veil-color_w',\n",
       "       'veil-color_y', 'ring-number_n', 'ring-number_o', 'ring-number_t',\n",
       "       'ring-type_e', 'ring-type_l', 'ring-type_n', 'ring-type_p',\n",
       "       'spore-print-color_h', 'spore-print-color_k', 'spore-print-color_n',\n",
       "       'spore-print-color_r', 'spore-print-color_u', 'spore-print-color_w',\n",
       "       'population_a', 'population_c', 'population_n', 'population_s',\n",
       "       'population_v', 'population_y', 'habitat_d', 'habitat_g', 'habitat_l',\n",
       "       'habitat_m', 'habitat_p', 'habitat_u'],\n",
       "      dtype='object')"
      ]
     },
     "execution_count": 296,
     "metadata": {},
     "output_type": "execute_result"
    }
   ],
   "source": [
    "featureDF.columns\n",
    "# 모아서 해보기!"
   ]
  },
  {
   "cell_type": "code",
   "execution_count": null,
   "metadata": {},
   "outputs": [],
   "source": []
  }
 ],
 "metadata": {
  "kernelspec": {
   "display_name": "ML_38",
   "language": "python",
   "name": "python3"
  },
  "language_info": {
   "codemirror_mode": {
    "name": "ipython",
    "version": 3
   },
   "file_extension": ".py",
   "mimetype": "text/x-python",
   "name": "python",
   "nbconvert_exporter": "python",
   "pygments_lexer": "ipython3",
   "version": "3.8.19"
  }
 },
 "nbformat": 4,
 "nbformat_minor": 2
}

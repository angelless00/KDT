{
 "cells": [
  {
   "cell_type": "markdown",
   "metadata": {},
   "source": [
    "### 알파벳 기반 언어 식별 모델\n",
    "- 데이터셋 : lang.zip 사용해서 생성 -> csv,json....\n",
    "- 학습방벙 : 지도학습 - 분류 : 다중분류\n",
    "- 알고리즘 : 다양하게"
   ]
  },
  {
   "cell_type": "markdown",
   "metadata": {},
   "source": [
    "[1] 모듈 로딩 및 데이터 준비"
   ]
  },
  {
   "cell_type": "code",
   "execution_count": 1,
   "metadata": {},
   "outputs": [],
   "source": [
    "# 모듈로딩\n",
    "import pandas as pd\n",
    "import numpy as np\n",
    "import os\n",
    "from collections import Counter"
   ]
  },
  {
   "cell_type": "code",
   "execution_count": 2,
   "metadata": {},
   "outputs": [],
   "source": [
    "# 데이터 파일\n",
    "TRAIN_PATH='train/'\n",
    "TEST_PATH='test/'\n",
    "\n",
    "TRAIN_CSV='lang_train.csv'\n",
    "TEST_CSV='lang_test.csv'"
   ]
  },
  {
   "cell_type": "code",
   "execution_count": 3,
   "metadata": {},
   "outputs": [
    {
     "name": "stdout",
     "output_type": "stream",
     "text": [
      "lang_train.csv 파일이 없습니다\n"
     ]
    }
   ],
   "source": [
    "# 파일 읽기 => open(), read(), readline(), readlines(), close()\n",
    "#          => with open() as 구분 < - close 생략가능\n",
    "\n",
    "if os.path.exists(TRAIN_CSV):\n",
    "    with open(TRAIN_CSV,mode='r') as f:\n",
    "        alldata=f.read()\n",
    "        print(f'[File Data] {alldata}')\n",
    "else:\n",
    "    print(f'{TRAIN_CSV} 파일이 없습니다')"
   ]
  },
  {
   "cell_type": "code",
   "execution_count": 4,
   "metadata": {},
   "outputs": [
    {
     "name": "stdout",
     "output_type": "stream",
     "text": [
      "en-1.txt train/en-1.txt True\n",
      "Label => en\n",
      "en-2.txt train/en-2.txt True\n",
      "Label => en\n",
      "en-3.txt train/en-3.txt True\n",
      "Label => en\n",
      "en-4.txt train/en-4.txt True\n",
      "Label => en\n",
      "en-5.txt train/en-5.txt True\n",
      "Label => en\n",
      "fr-10.txt train/fr-10.txt True\n",
      "Label => fr\n",
      "fr-6.txt train/fr-6.txt True\n",
      "Label => fr\n",
      "fr-7.txt train/fr-7.txt True\n",
      "Label => fr\n",
      "fr-8.txt train/fr-8.txt True\n",
      "Label => fr\n",
      "fr-9.txt train/fr-9.txt True\n",
      "Label => fr\n",
      "id-11.txt train/id-11.txt True\n",
      "Label => id\n",
      "id-12.txt train/id-12.txt True\n",
      "Label => id\n",
      "id-13.txt train/id-13.txt True\n",
      "Label => id\n",
      "id-14.txt train/id-14.txt True\n",
      "Label => id\n",
      "id-15.txt train/id-15.txt True\n",
      "Label => id\n",
      "tl-16.txt train/tl-16.txt True\n",
      "Label => tl\n",
      "tl-17.txt train/tl-17.txt True\n",
      "Label => tl\n",
      "tl-18.txt train/tl-18.txt True\n",
      "Label => tl\n",
      "tl-19.txt train/tl-19.txt True\n",
      "Label => tl\n",
      "tl-20.txt train/tl-20.txt True\n",
      "Label => tl\n"
     ]
    }
   ],
   "source": [
    "# 폴더안에 파일 가져오기\n",
    "files=os.listdir(TRAIN_PATH)\n",
    "featureDF=pd.DataFrame()\n",
    "targetSR=[]\n",
    "for file in files:\n",
    "    print(file,TRAIN_PATH+file,os.path.exists(TRAIN_PATH+file))\n",
    "    label=file[:2]\n",
    "    print(f'Label => {label}')\n",
    "\n",
    "    with open(TRAIN_PATH+file,mode='r') as f:\n",
    "        alldata=f.read()\n",
    "\n",
    "        #대소문자 통일\n",
    "        alldata=alldata.lower()\n",
    "        \n",
    "        # 줄바꿈 제거\n",
    "        alldata=alldata.replace('\\n','')\n",
    "        #print(f'[File Data] {alldata}')\n",
    "\n",
    "        for ch in alldata:\n",
    "            if ord('a')>ord(ch) or ord(ch)>ord('z'):\n",
    "                alldata=alldata.replace(ch,'')\n",
    "\n",
    "        # a~z 개수 카운팅\n",
    "        count=Counter(alldata)\n",
    "        countSR=pd.Series(count)\n",
    "        countSR=countSR/countSR.sum()\n",
    "        featureDF[file]=countSR\n",
    "        targetSR.append(label)\n",
    "        \n",
    "    # 확인용\n",
    "\n",
    "                \n"
   ]
  },
  {
   "cell_type": "code",
   "execution_count": 5,
   "metadata": {},
   "outputs": [],
   "source": [
    "featureDF=featureDF.T\n",
    "featureDF=featureDF[featureDF.columns.sort_values()]"
   ]
  },
  {
   "cell_type": "code",
   "execution_count": 6,
   "metadata": {},
   "outputs": [],
   "source": [
    "featureDF['target']=targetSR"
   ]
  },
  {
   "cell_type": "code",
   "execution_count": null,
   "metadata": {},
   "outputs": [],
   "source": [
    "\n"
   ]
  },
  {
   "cell_type": "code",
   "execution_count": 7,
   "metadata": {},
   "outputs": [],
   "source": [
    "featureDF.to_csv('train.csv')"
   ]
  },
  {
   "cell_type": "code",
   "execution_count": 8,
   "metadata": {},
   "outputs": [
    {
     "name": "stdout",
     "output_type": "stream",
     "text": [
      "en-1.txt test/en-1.txt True\n",
      "Label => en\n",
      "en-2.txt test/en-2.txt True\n",
      "Label => en\n",
      "fr-3.txt test/fr-3.txt True\n",
      "Label => fr\n",
      "fr-4.txt test/fr-4.txt True\n",
      "Label => fr\n",
      "id-5.txt test/id-5.txt True\n",
      "Label => id\n",
      "id-6.txt test/id-6.txt True\n",
      "Label => id\n",
      "tl-7.txt test/tl-7.txt True\n",
      "Label => tl\n",
      "tl-8.txt test/tl-8.txt True\n",
      "Label => tl\n"
     ]
    }
   ],
   "source": [
    "# 폴더안에 파일 가져오기\n",
    "files=os.listdir(TEST_PATH)\n",
    "testDF=pd.DataFrame()\n",
    "test_target=[]\n",
    "for file in files:\n",
    "    print(file,TEST_PATH+file,os.path.exists(TEST_PATH+file))\n",
    "    label=file[:2]\n",
    "    print(f'Label => {label}')\n",
    "\n",
    "    with open(TEST_PATH+file,mode='r') as f:\n",
    "        alldata=f.read()\n",
    "\n",
    "        #대소문자 통일\n",
    "        alldata=alldata.lower()\n",
    "        \n",
    "        # 줄바꿈 제거\n",
    "        alldata=alldata.replace('\\n','')\n",
    "        #print(f'[File Data] {alldata}')\n",
    "\n",
    "        for ch in alldata:\n",
    "            if ord('a')>ord(ch) or ord(ch)>ord('z'):\n",
    "                alldata=alldata.replace(ch,'')\n",
    "\n",
    "        # a~z 개수 카운팅\n",
    "        count=Counter(alldata)\n",
    "        countSR=pd.Series(count)\n",
    "        countSR=countSR/countSR.sum()\n",
    "        testDF[file]=countSR\n",
    "        test_target.append(label)\n",
    "        \n",
    "    # 확인용\n"
   ]
  },
  {
   "cell_type": "code",
   "execution_count": 9,
   "metadata": {},
   "outputs": [],
   "source": [
    "testDF=testDF.T\n",
    "testDF=testDF[testDF.columns.sort_values()]"
   ]
  },
  {
   "cell_type": "code",
   "execution_count": 10,
   "metadata": {},
   "outputs": [],
   "source": [
    "testDF['target']=test_target"
   ]
  },
  {
   "cell_type": "code",
   "execution_count": 11,
   "metadata": {},
   "outputs": [],
   "source": [
    "\n",
    "testDF.to_csv('test.csv')"
   ]
  },
  {
   "cell_type": "code",
   "execution_count": null,
   "metadata": {},
   "outputs": [],
   "source": []
  }
 ],
 "metadata": {
  "kernelspec": {
   "display_name": "ML_38",
   "language": "python",
   "name": "python3"
  },
  "language_info": {
   "codemirror_mode": {
    "name": "ipython",
    "version": 3
   },
   "file_extension": ".py",
   "mimetype": "text/x-python",
   "name": "python",
   "nbconvert_exporter": "python",
   "pygments_lexer": "ipython3",
   "version": "3.8.19"
  }
 },
 "nbformat": 4,
 "nbformat_minor": 2
}

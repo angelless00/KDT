{
 "cells": [
  {
   "cell_type": "code",
   "execution_count": null,
   "metadata": {},
   "outputs": [],
   "source": [
    "import torch\n",
    "from ultralytics import YOLO\n",
    "import os\n",
    "import cv2"
   ]
  },
  {
   "cell_type": "code",
   "execution_count": null,
   "metadata": {},
   "outputs": [],
   "source": [
    "model=YOLO('weights/best.pt')"
   ]
  },
  {
   "cell_type": "code",
   "execution_count": null,
   "metadata": {},
   "outputs": [],
   "source": [
    "def auto_laveler_IMG(IMAGE_PATH):\n",
    "    \"\"\"IMAGE 폴더안에 있는 모든 img 라벨링 후 라벨 텍스트 저장\"\"\"\n",
    "    image_list=os.listdir(IMAGE_PATH)\n",
    "    for image in image_list:\n",
    "        model.predict(IMAGE_PATH+'/'+image,save_txt=True)"
   ]
  },
  {
   "cell_type": "code",
   "execution_count": 233,
   "metadata": {},
   "outputs": [],
   "source": [
    "def video_capture(video_path,image_path,second):\n",
    "    \"\"\"\n",
    "    video 캡쳐  \n",
    "    second=몇초마다캡쳐할건지\n",
    "    \"\"\"\n",
    "    video = cv2.VideoCapture(video_path)\n",
    "    if not os.path.exists(image_path):\n",
    "         os.mkdir(image_path)\n",
    "    num_frame=video.get(cv2.CAP_PROP_FPS)   # 현재 파일의 FPS \n",
    "    frame_step=second*num_frame\n",
    "    i=0\n",
    "    ret=True\n",
    "\n",
    "    while ret:\n",
    "        ret,frame=video.read()\n",
    "        cv2.imwrite(f'{image_path}/vv{i}.jpg',frame)\n",
    "        video.set(cv2.CAP_PROP_POS_FRAMES, int(i*frame_step))\n",
    "        i+=1\n",
    "        if i==20:\n",
    "            break"
   ]
  },
  {
   "cell_type": "code",
   "execution_count": null,
   "metadata": {},
   "outputs": [],
   "source": [
    "def detect_save(IMAGE_PATH):\n",
    "    \"\"\"IMAGE_PATH안에 있는 파일중 detect 된 파일과 라벨만 folder 안에 저장\"\"\"\n",
    "    image_list=os.listdir(IMAGE_PATH)\n",
    "    for image in image_list:\n",
    "        result=model.predict(IMAGE_PATH+image,save_txt=False)\n",
    "        for r in result:\n",
    "            r=r.to_json()\n",
    "            if len(r)>2:\n",
    "                model.predict(IMAGE_PATH+image,save=True,save_txt=True,show_boxes=True)\n",
    "        "
   ]
  },
  {
   "cell_type": "code",
   "execution_count": 234,
   "metadata": {},
   "outputs": [],
   "source": [
    "video_capture('실험/20231129152716.avi','실험/image/',3)"
   ]
  },
  {
   "cell_type": "code",
   "execution_count": null,
   "metadata": {},
   "outputs": [],
   "source": [
    "detect_save('실험/image/')"
   ]
  },
  {
   "cell_type": "code",
   "execution_count": null,
   "metadata": {},
   "outputs": [],
   "source": [
    "video=cv2.VideoCapture('실험/20231129152716.avi')\n",
    "ret,frame=video.read()\n",
    "cv2.imwrite('실험/d.jpg',frame)"
   ]
  },
  {
   "cell_type": "code",
   "execution_count": null,
   "metadata": {},
   "outputs": [],
   "source": [
    "image_list=os.listdir('실험/image/')\n",
    "for img in image_list:\n",
    "    result=model.predict(f'실험/image/{img}',save_txt=False)\n",
    "    for r in result:\n",
    "        r=r.to_json()\n",
    "        if len(r)>3:\n",
    "            model.predict(f'실험/image/{img}',save=True,show_boxes=False,save_txt=True)\n",
    "        break\n",
    "    break"
   ]
  },
  {
   "cell_type": "markdown",
   "metadata": {},
   "source": []
  },
  {
   "cell_type": "code",
   "execution_count": null,
   "metadata": {},
   "outputs": [],
   "source": []
  }
 ],
 "metadata": {
  "kernelspec": {
   "display_name": "NEMO",
   "language": "python",
   "name": "python3"
  },
  "language_info": {
   "codemirror_mode": {
    "name": "ipython",
    "version": 3
   },
   "file_extension": ".py",
   "mimetype": "text/x-python",
   "name": "python",
   "nbconvert_exporter": "python",
   "pygments_lexer": "ipython3",
   "version": "3.8.20"
  }
 },
 "nbformat": 4,
 "nbformat_minor": 2
}

{
 "cells": [
  {
   "cell_type": "code",
   "execution_count": null,
   "metadata": {},
   "outputs": [],
   "source": [
    "import torch\n",
    "from ultralytics import YOLO\n",
    "import os\n",
    "import cv2\n",
    "import pandas as pd"
   ]
  },
  {
   "cell_type": "code",
   "execution_count": null,
   "metadata": {},
   "outputs": [],
   "source": [
    "\n",
    "model=YOLO('Model/model ver.1/best.pt')"
   ]
  },
  {
   "cell_type": "code",
   "execution_count": 159,
   "metadata": {},
   "outputs": [],
   "source": [
    "# 포크리프트 1\n",
    "img1=cv2.imread('실험/image/vv2.jpg')\n",
    "img2=cv2.imread('실험/image/231231_1600_Cam5_C2 (1758).jpg')\n",
    "img3=cv2.imread('실험/image/포크부분.png')"
   ]
  },
  {
   "cell_type": "code",
   "execution_count": 154,
   "metadata": {},
   "outputs": [
    {
     "name": "stdout",
     "output_type": "stream",
     "text": [
      "\n",
      "0: 384x640 1 forklift_w, 72.4ms\n",
      "Speed: 3.7ms preprocess, 72.4ms inference, 0.0ms postprocess per image at shape (1, 3, 384, 640)\n",
      "Results saved to \u001b[1mc:\\Users\\KDP-30\\runs\\detect\\predict\u001b[0m\n",
      "1 label saved to c:\\Users\\KDP-30\\runs\\detect\\predict\\labels\n",
      "ultralytics.engine.results.Results object with attributes:\n",
      "\n",
      "boxes: ultralytics.engine.results.Boxes object\n",
      "keypoints: None\n",
      "masks: None\n",
      "names: {0: 'person_o', 1: 'person_x', 2: 'forklift_w', 3: 'forklift_a', 4: 'forklift_s', 5: 'forklift_d', 6: 'trolly'}\n",
      "obb: None\n",
      "orig_img: array([[[ 42,  40,  39],\n",
      "        [ 31,  32,  30],\n",
      "        [ 23,  24,  22],\n",
      "        ...,\n",
      "        [ 39,  52,  50],\n",
      "        [ 39,  52,  50],\n",
      "        [ 39,  52,  50]],\n",
      "\n",
      "       [[ 36,  39,  37],\n",
      "        [ 30,  33,  31],\n",
      "        [ 24,  27,  25],\n",
      "        ...,\n",
      "        [ 39,  52,  50],\n",
      "        [ 39,  52,  50],\n",
      "        [ 39,  52,  50]],\n",
      "\n",
      "       [[ 30,  39,  36],\n",
      "        [ 26,  35,  32],\n",
      "        [ 26,  31,  29],\n",
      "        ...,\n",
      "        [ 39,  52,  50],\n",
      "        [ 39,  52,  50],\n",
      "        [ 39,  52,  50]],\n",
      "\n",
      "       ...,\n",
      "\n",
      "       [[ 90, 104,  93],\n",
      "        [ 91, 105,  94],\n",
      "        [ 90, 103,  95],\n",
      "        ...,\n",
      "        [ 30,  36,  31],\n",
      "        [ 22,  29,  22],\n",
      "        [ 25,  32,  25]],\n",
      "\n",
      "       [[ 87, 101,  90],\n",
      "        [ 88, 102,  91],\n",
      "        [ 90, 101,  93],\n",
      "        ...,\n",
      "        [ 50,  57,  52],\n",
      "        [ 28,  36,  29],\n",
      "        [ 20,  28,  21]],\n",
      "\n",
      "       [[ 86, 100,  89],\n",
      "        [ 87, 101,  90],\n",
      "        [ 88,  99,  91],\n",
      "        ...,\n",
      "        [ 66,  73,  68],\n",
      "        [ 37,  45,  38],\n",
      "        [ 18,  26,  19]]], dtype=uint8)\n",
      "orig_shape: (720, 1280)\n",
      "path: 'image0.jpg'\n",
      "probs: None\n",
      "save_dir: 'c:\\\\Users\\\\KDP-30\\\\runs\\\\detect\\\\predict'\n",
      "speed: {'preprocess': 3.734588623046875, 'inference': 72.4036693572998, 'postprocess': 0.0}\n"
     ]
    }
   ],
   "source": [
    "result=model.predict(img1)\n",
    "for r in result:\n",
    "    print(r)"
   ]
  },
  {
   "cell_type": "code",
   "execution_count": null,
   "metadata": {},
   "outputs": [],
   "source": [
    "result=model.predict(img2,save_txt=True,save=True)\n",
    "for r in result:\n",
    "    r=r.to_df()\n",
    "r"
   ]
  },
  {
   "cell_type": "code",
   "execution_count": null,
   "metadata": {},
   "outputs": [],
   "source": [
    "r.iloc[0,3] #dict로 출력"
   ]
  },
  {
   "cell_type": "code",
   "execution_count": 181,
   "metadata": {},
   "outputs": [
    {
     "name": "stdout",
     "output_type": "stream",
     "text": [
      "\n",
      "0: 384x640 3 person_os, 1 forklift_d, 101.1ms\n",
      "Speed: 1.0ms preprocess, 101.1ms inference, 0.0ms postprocess per image at shape (1, 3, 384, 640)\n",
      "Results saved to \u001b[1mc:\\Users\\KDP-30\\runs\\detect\\predict\u001b[0m\n",
      "1 label saved to c:\\Users\\KDP-30\\runs\\detect\\predict\\labels\n",
      "tensor([[652.2251, 687.2020, 127.6326,  65.5960]])\n"
     ]
    }
   ],
   "source": [
    "result=model.predict(img2,save_txt=True,save=True)\n",
    "for r in result:\n",
    "    DF=r.to_df()\n",
    "    personDF=DF[(DF['class']==0)|(DF['class']==1)]\n",
    "    carDF=DF.drop(personDF.index)\n",
    "    print(r[3].boxes.xywh)\n"
   ]
  },
  {
   "cell_type": "code",
   "execution_count": 121,
   "metadata": {},
   "outputs": [
    {
     "data": {
      "text/html": [
       "<div>\n",
       "<style scoped>\n",
       "    .dataframe tbody tr th:only-of-type {\n",
       "        vertical-align: middle;\n",
       "    }\n",
       "\n",
       "    .dataframe tbody tr th {\n",
       "        vertical-align: top;\n",
       "    }\n",
       "\n",
       "    .dataframe thead th {\n",
       "        text-align: right;\n",
       "    }\n",
       "</style>\n",
       "<table border=\"1\" class=\"dataframe\">\n",
       "  <thead>\n",
       "    <tr style=\"text-align: right;\">\n",
       "      <th></th>\n",
       "      <th>name</th>\n",
       "      <th>class</th>\n",
       "      <th>confidence</th>\n",
       "      <th>box</th>\n",
       "    </tr>\n",
       "  </thead>\n",
       "  <tbody>\n",
       "    <tr>\n",
       "      <th>0</th>\n",
       "      <td>person_o</td>\n",
       "      <td>0</td>\n",
       "      <td>0.92648</td>\n",
       "      <td>{'x1': 932.78784, 'y1': 578.05078, 'x2': 1134....</td>\n",
       "    </tr>\n",
       "    <tr>\n",
       "      <th>2</th>\n",
       "      <td>person_o</td>\n",
       "      <td>0</td>\n",
       "      <td>0.88679</td>\n",
       "      <td>{'x1': 930.29053, 'y1': 241.26184, 'x2': 1039....</td>\n",
       "    </tr>\n",
       "    <tr>\n",
       "      <th>3</th>\n",
       "      <td>person_o</td>\n",
       "      <td>0</td>\n",
       "      <td>0.86928</td>\n",
       "      <td>{'x1': 588.40881, 'y1': 654.40399, 'x2': 716.0...</td>\n",
       "    </tr>\n",
       "  </tbody>\n",
       "</table>\n",
       "</div>"
      ],
      "text/plain": [
       "       name  class  confidence  \\\n",
       "0  person_o      0     0.92648   \n",
       "2  person_o      0     0.88679   \n",
       "3  person_o      0     0.86928   \n",
       "\n",
       "                                                 box  \n",
       "0  {'x1': 932.78784, 'y1': 578.05078, 'x2': 1134....  \n",
       "2  {'x1': 930.29053, 'y1': 241.26184, 'x2': 1039....  \n",
       "3  {'x1': 588.40881, 'y1': 654.40399, 'x2': 716.0...  "
      ]
     },
     "execution_count": 121,
     "metadata": {},
     "output_type": "execute_result"
    }
   ],
   "source": [
    "personDF"
   ]
  },
  {
   "cell_type": "code",
   "execution_count": 123,
   "metadata": {},
   "outputs": [
    {
     "data": {
      "text/html": [
       "<div>\n",
       "<style scoped>\n",
       "    .dataframe tbody tr th:only-of-type {\n",
       "        vertical-align: middle;\n",
       "    }\n",
       "\n",
       "    .dataframe tbody tr th {\n",
       "        vertical-align: top;\n",
       "    }\n",
       "\n",
       "    .dataframe thead th {\n",
       "        text-align: right;\n",
       "    }\n",
       "</style>\n",
       "<table border=\"1\" class=\"dataframe\">\n",
       "  <thead>\n",
       "    <tr style=\"text-align: right;\">\n",
       "      <th></th>\n",
       "      <th>name</th>\n",
       "      <th>class</th>\n",
       "      <th>confidence</th>\n",
       "      <th>box</th>\n",
       "    </tr>\n",
       "  </thead>\n",
       "  <tbody>\n",
       "    <tr>\n",
       "      <th>1</th>\n",
       "      <td>forklift_d</td>\n",
       "      <td>5</td>\n",
       "      <td>0.92355</td>\n",
       "      <td>{'x1': 467.78302, 'y1': 197.39716, 'x2': 960.9...</td>\n",
       "    </tr>\n",
       "  </tbody>\n",
       "</table>\n",
       "</div>"
      ],
      "text/plain": [
       "         name  class  confidence  \\\n",
       "1  forklift_d      5     0.92355   \n",
       "\n",
       "                                                 box  \n",
       "1  {'x1': 467.78302, 'y1': 197.39716, 'x2': 960.9...  "
      ]
     },
     "execution_count": 123,
     "metadata": {},
     "output_type": "execute_result"
    }
   ],
   "source": [
    "carDF"
   ]
  },
  {
   "cell_type": "code",
   "execution_count": 116,
   "metadata": {},
   "outputs": [
    {
     "data": {
      "text/plain": [
       "True"
      ]
     },
     "execution_count": 116,
     "metadata": {},
     "output_type": "execute_result"
    }
   ],
   "source": [
    "0 in list(DF['class'])"
   ]
  },
  {
   "cell_type": "code",
   "execution_count": 117,
   "metadata": {},
   "outputs": [],
   "source": [
    "# 안전모 x\n",
    "if 1 in list(DF['class']):\n",
    "    print('안전모써!!')"
   ]
  },
  {
   "cell_type": "code",
   "execution_count": 172,
   "metadata": {},
   "outputs": [
    {
     "name": "stdout",
     "output_type": "stream",
     "text": [
      "ultralytics.engine.results.Boxes object with attributes:\n",
      "\n",
      "cls: tensor([5., 0.])\n",
      "conf: tensor([0.9171, 0.8175])\n",
      "data: tensor([[7.1157e+02, 3.0674e+02, 1.4440e+03, 8.9766e+02, 9.1709e-01, 5.0000e+00],\n",
      "        [5.4984e+02, 3.0369e+02, 7.0931e+02, 6.6777e+02, 8.1753e-01, 0.0000e+00]])\n",
      "id: None\n",
      "is_track: False\n",
      "orig_shape: (1084, 1915)\n",
      "shape: torch.Size([2, 6])\n",
      "xywh: tensor([[1077.8075,  602.2028,  732.4714,  590.9177],\n",
      "        [ 629.5732,  485.7299,  159.4682,  364.0724]])\n",
      "xywhn: tensor([[0.5628, 0.5555, 0.3825, 0.5451],\n",
      "        [0.3288, 0.4481, 0.0833, 0.3359]])\n",
      "xyxy: tensor([[ 711.5718,  306.7440, 1444.0432,  897.6616],\n",
      "        [ 549.8391,  303.6937,  709.3073,  667.7661]])\n",
      "xyxyn: tensor([[0.3716, 0.2830, 0.7541, 0.8281],\n",
      "        [0.2871, 0.2802, 0.3704, 0.6160]])\n"
     ]
    }
   ],
   "source": [
    "# 사람vs 차\n",
    "for c in carDF.box:\n",
    "    for p in personDF.box:\n",
    "        print(r.boxes)"
   ]
  },
  {
   "cell_type": "code",
   "execution_count": 145,
   "metadata": {},
   "outputs": [
    {
     "data": {
      "text/html": [
       "<div>\n",
       "<style scoped>\n",
       "    .dataframe tbody tr th:only-of-type {\n",
       "        vertical-align: middle;\n",
       "    }\n",
       "\n",
       "    .dataframe tbody tr th {\n",
       "        vertical-align: top;\n",
       "    }\n",
       "\n",
       "    .dataframe thead th {\n",
       "        text-align: right;\n",
       "    }\n",
       "</style>\n",
       "<table border=\"1\" class=\"dataframe\">\n",
       "  <thead>\n",
       "    <tr style=\"text-align: right;\">\n",
       "      <th></th>\n",
       "      <th>name</th>\n",
       "      <th>class</th>\n",
       "      <th>confidence</th>\n",
       "      <th>box</th>\n",
       "    </tr>\n",
       "  </thead>\n",
       "  <tbody>\n",
       "    <tr>\n",
       "      <th>1</th>\n",
       "      <td>forklift_d</td>\n",
       "      <td>5</td>\n",
       "      <td>0.92355</td>\n",
       "      <td>{'x1': 467.78302, 'y1': 197.39716, 'x2': 960.9...</td>\n",
       "    </tr>\n",
       "  </tbody>\n",
       "</table>\n",
       "</div>"
      ],
      "text/plain": [
       "         name  class  confidence  \\\n",
       "1  forklift_d      5     0.92355   \n",
       "\n",
       "                                                 box  \n",
       "1  {'x1': 467.78302, 'y1': 197.39716, 'x2': 960.9...  "
      ]
     },
     "execution_count": 145,
     "metadata": {},
     "output_type": "execute_result"
    }
   ],
   "source": [
    "carDF"
   ]
  },
  {
   "cell_type": "code",
   "execution_count": 158,
   "metadata": {},
   "outputs": [
    {
     "name": "stdout",
     "output_type": "stream",
     "text": [
      "\n",
      "0: 384x640 3 person_os, 1 forklift_d, 113.3ms\n",
      "Speed: 2.0ms preprocess, 113.3ms inference, 1.5ms postprocess per image at shape (1, 3, 384, 640)\n",
      "Results saved to \u001b[1mc:\\Users\\KDP-30\\runs\\detect\\predict\u001b[0m\n",
      "1 label saved to c:\\Users\\KDP-30\\runs\\detect\\predict\\labels\n",
      "사고났다!\n",
      "사고났다!\n"
     ]
    }
   ],
   "source": [
    "result=model.predict(img2,save_txt=True,save=True)\n",
    "ratio=1.7\n",
    "for r in result:\n",
    "    DF=r.to_df()\n",
    "    personDF=DF[(DF['class']==0)|(DF['class']==1)]  # 사람 관련 DF\n",
    "    carDF=DF.drop(personDF.index)       # 차량 관련 DF\n",
    "    if len(personDF)*len(carDF):        # 차와 사람이 둘다있을경우만 진행\n",
    "        for c_idx in carDF.index:\n",
    "            w,a,s,d=1,1,1,1\n",
    "            c=carDF.loc[c_idx,'box']\n",
    "            if carDF.loc[c_idx,'class']==2:\n",
    "                w=ratio\n",
    "            elif carDF.loc[c_idx,'class']==3:\n",
    "                a=ratio\n",
    "            elif carDF.loc[c_idx,'class']==4:\n",
    "                s=ratio\n",
    "            elif carDF.loc[c_idx,'class']==3:\n",
    "                d=ratio\n",
    "            for p in personDF.box:\n",
    "                if ((c['x1']*a<=p['x1']<=c['x2']*d) or (c['x1']*a<=p['x2']<=c['x2']*d)) and ((c['y1']*w<=p['y1']<=c['y2']*s) or (c['y1']*w<=p['y2']<=c['y2']*s)) :\n",
    "                    print('사고났다!')"
   ]
  },
  {
   "cell_type": "code",
   "execution_count": 183,
   "metadata": {},
   "outputs": [
    {
     "name": "stdout",
     "output_type": "stream",
     "text": [
      "\n",
      "0: 384x640 1 person_o, 1 forklift_d, 95.9ms\n",
      "Speed: 2.0ms preprocess, 95.9ms inference, 1.0ms postprocess per image at shape (1, 3, 384, 640)\n",
      "Results saved to \u001b[1mc:\\Users\\KDP-30\\runs\\detect\\predict\u001b[0m\n",
      "1 label saved to c:\\Users\\KDP-30\\runs\\detect\\predict\\labels\n"
     ]
    },
    {
     "ename": "IndexError",
     "evalue": "index 2 is out of bounds for dimension 0 with size 1",
     "output_type": "error",
     "traceback": [
      "\u001b[1;31m---------------------------------------------------------------------------\u001b[0m",
      "\u001b[1;31mIndexError\u001b[0m                                Traceback (most recent call last)",
      "Cell \u001b[1;32mIn[183], line 21\u001b[0m\n\u001b[0;32m     19\u001b[0m     d\u001b[38;5;241m=\u001b[39mratio\n\u001b[0;32m     20\u001b[0m wid\u001b[38;5;241m=\u001b[39mc[\u001b[38;5;124m'\u001b[39m\u001b[38;5;124mx2\u001b[39m\u001b[38;5;124m'\u001b[39m]\u001b[38;5;241m-\u001b[39mc[\u001b[38;5;124m'\u001b[39m\u001b[38;5;124mx1\u001b[39m\u001b[38;5;124m'\u001b[39m]\n\u001b[1;32m---> 21\u001b[0m \u001b[38;5;28mprint\u001b[39m(wid\u001b[38;5;241m==\u001b[39m\u001b[43mr\u001b[49m\u001b[43m[\u001b[49m\u001b[43mc_idx\u001b[49m\u001b[43m]\u001b[49m\u001b[38;5;241;43m.\u001b[39;49m\u001b[43mboxes\u001b[49m\u001b[38;5;241;43m.\u001b[39;49m\u001b[43mxywh\u001b[49m\u001b[43m[\u001b[49m\u001b[38;5;241;43m2\u001b[39;49m\u001b[43m]\u001b[49m)\n\u001b[0;32m     22\u001b[0m hei\u001b[38;5;241m=\u001b[39mc[\u001b[38;5;124m'\u001b[39m\u001b[38;5;124my2\u001b[39m\u001b[38;5;124m'\u001b[39m]\u001b[38;5;241m-\u001b[39mc[\u001b[38;5;124m'\u001b[39m\u001b[38;5;124my1\u001b[39m\u001b[38;5;124m'\u001b[39m]\n\u001b[0;32m     23\u001b[0m \u001b[38;5;28;01mfor\u001b[39;00m p \u001b[38;5;129;01min\u001b[39;00m personDF\u001b[38;5;241m.\u001b[39mbox:\n",
      "\u001b[1;31mIndexError\u001b[0m: index 2 is out of bounds for dimension 0 with size 1"
     ]
    }
   ],
   "source": [
    "result=model.predict(img3,save_txt=True,save=True)\n",
    "ratio=0.7\n",
    "for r in result:\n",
    "    DF=r.to_df()\n",
    "    personDF=DF[(DF['class']==0)|(DF['class']==1)]  # 사람 관련 DF\n",
    "    carDF=DF.drop(personDF.index)       # 차량 관련 DF\n",
    "    #carDF['class']=3\n",
    "    if len(personDF)*len(carDF):        # 차와 사람이 둘다있을경우만 진행\n",
    "        for c_idx in carDF.index:\n",
    "            w,a,s,d=1,1,1,1\n",
    "            c=carDF.loc[c_idx,'box']\n",
    "            if carDF.loc[c_idx,'class']==2:\n",
    "                w=ratio\n",
    "            elif carDF.loc[c_idx,'class']==3:\n",
    "                a=ratio\n",
    "            elif carDF.loc[c_idx,'class']==4:\n",
    "                s=ratio\n",
    "            elif carDF.loc[c_idx,'class']==3:\n",
    "                d=ratio\n",
    "            wid=c['x2']-c['x1']\n",
    "            print(wid==r[c_idx].boxes.xywh[2])\n",
    "            hei=c['y2']-c['y1']\n",
    "            for p in personDF.box:\n",
    "                if ((c['x1']-wid*a<=p['x1']<=c['x2']+wid*d) or (c['x1']-wid*a<=p['x2']<=c['x2']+wid*d)) and ((c['y1']-hei*w<=p['y1']<=c['y2']+hei*s) or (c['y1']-hei*w<=p['y2']<=c['y2']+hei*s)) :\n",
    "                    print('사고났다!')"
   ]
  },
  {
   "cell_type": "code",
   "execution_count": 167,
   "metadata": {},
   "outputs": [
    {
     "data": {
      "text/html": [
       "<div>\n",
       "<style scoped>\n",
       "    .dataframe tbody tr th:only-of-type {\n",
       "        vertical-align: middle;\n",
       "    }\n",
       "\n",
       "    .dataframe tbody tr th {\n",
       "        vertical-align: top;\n",
       "    }\n",
       "\n",
       "    .dataframe thead th {\n",
       "        text-align: right;\n",
       "    }\n",
       "</style>\n",
       "<table border=\"1\" class=\"dataframe\">\n",
       "  <thead>\n",
       "    <tr style=\"text-align: right;\">\n",
       "      <th></th>\n",
       "      <th>name</th>\n",
       "      <th>class</th>\n",
       "      <th>confidence</th>\n",
       "      <th>box</th>\n",
       "    </tr>\n",
       "  </thead>\n",
       "  <tbody>\n",
       "    <tr>\n",
       "      <th>0</th>\n",
       "      <td>forklift_d</td>\n",
       "      <td>3</td>\n",
       "      <td>0.91709</td>\n",
       "      <td>{'x1': 711.57184, 'y1': 306.74396, 'x2': 1444....</td>\n",
       "    </tr>\n",
       "  </tbody>\n",
       "</table>\n",
       "</div>"
      ],
      "text/plain": [
       "         name  class  confidence  \\\n",
       "0  forklift_d      3     0.91709   \n",
       "\n",
       "                                                 box  \n",
       "0  {'x1': 711.57184, 'y1': 306.74396, 'x2': 1444....  "
      ]
     },
     "execution_count": 167,
     "metadata": {},
     "output_type": "execute_result"
    }
   ],
   "source": [
    "carDF"
   ]
  },
  {
   "cell_type": "code",
   "execution_count": null,
   "metadata": {},
   "outputs": [],
   "source": [
    "def car_accident(img,ratio=0.7):\n",
    "    result=model.predict(img,save_txt=True,save=True)\n",
    "    for r in result:\n",
    "        DF=r.to_df()\n",
    "        personDF=DF[(DF['class']==0)|(DF['class']==1)]  # 사람 관련 DF\n",
    "        carDF=DF.drop(personDF.index)       # 차량 관련 DF\n",
    "        w,a,s,d=0                           # 4방향 가중치 초기화\n",
    "        if len(personDF)*len(carDF):        # 차와 사람이 둘다있을경우만 진행\n",
    "            for c_idx in carDF.index:\n",
    "                c=carDF.loc[c_idx,'box']\n",
    "                if carDF.loc[c_idx,'class']==2:            # w 방향 가중치\n",
    "                    w=ratio\n",
    "                elif carDF.loc[c_idx,'class']==3:           # a 방향 가중치\n",
    "                    a=ratio\n",
    "                elif carDF.loc[c_idx,'class']==4:           # s 방향 가중치\n",
    "                    s=ratio\n",
    "                elif carDF.loc[c_idx,'class']==3:           # d 방향 가중치\n",
    "                    d=ratio\n",
    "                wid=c['x2']-c['x1']         # 차너비\n",
    "                hei=c['y2']-c['y1']         # 차높이\n",
    "                for p in personDF.box:\n",
    "                    if ((c['x1']-wid*a<=p['x1']<=c['x2']+wid*d) or (c['x1']-wid*a<=p['x2']<=c['x2']+wid*d)) and ((c['y1']-hei*w<=p['y1']<=c['y2']+hei*s) or (c['y1']-hei*w<=p['y2']<=c['y2']+hei*s)) :\n",
    "                        print('사고났다!')"
   ]
  },
  {
   "cell_type": "code",
   "execution_count": null,
   "metadata": {},
   "outputs": [],
   "source": []
  }
 ],
 "metadata": {
  "kernelspec": {
   "display_name": "NEMO",
   "language": "python",
   "name": "python3"
  },
  "language_info": {
   "codemirror_mode": {
    "name": "ipython",
    "version": 3
   },
   "file_extension": ".py",
   "mimetype": "text/x-python",
   "name": "python",
   "nbconvert_exporter": "python",
   "pygments_lexer": "ipython3",
   "version": "3.8.20"
  }
 },
 "nbformat": 4,
 "nbformat_minor": 2
}

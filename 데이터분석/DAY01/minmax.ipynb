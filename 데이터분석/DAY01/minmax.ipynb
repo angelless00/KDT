{
 "cells": [
  {
   "cell_type": "code",
   "execution_count": 1,
   "metadata": {},
   "outputs": [],
   "source": [
    "import csv"
   ]
  },
  {
   "cell_type": "code",
   "execution_count": 6,
   "metadata": {},
   "outputs": [],
   "source": [
    "def get_minmax_temp(data):\n",
    "    # 최고 기온 및 최고 기온 날짜 구하기\n",
    "    header=next(data)\n",
    "\n",
    "    min_temp=100    #최저 기온 값을 저장할 변수 초기화 (가장 큰 값)\n",
    "    min_date=''     # 최저 기온의 날짜를 저장할 변수 초기화\n",
    "\n",
    "    max_temp=-999   # 최고 기온을 저장할 변수 초기화 (가장 작은 값)\n",
    "    max_date=''     # 최고 기온의 날짜를 저장할 변수 초기화\n",
    "\n",
    "    for row in data:\n",
    "        if row[3]=='':\n",
    "            row[3]=100\n",
    "        row[3]=float(row[3])\n",
    "\n",
    "        if row[4]=='':   # [-1] : 리스트에서 마지막 데이터가 없는 경우\n",
    "            row[4] = -999\n",
    "        row[4]=float(row[4])\n",
    "\n",
    "        # 최저 기온 계산\n",
    "        if row[3]<min_temp:\n",
    "            min_temp=row[3]     # 최소값 업데이트\n",
    "            min_date=row[0]\n",
    "            # print(f'최저기온 업데이트 : {min_date},{min_temp}')\n",
    "        \n",
    "        # 최고 기온 계산\n",
    "        if row[4]>max_temp:\n",
    "            max_temp=row[4]     # 최대값 업데이트\n",
    "            max_date=row[0]     # 날짜 : index[0]\n",
    "            # print(f'최고기온 업데이트 : {max_date},{max_temp}')\n",
    "\n",
    "    print('-'*50)\n",
    "    print(f'대구 최저 기온 날짜 : {min_date}, 온도: {min_temp}')\n",
    "    print(f'대구 최고 기온 날짜 : {max_date}, 온도: {max_temp}')"
   ]
  },
  {
   "cell_type": "code",
   "execution_count": 7,
   "metadata": {},
   "outputs": [],
   "source": [
    "def main():\n",
    "    f=open('daegu-utf8.csv',encoding='utf-8-sig')\n",
    "    data=csv.reader(f)\n",
    "    get_minmax_temp(data)\n",
    "    f.close()"
   ]
  },
  {
   "cell_type": "code",
   "execution_count": 8,
   "metadata": {},
   "outputs": [
    {
     "name": "stdout",
     "output_type": "stream",
     "text": [
      "최저기온 업데이트 : 1907-01-31,-7.0\n",
      "최고기온 업데이트 : 1907-01-31,0.8\n",
      "최고기온 업데이트 : 1907-02-10,4.8\n",
      "최고기온 업데이트 : 1907-02-20,7.6\n",
      "최고기온 업데이트 : 1907-02-27,15.5\n",
      "최고기온 업데이트 : 1907-03-09,22.5\n",
      "최고기온 업데이트 : 1907-04-13,23.5\n",
      "최고기온 업데이트 : 1907-05-31,33.4\n",
      "최고기온 업데이트 : 1907-06-30,35.5\n",
      "최고기온 업데이트 : 1907-08-13,35.6\n",
      "최저기온 업데이트 : 1907-12-20,-8.7\n",
      "최저기온 업데이트 : 1908-02-06,-9.5\n",
      "최고기온 업데이트 : 1908-08-05,37.8\n",
      "최저기온 업데이트 : 1909-02-07,-10.9\n",
      "최저기온 업데이트 : 1910-01-30,-12.9\n",
      "최저기온 업데이트 : 1910-01-31,-14.5\n",
      "최저기온 업데이트 : 1913-02-09,-14.8\n",
      "최고기온 업데이트 : 1913-07-28,38.9\n",
      "최저기온 업데이트 : 1915-01-12,-15.6\n",
      "최저기온 업데이트 : 1915-01-13,-18.6\n",
      "최고기온 업데이트 : 1915-08-05,39.0\n",
      "최저기온 업데이트 : 1923-01-18,-19.6\n",
      "최저기온 업데이트 : 1923-01-19,-20.2\n",
      "최고기온 업데이트 : 1927-07-28,39.2\n",
      "최고기온 업데이트 : 1932-07-30,39.3\n",
      "최고기온 업데이트 : 1939-07-20,39.4\n",
      "최고기온 업데이트 : 1939-07-21,39.6\n",
      "최고기온 업데이트 : 1942-07-28,39.7\n",
      "최고기온 업데이트 : 1942-08-01,40.0\n",
      "--------------------------------------------------\n",
      "대구 최저 기온 날짜 : 1923-01-19, 온도: -20.2\n",
      "대구 최고 기온 날짜 : 1942-08-01, 온도: 40.0\n"
     ]
    }
   ],
   "source": [
    "main()"
   ]
  },
  {
   "cell_type": "code",
   "execution_count": null,
   "metadata": {},
   "outputs": [],
   "source": []
  }
 ],
 "metadata": {
  "kernelspec": {
   "display_name": "PY_39",
   "language": "python",
   "name": "python3"
  },
  "language_info": {
   "codemirror_mode": {
    "name": "ipython",
    "version": 3
   },
   "file_extension": ".py",
   "mimetype": "text/x-python",
   "name": "python",
   "nbconvert_exporter": "python",
   "pygments_lexer": "ipython3",
   "version": "3.9.19"
  }
 },
 "nbformat": 4,
 "nbformat_minor": 2
}

{
 "cells": [
  {
   "cell_type": "code",
   "execution_count": 1,
   "metadata": {},
   "outputs": [],
   "source": [
    "import pandas as pd"
   ]
  },
  {
   "cell_type": "code",
   "execution_count": 2,
   "metadata": {},
   "outputs": [
    {
     "name": "stdout",
     "output_type": "stream",
     "text": [
      "Index(['날짜', '지점', '평균기온(℃)', '최저기온(℃)', '최고기온(℃)'], dtype='object')\n",
      "object\n"
     ]
    }
   ],
   "source": [
    "weather_DF=pd.read_csv('daegu-utf8.csv',encoding='utf-8-sig')\n",
    "print(weather_DF.columns)\n",
    "print(weather_DF['날짜'].dtype)"
   ]
  },
  {
   "cell_type": "code",
   "execution_count": 3,
   "metadata": {},
   "outputs": [
    {
     "name": "stdout",
     "output_type": "stream",
     "text": [
      "Index(['날짜', '지점', '평균기온', '최저기온', '최고기온'], dtype='object')\n"
     ]
    }
   ],
   "source": [
    "weather_DF.columns=['날짜','지점','평균기온','최저기온','최고기온']\n",
    "print(weather_DF.columns)"
   ]
  },
  {
   "cell_type": "code",
   "execution_count": 4,
   "metadata": {},
   "outputs": [
    {
     "name": "stdout",
     "output_type": "stream",
     "text": [
      "datetime64[ns]\n"
     ]
    }
   ],
   "source": [
    "weather_DF['날짜']=pd.to_datetime(weather_DF['날짜'],format='%Y-%m-%d')\n",
    "print(weather_DF['날짜'].dtype)"
   ]
  },
  {
   "cell_type": "code",
   "execution_count": 6,
   "metadata": {},
   "outputs": [
    {
     "name": "stdout",
     "output_type": "stream",
     "text": [
      "          날짜     지점  평균기온  최저기온  최고기온\n",
      "0 1907-01-31  143.0   NaN  -7.0   0.8\n",
      "1 1907-02-01  143.0   NaN   NaN   NaN\n",
      "2 1907-02-02  143.0   NaN   NaN   NaN\n",
      "3 1907-02-03  143.0   NaN   NaN   NaN\n",
      "4 1907-02-04  143.0   NaN   NaN   NaN\n",
      "(42887, 5)\n",
      "날짜        1\n",
      "지점        1\n",
      "평균기온    704\n",
      "최저기온    630\n",
      "최고기온    632\n",
      "dtype: int64\n"
     ]
    }
   ],
   "source": [
    "print(weather_DF.head(5))\n",
    "print(weather_DF.shape)\n",
    "num_rows=weather_DF.shape[0]    # shape(row,col), shape[0]:row의 개수\n",
    "num_missing=num_rows-weather_DF.count() # count() :정상값의 개수\n",
    "print(num_missing)"
   ]
  },
  {
   "cell_type": "code",
   "execution_count": 7,
   "metadata": {},
   "outputs": [
    {
     "name": "stdout",
     "output_type": "stream",
     "text": [
      "날짜      42180\n",
      "지점      42180\n",
      "평균기온    42180\n",
      "최저기온    42180\n",
      "최고기온    42180\n",
      "dtype: int64\n",
      "            날짜     지점  평균기온  최저기온  최고기온\n",
      "701 1909-01-01  143.0  -4.1  -8.0   0.1\n",
      "702 1909-01-02  143.0  -0.8  -6.7   6.1\n",
      "703 1909-01-03  143.0   1.0  -2.4   3.6\n",
      "704 1909-01-04  143.0   4.2   0.0   9.2\n",
      "705 1909-01-05  143.0   3.4  -0.4   9.0\n"
     ]
    }
   ],
   "source": [
    "weather_DF=weather_DF.dropna(axis=0)\n",
    "print(weather_DF.count())\n",
    "print(weather_DF.head())"
   ]
  },
  {
   "cell_type": "code",
   "execution_count": 8,
   "metadata": {},
   "outputs": [],
   "source": [
    "weather_DF.to_csv('daegu-utf8.csv',index=False,mode='w',encoding='utf-8-sig')"
   ]
  },
  {
   "cell_type": "code",
   "execution_count": 11,
   "metadata": {},
   "outputs": [
    {
     "name": "stdout",
     "output_type": "stream",
     "text": [
      "특정 연도와 달의 최고, 최저 기온 평균값 계산\n",
      "              날짜     지점  평균기온  최저기온  최고기온\n",
      "42551 2023-08-01  143.0  29.7  24.9  34.8\n",
      "42552 2023-08-02  143.0  30.0  23.9  34.7\n",
      "42553 2023-08-03  143.0  31.5  27.0  37.7\n",
      "42554 2023-08-04  143.0  30.5  26.0  34.7\n",
      "42555 2023-08-05  143.0  31.5  25.7  37.2\n"
     ]
    }
   ],
   "source": [
    "print('특정 연도와 달의 최고, 최저 기온 평균값 계산')\n",
    "year_df=weather_DF[weather_DF['날짜'].dt.year==2023]\n",
    "month_df=year_df[year_df['날짜'].dt.month==8]\n",
    "print(month_df.head())"
   ]
  },
  {
   "cell_type": "code",
   "execution_count": 17,
   "metadata": {},
   "outputs": [
    {
     "name": "stdout",
     "output_type": "stream",
     "text": [
      "2023년 8월 최저기온 평균:24.0, 최고기온 평균 :31.9\n"
     ]
    }
   ],
   "source": [
    "max_temp_mean=round(month_df['최고기온'].mean(),1)\n",
    "min_temp_mean=round(month_df['최저기온'].mean(),1)\n",
    "print(f'2023년 8월 최저기온 평균:{min_temp_mean}, 최고기온 평균 :{max_temp_mean}')"
   ]
  },
  {
   "cell_type": "code",
   "execution_count": null,
   "metadata": {},
   "outputs": [],
   "source": []
  }
 ],
 "metadata": {
  "kernelspec": {
   "display_name": "PY_39",
   "language": "python",
   "name": "python3"
  },
  "language_info": {
   "codemirror_mode": {
    "name": "ipython",
    "version": 3
   },
   "file_extension": ".py",
   "mimetype": "text/x-python",
   "name": "python",
   "nbconvert_exporter": "python",
   "pygments_lexer": "ipython3",
   "version": "3.9.19"
  }
 },
 "nbformat": 4,
 "nbformat_minor": 2
}

{
 "cells": [
  {
   "cell_type": "markdown",
   "metadata": {},
   "source": [
    "## 정규 표현식과 BeautifulSoup\n",
    "### BeautifulSoup의 문자열을 받는 함수들\n",
    "\n",
    "    - 정규 표현식을 매개 변수로 받을 수 있음"
   ]
  },
  {
   "cell_type": "code",
   "execution_count": 6,
   "metadata": {},
   "outputs": [],
   "source": [
    "from urllib.request import urlopen\n",
    "from bs4 import BeautifulSoup\n",
    "import re\n",
    "\n",
    "html=urlopen('http://www.pythonscraping.com/pages/page3.html')\n",
    "soup=BeautifulSoup(html,'html.parser')"
   ]
  },
  {
   "cell_type": "code",
   "execution_count": 8,
   "metadata": {},
   "outputs": [
    {
     "name": "stdout",
     "output_type": "stream",
     "text": [
      "<img src=\"../img/gifts/img1.jpg\"/> -> ['src']: img_tag../img/gifts/img1.jpg\n",
      "<img src=\"../img/gifts/img2.jpg\"/> -> ['src']: img_tag../img/gifts/img2.jpg\n",
      "<img src=\"../img/gifts/img3.jpg\"/> -> ['src']: img_tag../img/gifts/img3.jpg\n",
      "<img src=\"../img/gifts/img4.jpg\"/> -> ['src']: img_tag../img/gifts/img4.jpg\n",
      "<img src=\"../img/gifts/img6.jpg\"/> -> ['src']: img_tag../img/gifts/img6.jpg\n"
     ]
    }
   ],
   "source": [
    "#<img src=\"...\"> 태그의 속성 ['src'] 사용\n",
    "# 정규식: ('img.*\\/jpg'): img 다음에 임의의 한 문자가 0회이상\n",
    "# - img.jpg, img1.jpg, imga.jpg 등\n",
    "img_tag=re.compile('/img/gifts/img.*.jpg')\n",
    "\n",
    "# find_all()에서 img의 src속성값에 정규식 사용\n",
    "images=soup.find_all('img',{'src':img_tag})\n",
    "\n",
    "for image in images:\n",
    "    print(image,end=\" -> ['src']: img_tag\")\n",
    "    print(image['src'])"
   ]
  },
  {
   "cell_type": "code",
   "execution_count": null,
   "metadata": {},
   "outputs": [],
   "source": []
  }
 ],
 "metadata": {
  "kernelspec": {
   "display_name": "base",
   "language": "python",
   "name": "python3"
  },
  "language_info": {
   "codemirror_mode": {
    "name": "ipython",
    "version": 3
   },
   "file_extension": ".py",
   "mimetype": "text/x-python",
   "name": "python",
   "nbconvert_exporter": "python",
   "pygments_lexer": "ipython3",
   "version": "3.11.7"
  }
 },
 "nbformat": 4,
 "nbformat_minor": 2
}

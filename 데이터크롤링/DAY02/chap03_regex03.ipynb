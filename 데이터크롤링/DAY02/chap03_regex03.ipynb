{
 "cells": [
  {
   "cell_type": "markdown",
   "metadata": {},
   "source": [
    "## 정규 표현식과 BeautifulSoup\n",
    "### BeautifulSoup의 문자열을 받는 함수들\n",
    "\n",
    "    - 정규 표현식을 매개 변수로 받을 수 있음"
   ]
  },
  {
   "cell_type": "code",
   "execution_count": 2,
   "metadata": {},
   "outputs": [],
   "source": [
    "from urllib.request import urlopen\n",
    "from bs4 import BeautifulSoup\n",
    "import re\n",
    "\n",
    "html=urlopen('http://www.pythonscraping.com/pages/warandpeace.html')\n",
    "bs=BeautifulSoup(html,'html.parser')"
   ]
  },
  {
   "cell_type": "markdown",
   "metadata": {},
   "source": [
    "- 대소문자 구분 없이 특정 단어 검색\n",
    "    - '[T|t]{1}he prince' : T또는 t가 1회"
   ]
  },
  {
   "cell_type": "code",
   "execution_count": 3,
   "metadata": {},
   "outputs": [
    {
     "name": "stdout",
     "output_type": "stream",
     "text": [
      "the prince count:  7\n"
     ]
    }
   ],
   "source": [
    "princeList=bs.find_all(string='the prince')\n",
    "print('the prince count: ',len(princeList))"
   ]
  },
  {
   "cell_type": "code",
   "execution_count": 6,
   "metadata": {},
   "outputs": [
    {
     "name": "stdout",
     "output_type": "stream",
     "text": [
      "T|the prince count:  11\n"
     ]
    }
   ],
   "source": [
    "prince_list=bs.find_all(string=re.compile('[T:t]{1}he prince'))\n",
    "print('T|the prince count: ',len(prince_list))"
   ]
  },
  {
   "cell_type": "code",
   "execution_count": null,
   "metadata": {},
   "outputs": [],
   "source": []
  }
 ],
 "metadata": {
  "kernelspec": {
   "display_name": "base",
   "language": "python",
   "name": "python3"
  },
  "language_info": {
   "codemirror_mode": {
    "name": "ipython",
    "version": 3
   },
   "file_extension": ".py",
   "mimetype": "text/x-python",
   "name": "python",
   "nbconvert_exporter": "python",
   "pygments_lexer": "ipython3",
   "version": "3.11.7"
  }
 },
 "nbformat": 4,
 "nbformat_minor": 2
}

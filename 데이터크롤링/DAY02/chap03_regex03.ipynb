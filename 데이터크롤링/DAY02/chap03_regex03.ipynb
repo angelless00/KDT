{
 "cells": [
  {
   "cell_type": "code",
   "execution_count": null,
   "metadata": {},
   "outputs": [],
   "source": [
    "from urllib.request import urlopen\n",
    "from bs4 import BeautifulSoup\n",
    "import re\n",
    "\n",
    "html=urlopen('http://www.pythonscraping.com/pages/page3.html')\n",
    "soup=BeautifulSoup(html,'html.parser')"
   ]
  }
 ],
 "metadata": {
  "language_info": {
   "name": "python"
  }
 },
 "nbformat": 4,
 "nbformat_minor": 2
}

{
 "cells": [
  {
   "cell_type": "markdown",
   "metadata": {},
   "source": [
    "### 피어슨 상관계수 - 상관분석"
   ]
  },
  {
   "cell_type": "code",
   "execution_count": 29,
   "metadata": {},
   "outputs": [],
   "source": [
    "import pandas as pd\n",
    "from sklearn.datasets import load_diabetes"
   ]
  },
  {
   "cell_type": "code",
   "execution_count": 30,
   "metadata": {},
   "outputs": [],
   "source": [
    "diabetes=load_diabetes()\n",
    "data=pd.DataFrame(diabetes.data,columns=diabetes.feature_names)"
   ]
  },
  {
   "cell_type": "code",
   "execution_count": 31,
   "metadata": {},
   "outputs": [
    {
     "name": "stdout",
     "output_type": "stream",
     "text": [
      "<class 'pandas.core.frame.DataFrame'>\n",
      "RangeIndex: 442 entries, 0 to 441\n",
      "Data columns (total 10 columns):\n",
      " #   Column  Non-Null Count  Dtype  \n",
      "---  ------  --------------  -----  \n",
      " 0   age     442 non-null    float64\n",
      " 1   sex     442 non-null    float64\n",
      " 2   bmi     442 non-null    float64\n",
      " 3   bp      442 non-null    float64\n",
      " 4   s1      442 non-null    float64\n",
      " 5   s2      442 non-null    float64\n",
      " 6   s3      442 non-null    float64\n",
      " 7   s4      442 non-null    float64\n",
      " 8   s5      442 non-null    float64\n",
      " 9   s6      442 non-null    float64\n",
      "dtypes: float64(10)\n",
      "memory usage: 34.7 KB\n"
     ]
    }
   ],
   "source": [
    "data.info()"
   ]
  },
  {
   "cell_type": "code",
   "execution_count": 32,
   "metadata": {},
   "outputs": [],
   "source": [
    "from scipy.stats import pearsonr"
   ]
  },
  {
   "cell_type": "code",
   "execution_count": 33,
   "metadata": {},
   "outputs": [
    {
     "data": {
      "text/plain": [
       "PearsonRResult(statistic=0.1850846661465555, pvalue=9.076791865417418e-05)"
      ]
     },
     "execution_count": 33,
     "metadata": {},
     "output_type": "execute_result"
    }
   ],
   "source": [
    "pearsonr(x=data['age'],y=data['bmi'])"
   ]
  },
  {
   "cell_type": "markdown",
   "metadata": {},
   "source": [
    "- (상관계수,p-value)  \n",
    "- 상관계수가 적어서 관계가 적음\n",
    "- 유의수준 5% 귀무가설 기각  \n",
    "- 상관계수는 작지만 유의미하다"
   ]
  },
  {
   "cell_type": "code",
   "execution_count": 34,
   "metadata": {},
   "outputs": [
    {
     "data": {
      "text/html": [
       "<div>\n",
       "<style scoped>\n",
       "    .dataframe tbody tr th:only-of-type {\n",
       "        vertical-align: middle;\n",
       "    }\n",
       "\n",
       "    .dataframe tbody tr th {\n",
       "        vertical-align: top;\n",
       "    }\n",
       "\n",
       "    .dataframe thead th {\n",
       "        text-align: right;\n",
       "    }\n",
       "</style>\n",
       "<table border=\"1\" class=\"dataframe\">\n",
       "  <thead>\n",
       "    <tr style=\"text-align: right;\">\n",
       "      <th></th>\n",
       "      <th>sex</th>\n",
       "      <th>bmi</th>\n",
       "    </tr>\n",
       "  </thead>\n",
       "  <tbody>\n",
       "    <tr>\n",
       "      <th>sex</th>\n",
       "      <td>1.000000</td>\n",
       "      <td>0.088161</td>\n",
       "    </tr>\n",
       "    <tr>\n",
       "      <th>bmi</th>\n",
       "      <td>0.088161</td>\n",
       "      <td>1.000000</td>\n",
       "    </tr>\n",
       "  </tbody>\n",
       "</table>\n",
       "</div>"
      ],
      "text/plain": [
       "          sex       bmi\n",
       "sex  1.000000  0.088161\n",
       "bmi  0.088161  1.000000"
      ]
     },
     "execution_count": 34,
     "metadata": {},
     "output_type": "execute_result"
    }
   ],
   "source": [
    "data[['sex','bmi']].corr()"
   ]
  },
  {
   "cell_type": "markdown",
   "metadata": {},
   "source": [
    "### 샤피로 윌크 검정 - 정규성검정"
   ]
  },
  {
   "cell_type": "code",
   "execution_count": 35,
   "metadata": {},
   "outputs": [],
   "source": [
    "import numpy as np\n",
    "\n",
    "np.random.seed(2024)\n",
    "x=np.random.random(10)"
   ]
  },
  {
   "cell_type": "code",
   "execution_count": 36,
   "metadata": {},
   "outputs": [
    {
     "data": {
      "text/plain": [
       "ShapiroResult(statistic=0.8969663381576538, pvalue=0.20285381376743317)"
      ]
     },
     "execution_count": 36,
     "metadata": {},
     "output_type": "execute_result"
    }
   ],
   "source": [
    "from scipy.stats import shapiro\n",
    "shapiro(x)"
   ]
  },
  {
   "cell_type": "markdown",
   "metadata": {},
   "source": [
    "- (통계량,p-value)형태 \n",
    "- p-value가 커서 정규성을 만족하지 못함"
   ]
  },
  {
   "cell_type": "markdown",
   "metadata": {},
   "source": [
    "## 모평균과 모분산 검정\n",
    "### 단일표본 t검정\n",
    "- ttest_1samp(list,popmean)\n",
    "- defalut: popmean 과 다름"
   ]
  },
  {
   "cell_type": "code",
   "execution_count": 37,
   "metadata": {},
   "outputs": [
    {
     "data": {
      "text/plain": [
       "66.56428571428572"
      ]
     },
     "execution_count": 37,
     "metadata": {},
     "output_type": "execute_result"
    }
   ],
   "source": [
    "import numpy as np\n",
    "\n",
    "kg=np.array([75.5,83.9,75.7,56.2,73.4,67.7,79.0,50.7,58.4,74.1,65.1,77.8,48.1,46.3])\n",
    "\n",
    "np.mean(kg)"
   ]
  },
  {
   "cell_type": "code",
   "execution_count": 38,
   "metadata": {},
   "outputs": [
    {
     "data": {
      "text/plain": [
       "TtestResult(statistic=-1.0289933120202257, pvalue=0.3222484823978743, df=13)"
      ]
     },
     "execution_count": 38,
     "metadata": {},
     "output_type": "execute_result"
    }
   ],
   "source": [
    "# 단일표본 t검정 실행\n",
    "from scipy.stats import ttest_1samp\n",
    "ttest_1samp(kg,70)"
   ]
  },
  {
   "cell_type": "markdown",
   "metadata": {},
   "source": [
    "- (t통계량값,p-value)\n",
    "- p-value 5프로 이상이라 귀무가설을 기각을 못함 => 모집단 평균은 70이라 할수있따."
   ]
  },
  {
   "cell_type": "markdown",
   "metadata": {},
   "source": [
    "### 대응표본 t검정\n",
    "- ttest_1samp(list,list)\n",
    "- defalut : 두 표본의 평균의 차이가 0이 아님"
   ]
  },
  {
   "cell_type": "code",
   "execution_count": 39,
   "metadata": {},
   "outputs": [
    {
     "data": {
      "text/plain": [
       "-12.985714285714291"
      ]
     },
     "execution_count": 39,
     "metadata": {},
     "output_type": "execute_result"
    }
   ],
   "source": [
    "import pandas as pd\n",
    "female=np.array([50.7,58.4,74.1,65.1,77.8,48.1,46.3])\n",
    "male=np.array([75.5,83.9,75.7,56.2,73.4,67.7,79.0])\n",
    "diff=female-male\n",
    "np.mean(diff)"
   ]
  },
  {
   "cell_type": "code",
   "execution_count": 40,
   "metadata": {},
   "outputs": [
    {
     "data": {
      "text/plain": [
       "TtestResult(statistic=-2.078446933064972, pvalue=0.08291274205610201, df=6)"
      ]
     },
     "execution_count": 40,
     "metadata": {},
     "output_type": "execute_result"
    }
   ],
   "source": [
    "from scipy.stats import ttest_rel\n",
    "ttest_rel(female,male)"
   ]
  },
  {
   "cell_type": "markdown",
   "metadata": {},
   "source": [
    "- (t통계량,p-value)\n",
    "- 0.83>5% 귀무가설 기각x -> 모평균이 같다고 할수있다"
   ]
  },
  {
   "cell_type": "markdown",
   "metadata": {},
   "source": [
    "### 독립표본 t-검정\n",
    "- ttest_ind(list,list)\n",
    "- 등분산인지 여부\n",
    "- 두 표본의 평균의 0이 아님"
   ]
  },
  {
   "cell_type": "code",
   "execution_count": 41,
   "metadata": {},
   "outputs": [
    {
     "data": {
      "text/plain": [
       "Ttest_indResult(statistic=-2.2186641577772956, pvalue=0.046550122110569664)"
      ]
     },
     "execution_count": 41,
     "metadata": {},
     "output_type": "execute_result"
    }
   ],
   "source": [
    "from scipy.stats import ttest_ind\n",
    "ttest_ind(female,male)"
   ]
  },
  {
   "cell_type": "markdown",
   "metadata": {},
   "source": [
    "- (t통계량,p-value)\n",
    "- 0.46<5% -> 귀무가설기각 => 모평균은 서로 다르다"
   ]
  },
  {
   "cell_type": "markdown",
   "metadata": {},
   "source": [
    "## 모분산 검정\n",
    "### 단일표본 검정"
   ]
  },
  {
   "cell_type": "code",
   "execution_count": 42,
   "metadata": {},
   "outputs": [
    {
     "name": "stdout",
     "output_type": "stream",
     "text": [
      "278.1033333333333\n"
     ]
    }
   ],
   "source": [
    "import numpy as np\n",
    "score=np.array([80.5,60.2,70,87,45,91,85])\n",
    "var0=1100\n",
    "var=np.var(score,ddof=1)    # 표본분산\n",
    "print(var)"
   ]
  },
  {
   "cell_type": "code",
   "execution_count": 43,
   "metadata": {},
   "outputs": [
    {
     "name": "stdout",
     "output_type": "stream",
     "text": [
      "1.5169272727272727\n"
     ]
    }
   ],
   "source": [
    "stat=(len(score)-1)*var/var0 # 검정통계량\n",
    "print(stat)"
   ]
  },
  {
   "cell_type": "code",
   "execution_count": 44,
   "metadata": {},
   "outputs": [
    {
     "data": {
      "text/plain": [
       "0.041637780038918736"
      ]
     },
     "execution_count": 44,
     "metadata": {},
     "output_type": "execute_result"
    }
   ],
   "source": [
    "from scipy.stats import chi2\n",
    "chi2.cdf(stat,len(score)-1)"
   ]
  },
  {
   "cell_type": "markdown",
   "metadata": {},
   "source": [
    "검정 결과가 5%보다 작으므로 귀무가설을 기각, 모분산이 1100보다 작다고 할수 없다"
   ]
  },
  {
   "cell_type": "code",
   "execution_count": 45,
   "metadata": {},
   "outputs": [
    {
     "data": {
      "text/plain": [
       "0.9583622199610813"
      ]
     },
     "execution_count": 45,
     "metadata": {},
     "output_type": "execute_result"
    }
   ],
   "source": [
    "# 우측검정일 경우\n",
    "1-chi2.cdf(stat,len(score)-1)"
   ]
  },
  {
   "cell_type": "code",
   "execution_count": 46,
   "metadata": {},
   "outputs": [
    {
     "data": {
      "text/plain": [
       "0.08327556007783747"
      ]
     },
     "execution_count": 46,
     "metadata": {},
     "output_type": "execute_result"
    }
   ],
   "source": [
    "# 양측검정일경우\n",
    "2*chi2.cdf(stat,len(score)-1)"
   ]
  },
  {
   "cell_type": "markdown",
   "metadata": {},
   "source": [
    "### 분산비검정\n",
    "- 두집단(a,b)에 대한 점수 데이터 임의로 생성하고 a집단의 모분산이 b집단의 모분산보다 작다고 할수있는 지를 검정해보자\n",
    "- (가설은 a모분산< b모분산으로 가정,정규성 만족 가정)"
   ]
  },
  {
   "cell_type": "code",
   "execution_count": 47,
   "metadata": {},
   "outputs": [],
   "source": [
    "# 두집단 (a,b)에 대한 점수데이터 임의로 생성\n",
    "a=np.array([70,80,75,65,100,98])\n",
    "b=np.array([20,100,50,94,28,80,95,30])"
   ]
  },
  {
   "cell_type": "code",
   "execution_count": 48,
   "metadata": {},
   "outputs": [
    {
     "name": "stdout",
     "output_type": "stream",
     "text": [
      "212.66666666666669 1138.4107142857142\n"
     ]
    }
   ],
   "source": [
    "# 표본 분산 계산\n",
    "var_a=np.var(a,ddof=1)\n",
    "var_b=np.var(b,ddof=1)\n",
    "print(var_a,var_b)"
   ]
  },
  {
   "cell_type": "code",
   "execution_count": 49,
   "metadata": {},
   "outputs": [
    {
     "name": "stdout",
     "output_type": "stream",
     "text": [
      "0.18681014154026346\n"
     ]
    }
   ],
   "source": [
    "# 검정통계량= 집단a의분산/집단b의분산(가설:a 모분산 <b 모분산)\n",
    "stat=var_a/var_b\n",
    "print(stat)"
   ]
  },
  {
   "cell_type": "code",
   "execution_count": 50,
   "metadata": {},
   "outputs": [
    {
     "name": "stdout",
     "output_type": "stream",
     "text": [
      "5 7\n"
     ]
    }
   ],
   "source": [
    "# 자유도 계산\n",
    "df1,df2=len(a)-1,len(b)-1\n",
    "print(df1,df2)"
   ]
  },
  {
   "cell_type": "code",
   "execution_count": 51,
   "metadata": {},
   "outputs": [
    {
     "name": "stdout",
     "output_type": "stream",
     "text": [
      "0.04153943037562959\n"
     ]
    }
   ],
   "source": [
    "# F 분포를 통해 직접 유의확률 계산\n",
    "# 좌측검정이므로 Pr[F(자유도1,자유도2)<검정통계량]으로 계산\n",
    "# 좌측 검정인 이유? 가설: a 모분산< b 모분산 <=> a모분산/b모분산<1\n",
    "from scipy.stats import f\n",
    "pval=f.cdf(stat,df1,df2)\n",
    "print(pval)"
   ]
  },
  {
   "cell_type": "markdown",
   "metadata": {},
   "source": [
    "- 0.5보다 작으므로 귀무가설을 기각 => a집단의 모분산이 b집단의 모분산보다 작다고 할수있다."
   ]
  },
  {
   "cell_type": "markdown",
   "metadata": {},
   "source": [
    "### Bartlett 검정\n",
    "- 이표본 이상에 대한 등분산검정법 => 정규성을 충족하는 데이터에 대해서 사용\n",
    "- scipy.stats.bartlett(list,list,list.....)"
   ]
  },
  {
   "cell_type": "code",
   "execution_count": 52,
   "metadata": {},
   "outputs": [],
   "source": [
    "# 임의로 세 그룹의 점수 데이터 생성\n",
    "a=np.array([70,80,75,65,100,98])\n",
    "b=np.array([20,100,50,94,28,80])\n",
    "c=np.array([90,97,95,94,99,100])"
   ]
  },
  {
   "cell_type": "code",
   "execution_count": 53,
   "metadata": {},
   "outputs": [
    {
     "data": {
      "text/plain": [
       "BartlettResult(statistic=15.6702722148674, pvalue=0.00039558846873743075)"
      ]
     },
     "execution_count": 53,
     "metadata": {},
     "output_type": "execute_result"
    }
   ],
   "source": [
    "# Bartlett 검정수행\n",
    "from scipy.stats import bartlett\n",
    "bartlett(a,b,c)"
   ]
  },
  {
   "cell_type": "markdown",
   "metadata": {},
   "source": [
    "p-value < 5% 귀무가설을 기각하므로 그룹간의 분산에 유의미한 차이가 있다고 할수 있다."
   ]
  },
  {
   "cell_type": "markdown",
   "metadata": {},
   "source": [
    "## Levene 검정\n",
    "- 이표본 이상에 대한 등분산검정법 => 정규성을 충족하지 않는 데이터에 대해서 사용\n",
    "- scipy.stats.levene(list,list,list,...)"
   ]
  },
  {
   "cell_type": "code",
   "execution_count": 54,
   "metadata": {},
   "outputs": [
    {
     "data": {
      "text/plain": [
       "LeveneResult(statistic=14.365736704446384, pvalue=0.00032713621045500125)"
      ]
     },
     "execution_count": 54,
     "metadata": {},
     "output_type": "execute_result"
    }
   ],
   "source": [
    "from scipy.stats import levene\n",
    "levene(a,b,c)"
   ]
  },
  {
   "cell_type": "markdown",
   "metadata": {},
   "source": [
    "- p-value < 5%  귀무가설 기각 그룹간 분산에 유의미한 차이가 있다고 할수있다"
   ]
  },
  {
   "cell_type": "markdown",
   "metadata": {},
   "source": [
    "## 카이제곱 검정\n",
    "### 적합성 검정\n",
    "- scipy.stats.chisquare(관측도수,기대도수)"
   ]
  },
  {
   "cell_type": "code",
   "execution_count": 55,
   "metadata": {},
   "outputs": [],
   "source": [
    "import numpy as np\n",
    "\n",
    "color=['Black','Gold','Purple','Red','White']\n",
    "counts=[423,304,274,205,294]\n",
    "expected=300 #기대도수"
   ]
  },
  {
   "cell_type": "code",
   "execution_count": 56,
   "metadata": {},
   "outputs": [
    {
     "data": {
      "text/plain": [
       "Power_divergenceResult(statistic=82.94, pvalue=4.14849046718008e-17)"
      ]
     },
     "execution_count": 56,
     "metadata": {},
     "output_type": "execute_result"
    }
   ],
   "source": [
    "# 적합성 검정 수행\n",
    "from scipy.stats import chisquare\n",
    "chisquare(f_obs=counts,f_exp=expected)"
   ]
  },
  {
   "cell_type": "markdown",
   "metadata": {},
   "source": [
    "- 카이제곱 통계량 82.94로 매우 크게 나타났고\n",
    "- p-value < 5% 귀무가설을 기각하기 때문에 색상별로 동일한 비율로 생산되지 않고 있다"
   ]
  },
  {
   "cell_type": "markdown",
   "metadata": {},
   "source": [
    "### 동질성 검정\n",
    "- scipy.stats.chi2_contingency(RxC 교차표\\)"
   ]
  },
  {
   "cell_type": "markdown",
   "metadata": {},
   "source": [
    "- A회사의 성별에 따른 제품 선호도조사의 예를 보고 성별 간 선호도의 검증을 위한 동질성 검정을 수행하자."
   ]
  },
  {
   "cell_type": "code",
   "execution_count": 57,
   "metadata": {},
   "outputs": [],
   "source": [
    "import pandas as pd\n",
    "from scipy.stats import chi2_contingency"
   ]
  },
  {
   "cell_type": "code",
   "execution_count": 58,
   "metadata": {},
   "outputs": [
    {
     "data": {
      "text/html": [
       "<div>\n",
       "<style scoped>\n",
       "    .dataframe tbody tr th:only-of-type {\n",
       "        vertical-align: middle;\n",
       "    }\n",
       "\n",
       "    .dataframe tbody tr th {\n",
       "        vertical-align: top;\n",
       "    }\n",
       "\n",
       "    .dataframe thead th {\n",
       "        text-align: right;\n",
       "    }\n",
       "</style>\n",
       "<table border=\"1\" class=\"dataframe\">\n",
       "  <thead>\n",
       "    <tr style=\"text-align: right;\">\n",
       "      <th></th>\n",
       "      <th>Good</th>\n",
       "      <th>bad</th>\n",
       "    </tr>\n",
       "  </thead>\n",
       "  <tbody>\n",
       "    <tr>\n",
       "      <th>0</th>\n",
       "      <td>400</td>\n",
       "      <td>350</td>\n",
       "    </tr>\n",
       "    <tr>\n",
       "      <th>1</th>\n",
       "      <td>350</td>\n",
       "      <td>800</td>\n",
       "    </tr>\n",
       "  </tbody>\n",
       "</table>\n",
       "</div>"
      ],
      "text/plain": [
       "   Good  bad\n",
       "0   400  350\n",
       "1   350  800"
      ]
     },
     "execution_count": 58,
     "metadata": {},
     "output_type": "execute_result"
    }
   ],
   "source": [
    "obj={\"Good\":[400,350],\"bad\":[350,800]}\n",
    "cross=pd.DataFrame(obj)\n",
    "cross   # row간 합이 같아야하는데 책오류느낌.."
   ]
  },
  {
   "cell_type": "code",
   "execution_count": 59,
   "metadata": {},
   "outputs": [
    {
     "name": "stdout",
     "output_type": "stream",
     "text": [
      "98.66917336693975\n"
     ]
    }
   ],
   "source": [
    "# 동질성 검정 수행\n",
    "chi,p,df,expected =chi2_contingency(cross)\n",
    "print(chi)  #카이제곱통계량 "
   ]
  },
  {
   "cell_type": "code",
   "execution_count": 60,
   "metadata": {},
   "outputs": [
    {
     "name": "stdout",
     "output_type": "stream",
     "text": [
      "2.984113573360021e-23\n"
     ]
    }
   ],
   "source": [
    "print(p)    # p-값"
   ]
  },
  {
   "cell_type": "code",
   "execution_count": 61,
   "metadata": {},
   "outputs": [
    {
     "name": "stdout",
     "output_type": "stream",
     "text": [
      "1\n"
     ]
    }
   ],
   "source": [
    "print(df)   # 자유도"
   ]
  },
  {
   "cell_type": "code",
   "execution_count": 62,
   "metadata": {},
   "outputs": [
    {
     "name": "stdout",
     "output_type": "stream",
     "text": [
      "[[296.05263158 453.94736842]\n",
      " [453.94736842 696.05263158]]\n"
     ]
    }
   ],
   "source": [
    "print(expected) # 기대빈도"
   ]
  },
  {
   "cell_type": "markdown",
   "metadata": {},
   "source": [
    "p-value < 5% 귀무가설을 기각하기 떄문에 성별에 따라 선호도의 비율이 다르다고 할수있다."
   ]
  },
  {
   "cell_type": "markdown",
   "metadata": {},
   "source": [
    "### 독립성 검정\n",
    "- scipy.stats.chi2_contingency(RxC 교차표)"
   ]
  },
  {
   "cell_type": "markdown",
   "metadata": {},
   "source": [
    "- A회사의 출시된 제품의 한 달 간 판매량의 예이다. 이를 통해 성별과 색상이 서로 관련이 있는 지 알아보기 위해 독립성 검정을 수행해보자."
   ]
  },
  {
   "cell_type": "code",
   "execution_count": 63,
   "metadata": {},
   "outputs": [
    {
     "data": {
      "text/html": [
       "<div>\n",
       "<style scoped>\n",
       "    .dataframe tbody tr th:only-of-type {\n",
       "        vertical-align: middle;\n",
       "    }\n",
       "\n",
       "    .dataframe tbody tr th {\n",
       "        vertical-align: top;\n",
       "    }\n",
       "\n",
       "    .dataframe thead th {\n",
       "        text-align: right;\n",
       "    }\n",
       "</style>\n",
       "<table border=\"1\" class=\"dataframe\">\n",
       "  <thead>\n",
       "    <tr style=\"text-align: right;\">\n",
       "      <th></th>\n",
       "      <th>Black</th>\n",
       "      <th>Gold</th>\n",
       "      <th>Purple</th>\n",
       "      <th>Red</th>\n",
       "      <th>White</th>\n",
       "    </tr>\n",
       "  </thead>\n",
       "  <tbody>\n",
       "    <tr>\n",
       "      <th>0</th>\n",
       "      <td>1620</td>\n",
       "      <td>385</td>\n",
       "      <td>778</td>\n",
       "      <td>394</td>\n",
       "      <td>800</td>\n",
       "    </tr>\n",
       "    <tr>\n",
       "      <th>1</th>\n",
       "      <td>2380</td>\n",
       "      <td>615</td>\n",
       "      <td>1230</td>\n",
       "      <td>610</td>\n",
       "      <td>180</td>\n",
       "    </tr>\n",
       "  </tbody>\n",
       "</table>\n",
       "</div>"
      ],
      "text/plain": [
       "   Black  Gold  Purple  Red  White\n",
       "0   1620   385     778  394    800\n",
       "1   2380   615    1230  610    180"
      ]
     },
     "execution_count": 63,
     "metadata": {},
     "output_type": "execute_result"
    }
   ],
   "source": [
    "# 교차표에 맞게 데이터프레임 생성\n",
    "obj={'Black':[1620,2380],\n",
    "     'Gold':[385,615],\n",
    "     'Purple':[778,1230],\n",
    "     'Red':[394,610],\n",
    "     'White':[800,180]}\n",
    "cross=pd.DataFrame(obj)\n",
    "cross # row간 합이다름"
   ]
  },
  {
   "cell_type": "code",
   "execution_count": 64,
   "metadata": {},
   "outputs": [
    {
     "name": "stdout",
     "output_type": "stream",
     "text": [
      "626.2830361414021\n"
     ]
    }
   ],
   "source": [
    "# 동질성 검정 수행\n",
    "from scipy.stats import chi2_contingency\n",
    "chi,p,df,expected=chi2_contingency(cross)\n",
    "print(chi) # 카이제곱통계량"
   ]
  },
  {
   "cell_type": "code",
   "execution_count": 65,
   "metadata": {},
   "outputs": [
    {
     "name": "stdout",
     "output_type": "stream",
     "text": [
      "3.1731601033660286e-134\n"
     ]
    }
   ],
   "source": [
    "print(p)    # p-값"
   ]
  },
  {
   "cell_type": "code",
   "execution_count": 66,
   "metadata": {},
   "outputs": [
    {
     "name": "stdout",
     "output_type": "stream",
     "text": [
      "4\n"
     ]
    }
   ],
   "source": [
    "print(df) # 자유도"
   ]
  },
  {
   "cell_type": "code",
   "execution_count": 67,
   "metadata": {},
   "outputs": [
    {
     "name": "stdout",
     "output_type": "stream",
     "text": [
      "[[1769.12811388  442.28202847  888.10231317  444.05115658  433.4363879 ]\n",
      " [2230.87188612  557.71797153 1119.89768683  559.94884342  546.5636121 ]]\n"
     ]
    }
   ],
   "source": [
    "print(expected) # 기대빈도"
   ]
  },
  {
   "cell_type": "markdown",
   "metadata": {},
   "source": [
    "- p-vale< 5% 귀무가설 기각 두변수는 종속적이다, 관련이 있다"
   ]
  },
  {
   "cell_type": "markdown",
   "metadata": {},
   "source": [
    "## 비모수검정\n",
    "- 분포가 확실치 않을때 하는 검정 방식\n",
    "### 스피어만 상관계수 검정\n",
    "- scipy.stats.spearmanr(list,list)"
   ]
  },
  {
   "cell_type": "code",
   "execution_count": 68,
   "metadata": {},
   "outputs": [
    {
     "data": {
      "text/plain": [
       "SignificanceResult(statistic=0.09807947297621517, pvalue=0.03929011358104615)"
      ]
     },
     "execution_count": 68,
     "metadata": {},
     "output_type": "execute_result"
    }
   ],
   "source": [
    "from scipy.stats import spearmanr\n",
    "spearmanr(a=data['sex'],b=data['bmi'])"
   ]
  },
  {
   "cell_type": "markdown",
   "metadata": {},
   "source": [
    "- corr 0.098 상관관계가 적음\n",
    "- pvalue < 5% 귀무가설 기각 => 관계가 유의미하다고 할수있음"
   ]
  },
  {
   "cell_type": "code",
   "execution_count": 69,
   "metadata": {},
   "outputs": [
    {
     "data": {
      "text/html": [
       "<div>\n",
       "<style scoped>\n",
       "    .dataframe tbody tr th:only-of-type {\n",
       "        vertical-align: middle;\n",
       "    }\n",
       "\n",
       "    .dataframe tbody tr th {\n",
       "        vertical-align: top;\n",
       "    }\n",
       "\n",
       "    .dataframe thead th {\n",
       "        text-align: right;\n",
       "    }\n",
       "</style>\n",
       "<table border=\"1\" class=\"dataframe\">\n",
       "  <thead>\n",
       "    <tr style=\"text-align: right;\">\n",
       "      <th></th>\n",
       "      <th>sex</th>\n",
       "      <th>bmi</th>\n",
       "    </tr>\n",
       "  </thead>\n",
       "  <tbody>\n",
       "    <tr>\n",
       "      <th>sex</th>\n",
       "      <td>1.000000</td>\n",
       "      <td>0.098079</td>\n",
       "    </tr>\n",
       "    <tr>\n",
       "      <th>bmi</th>\n",
       "      <td>0.098079</td>\n",
       "      <td>1.000000</td>\n",
       "    </tr>\n",
       "  </tbody>\n",
       "</table>\n",
       "</div>"
      ],
      "text/plain": [
       "          sex       bmi\n",
       "sex  1.000000  0.098079\n",
       "bmi  0.098079  1.000000"
      ]
     },
     "execution_count": 69,
     "metadata": {},
     "output_type": "execute_result"
    }
   ],
   "source": [
    "data[['sex','bmi']].corr(method='spearman')"
   ]
  },
  {
   "cell_type": "markdown",
   "metadata": {},
   "source": [
    "### 켄달의 타우 검정\n",
    "- scipy.stats.kendalltau(list,list)\n",
    "- default : 순위상관계수가 0이 아님"
   ]
  },
  {
   "cell_type": "code",
   "execution_count": 71,
   "metadata": {},
   "outputs": [],
   "source": [
    "import numpy as np\n",
    "\n",
    "x= np.array([5,4,3,6,1,2])\n",
    "y=np.array([1,5,2,2,2,6])"
   ]
  },
  {
   "cell_type": "code",
   "execution_count": 72,
   "metadata": {},
   "outputs": [
    {
     "data": {
      "text/plain": [
       "SignificanceResult(statistic=-0.29814239699997197, pvalue=0.4205962375999266)"
      ]
     },
     "execution_count": 72,
     "metadata": {},
     "output_type": "execute_result"
    }
   ],
   "source": [
    "# 켄달의 타우 검정 실시\n",
    "from scipy.stats import kendalltau\n",
    "kendalltau(x,y)"
   ]
  },
  {
   "cell_type": "markdown",
   "metadata": {},
   "source": [
    "- 상관계수 -0.29 상관계수가 거의 없음"
   ]
  },
  {
   "cell_type": "markdown",
   "metadata": {},
   "source": [
    "### 윌콕슨의 부호순위 검정\n",
    "- scipy.stats.wilcoxon(list,list)   => 하나만 입력할경우 1표본\n",
    "- default : 분포가 0에대해 대칭적이지않음"
   ]
  },
  {
   "cell_type": "code",
   "execution_count": 73,
   "metadata": {},
   "outputs": [],
   "source": [
    "from scipy.stats import wilcoxon\n",
    "\n",
    "# 일표본 윌콕슨 부호순위 검정\n",
    "# 몸무게 데이터의 임의 생성\n",
    "kg=np.array([75.5,83.9,75.7,56.2,73.4,67.7,79.0,50.7,58.4,74.1,65.1,77.8,48.1,46.3])"
   ]
  },
  {
   "cell_type": "code",
   "execution_count": 75,
   "metadata": {},
   "outputs": [
    {
     "data": {
      "text/plain": [
       "WilcoxonResult(statistic=42.0, pvalue=0.5416259765625)"
      ]
     },
     "execution_count": 75,
     "metadata": {},
     "output_type": "execute_result"
    }
   ],
   "source": [
    "# 두 샘플의 크기가 다를 수 있으므로 길이를 맞추기\n",
    "wilcoxon(kg-70) #70으로 설정"
   ]
  },
  {
   "cell_type": "markdown",
   "metadata": {},
   "source": [
    "- pvalue > 5% 귀무가설기각x 모집단의 중위수가 70과 같다고 할수잇다"
   ]
  },
  {
   "cell_type": "markdown",
   "metadata": {},
   "source": [
    "Q. '대응표본의 t-검정' 대신 이 표본 부호순위 검정을 수행해보자."
   ]
  },
  {
   "cell_type": "code",
   "execution_count": 77,
   "metadata": {},
   "outputs": [],
   "source": [
    "# 이표본 윌콕슨 부호순위 검정\n",
    "\n",
    "# 남녀 몸무게 데이터를 임의로 생성\n",
    "female=np.array([50.7,58.4,74.1,65.1,77.8,48.1,46.3])\n",
    "male=np.array([75.5,83.9,75.7,56.2,73.4,67.7,79.0])\n",
    "\n",
    "diff=female-male"
   ]
  },
  {
   "cell_type": "code",
   "execution_count": 78,
   "metadata": {},
   "outputs": [
    {
     "data": {
      "text/plain": [
       "WilcoxonResult(statistic=5.0, pvalue=0.15625)"
      ]
     },
     "execution_count": 78,
     "metadata": {},
     "output_type": "execute_result"
    }
   ],
   "source": [
    "wilcoxon(diff)"
   ]
  },
  {
   "cell_type": "markdown",
   "metadata": {},
   "source": [
    "- p-value > 5% 두표본의 중앙값에 유의미한 차이가 없다"
   ]
  },
  {
   "cell_type": "markdown",
   "metadata": {},
   "source": [
    "### 윌콕슨의 순위합 검정\n",
    "- scipy.stats.ranksums(list,list)\n",
    "- defalut : 분포중 하나가 다른분포보다 확률적으로 더큼"
   ]
  },
  {
   "cell_type": "markdown",
   "metadata": {},
   "source": [
    "Q. '독립표본 t-검정' 대신 순위 랍 검정을 수행해보자."
   ]
  },
  {
   "cell_type": "code",
   "execution_count": 80,
   "metadata": {},
   "outputs": [
    {
     "data": {
      "text/plain": [
       "RanksumsResult(statistic=-1.8527420384998257, pvalue=0.06391934147515746)"
      ]
     },
     "execution_count": 80,
     "metadata": {},
     "output_type": "execute_result"
    }
   ],
   "source": [
    "from scipy.stats import ranksums\n",
    "ranksums(female,male)"
   ]
  },
  {
   "cell_type": "markdown",
   "metadata": {},
   "source": [
    "- p-value > 5% => 귀무가설 기각x  => 두 표본의 중앙값에 유의미한 차이가 없다는 것"
   ]
  },
  {
   "cell_type": "markdown",
   "metadata": {},
   "source": [
    "###  만 위트니 U검정\n",
    "- scipy.stats.mannwhitneyu(list,list)\n",
    "- defalut: 두분포가 동일하지 않음"
   ]
  },
  {
   "cell_type": "code",
   "execution_count": 83,
   "metadata": {},
   "outputs": [
    {
     "data": {
      "text/plain": [
       "MannwhitneyuResult(statistic=10.0, pvalue=0.07284382284382285)"
      ]
     },
     "execution_count": 83,
     "metadata": {},
     "output_type": "execute_result"
    }
   ],
   "source": [
    "# 만-위트니 U검정 수행\n",
    "from scipy.stats import mannwhitneyu\n",
    "mannwhitneyu(female,male)"
   ]
  },
  {
   "cell_type": "markdown",
   "metadata": {},
   "source": [
    "- p-value > 5% => 귀무가설을 기각 x => 두표본의 중앙값에 유의미한 차이가 없다."
   ]
  },
  {
   "cell_type": "markdown",
   "metadata": {},
   "source": [
    "### 크루스칼- 왈리스 H검정\n",
    "- scipy.stats.kruskal(**list)"
   ]
  },
  {
   "cell_type": "code",
   "execution_count": null,
   "metadata": {},
   "outputs": [],
   "source": []
  }
 ],
 "metadata": {
  "kernelspec": {
   "display_name": "WEB_AI",
   "language": "python",
   "name": "python3"
  },
  "language_info": {
   "codemirror_mode": {
    "name": "ipython",
    "version": 3
   },
   "file_extension": ".py",
   "mimetype": "text/x-python",
   "name": "python",
   "nbconvert_exporter": "python",
   "pygments_lexer": "ipython3",
   "version": "3.8.20"
  }
 },
 "nbformat": 4,
 "nbformat_minor": 2
}

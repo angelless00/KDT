{
 "cells": [
  {
   "cell_type": "markdown",
   "metadata": {
    "vscode": {
     "languageId": "plaintext"
    }
   },
   "source": [
    "#  통계모형\n",
    "## 선형회귀모형"
   ]
  },
  {
   "cell_type": "markdown",
   "metadata": {},
   "source": [
    "- scipy를 활용한 단순 선형회귀분석\n",
    "- scipy.stats.linregress(list,list) "
   ]
  },
  {
   "cell_type": "markdown",
   "metadata": {},
   "source": [
    "Q. 위에서 호출한 diabetes 데이터에서 'bmi'컬럼을 독립변수로 설정하고, 'target'변수를 종속변수로 설정하여 선형회귀분석을 실시"
   ]
  },
  {
   "cell_type": "code",
   "execution_count": 4,
   "metadata": {},
   "outputs": [],
   "source": [
    "import pandas as pd\n",
    "from sklearn.datasets import load_diabetes\n",
    "diabetes=load_diabetes()\n",
    "data=pd.DataFrame(diabetes.data,columns=diabetes.feature_names)"
   ]
  },
  {
   "cell_type": "code",
   "execution_count": 5,
   "metadata": {},
   "outputs": [],
   "source": [
    "target=diabetes.target"
   ]
  },
  {
   "cell_type": "code",
   "execution_count": 7,
   "metadata": {},
   "outputs": [],
   "source": [
    "from scipy.stats import linregress\n",
    "model=linregress(x=data['bmi'],y=target)"
   ]
  },
  {
   "cell_type": "code",
   "execution_count": 8,
   "metadata": {},
   "outputs": [
    {
     "name": "stdout",
     "output_type": "stream",
     "text": [
      "LinregressResult(slope=949.4352603840384, intercept=152.13348416289617, rvalue=0.5864501344746884, pvalue=3.466006445167547e-42, stderr=62.515122002852664, intercept_stderr=2.973541118790735)\n"
     ]
    }
   ],
   "source": [
    "print(model)"
   ]
  },
  {
   "cell_type": "markdown",
   "metadata": {},
   "source": [
    "- slope = 회귀계수\n",
    "- intercept = 상수항\n",
    "- rvalue = 모형의 설명력\n",
    "- stederr intercept_stdrr =  회귀계수들에 대한 표준 오차"
   ]
  },
  {
   "cell_type": "code",
   "execution_count": 10,
   "metadata": {},
   "outputs": [
    {
     "name": "stdout",
     "output_type": "stream",
     "text": [
      "949.4352603840384\n"
     ]
    }
   ],
   "source": [
    "# 독립변수에 대한 회구 계수\n",
    "print(model.slope)"
   ]
  },
  {
   "cell_type": "code",
   "execution_count": 11,
   "metadata": {},
   "outputs": [
    {
     "name": "stdout",
     "output_type": "stream",
     "text": [
      "152.13348416289617\n"
     ]
    }
   ],
   "source": [
    "# 상수항에 대한 추정된 회귀계수\n",
    "print(model.intercept)"
   ]
  },
  {
   "cell_type": "code",
   "execution_count": 14,
   "metadata": {},
   "outputs": [
    {
     "name": "stdout",
     "output_type": "stream",
     "text": [
      "3.466006445167547e-42\n"
     ]
    }
   ],
   "source": [
    "# 통계적 유의성\n",
    "print(model.pvalue)\n",
    "# <5% 이므로 귀무가설 기각 통계적으로 유의미하다"
   ]
  },
  {
   "cell_type": "code",
   "execution_count": 16,
   "metadata": {},
   "outputs": [
    {
     "name": "stdout",
     "output_type": "stream",
     "text": [
      "0.5864501344746884\n"
     ]
    }
   ],
   "source": [
    "# 결정계수\n",
    "print(model.rvalue)\n",
    "# 해당 회귀모형이 현 데이터의 58.65% 설명하수있다"
   ]
  },
  {
   "cell_type": "markdown",
   "metadata": {},
   "source": [
    "### statsmodels 를 활용한 다중 선형 회귀분석\n",
    "### 회귀 모형 적합\n",
    " - statsmodels.api.OLS(1차원데이터,n x k 배열,...)"
   ]
  },
  {
   "cell_type": "markdown",
   "metadata": {},
   "source": [
    "Q. 제공된 tips 데이터를 불러와 총액(total_bill)과 사람수 (size)를 독립변수로 하고, 팁(tip)을 종속변수로 하는 다중 선형 회귀분석을 수행해보자."
   ]
  },
  {
   "cell_type": "markdown",
   "metadata": {},
   "source": [
    "<img src=\"KakaoTalk_20241030_094229094.jpg\">"
   ]
  },
  {
   "cell_type": "markdown",
   "metadata": {},
   "source": [
    "- const(절편),total_bill,size의 p-value < 0.05 => tip크기게 영향을 미침\n",
    "- F-static 105.9 로 매우 크고, prob이 0에 가까워서 모델이 전체적으로 유의미하다"
   ]
  },
  {
   "cell_type": "markdown",
   "metadata": {},
   "source": [
    "### 반응 변수의 기댓값추정"
   ]
  },
  {
   "cell_type": "markdown",
   "metadata": {},
   "source": [
    "Q. 위에서 적합한 회귀모형을 활용하여 5번째 관측치에 대한 tip의 기댓값을 추정해보자  \n",
    "<img src=\"스크린샷 2024-10-30 100905.png\">"
   ]
  },
  {
   "cell_type": "markdown",
   "metadata": {},
   "source": [
    "## 로지스틱 회귀모형\n",
    "### statsmodels를 활용한 로지스틱 회귀분석"
   ]
  },
  {
   "cell_type": "markdown",
   "metadata": {},
   "source": [
    "statsmodels.api.GLM(1차원데이터,)"
   ]
  }
 ],
 "metadata": {
  "kernelspec": {
   "display_name": "WEB_AI",
   "language": "python",
   "name": "python3"
  },
  "language_info": {
   "codemirror_mode": {
    "name": "ipython",
    "version": 3
   },
   "file_extension": ".py",
   "mimetype": "text/x-python",
   "name": "python",
   "nbconvert_exporter": "python",
   "pygments_lexer": "ipython3",
   "version": "3.8.20"
  }
 },
 "nbformat": 4,
 "nbformat_minor": 2
}

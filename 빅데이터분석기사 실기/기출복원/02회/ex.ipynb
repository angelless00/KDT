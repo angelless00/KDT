{
 "cells": [
  {
   "cell_type": "code",
   "execution_count": 41,
   "metadata": {},
   "outputs": [
    {
     "name": "stdout",
     "output_type": "stream",
     "text": [
      "20.671\n"
     ]
    }
   ],
   "source": [
    "import pandas as pd \n",
    "df1=pd.read_csv('mtcars2.csv',encoding='cp949')\n",
    "#print(df1)\n",
    "mpg=df1.mpg.sort_values(ascending=False)\n",
    "mpg_10=mpg.iloc[9]\n",
    "idx=mpg[:10].index\n",
    "df1.loc[idx,'mpg']=mpg_10\n",
    "print(round(df1[df1['drat']>=4]['mpg'].mean(),3))"
   ]
  },
  {
   "cell_type": "code",
   "execution_count": 48,
   "metadata": {},
   "outputs": [
    {
     "name": "stdout",
     "output_type": "stream",
     "text": [
      "7.966\n"
     ]
    }
   ],
   "source": [
    "df2=pd.read_csv('mtcars2.csv',encoding='cp949')\n",
    "l=len(df2)\n",
    "train=df2[:int(l*0.8)]\n",
    "changed=train['disp'].fillna(train['disp'].median())\n",
    "yet=train['disp'].std()\n",
    "later=changed.std()\n",
    "print(abs(round(later-yet,3)))"
   ]
  },
  {
   "cell_type": "code",
   "execution_count": 50,
   "metadata": {},
   "outputs": [
    {
     "data": {
      "text/plain": [
       "133"
      ]
     },
     "execution_count": 50,
     "metadata": {},
     "output_type": "execute_result"
    }
   ],
   "source": [
    "df3=pd.read_csv('gehan.csv',encoding='cp949')\n",
    "time=df3['time']\n",
    "time_mean=time.mean()\n",
    "time_std=time.std()\n",
    "time[(time<time_mean-1.5*time_std)|(time>time_mean+1.5*time_std)].sum()"
   ]
  },
  {
   "cell_type": "code",
   "execution_count": 66,
   "metadata": {},
   "outputs": [
    {
     "name": "stderr",
     "output_type": "stream",
     "text": [
      "c:\\Users\\KDP-30\\anaconda3\\envs\\ML_38\\lib\\site-packages\\sklearn\\preprocessing\\_encoders.py:972: FutureWarning: `sparse` was renamed to `sparse_output` in version 1.2 and will be removed in 1.4. `sparse_output` is ignored unless you leave `sparse` to its default value.\n",
      "  warnings.warn(\n",
      "c:\\Users\\KDP-30\\anaconda3\\envs\\ML_38\\lib\\site-packages\\sklearn\\base.py:1151: DataConversionWarning: A column-vector y was passed when a 1d array was expected. Please change the shape of y to (n_samples,), for example using ravel().\n",
      "  return fit_method(estimator, *args, **kwargs)\n"
     ]
    },
    {
     "name": "stdout",
     "output_type": "stream",
     "text": [
      "rf 0.94375\n"
     ]
    }
   ],
   "source": [
    "X_train=pd.read_csv('stroke_X_train.csv',encoding='cp949')\n",
    "X_test=pd.read_csv('stroke_X_test.csv',encoding='cp949')\n",
    "y_train=pd.read_csv('stroke_y_train.csv',encoding='cp949')\n",
    "\n",
    "id=X_test.id\n",
    "\n",
    "y_train.drop(columns=['id'],inplace=True)\n",
    "#print(X_train.head())\n",
    "obj=['gender','hypertension','heart_disease','ever_married','work_type','Residence_type','smoking_status']\n",
    "nums=['age','bmi']\n",
    "\n",
    "# id 삭제\n",
    "X_train.drop(columns=['id'],inplace=True)\n",
    "X_test.drop(columns=['id'],inplace=True)\n",
    "\n",
    "from sklearn.model_selection import train_test_split\n",
    "X_train,X_val,y_train,y_val=train_test_split(X_train,y_train,test_size=0.2,random_state=1069)\n",
    "\n",
    "from sklearn.preprocessing import OneHotEncoder\n",
    "encoder= OneHotEncoder(sparse=False)\n",
    "encoder.fit(X_train[obj])\n",
    "X_train_oh=encoder.transform(X_train[obj])\n",
    "X_val_oh=encoder.transform(X_val[obj])\n",
    "X_test_oh=encoder.transform(X_test[obj])\n",
    "\n",
    "from sklearn.preprocessing import StandardScaler\n",
    "scaler=StandardScaler()\n",
    "scaler.fit(X_train[nums])\n",
    "X_train_sc=scaler.transform(X_train[nums])\n",
    "X_val_sc=scaler.transform(X_val[nums])\n",
    "X_test_sc=scaler.transform(X_test[nums])\n",
    "\n",
    "import numpy as np\n",
    "X_Train=np.concatenate([X_train_oh,X_train_sc],axis=1)\n",
    "X_Val=np.concatenate([X_val_oh,X_val_sc],axis=1)\n",
    "X_Test=np.concatenate([X_test_oh,X_test_sc],axis=1)\n",
    "\n",
    "from sklearn.ensemble import RandomForestClassifier,AdaBoostClassifier\n",
    "from sklearn.metrics import accuracy_score\n",
    "\n",
    "# rt\n",
    "rf_model=RandomForestClassifier(n_estimators=300)\n",
    "rf_model.fit(X_Train,y_train)\n",
    "rf_pred=rf_model.predict(X_Val)\n",
    "rf_score=accuracy_score(y_val,rf_pred)\n",
    "print('rf',rf_score)\n",
    "\n",
    "# # ada\n",
    "# ada_model=AdaBoostClassifier()\n",
    "# ada_model.fit(X_Train,y_train)\n",
    "# ada_pred=ada_model.predict(X_Val)\n",
    "# ada_score=accuracy_score(y_val,ada_pred)\n",
    "# print('ada',ada_score)\n",
    "\n",
    "result=rf_model.predict(X_Test)\n",
    "data=pd.DataFrame({'id':id,'stroke':result})\n",
    "data.to_csv('result.csv',encoding='cp949',index=False)"
   ]
  },
  {
   "cell_type": "code",
   "execution_count": 68,
   "metadata": {},
   "outputs": [
    {
     "data": {
      "text/plain": [
       "0.938788257339163"
      ]
     },
     "execution_count": 68,
     "metadata": {},
     "output_type": "execute_result"
    }
   ],
   "source": [
    "pre=pd.read_csv('result.csv',encoding='cp949')\n",
    "cor=pd.read_csv('stroke_y_test.csv',encoding='cp949')\n",
    "accuracy_score(cor['stroke'],pre['stroke'])"
   ]
  },
  {
   "cell_type": "code",
   "execution_count": null,
   "metadata": {},
   "outputs": [],
   "source": []
  }
 ],
 "metadata": {
  "kernelspec": {
   "display_name": "ML_38",
   "language": "python",
   "name": "python3"
  },
  "language_info": {
   "codemirror_mode": {
    "name": "ipython",
    "version": 3
   },
   "file_extension": ".py",
   "mimetype": "text/x-python",
   "name": "python",
   "nbconvert_exporter": "python",
   "pygments_lexer": "ipython3",
   "version": "3.8.19"
  }
 },
 "nbformat": 4,
 "nbformat_minor": 2
}

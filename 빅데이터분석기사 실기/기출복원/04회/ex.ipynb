{
 "cells": [
  {
   "cell_type": "code",
   "execution_count": 31,
   "metadata": {},
   "outputs": [
    {
     "data": {
      "text/plain": [
       "420"
      ]
     },
     "execution_count": 31,
     "metadata": {},
     "output_type": "execute_result"
    }
   ],
   "source": [
    "import pandas as pd \n",
    "df1=pd.read_csv('Cars93.csv',encoding='cp949')\n",
    "sr=df1.Weight\n",
    "qu1=sr.quantile(0.25)\n",
    "qu2=sr.quantile(0.5)\n",
    "ab=abs(qu2-qu1)\n",
    "int(ab)"
   ]
  },
  {
   "cell_type": "code",
   "execution_count": 13,
   "metadata": {},
   "outputs": [
    {
     "data": {
      "text/plain": [
       "208"
      ]
     },
     "execution_count": 13,
     "metadata": {},
     "output_type": "execute_result"
    }
   ],
   "source": [
    "df2=pd.read_csv('facebook_subset.csv',encoding='cp949')\n",
    "df2['like_ratio']=df2.mobile_likes_received/(df2.mobile_likes_received+df2.www_likes_received)\n",
    "len(df2[(df2['like_ratio']>0.6)&(df2['like_ratio']<0.7) & (df2['gender']=='male')])"
   ]
  },
  {
   "cell_type": "code",
   "execution_count": 29,
   "metadata": {},
   "outputs": [
    {
     "data": {
      "text/plain": [
       "4"
      ]
     },
     "execution_count": 29,
     "metadata": {},
     "output_type": "execute_result"
    }
   ],
   "source": [
    "df3=pd.read_csv('netflix_subset.csv',encoding='cp949')\n",
    "jan=df3[df3['date_added'].str.endswith('Jan-21')]\n",
    "(jan['listed_in']=='Dramas').sum()"
   ]
  },
  {
   "cell_type": "code",
   "execution_count": 67,
   "metadata": {},
   "outputs": [
    {
     "name": "stderr",
     "output_type": "stream",
     "text": [
      "c:\\Users\\KDP-30\\anaconda3\\envs\\ML_38\\lib\\site-packages\\sklearn\\preprocessing\\_encoders.py:972: FutureWarning: `sparse` was renamed to `sparse_output` in version 1.2 and will be removed in 1.4. `sparse_output` is ignored unless you leave `sparse` to its default value.\n",
      "  warnings.warn(\n"
     ]
    },
    {
     "name": "stdout",
     "output_type": "stream",
     "text": [
      "rf 0.7455964229837133\n"
     ]
    }
   ],
   "source": [
    "X_train=pd.read_csv('bodyPerfor_train.csv',encoding='cp949')\n",
    "X_test=pd.read_csv('bodyPerfor_test.csv',encoding='cp949')\n",
    "y_train=X_train['class']\n",
    "X_train.drop(columns='class',inplace=True)\n",
    "\n",
    "X_train.drop(columns=['id'],inplace=True)\n",
    "X_test.drop(columns=['id'],inplace=True)\n",
    "\n",
    "obj=['gender']\n",
    "nums=list(X_train.columns)\n",
    "nums.remove('gender')\n",
    "\n",
    "from sklearn.model_selection import train_test_split\n",
    "X_train,X_val,y_train,y_val=train_test_split(X_train,y_train,test_size=0.1,random_state=10)\n",
    "\n",
    "from sklearn.preprocessing import StandardScaler, OneHotEncoder\n",
    "\n",
    "encoder=OneHotEncoder(sparse=False)\n",
    "encoder.fit(X_train[obj])\n",
    "X_train_oh=encoder.transform(X_train[obj])\n",
    "X_val_oh=encoder.transform(X_val[obj])\n",
    "X_test_oh=encoder.transform(X_test[obj])\n",
    "\n",
    "scaler=StandardScaler()\n",
    "scaler.fit(X_train[nums])\n",
    "X_train_sc=scaler.transform(X_train[nums])\n",
    "X_val_sc=scaler.transform(X_val[nums])\n",
    "X_test_sc=scaler.transform(X_test[nums])\n",
    "\n",
    "import numpy as np\n",
    "X_Train=np.concatenate([X_train_oh,X_train_sc],axis=1)\n",
    "X_Val=np.concatenate([X_val_oh,X_val_sc],axis=1)\n",
    "X_Test=np.concatenate([X_test_oh,X_test_sc],axis=1)\n",
    "\n",
    "from sklearn.ensemble import RandomForestClassifier, AdaBoostClassifier\n",
    "from sklearn.metrics import f1_score\n",
    "rf_model=RandomForestClassifier(n_estimators=200)\n",
    "rf_model.fit(X_Train,y_train)\n",
    "rf_pred=rf_model.predict(X_Val)\n",
    "rf_score=f1_score(y_val,rf_pred,average='macro')\n",
    "print('rf',rf_score)\n",
    "\n",
    "# ada_model=AdaBoostClassifier(n_estimators=200)\n",
    "# ada_model.fit(X_Train,y_train)\n",
    "# ada_pred=ada_model.predict(X_Val)\n",
    "# ada_score=f1_score(y_val,ada_pred,average='macro')\n",
    "# print('ada',ada_score)\n",
    "\n",
    "result=rf_model.predict(X_Test)\n",
    "res=pd.DataFrame({'class':result})\n",
    "res.to_csv('result.csv',encoding='cp949',index=False)"
   ]
  },
  {
   "cell_type": "code",
   "execution_count": null,
   "metadata": {},
   "outputs": [],
   "source": []
  }
 ],
 "metadata": {
  "kernelspec": {
   "display_name": "ML_38",
   "language": "python",
   "name": "python3"
  },
  "language_info": {
   "codemirror_mode": {
    "name": "ipython",
    "version": 3
   },
   "file_extension": ".py",
   "mimetype": "text/x-python",
   "name": "python",
   "nbconvert_exporter": "python",
   "pygments_lexer": "ipython3",
   "version": "3.8.19"
  }
 },
 "nbformat": 4,
 "nbformat_minor": 2
}

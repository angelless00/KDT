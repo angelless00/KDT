{
 "cells": [
  {
   "cell_type": "code",
   "execution_count": 34,
   "metadata": {},
   "outputs": [
    {
     "data": {
      "text/plain": [
       "119"
      ]
     },
     "execution_count": 34,
     "metadata": {},
     "output_type": "execute_result"
    }
   ],
   "source": [
    "import pandas as pd \n",
    "df1=pd.read_csv('전국_종량제봉투_가격표준.csv',encoding='cp949')\n",
    "m=df1[df1['종량제봉투용도']=='음식물쓰레기']['2L가격']\n",
    "int(m[~(m==0)].mean())"
   ]
  },
  {
   "cell_type": "code",
   "execution_count": 12,
   "metadata": {},
   "outputs": [
    {
     "data": {
      "text/plain": [
       "130"
      ]
     },
     "execution_count": 12,
     "metadata": {},
     "output_type": "execute_result"
    }
   ],
   "source": [
    "df2=pd.read_csv('bmi.csv',encoding='cp949')\n",
    "df2['bmi']=df2.Weight/(df2.Height/100)**2\n",
    "normal=df2[(df2.bmi>=18.5)&(df2.bmi<23)]\n",
    "over=df2[(df2.bmi>=23)&(df2.bmi<25)]\n",
    "abs(len(over)-len(normal))"
   ]
  },
  {
   "cell_type": "code",
   "execution_count": 24,
   "metadata": {},
   "outputs": [
    {
     "data": {
      "text/plain": [
       "577"
      ]
     },
     "execution_count": 24,
     "metadata": {},
     "output_type": "execute_result"
    }
   ],
   "source": [
    "df3=pd.read_csv('2022_부산초등학교_전출입학생현황.csv',encoding='cp949')\n",
    "df3['순전입수']=df3['전입학생수합계']-df3['전출학생수합계']\n",
    "max_idx=df3['순전입수'].argmax()\n",
    "df3.loc[max_idx,'전체학생수합계']"
   ]
  },
  {
   "cell_type": "code",
   "execution_count": null,
   "metadata": {},
   "outputs": [],
   "source": []
  }
 ],
 "metadata": {
  "kernelspec": {
   "display_name": "ML_38",
   "language": "python",
   "name": "python3"
  },
  "language_info": {
   "codemirror_mode": {
    "name": "ipython",
    "version": 3
   },
   "file_extension": ".py",
   "mimetype": "text/x-python",
   "name": "python",
   "nbconvert_exporter": "python",
   "pygments_lexer": "ipython3",
   "version": "3.8.19"
  }
 },
 "nbformat": 4,
 "nbformat_minor": 2
}

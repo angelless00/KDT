{
 "cells": [
  {
   "cell_type": "code",
   "execution_count": 38,
   "metadata": {},
   "outputs": [
    {
     "data": {
      "text/plain": [
       "Timedelta('0 days 10:20:43')"
      ]
     },
     "execution_count": 38,
     "metadata": {},
     "output_type": "execute_result"
    }
   ],
   "source": [
    "import pandas as pd \n",
    "df1=pd.read_csv('sejong_fire.csv',encoding='cp949')\n",
    "end=df1['상황종료일시']\n",
    "start=df1['접수일시']\n",
    "df1['진압시간']=(pd.to_datetime(df1['상황종료일시'])-pd.to_datetime(df1['접수일시']))\n",
    "name=df1['진압시간'].sort_values(ascending=False).index[0]\n",
    "mm=df1[df1['관할서명']==df1.loc[name,'관할서명']]['진압시간']\n",
    "mm.astype('timedelta64[s]').mean()"
   ]
  },
  {
   "cell_type": "code",
   "execution_count": 43,
   "metadata": {},
   "outputs": [
    {
     "name": "stdout",
     "output_type": "stream",
     "text": [
      "24\n"
     ]
    }
   ],
   "source": [
    "df2=pd.read_csv('busan_school_Info.csv',encoding='cp949')\n",
    "df21=df2.copy()\n",
    "df21.drop(columns=['school_name','teacher'],inplace=True)\n",
    "df2['교사비율']=df21.sum(axis=1)/df2.teacher\n",
    "max_idx=df2['교사비율'].argmax()\n",
    "print(df2.loc[max_idx,'teacher'])"
   ]
  },
  {
   "cell_type": "code",
   "execution_count": 111,
   "metadata": {},
   "outputs": [
    {
     "data": {
      "text/plain": [
       "4884.166666666667"
      ]
     },
     "execution_count": 111,
     "metadata": {},
     "output_type": "execute_result"
    }
   ],
   "source": [
    "df3=pd.read_csv('five_crime.csv',encoding='cp949')\n",
    "df3['범죄발생건수']=df3[df3.columns[range(1,11,2)]].sum(axis=1)\n",
    "df3['연']=df3['연월'].str.replace(' ','').str[:4]\n",
    "max_idx=df3.groupby(df3['연'])['범죄발생건수'].mean().idxmax()\n",
    "df3[df3['연']==max_idx]['폭력_검거건수'].mean()"
   ]
  },
  {
   "cell_type": "code",
   "execution_count": 139,
   "metadata": {},
   "outputs": [
    {
     "name": "stderr",
     "output_type": "stream",
     "text": [
      "c:\\Users\\KDP-30\\anaconda3\\envs\\ML_38\\lib\\site-packages\\sklearn\\preprocessing\\_encoders.py:972: FutureWarning: `sparse` was renamed to `sparse_output` in version 1.2 and will be removed in 1.4. `sparse_output` is ignored unless you leave `sparse` to its default value.\n",
      "  warnings.warn(\n"
     ]
    },
    {
     "name": "stdout",
     "output_type": "stream",
     "text": [
      "rf 0.9522914181433233\n"
     ]
    }
   ],
   "source": [
    "X_train=pd.read_csv('Airline_train.csv',encoding='cp949')\n",
    "X_test=pd.read_csv('Airline_test.csv',encoding='cp949')\n",
    "#X_train.info()\n",
    "\n",
    "y_train=X_train.Satisfaction\n",
    "y_train.replace({'Yes':'Satisfied','No':'Not satisfied'},inplace=True)\n",
    "X_train.drop(columns='Satisfaction',inplace=True)\n",
    "\n",
    "obj=X_train.columns[:4]\n",
    "nums=X_train.columns[4:]\n",
    "\n",
    "from sklearn.model_selection import train_test_split\n",
    "X_train,X_val,y_train,y_val=train_test_split(X_train,y_train,stratify=y_train,random_state=69,test_size=0.2)\n",
    "\n",
    "from sklearn.preprocessing import OneHotEncoder,StandardScaler\n",
    "Encoder=OneHotEncoder(sparse=False)\n",
    "Encoder.fit(X_train[obj])\n",
    "X_train_oh=Encoder.transform(X_train[obj])\n",
    "X_val_oh=Encoder.transform(X_val[obj])\n",
    "X_test_oh=Encoder.transform(X_test[obj])\n",
    "\n",
    "sclaer=StandardScaler()\n",
    "sclaer.fit(X_train[nums])\n",
    "X_train_sc=sclaer.transform(X_train[nums])\n",
    "X_val_sc=sclaer.transform(X_val[nums])\n",
    "X_test_sc=sclaer.transform(X_test[nums])\n",
    "\n",
    "import numpy as np\n",
    "\n",
    "X_Train=np.concatenate([X_train_oh,X_train_sc],axis=1)\n",
    "X_Val=np.concatenate([X_val_oh,X_val_sc],axis=1)\n",
    "X_Test=np.concatenate([X_test_oh,X_test_sc],axis=1)\n",
    "\n",
    "from sklearn.ensemble import RandomForestClassifier,AdaBoostClassifier\n",
    "from sklearn.metrics import f1_score\n",
    "\n",
    "# rf\n",
    "rf_model=RandomForestClassifier(n_estimators=200)\n",
    "rf_model.fit(X_Train,y_train)\n",
    "rf_pred=rf_model.predict(X_Val)\n",
    "rf_score=f1_score(y_val,rf_pred,average='macro')\n",
    "print('rf',rf_score)\n",
    "\n",
    "# # ada\n",
    "# ada_model=AdaBoostClassifier()\n",
    "# ada_model.fit(X_Train,y_train)\n",
    "# ada_pred=ada_model.predict(X_Val)\n",
    "# ada_score=f1_score(y_val,ada_pred,average='macro')\n",
    "# print('ada',ada_score)\n",
    "\n",
    "pred=rf_model.predict(X_Test)\n",
    "result=pd.DataFrame({'pred':pred})\n",
    "result.to_csv('result.csv',index=False)\n"
   ]
  },
  {
   "cell_type": "code",
   "execution_count": 143,
   "metadata": {},
   "outputs": [
    {
     "data": {
      "text/plain": [
       "x    81\n",
       "dtype: int64"
      ]
     },
     "execution_count": 143,
     "metadata": {},
     "output_type": "execute_result"
    }
   ],
   "source": [
    "df31=pd.read_csv('cancer.csv')\n",
    "df31.isna().sum()"
   ]
  },
  {
   "cell_type": "code",
   "execution_count": null,
   "metadata": {},
   "outputs": [],
   "source": []
  }
 ],
 "metadata": {
  "kernelspec": {
   "display_name": "ML_38",
   "language": "python",
   "name": "python3"
  },
  "language_info": {
   "codemirror_mode": {
    "name": "ipython",
    "version": 3
   },
   "file_extension": ".py",
   "mimetype": "text/x-python",
   "name": "python",
   "nbconvert_exporter": "python",
   "pygments_lexer": "ipython3",
   "version": "3.8.19"
  }
 },
 "nbformat": 4,
 "nbformat_minor": 2
}

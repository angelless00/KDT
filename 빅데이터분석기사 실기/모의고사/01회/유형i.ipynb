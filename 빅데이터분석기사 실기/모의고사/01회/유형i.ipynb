{
 "cells": [
  {
   "cell_type": "code",
   "execution_count": 8,
   "metadata": {},
   "outputs": [
    {
     "data": {
      "text/plain": [
       "4.4"
      ]
     },
     "execution_count": 8,
     "metadata": {},
     "output_type": "execute_result"
    }
   ],
   "source": [
    "import numpy as np\n",
    "import pandas as pd\n",
    "\n",
    "iris=pd.read_csv('iris.csv',encoding='cp949')\n",
    "iris_std=iris['Sepal.Width'].std()\n",
    "iris_mean=iris['Sepal.Width'].mean()\n",
    "sepal=iris['Sepal.Width']\n",
    "sepal[(sepal>iris_mean+3*iris_std) | (sepal<iris_mean-3*iris_std)].sum()"
   ]
  },
  {
   "cell_type": "code",
   "execution_count": 16,
   "metadata": {},
   "outputs": [
    {
     "data": {
      "text/plain": [
       "97.47"
      ]
     },
     "execution_count": 16,
     "metadata": {},
     "output_type": "execute_result"
    }
   ],
   "source": [
    "import numpy as np\n",
    "import pandas as pd\n",
    "cardf=pd.read_csv('mtcars1.csv',encoding='cp949')\n",
    "disp=cardf.disp\n",
    "rank=disp.rank(ascending=False,method='first')\n",
    "idx=rank[rank<=20].index\n",
    "round(disp[idx].std(),2)"
   ]
  },
  {
   "cell_type": "code",
   "execution_count": 86,
   "metadata": {},
   "outputs": [
    {
     "data": {
      "text/plain": [
       "1090"
      ]
     },
     "execution_count": 86,
     "metadata": {},
     "output_type": "execute_result"
    }
   ],
   "source": [
    "import numpy as np\n",
    "import pandas as pd\n",
    "\n",
    "cardf=pd.read_csv('Cars93.csv',encoding='cp949')\n",
    "a=len(cardf)\n",
    "na=cardf.isna().sum()\n",
    "b=na[na>0].count()\n",
    "c=na.sum()\n",
    "del_df=cardf.iloc[cardf[na[na>10].index].dropna().index]\n",
    "d=len(del_df)\n",
    "e=sum(list(cardf[cardf.isna().sum(axis=1)>=2].index))\n",
    "a+b+c+d+e"
   ]
  },
  {
   "cell_type": "code",
   "execution_count": null,
   "metadata": {},
   "outputs": [],
   "source": []
  }
 ],
 "metadata": {
  "kernelspec": {
   "display_name": "ML_38",
   "language": "python",
   "name": "python3"
  },
  "language_info": {
   "codemirror_mode": {
    "name": "ipython",
    "version": 3
   },
   "file_extension": ".py",
   "mimetype": "text/x-python",
   "name": "python",
   "nbconvert_exporter": "python",
   "pygments_lexer": "ipython3",
   "version": "3.8.19"
  }
 },
 "nbformat": 4,
 "nbformat_minor": 2
}

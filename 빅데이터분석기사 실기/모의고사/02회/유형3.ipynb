{
 "cells": [
  {
   "cell_type": "code",
   "execution_count": 6,
   "metadata": {},
   "outputs": [
    {
     "data": {
      "text/plain": [
       "2444.5517021117557"
      ]
     },
     "execution_count": 6,
     "metadata": {},
     "output_type": "execute_result"
    }
   ],
   "source": [
    "import pandas as pd \n",
    "from sklearn.metrics import mean_absolute_error\n",
    "\n",
    "a=pd.read_csv('BlackFriday_y_test.csv',encoding='cp949')\n",
    "b=pd.read_csv('result.csv',encoding='cp949')\n",
    "a=a.Purchase\n",
    "mean_absolute_error(a,b)"
   ]
  },
  {
   "cell_type": "code",
   "execution_count": 8,
   "metadata": {},
   "outputs": [
    {
     "data": {
      "text/plain": [
       "0.1"
      ]
     },
     "execution_count": 8,
     "metadata": {},
     "output_type": "execute_result"
    }
   ],
   "source": [
    "df1=pd.read_csv('survey.csv',encoding='cp949')\n",
    "0.1"
   ]
  },
  {
   "cell_type": "code",
   "execution_count": 18,
   "metadata": {},
   "outputs": [],
   "source": [
    "df2=pd.read_csv('Cars93.csv',encoding='cp949')\n",
    "df21=df2[df2.Origin=='USA']\n",
    "df22=df2[df2.Origin=='non-USA']\n",
    "usa=df21.Max_Price\n",
    "non=df22.Max_Price\n",
    "\n",
    "est=round(df22.Max_Price.mean()-df21.Max_Price.mean(),2)"
   ]
  },
  {
   "cell_type": "code",
   "execution_count": 21,
   "metadata": {},
   "outputs": [
    {
     "name": "stdout",
     "output_type": "stream",
     "text": [
      "2.32\n"
     ]
    }
   ],
   "source": [
    "from scipy.stats import ttest_ind\n",
    "stat,val=ttest_ind(non,usa,equal_var=False,alternative='less')\n",
    "\n",
    "se=est/stat\n",
    "print(round(se,2))"
   ]
  },
  {
   "cell_type": "code",
   "execution_count": 24,
   "metadata": {},
   "outputs": [
    {
     "name": "stdout",
     "output_type": "stream",
     "text": [
      "1.1335\n",
      "0.8696274535505581\n"
     ]
    }
   ],
   "source": [
    "print(round(stat,4))\n",
    "# 채택\n",
    "print(val)"
   ]
  },
  {
   "cell_type": "code",
   "execution_count": null,
   "metadata": {},
   "outputs": [],
   "source": []
  }
 ],
 "metadata": {
  "kernelspec": {
   "display_name": "ML_38",
   "language": "python",
   "name": "python3"
  },
  "language_info": {
   "codemirror_mode": {
    "name": "ipython",
    "version": 3
   },
   "file_extension": ".py",
   "mimetype": "text/x-python",
   "name": "python",
   "nbconvert_exporter": "python",
   "pygments_lexer": "ipython3",
   "version": "3.8.19"
  }
 },
 "nbformat": 4,
 "nbformat_minor": 2
}

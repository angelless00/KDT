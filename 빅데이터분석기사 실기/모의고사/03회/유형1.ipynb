{
 "cells": [
  {
   "cell_type": "code",
   "execution_count": 43,
   "metadata": {},
   "outputs": [
    {
     "data": {
      "text/plain": [
       "1111.35"
      ]
     },
     "execution_count": 43,
     "metadata": {},
     "output_type": "execute_result"
    }
   ],
   "source": [
    "import pandas as pd\n",
    "df1=pd.read_csv('economics.csv',encoding='cp949')\n",
    "#print(df1)\n",
    "day=df1['데이터수집월'].str.replace(' ','')\n",
    "df1['연도']=day.str[:4]\n",
    "df1.groupby('연도')['실업자수_천명'].mean().sort_values()\n",
    "vv=df1[df1['연도']=='2010']['실업자수_천명']/10\n",
    "round(vv.var(),2)"
   ]
  },
  {
   "cell_type": "code",
   "execution_count": 56,
   "metadata": {},
   "outputs": [
    {
     "data": {
      "text/plain": [
       "1101"
      ]
     },
     "execution_count": 56,
     "metadata": {},
     "output_type": "execute_result"
    }
   ],
   "source": [
    "df2=pd.read_csv('Airline.csv',encoding='cp949')\n",
    "\n",
    "df2['Ages'].replace({'[40, 50)':'40_49','[50, 60)':'50_59','[10, 20)':'10_19','[20, 30)':'20_29'},inplace=True)\n",
    "max_age=df2.groupby('Ages')['Departure_Delay_in_Minutes'].mean().sort_values(ascending=False).index[0]\n",
    "len(df2[(df2['Ages']==max_age)&(df2['Customer_Type']=='L')])"
   ]
  },
  {
   "cell_type": "code",
   "execution_count": 87,
   "metadata": {},
   "outputs": [
    {
     "data": {
      "text/plain": [
       "'420'"
      ]
     },
     "execution_count": 87,
     "metadata": {},
     "output_type": "execute_result"
    }
   ],
   "source": [
    "df3=pd.read_csv('spb_daily.csv',encoding='cp949')\n",
    "df3['대여소번호']=df3['대여소번호'].str.replace(' ','')\n",
    "df3=df3[df3['대여소번호'].str[0]=='4']\n",
    "max_num=df3.groupby(df3['대여소번호'])['이용거리'].sum().sort_values(ascending=False).index[0]\n",
    "max_num"
   ]
  },
  {
   "cell_type": "code",
   "execution_count": null,
   "metadata": {},
   "outputs": [
    {
     "data": {
      "text/plain": [
       "0       438\n",
       "2       441\n",
       "3       427\n",
       "4       427\n",
       "12      479\n",
       "       ... \n",
       "2604    433\n",
       "2607    431\n",
       "2608    445\n",
       "2615    442\n",
       "2618    481\n",
       "Name: 대여소번호, Length: 943, dtype: int32"
      ]
     },
     "execution_count": 88,
     "metadata": {},
     "output_type": "execute_result"
    }
   ],
   "source": []
  },
  {
   "cell_type": "code",
   "execution_count": null,
   "metadata": {},
   "outputs": [],
   "source": []
  }
 ],
 "metadata": {
  "kernelspec": {
   "display_name": "ML_38",
   "language": "python",
   "name": "python3"
  },
  "language_info": {
   "codemirror_mode": {
    "name": "ipython",
    "version": 3
   },
   "file_extension": ".py",
   "mimetype": "text/x-python",
   "name": "python",
   "nbconvert_exporter": "python",
   "pygments_lexer": "ipython3",
   "version": "3.8.19"
  }
 },
 "nbformat": 4,
 "nbformat_minor": 2
}

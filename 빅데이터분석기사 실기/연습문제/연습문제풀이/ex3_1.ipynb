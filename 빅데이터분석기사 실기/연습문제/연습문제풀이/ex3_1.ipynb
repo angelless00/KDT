{
 "cells": [
  {
   "cell_type": "markdown",
   "metadata": {},
   "source": [
    "\n",
    "1. 주어진 데이터 (Rabbit_Five.csv)는 신약 개발을 위해 실험에 사용된 데이터이다.\n",
    "아래 데이터를 통해 실험군(MDL)과 대조군 (Control)간 혈압변화 (BPchange)가 차이가 있는 지를 \n",
    "대응표본 t-검정(paired t-test)를 통해 답하고자 한다. 가설은 다음과 같다  \n",
    "$ \\mu_d $ : (실험군 혈압 변화 - 대조군 혈압변화)의 평균  \n",
    "$H_0 : \\mu_d =0$ vs $H_1 : \\mu_d \\ne 0$"
   ]
  },
  {
   "cell_type": "markdown",
   "metadata": {},
   "source": [
    "(a) $ \\mu_d $ 의 점추정량을 구하시오. (반올림하여 소수 둘쨰자리 까지 계산)"
   ]
  },
  {
   "cell_type": "code",
   "execution_count": 3,
   "metadata": {},
   "outputs": [
    {
     "name": "stdout",
     "output_type": "stream",
     "text": [
      "-4.68\n"
     ]
    }
   ],
   "source": [
    "import pandas as pd\n",
    "exam1=pd.read_csv('../Rabbit_Five.csv',encoding='CP949')\n",
    "\n",
    "from scipy.stats import ttest_rel\n",
    "\n",
    "# 필요한 컬럼 각각 할당\n",
    "BP_change=exam1['BP_change']\n",
    "Treatment=exam1['Treatment']\n",
    "\n",
    "# Treatment가 Control인 경우 (대조군)와 MDL인 경우(실험군)의 BP_change값 각각 할당\n",
    "BPC_Treat=BP_change[Treatment=='MDL'].reset_index(drop=True)\n",
    "BPC_Control=BP_change[Treatment=='Control'].reset_index(drop=True)\n",
    "\n",
    "# (a) 점추정량 mean(PC_Treat -PC_Control)\n",
    "diff_avg=(BPC_Treat - BPC_Control).mean()\n",
    "diff_avg=round(diff_avg,2)\n",
    "print(diff_avg)"
   ]
  },
  {
   "cell_type": "markdown",
   "metadata": {},
   "source": [
    "(b) 위의 가설을 검정하기 위한 검정통계량을 구하시오. (반올림하여 소수 둘쨰자리까지 계산)"
   ]
  },
  {
   "cell_type": "code",
   "execution_count": 4,
   "metadata": {},
   "outputs": [
    {
     "name": "stdout",
     "output_type": "stream",
     "text": [
      "-3.67\n"
     ]
    }
   ],
   "source": [
    "# 대응표본 t검정 수행\n",
    "a=ttest_rel(BPC_Treat,BPC_Control)\n",
    "\n",
    "# 검정통계량\n",
    "stat=a.statistic\n",
    "stat=round(stat,2)\n",
    "print(stat)"
   ]
  },
  {
   "cell_type": "markdown",
   "metadata": {},
   "source": [
    "(c) 위의 통계량에 대한  p-값ㅇ르 구하고 (반올림하여 소수 셋째자리까지 계산), 유의수준 0.05하에서 가설 검정결과를 '채택'/'기각' 중 하나로 출력하시오."
   ]
  },
  {
   "cell_type": "code",
   "execution_count": 6,
   "metadata": {},
   "outputs": [
    {
     "name": "stdout",
     "output_type": "stream",
     "text": [
      "0.001\n"
     ]
    }
   ],
   "source": [
    "# p-값 / 기각여부\n",
    "pval=a.pvalue\n",
    "pval=round(pval,3)\n",
    "print(pval)"
   ]
  },
  {
   "cell_type": "code",
   "execution_count": 7,
   "metadata": {},
   "outputs": [
    {
     "name": "stdout",
     "output_type": "stream",
     "text": [
      "기각\n"
     ]
    }
   ],
   "source": [
    "# 0.001이므로\n",
    "print('기각')"
   ]
  },
  {
   "cell_type": "code",
   "execution_count": null,
   "metadata": {},
   "outputs": [],
   "source": []
  }
 ],
 "metadata": {
  "kernelspec": {
   "display_name": "TORCH_38",
   "language": "python",
   "name": "python3"
  },
  "language_info": {
   "codemirror_mode": {
    "name": "ipython",
    "version": 3
   },
   "file_extension": ".py",
   "mimetype": "text/x-python",
   "name": "python",
   "nbconvert_exporter": "python",
   "pygments_lexer": "ipython3",
   "version": "3.8.19"
  }
 },
 "nbformat": 4,
 "nbformat_minor": 2
}

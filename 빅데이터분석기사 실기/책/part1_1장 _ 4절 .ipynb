{
 "cells": [
  {
   "cell_type": "code",
   "execution_count": 1,
   "metadata": {},
   "outputs": [
    {
     "data": {
      "text/plain": [
       "4"
      ]
     },
     "execution_count": 1,
     "metadata": {},
     "output_type": "execute_result"
    }
   ],
   "source": [
    "# p.51\n",
    "def fun1(num):\n",
    "    return(num**2)\n",
    "\n",
    "fun1(2)"
   ]
  },
  {
   "cell_type": "code",
   "execution_count": 4,
   "metadata": {},
   "outputs": [
    {
     "name": "stdout",
     "output_type": "stream",
     "text": [
      "합계 : 30\n"
     ]
    }
   ],
   "source": [
    "def fun2(*args):\n",
    "    x=sum(*args)\n",
    "    print(\"합계 :\",x)\n",
    "\n",
    "fun2([2,4,6,8,10])"
   ]
  },
  {
   "cell_type": "code",
   "execution_count": 5,
   "metadata": {},
   "outputs": [
    {
     "name": "stdout",
     "output_type": "stream",
     "text": [
      "3\n",
      "5\n",
      "3+5=8\n"
     ]
    }
   ],
   "source": [
    "def fun3(x,y):\n",
    "    print(x)\n",
    "    print(y)\n",
    "    def fun4(*fun3):    # fun3 함수 내에 fun4 함수 정의 인자는 fun3의 인자 그대로\n",
    "        Sum=x+y\n",
    "        print(f'{x}+{y}={Sum}')\n",
    "    fun4(x,y)\n",
    "\n",
    "fun3(3,5)"
   ]
  },
  {
   "cell_type": "markdown",
   "metadata": {},
   "source": [
    "## 제어문\n",
    "### 조건문"
   ]
  },
  {
   "cell_type": "code",
   "execution_count": 6,
   "metadata": {},
   "outputs": [
    {
     "name": "stdout",
     "output_type": "stream",
     "text": [
      "9 는 홀수입니다.\n"
     ]
    }
   ],
   "source": [
    "# 함수생성\n",
    "x=9\n",
    "if x%2==0:\n",
    "    print(x, '는 짝수입니다.')\n",
    "elif x%2==1:\n",
    "    print(x,'는 홀수입니다.')\n",
    "else:\n",
    "    print('정수를 입력하세요.')"
   ]
  },
  {
   "cell_type": "markdown",
   "metadata": {},
   "source": [
    "### 반복문"
   ]
  },
  {
   "cell_type": "code",
   "execution_count": 8,
   "metadata": {},
   "outputs": [
    {
     "name": "stdout",
     "output_type": "stream",
     "text": [
      "The year is 2015\n",
      "The year is 2016\n",
      "The year is 2017\n",
      "The year is 2018\n"
     ]
    }
   ],
   "source": [
    "# for 문\n",
    "for year in range(2015,2019):\n",
    "    print('The year is',year)"
   ]
  },
  {
   "cell_type": "code",
   "execution_count": 11,
   "metadata": {},
   "outputs": [
    {
     "name": "stdout",
     "output_type": "stream",
     "text": [
      "The year is 2015\n",
      "The year is 2016\n",
      "The year is 2017\n",
      "The year is 2018\n"
     ]
    }
   ],
   "source": [
    "# while 문\n",
    "year=2015\n",
    "\n",
    "while year<=2018:\n",
    "    print('The year is',year)\n",
    "    year=year+1"
   ]
  },
  {
   "cell_type": "code",
   "execution_count": null,
   "metadata": {},
   "outputs": [],
   "source": []
  }
 ],
 "metadata": {
  "kernelspec": {
   "display_name": "TORCH_CV_38",
   "language": "python",
   "name": "python3"
  },
  "language_info": {
   "codemirror_mode": {
    "name": "ipython",
    "version": 3
   },
   "file_extension": ".py",
   "mimetype": "text/x-python",
   "name": "python",
   "nbconvert_exporter": "python",
   "pygments_lexer": "ipython3",
   "version": "3.8.19"
  }
 },
 "nbformat": 4,
 "nbformat_minor": 2
}

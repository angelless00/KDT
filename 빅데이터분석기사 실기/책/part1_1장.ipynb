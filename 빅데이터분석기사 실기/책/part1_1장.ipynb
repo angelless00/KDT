{
 "cells": [
  {
   "cell_type": "code",
   "execution_count": 2,
   "metadata": {},
   "outputs": [
    {
     "name": "stdout",
     "output_type": "stream",
     "text": [
      "[0, 2, 4, 6, 8]\n"
     ]
    }
   ],
   "source": [
    "# p.29\n",
    "# 예시1: 0에서 시작해 2간격으로 증가하고 10을 포함하지 않는 숫자열\n",
    "# 즉, 0,2,4,6,8 생성\n",
    "range_5=range(0,10,2)\n",
    "print(list(range_5))"
   ]
  },
  {
   "cell_type": "code",
   "execution_count": 3,
   "metadata": {},
   "outputs": [
    {
     "name": "stdout",
     "output_type": "stream",
     "text": [
      "[2, 5, 8, 11, 14]\n"
     ]
    }
   ],
   "source": [
    "# 예시2: 2에서 시작해 3간격으로 증가하고 17을 포함하지 않는 숫자열\n",
    "# 즉 2,5,8,11,14 생성\n",
    "range_6=range(2,17,3)\n",
    "print(list(range_6))"
   ]
  },
  {
   "cell_type": "code",
   "execution_count": 4,
   "metadata": {},
   "outputs": [
    {
     "name": "stdout",
     "output_type": "stream",
     "text": [
      "[15, 13, 11, 9, 7, 5]\n"
     ]
    }
   ],
   "source": [
    "# 예시3 : 15에서 시작해 2간격으로 감소하고 3을 포함하지 않는 숫자열\n",
    "# 즉 15,13,11,9,7,5 생성\n",
    "range_7=range(15,3,-2)\n",
    "print(list(range_7))"
   ]
  },
  {
   "cell_type": "code",
   "execution_count": 5,
   "metadata": {},
   "outputs": [],
   "source": [
    "# 시퀀스형(문자열,리스트,튜플,range) 연산\n",
    "String='DataEdu, Python!'\n",
    "List=list(range(0,10))\n",
    "Tuple=tuple(range(0,10))\n",
    "Range=range(0,10)"
   ]
  },
  {
   "cell_type": "code",
   "execution_count": 9,
   "metadata": {},
   "outputs": [
    {
     "name": "stdout",
     "output_type": "stream",
     "text": [
      "D\n"
     ]
    }
   ],
   "source": [
    "# 문자열 인덱싱\n",
    "print(String[0])    # 0번부터 시작, 제일 앞에서 한 글자"
   ]
  },
  {
   "cell_type": "code",
   "execution_count": 10,
   "metadata": {},
   "outputs": [
    {
     "name": "stdout",
     "output_type": "stream",
     "text": [
      "!\n"
     ]
    }
   ],
   "source": [
    "print(String[-1])   # 뒤에서부터 시작, 제일 뒤에서 한 글자"
   ]
  },
  {
   "cell_type": "code",
   "execution_count": 11,
   "metadata": {},
   "outputs": [
    {
     "name": "stdout",
     "output_type": "stream",
     "text": [
      "y\n"
     ]
    }
   ],
   "source": [
    "print(String[10])   # 앞에서부터 10번이 한 글자"
   ]
  },
  {
   "cell_type": "code",
   "execution_count": 12,
   "metadata": {},
   "outputs": [
    {
     "name": "stdout",
     "output_type": "stream",
     "text": [
      "y\n"
     ]
    }
   ],
   "source": [
    "print(String[-6])   # 뒤에서부터 6번에서 한 글자"
   ]
  },
  {
   "cell_type": "code",
   "execution_count": 13,
   "metadata": {},
   "outputs": [
    {
     "name": "stdout",
     "output_type": "stream",
     "text": [
      "0\n"
     ]
    }
   ],
   "source": [
    "# 리스트 인덱싱\n",
    "print(List[0])  # 0번부터 시작, 제일 앞에서 한 원소"
   ]
  },
  {
   "cell_type": "code",
   "execution_count": 14,
   "metadata": {},
   "outputs": [
    {
     "name": "stdout",
     "output_type": "stream",
     "text": [
      "9\n"
     ]
    }
   ],
   "source": [
    "print(List[-1]) # 뒤에서부터 시작, 제일 뒤에서 한 원소"
   ]
  },
  {
   "cell_type": "code",
   "execution_count": 16,
   "metadata": {},
   "outputs": [
    {
     "name": "stdout",
     "output_type": "stream",
     "text": [
      "7\n"
     ]
    }
   ],
   "source": [
    "print(List[7])  # 앞에서 부터 7번에서 한 원소"
   ]
  },
  {
   "cell_type": "code",
   "execution_count": 17,
   "metadata": {},
   "outputs": [
    {
     "name": "stdout",
     "output_type": "stream",
     "text": [
      "8\n"
     ]
    }
   ],
   "source": [
    "print(List[-2]) # 뒤에서부터 2번에서 한 원소"
   ]
  },
  {
   "cell_type": "code",
   "execution_count": 19,
   "metadata": {},
   "outputs": [
    {
     "name": "stdout",
     "output_type": "stream",
     "text": [
      "0\n"
     ]
    }
   ],
   "source": [
    "# range인덱싱\n",
    "print(Range[0]) # 0번부터 시작, 제일 앞에서 한 숫자"
   ]
  },
  {
   "cell_type": "code",
   "execution_count": 20,
   "metadata": {},
   "outputs": [
    {
     "name": "stdout",
     "output_type": "stream",
     "text": [
      "9\n"
     ]
    }
   ],
   "source": [
    "print(Range[-1])    # 뒤에서부터 시작, 제일 뒤에서 한 숫자"
   ]
  },
  {
   "cell_type": "code",
   "execution_count": 21,
   "metadata": {},
   "outputs": [
    {
     "name": "stdout",
     "output_type": "stream",
     "text": [
      "7\n"
     ]
    }
   ],
   "source": [
    "print(Range[7]) # 앞에서부터 7번에서 한 숫자"
   ]
  },
  {
   "cell_type": "code",
   "execution_count": 22,
   "metadata": {},
   "outputs": [
    {
     "name": "stdout",
     "output_type": "stream",
     "text": [
      "8\n"
     ]
    }
   ],
   "source": [
    "print(Range[-2])    # 뒤에서 부터 2번에서 한숫자"
   ]
  },
  {
   "cell_type": "code",
   "execution_count": 23,
   "metadata": {},
   "outputs": [
    {
     "name": "stdout",
     "output_type": "stream",
     "text": [
      "[-1, 1, 2, 3, 4, 5, 6, 7, 8, 100]\n"
     ]
    }
   ],
   "source": [
    "# p.32\n",
    "List=list(range(0,10))\n",
    "\n",
    "# 변수명[k]=원하는값\n",
    "List[0]=-1      # 0을 -1로 교체\n",
    "List[-1]=100    # 9를 100으로 교체\n",
    "print(List)"
   ]
  },
  {
   "cell_type": "markdown",
   "metadata": {},
   "source": [
    "### 슬라이싱"
   ]
  },
  {
   "cell_type": "code",
   "execution_count": 29,
   "metadata": {},
   "outputs": [
    {
     "name": "stdout",
     "output_type": "stream",
     "text": [
      "DataEdu\n",
      "DataEdu\n"
     ]
    }
   ],
   "source": [
    "# p.33\n",
    "# 시퀀스형(문자열,리스트,튜플,range) 슬라이싱\n",
    "# 문자열 슬라이싱\n",
    "String='DataEdu, Python!'\n",
    "\n",
    "# 0번과 7번 사이의 객체를 추출함\n",
    "print(String[0:7])\n",
    "print(String[:7])"
   ]
  },
  {
   "cell_type": "code",
   "execution_count": null,
   "metadata": {},
   "outputs": [
    {
     "name": "stdout",
     "output_type": "stream",
     "text": [
      "Python!\n",
      "Python!\n"
     ]
    }
   ],
   "source": [
    "# 9번과 16번 사이이의 객체를 추출함\n",
    "print(String[9:])\n",
    "print(String[9:16])"
   ]
  },
  {
   "cell_type": "code",
   "execution_count": 33,
   "metadata": {},
   "outputs": [
    {
     "name": "stdout",
     "output_type": "stream",
     "text": [
      "(0, 1)\n",
      "(0, 1)\n"
     ]
    }
   ],
   "source": [
    "# 튜플 슬라이싱 \n",
    "Tuple=tuple(range(0,10)) \n",
    "\n",
    "# 0번과 2번사이의 객체를 추출함\n",
    "print(Tuple[0:2])\n",
    "print(Tuple[:2])"
   ]
  },
  {
   "cell_type": "code",
   "execution_count": 36,
   "metadata": {},
   "outputs": [
    {
     "name": "stdout",
     "output_type": "stream",
     "text": [
      "(6, 7, 8, 9)\n",
      "(6, 7, 8, 9)\n"
     ]
    }
   ],
   "source": [
    "# 6번과 10번사이의 객체를 추출함\n",
    "print(Tuple[6:])\n",
    "print(Tuple[6:10])"
   ]
  },
  {
   "cell_type": "code",
   "execution_count": 37,
   "metadata": {},
   "outputs": [
    {
     "name": "stdout",
     "output_type": "stream",
     "text": [
      "(3, 4, 5, 6)\n"
     ]
    }
   ],
   "source": [
    "# 3번과 7번사이의 객체를 추출함\n",
    "print(Tuple[3:7])"
   ]
  },
  {
   "cell_type": "code",
   "execution_count": 38,
   "metadata": {},
   "outputs": [
    {
     "name": "stdout",
     "output_type": "stream",
     "text": [
      "range(0, 2)\n",
      "range(0, 2)\n"
     ]
    }
   ],
   "source": [
    "# range 슬라이싱\n",
    "Range=range(0,10)\n",
    "\n",
    "# 0번과 2번사이의 객체를 추출함\n",
    "print(Range[0:2])\n",
    "print(Range[:2])"
   ]
  },
  {
   "cell_type": "code",
   "execution_count": 39,
   "metadata": {},
   "outputs": [
    {
     "name": "stdout",
     "output_type": "stream",
     "text": [
      "range(6, 10)\n",
      "range(6, 10)\n"
     ]
    }
   ],
   "source": [
    "# 6번과 10번사이의 객체를 추출함\n",
    "print(Range[6:])\n",
    "print(Range[6:10])"
   ]
  },
  {
   "cell_type": "code",
   "execution_count": 40,
   "metadata": {},
   "outputs": [
    {
     "name": "stdout",
     "output_type": "stream",
     "text": [
      "range(3, 7)\n"
     ]
    }
   ],
   "source": [
    "# 3번과 7번 사이의 객체를 추출함\n",
    "print(Range[3:7])"
   ]
  },
  {
   "cell_type": "markdown",
   "metadata": {},
   "source": [
    "### 연결"
   ]
  },
  {
   "cell_type": "code",
   "execution_count": 41,
   "metadata": {},
   "outputs": [
    {
     "data": {
      "text/plain": [
       "'DataEdu'"
      ]
     },
     "execution_count": 41,
     "metadata": {},
     "output_type": "execute_result"
    }
   ],
   "source": [
    "# 문자열 연결\n",
    "'Data'+'Edu'"
   ]
  },
  {
   "cell_type": "code",
   "execution_count": 42,
   "metadata": {},
   "outputs": [
    {
     "data": {
      "text/plain": [
       "[1, 2, 3, 4, 5, 6]"
      ]
     },
     "execution_count": 42,
     "metadata": {},
     "output_type": "execute_result"
    }
   ],
   "source": [
    "# 리스트 연결\n",
    "[1,2,3]+[4,5,6]"
   ]
  },
  {
   "cell_type": "code",
   "execution_count": 43,
   "metadata": {},
   "outputs": [
    {
     "data": {
      "text/plain": [
       "(1, 2, 3, 4, 5, 6)"
      ]
     },
     "execution_count": 43,
     "metadata": {},
     "output_type": "execute_result"
    }
   ],
   "source": [
    "# 튜플 연결\n",
    "(1,2,3)+(4,5,6)"
   ]
  },
  {
   "cell_type": "markdown",
   "metadata": {},
   "source": [
    "### 반복"
   ]
  },
  {
   "cell_type": "code",
   "execution_count": 44,
   "metadata": {},
   "outputs": [
    {
     "data": {
      "text/plain": [
       "'DataDataData'"
      ]
     },
     "execution_count": 44,
     "metadata": {},
     "output_type": "execute_result"
    }
   ],
   "source": [
    "# 문자열 인식\n",
    "'Data'*3"
   ]
  },
  {
   "cell_type": "code",
   "execution_count": 45,
   "metadata": {},
   "outputs": [
    {
     "data": {
      "text/plain": [
       "[1, 2, 3, 1, 2, 3, 1, 2, 3]"
      ]
     },
     "execution_count": 45,
     "metadata": {},
     "output_type": "execute_result"
    }
   ],
   "source": [
    "# 리스트 반복\n",
    "[1,2,3]*3"
   ]
  },
  {
   "cell_type": "code",
   "execution_count": 46,
   "metadata": {},
   "outputs": [
    {
     "data": {
      "text/plain": [
       "(1, 2, 3, 1, 2, 3, 1, 2, 3)"
      ]
     },
     "execution_count": 46,
     "metadata": {},
     "output_type": "execute_result"
    }
   ],
   "source": [
    "# 튜플 반복\n",
    "(1,2,3)*3"
   ]
  },
  {
   "cell_type": "markdown",
   "metadata": {},
   "source": [
    "### 길이정보"
   ]
  },
  {
   "cell_type": "code",
   "execution_count": 47,
   "metadata": {},
   "outputs": [
    {
     "data": {
      "text/plain": [
       "16"
      ]
     },
     "execution_count": 47,
     "metadata": {},
     "output_type": "execute_result"
    }
   ],
   "source": [
    "# 문자열 길이정보\n",
    "String='DataEdu, Python!'\n",
    "len(String)"
   ]
  },
  {
   "cell_type": "code",
   "execution_count": 48,
   "metadata": {},
   "outputs": [
    {
     "data": {
      "text/plain": [
       "10"
      ]
     },
     "execution_count": 48,
     "metadata": {},
     "output_type": "execute_result"
    }
   ],
   "source": [
    "# 리스트 길이정보\n",
    "List=list(range(0,10))\n",
    "len(List)"
   ]
  },
  {
   "cell_type": "code",
   "execution_count": 49,
   "metadata": {},
   "outputs": [
    {
     "data": {
      "text/plain": [
       "10"
      ]
     },
     "execution_count": 49,
     "metadata": {},
     "output_type": "execute_result"
    }
   ],
   "source": [
    "# 튜플 길이정보\n",
    "Tuple=tuple(range(0,10))\n",
    "len(Tuple)"
   ]
  },
  {
   "cell_type": "code",
   "execution_count": 50,
   "metadata": {},
   "outputs": [
    {
     "data": {
      "text/plain": [
       "10"
      ]
     },
     "execution_count": 50,
     "metadata": {},
     "output_type": "execute_result"
    }
   ],
   "source": [
    "# range 길이 정보\n",
    "Range=range(0,10)\n",
    "len(Range)"
   ]
  },
  {
   "cell_type": "markdown",
   "metadata": {},
   "source": [
    "### 시퀀스형 주요 내장함수와 메소드"
   ]
  },
  {
   "cell_type": "code",
   "execution_count": 1,
   "metadata": {},
   "outputs": [],
   "source": [
    "# 내장함수\n",
    "# 시퀀스형 생성 후 할당\n",
    "Str='dbac'  # 문자열\n",
    "List=[5,1,3,9]  # 리스트\n",
    "Tuple=(6,10,3,4)    # 튜플\n",
    "Range=range(2,13,3)     # range 2,5,8,11"
   ]
  },
  {
   "cell_type": "code",
   "execution_count": 3,
   "metadata": {},
   "outputs": [
    {
     "name": "stdout",
     "output_type": "stream",
     "text": [
      "18\n",
      "23\n",
      "26\n"
     ]
    }
   ],
   "source": [
    "# 내장함수 sum\n",
    "# 시퀀스형객체(문자열제외)의 요소의 합을 반환\n",
    "print(sum(List))\n",
    "print(sum(Tuple))\n",
    "print(sum(Range))"
   ]
  },
  {
   "cell_type": "code",
   "execution_count": 5,
   "metadata": {},
   "outputs": [
    {
     "name": "stdout",
     "output_type": "stream",
     "text": [
      "d\n",
      "9\n",
      "10\n",
      "11\n"
     ]
    }
   ],
   "source": [
    "# 내장함수 max\n",
    "# 시퀀스형객체의 요소중 가장 작은 요소 반환\n",
    "print(max(Str))\n",
    "print(max(List))\n",
    "print(max(Tuple))\n",
    "print(max(Range))"
   ]
  },
  {
   "cell_type": "code",
   "execution_count": null,
   "metadata": {},
   "outputs": [
    {
     "name": "stdout",
     "output_type": "stream",
     "text": [
      "a\n",
      "1\n",
      "3\n",
      "2\n"
     ]
    }
   ],
   "source": [
    "# 내장함수 min\n",
    "# 시퀀스형객체의 요소중 가장 작은 요소 반환\n",
    "print(min(Str))\n",
    "print(min(List))\n",
    "print(min(Tuple))\n",
    "print(min(Range))"
   ]
  },
  {
   "cell_type": "code",
   "execution_count": null,
   "metadata": {},
   "outputs": [
    {
     "name": "stdout",
     "output_type": "stream",
     "text": [
      "['a', 'b', 'c', 'd']\n",
      "[1, 3, 5, 9]\n",
      "[3, 4, 6, 10]\n",
      "[2, 5, 8, 11]\n"
     ]
    }
   ],
   "source": [
    "# 내장함수 sorted\n",
    "# 시퀀스형객체의 요소중 가장 작은 요소 반환\n",
    "print(sorted(Str))\n",
    "print(sorted(List))\n",
    "print(sorted(Tuple))\n",
    "print(sorted(Range))\n",
    "## 리스트로 반환됨"
   ]
  },
  {
   "cell_type": "code",
   "execution_count": 7,
   "metadata": {},
   "outputs": [
    {
     "name": "stdout",
     "output_type": "stream",
     "text": [
      "<reversed object at 0x00000192260F6970>\n",
      "<list_reverseiterator object at 0x00000192260D4370>\n",
      "<reversed object at 0x00000192260F6970>\n",
      "<range_iterator object at 0x0000019226100AD0>\n"
     ]
    }
   ],
   "source": [
    "# 내장함수 reversed\n",
    "# 시퀀스객체의 요소 순서를 역순으로 반환\n",
    "# reversed는 단순히 순서만을 역순으로 반환하는것임\n",
    "print(reversed(Str))\n",
    "print(reversed(List))\n",
    "print(reversed(Tuple))\n",
    "print(reversed(Range))"
   ]
  },
  {
   "cell_type": "code",
   "execution_count": 8,
   "metadata": {},
   "outputs": [
    {
     "name": "stdout",
     "output_type": "stream",
     "text": [
      "['c', 'a', 'b', 'd']\n",
      "[9, 3, 1, 5]\n",
      "[4, 3, 10, 6]\n",
      "[11, 8, 5, 2]\n"
     ]
    }
   ],
   "source": [
    "# reversed는 reversed객체화 되기 ㅣ떄문에 안의 요소를 확인할수없음\n",
    "# 리스트로 변환하여 결과 확인\n",
    "print(list(reversed(Str)))\n",
    "print(list(reversed(List)))\n",
    "print(list(reversed(Tuple)))\n",
    "print(list(reversed(Range)))"
   ]
  },
  {
   "cell_type": "code",
   "execution_count": 9,
   "metadata": {},
   "outputs": [
    {
     "name": "stdout",
     "output_type": "stream",
     "text": [
      "[5, 3, 9]\n"
     ]
    }
   ],
   "source": [
    "# del함수는 리스트객체의 특정 요소를 삭제함\n",
    "del List[1]\n",
    "print(List)"
   ]
  },
  {
   "cell_type": "code",
   "execution_count": 10,
   "metadata": {},
   "outputs": [
    {
     "ename": "TypeError",
     "evalue": "'str' object doesn't support item deletion",
     "output_type": "error",
     "traceback": [
      "\u001b[1;31m---------------------------------------------------------------------------\u001b[0m",
      "\u001b[1;31mTypeError\u001b[0m                                 Traceback (most recent call last)",
      "Cell \u001b[1;32mIn[10], line 2\u001b[0m\n\u001b[0;32m      1\u001b[0m \u001b[38;5;66;03m# 문자열과 튜플,range에서는 del을 사용할 수 없음을 확인\u001b[39;00m\n\u001b[1;32m----> 2\u001b[0m \u001b[38;5;28;01mdel\u001b[39;00m Str[\u001b[38;5;241m1\u001b[39m]\n\u001b[0;32m      3\u001b[0m \u001b[38;5;28;01mdel\u001b[39;00m Tuple[\u001b[38;5;241m1\u001b[39m]\n\u001b[0;32m      4\u001b[0m \u001b[38;5;28;01mdel\u001b[39;00m Range[\u001b[38;5;241m1\u001b[39m]\n",
      "\u001b[1;31mTypeError\u001b[0m: 'str' object doesn't support item deletion"
     ]
    }
   ],
   "source": [
    "# 문자열과 튜플,range에서는 del을 사용할 수 없음을 확인\n",
    "del Str[1]\n",
    "del Tuple[1]\n",
    "del Range[1]"
   ]
  },
  {
   "cell_type": "code",
   "execution_count": 11,
   "metadata": {},
   "outputs": [],
   "source": [
    "# 메소드\n",
    "# 리스트 생성 후 할당\n",
    "Str='dbbac' # 문자열\n",
    "List=[5,1,3,3,9]\n",
    "Tuple=(6,10,3,4,10)\n",
    "Range=range(2,13,3) # 2,5,8,11"
   ]
  },
  {
   "cell_type": "code",
   "execution_count": 16,
   "metadata": {},
   "outputs": [
    {
     "data": {
      "text/plain": [
       "3"
      ]
     },
     "execution_count": 16,
     "metadata": {},
     "output_type": "execute_result"
    }
   ],
   "source": [
    "# 메소드.index(요소)\n",
    "# 시퀀스객체 내 해당 요소의 위치 인덱스 번호\n",
    "Str.index('a')"
   ]
  },
  {
   "cell_type": "code",
   "execution_count": 15,
   "metadata": {},
   "outputs": [
    {
     "data": {
      "text/plain": [
       "1"
      ]
     },
     "execution_count": 15,
     "metadata": {},
     "output_type": "execute_result"
    }
   ],
   "source": [
    "List.index(1)"
   ]
  },
  {
   "cell_type": "code",
   "execution_count": 17,
   "metadata": {},
   "outputs": [
    {
     "data": {
      "text/plain": [
       "2"
      ]
     },
     "execution_count": 17,
     "metadata": {},
     "output_type": "execute_result"
    }
   ],
   "source": [
    "Tuple.index(3)"
   ]
  },
  {
   "cell_type": "code",
   "execution_count": 18,
   "metadata": {},
   "outputs": [
    {
     "data": {
      "text/plain": [
       "3"
      ]
     },
     "execution_count": 18,
     "metadata": {},
     "output_type": "execute_result"
    }
   ],
   "source": [
    "Range.index(11)"
   ]
  },
  {
   "cell_type": "code",
   "execution_count": 19,
   "metadata": {},
   "outputs": [
    {
     "data": {
      "text/plain": [
       "2"
      ]
     },
     "execution_count": 19,
     "metadata": {},
     "output_type": "execute_result"
    }
   ],
   "source": [
    "# 메소드.count(요소)\n",
    "# 시퀀스객체 내 해당 요소의 빈도\n",
    "Str.count('b')"
   ]
  },
  {
   "cell_type": "code",
   "execution_count": 20,
   "metadata": {},
   "outputs": [
    {
     "data": {
      "text/plain": [
       "2"
      ]
     },
     "execution_count": 20,
     "metadata": {},
     "output_type": "execute_result"
    }
   ],
   "source": [
    "List.count(3)"
   ]
  },
  {
   "cell_type": "code",
   "execution_count": 21,
   "metadata": {},
   "outputs": [
    {
     "data": {
      "text/plain": [
       "2"
      ]
     },
     "execution_count": 21,
     "metadata": {},
     "output_type": "execute_result"
    }
   ],
   "source": [
    "Tuple.count(10)"
   ]
  },
  {
   "cell_type": "code",
   "execution_count": 22,
   "metadata": {},
   "outputs": [
    {
     "data": {
      "text/plain": [
       "1"
      ]
     },
     "execution_count": 22,
     "metadata": {},
     "output_type": "execute_result"
    }
   ],
   "source": [
    "Range.count(11)"
   ]
  },
  {
   "cell_type": "markdown",
   "metadata": {},
   "source": [
    "### 리스트에만 사용되는 메소드"
   ]
  },
  {
   "cell_type": "code",
   "execution_count": 41,
   "metadata": {},
   "outputs": [],
   "source": [
    "# 리스트 생성 후 할당\n",
    "List=[5,-1,6,7,1,3]"
   ]
  },
  {
   "cell_type": "code",
   "execution_count": 42,
   "metadata": {},
   "outputs": [
    {
     "name": "stdout",
     "output_type": "stream",
     "text": [
      "[5, -1, 6, 7, 1, 3, 2]\n"
     ]
    }
   ],
   "source": [
    "# 메소드.append(요소)\n",
    "# 리스트 객체의 맨 뒤에 요소를 추가\n",
    "List.append(2)  # 맨뒤에 2를 추가\n",
    "print(List)"
   ]
  },
  {
   "cell_type": "code",
   "execution_count": 43,
   "metadata": {},
   "outputs": [
    {
     "name": "stdout",
     "output_type": "stream",
     "text": [
      "[5, -1, 6, 8, 7, 1, 3, 2]\n"
     ]
    }
   ],
   "source": [
    "# insert(인덱스,요소)\n",
    "# 리스트객체의 특정인덱스에 요소 추가\n",
    "List.insert(3,8)    # 3번 인덱스에 8추가\n",
    "print(List)"
   ]
  },
  {
   "cell_type": "code",
   "execution_count": 44,
   "metadata": {},
   "outputs": [
    {
     "name": "stdout",
     "output_type": "stream",
     "text": [
      "[5, -1, 6, 7, 1, 3, 2]\n"
     ]
    }
   ],
   "source": [
    "# .remove(요소)\n",
    "# 리스트객체에서 처음으로 나오는 요소를 제거\n",
    "List.remove(8)  # 처음으로 나오는 8을 제거\n",
    "print(List)"
   ]
  },
  {
   "cell_type": "code",
   "execution_count": 45,
   "metadata": {},
   "outputs": [
    {
     "name": "stdout",
     "output_type": "stream",
     "text": [
      "[5, -1, 6, 7, 1, 3]\n",
      "2\n"
     ]
    }
   ],
   "source": [
    "# .pop()\n",
    "# 리스트객체의 마지막 요소 삭제후 반환\n",
    "List_2=List.pop()   # 마지막 요소 삭제후 반환\n",
    "print(List)\n",
    "print(List_2)"
   ]
  },
  {
   "cell_type": "code",
   "execution_count": 46,
   "metadata": {},
   "outputs": [
    {
     "name": "stdout",
     "output_type": "stream",
     "text": [
      "[-1, 1, 3, 5, 6, 7]\n"
     ]
    }
   ],
   "source": [
    "# .sort(reverse=False)\n",
    "# 리스트객체의 요소를 오름차순으로 정렬\n",
    "List.sort()\n",
    "print(List)"
   ]
  },
  {
   "cell_type": "code",
   "execution_count": 47,
   "metadata": {},
   "outputs": [
    {
     "name": "stdout",
     "output_type": "stream",
     "text": [
      "[7, 6, 5, 3, 1, -1]\n"
     ]
    }
   ],
   "source": [
    "# reverse=True 는 내림차순\n",
    "List.sort(reverse=True)\n",
    "print(List)"
   ]
  },
  {
   "cell_type": "code",
   "execution_count": 48,
   "metadata": {},
   "outputs": [
    {
     "name": "stdout",
     "output_type": "stream",
     "text": [
      "[3, 1, 7, 6, -1, 5]\n"
     ]
    }
   ],
   "source": [
    "# .reverse()\n",
    "# 리스트 객체의 요소 순서를 역순으로 대치\n",
    "List=[5,-1,6,7,1,3]\n",
    "List.reverse()\n",
    "print(List)"
   ]
  },
  {
   "cell_type": "markdown",
   "metadata": {},
   "source": [
    "### copy 해야하는 경우"
   ]
  },
  {
   "cell_type": "code",
   "execution_count": 49,
   "metadata": {},
   "outputs": [],
   "source": [
    "# 리스트 생성 후 할당\n",
    "List=[5,9,6,7,1,3]"
   ]
  },
  {
   "cell_type": "code",
   "execution_count": 50,
   "metadata": {},
   "outputs": [
    {
     "name": "stdout",
     "output_type": "stream",
     "text": [
      "[5, 9, 6, 7, 1, 3]\n"
     ]
    }
   ],
   "source": [
    "# 메소드.copy()\n",
    "List_1=List.copy()\n",
    "print(List_1)"
   ]
  },
  {
   "cell_type": "code",
   "execution_count": 52,
   "metadata": {},
   "outputs": [
    {
     "name": "stdout",
     "output_type": "stream",
     "text": [
      "[5, -1, 6, 7, 1, 3]\n",
      "[5, 9, 6, 7, 1, 3]\n"
     ]
    }
   ],
   "source": [
    "List_1[1]=-1 # 인덱싱을 통한 요소 교체\n",
    "print(List_1)   # 1번 요소가 변화\n",
    "print(List)     # 원래 리스트엔 변화 없음"
   ]
  },
  {
   "cell_type": "code",
   "execution_count": 53,
   "metadata": {},
   "outputs": [
    {
     "name": "stdout",
     "output_type": "stream",
     "text": [
      "[5, 9, 6, 7, 1, 3]\n"
     ]
    }
   ],
   "source": [
    "# .copy() 안 할 경우\n",
    "List_2=List\n",
    "print(List_2)"
   ]
  },
  {
   "cell_type": "code",
   "execution_count": 54,
   "metadata": {},
   "outputs": [
    {
     "name": "stdout",
     "output_type": "stream",
     "text": [
      "[5, -1, 6, 7, 1, 3]\n",
      "[5, -1, 6, 7, 1, 3]\n"
     ]
    }
   ],
   "source": [
    "List_2[1]=-1    # 인덱싱을 통한 요소 교체\n",
    "print(List_2)\n",
    "print(List)     # 원래 리스트도 변화함"
   ]
  },
  {
   "cell_type": "markdown",
   "metadata": {},
   "source": [
    "## 딕셔너리"
   ]
  },
  {
   "cell_type": "code",
   "execution_count": 55,
   "metadata": {},
   "outputs": [
    {
     "name": "stdout",
     "output_type": "stream",
     "text": [
      "{'A': 1, 'B': 2, 'C': 3}\n"
     ]
    }
   ],
   "source": [
    "dic_1={'A':1,'B':2,'C':3}   # {key:value}로 딕셔너리 생성\n",
    "print(dic_1)"
   ]
  },
  {
   "cell_type": "code",
   "execution_count": 56,
   "metadata": {},
   "outputs": [
    {
     "name": "stdout",
     "output_type": "stream",
     "text": [
      "{1: 'A', 2: 'B', 3: 'C'}\n"
     ]
    }
   ],
   "source": [
    "dic_2={1:'A',2:'B',3:'C'}   # {key:value}로 딕셔너리 생성\n",
    "print(dic_2)"
   ]
  },
  {
   "cell_type": "code",
   "execution_count": 57,
   "metadata": {},
   "outputs": [
    {
     "name": "stdout",
     "output_type": "stream",
     "text": [
      "{'A': 1, 'B': 2, 'C': 3}\n"
     ]
    }
   ],
   "source": [
    "dic_3=dict(A=1,B=2,C=3) # dict() 함수를 통한 방법 (key=value)\n",
    "print(dic_3)"
   ]
  },
  {
   "cell_type": "code",
   "execution_count": 58,
   "metadata": {},
   "outputs": [
    {
     "name": "stdout",
     "output_type": "stream",
     "text": [
      "{'A': 1, 'B': 2, 'C': 3, 'D': 4}\n"
     ]
    }
   ],
   "source": [
    "# 딕셔너리에 키와 값 추가\n",
    "dic_1['D']=4    # key D 와 value4를 추가\n",
    "print(dic_1)"
   ]
  },
  {
   "cell_type": "code",
   "execution_count": 59,
   "metadata": {},
   "outputs": [
    {
     "name": "stdout",
     "output_type": "stream",
     "text": [
      "{1: 'A', 2: 'B', 3: 'C', 4: 'D'}\n"
     ]
    }
   ],
   "source": [
    "dic_2[4]='D'    # key 4 와 value D를 추가\n",
    "print(dic_2)"
   ]
  },
  {
   "cell_type": "code",
   "execution_count": 60,
   "metadata": {},
   "outputs": [
    {
     "name": "stdout",
     "output_type": "stream",
     "text": [
      "{'A': 7, 'B': 2, 'C': 3, 'D': 4}\n"
     ]
    }
   ],
   "source": [
    "# 동일한 키와 다른 값을 추가할 경우 값만 교체됨\n",
    "dic_1['A']=7\n",
    "print(dic_1)"
   ]
  },
  {
   "cell_type": "code",
   "execution_count": 61,
   "metadata": {},
   "outputs": [
    {
     "name": "stdout",
     "output_type": "stream",
     "text": [
      "1\n",
      "3\n"
     ]
    }
   ],
   "source": [
    "# 딕셔너리에서의 조회\n",
    "dic={'A':1,'B':2,'C':3} # 딕셔너리 생성\n",
    "\n",
    "# key를 통한 조회\n",
    "print(dic['A'])\n",
    "print(dic['C'])"
   ]
  },
  {
   "cell_type": "code",
   "execution_count": 62,
   "metadata": {},
   "outputs": [
    {
     "name": "stdout",
     "output_type": "stream",
     "text": [
      "{'B': 2, 'C': 3}\n"
     ]
    }
   ],
   "source": [
    "# 딕셔너리 타입의 주요 내장합수\n",
    "# del\n",
    "# 딕셔너리 객체에서 틀정키와 쌍인 값을 삭제\n",
    "del dic['A']\n",
    "print(dic)"
   ]
  },
  {
   "cell_type": "code",
   "execution_count": 63,
   "metadata": {},
   "outputs": [
    {
     "data": {
      "text/plain": [
       "dict_keys(['B', 'C'])"
      ]
     },
     "execution_count": 63,
     "metadata": {},
     "output_type": "execute_result"
    }
   ],
   "source": [
    "# 딕셔너리 타입의 주요 메소드\n",
    "# .keys()\n",
    "# 딕셔너리 객체의 키로 구성된 리스트를 반환\n",
    "dic.keys()\n"
   ]
  },
  {
   "cell_type": "code",
   "execution_count": 64,
   "metadata": {},
   "outputs": [
    {
     "data": {
      "text/plain": [
       "dict_values([2, 3])"
      ]
     },
     "execution_count": 64,
     "metadata": {},
     "output_type": "execute_result"
    }
   ],
   "source": [
    "# .values()\n",
    "# 딕셔너리객체의 키로 구성된 리스트를 반환\n",
    "dic.values()"
   ]
  },
  {
   "cell_type": "code",
   "execution_count": 65,
   "metadata": {},
   "outputs": [
    {
     "data": {
      "text/plain": [
       "dict_items([('B', 2), ('C', 3)])"
      ]
     },
     "execution_count": 65,
     "metadata": {},
     "output_type": "execute_result"
    }
   ],
   "source": [
    "# .item()\n",
    "# 딕셔너리객체의 키.값 쌍으로 구성된 리스틀 반환\n",
    "dic.items()"
   ]
  },
  {
   "cell_type": "code",
   "execution_count": 66,
   "metadata": {},
   "outputs": [
    {
     "name": "stdout",
     "output_type": "stream",
     "text": [
      "{'B': 2, 'C': 3, 'D': 7}\n"
     ]
    }
   ],
   "source": [
    "# .update({키:값})\n",
    "# 딕셔너리객체에 키,값 쌍으로 수정하거나 추가함\n",
    "dic.update({'D':7})\n",
    "print(dic)"
   ]
  },
  {
   "cell_type": "markdown",
   "metadata": {},
   "source": [
    "## 집합"
   ]
  },
  {
   "cell_type": "code",
   "execution_count": 67,
   "metadata": {},
   "outputs": [],
   "source": [
    "# 집합\n",
    "set_1={1,2,3,4} # 중괄호로 집합생성\n",
    "set_2={'E','d','u'} # 중괄호로 집합생성\n",
    "\n",
    "# 빈 집합은 중괄호로만 생성 불가, 중괄호 사용시 딕셔너리를 생성함\n",
    "# set()으로만 빈 집합의 생성이 가능함\n",
    "dic={}  # 중괄호는 빈 딕셔너리 생성\n",
    "set_1=set() # 빈 집합 생성"
   ]
  },
  {
   "cell_type": "code",
   "execution_count": 68,
   "metadata": {},
   "outputs": [
    {
     "name": "stdout",
     "output_type": "stream",
     "text": [
      "{2, 4, 6, 8, 10, 12}\n"
     ]
    }
   ],
   "source": [
    "# 집합타입의 주요메소드\n",
    "set_3={2,4,6,8,10}\n",
    "set_4={4,8}\n",
    "\n",
    "# .add(원소)\n",
    "# 집합객체에서 하나의 원소를 추가(순서를 보장하지않음)\n",
    "set_3.add(12)\n",
    "print(set_3)"
   ]
  },
  {
   "cell_type": "code",
   "execution_count": 69,
   "metadata": {},
   "outputs": [
    {
     "name": "stdout",
     "output_type": "stream",
     "text": [
      "{8, 16, 4, 12}\n"
     ]
    }
   ],
   "source": [
    "# .update(원소)\n",
    "# 집합객체에서 여러개의 원소를 추가(순서를 보장하지않음)\n",
    "set_4.update({12,16})\n",
    "print(set_4)"
   ]
  },
  {
   "cell_type": "code",
   "execution_count": 70,
   "metadata": {},
   "outputs": [
    {
     "data": {
      "text/plain": [
       "{2, 4, 6, 8, 10, 12, 16}"
      ]
     },
     "execution_count": 70,
     "metadata": {},
     "output_type": "execute_result"
    }
   ],
   "source": [
    "# 집합1.union(집합2)\n",
    "# 합집합\n",
    "set_3.union(set_4)"
   ]
  },
  {
   "cell_type": "code",
   "execution_count": 71,
   "metadata": {},
   "outputs": [
    {
     "data": {
      "text/plain": [
       "{4, 8, 12}"
      ]
     },
     "execution_count": 71,
     "metadata": {},
     "output_type": "execute_result"
    }
   ],
   "source": [
    "# 집합1.intersection(집합2)\n",
    "# 교집합\n",
    "set_3.intersection(set_4)"
   ]
  },
  {
   "cell_type": "code",
   "execution_count": 72,
   "metadata": {},
   "outputs": [
    {
     "data": {
      "text/plain": [
       "{2, 6, 10}"
      ]
     },
     "execution_count": 72,
     "metadata": {},
     "output_type": "execute_result"
    }
   ],
   "source": [
    "# 집합1.difference(집합2)\n",
    "# 차집합\n",
    "set_3.difference(set_4)"
   ]
  },
  {
   "cell_type": "markdown",
   "metadata": {},
   "source": [
    "## Boolean"
   ]
  },
  {
   "cell_type": "code",
   "execution_count": 73,
   "metadata": {},
   "outputs": [],
   "source": [
    "a=True\n",
    "b=False"
   ]
  },
  {
   "cell_type": "code",
   "execution_count": 74,
   "metadata": {},
   "outputs": [
    {
     "name": "stdout",
     "output_type": "stream",
     "text": [
      "True False False\n"
     ]
    }
   ],
   "source": [
    "# 숫자형->부울형\n",
    "print(bool(1),bool(0),bool())"
   ]
  },
  {
   "cell_type": "code",
   "execution_count": 75,
   "metadata": {},
   "outputs": [
    {
     "name": "stdout",
     "output_type": "stream",
     "text": [
      "True False False\n"
     ]
    }
   ],
   "source": [
    "# 문자형 -> 부울형\n",
    "print(bool('A'),bool(''),bool())"
   ]
  },
  {
   "cell_type": "code",
   "execution_count": 77,
   "metadata": {},
   "outputs": [
    {
     "name": "stdout",
     "output_type": "stream",
     "text": [
      "True False\n"
     ]
    }
   ],
   "source": [
    "# 리스트 -> 부울형          튜플 ,딕셔너리, 집합 모두 가능\n",
    "print(bool(['a','b']),bool([]))"
   ]
  },
  {
   "cell_type": "code",
   "execution_count": null,
   "metadata": {},
   "outputs": [],
   "source": []
  }
 ],
 "metadata": {
  "kernelspec": {
   "display_name": "TORCH_CV_38",
   "language": "python",
   "name": "python3"
  },
  "language_info": {
   "codemirror_mode": {
    "name": "ipython",
    "version": 3
   },
   "file_extension": ".py",
   "mimetype": "text/x-python",
   "name": "python",
   "nbconvert_exporter": "python",
   "pygments_lexer": "ipython3",
   "version": "3.8.19"
  }
 },
 "nbformat": 4,
 "nbformat_minor": 2
}

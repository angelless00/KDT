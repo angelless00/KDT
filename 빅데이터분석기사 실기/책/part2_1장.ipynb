{
 "cells": [
  {
   "cell_type": "markdown",
   "metadata": {},
   "source": [
    "# Part2. 데이터 핸들링\n",
    "## 1장 numpy를 활용한 데이터 다루기\n",
    "### Numpy의 배열객체"
   ]
  },
  {
   "cell_type": "code",
   "execution_count": 1,
   "metadata": {},
   "outputs": [
    {
     "data": {
      "text/plain": [
       "array([1, 3, 5, 7, 9])"
      ]
     },
     "execution_count": 1,
     "metadata": {},
     "output_type": "execute_result"
    }
   ],
   "source": [
    "# p.65\n",
    "# Numpy 패키지 불러오기\n",
    "import numpy as np\n",
    "\n",
    "# 1-d array 생성\n",
    "np.array([1,3,5,7,9])"
   ]
  },
  {
   "cell_type": "code",
   "execution_count": 2,
   "metadata": {},
   "outputs": [
    {
     "data": {
      "text/plain": [
       "array('dataedu', dtype='<U7')"
      ]
     },
     "execution_count": 2,
     "metadata": {},
     "output_type": "execute_result"
    }
   ],
   "source": [
    "np.array('dataedu')"
   ]
  },
  {
   "cell_type": "code",
   "execution_count": 3,
   "metadata": {},
   "outputs": [
    {
     "data": {
      "text/plain": [
       "array([0, 1, 2, 3, 4, 5, 6])"
      ]
     },
     "execution_count": 3,
     "metadata": {},
     "output_type": "execute_result"
    }
   ],
   "source": [
    "# arange([(start,)stop(,step)])\n",
    "np.arange(7)"
   ]
  },
  {
   "cell_type": "code",
   "execution_count": 4,
   "metadata": {},
   "outputs": [
    {
     "data": {
      "text/plain": [
       "array([1. , 1.5, 2. , 2.5, 3. , 3.5, 4. , 4.5, 5. , 5.5])"
      ]
     },
     "execution_count": 4,
     "metadata": {},
     "output_type": "execute_result"
    }
   ],
   "source": [
    "# arange는 정수형만 가능한 range 와는 달리 실수도 가능\n",
    "np.arange(1,6,0.5)  # 1에서 5까지 0.5씩 증가하는 실수열 1차원 배열 생성"
   ]
  },
  {
   "cell_type": "code",
   "execution_count": 5,
   "metadata": {},
   "outputs": [
    {
     "ename": "TypeError",
     "evalue": "'float' object cannot be interpreted as an integer",
     "output_type": "error",
     "traceback": [
      "\u001b[1;31m---------------------------------------------------------------------------\u001b[0m",
      "\u001b[1;31mTypeError\u001b[0m                                 Traceback (most recent call last)",
      "Cell \u001b[1;32mIn[5], line 1\u001b[0m\n\u001b[1;32m----> 1\u001b[0m \u001b[38;5;28;43mrange\u001b[39;49m\u001b[43m(\u001b[49m\u001b[38;5;241;43m1\u001b[39;49m\u001b[43m,\u001b[49m\u001b[38;5;241;43m6\u001b[39;49m\u001b[43m,\u001b[49m\u001b[38;5;241;43m0.5\u001b[39;49m\u001b[43m)\u001b[49m  \u001b[38;5;66;03m## 오류!\u001b[39;00m\n",
      "\u001b[1;31mTypeError\u001b[0m: 'float' object cannot be interpreted as an integer"
     ]
    }
   ],
   "source": [
    "range(1,6,0.5)  ## 오류!"
   ]
  },
  {
   "cell_type": "code",
   "execution_count": 6,
   "metadata": {},
   "outputs": [
    {
     "data": {
      "text/plain": [
       "array([1., 1., 1., 1., 1.])"
      ]
     },
     "execution_count": 6,
     "metadata": {},
     "output_type": "execute_result"
    }
   ],
   "source": [
    "# ones(shape)\n",
    "# shape값에 따른 모든 값이 1.(실수)인 배열을 생성\n",
    "np.ones(5)"
   ]
  },
  {
   "cell_type": "code",
   "execution_count": 7,
   "metadata": {},
   "outputs": [
    {
     "data": {
      "text/plain": [
       "array([0., 0., 0., 0., 0.])"
      ]
     },
     "execution_count": 7,
     "metadata": {},
     "output_type": "execute_result"
    }
   ],
   "source": [
    "# zeros(shape)\n",
    "# shape값에 따른 모든 값이 0.(실수)인 배열을 생성\n",
    "np.zeros(5)"
   ]
  },
  {
   "cell_type": "code",
   "execution_count": 8,
   "metadata": {},
   "outputs": [
    {
     "data": {
      "text/plain": [
       "array([4., 4., 4., 4., 4.])"
      ]
     },
     "execution_count": 8,
     "metadata": {},
     "output_type": "execute_result"
    }
   ],
   "source": [
    "# full(shape,fill_value)\n",
    "# shape값에 따른 모든 값이 fill_value인 배열을 생성\n",
    "np.full(5,4.)"
   ]
  },
  {
   "cell_type": "code",
   "execution_count": 9,
   "metadata": {},
   "outputs": [
    {
     "data": {
      "text/plain": [
       "dtype('int32')"
      ]
     },
     "execution_count": 9,
     "metadata": {},
     "output_type": "execute_result"
    }
   ],
   "source": [
    "# 배열객체의 데이터 타입(dtype)\n",
    "# 4가 정수이므로 배열은 정수형이됨\n",
    "np.full(5,4).dtype"
   ]
  },
  {
   "cell_type": "code",
   "execution_count": 10,
   "metadata": {},
   "outputs": [
    {
     "data": {
      "text/plain": [
       "dtype('float64')"
      ]
     },
     "execution_count": 10,
     "metadata": {},
     "output_type": "execute_result"
    }
   ],
   "source": [
    "# 4.실수형이므로 배열은 실수형이 됨\n",
    "np.full(5,4.).dtype"
   ]
  },
  {
   "cell_type": "code",
   "execution_count": 11,
   "metadata": {},
   "outputs": [
    {
     "data": {
      "text/plain": [
       "dtype('float64')"
      ]
     },
     "execution_count": 11,
     "metadata": {},
     "output_type": "execute_result"
    }
   ],
   "source": [
    "# 4가 정수이지만, dtype인자를 통해 float로 지정하면 실수형이됨\n",
    "np.full(5,4,dtype='float').dtype"
   ]
  },
  {
   "cell_type": "markdown",
   "metadata": {},
   "source": [
    "#### 2차원배열"
   ]
  },
  {
   "cell_type": "code",
   "execution_count": 12,
   "metadata": {},
   "outputs": [
    {
     "data": {
      "text/plain": [
       "array([[ 1,  3,  5,  7,  9],\n",
       "       [ 2,  4,  6,  8, 10]])"
      ]
     },
     "execution_count": 12,
     "metadata": {},
     "output_type": "execute_result"
    }
   ],
   "source": [
    "# 2d-array 생성\n",
    "# 리스트 객체를 2차원 배열로\n",
    "np.array([[1,3,5,7,9],[2,4,6,8,10]])    # 2행5열"
   ]
  },
  {
   "cell_type": "code",
   "execution_count": 13,
   "metadata": {},
   "outputs": [
    {
     "data": {
      "text/plain": [
       "array([[1, 2, 3],\n",
       "       [4, 5, 6],\n",
       "       [7, 8, 9]])"
      ]
     },
     "execution_count": 13,
     "metadata": {},
     "output_type": "execute_result"
    }
   ],
   "source": [
    "np.array([[1,2,3],[4,5,6],[7,8,9]]) # 3행3열"
   ]
  },
  {
   "cell_type": "code",
   "execution_count": 14,
   "metadata": {},
   "outputs": [
    {
     "data": {
      "text/plain": [
       "array([[1, 1, 1, 1, 1],\n",
       "       [1, 1, 1, 1, 1]])"
      ]
     },
     "execution_count": 14,
     "metadata": {},
     "output_type": "execute_result"
    }
   ],
   "source": [
    "# 모든값이 1(정수)이고 행의 수가2, 열의 수가 5개인 2차원 배열 생성\n",
    "np.ones((2,5),dtype='int')  # dtype생략할 경우 실수로 자동생성"
   ]
  },
  {
   "cell_type": "code",
   "execution_count": 15,
   "metadata": {},
   "outputs": [
    {
     "data": {
      "text/plain": [
       "array([[0, 0, 0, 0, 0],\n",
       "       [0, 0, 0, 0, 0]])"
      ]
     },
     "execution_count": 15,
     "metadata": {},
     "output_type": "execute_result"
    }
   ],
   "source": [
    "# 모든값이 0(정수)이고 행의 수가2, 열의 수가 5개인 2차원 배열 생성\n",
    "np.zeros((2,5),dtype='int')  # dtype생략할 경우 실수로 자동생성"
   ]
  },
  {
   "cell_type": "code",
   "execution_count": 16,
   "metadata": {},
   "outputs": [
    {
     "data": {
      "text/plain": [
       "array([[5, 5, 5, 5, 5],\n",
       "       [5, 5, 5, 5, 5]])"
      ]
     },
     "execution_count": 16,
     "metadata": {},
     "output_type": "execute_result"
    }
   ],
   "source": [
    "# 모든값이 5(정수)이고 행의 수가2, 열의 수가 5개인 2차원 배열 생성\n",
    "np.full((2,5),5,dtype='int')"
   ]
  },
  {
   "cell_type": "code",
   "execution_count": 17,
   "metadata": {},
   "outputs": [
    {
     "data": {
      "text/plain": [
       "array([[1., 0., 0., 0., 0.],\n",
       "       [0., 1., 0., 0., 0.],\n",
       "       [0., 0., 1., 0., 0.],\n",
       "       [0., 0., 0., 1., 0.],\n",
       "       [0., 0., 0., 0., 1.]])"
      ]
     },
     "execution_count": 17,
     "metadata": {},
     "output_type": "execute_result"
    }
   ],
   "source": [
    "# 주 대각성분이 1인 행과 열의 수가 5개인 정사각 2차원 배열 생성 (항등행렬과 유사)\n",
    "np.identity(5)"
   ]
  },
  {
   "cell_type": "code",
   "execution_count": 18,
   "metadata": {},
   "outputs": [
    {
     "data": {
      "text/plain": [
       "array([[[ 1,  2,  3,  4],\n",
       "        [ 5,  6,  7,  8]],\n",
       "\n",
       "       [[ 2,  4,  6,  8],\n",
       "        [10, 12, 14, 16]],\n",
       "\n",
       "       [[ 1,  3,  5,  7],\n",
       "        [ 9, 11, 13, 15]]])"
      ]
     },
     "execution_count": 18,
     "metadata": {},
     "output_type": "execute_result"
    }
   ],
   "source": [
    "# 3d-array 생성\n",
    "# 리스트 객체를 3차원배열로\n",
    "np.array([[[1,2,3,4],[5,6,7,8]], # 0층\n",
    "           [[2,4,6,8],[10,12,14,16]],   # 1층\n",
    "           [[1,3,5,7],[9,11,13,15]] #2층\n",
    "           ])   # 3층 2행 4열"
   ]
  },
  {
   "cell_type": "code",
   "execution_count": 19,
   "metadata": {},
   "outputs": [
    {
     "data": {
      "text/plain": [
       "array([[[1, 1, 1, 1],\n",
       "        [1, 1, 1, 1]],\n",
       "\n",
       "       [[1, 1, 1, 1],\n",
       "        [1, 1, 1, 1]],\n",
       "\n",
       "       [[1, 1, 1, 1],\n",
       "        [1, 1, 1, 1]]])"
      ]
     },
     "execution_count": 19,
     "metadata": {},
     "output_type": "execute_result"
    }
   ],
   "source": [
    "# 모든 값이 1이고 3층 2행 4열인 3차원 배열 생성\n",
    "np.ones((3,2,4),dtype='int')    # dtype 생략할 경우 실수로 자동 생성"
   ]
  },
  {
   "cell_type": "code",
   "execution_count": 20,
   "metadata": {},
   "outputs": [
    {
     "data": {
      "text/plain": [
       "array([[[5, 5, 5, 5],\n",
       "        [5, 5, 5, 5]],\n",
       "\n",
       "       [[5, 5, 5, 5],\n",
       "        [5, 5, 5, 5]],\n",
       "\n",
       "       [[5, 5, 5, 5],\n",
       "        [5, 5, 5, 5]]])"
      ]
     },
     "execution_count": 20,
     "metadata": {},
     "output_type": "execute_result"
    }
   ],
   "source": [
    "# 모든값이 5이고 3층 2행 4열인 3차원 배열생성\n",
    "np.full((3,2,4),5)"
   ]
  },
  {
   "cell_type": "markdown",
   "metadata": {},
   "source": [
    "### ndarray 정보 확인"
   ]
  },
  {
   "cell_type": "code",
   "execution_count": 21,
   "metadata": {},
   "outputs": [],
   "source": [
    "# ndarray 생성\n",
    "# 1d arrray\n",
    "arr_1d=np.array([1,2,3,4])\n",
    "\n",
    "# 2d array\n",
    "arr_2d=np.array([[1,2,3,4],[5,6,7,8]])  # 2행 4열\n",
    "\n",
    "# 3d array\n",
    "arr_3d=np.array([\n",
    "    [[1,2,3,4],[5,6,7,8]],   # 0층\n",
    "     [[2,4,6,8],[10,12,14,16]], # 1층\n",
    "     [[1,3,5,7],[9,11,13,15]]    # 2층   \n",
    "     ])     # 3층 2행 4열"
   ]
  },
  {
   "cell_type": "code",
   "execution_count": 22,
   "metadata": {},
   "outputs": [
    {
     "name": "stdout",
     "output_type": "stream",
     "text": [
      "(4,)\n",
      "(2, 4)\n"
     ]
    }
   ],
   "source": [
    "# .shape \n",
    "# 배열 객체의 [층,]행,[열]의 수\n",
    "print(arr_1d.shape) # 1d-array 의 경우 길이정보가 (길이,) 같은 형태로 반환됨\n",
    "print(arr_2d.shape)"
   ]
  },
  {
   "cell_type": "code",
   "execution_count": 23,
   "metadata": {},
   "outputs": [
    {
     "name": "stdout",
     "output_type": "stream",
     "text": [
      "4\n",
      "8\n",
      "24\n"
     ]
    }
   ],
   "source": [
    "# .size\n",
    "# 배열객체의 총 원소의 수\n",
    "print(arr_1d.size)\n",
    "print(arr_2d.size)\n",
    "print(arr_3d.size)"
   ]
  },
  {
   "cell_type": "code",
   "execution_count": 24,
   "metadata": {},
   "outputs": [
    {
     "name": "stdout",
     "output_type": "stream",
     "text": [
      "1\n",
      "2\n",
      "3\n"
     ]
    }
   ],
   "source": [
    "# .ndim\n",
    "# 배열객체의 차원의 수\n",
    "print(arr_1d.ndim)\n",
    "print(arr_2d.ndim)\n",
    "print(arr_3d.ndim)"
   ]
  },
  {
   "cell_type": "markdown",
   "metadata": {},
   "source": [
    "## Numpy의 연산\n",
    "### ndarray 인덱싱과 슬라이싱"
   ]
  },
  {
   "cell_type": "code",
   "execution_count": 25,
   "metadata": {},
   "outputs": [
    {
     "data": {
      "text/plain": [
       "5"
      ]
     },
     "execution_count": 25,
     "metadata": {},
     "output_type": "execute_result"
    }
   ],
   "source": [
    "# 인덱싱\n",
    "# 1d-array 객체 생성\n",
    "arr_1d=np.array([1,2,3,4,5])\n",
    "arr_1d[0]   # 가장 처음 (0번)으로부터 값 하나 참조\n",
    "arr_1d[2]   # 2번 인덱스 위치로부터 값 하나 참조\n",
    "arr_1d[-1]  # 음수로도 가능"
   ]
  },
  {
   "cell_type": "code",
   "execution_count": 26,
   "metadata": {},
   "outputs": [
    {
     "name": "stdout",
     "output_type": "stream",
     "text": [
      "1\n"
     ]
    }
   ],
   "source": [
    "# 2d-array 객체 생성\n",
    "arr_2d=np.array([[1,2,3],[4,5,7],[6,8,9],[11,17,19]])   #4행 3열\n",
    "\n",
    "# case1\n",
    "# 처음(0번) 행/열 인덱스로부터 값 하나 참조\n",
    "print(arr_2d[0,0])"
   ]
  },
  {
   "cell_type": "code",
   "execution_count": 27,
   "metadata": {},
   "outputs": [
    {
     "name": "stdout",
     "output_type": "stream",
     "text": [
      "1\n"
     ]
    }
   ],
   "source": [
    "# case1(음수로 할 경우)\n",
    "# -4번 행 인덱스와 -3번 열 인덱스로 부터 값 하나 참조\n",
    "print(arr_2d[-4,-3])"
   ]
  },
  {
   "cell_type": "code",
   "execution_count": 28,
   "metadata": {},
   "outputs": [
    {
     "name": "stdout",
     "output_type": "stream",
     "text": [
      "8\n"
     ]
    }
   ],
   "source": [
    "# case2\n",
    "# 2번 행 인덱스와 1번열 인덱스로 부터 값 하나 참조\n",
    "print(arr_2d[2,1])"
   ]
  },
  {
   "cell_type": "markdown",
   "metadata": {},
   "source": [
    "### 슬라이싱"
   ]
  },
  {
   "cell_type": "code",
   "execution_count": 29,
   "metadata": {},
   "outputs": [],
   "source": [
    "# 슬라이싱\n",
    "# 1d-array객체 생성\n",
    "arr_1d=np.array([1,2,3,4,5])"
   ]
  },
  {
   "cell_type": "code",
   "execution_count": 30,
   "metadata": {},
   "outputs": [
    {
     "name": "stdout",
     "output_type": "stream",
     "text": [
      "[1 2]\n"
     ]
    }
   ],
   "source": [
    "# case1\n",
    "# 처음(0번)부터 2번 인덱스 번호 사이의 구간 추출\n",
    "print(arr_1d[0:2])"
   ]
  },
  {
   "cell_type": "code",
   "execution_count": 31,
   "metadata": {},
   "outputs": [
    {
     "name": "stdout",
     "output_type": "stream",
     "text": [
      "[1 2]\n"
     ]
    }
   ],
   "source": [
    "print(arr_1d[:2])   # k1=0으로 생략 가능"
   ]
  },
  {
   "cell_type": "code",
   "execution_count": 32,
   "metadata": {},
   "outputs": [
    {
     "name": "stdout",
     "output_type": "stream",
     "text": [
      "[2 3 4]\n"
     ]
    }
   ],
   "source": [
    "# case2\n",
    "# 1번부터 4번사이의 인덱스 번호 사이의 구간 추출\n",
    "print(arr_1d[1:4])"
   ]
  },
  {
   "cell_type": "code",
   "execution_count": 33,
   "metadata": {},
   "outputs": [
    {
     "name": "stdout",
     "output_type": "stream",
     "text": [
      "[2 3 4]\n"
     ]
    }
   ],
   "source": [
    "# -4번부터 -1번사이의 인덱스 번호 사이의 구간 추출\n",
    "print(arr_1d[-4:-1])"
   ]
  },
  {
   "cell_type": "code",
   "execution_count": 34,
   "metadata": {},
   "outputs": [
    {
     "name": "stdout",
     "output_type": "stream",
     "text": [
      "[4 5]\n"
     ]
    }
   ],
   "source": [
    "# case3\n",
    "# 3번부터 마지막 5번\n",
    "print(arr_1d[3:5])"
   ]
  },
  {
   "cell_type": "code",
   "execution_count": 35,
   "metadata": {},
   "outputs": [
    {
     "name": "stdout",
     "output_type": "stream",
     "text": [
      "[4 5]\n"
     ]
    }
   ],
   "source": [
    "# 3번부터 마지막\n",
    "print(arr_1d[3:])"
   ]
  },
  {
   "cell_type": "code",
   "execution_count": 37,
   "metadata": {},
   "outputs": [],
   "source": [
    "# 2d-array 객체 생성\n",
    "arr_2d=np.array([[1,2,3,5],\n",
    "                 [1,3,5,7],\n",
    "                 [2,4,6,9],\n",
    "                 [7,11,13,17]]) # 4행 4열"
   ]
  },
  {
   "cell_type": "code",
   "execution_count": 38,
   "metadata": {},
   "outputs": [
    {
     "name": "stdout",
     "output_type": "stream",
     "text": [
      "[1 1 2 7]\n",
      "[1 1 2 7]\n",
      "[1 1 2 7]\n"
     ]
    }
   ],
   "source": [
    "# case1\n",
    "# 행:전체\n",
    "# 열: 처음부터 1번까지\n",
    "print(arr_2d[0:4,0])\n",
    "print(arr_2d[:4,0])\n",
    "print(arr_2d[:,0])"
   ]
  },
  {
   "cell_type": "code",
   "execution_count": 39,
   "metadata": {},
   "outputs": [
    {
     "name": "stdout",
     "output_type": "stream",
     "text": [
      "[[1 2 3]\n",
      " [1 3 5]\n",
      " [2 4 6]]\n",
      "[[1 2 3]\n",
      " [1 3 5]\n",
      " [2 4 6]]\n",
      "[[1 2 3]\n",
      " [1 3 5]\n",
      " [2 4 6]]\n"
     ]
    }
   ],
   "source": [
    "# case2\n",
    "# 행/열 : 처음부터 인덱스 3번까지\n",
    "print(arr_2d[0:3,0:3])\n",
    "print(arr_2d[:3,:3])\n",
    "print(arr_2d[:-1,:-1])"
   ]
  },
  {
   "cell_type": "markdown",
   "metadata": {},
   "source": [
    "### nparray 원소별 연산"
   ]
  },
  {
   "cell_type": "code",
   "execution_count": 40,
   "metadata": {},
   "outputs": [
    {
     "name": "stdout",
     "output_type": "stream",
     "text": [
      "[  0   1  -4   9 -16  25]\n"
     ]
    }
   ],
   "source": [
    "# 단일 배열객체에 대한 범용 함수\n",
    "# 1d-array 객체 생성\n",
    "arr=np.array([0,1,-4,9,-16,25])\n",
    "print(arr)"
   ]
  },
  {
   "cell_type": "code",
   "execution_count": 41,
   "metadata": {},
   "outputs": [
    {
     "name": "stdout",
     "output_type": "stream",
     "text": [
      "[ 0  1  4  9 16 25]\n"
     ]
    }
   ],
   "source": [
    "# abs : 원소별 절대값을 반환(abs는 파이썬 기본 내장함수로도 가능함)\n",
    "arr_abs=np.abs(arr)\n",
    "print(arr_abs)"
   ]
  },
  {
   "cell_type": "code",
   "execution_count": 42,
   "metadata": {},
   "outputs": [
    {
     "name": "stdout",
     "output_type": "stream",
     "text": [
      "[ 0.  1.  4.  9. 16. 25.]\n"
     ]
    }
   ],
   "source": [
    "# ffabs : 원소의절대값을 반환 (abs보다 빠름)\n",
    "arr_fabs=np.fabs(arr)\n",
    "print(arr_fabs)"
   ]
  },
  {
   "cell_type": "code",
   "execution_count": 43,
   "metadata": {},
   "outputs": [
    {
     "name": "stdout",
     "output_type": "stream",
     "text": [
      "[ 0.  1. nan  3. nan  5.]\n"
     ]
    },
    {
     "name": "stderr",
     "output_type": "stream",
     "text": [
      "C:\\Users\\KDP-30\\AppData\\Local\\Temp\\ipykernel_2108\\1793923975.py:3: RuntimeWarning: invalid value encountered in sqrt\n",
      "  arr_sqrt=np.sqrt(arr)\n"
     ]
    }
   ],
   "source": [
    "# sqrt : 원소별 제곱근 값 반환\n",
    "# 음수는 nan 반환됨\n",
    "arr_sqrt=np.sqrt(arr)\n",
    "print(arr_sqrt)"
   ]
  },
  {
   "cell_type": "code",
   "execution_count": 44,
   "metadata": {},
   "outputs": [
    {
     "name": "stdout",
     "output_type": "stream",
     "text": [
      "[  0   1  16  81 256 625]\n"
     ]
    }
   ],
   "source": [
    "# square : 원소별 제곱 값은 반환\n",
    "arr_square=np.square(arr)\n",
    "print(arr_square)"
   ]
  },
  {
   "cell_type": "code",
   "execution_count": 45,
   "metadata": {},
   "outputs": [
    {
     "name": "stdout",
     "output_type": "stream",
     "text": [
      "[1.00000000e+00 2.71828183e+00 1.83156389e-02 8.10308393e+03\n",
      " 1.12535175e-07 7.20048993e+10]\n"
     ]
    }
   ],
   "source": [
    "# exp : 원소별 밑이 e인 지수 함수 값을 반환\n",
    "arr_exp=np.exp(arr)\n",
    "print(arr_exp)"
   ]
  },
  {
   "cell_type": "code",
   "execution_count": 46,
   "metadata": {},
   "outputs": [
    {
     "name": "stdout",
     "output_type": "stream",
     "text": [
      "[      -inf 0.                nan 2.19722458        nan 3.21887582]\n"
     ]
    },
    {
     "name": "stderr",
     "output_type": "stream",
     "text": [
      "C:\\Users\\KDP-30\\AppData\\Local\\Temp\\ipykernel_2108\\4158173582.py:3: RuntimeWarning: divide by zero encountered in log\n",
      "  arr_log=np.log(arr)\n",
      "C:\\Users\\KDP-30\\AppData\\Local\\Temp\\ipykernel_2108\\4158173582.py:3: RuntimeWarning: invalid value encountered in log\n",
      "  arr_log=np.log(arr)\n"
     ]
    }
   ],
   "source": [
    "# log: 원소별 자연로그 값을 반환\n",
    "# 음수는 nan, 0은 -inf반환됨\n",
    "arr_log=np.log(arr)\n",
    "print(arr_log)"
   ]
  },
  {
   "cell_type": "code",
   "execution_count": 47,
   "metadata": {},
   "outputs": [
    {
     "name": "stdout",
     "output_type": "stream",
     "text": [
      "[      -inf 0.                nan 0.95424251        nan 1.39794001]\n"
     ]
    },
    {
     "name": "stderr",
     "output_type": "stream",
     "text": [
      "C:\\Users\\KDP-30\\AppData\\Local\\Temp\\ipykernel_2108\\3028066161.py:3: RuntimeWarning: divide by zero encountered in log10\n",
      "  arr_log10=np.log10(arr)\n",
      "C:\\Users\\KDP-30\\AppData\\Local\\Temp\\ipykernel_2108\\3028066161.py:3: RuntimeWarning: invalid value encountered in log10\n",
      "  arr_log10=np.log10(arr)\n"
     ]
    }
   ],
   "source": [
    "# log10: 원소별 사용로그 값을 반환\n",
    "# 음수는 nan,0은  -inf 반환됨\n",
    "arr_log10=np.log10(arr)\n",
    "print(arr_log10)"
   ]
  },
  {
   "cell_type": "code",
   "execution_count": 48,
   "metadata": {},
   "outputs": [
    {
     "name": "stdout",
     "output_type": "stream",
     "text": [
      "[ 0  1 -1  1 -1  1]\n"
     ]
    }
   ],
   "source": [
    "# sign : 원소별 부호 값을 반환\n",
    "# 양수면 1, 음수면-1, 0은 0을 반환\n",
    "arr_sign=np.sign(arr)\n",
    "print(arr_sign)"
   ]
  },
  {
   "cell_type": "code",
   "execution_count": 49,
   "metadata": {},
   "outputs": [
    {
     "name": "stdout",
     "output_type": "stream",
     "text": [
      "[ 1.15  -2.33   3.457 -4.095]\n"
     ]
    }
   ],
   "source": [
    "# 단일 배열객체의 소수점을 처리하는 범용 함수\n",
    "# 1d-array객체 생성\n",
    "arr= np.array([1.15,-2.33,3.457,-4.095])\n",
    "print(arr)"
   ]
  },
  {
   "cell_type": "code",
   "execution_count": 50,
   "metadata": {},
   "outputs": [
    {
     "name": "stdout",
     "output_type": "stream",
     "text": [
      "[ 1. -2.  3. -4.]\n"
     ]
    }
   ],
   "source": [
    "# round: 원소별 소수점을 원하는 자릿수까지 반올림한 값을 반환\n",
    "arr_round=np.round(arr) # default는 0\n",
    "print(arr_round)"
   ]
  },
  {
   "cell_type": "code",
   "execution_count": 51,
   "metadata": {},
   "outputs": [
    {
     "name": "stdout",
     "output_type": "stream",
     "text": [
      "[ 1.2 -2.3  3.5 -4.1]\n"
     ]
    }
   ],
   "source": [
    "arr_round_decimal_1=np.round(arr,1) # decimals 인자 값만 입력해도 됨\n",
    "print(arr_round_decimal_1)"
   ]
  },
  {
   "cell_type": "code",
   "execution_count": 52,
   "metadata": {},
   "outputs": [
    {
     "name": "stdout",
     "output_type": "stream",
     "text": [
      "[ 2. -2.  4. -4.]\n"
     ]
    }
   ],
   "source": [
    "# ceil 원소별 소수점을 올림한 값을 반환\n",
    "arr_ceil=np.ceil(arr)\n",
    "print(arr_ceil)"
   ]
  },
  {
   "cell_type": "code",
   "execution_count": 53,
   "metadata": {},
   "outputs": [
    {
     "name": "stdout",
     "output_type": "stream",
     "text": [
      "[ 1. -3.  3. -5.]\n"
     ]
    }
   ],
   "source": [
    "# floor 원소별 소수점 내림한 값을 반환\n",
    "arr_floor=np.floor(arr)\n",
    "print(arr_floor)"
   ]
  },
  {
   "cell_type": "code",
   "execution_count": 55,
   "metadata": {},
   "outputs": [
    {
     "name": "stdout",
     "output_type": "stream",
     "text": [
      "[ 1. -2.  3. -4.]\n"
     ]
    }
   ],
   "source": [
    "# trunc 원소별 소수점을 잘라버린 값을 반환\n",
    "arr_trunc=np.trunc(arr)\n",
    "print(arr_trunc)"
   ]
  },
  {
   "cell_type": "code",
   "execution_count": 57,
   "metadata": {},
   "outputs": [
    {
     "name": "stdout",
     "output_type": "stream",
     "text": [
      "[0 1 2 3 4]\n"
     ]
    }
   ],
   "source": [
    "# 서로 배열객체에 대한 범용 함수\n",
    "# 1d-array 객체 생성\n",
    "arr_1=np.arange(5)\n",
    "print(arr_1)"
   ]
  },
  {
   "cell_type": "code",
   "execution_count": 59,
   "metadata": {},
   "outputs": [
    {
     "name": "stdout",
     "output_type": "stream",
     "text": [
      "[1 3 5 7 9]\n"
     ]
    }
   ],
   "source": [
    "arr_2=np.arange(1,10,step=2)\n",
    "print(arr_2)"
   ]
  },
  {
   "cell_type": "code",
   "execution_count": 60,
   "metadata": {},
   "outputs": [
    {
     "name": "stdout",
     "output_type": "stream",
     "text": [
      "[ 1  4  7 10 13]\n"
     ]
    }
   ],
   "source": [
    "# add 두배열 객체의 원소별 덧셈\n",
    "arr_add_1=np.add(arr_1,arr_2)\n",
    "print(arr_add_1)"
   ]
  },
  {
   "cell_type": "code",
   "execution_count": 61,
   "metadata": {},
   "outputs": [
    {
     "name": "stdout",
     "output_type": "stream",
     "text": [
      "[ 1  4  7 10 13]\n"
     ]
    }
   ],
   "source": [
    "# 연산자 +로 대신가능\n",
    "arr_add_2=arr_1+arr_2\n",
    "print(arr_add_2)"
   ]
  },
  {
   "cell_type": "code",
   "execution_count": 62,
   "metadata": {},
   "outputs": [
    {
     "name": "stdout",
     "output_type": "stream",
     "text": [
      "[-1 -2 -3 -4 -5]\n"
     ]
    }
   ],
   "source": [
    "# substract 두 배열 객체의 원소별 뺼셈\n",
    "arr_substract_1=np.subtract(arr_1,arr_2)\n",
    "print(arr_substract_1)"
   ]
  },
  {
   "cell_type": "code",
   "execution_count": 63,
   "metadata": {},
   "outputs": [
    {
     "name": "stdout",
     "output_type": "stream",
     "text": [
      "[-1 -2 -3 -4 -5]\n"
     ]
    }
   ],
   "source": [
    "# 연산자 -로 대신가능\n",
    "arr_substract_2=arr_1-arr_2\n",
    "print(arr_substract_2)"
   ]
  },
  {
   "cell_type": "code",
   "execution_count": 64,
   "metadata": {},
   "outputs": [
    {
     "name": "stdout",
     "output_type": "stream",
     "text": [
      "[ 0  3 10 21 36]\n"
     ]
    }
   ],
   "source": [
    "# multiply 두 배열객체의 원소별 곱셈\n",
    "arr_multiply_1=np.multiply(arr_1,arr_2)\n",
    "print(arr_multiply_1)"
   ]
  },
  {
   "cell_type": "code",
   "execution_count": 65,
   "metadata": {},
   "outputs": [
    {
     "name": "stdout",
     "output_type": "stream",
     "text": [
      "[ 0  3 10 21 36]\n"
     ]
    }
   ],
   "source": [
    "# 연산자 *로 대체 가능\n",
    "arr_multiply_2=arr_1*arr_2\n",
    "print(arr_multiply_2)"
   ]
  },
  {
   "cell_type": "code",
   "execution_count": 66,
   "metadata": {},
   "outputs": [
    {
     "name": "stdout",
     "output_type": "stream",
     "text": [
      "[0.         0.33333333 0.4        0.42857143 0.44444444]\n"
     ]
    }
   ],
   "source": [
    "# divide 두 배열 객체의 원소별 나눗셈\n",
    "arr_divide_1=np.divide(arr_1,arr_2)\n",
    "print(arr_divide_1)"
   ]
  },
  {
   "cell_type": "code",
   "execution_count": 67,
   "metadata": {},
   "outputs": [
    {
     "name": "stdout",
     "output_type": "stream",
     "text": [
      "[0.         0.33333333 0.4        0.42857143 0.44444444]\n"
     ]
    }
   ],
   "source": [
    "# 연산자 /로 대체 가능\n",
    "arr_divide_2=arr_1/arr_2\n",
    "print(arr_divide_2)"
   ]
  },
  {
   "cell_type": "code",
   "execution_count": 68,
   "metadata": {},
   "outputs": [
    {
     "name": "stdout",
     "output_type": "stream",
     "text": [
      "[0 1 2 3 4]\n"
     ]
    }
   ],
   "source": [
    "# mod 두 배열 객체의 원소별 나눈 후 나머지\n",
    "arr_mod_1=np.mod(arr_1,arr_2)\n",
    "print(arr_mod_1)"
   ]
  },
  {
   "cell_type": "code",
   "execution_count": 70,
   "metadata": {},
   "outputs": [
    {
     "name": "stdout",
     "output_type": "stream",
     "text": [
      "[0 1 2 3 4]\n"
     ]
    }
   ],
   "source": [
    "# 연산자 %로 대체가능\n",
    "arr_mod_2=arr_1%arr_2\n",
    "print(arr_mod_2)"
   ]
  },
  {
   "cell_type": "code",
   "execution_count": 71,
   "metadata": {},
   "outputs": [
    {
     "name": "stdout",
     "output_type": "stream",
     "text": [
      "[1 2 3]\n"
     ]
    }
   ],
   "source": [
    "# 두 배열의 객체가 서로 다른 길이, 차원의 shape를 가질 경우\n",
    "# case1. 길이가 다른 경우\n",
    "# 길이가 3인 1d array생성\n",
    "arr_1d_3=np.array([1,2,3])\n",
    "print(arr_1d_3) # 확인"
   ]
  },
  {
   "cell_type": "code",
   "execution_count": 72,
   "metadata": {},
   "outputs": [
    {
     "name": "stdout",
     "output_type": "stream",
     "text": [
      "(3,)\n"
     ]
    }
   ],
   "source": [
    "print(arr_1d_3.shape)"
   ]
  },
  {
   "cell_type": "code",
   "execution_count": 73,
   "metadata": {},
   "outputs": [
    {
     "name": "stdout",
     "output_type": "stream",
     "text": [
      "[5]\n"
     ]
    }
   ],
   "source": [
    "# 길이가 1인 1d array 생성\n",
    "arr_1d_1=np.array([5])\n",
    "print(arr_1d_1) #확인"
   ]
  },
  {
   "cell_type": "code",
   "execution_count": 74,
   "metadata": {},
   "outputs": [
    {
     "name": "stdout",
     "output_type": "stream",
     "text": [
      "(1,)\n"
     ]
    }
   ],
   "source": [
    "print(arr_1d_1.shape)"
   ]
  },
  {
   "cell_type": "code",
   "execution_count": 75,
   "metadata": {},
   "outputs": [
    {
     "name": "stdout",
     "output_type": "stream",
     "text": [
      "[6 7 8]\n"
     ]
    }
   ],
   "source": [
    "# 두배열 객체의 합은 길이가 3인 1d array가 됨\n",
    "arr_add=arr_1d_3+arr_1d_1\n",
    "print(arr_add)  # 확인"
   ]
  },
  {
   "cell_type": "code",
   "execution_count": 77,
   "metadata": {},
   "outputs": [],
   "source": [
    "# case2 차원이 다른경우\n",
    "arr_2d_3x3=np.array([[1,4,7],[2,5,8],[3,6,9]])\n",
    "arr_1d_3=np.array([1,0,-1])"
   ]
  },
  {
   "cell_type": "code",
   "execution_count": 78,
   "metadata": {},
   "outputs": [
    {
     "name": "stdout",
     "output_type": "stream",
     "text": [
      "[[2 4 6]\n",
      " [3 5 7]\n",
      " [4 6 8]]\n"
     ]
    }
   ],
   "source": [
    "arr_add=arr_2d_3x3+arr_1d_3\n",
    "print(arr_add)"
   ]
  },
  {
   "cell_type": "code",
   "execution_count": null,
   "metadata": {},
   "outputs": [],
   "source": []
  }
 ],
 "metadata": {
  "kernelspec": {
   "display_name": "TORCH_CV_38",
   "language": "python",
   "name": "python3"
  },
  "language_info": {
   "codemirror_mode": {
    "name": "ipython",
    "version": 3
   },
   "file_extension": ".py",
   "mimetype": "text/x-python",
   "name": "python",
   "nbconvert_exporter": "python",
   "pygments_lexer": "ipython3",
   "version": "3.8.19"
  }
 },
 "nbformat": 4,
 "nbformat_minor": 2
}

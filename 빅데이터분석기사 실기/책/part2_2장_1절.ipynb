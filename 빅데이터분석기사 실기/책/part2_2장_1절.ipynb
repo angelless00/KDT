{
 "cells": [
  {
   "cell_type": "markdown",
   "metadata": {},
   "source": [
    "## Pandas를 활용한 데이터 다루기\n",
    "### Series와 DataFrame\n",
    "#### Series"
   ]
  },
  {
   "cell_type": "code",
   "execution_count": 1,
   "metadata": {},
   "outputs": [],
   "source": [
    "# 패키지 불러오기\n",
    "import pandas as pd\n",
    "import numpy as np"
   ]
  },
  {
   "cell_type": "code",
   "execution_count": 2,
   "metadata": {},
   "outputs": [
    {
     "name": "stdout",
     "output_type": "stream",
     "text": [
      "0    이유리\n",
      "1    최민준\n",
      "2    김민지\n",
      "dtype: object\n"
     ]
    }
   ],
   "source": [
    "# 1. object 에 리스트 객체 이용\n",
    "obj=['이유리','최민준','김민지']\n",
    "series_1=pd.Series(obj)\n",
    "print(series_1)"
   ]
  },
  {
   "cell_type": "code",
   "execution_count": 3,
   "metadata": {},
   "outputs": [
    {
     "name": "stdout",
     "output_type": "stream",
     "text": [
      "A    이유리\n",
      "B    최민준\n",
      "C    김민지\n",
      "dtype: object\n"
     ]
    }
   ],
   "source": [
    "# 원하는 인덱스 지정\n",
    "idx=['A','B','C'] # 인덱스 리스트\n",
    "series_2=pd.Series(obj,index=idx)   # 시리즈 생성\n",
    "print(series_2)"
   ]
  },
  {
   "cell_type": "code",
   "execution_count": 5,
   "metadata": {},
   "outputs": [
    {
     "name": "stdout",
     "output_type": "stream",
     "text": [
      "A    이유리\n",
      "B    최민준\n",
      "C    김민지\n",
      "dtype: object\n"
     ]
    }
   ],
   "source": [
    "# 2. object에 딕셔너리 객체 이용\n",
    "obj={'A':'이유리','B':'최민준','C':'김민지'}    # 딕셔너리\n",
    "series_3=pd.Series(obj)\n",
    "print(series_3)"
   ]
  },
  {
   "cell_type": "code",
   "execution_count": 6,
   "metadata": {},
   "outputs": [
    {
     "name": "stdout",
     "output_type": "stream",
     "text": [
      "['이유리' '최민준' '김민지']\n"
     ]
    }
   ],
   "source": [
    "# 시리즈 정보 확인 메소드\n",
    "# .values\n",
    "# 시리즈 객체 내 값을 배열 형태로 반환\n",
    "print(series_1.values)"
   ]
  },
  {
   "cell_type": "code",
   "execution_count": 9,
   "metadata": {},
   "outputs": [
    {
     "name": "stdout",
     "output_type": "stream",
     "text": [
      "RangeIndex(start=0, stop=3, step=1)\n"
     ]
    }
   ],
   "source": [
    "# .index\n",
    "# 시리즈객체 내 인덱스를 레이블 형태로 반환\n",
    "print(series_1.index)"
   ]
  },
  {
   "cell_type": "code",
   "execution_count": 10,
   "metadata": {},
   "outputs": [
    {
     "name": "stdout",
     "output_type": "stream",
     "text": [
      "object\n"
     ]
    }
   ],
   "source": [
    "# .dtypes\n",
    "# 시리즈객체의 데이터 타입 확인\n",
    "print(series_1.dtype)"
   ]
  },
  {
   "cell_type": "code",
   "execution_count": 11,
   "metadata": {},
   "outputs": [
    {
     "name": "stdout",
     "output_type": "stream",
     "text": [
      "3\n"
     ]
    }
   ],
   "source": [
    "# .size\n",
    "# 시리즈객체의 총 객체수\n",
    "print(series_1.size)"
   ]
  },
  {
   "cell_type": "code",
   "execution_count": 12,
   "metadata": {},
   "outputs": [
    {
     "name": "stdout",
     "output_type": "stream",
     "text": [
      "RangeIndex(start=0, stop=3, step=1)\n"
     ]
    }
   ],
   "source": [
    "# 시리즈객체의 인덱스 변경\n",
    "print(series_1.index)   # 변경전"
   ]
  },
  {
   "cell_type": "code",
   "execution_count": 14,
   "metadata": {},
   "outputs": [
    {
     "name": "stdout",
     "output_type": "stream",
     "text": [
      "Index(['A', 'B', 'C'], dtype='object')\n"
     ]
    }
   ],
   "source": [
    "series_1.index=['A','B','C']    # 변경\n",
    "print(series_1.index)   # 변경후"
   ]
  },
  {
   "cell_type": "code",
   "execution_count": 17,
   "metadata": {},
   "outputs": [
    {
     "data": {
      "text/plain": [
       "a    22\n",
       "b    33\n",
       "c    27\n",
       "d    18\n",
       "e    38\n",
       "f    19\n",
       "dtype: int64"
      ]
     },
     "execution_count": 17,
     "metadata": {},
     "output_type": "execute_result"
    }
   ],
   "source": [
    "# 인덱싱, 슬라이싱\n",
    "obj=[22,33,27,18,38,19] # 값리스트\n",
    "idx=list('abcdef')\n",
    "sr=pd.Series(obj,index=idx)\n",
    "sr"
   ]
  },
  {
   "cell_type": "code",
   "execution_count": 18,
   "metadata": {},
   "outputs": [
    {
     "name": "stdout",
     "output_type": "stream",
     "text": [
      "38\n",
      "38\n"
     ]
    }
   ],
   "source": [
    "# 인덱싱\n",
    "print(sr[4])    # 위치기반\n",
    "print(sr['e'])  # 레이블기반"
   ]
  },
  {
   "cell_type": "code",
   "execution_count": 19,
   "metadata": {},
   "outputs": [
    {
     "name": "stdout",
     "output_type": "stream",
     "text": [
      "b    33\n",
      "c    27\n",
      "d    18\n",
      "e    38\n",
      "dtype: int64\n",
      "b    33\n",
      "c    27\n",
      "d    18\n",
      "e    38\n",
      "dtype: int64\n"
     ]
    }
   ],
   "source": [
    "# 슬라이싱\n",
    "print(sr[1:5])  # 위치기반\n",
    "print(sr['b':'e'])  # 레이블기반"
   ]
  },
  {
   "cell_type": "code",
   "execution_count": 20,
   "metadata": {},
   "outputs": [
    {
     "data": {
      "text/plain": [
       "a    22\n",
       "d    18\n",
       "e    38\n",
       "dtype: int64"
      ]
     },
     "execution_count": 20,
     "metadata": {},
     "output_type": "execute_result"
    }
   ],
   "source": [
    "# 연속하지 않은 위치\n",
    "idx=[0,3,4] # 위치의 번호를 담은 리스트\n",
    "sr[idx]"
   ]
  },
  {
   "cell_type": "code",
   "execution_count": 21,
   "metadata": {},
   "outputs": [
    {
     "data": {
      "text/plain": [
       "a    22\n",
       "d    18\n",
       "e    38\n",
       "dtype: int64"
      ]
     },
     "execution_count": 21,
     "metadata": {},
     "output_type": "execute_result"
    }
   ],
   "source": [
    "# 연속하지 않은 레이블\n",
    "lbl=['a','d','e']   # 레이블을 담은 리스트\n",
    "sr[lbl]"
   ]
  },
  {
   "cell_type": "code",
   "execution_count": 22,
   "metadata": {},
   "outputs": [
    {
     "data": {
      "text/plain": [
       "count    100.000000\n",
       "mean      49.500000\n",
       "std       29.011492\n",
       "min        0.000000\n",
       "25%       24.750000\n",
       "50%       49.500000\n",
       "75%       74.250000\n",
       "max       99.000000\n",
       "dtype: float64"
      ]
     },
     "execution_count": 22,
     "metadata": {},
     "output_type": "execute_result"
    }
   ],
   "source": [
    "sr_1=pd.Series(range(100))  # 시리즈생성\n",
    "\n",
    "# describe()\n",
    "# 시리즈객체의 요약 통계량에 대한 정보\n",
    "# 총 객체수, 평균, 표준편차, 최솟값, 제1사분위수, 중앙값, 제3사분위수, 최댓값, 데이터타입\n",
    "sr_1.describe()\n"
   ]
  },
  {
   "cell_type": "code",
   "execution_count": 23,
   "metadata": {},
   "outputs": [
    {
     "name": "stdout",
     "output_type": "stream",
     "text": [
      "100\n"
     ]
    }
   ],
   "source": [
    "# .count()\n",
    "# 시리즈의 총 객체수\n",
    "print(sr_1.count())"
   ]
  },
  {
   "cell_type": "code",
   "execution_count": 24,
   "metadata": {},
   "outputs": [
    {
     "name": "stdout",
     "output_type": "stream",
     "text": [
      "49.5\n"
     ]
    }
   ],
   "source": [
    "# .mean()\n",
    "# 시리즈객체의 평균\n",
    "print(sr_1.mean())"
   ]
  },
  {
   "cell_type": "code",
   "execution_count": 25,
   "metadata": {},
   "outputs": [
    {
     "name": "stdout",
     "output_type": "stream",
     "text": [
      "841.6666666666666\n"
     ]
    }
   ],
   "source": [
    "# .var()\n",
    "# 시리즈객체의 분산\n",
    "print(sr_1.var())"
   ]
  },
  {
   "cell_type": "code",
   "execution_count": 26,
   "metadata": {},
   "outputs": [
    {
     "name": "stdout",
     "output_type": "stream",
     "text": [
      "29.011491975882016\n"
     ]
    }
   ],
   "source": [
    "# .std()\n",
    "# 시리즈객체의 표준편차\n",
    "print(sr_1.std())"
   ]
  },
  {
   "cell_type": "code",
   "execution_count": 27,
   "metadata": {},
   "outputs": [
    {
     "name": "stdout",
     "output_type": "stream",
     "text": [
      "0\n"
     ]
    }
   ],
   "source": [
    "# .min()\n",
    "# 시리즈객체의 최솟값\n",
    "print(sr_1.min())"
   ]
  },
  {
   "cell_type": "code",
   "execution_count": 28,
   "metadata": {},
   "outputs": [
    {
     "name": "stdout",
     "output_type": "stream",
     "text": [
      "99\n"
     ]
    }
   ],
   "source": [
    "# .max()\n",
    "# 시리즈객체의 최댓값\n",
    "print(sr_1.max())"
   ]
  },
  {
   "cell_type": "code",
   "execution_count": 29,
   "metadata": {},
   "outputs": [
    {
     "name": "stdout",
     "output_type": "stream",
     "text": [
      "49.5\n"
     ]
    }
   ],
   "source": [
    "# .median()\n",
    "# 시리즈객체의 중앙값\n",
    "print(sr_1.median())"
   ]
  },
  {
   "cell_type": "code",
   "execution_count": 30,
   "metadata": {},
   "outputs": [
    {
     "name": "stdout",
     "output_type": "stream",
     "text": [
      "24.75\n"
     ]
    }
   ],
   "source": [
    "# .quantile()\n",
    "# 시리즈객체의 q*100% 백분위수\n",
    "print(sr_1.quantile(q=0.25))    # 제 1사분위수"
   ]
  },
  {
   "cell_type": "code",
   "execution_count": 33,
   "metadata": {},
   "outputs": [
    {
     "name": "stdout",
     "output_type": "stream",
     "text": [
      "49.5\n"
     ]
    }
   ],
   "source": [
    "print(sr_1.quantile())  # default 중앙값"
   ]
  },
  {
   "cell_type": "code",
   "execution_count": 34,
   "metadata": {},
   "outputs": [
    {
     "name": "stdout",
     "output_type": "stream",
     "text": [
      "74.25\n"
     ]
    }
   ],
   "source": [
    "print(sr_1.quantile(q=0.75))    # 제 3사분위수"
   ]
  },
  {
   "cell_type": "code",
   "execution_count": 37,
   "metadata": {},
   "outputs": [
    {
     "data": {
      "text/plain": [
       "count     7\n",
       "unique    4\n",
       "top       b\n",
       "freq      3\n",
       "dtype: object"
      ]
     },
     "execution_count": 37,
     "metadata": {},
     "output_type": "execute_result"
    }
   ],
   "source": [
    "sr_2=pd.Series(['a','b','b','b','c','c','d'])   # 시리즈생성\n",
    "sr_2.describe() # 총객채수, 유일값,최댓값,최빈값의 빈도"
   ]
  },
  {
   "cell_type": "code",
   "execution_count": 38,
   "metadata": {},
   "outputs": [
    {
     "name": "stdout",
     "output_type": "stream",
     "text": [
      "['a' 'b' 'c' 'd']\n"
     ]
    }
   ],
   "source": [
    "# .unique()\n",
    "# 시리즈객체의 유일값을 1d-array 로 반환\n",
    "print(sr_2.unique())"
   ]
  },
  {
   "cell_type": "code",
   "execution_count": 39,
   "metadata": {},
   "outputs": [
    {
     "name": "stdout",
     "output_type": "stream",
     "text": [
      "b    3\n",
      "c    2\n",
      "a    1\n",
      "d    1\n",
      "Name: count, dtype: int64\n"
     ]
    }
   ],
   "source": [
    "# .value_count()\n",
    "# 시리즈 객체의 유일값별 빈도수를 시리즈로 반환\n",
    "print(sr_2.value_counts())"
   ]
  },
  {
   "cell_type": "code",
   "execution_count": 40,
   "metadata": {},
   "outputs": [
    {
     "name": "stdout",
     "output_type": "stream",
     "text": [
      "0    b\n",
      "dtype: object\n"
     ]
    }
   ],
   "source": [
    "# .mode()\n",
    "# 시리즈객체의 최빈값을 시리즈로 반환\n",
    "print(sr_2.mode())"
   ]
  },
  {
   "cell_type": "code",
   "execution_count": null,
   "metadata": {},
   "outputs": [],
   "source": []
  }
 ],
 "metadata": {
  "kernelspec": {
   "display_name": "TORCH_38",
   "language": "python",
   "name": "python3"
  },
  "language_info": {
   "codemirror_mode": {
    "name": "ipython",
    "version": 3
   },
   "file_extension": ".py",
   "mimetype": "text/x-python",
   "name": "python",
   "nbconvert_exporter": "python",
   "pygments_lexer": "ipython3",
   "version": "3.8.19"
  }
 },
 "nbformat": 4,
 "nbformat_minor": 2
}

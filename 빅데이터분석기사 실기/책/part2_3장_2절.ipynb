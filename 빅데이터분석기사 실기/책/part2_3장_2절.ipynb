{
 "cells": [
  {
   "cell_type": "markdown",
   "metadata": {},
   "source": [
    "## 데이터 인코딩\n",
    "### 라벨인코딩"
   ]
  },
  {
   "cell_type": "code",
   "execution_count": 2,
   "metadata": {},
   "outputs": [],
   "source": [
    "import pandas as pd\n",
    "from sklearn.preprocessing import LabelEncoder\n",
    "\n",
    "obj={'Class':['A','B','A','C','E','D','D','A','F']}\n",
    "df=pd.DataFrame(obj)"
   ]
  },
  {
   "cell_type": "code",
   "execution_count": 3,
   "metadata": {},
   "outputs": [],
   "source": [
    "# 라벨 인코딩\n",
    "encoder=LabelEncoder()  # 라벨 인코더 객체 생성\n",
    "encoder.fit(df.Class)   # 적합\n",
    "labels=encoder.transform(df.Class) # 변환"
   ]
  },
  {
   "cell_type": "code",
   "execution_count": 4,
   "metadata": {},
   "outputs": [
    {
     "name": "stdout",
     "output_type": "stream",
     "text": [
      "[0 1 0 2 4 3 3 0 5]\n"
     ]
    }
   ],
   "source": [
    "# 인코딩 결과, 변환된 숫자 카테고리 값\n",
    "print(labels)"
   ]
  },
  {
   "cell_type": "code",
   "execution_count": 5,
   "metadata": {},
   "outputs": [
    {
     "name": "stdout",
     "output_type": "stream",
     "text": [
      "['A' 'B' 'C' 'D' 'E' 'F']\n"
     ]
    }
   ],
   "source": [
    "# 숫자 값에 대응되는 원본 레이블\n",
    "print(encoder.classes_)"
   ]
  },
  {
   "cell_type": "code",
   "execution_count": 6,
   "metadata": {},
   "outputs": [
    {
     "name": "stdout",
     "output_type": "stream",
     "text": [
      "['A' 'B' 'A' 'C' 'E' 'D' 'D' 'A' 'F']\n"
     ]
    }
   ],
   "source": [
    "# 디코딩(즉, 다시 원본으로 되돌림)\n",
    "print(encoder.inverse_transform(labels))"
   ]
  },
  {
   "cell_type": "code",
   "execution_count": 7,
   "metadata": {},
   "outputs": [
    {
     "data": {
      "text/plain": [
       "array([0, 1, 0, 2, 4, 3, 3, 0, 5])"
      ]
     },
     "execution_count": 7,
     "metadata": {},
     "output_type": "execute_result"
    }
   ],
   "source": [
    "# Q. 위의 파이썬 예제의 classes에 대하여 numpy.select()를 활용해 라벨 인코딩과 동일한 결과를 만들어보자.\n",
    "# 조건목록생성\n",
    "conditionlist=[(df['Class']=='A'),\n",
    "               (df['Class']=='B'),\n",
    "               (df['Class']=='C'),\n",
    "               (df['Class']=='D'),\n",
    "               (df['Class']=='E'),\n",
    "               (df['Class']=='F')]\n",
    "\n",
    "# 조건과 매칭할 선택 목록 생성(0~5)\n",
    "choicelist=list(range(6))\n",
    "\n",
    "import numpy as np\n",
    "# 결과\n",
    "np.select(condlist=conditionlist,choicelist=choicelist)"
   ]
  },
  {
   "cell_type": "code",
   "execution_count": 8,
   "metadata": {},
   "outputs": [
    {
     "data": {
      "text/plain": [
       "0    0\n",
       "1    1\n",
       "2    0\n",
       "3    2\n",
       "4    4\n",
       "5    3\n",
       "6    3\n",
       "7    0\n",
       "8    5\n",
       "Name: Class, dtype: int64"
      ]
     },
     "execution_count": 8,
     "metadata": {},
     "output_type": "execute_result"
    }
   ],
   "source": [
    "# 시리즈객체 .map()을 이용해 라벨 인코딩과 동일한 결과를 만드는 방법\n",
    "df['Class'].map(arg={'A':0,'B':1,'C':2,'D':3,\"E\":4,'F':5})"
   ]
  },
  {
   "cell_type": "markdown",
   "metadata": {},
   "source": [
    "### 원핫인코딩\n"
   ]
  },
  {
   "cell_type": "code",
   "execution_count": 9,
   "metadata": {},
   "outputs": [
    {
     "data": {
      "text/plain": [
       "array([[0],\n",
       "       [1],\n",
       "       [0],\n",
       "       [2],\n",
       "       [4],\n",
       "       [3],\n",
       "       [3],\n",
       "       [0],\n",
       "       [5]])"
      ]
     },
     "execution_count": 9,
     "metadata": {},
     "output_type": "execute_result"
    }
   ],
   "source": [
    "from sklearn.preprocessing import LabelEncoder,OneHotEncoder\n",
    "\n",
    "# 데이터프레임 생성 \n",
    "obj={'Class':['A','B','A','C','E','D','D','A','F']}\n",
    "df=pd.DataFrame(obj)\n",
    "\n",
    "# 라벨인코딩 먼저 수행\n",
    "encoder=LabelEncoder()\n",
    "encoder.fit(df['Class'])\n",
    "\n",
    "# 2차원 레이블 변환\n",
    "labels=encoder.transform(df['Class']).reshape(-1,1)\n",
    "labels"
   ]
  },
  {
   "cell_type": "code",
   "execution_count": 10,
   "metadata": {},
   "outputs": [
    {
     "name": "stderr",
     "output_type": "stream",
     "text": [
      "c:\\Users\\KDP-30\\anaconda3\\envs\\TORCH_38\\lib\\site-packages\\sklearn\\preprocessing\\_encoders.py:972: FutureWarning: `sparse` was renamed to `sparse_output` in version 1.2 and will be removed in 1.4. `sparse_output` is ignored unless you leave `sparse` to its default value.\n",
      "  warnings.warn(\n"
     ]
    },
    {
     "data": {
      "text/plain": [
       "array([[1., 0., 0., 0., 0., 0.],\n",
       "       [0., 1., 0., 0., 0., 0.],\n",
       "       [1., 0., 0., 0., 0., 0.],\n",
       "       [0., 0., 1., 0., 0., 0.],\n",
       "       [0., 0., 0., 0., 1., 0.],\n",
       "       [0., 0., 0., 1., 0., 0.],\n",
       "       [0., 0., 0., 1., 0., 0.],\n",
       "       [1., 0., 0., 0., 0., 0.],\n",
       "       [0., 0., 0., 0., 0., 1.]])"
      ]
     },
     "execution_count": 10,
     "metadata": {},
     "output_type": "execute_result"
    }
   ],
   "source": [
    "# 원-핫 인코딩\n",
    "# sparse = False 옵션은 결과를 보통의 array형태로 반환하기 위함\n",
    "oh_encoder=OneHotEncoder(sparse=False)\n",
    "oh_encoder.fit(labels)\n",
    "oh_labels=oh_encoder.transform(labels)\n",
    "oh_labels"
   ]
  },
  {
   "cell_type": "code",
   "execution_count": 11,
   "metadata": {},
   "outputs": [
    {
     "data": {
      "text/html": [
       "<div>\n",
       "<style scoped>\n",
       "    .dataframe tbody tr th:only-of-type {\n",
       "        vertical-align: middle;\n",
       "    }\n",
       "\n",
       "    .dataframe tbody tr th {\n",
       "        vertical-align: top;\n",
       "    }\n",
       "\n",
       "    .dataframe thead th {\n",
       "        text-align: right;\n",
       "    }\n",
       "</style>\n",
       "<table border=\"1\" class=\"dataframe\">\n",
       "  <thead>\n",
       "    <tr style=\"text-align: right;\">\n",
       "      <th></th>\n",
       "      <th>Class_A</th>\n",
       "      <th>Class_B</th>\n",
       "      <th>Class_C</th>\n",
       "      <th>Class_D</th>\n",
       "      <th>Class_E</th>\n",
       "      <th>Class_F</th>\n",
       "    </tr>\n",
       "  </thead>\n",
       "  <tbody>\n",
       "    <tr>\n",
       "      <th>0</th>\n",
       "      <td>True</td>\n",
       "      <td>False</td>\n",
       "      <td>False</td>\n",
       "      <td>False</td>\n",
       "      <td>False</td>\n",
       "      <td>False</td>\n",
       "    </tr>\n",
       "    <tr>\n",
       "      <th>1</th>\n",
       "      <td>False</td>\n",
       "      <td>True</td>\n",
       "      <td>False</td>\n",
       "      <td>False</td>\n",
       "      <td>False</td>\n",
       "      <td>False</td>\n",
       "    </tr>\n",
       "    <tr>\n",
       "      <th>2</th>\n",
       "      <td>True</td>\n",
       "      <td>False</td>\n",
       "      <td>False</td>\n",
       "      <td>False</td>\n",
       "      <td>False</td>\n",
       "      <td>False</td>\n",
       "    </tr>\n",
       "    <tr>\n",
       "      <th>3</th>\n",
       "      <td>False</td>\n",
       "      <td>False</td>\n",
       "      <td>True</td>\n",
       "      <td>False</td>\n",
       "      <td>False</td>\n",
       "      <td>False</td>\n",
       "    </tr>\n",
       "    <tr>\n",
       "      <th>4</th>\n",
       "      <td>False</td>\n",
       "      <td>False</td>\n",
       "      <td>False</td>\n",
       "      <td>False</td>\n",
       "      <td>True</td>\n",
       "      <td>False</td>\n",
       "    </tr>\n",
       "    <tr>\n",
       "      <th>5</th>\n",
       "      <td>False</td>\n",
       "      <td>False</td>\n",
       "      <td>False</td>\n",
       "      <td>True</td>\n",
       "      <td>False</td>\n",
       "      <td>False</td>\n",
       "    </tr>\n",
       "    <tr>\n",
       "      <th>6</th>\n",
       "      <td>False</td>\n",
       "      <td>False</td>\n",
       "      <td>False</td>\n",
       "      <td>True</td>\n",
       "      <td>False</td>\n",
       "      <td>False</td>\n",
       "    </tr>\n",
       "    <tr>\n",
       "      <th>7</th>\n",
       "      <td>True</td>\n",
       "      <td>False</td>\n",
       "      <td>False</td>\n",
       "      <td>False</td>\n",
       "      <td>False</td>\n",
       "      <td>False</td>\n",
       "    </tr>\n",
       "    <tr>\n",
       "      <th>8</th>\n",
       "      <td>False</td>\n",
       "      <td>False</td>\n",
       "      <td>False</td>\n",
       "      <td>False</td>\n",
       "      <td>False</td>\n",
       "      <td>True</td>\n",
       "    </tr>\n",
       "  </tbody>\n",
       "</table>\n",
       "</div>"
      ],
      "text/plain": [
       "   Class_A  Class_B  Class_C  Class_D  Class_E  Class_F\n",
       "0     True    False    False    False    False    False\n",
       "1    False     True    False    False    False    False\n",
       "2     True    False    False    False    False    False\n",
       "3    False    False     True    False    False    False\n",
       "4    False    False    False    False     True    False\n",
       "5    False    False    False     True    False    False\n",
       "6    False    False    False     True    False    False\n",
       "7     True    False    False    False    False    False\n",
       "8    False    False    False    False    False     True"
      ]
     },
     "execution_count": 11,
     "metadata": {},
     "output_type": "execute_result"
    }
   ],
   "source": [
    "# 판다스 get_dummies() 함수 활용한 방법\n",
    "obj={'Class':['A','B','A','C','E','D','D','A','F']}\n",
    "df=pd.DataFrame(obj)\n",
    "pd.get_dummies(df)  # 원-핫 인코딩 실행"
   ]
  },
  {
   "cell_type": "code",
   "execution_count": 12,
   "metadata": {},
   "outputs": [
    {
     "data": {
      "text/html": [
       "<div>\n",
       "<style scoped>\n",
       "    .dataframe tbody tr th:only-of-type {\n",
       "        vertical-align: middle;\n",
       "    }\n",
       "\n",
       "    .dataframe tbody tr th {\n",
       "        vertical-align: top;\n",
       "    }\n",
       "\n",
       "    .dataframe thead th {\n",
       "        text-align: right;\n",
       "    }\n",
       "</style>\n",
       "<table border=\"1\" class=\"dataframe\">\n",
       "  <thead>\n",
       "    <tr style=\"text-align: right;\">\n",
       "      <th></th>\n",
       "      <th>Class_B</th>\n",
       "      <th>Class_C</th>\n",
       "      <th>Class_D</th>\n",
       "      <th>Class_E</th>\n",
       "      <th>Class_F</th>\n",
       "    </tr>\n",
       "  </thead>\n",
       "  <tbody>\n",
       "    <tr>\n",
       "      <th>0</th>\n",
       "      <td>False</td>\n",
       "      <td>False</td>\n",
       "      <td>False</td>\n",
       "      <td>False</td>\n",
       "      <td>False</td>\n",
       "    </tr>\n",
       "    <tr>\n",
       "      <th>1</th>\n",
       "      <td>True</td>\n",
       "      <td>False</td>\n",
       "      <td>False</td>\n",
       "      <td>False</td>\n",
       "      <td>False</td>\n",
       "    </tr>\n",
       "    <tr>\n",
       "      <th>2</th>\n",
       "      <td>False</td>\n",
       "      <td>False</td>\n",
       "      <td>False</td>\n",
       "      <td>False</td>\n",
       "      <td>False</td>\n",
       "    </tr>\n",
       "    <tr>\n",
       "      <th>3</th>\n",
       "      <td>False</td>\n",
       "      <td>True</td>\n",
       "      <td>False</td>\n",
       "      <td>False</td>\n",
       "      <td>False</td>\n",
       "    </tr>\n",
       "    <tr>\n",
       "      <th>4</th>\n",
       "      <td>False</td>\n",
       "      <td>False</td>\n",
       "      <td>False</td>\n",
       "      <td>True</td>\n",
       "      <td>False</td>\n",
       "    </tr>\n",
       "    <tr>\n",
       "      <th>5</th>\n",
       "      <td>False</td>\n",
       "      <td>False</td>\n",
       "      <td>True</td>\n",
       "      <td>False</td>\n",
       "      <td>False</td>\n",
       "    </tr>\n",
       "    <tr>\n",
       "      <th>6</th>\n",
       "      <td>False</td>\n",
       "      <td>False</td>\n",
       "      <td>True</td>\n",
       "      <td>False</td>\n",
       "      <td>False</td>\n",
       "    </tr>\n",
       "    <tr>\n",
       "      <th>7</th>\n",
       "      <td>False</td>\n",
       "      <td>False</td>\n",
       "      <td>False</td>\n",
       "      <td>False</td>\n",
       "      <td>False</td>\n",
       "    </tr>\n",
       "    <tr>\n",
       "      <th>8</th>\n",
       "      <td>False</td>\n",
       "      <td>False</td>\n",
       "      <td>False</td>\n",
       "      <td>False</td>\n",
       "      <td>True</td>\n",
       "    </tr>\n",
       "  </tbody>\n",
       "</table>\n",
       "</div>"
      ],
      "text/plain": [
       "   Class_B  Class_C  Class_D  Class_E  Class_F\n",
       "0    False    False    False    False    False\n",
       "1     True    False    False    False    False\n",
       "2    False    False    False    False    False\n",
       "3    False     True    False    False    False\n",
       "4    False    False    False     True    False\n",
       "5    False    False     True    False    False\n",
       "6    False    False     True    False    False\n",
       "7    False    False    False    False    False\n",
       "8    False    False    False    False     True"
      ]
     },
     "execution_count": 12,
     "metadata": {},
     "output_type": "execute_result"
    }
   ],
   "source": [
    "# 첫번째 고유 틍징을 제거해 k-1개의 변수를 생성\n",
    "pd.get_dummies(df,drop_first=True)"
   ]
  },
  {
   "cell_type": "code",
   "execution_count": 16,
   "metadata": {},
   "outputs": [
    {
     "data": {
      "text/html": [
       "<div>\n",
       "<style scoped>\n",
       "    .dataframe tbody tr th:only-of-type {\n",
       "        vertical-align: middle;\n",
       "    }\n",
       "\n",
       "    .dataframe tbody tr th {\n",
       "        vertical-align: top;\n",
       "    }\n",
       "\n",
       "    .dataframe thead th {\n",
       "        text-align: right;\n",
       "    }\n",
       "</style>\n",
       "<table border=\"1\" class=\"dataframe\">\n",
       "  <thead>\n",
       "    <tr style=\"text-align: right;\">\n",
       "      <th></th>\n",
       "      <th>Class</th>\n",
       "      <th>Class_B</th>\n",
       "      <th>Class_C</th>\n",
       "      <th>Class_D</th>\n",
       "      <th>Class_E</th>\n",
       "      <th>Class_F</th>\n",
       "    </tr>\n",
       "  </thead>\n",
       "  <tbody>\n",
       "    <tr>\n",
       "      <th>0</th>\n",
       "      <td>A</td>\n",
       "      <td>0</td>\n",
       "      <td>0</td>\n",
       "      <td>0</td>\n",
       "      <td>0</td>\n",
       "      <td>0</td>\n",
       "    </tr>\n",
       "    <tr>\n",
       "      <th>1</th>\n",
       "      <td>B</td>\n",
       "      <td>1</td>\n",
       "      <td>0</td>\n",
       "      <td>0</td>\n",
       "      <td>0</td>\n",
       "      <td>0</td>\n",
       "    </tr>\n",
       "    <tr>\n",
       "      <th>2</th>\n",
       "      <td>A</td>\n",
       "      <td>0</td>\n",
       "      <td>0</td>\n",
       "      <td>0</td>\n",
       "      <td>0</td>\n",
       "      <td>0</td>\n",
       "    </tr>\n",
       "    <tr>\n",
       "      <th>3</th>\n",
       "      <td>C</td>\n",
       "      <td>0</td>\n",
       "      <td>1</td>\n",
       "      <td>0</td>\n",
       "      <td>0</td>\n",
       "      <td>0</td>\n",
       "    </tr>\n",
       "    <tr>\n",
       "      <th>4</th>\n",
       "      <td>E</td>\n",
       "      <td>0</td>\n",
       "      <td>0</td>\n",
       "      <td>0</td>\n",
       "      <td>1</td>\n",
       "      <td>0</td>\n",
       "    </tr>\n",
       "    <tr>\n",
       "      <th>5</th>\n",
       "      <td>D</td>\n",
       "      <td>0</td>\n",
       "      <td>0</td>\n",
       "      <td>1</td>\n",
       "      <td>0</td>\n",
       "      <td>0</td>\n",
       "    </tr>\n",
       "    <tr>\n",
       "      <th>6</th>\n",
       "      <td>D</td>\n",
       "      <td>0</td>\n",
       "      <td>0</td>\n",
       "      <td>1</td>\n",
       "      <td>0</td>\n",
       "      <td>0</td>\n",
       "    </tr>\n",
       "    <tr>\n",
       "      <th>7</th>\n",
       "      <td>A</td>\n",
       "      <td>0</td>\n",
       "      <td>0</td>\n",
       "      <td>0</td>\n",
       "      <td>0</td>\n",
       "      <td>0</td>\n",
       "    </tr>\n",
       "    <tr>\n",
       "      <th>8</th>\n",
       "      <td>F</td>\n",
       "      <td>0</td>\n",
       "      <td>0</td>\n",
       "      <td>0</td>\n",
       "      <td>0</td>\n",
       "      <td>1</td>\n",
       "    </tr>\n",
       "  </tbody>\n",
       "</table>\n",
       "</div>"
      ],
      "text/plain": [
       "  Class  Class_B  Class_C  Class_D  Class_E  Class_F\n",
       "0     A        0        0        0        0        0\n",
       "1     B        1        0        0        0        0\n",
       "2     A        0        0        0        0        0\n",
       "3     C        0        1        0        0        0\n",
       "4     E        0        0        0        1        0\n",
       "5     D        0        0        1        0        0\n",
       "6     D        0        0        1        0        0\n",
       "7     A        0        0        0        0        0\n",
       "8     F        0        0        0        0        1"
      ]
     },
     "execution_count": 16,
     "metadata": {},
     "output_type": "execute_result"
    }
   ],
   "source": [
    "# numpy.where()을 이용해 라벨 인코딩과 동일한 결과를 만드는 방법\n",
    "df['Class_B']=np.where(df['Class']=='B',1,0)\n",
    "df['Class_C']=np.where(df['Class']=='C',1,0)\n",
    "df['Class_D']=np.where(df['Class']=='D',1,0)\n",
    "df['Class_E']=np.where(df['Class']=='E',1,0)\n",
    "df['Class_F']=np.where(df['Class']=='F',1,0)\n",
    "df"
   ]
  },
  {
   "cell_type": "code",
   "execution_count": 18,
   "metadata": {},
   "outputs": [
    {
     "data": {
      "text/html": [
       "<div>\n",
       "<style scoped>\n",
       "    .dataframe tbody tr th:only-of-type {\n",
       "        vertical-align: middle;\n",
       "    }\n",
       "\n",
       "    .dataframe tbody tr th {\n",
       "        vertical-align: top;\n",
       "    }\n",
       "\n",
       "    .dataframe thead th {\n",
       "        text-align: right;\n",
       "    }\n",
       "</style>\n",
       "<table border=\"1\" class=\"dataframe\">\n",
       "  <thead>\n",
       "    <tr style=\"text-align: right;\">\n",
       "      <th></th>\n",
       "      <th>Class</th>\n",
       "      <th>Class_B</th>\n",
       "      <th>Class_C</th>\n",
       "      <th>Class_D</th>\n",
       "      <th>Class_E</th>\n",
       "      <th>Class_F</th>\n",
       "    </tr>\n",
       "  </thead>\n",
       "  <tbody>\n",
       "    <tr>\n",
       "      <th>0</th>\n",
       "      <td>A</td>\n",
       "      <td>0.0</td>\n",
       "      <td>0.0</td>\n",
       "      <td>0.0</td>\n",
       "      <td>0.0</td>\n",
       "      <td>0.0</td>\n",
       "    </tr>\n",
       "    <tr>\n",
       "      <th>1</th>\n",
       "      <td>B</td>\n",
       "      <td>1.0</td>\n",
       "      <td>0.0</td>\n",
       "      <td>0.0</td>\n",
       "      <td>0.0</td>\n",
       "      <td>0.0</td>\n",
       "    </tr>\n",
       "    <tr>\n",
       "      <th>2</th>\n",
       "      <td>A</td>\n",
       "      <td>0.0</td>\n",
       "      <td>0.0</td>\n",
       "      <td>0.0</td>\n",
       "      <td>0.0</td>\n",
       "      <td>0.0</td>\n",
       "    </tr>\n",
       "    <tr>\n",
       "      <th>3</th>\n",
       "      <td>C</td>\n",
       "      <td>0.0</td>\n",
       "      <td>1.0</td>\n",
       "      <td>0.0</td>\n",
       "      <td>0.0</td>\n",
       "      <td>0.0</td>\n",
       "    </tr>\n",
       "    <tr>\n",
       "      <th>4</th>\n",
       "      <td>E</td>\n",
       "      <td>0.0</td>\n",
       "      <td>0.0</td>\n",
       "      <td>0.0</td>\n",
       "      <td>1.0</td>\n",
       "      <td>0.0</td>\n",
       "    </tr>\n",
       "    <tr>\n",
       "      <th>5</th>\n",
       "      <td>D</td>\n",
       "      <td>0.0</td>\n",
       "      <td>0.0</td>\n",
       "      <td>1.0</td>\n",
       "      <td>0.0</td>\n",
       "      <td>0.0</td>\n",
       "    </tr>\n",
       "    <tr>\n",
       "      <th>6</th>\n",
       "      <td>D</td>\n",
       "      <td>0.0</td>\n",
       "      <td>0.0</td>\n",
       "      <td>1.0</td>\n",
       "      <td>0.0</td>\n",
       "      <td>0.0</td>\n",
       "    </tr>\n",
       "    <tr>\n",
       "      <th>7</th>\n",
       "      <td>A</td>\n",
       "      <td>0.0</td>\n",
       "      <td>0.0</td>\n",
       "      <td>0.0</td>\n",
       "      <td>0.0</td>\n",
       "      <td>0.0</td>\n",
       "    </tr>\n",
       "    <tr>\n",
       "      <th>8</th>\n",
       "      <td>F</td>\n",
       "      <td>0.0</td>\n",
       "      <td>0.0</td>\n",
       "      <td>0.0</td>\n",
       "      <td>0.0</td>\n",
       "      <td>1.0</td>\n",
       "    </tr>\n",
       "  </tbody>\n",
       "</table>\n",
       "</div>"
      ],
      "text/plain": [
       "  Class  Class_B  Class_C  Class_D  Class_E  Class_F\n",
       "0     A      0.0      0.0      0.0      0.0      0.0\n",
       "1     B      1.0      0.0      0.0      0.0      0.0\n",
       "2     A      0.0      0.0      0.0      0.0      0.0\n",
       "3     C      0.0      1.0      0.0      0.0      0.0\n",
       "4     E      0.0      0.0      0.0      1.0      0.0\n",
       "5     D      0.0      0.0      1.0      0.0      0.0\n",
       "6     D      0.0      0.0      1.0      0.0      0.0\n",
       "7     A      0.0      0.0      0.0      0.0      0.0\n",
       "8     F      0.0      0.0      0.0      0.0      1.0"
      ]
     },
     "execution_count": 18,
     "metadata": {},
     "output_type": "execute_result"
    }
   ],
   "source": [
    "# loc 인덱서와 부울 인덱싱을 이용한 방법\n",
    "obj={'Class':['A','B','A','C','E','D','D','A','F']}\n",
    "df=pd.DataFrame(obj)\n",
    "\n",
    "# df의 Class열이 B이면, Class_B 열에 1을 추가\n",
    "df.loc[df['Class']=='B','Class_B']=1\n",
    "# df의 Class열이 B이 아니면, Class_B 열에 0을 추가\n",
    "df.loc[df['Class']!='B','Class_B']=0\n",
    "\n",
    "# df의 Class열이 C이면, Class_C 열에 1을 추가\n",
    "df.loc[df['Class']=='C','Class_C']=1\n",
    "# df의 Class열이 B이 아니면, Class_B 열에 0을 추가\n",
    "df.loc[df['Class']!='C','Class_C']=0\n",
    "\n",
    "# df의 Class열이 D이면, Class_D 열에 1을 추가\n",
    "df.loc[df['Class']=='D','Class_D']=1\n",
    "# df의 Class열이 D이 아니면, Class_D 열에 0을 추가\n",
    "df.loc[df['Class']!='D','Class_D']=0\n",
    "\n",
    "# df의 Class열이 E이면, Class_E 열에 1을 추가\n",
    "df.loc[df['Class']=='E','Class_E']=1\n",
    "# df의 Class열이 E이 아니면, Class_E 열에 0을 추가\n",
    "df.loc[df['Class']!='E','Class_E']=0\n",
    "\n",
    "# df의 Class열이 F이면, Class_F 열에 1을 추가\n",
    "df.loc[df['Class']=='F','Class_F']=1\n",
    "# df의 Class열이 F이 아니면, Class_F 열에 0을 추가\n",
    "df.loc[df['Class']!='F','Class_F']=0\n",
    "\n",
    "df"
   ]
  },
  {
   "cell_type": "markdown",
   "metadata": {},
   "source": [
    "Q. 학생의 id(s1,s2,s3,s4,s5,s6)를 담은 'student_id'컬럼과 시험점수 (55,90,85,71,63,99)를 담은 'socre'컬럽으로 구성된 데이터프레임을 생성하자. 그 후 시험점수가 90점 이상이면 '수', 80점 이상 90점 미만이면 '우', 70점 이상 80점 미만이면 '미', 60점이상 70점미만이면 '양', 60점 미만이면 '가'로 분류하는 'grade'컬럼을 새롭게 생성하고 생성한 'grade'컬럼에 대하여 라벨 인코딩과 원-핫 인코딩을 시행해보자."
   ]
  },
  {
   "cell_type": "code",
   "execution_count": 23,
   "metadata": {},
   "outputs": [
    {
     "name": "stdout",
     "output_type": "stream",
     "text": [
      "  student_id  score grade\n",
      "0         s1     55     가\n",
      "1         s2     90     우\n",
      "2         s3     85     우\n",
      "3         s4     71     미\n",
      "4         s5     63     양\n",
      "5         s6     99     수\n"
     ]
    }
   ],
   "source": [
    "# 해당예제는 구간화와 파생변수생성, 인코딩이 모두 필요함\n",
    "import pandas as pd\n",
    "from sklearn.preprocessing import LabelEncoder,OneHotEncoder\n",
    "import numpy as np\n",
    "\n",
    "# 데이터 프레임 생성\n",
    "obj={'student_id':['s1','s2','s3','s4','s5','s6'],\n",
    "     'score':[55,90,85,71,63,99]}\n",
    "df=pd.DataFrame(obj)\n",
    "#print(df)\n",
    "\n",
    "df['grade']=pd.cut(df.score,bins=[0,60,70,80,90,100],labels=['가','양','미','우','수'])\n",
    "print(df)"
   ]
  },
  {
   "cell_type": "code",
   "execution_count": null,
   "metadata": {},
   "outputs": [
    {
     "name": "stdout",
     "output_type": "stream",
     "text": [
      "[0 4 4 1 3 2]\n"
     ]
    }
   ],
   "source": [
    "# 라벨인코딩\n",
    "lb_encoder=LabelEncoder()\n",
    "lb_encoder.fit(df.grade)\n",
    "lb_lables=lb_encoder.transform(df.grade)\n",
    "print(lb_lables)"
   ]
  },
  {
   "cell_type": "code",
   "execution_count": 26,
   "metadata": {},
   "outputs": [
    {
     "name": "stdout",
     "output_type": "stream",
     "text": [
      "['가' '미' '수' '양' '우']\n"
     ]
    }
   ],
   "source": [
    "print(lb_encoder.classes_)"
   ]
  },
  {
   "cell_type": "code",
   "execution_count": 32,
   "metadata": {},
   "outputs": [
    {
     "name": "stdout",
     "output_type": "stream",
     "text": [
      "[[1. 0. 0. 0. 0.]\n",
      " [0. 0. 0. 0. 1.]\n",
      " [0. 0. 0. 0. 1.]\n",
      " [0. 1. 0. 0. 0.]\n",
      " [0. 0. 0. 1. 0.]\n",
      " [0. 0. 1. 0. 0.]]\n"
     ]
    },
    {
     "name": "stderr",
     "output_type": "stream",
     "text": [
      "c:\\Users\\KDP-30\\anaconda3\\envs\\TORCH_38\\lib\\site-packages\\sklearn\\preprocessing\\_encoders.py:972: FutureWarning: `sparse` was renamed to `sparse_output` in version 1.2 and will be removed in 1.4. `sparse_output` is ignored unless you leave `sparse` to its default value.\n",
      "  warnings.warn(\n"
     ]
    }
   ],
   "source": [
    "# 원핫인코딩\n",
    "oh_encoder=OneHotEncoder(sparse=False)\n",
    "oh_encoder.fit(lb_lables.reshape(-1,1))\n",
    "oh_labels=oh_encoder.transform(lb_lables.reshape(-1,1))\n",
    "print(oh_labels)"
   ]
  },
  {
   "cell_type": "code",
   "execution_count": null,
   "metadata": {},
   "outputs": [],
   "source": []
  }
 ],
 "metadata": {
  "kernelspec": {
   "display_name": "TORCH_38",
   "language": "python",
   "name": "python3"
  },
  "language_info": {
   "codemirror_mode": {
    "name": "ipython",
    "version": 3
   },
   "file_extension": ".py",
   "mimetype": "text/x-python",
   "name": "python",
   "nbconvert_exporter": "python",
   "pygments_lexer": "ipython3",
   "version": "3.8.19"
  }
 },
 "nbformat": 4,
 "nbformat_minor": 2
}

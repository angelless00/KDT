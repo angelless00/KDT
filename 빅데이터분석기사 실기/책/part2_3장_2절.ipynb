{
 "cells": [
  {
   "cell_type": "markdown",
   "metadata": {},
   "source": [
    "## 데이터 인코딩\n",
    "### 라벨인코딩"
   ]
  },
  {
   "cell_type": "code",
   "execution_count": 2,
   "metadata": {},
   "outputs": [],
   "source": [
    "import pandas as pd\n",
    "from sklearn.preprocessing import LabelEncoder\n",
    "\n",
    "obj={'Class':['A','B','A','C','E','D','D','A','F']}\n",
    "df=pd.DataFrame(obj)"
   ]
  },
  {
   "cell_type": "code",
   "execution_count": 4,
   "metadata": {},
   "outputs": [],
   "source": [
    "# 라벨 인코딩\n",
    "encoder=LabelEncoder()  # 라벨 인코더 객체 생성\n",
    "encoder.fit(df.Class)   # 적합\n",
    "labels=encoder.transform(df.Class) # 변환"
   ]
  },
  {
   "cell_type": "code",
   "execution_count": 5,
   "metadata": {},
   "outputs": [
    {
     "name": "stdout",
     "output_type": "stream",
     "text": [
      "[0 1 0 2 4 3 3 0 5]\n"
     ]
    }
   ],
   "source": [
    "# 인코딩 결과, 변환된 숫자 카테고리 값\n",
    "print(labels)"
   ]
  },
  {
   "cell_type": "code",
   "execution_count": 6,
   "metadata": {},
   "outputs": [
    {
     "name": "stdout",
     "output_type": "stream",
     "text": [
      "['A' 'B' 'C' 'D' 'E' 'F']\n"
     ]
    }
   ],
   "source": [
    "# 숫자 값에 대응되는 원본 레이블\n",
    "print(encoder.classes_)"
   ]
  },
  {
   "cell_type": "code",
   "execution_count": 7,
   "metadata": {},
   "outputs": [
    {
     "name": "stdout",
     "output_type": "stream",
     "text": [
      "['A' 'B' 'A' 'C' 'E' 'D' 'D' 'A' 'F']\n"
     ]
    }
   ],
   "source": [
    "# 디코딩(즉, 다시 원본으로 되돌림)\n",
    "print(encoder.inverse_transform(labels))"
   ]
  },
  {
   "cell_type": "code",
   "execution_count": null,
   "metadata": {},
   "outputs": [],
   "source": [
    "# Q. 위의 파이썬 예제의 classes에 대하여 numpy.select()를 활용해 라벨 인코딩과 동일한 결과를 만들어보자."
   ]
  }
 ],
 "metadata": {
  "kernelspec": {
   "display_name": "TORCH_38",
   "language": "python",
   "name": "python3"
  },
  "language_info": {
   "codemirror_mode": {
    "name": "ipython",
    "version": 3
   },
   "file_extension": ".py",
   "mimetype": "text/x-python",
   "name": "python",
   "nbconvert_exporter": "python",
   "pygments_lexer": "ipython3",
   "version": "3.8.19"
  }
 },
 "nbformat": 4,
 "nbformat_minor": 2
}

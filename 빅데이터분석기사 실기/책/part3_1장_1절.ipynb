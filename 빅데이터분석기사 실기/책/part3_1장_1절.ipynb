{
 "cells": [
  {
   "cell_type": "markdown",
   "metadata": {},
   "source": [
    "# 가설검정\n",
    "## 1절 상관분석"
   ]
  },
  {
   "cell_type": "code",
   "execution_count": null,
   "metadata": {},
   "outputs": [
    {
     "name": "stdout",
     "output_type": "stream",
     "text": [
      "<class 'pandas.core.frame.DataFrame'>\n",
      "RangeIndex: 442 entries, 0 to 441\n",
      "Data columns (total 10 columns):\n",
      " #   Column  Non-Null Count  Dtype  \n",
      "---  ------  --------------  -----  \n",
      " 0   age     442 non-null    float64\n",
      " 1   sex     442 non-null    float64\n",
      " 2   bmi     442 non-null    float64\n",
      " 3   bp      442 non-null    float64\n",
      " 4   s1      442 non-null    float64\n",
      " 5   s2      442 non-null    float64\n",
      " 6   s3      442 non-null    float64\n",
      " 7   s4      442 non-null    float64\n",
      " 8   s5      442 non-null    float64\n",
      " 9   s6      442 non-null    float64\n",
      "dtypes: float64(10)\n",
      "memory usage: 34.7 KB\n"
     ]
    }
   ],
   "source": [
    "import pandas as pd\n",
    "from sklearn.datasets import load_diabetes\n",
    "\n",
    "diabetes=load_diabetes()\n",
    "data=pd.DataFrame(diabetes.data,columns=diabetes.feature_names)\n",
    "data.info() # 확인"
   ]
  },
  {
   "cell_type": "code",
   "execution_count": 28,
   "metadata": {},
   "outputs": [
    {
     "data": {
      "text/plain": [
       "PearsonRResult(statistic=0.1850846661465555, pvalue=9.076791865417418e-05)"
      ]
     },
     "execution_count": 28,
     "metadata": {},
     "output_type": "execute_result"
    }
   ],
   "source": [
    "# scipy.stats.pearsonr\n",
    "from scipy.stats import pearsonr\n",
    "pearsonr(x=data['age'],y=data['bmi'])"
   ]
  },
  {
   "cell_type": "markdown",
   "metadata": {},
   "source": [
    "- 피어슨상관계수 (상관계수, p-value) 형태로 출력\n",
    "- 상관계수가 0.185로 매우 상관관계적음\n",
    "- p-value 0.05 이하로 귀무가설을 기각. 상관계수는 적지만 유의미하다"
   ]
  },
  {
   "cell_type": "code",
   "execution_count": 29,
   "metadata": {},
   "outputs": [
    {
     "data": {
      "text/html": [
       "<div>\n",
       "<style scoped>\n",
       "    .dataframe tbody tr th:only-of-type {\n",
       "        vertical-align: middle;\n",
       "    }\n",
       "\n",
       "    .dataframe tbody tr th {\n",
       "        vertical-align: top;\n",
       "    }\n",
       "\n",
       "    .dataframe thead th {\n",
       "        text-align: right;\n",
       "    }\n",
       "</style>\n",
       "<table border=\"1\" class=\"dataframe\">\n",
       "  <thead>\n",
       "    <tr style=\"text-align: right;\">\n",
       "      <th></th>\n",
       "      <th>sex</th>\n",
       "      <th>bmi</th>\n",
       "    </tr>\n",
       "  </thead>\n",
       "  <tbody>\n",
       "    <tr>\n",
       "      <th>sex</th>\n",
       "      <td>1.000000</td>\n",
       "      <td>0.088161</td>\n",
       "    </tr>\n",
       "    <tr>\n",
       "      <th>bmi</th>\n",
       "      <td>0.088161</td>\n",
       "      <td>1.000000</td>\n",
       "    </tr>\n",
       "  </tbody>\n",
       "</table>\n",
       "</div>"
      ],
      "text/plain": [
       "          sex       bmi\n",
       "sex  1.000000  0.088161\n",
       "bmi  0.088161  1.000000"
      ]
     },
     "execution_count": 29,
     "metadata": {},
     "output_type": "execute_result"
    }
   ],
   "source": [
    "# 단순한 상관계수 산출은 corr으로도 가능\n",
    "data[['sex','bmi']].corr()"
   ]
  },
  {
   "cell_type": "markdown",
   "metadata": {},
   "source": [
    "## 2절 정규성검정"
   ]
  },
  {
   "cell_type": "code",
   "execution_count": 30,
   "metadata": {},
   "outputs": [
    {
     "data": {
      "text/plain": [
       "ShapiroResult(statistic=0.8969663381576538, pvalue=0.20285381376743317)"
      ]
     },
     "execution_count": 30,
     "metadata": {},
     "output_type": "execute_result"
    }
   ],
   "source": [
    "import numpy as np\n",
    "\n",
    "# 균일표본 생성\n",
    "np.random.seed(2024)  # 결과의 일관성을 위해 시드 설정\n",
    "x=np.random.random(10)\n",
    "\n",
    "# 샤피로-윌크 검정 수행\n",
    "from scipy.stats import shapiro\n",
    "shapiro(x)"
   ]
  },
  {
   "cell_type": "markdown",
   "metadata": {},
   "source": [
    "- (통계량, p-value)형태\n",
    "- pvalue가 0.05를 넘기에 귀무가설을 기각못함 -> 정규성만족"
   ]
  },
  {
   "cell_type": "markdown",
   "metadata": {},
   "source": [
    "## 3절 모평균과 모분산 검정\n",
    "\n",
    "### 모평균 검정\n",
    "#### 단일 표본 t검정"
   ]
  },
  {
   "cell_type": "code",
   "execution_count": 31,
   "metadata": {},
   "outputs": [
    {
     "data": {
      "text/plain": [
       "66.56428571428572"
      ]
     },
     "execution_count": 31,
     "metadata": {},
     "output_type": "execute_result"
    }
   ],
   "source": [
    "# Q. 몸무게 데이터를 임의로 생성해보고\n",
    "# 모집단의 평균이 70이라고 할 수 있는지 단일표본 t-검정을 수행해보자. (정규성만족가정)\n",
    "import numpy as np\n",
    "\n",
    "# 몸무게 데이터 임의 생성\n",
    "kg=np.array([75.5,83.9,75.7,56.2,73.4,67.7,79.0,50.7,58.4,74.1,65.1,77.8,48.1,46.3])\n",
    "\n",
    "# 표본평균\n",
    "np.mean(kg)"
   ]
  },
  {
   "cell_type": "code",
   "execution_count": 32,
   "metadata": {},
   "outputs": [
    {
     "data": {
      "text/plain": [
       "TtestResult(statistic=-1.0289933120202257, pvalue=0.3222484823978743, df=13)"
      ]
     },
     "execution_count": 32,
     "metadata": {},
     "output_type": "execute_result"
    }
   ],
   "source": [
    "# 단일표본 t 검정\n",
    "from scipy.stats import ttest_1samp\n",
    "ttest_1samp(kg,70)"
   ]
  },
  {
   "cell_type": "markdown",
   "metadata": {},
   "source": [
    "- (t통계량값, p-value)형태\n",
    "- p-value가 0.32로 0.05이상이므로 귀무가설을 기각못함 평균은 70과 같다고 할수있다"
   ]
  },
  {
   "cell_type": "markdown",
   "metadata": {},
   "source": [
    "#### 대응표본 t검정"
   ]
  },
  {
   "cell_type": "code",
   "execution_count": 33,
   "metadata": {},
   "outputs": [
    {
     "data": {
      "text/plain": [
       "-12.985714285714291"
      ]
     },
     "execution_count": 33,
     "metadata": {},
     "output_type": "execute_result"
    }
   ],
   "source": [
    "# Q. 남녀 몸무게 데이터를 임의로 생성하고, 두 데이터가 서로 짝지어져 있다고 가정하고, \n",
    "# 두 데이터에 대한 모평균이 서로 다르다고 할 수 있는지 대응표본 t-검정을 수행해보자. (정규성만족가정)\n",
    "import pandas as pd\n",
    "female=np.array([50.7,58.4,74.1,65.1,77.8,48.1,46.3])\n",
    "male=np.array([75.5,83.9,75.7,56.2,73.4,67.7,79.0])\n",
    "\n",
    "# 두데이터의 차이의 평균\n",
    "diff= female-male\n",
    "np.mean(diff)"
   ]
  },
  {
   "cell_type": "code",
   "execution_count": 34,
   "metadata": {},
   "outputs": [
    {
     "data": {
      "text/plain": [
       "TtestResult(statistic=-2.078446933064972, pvalue=0.08291274205610201, df=6)"
      ]
     },
     "execution_count": 34,
     "metadata": {},
     "output_type": "execute_result"
    }
   ],
   "source": [
    "from scipy.stats import ttest_rel\n",
    "ttest_rel(female,male)"
   ]
  },
  {
   "cell_type": "markdown",
   "metadata": {},
   "source": [
    "- (t통계량,p-value)\n",
    "- p value 가 0.05보다 크므로 유의수준에서 귀무가설을 기각 못함 \n",
    "=> 둘의 모평균이 다르다고 할수없다"
   ]
  },
  {
   "cell_type": "markdown",
   "metadata": {},
   "source": [
    "#### 독립표본 t검정"
   ]
  },
  {
   "cell_type": "code",
   "execution_count": 35,
   "metadata": {},
   "outputs": [
    {
     "data": {
      "text/plain": [
       "Ttest_indResult(statistic=-2.2186641577772956, pvalue=0.046550122110569664)"
      ]
     },
     "execution_count": 35,
     "metadata": {},
     "output_type": "execute_result"
    }
   ],
   "source": [
    "# Q. 위의 몸무게 데이터를 활용해 두 데이터가 독립이라고 가정하고, \n",
    "# 두 데이터에 대한 모평균이 서로 다르다고 할 수있는지 독립표본 t-검정을 수행해보자. (정규성, 등분산성 만족 가정)\n",
    "# 두 데이터가 서로 독립이라고 가정하고 시행\n",
    "from scipy.stats import ttest_ind\n",
    "ttest_ind(female,male)"
   ]
  },
  {
   "cell_type": "markdown",
   "metadata": {},
   "source": [
    "- (t통계량, p-value)형태\n",
    "- p-value 가 유의수준 0.05보다 작으므로 귀무가설 기각 -> 모평균은 서로 다르다고 할수 있다"
   ]
  },
  {
   "cell_type": "markdown",
   "metadata": {},
   "source": [
    "### 모분산검정\n",
    "#### 단일표본 검정"
   ]
  },
  {
   "cell_type": "code",
   "execution_count": 36,
   "metadata": {},
   "outputs": [
    {
     "name": "stdout",
     "output_type": "stream",
     "text": [
      "278.1033333333333\n"
     ]
    }
   ],
   "source": [
    "# Q. 임의의 점수 데이터를 임의로 생성하고, 모분산이 1,100보다 작다고 할 수 있는 주장의 입증을 위한 가설검정을 수행해보자.(정규성만족 가정)\n",
    "score=np.array([80.5,60.2,70,87,45,91,85])\n",
    "\n",
    "# 검정통계량 = (n-1)*표본분산/귀무가설에서 설정한 모분산\n",
    "var0=1100   # 귀무가설에서 설정한 모분산\n",
    "var=np.var(score,ddof=1)    # 표본분산\n",
    "print(var)"
   ]
  },
  {
   "cell_type": "code",
   "execution_count": 37,
   "metadata": {},
   "outputs": [
    {
     "name": "stdout",
     "output_type": "stream",
     "text": [
      "1.5169272727272727\n"
     ]
    }
   ],
   "source": [
    "stat=(len(score)-1)*var/var0 # 검정통계량\n",
    "print(stat)"
   ]
  },
  {
   "cell_type": "code",
   "execution_count": 38,
   "metadata": {},
   "outputs": [
    {
     "data": {
      "text/plain": [
       "0.041637780038918736"
      ]
     },
     "execution_count": 38,
     "metadata": {},
     "output_type": "execute_result"
    }
   ],
   "source": [
    "# 카이분포를 통해 직접 유의확률 계산\n",
    "# 좌측검정이므로 Pr[chisq2(자유도)<검정통계량]으로 계산\n",
    "from scipy.stats import chi2\n",
    "chi2.cdf(stat,len(score)-1)"
   ]
  },
  {
   "cell_type": "markdown",
   "metadata": {},
   "source": [
    "- 검정결과 p-value가 0.0416이므로 유의수준 5%에서 귀무가설을 기각하기 떄문에 모분산이 1100보다 작다고 할수 있다."
   ]
  },
  {
   "cell_type": "code",
   "execution_count": 39,
   "metadata": {},
   "outputs": [
    {
     "data": {
      "text/plain": [
       "0.9583622199610813"
      ]
     },
     "execution_count": 39,
     "metadata": {},
     "output_type": "execute_result"
    }
   ],
   "source": [
    "# (참고) 우측 검정일 경우,  Pr[chisq2(자유도)>검정통계량]으로 계산\n",
    "1-chi2.cdf(stat,len(score)-1)"
   ]
  },
  {
   "cell_type": "code",
   "execution_count": 40,
   "metadata": {},
   "outputs": [
    {
     "data": {
      "text/plain": [
       "0.08327556007783747"
      ]
     },
     "execution_count": 40,
     "metadata": {},
     "output_type": "execute_result"
    }
   ],
   "source": [
    "# (참고) 양측 검정일 경우, 2*좌측검정의 유의확률 또는 2*우측검정의 유의확률로 계산\n",
    "# 여기서는 표분분산< 모분산이므로 좌측검정의 유의확률에서 2배를 곱함\n",
    "2*chi2.cdf(stat,len(score)-1)"
   ]
  },
  {
   "cell_type": "code",
   "execution_count": 41,
   "metadata": {},
   "outputs": [],
   "source": [
    "# 유의수준 5%에서 모분산이 1100보다 작다고 할 수는 있는 있지만 통계적으로 다르다고 하기는 어렵다."
   ]
  },
  {
   "cell_type": "markdown",
   "metadata": {},
   "source": [
    "#### 분산비 검정"
   ]
  },
  {
   "cell_type": "code",
   "execution_count": 42,
   "metadata": {},
   "outputs": [
    {
     "name": "stdout",
     "output_type": "stream",
     "text": [
      "212.66666666666669 1138.4107142857142\n"
     ]
    }
   ],
   "source": [
    "# Q. 두 집단 (a,b)에 대한 점수 데이터 임의로 생성하고 a 집단의 모분산이 b집단 모분산보다\n",
    "# 작다고 할수 있는 지를 검정해보자. (가설은 a 모분산< b모분산으로 가정, 정규성 만족 가정)\n",
    "# 두 집단(a,b)에 대한 점수 데이터 임의로 생성\n",
    "a=np.array([70,80,75,65,100,98])\n",
    "b=np.array([20,100,50,94,28,80,95,30])\n",
    "\n",
    "# 표본 분산 계산\n",
    "var_a=np.var(a,ddof=1)\n",
    "var_b=np.var(b,ddof=1)\n",
    "print(var_a,var_b)"
   ]
  },
  {
   "cell_type": "code",
   "execution_count": 43,
   "metadata": {},
   "outputs": [
    {
     "name": "stdout",
     "output_type": "stream",
     "text": [
      "0.18681014154026346\n"
     ]
    }
   ],
   "source": [
    "# 검정통계량 = 집단 a의 분산/집단b의 분산(가설: a모분산<b모분산)\n",
    "stat=var_a/var_b\n",
    "print(stat)"
   ]
  },
  {
   "cell_type": "code",
   "execution_count": 44,
   "metadata": {},
   "outputs": [
    {
     "name": "stdout",
     "output_type": "stream",
     "text": [
      "5 7\n"
     ]
    }
   ],
   "source": [
    "# 자유도 계산\n",
    "df1,df2=len(a)-1,len(b)-1\n",
    "print(df1,df2)"
   ]
  },
  {
   "cell_type": "code",
   "execution_count": 45,
   "metadata": {},
   "outputs": [
    {
     "name": "stdout",
     "output_type": "stream",
     "text": [
      "0.04153943037562959\n"
     ]
    }
   ],
   "source": [
    "# F분포를 통해 직접 유의 확률 계산\n",
    "# 좌측검정이므로 Pr[F(자유도1,자유도2)>검정통계량]으로 계산\n",
    "# 좌측검정인이유? 가설: a 모분산 < b 모분산 <=> a모분산/b모분산<1)\n",
    "from scipy.stats import f\n",
    "pval=f.cdf(stat,df1,df2)\n",
    "print(pval)"
   ]
  },
  {
   "cell_type": "markdown",
   "metadata": {},
   "source": [
    "- 검정결과 p-value 가 0.0415 이므로 5% 미만 귀무가설 기각. a모분산 < b모분산 이라고 할수있다/"
   ]
  },
  {
   "cell_type": "code",
   "execution_count": 46,
   "metadata": {},
   "outputs": [
    {
     "data": {
      "text/plain": [
       "0.9584605696243704"
      ]
     },
     "execution_count": 46,
     "metadata": {},
     "output_type": "execute_result"
    }
   ],
   "source": [
    "# (참고) 우측검정일경우, Pr[F(자유도1,자유도2)>검정통계량]으로 계산\n",
    "1-f.cdf(stat,df1,df2)"
   ]
  },
  {
   "cell_type": "code",
   "execution_count": 47,
   "metadata": {},
   "outputs": [
    {
     "data": {
      "text/plain": [
       "0.062370657581417376"
      ]
     },
     "execution_count": 47,
     "metadata": {},
     "output_type": "execute_result"
    }
   ],
   "source": [
    "# (참고) 양측 검정일 경우, 현재 검정통계량이 보다 작으므로 아래와 같이계산함\n",
    "# Pr[F(자유도1,자유도2)<검정통계량] + Pr[F( 자유도2,자유도1)>1/검정통계량]\n",
    "f.cdf(stat,df1,df2)+(1-f.cdf(1/stat,df2,df2))"
   ]
  },
  {
   "cell_type": "code",
   "execution_count": 48,
   "metadata": {},
   "outputs": [],
   "source": [
    "# 유의수준 5%에서 a 집단의 모분산이 b집단의 모분산보다 작다고 할 수있짐나 통계적으로 다르다고하기는 어렵다."
   ]
  },
  {
   "cell_type": "markdown",
   "metadata": {},
   "source": [
    "#### Bartlett 검정\n",
    "- 정규성을 충족하는 데이터에서 등분산성 검정"
   ]
  },
  {
   "cell_type": "code",
   "execution_count": 49,
   "metadata": {},
   "outputs": [],
   "source": [
    "# 임의로 세 그룹의 점수 데이터를 생성한 후, 생성된 표본들 간의 등분산성 확인을 위한 Bartlett검정을 수행해보자\n",
    "# 두 집단(a,b)에 대한 점수 데이터를 임의로 생성\n",
    "# 임의로 세 그룹의 점수 데이터를 생성\n",
    "a=np.array([70,80,75,65,100,98])\n",
    "b=np.array([20,100,50,94,28,80])\n",
    "c=np.array([90,97,95,94,99,100])"
   ]
  },
  {
   "cell_type": "code",
   "execution_count": 50,
   "metadata": {},
   "outputs": [
    {
     "data": {
      "text/plain": [
       "BartlettResult(statistic=15.6702722148674, pvalue=0.00039558846873743075)"
      ]
     },
     "execution_count": 50,
     "metadata": {},
     "output_type": "execute_result"
    }
   ],
   "source": [
    "# Bartlett 검정수행\n",
    "from scipy.stats import bartlett\n",
    "bartlett(a,b,c)"
   ]
  },
  {
   "cell_type": "markdown",
   "metadata": {},
   "source": [
    "- (검정통계량, p-value)\n",
    "- p-value가 매우 작으므로 귀무가설을 기각, 그룹간 분산에 유의미한 차이가 있다고 할수있따."
   ]
  },
  {
   "cell_type": "markdown",
   "metadata": {},
   "source": [
    "#### levene 검정\n",
    "- Levene검정은 정규성을 충족하지 않는 데이터에 등분산검정"
   ]
  },
  {
   "cell_type": "code",
   "execution_count": 51,
   "metadata": {},
   "outputs": [
    {
     "data": {
      "text/plain": [
       "LeveneResult(statistic=14.365736704446384, pvalue=0.00032713621045500125)"
      ]
     },
     "execution_count": 51,
     "metadata": {},
     "output_type": "execute_result"
    }
   ],
   "source": [
    "from scipy.stats import levene\n",
    "levene(a,b,c)"
   ]
  },
  {
   "cell_type": "markdown",
   "metadata": {},
   "source": [
    "- (검정통계량, p-value)\n",
    "- p-value가 매우 작으므르 유의수준 5% 에서 귀무가설 기각 <그룹간으 ㅣ분산에 유의미한 차이가 있따"
   ]
  },
  {
   "cell_type": "markdown",
   "metadata": {},
   "source": [
    "### 분산분석\n",
    "#### 일원배치 분산분석"
   ]
  },
  {
   "cell_type": "code",
   "execution_count": 53,
   "metadata": {},
   "outputs": [],
   "source": [
    "#Q. A~C 세개 학교에서 각 1000명씩 층화추출한 데이터를 활용해 \n",
    "# 세 학교 간 기말고사 성적으 ㅣ평균이 서로 차이가 있는지 검정하고자 한다.\n",
    "# (성별, 학년의 비율을 세 학교가 동일, 정규성, 등분산성등 만족 가정) \n",
    "import pandas as pd\n",
    "from statsmodels.formula.api import ols\n",
    "from statsmodels.stats.anova import anova_lm"
   ]
  },
  {
   "cell_type": "code",
   "execution_count": 56,
   "metadata": {},
   "outputs": [
    {
     "name": "stdout",
     "output_type": "stream",
     "text": [
      "        id School Sex  Grade  Final\n",
      "0        1      A   M      1   44.4\n",
      "1        2      A   M      2   47.7\n",
      "2        3      A   M      3   65.6\n",
      "3        4      A   F      1   50.7\n",
      "4        5      A   F      2   51.3\n",
      "...    ...    ...  ..    ...    ...\n",
      "2995  2996      C   M      2   84.1\n",
      "2996  2997      C   M      3   81.6\n",
      "2997  2998      C   F      1   83.2\n",
      "2998  2999      C   F      2   92.8\n",
      "2999  3000      C   F      3  100.0\n",
      "\n",
      "[3000 rows x 5 columns]\n"
     ]
    }
   ],
   "source": [
    "df=pd.read_csv('../예제/school_score.csv')\n",
    "print(df)"
   ]
  },
  {
   "cell_type": "code",
   "execution_count": 57,
   "metadata": {},
   "outputs": [],
   "source": [
    "one_way=ols('Final~C(School)',data=df).fit()"
   ]
  },
  {
   "cell_type": "code",
   "execution_count": 58,
   "metadata": {},
   "outputs": [
    {
     "name": "stdout",
     "output_type": "stream",
     "text": [
      "               df         sum_sq        mean_sq            F  PR(>F)\n",
      "C(School)     2.0  996939.237147  498469.618573  5722.221007     0.0\n",
      "Residual   2997.0  261072.308290      87.111214          NaN     NaN\n"
     ]
    }
   ],
   "source": [
    "# anova_lm 함수를 사용해 분산분석\n",
    "result=anova_lm(one_way)\n",
    "print(result)"
   ]
  },
  {
   "cell_type": "markdown",
   "metadata": {},
   "source": [
    "- C(School)의 Pr(>F) 값이 매우 작으므로 유의수준 5%에서 귀무가설을 기각 \n",
    "- 세학교 간 기말고사 성적의 평균이 서로 차이가 있다."
   ]
  },
  {
   "cell_type": "markdown",
   "metadata": {},
   "source": [
    "#### 사후검정"
   ]
  },
  {
   "cell_type": "code",
   "execution_count": 59,
   "metadata": {},
   "outputs": [
    {
     "name": "stdout",
     "output_type": "stream",
     "text": [
      "Multiple Comparison of Means - Tukey HSD, FWER=0.05 \n",
      "====================================================\n",
      "group1 group2 meandiff p-adj   lower   upper  reject\n",
      "----------------------------------------------------\n",
      "     A      B  38.8464    0.0 37.8677 39.8251   True\n",
      "     A      C  38.4922    0.0 37.5135 39.4709   True\n",
      "     B      C  -0.3542 0.6728 -1.3329  0.6245  False\n",
      "----------------------------------------------------\n"
     ]
    }
   ],
   "source": [
    "# Q. 위에서 수행된 분산분석 이후 과정인 사후검정을 수행해보자. (튜키의 다중비교로 진행)\n",
    "from statsmodels.stats.multicomp import pairwise_tukeyhsd\n",
    "\n",
    "# tukey의 다중비교 시행\n",
    "tukey_result=pairwise_tukeyhsd(endog=df['Final'],\n",
    "                               groups=df['School'],\n",
    "                               alpha=0.05)\n",
    "print(tukey_result)"
   ]
  },
  {
   "cell_type": "markdown",
   "metadata": {},
   "source": [
    "- 두 그룹간의 평균차이(meandiff)와 95%신뢰구간(lower,upper)\n",
    "- 신뢰구간에 0을 포함하지 않는 A,B 와 A,C 간에는 기말고사 평균은 차이가 있고, B와 C는 신뢰구간에 0을 포함하지 않으므로 평균의 차이가 없다고 할수있다.\n",
    "- reject 결과만으로도 False인경우 유의미한 차이가 없고, True인 경우 유의미한 차이가 있다.\n"
   ]
  },
  {
   "cell_type": "markdown",
   "metadata": {},
   "source": [
    "#### 이원배치 분산분석"
   ]
  },
  {
   "cell_type": "code",
   "execution_count": 61,
   "metadata": {},
   "outputs": [
    {
     "name": "stdout",
     "output_type": "stream",
     "text": [
      "                        df         sum_sq        mean_sq            F  \\\n",
      "C(School)              2.0  996939.237147  498469.618573  5721.620556   \n",
      "C(Grade)               2.0     324.472829     162.236415     1.862210   \n",
      "C(School):C(Grade)     4.0     170.851257      42.712814     0.490274   \n",
      "Residual            2991.0  260576.984204      87.120356          NaN   \n",
      "\n",
      "                      PR(>F)  \n",
      "C(School)           0.000000  \n",
      "C(Grade)            0.155509  \n",
      "C(School):C(Grade)  0.742912  \n",
      "Residual                 NaN  \n"
     ]
    }
   ],
   "source": [
    "# Q. 위에서 사용한 데이터를 활용해 학교와 성별이 기말고사 성적이 영향을 주는지 알아보기 위해 이원배치 분산분석을 수행해보자\n",
    "two_way=ols('Final~C(School)+C(Grade)+C(School):C(Grade)',data=df).fit()\n",
    "\n",
    "# anova_lm함수를 사용해 이원배치 분산분석\n",
    "result=anova_lm(two_way)\n",
    "print(result)"
   ]
  },
  {
   "cell_type": "markdown",
   "metadata": {},
   "source": [
    "- PR(>F)로부터 P-value 가 크다면 통계적으로 유의미 하지 않다"
   ]
  },
  {
   "cell_type": "code",
   "execution_count": 62,
   "metadata": {},
   "outputs": [
    {
     "name": "stdout",
     "output_type": "stream",
     "text": [
      "               df         sum_sq        mean_sq            F    PR(>F)\n",
      "C(School)     2.0  996939.237147  498469.618573  5725.518315  0.000000\n",
      "C(Grade)      2.0     324.472829     162.236415     1.863479  0.155312\n",
      "Residual   2995.0  260747.835461      87.061047          NaN       NaN\n"
     ]
    }
   ],
   "source": [
    "# two way ols 모형객체를 생성(교호작용x)\n",
    "two_way=ols('Final~C(School)+C(Grade)',data=df).fit()\n",
    "\n",
    "# anova_lm 함수를 사용해 이원배치 분산분석\n",
    "result=anova_lm(two_way)\n",
    "print(result)"
   ]
  },
  {
   "cell_type": "code",
   "execution_count": null,
   "metadata": {},
   "outputs": [],
   "source": []
  }
 ],
 "metadata": {
  "kernelspec": {
   "display_name": "TORCH_38",
   "language": "python",
   "name": "python3"
  },
  "language_info": {
   "codemirror_mode": {
    "name": "ipython",
    "version": 3
   },
   "file_extension": ".py",
   "mimetype": "text/x-python",
   "name": "python",
   "nbconvert_exporter": "python",
   "pygments_lexer": "ipython3",
   "version": "3.8.19"
  }
 },
 "nbformat": 4,
 "nbformat_minor": 2
}

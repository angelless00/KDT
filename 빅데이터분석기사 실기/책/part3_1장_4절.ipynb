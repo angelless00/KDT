{
 "cells": [
  {
   "cell_type": "markdown",
   "metadata": {},
   "source": [
    "## 4절 카이제곱 검정\n",
    "### 적합성 검정"
   ]
  },
  {
   "cell_type": "code",
   "execution_count": 3,
   "metadata": {},
   "outputs": [
    {
     "data": {
      "text/plain": [
       "Power_divergenceResult(statistic=82.94, pvalue=4.14849046718008e-17)"
      ]
     },
     "execution_count": 3,
     "metadata": {},
     "output_type": "execute_result"
    }
   ],
   "source": [
    "# Q. A회사에서 출시되는 제품 공정결과의 예를 보고 색상과 관계없이 동일한 비율로 제품을 생산하는지 적합성 검정을 수행해보자\n",
    "import numpy as np\n",
    "color=['Black','Gold','Purple','Red','White']   # 색상(분석에 필요x)\n",
    "counts=[423,304,274,205,294]    # 수량\n",
    "expected=300    # 기대도수(동일한비율=1500/5)\n",
    "\n",
    "# 적합성 검정 수행\n",
    "from scipy.stats import chisquare\n",
    "chisquare(f_obs=counts,f_exp=expected)"
   ]
  },
  {
   "cell_type": "markdown",
   "metadata": {},
   "source": [
    "### 동질성 검정"
   ]
  },
  {
   "cell_type": "code",
   "execution_count": 4,
   "metadata": {},
   "outputs": [],
   "source": [
    "# Q. A회사의 성별에 따른 제품 선호도조사의 예를 보고 성별 간 선호도의 차이 검증을 위한 동질성 검정을 수행하자.\n",
    "import pandas as pd\n",
    "from scipy.stats import chi2_contingency\n",
    "# 교차표에 맞게 데이터 프레임생성\n",
    "obj={'Good':[400,350],'Bad':[350,800]}\n",
    "cross=pd.DataFrame(obj)"
   ]
  },
  {
   "cell_type": "code",
   "execution_count": 7,
   "metadata": {},
   "outputs": [
    {
     "name": "stdout",
     "output_type": "stream",
     "text": [
      "98.66917336693975\n",
      "2.984113573360021e-23\n",
      "1\n",
      "[[296.05263158 453.94736842]\n",
      " [453.94736842 696.05263158]]\n"
     ]
    }
   ],
   "source": [
    "# 동질성 검정 수행\n",
    "chi,p,df,expected=chi2_contingency(cross)\n",
    "print(chi)  # 카이제곱 통계량\n",
    "print(p)    # p- 값\n",
    "print(df)   # 자유도\n",
    "print(expected) # 기대빈도"
   ]
  },
  {
   "cell_type": "markdown",
   "metadata": {},
   "source": [
    "- p-value가 매우 작으므로  귀무가설 기각, 성별에따라 선호도의 비율이 다르다고 할수있다"
   ]
  },
  {
   "cell_type": "markdown",
   "metadata": {},
   "source": [
    "### 독립성검정"
   ]
  },
  {
   "cell_type": "code",
   "execution_count": 9,
   "metadata": {},
   "outputs": [],
   "source": [
    "# Q. A회사의 출시된 제품의 한달간 판매량의 예이다. 이를  통해 성별과 색상이 서로 관련있는지 알아보기 위해 독립성 검정을 수행해보자.\n",
    "obj={'Black':[1620,2380],'Gold':[385,615],'Purple':[778,1230],'Red':[394,610],'White':[800,180]}\n",
    "cross=pd.DataFrame(obj)"
   ]
  },
  {
   "cell_type": "code",
   "execution_count": 10,
   "metadata": {},
   "outputs": [
    {
     "name": "stdout",
     "output_type": "stream",
     "text": [
      "626.2830361414021\n",
      "3.1731601033660286e-134\n",
      "4\n",
      "[[1769.12811388  442.28202847  888.10231317  444.05115658  433.4363879 ]\n",
      " [2230.87188612  557.71797153 1119.89768683  559.94884342  546.5636121 ]]\n"
     ]
    }
   ],
   "source": [
    "# 동질성 검정 수행\n",
    "from scipy.stats import chi2_contingency\n",
    "chi,p,df,expected = chi2_contingency(cross)\n",
    "print(chi)  # 카이제곱 통계량\n",
    "print(p)    # p- 값\n",
    "print(df)   # 자유도\n",
    "print(expected) # 기대빈도"
   ]
  },
  {
   "cell_type": "markdown",
   "metadata": {},
   "source": [
    "- p-value가 매우 작으므로 귀무가설 기각, 두변수는 종속적이다. 즉, 성별과 색상은 서로 관련이 있다"
   ]
  },
  {
   "cell_type": "markdown",
   "metadata": {},
   "source": [
    "## 5절 비모수 검정\n",
    "### 스피어만 상관계수 검정"
   ]
  },
  {
   "cell_type": "code",
   "execution_count": 12,
   "metadata": {},
   "outputs": [
    {
     "name": "stdout",
     "output_type": "stream",
     "text": [
      "<class 'pandas.core.frame.DataFrame'>\n",
      "RangeIndex: 442 entries, 0 to 441\n",
      "Data columns (total 10 columns):\n",
      " #   Column  Non-Null Count  Dtype  \n",
      "---  ------  --------------  -----  \n",
      " 0   age     442 non-null    float64\n",
      " 1   sex     442 non-null    float64\n",
      " 2   bmi     442 non-null    float64\n",
      " 3   bp      442 non-null    float64\n",
      " 4   s1      442 non-null    float64\n",
      " 5   s2      442 non-null    float64\n",
      " 6   s3      442 non-null    float64\n",
      " 7   s4      442 non-null    float64\n",
      " 8   s5      442 non-null    float64\n",
      " 9   s6      442 non-null    float64\n",
      "dtypes: float64(10)\n",
      "memory usage: 34.7 KB\n"
     ]
    }
   ],
   "source": [
    "import pandas as pd\n",
    "from sklearn.datasets import load_diabetes\n",
    "\n",
    "diabetes=load_diabetes()\n",
    "data=pd.DataFrame(diabetes.data,columns=diabetes.feature_names)\n",
    "data.info() # 확인"
   ]
  },
  {
   "cell_type": "code",
   "execution_count": 13,
   "metadata": {},
   "outputs": [
    {
     "data": {
      "text/plain": [
       "SignificanceResult(statistic=0.09807947297621517, pvalue=0.03929011358104615)"
      ]
     },
     "execution_count": 13,
     "metadata": {},
     "output_type": "execute_result"
    }
   ],
   "source": [
    "# Q. 1절의 피어슨 상관계수 대신 스피어만 상관계수로 상관관계를 분석해보자.\n",
    "# scipy.stats.speamanr\n",
    "from scipy.stats import spearmanr\n",
    "spearmanr(a=data['sex'],b=data['bmi'])"
   ]
  },
  {
   "cell_type": "markdown",
   "metadata": {},
   "source": [
    "- 0.098로 상관계수가 매우 적은것으로 나타남\n",
    "- p-value가 매우 작으므로 귀무가설을 기각 상관계수가 작지만 유의미하다고 할수있다"
   ]
  },
  {
   "cell_type": "code",
   "execution_count": 15,
   "metadata": {},
   "outputs": [
    {
     "data": {
      "text/html": [
       "<div>\n",
       "<style scoped>\n",
       "    .dataframe tbody tr th:only-of-type {\n",
       "        vertical-align: middle;\n",
       "    }\n",
       "\n",
       "    .dataframe tbody tr th {\n",
       "        vertical-align: top;\n",
       "    }\n",
       "\n",
       "    .dataframe thead th {\n",
       "        text-align: right;\n",
       "    }\n",
       "</style>\n",
       "<table border=\"1\" class=\"dataframe\">\n",
       "  <thead>\n",
       "    <tr style=\"text-align: right;\">\n",
       "      <th></th>\n",
       "      <th>sex</th>\n",
       "      <th>bmi</th>\n",
       "    </tr>\n",
       "  </thead>\n",
       "  <tbody>\n",
       "    <tr>\n",
       "      <th>sex</th>\n",
       "      <td>1.000000</td>\n",
       "      <td>0.098079</td>\n",
       "    </tr>\n",
       "    <tr>\n",
       "      <th>bmi</th>\n",
       "      <td>0.098079</td>\n",
       "      <td>1.000000</td>\n",
       "    </tr>\n",
       "  </tbody>\n",
       "</table>\n",
       "</div>"
      ],
      "text/plain": [
       "          sex       bmi\n",
       "sex  1.000000  0.098079\n",
       "bmi  0.098079  1.000000"
      ]
     },
     "execution_count": 15,
     "metadata": {},
     "output_type": "execute_result"
    }
   ],
   "source": [
    "data[['sex','bmi']].corr(method='spearman')\n",
    "# 으로도 확인가능"
   ]
  },
  {
   "cell_type": "markdown",
   "metadata": {},
   "source": [
    "### 켄달의 타우 검정"
   ]
  },
  {
   "cell_type": "code",
   "execution_count": 16,
   "metadata": {},
   "outputs": [
    {
     "data": {
      "text/plain": [
       "SignificanceResult(statistic=-0.29814239699997197, pvalue=0.4205962375999266)"
      ]
     },
     "execution_count": 16,
     "metadata": {},
     "output_type": "execute_result"
    }
   ],
   "source": [
    "# Q. 두 개의 등수 데이터를 임의로 생성하고 두 순위간 상관관계가 있는지 검정해보자.\n",
    "import numpy as np\n",
    "x=np.array([5,4,3,6,1,2])\n",
    "y=np.array([1,5,2,2,2,6])\n",
    "\n",
    "# 켄달의 타우 검정 실시\n",
    "from scipy.stats import kendalltau\n",
    "kendalltau(x,y)"
   ]
  },
  {
   "cell_type": "markdown",
   "metadata": {},
   "source": [
    "- (상관계수, p-value)\n",
    "- 상관계수가 -0.298로 상관관계가 거의 없음"
   ]
  },
  {
   "cell_type": "markdown",
   "metadata": {},
   "source": [
    "### 윌콕슨의 부호순위 검정"
   ]
  },
  {
   "cell_type": "code",
   "execution_count": null,
   "metadata": {},
   "outputs": [
    {
     "data": {
      "text/plain": [
       "WilcoxonResult(statistic=42.0, pvalue=0.5416259765625)"
      ]
     },
     "execution_count": 17,
     "metadata": {},
     "output_type": "execute_result"
    }
   ],
   "source": [
    "# Q. 3절의 단일표본  t-검정 대신 일표본 부호순위 검정을 수행해보자.\n",
    "from scipy.stats import wilcoxon\n",
    "\n",
    "# 일표본 윌콕슨 부호순위 검정\n",
    "# 몸무게 데이터 임의 생성\n",
    "kg=np.array([75.5,83.9,75.7,56.2,73.4,67.7,79.0,50.7,58.4,74.1,65.1,77.8,48.1,46.3])\n",
    "\n",
    "# 두 샘플의 크기가 다를 수 있으므로 길이를 맞추기\n",
    "wilcoxon(kg-70) # 70으로 설정"
   ]
  },
  {
   "cell_type": "markdown",
   "metadata": {},
   "source": [
    "- (검정통계량, p-value)\n",
    "- p-value > 0.05 귀무가설을 기각하지 못함, 중위수가 70과같다"
   ]
  },
  {
   "cell_type": "code",
   "execution_count": 18,
   "metadata": {},
   "outputs": [
    {
     "data": {
      "text/plain": [
       "WilcoxonResult(statistic=5.0, pvalue=0.15625)"
      ]
     },
     "execution_count": 18,
     "metadata": {},
     "output_type": "execute_result"
    }
   ],
   "source": [
    "# Q. 3절의 대응표본 t-검정 대신 이표본 부호순위 검정을 수행해보자\n",
    "female=np.array([50.7,58.4,74.1,65.1,77.8,48.1,46.3])\n",
    "male=np.array([75.5,83.9,75.7,56.2,73.4,67.7,79.0])\n",
    "\n",
    "# 두 데이터의 차이\n",
    "diff=female-male\n",
    "\n",
    "# 윌콕슨 부호순위 검정 실시\n",
    "wilcoxon(diff)"
   ]
  },
  {
   "cell_type": "markdown",
   "metadata": {},
   "source": [
    "- (검정통계량, p-value)\n",
    "- p-value > 0.05 귀무가설을 기각하지 못함, 두표본의 중앙값에 유의미한 ㅊ ㅏ이가 없다"
   ]
  },
  {
   "cell_type": "markdown",
   "metadata": {},
   "source": [
    "### 윌콕슨의 순위합 검정"
   ]
  },
  {
   "cell_type": "code",
   "execution_count": 19,
   "metadata": {},
   "outputs": [
    {
     "data": {
      "text/plain": [
       "RanksumsResult(statistic=-1.8527420384998257, pvalue=0.06391934147515746)"
      ]
     },
     "execution_count": 19,
     "metadata": {},
     "output_type": "execute_result"
    }
   ],
   "source": [
    "# Q. 3절의 독립표본 t검정 대신 순위합 검정을 수행해보자.\n",
    "from scipy.stats import ranksums\n",
    "ranksums(female,male)"
   ]
  },
  {
   "cell_type": "markdown",
   "metadata": {},
   "source": [
    "- p-value >0.05 귀무가설 기각 못함 두 표본의 중앙값에 유의미한 차이가 없다\n"
   ]
  },
  {
   "cell_type": "markdown",
   "metadata": {},
   "source": [
    "### 만-위트니 U검정"
   ]
  },
  {
   "cell_type": "code",
   "execution_count": 20,
   "metadata": {},
   "outputs": [
    {
     "data": {
      "text/plain": [
       "MannwhitneyuResult(statistic=10.0, pvalue=0.07284382284382285)"
      ]
     },
     "execution_count": 20,
     "metadata": {},
     "output_type": "execute_result"
    }
   ],
   "source": [
    "# Q. '3절의 독립표본 t-검정' 대신 만-위트니 U 검정을 수행해보자.\n",
    "from scipy.stats import mannwhitneyu\n",
    "mannwhitneyu(female,male)"
   ]
  },
  {
   "cell_type": "markdown",
   "metadata": {},
   "source": [
    "- p-value > 0.05 귀무가설을 기각하지 못함 . 두표본의 중앙값에 유의미한 차이가 없다"
   ]
  },
  {
   "cell_type": "markdown",
   "metadata": {},
   "source": [
    "### 크루스칼-왈리스 H검정"
   ]
  },
  {
   "cell_type": "code",
   "execution_count": null,
   "metadata": {},
   "outputs": [
    {
     "data": {
      "text/plain": [
       "KruskalResult(statistic=1978.1734792103248, pvalue=0.0)"
      ]
     },
     "execution_count": 22,
     "metadata": {},
     "output_type": "execute_result"
    }
   ],
   "source": [
    "import pandas as pd\n",
    "df=pd.read_csv('../예제/school_score.csv')\n",
    "\n",
    "# 입력 형태에 맞게 데이터 추출\n",
    "# 필요한 컬럼 각각 할당\n",
    "\n",
    "School=df['School']\n",
    "Final=df['Final']\n",
    "\n",
    "# School에 대해 각각 기말고사 점수 분리\n",
    "Final_A=Final[School=='A'].reset_index(drop=True)\n",
    "Final_B=Final[School=='B'].reset_index(drop=True)\n",
    "Final_C=Final[School=='C'].reset_index(drop=True)\n",
    "\n",
    "# 크루스칼 - 왈리스 검정 수행\n",
    "from scipy.stats import kruskal``\n",
    "kruskal(Final_A,Final_B,Final_C)"
   ]
  },
  {
   "cell_type": "code",
   "execution_count": null,
   "metadata": {},
   "outputs": [],
   "source": []
  }
 ],
 "metadata": {
  "kernelspec": {
   "display_name": "TORCH_38",
   "language": "python",
   "name": "python3"
  },
  "language_info": {
   "codemirror_mode": {
    "name": "ipython",
    "version": 3
   },
   "file_extension": ".py",
   "mimetype": "text/x-python",
   "name": "python",
   "nbconvert_exporter": "python",
   "pygments_lexer": "ipython3",
   "version": "3.8.19"
  }
 },
 "nbformat": 4,
 "nbformat_minor": 2
}

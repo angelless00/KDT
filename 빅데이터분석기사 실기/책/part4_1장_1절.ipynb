{
 "cells": [
  {
   "cell_type": "markdown",
   "metadata": {},
   "source": [
    "# Part4 머신러닝\n",
    "## 지도학습 모형\n",
    "### 데이터분할\n",
    "#### 홀드아웃"
   ]
  },
  {
   "cell_type": "markdown",
   "metadata": {},
   "source": [
    "Q. 사이킷런 패키지 내 breast_cancer 데잍러르 호출한 후 학습데이터와 평가데이터로 분할해보자. (단, 분할 시 breast_cancer 내의 data에 대하여 셔플을 진행하고 학슥. 평가데이터는 각각 X_train,y_train에 할당하고 target에 대해서는 y_train,y_test에 할당하고 학습데이터와 평가 데이터의 비율은 7:3으로 가정한다.)"
   ]
  },
  {
   "cell_type": "code",
   "execution_count": 1,
   "metadata": {},
   "outputs": [],
   "source": [
    "# breast_cancer 데이터 셋 호출\n",
    "from sklearn.datasets import load_breast_cancer\n",
    "breast_cancer=load_breast_cancer()\n",
    "data=breast_cancer.data\n",
    "target=breast_cancer.target"
   ]
  },
  {
   "cell_type": "code",
   "execution_count": 3,
   "metadata": {},
   "outputs": [
    {
     "name": "stdout",
     "output_type": "stream",
     "text": [
      "(398, 30) (171, 30) (398,) (171,)\n"
     ]
    }
   ],
   "source": [
    "# train val split 함수 호출\n",
    "from sklearn.model_selection import train_test_split\n",
    "\n",
    "X_train,X_test,y_train,y_test=train_test_split(data,target,test_size=0.3,random_state=2022)\n",
    "print(X_train.shape,X_test.shape,y_train.shape,y_test.shape)"
   ]
  },
  {
   "cell_type": "code",
   "execution_count": 6,
   "metadata": {},
   "outputs": [
    {
     "name": "stdout",
     "output_type": "stream",
     "text": [
      "(398, 30) (171, 30) (398,) (171,)\n"
     ]
    }
   ],
   "source": [
    "# stratify=target 원래의 target컬럼의 0과 1의 비율을 반영하여 데이터를 분할\n",
    "X_train,X_test,y_train,y_test=train_test_split(data,target,test_size=0.3,random_state=2022,stratify=target)\n",
    "print(X_train.shape,X_test.shape,y_train.shape,y_test.shape)"
   ]
  },
  {
   "cell_type": "markdown",
   "metadata": {},
   "source": [
    "#### K-fold"
   ]
  },
  {
   "cell_type": "markdown",
   "metadata": {},
   "source": [
    "Q. 길이가 10인 임의의 넘파이 배열을 생성한 수, 클래스 KFold()를 통하여 k=5인 k-fold 시행 시 데이터셋이 어떻게 분할되는지 알아보자."
   ]
  },
  {
   "cell_type": "code",
   "execution_count": 10,
   "metadata": {},
   "outputs": [
    {
     "name": "stdout",
     "output_type": "stream",
     "text": [
      "학습: [2 3 4 5 6 7 8 9] 평가: [0 1]\n",
      "학습: [0 1 4 5 6 7 8 9] 평가: [2 3]\n",
      "학습: [0 1 2 3 6 7 8 9] 평가: [4 5]\n",
      "학습: [0 1 2 3 4 5 8 9] 평가: [6 7]\n",
      "학습: [0 1 2 3 4 5 6 7] 평가: [8 9]\n"
     ]
    }
   ],
   "source": [
    "# 넘파이 배열 생성\n",
    "import numpy as np\n",
    "X=np.arange(10)\n",
    "\n",
    "# K-Fold 클래스 호출\n",
    "from sklearn.model_selection import KFold\n",
    "kfold=KFold(n_splits=5)\n",
    "\n",
    "# 메소드 .split은 학습, 평가 데이터르의 인덱스를 새엇ㅇ해줌\n",
    "for train_idx,test_idx in kfold.split(X):\n",
    "    print('학습:',train_idx,'평가:',test_idx)"
   ]
  },
  {
   "cell_type": "markdown",
   "metadata": {},
   "source": [
    "Q. 길이가 15인 임의의 넘파이 배열 X와 0,1,2의 비율이 각각 2:1:2인 리스트 y를 생성한 후, 클래서 StarifiedKFold()를 통하여 y의 비율을 반영하여 k=3인 k-fold 시행 시 데이터셋이 어떻게 분할 되는지 알아보자."
   ]
  },
  {
   "cell_type": "code",
   "execution_count": 16,
   "metadata": {},
   "outputs": [
    {
     "name": "stdout",
     "output_type": "stream",
     "text": [
      "학습: [ 2  3  4  5  7  8 11 12 13 14] 평가: [ 0  1  6  9 10]\n",
      "학습: [ 0  1  4  5  6  8  9 10 13 14] 평가: [ 2  3  7 11 12]\n",
      "학습: [ 0  1  2  3  6  7  9 10 11 12] 평가: [ 4  5  8 13 14]\n"
     ]
    }
   ],
   "source": [
    "import numpy as np\n",
    "X=np.arange(15)\n",
    "y=[0]*6+[1]*3+[2]*6\n",
    "\n",
    "# SatrifiedKFold호출\n",
    "from sklearn.model_selection import StratifiedKFold\n",
    "kfold=StratifiedKFold(n_splits=3)   # k=3\n",
    "\n",
    "for train_idx,test_idx in kfold.split(X,y):\n",
    "    print('학습:',train_idx,'평가:',test_idx)"
   ]
  },
  {
   "cell_type": "markdown",
   "metadata": {},
   "source": [
    "## 2절 성과분석\n",
    "### 분류지표\n",
    "#### 혼동행렬"
   ]
  },
  {
   "cell_type": "code",
   "execution_count": 17,
   "metadata": {},
   "outputs": [
    {
     "data": {
      "text/plain": [
       "array([[2, 1],\n",
       "       [0, 3]], dtype=int64)"
      ]
     },
     "execution_count": 17,
     "metadata": {},
     "output_type": "execute_result"
    }
   ],
   "source": [
    "from sklearn.metrics import confusion_matrix\n",
    "\n",
    "# 이진분류\n",
    "y_true=[0,0,0,1,1,1]\n",
    "y_pred=[0,1,0,1,1,1]\n",
    "\n",
    "confusion_matrix(y_true,y_pred) # 혼동행렬"
   ]
  },
  {
   "cell_type": "code",
   "execution_count": 20,
   "metadata": {},
   "outputs": [
    {
     "data": {
      "text/plain": [
       "array([[2, 1],\n",
       "       [0, 3]], dtype=int64)"
      ]
     },
     "execution_count": 20,
     "metadata": {},
     "output_type": "execute_result"
    }
   ],
   "source": [
    "# 이진분류(레이블로 되어 있을 경우)\n",
    "y_true=['A','A','A','B','B','B']\n",
    "y_pred=['A','B','A','B','B','B']\n",
    "\n",
    "confusion_matrix(y_true,y_pred,labels=['A','B'])   # 혼동행렬(레이블 구분)\n"
   ]
  },
  {
   "cell_type": "code",
   "execution_count": 21,
   "metadata": {},
   "outputs": [
    {
     "data": {
      "text/plain": [
       "array([[1, 2, 0],\n",
       "       [1, 1, 0],\n",
       "       [1, 1, 2]], dtype=int64)"
      ]
     },
     "execution_count": 21,
     "metadata": {},
     "output_type": "execute_result"
    }
   ],
   "source": [
    "# 다지분류 (레이블: 0,1,2)\n",
    "y_true=[0,0,0,1,1,2,2,2,2]\n",
    "y_pred=[0,1,1,1,0,0,1,2,2]\n",
    "confusion_matrix(y_true,y_pred) # 혼동행렬"
   ]
  },
  {
   "cell_type": "markdown",
   "metadata": {},
   "source": [
    "Q. 임의의 리스트 y_true와  y_pred를 생성한 후, 이진분류에 대하여 Accuracy, Recall, Precision, F1-score 를 구하는 코드를 작성해보자"
   ]
  },
  {
   "cell_type": "code",
   "execution_count": 23,
   "metadata": {},
   "outputs": [],
   "source": [
    "from sklearn.metrics import accuracy_score,recall_score,precision_score,f1_score"
   ]
  },
  {
   "cell_type": "code",
   "execution_count": 24,
   "metadata": {},
   "outputs": [
    {
     "name": "stdout",
     "output_type": "stream",
     "text": [
      "0.8333333333333334\n"
     ]
    }
   ],
   "source": [
    "# 이진분류\n",
    "y_true=[0,0,0,1,1,1]\n",
    "y_pred=[0,1,0,1,1,1]\n",
    "\n",
    "# 정분류율(Accuracy)\n",
    "accuracy=accuracy_score(y_true,y_pred)\n",
    "print(accuracy)"
   ]
  },
  {
   "cell_type": "code",
   "execution_count": 25,
   "metadata": {},
   "outputs": [
    {
     "name": "stdout",
     "output_type": "stream",
     "text": [
      "1.0\n"
     ]
    }
   ],
   "source": [
    "# 재현율(Recall)\n",
    "recall=recall_score(y_true,y_pred)\n",
    "print(recall)"
   ]
  },
  {
   "cell_type": "code",
   "execution_count": 26,
   "metadata": {},
   "outputs": [
    {
     "name": "stdout",
     "output_type": "stream",
     "text": [
      "0.75\n"
     ]
    }
   ],
   "source": [
    "# 정밀도 (precision)\n",
    "precision=precision_score(y_true,y_pred)\n",
    "print(precision)"
   ]
  },
  {
   "cell_type": "code",
   "execution_count": 27,
   "metadata": {},
   "outputs": [
    {
     "name": "stdout",
     "output_type": "stream",
     "text": [
      "0.8571428571428571\n"
     ]
    }
   ],
   "source": [
    "# f1-score\n",
    "f1=f1_score(y_true,y_pred)\n",
    "print(f1)"
   ]
  },
  {
   "cell_type": "markdown",
   "metadata": {},
   "source": [
    "#### AUC"
   ]
  },
  {
   "cell_type": "markdown",
   "metadata": {},
   "source": [
    "Q. 임의의 리스트 y_true와 y_score를 생성한 수, 이진분류에 대하여 AUC를 구하는 코드를 작성해보자."
   ]
  },
  {
   "cell_type": "code",
   "execution_count": 29,
   "metadata": {},
   "outputs": [
    {
     "name": "stdout",
     "output_type": "stream",
     "text": [
      "0.888888888888889\n"
     ]
    }
   ],
   "source": [
    "from sklearn.metrics import roc_curve,auc\n",
    "\n",
    "# 이진분류\n",
    "y_true=[0,0,0,1,1,1]\n",
    "y_score=[0.1,0.75,0.35,0.92,0.81,0.68]\n",
    "\n",
    "# ROC\n",
    "fpr,tpr,thresholds=roc_curve(y_true,y_score)\n",
    "\n",
    "# AUC\n",
    "AUC=auc(fpr,tpr)    # roc_curve()에서 반환된 fpr을 x축, tpr을 y축\n",
    "print(AUC)"
   ]
  },
  {
   "cell_type": "markdown",
   "metadata": {},
   "source": [
    "### 예측지표"
   ]
  },
  {
   "cell_type": "markdown",
   "metadata": {},
   "source": [
    "Q. 임의의 리스트 y_true와 y_pred를 생성한 후, 목푯값이 연속형인 모델의 평가지표 MSE,MAE,MAPE를 구하는 코드를 작성해보자."
   ]
  },
  {
   "cell_type": "code",
   "execution_count": 33,
   "metadata": {},
   "outputs": [
    {
     "name": "stdout",
     "output_type": "stream",
     "text": [
      "[0.69646919 0.28613933 0.22685145 0.55131477 0.71946897]\n",
      "[0.42310646 0.9807642  0.68482974 0.4809319  0.39211752]\n"
     ]
    }
   ],
   "source": [
    "from sklearn.metrics import mean_squared_error,mean_absolute_error,mean_absolute_percentage_error\n",
    "\n",
    "# 연속형 데이터\n",
    "# 균일분포 (0,1)에서 임의의 난수 생성\n",
    "import numpy as np\n",
    "np.random.seed(123) # 난수고정\n",
    "\n",
    "y_true=np.random.random_sample(5)   # 균일분포 (0,1)에서 5개 랜덤 추출\n",
    "print(y_true)\n",
    "\n",
    "y_pred=np.random.random_sample(5)   # 균일분포(0,1)에서 5개 랜덤추출\n",
    "print(y_pred)"
   ]
  },
  {
   "cell_type": "code",
   "execution_count": 34,
   "metadata": {},
   "outputs": [
    {
     "name": "stdout",
     "output_type": "stream",
     "text": [
      "0.17581754220802784\n"
     ]
    }
   ],
   "source": [
    "# MSE\n",
    "mse=mean_squared_error(y_true,y_pred)\n",
    "print(mse)"
   ]
  },
  {
   "cell_type": "code",
   "execution_count": 35,
   "metadata": {},
   "outputs": [
    {
     "name": "stdout",
     "output_type": "stream",
     "text": [
      "0.36474003862364796\n"
     ]
    }
   ],
   "source": [
    "# MAE\n",
    "mae=mean_absolute_error(y_true,y_pred)\n",
    "print(mae)"
   ]
  },
  {
   "cell_type": "code",
   "execution_count": 37,
   "metadata": {},
   "outputs": [
    {
     "name": "stdout",
     "output_type": "stream",
     "text": [
      "1.0843148337483364\n"
     ]
    }
   ],
   "source": [
    "# MAPE\n",
    "mape=mean_absolute_percentage_error(y_true,y_pred)\n",
    "print(mape)"
   ]
  },
  {
   "cell_type": "code",
   "execution_count": null,
   "metadata": {},
   "outputs": [],
   "source": []
  }
 ],
 "metadata": {
  "kernelspec": {
   "display_name": "ML_38",
   "language": "python",
   "name": "python3"
  },
  "language_info": {
   "codemirror_mode": {
    "name": "ipython",
    "version": 3
   },
   "file_extension": ".py",
   "mimetype": "text/x-python",
   "name": "python",
   "nbconvert_exporter": "python",
   "pygments_lexer": "ipython3",
   "version": "3.8.19"
  }
 },
 "nbformat": 4,
 "nbformat_minor": 2
}

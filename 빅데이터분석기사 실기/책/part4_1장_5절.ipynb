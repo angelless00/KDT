{
 "cells": [
  {
   "cell_type": "markdown",
   "metadata": {},
   "source": [
    "## 5절 나이브베이즈"
   ]
  },
  {
   "cell_type": "markdown",
   "metadata": {},
   "source": [
    "Q. 사이킷런 패키지 내 breast_cancer 데이터를 호출한 후 학습데이터와 평가데이터로 분할하고 클래스 BernouliNB()을 통헤 이진분류 모셩객체를 생성하고 학습한후 평가데이터로 목푯값을 예측하고 성능을 측정하는 코드를 작성해보자. (단, 학습과 평가 데이터의 비울은 8대2로 하고, target의 비율을 반영하교 평가지표는 AUC를 사용해보자)"
   ]
  },
  {
   "cell_type": "code",
   "execution_count": 5,
   "metadata": {},
   "outputs": [],
   "source": [
    "from sklearn.naive_bayes import BernoulliNB\n",
    "from sklearn.model_selection import train_test_split\n",
    "from sklearn.datasets import load_breast_cancer\n",
    "\n",
    "breast_cancer=load_breast_cancer()\n",
    "data=breast_cancer.data\n",
    "target=breast_cancer.target\n",
    "\n",
    "X_train,X_test,y_train,y_test=train_test_split(data,target,test_size=0.2,random_state=2205,stratify=target)\n",
    "\n",
    "# 모형 객체생성\n",
    "nb_bin=BernoulliNB(alpha=0.5)\n",
    "\n",
    "# 모델학습\n",
    "model_nb_bin=nb_bin.fit(X_train,y_train)"
   ]
  },
  {
   "cell_type": "code",
   "execution_count": 6,
   "metadata": {},
   "outputs": [
    {
     "name": "stdout",
     "output_type": "stream",
     "text": [
      "0.5347222222222222\n"
     ]
    }
   ],
   "source": [
    "# ROC\n",
    "from sklearn.metrics import roc_curve, auc\n",
    "y_score=model_nb_bin.predict_proba(X_test)[:,1]\n",
    "fpr,tpr,thresholds=roc_curve(y_test,y_score)\n",
    "\n",
    "# AUC\n",
    "AUC=auc(fpr,tpr)\n",
    "print(AUC)"
   ]
  },
  {
   "cell_type": "markdown",
   "metadata": {},
   "source": [
    "Q. 사이킷런 패키지 내 iris 데이터를 호출한 후 학습데이터와 평가데이터로 분할하고 클래스 MultinomialNB()를 통해 다지분류 모형객체를생성하고 학습한 후평가데이터로 목푯값을 예측하고 성능르 측정하는 코드를 작성해보자. (단, 학습과 평가데이터의 비율은 8대2로 하고, target의 비율을 반영하고 평가지표는 macro f1-score를 사용해보자.)"
   ]
  },
  {
   "cell_type": "code",
   "execution_count": 10,
   "metadata": {},
   "outputs": [],
   "source": [
    "from sklearn.naive_bayes import MultinomialNB\n",
    "from sklearn.model_selection import train_test_split\n",
    "from sklearn.datasets import load_iris\n",
    "\n",
    "iris=load_iris()\n",
    "data=iris.data\n",
    "target=iris.target\n",
    "\n",
    "X_train,X_test,y_train,y_test=train_test_split(data,target,test_size=0.2,random_state=2205,stratify=target)\n",
    "\n",
    "# 모형객체 생성\n",
    "nb_multi=MultinomialNB(alpha=1.5)\n",
    "\n",
    "# 모델학습\n",
    "model_nb_multi=nb_multi.fit(X_train,y_train)\n"
   ]
  },
  {
   "cell_type": "code",
   "execution_count": 11,
   "metadata": {},
   "outputs": [
    {
     "name": "stdout",
     "output_type": "stream",
     "text": [
      "0.9665831244778613\n"
     ]
    }
   ],
   "source": [
    "# macro f1-score\n",
    "from sklearn.metrics import f1_score\n",
    "y_pred=model_nb_multi.predict(X_test)\n",
    "\n",
    "macro_f1=f1_score(y_test,y_pred,average='macro')\n",
    "print(macro_f1)"
   ]
  },
  {
   "cell_type": "markdown",
   "metadata": {},
   "source": [
    "Q. 사이킷런 패키지 내 diabetes 데이터를 호출한 후 학습데이터와 평가 데이터로 분할하고 클래스 GaussianNB()를 통해 연속형 예측 모형객체를 생성하고 학습한 후 평가데이터로 목푯값을 예측하고 성능을 측정하는 코드를 작성해보자. (단, 학습과 평가 데이터 비율은 8대2로 하고 평가지표는 RMSE를 사용하자.)"
   ]
  },
  {
   "cell_type": "code",
   "execution_count": 18,
   "metadata": {},
   "outputs": [],
   "source": [
    "from sklearn.naive_bayes import GaussianNB\n",
    "from sklearn.model_selection import train_test_split\n",
    "from sklearn.datasets import load_diabetes\n",
    "\n",
    "diabetes=load_diabetes()\n",
    "data=diabetes.data\n",
    "target=diabetes.target\n",
    "\n",
    "X_train,X_test,y_train,y_test=train_test_split(data,target,test_size=0.2,random_state=2205)\n",
    "\n",
    "# 모델객체생성\n",
    "nb_conti=GaussianNB()\n",
    "model_nb_conti=nb_conti.fit(X_train,y_train)\n"
   ]
  },
  {
   "cell_type": "code",
   "execution_count": 19,
   "metadata": {},
   "outputs": [
    {
     "name": "stdout",
     "output_type": "stream",
     "text": [
      "78.87808826910528\n"
     ]
    }
   ],
   "source": [
    "# RMSE\n",
    "from sklearn.metrics import mean_squared_error\n",
    "y_pred=model_nb_conti.predict(X_test)\n",
    "rmse=mean_squared_error(y_test,y_pred,squared=False)\n",
    "print(rmse)"
   ]
  },
  {
   "cell_type": "markdown",
   "metadata": {},
   "source": [
    "### K-최근접이웃"
   ]
  },
  {
   "cell_type": "markdown",
   "metadata": {},
   "source": [
    "Q. 사이킷런 패키지 내 breast_cancer데이터를 호출한 후 학습데이터와 평가데이터로 분할하고 클래스 KNeighborsClassifier()를 통해 이진분류 모형객체를 생성하고 학습한 후 평가 데이터로 목푯값을 예측하고 성능을 측정하는 코드를 작성해보자. (단, 학습과 평가 데이터의 비율을 8대2로 하고, target의 비율을 반영하고 평가지표는 AUC를 사용해보자)\n"
   ]
  },
  {
   "cell_type": "code",
   "execution_count": 27,
   "metadata": {},
   "outputs": [],
   "source": [
    "from sklearn.neighbors import KNeighborsClassifier\n",
    "from sklearn.model_selection import train_test_split\n",
    "from sklearn.datasets import load_breast_cancer\n",
    "\n",
    "breast_cancer=load_breast_cancer()\n",
    "data=breast_cancer.data\n",
    "target=breast_cancer.target\n",
    "\n",
    "X_train,X_test,y_train,y_test=train_test_split(data,target,test_size=0.2,random_state=2205,stratify=target)\n",
    "\n",
    "# 모형 객체 생성\n",
    "knn_bin=KNeighborsClassifier(n_neighbors=5,weights='distance')\n",
    "\n",
    "model_knn_bin=knn_bin.fit(X_train,y_train)"
   ]
  },
  {
   "cell_type": "code",
   "execution_count": 31,
   "metadata": {},
   "outputs": [
    {
     "name": "stdout",
     "output_type": "stream",
     "text": [
      "0.9993386243386244\n"
     ]
    }
   ],
   "source": [
    "# ROC\n",
    "from sklearn.metrics import roc_curve,auc\n",
    "y_score=model_knn_bin.predict_proba(X_test)[:,1]\n",
    "fpr,tpr,thresholds=roc_curve(y_test,y_score)\n",
    "\n",
    "# AUC\n",
    "AUC=auc(fpr,tpr)\n",
    "print(AUC)"
   ]
  },
  {
   "cell_type": "markdown",
   "metadata": {},
   "source": [
    "Q. 사이킷런 패키지 내 iris 데이터를 호출한 후 학습 데이터와 평가데이터로 분할하고 클래스 KNeighborsClassifier()를 통해 다지분류 모형객체를 생성하고 학습한후 평가 데이터로 목푯값을 예측하고 성능을 측정하는 코드를 작성해보자. (단, 학습과 평가데이터의 비율은 반영하고 평가지표는 macro f1-score를 사용해보자.)"
   ]
  },
  {
   "cell_type": "code",
   "execution_count": 36,
   "metadata": {},
   "outputs": [],
   "source": [
    "from sklearn.neighbors import KNeighborsClassifier\n",
    "from sklearn.model_selection import train_test_split\n",
    "from sklearn.datasets import load_iris\n",
    "iris=load_iris()\n",
    "data=iris.data\n",
    "target=iris.target\n",
    "\n",
    "X_train,X_test,y_train,y_test=train_test_split(data,target,test_size=0.2,random_state=2205,stratify=target)\n",
    "\n",
    "knn_multi=KNeighborsClassifier(n_neighbors=10,weights='distance')\n",
    "\n",
    "model_knn_multi=knn_multi.fit(X_train,y_train)"
   ]
  },
  {
   "cell_type": "code",
   "execution_count": 38,
   "metadata": {},
   "outputs": [
    {
     "name": "stdout",
     "output_type": "stream",
     "text": [
      "1.0\n"
     ]
    }
   ],
   "source": [
    "from sklearn.metrics import f1_score\n",
    "y_pred=model_knn_multi.predict(X_test)\n",
    "\n",
    "macro_f1=f1_score(y_test,y_pred,average='macro')\n",
    "print(macro_f1)"
   ]
  },
  {
   "cell_type": "markdown",
   "metadata": {},
   "source": [
    "Q. 사이킷런 패키지 내 diabetes 데이터를 호출한 후 학습 데이터와 평가데이터로 분할하고 클래스 KNeighborsRegressor()를 통해 연속형 예측 모형객체를 생성하고 학습한 후 평가 데이터로 목표값을 예측하고 성능을 측정하는 코드를 작성해보자. (단, 학습과 평가 데이터의 비율을 8대2로하고 평가지표는 RMSE를 사용해보자.)"
   ]
  },
  {
   "cell_type": "code",
   "execution_count": null,
   "metadata": {},
   "outputs": [],
   "source": [
    "from sklearn.neighbors import KNeighborsRegressor\n",
    "from sklearn.model_selection import train_test_split\n",
    "\n",
    "from sklearn.datasets import load_diabetes\n",
    "\n",
    "disabetes=load_diabetes()\n",
    "data=disabetes.data\n",
    "target=disabetes.target\n",
    "\n",
    "X_train,X_test,y_train,y_test=train_test_split(data,target,test_size=0.2,random_state=2205)\n",
    "\n",
    "knn_conti=KNeighborsRegressor()\n",
    "\n",
    "model_knn_conti=knn_conti.fit(X_train,y_train)\n",
    "\n"
   ]
  },
  {
   "cell_type": "code",
   "execution_count": 43,
   "metadata": {},
   "outputs": [
    {
     "name": "stdout",
     "output_type": "stream",
     "text": [
      "64.72231784296892\n"
     ]
    }
   ],
   "source": [
    "from sklearn.metrics import mean_squared_error\n",
    "y_pred=model_knn_conti.predict(X_test)\n",
    "rmse=mean_squared_error(y_test,y_pred,squared=False)\n",
    "print(rmse)"
   ]
  },
  {
   "cell_type": "code",
   "execution_count": null,
   "metadata": {},
   "outputs": [],
   "source": []
  }
 ],
 "metadata": {
  "kernelspec": {
   "display_name": "ML_38",
   "language": "python",
   "name": "python3"
  },
  "language_info": {
   "codemirror_mode": {
    "name": "ipython",
    "version": 3
   },
   "file_extension": ".py",
   "mimetype": "text/x-python",
   "name": "python",
   "nbconvert_exporter": "python",
   "pygments_lexer": "ipython3",
   "version": "3.8.19"
  }
 },
 "nbformat": 4,
 "nbformat_minor": 2
}

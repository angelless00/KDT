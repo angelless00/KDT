{
 "cells": [
  {
   "cell_type": "markdown",
   "metadata": {},
   "source": [
    "Q. 사이킷런 패키지 내 breast_cancer 데이터를 호출한 후 학습 데이터와 평가 데이터로 분할하고 클래스 DecisionTreeClassifier()를 통해 이진분류 모형 객체를 생성하고 학습한 후 평가 데이터로 목푯값을 예측하고 성늘을 측정하는 코드를 작성해 보자. (단, 학습과 평가 데이터의 비율은 8대2로하고, target의 비율은 반영하고 평가지표는 AUC를 사용해보자.)"
   ]
  },
  {
   "cell_type": "code",
   "execution_count": 4,
   "metadata": {},
   "outputs": [],
   "source": [
    "from sklearn.tree import DecisionTreeClassifier\n",
    "from sklearn.model_selection import train_test_split\n",
    "\n",
    "from sklearn.datasets import load_breast_cancer\n",
    "\n",
    "breast_cancer=load_breast_cancer()\n",
    "data=breast_cancer.data\n",
    "target=breast_cancer.target\n",
    "\n",
    "X_train,X_test,y_train,y_test= train_test_split(data,target,test_size=0.2,random_state=2205,stratify=target)\n",
    "\n",
    "dtr_bin=DecisionTreeClassifier(max_depth=3,min_samples_leaf=10,random_state=2022)\n",
    "\n",
    "model_dtr_bin=dtr_bin.fit(X_train,y_train)"
   ]
  },
  {
   "cell_type": "code",
   "execution_count": 7,
   "metadata": {},
   "outputs": [
    {
     "name": "stdout",
     "output_type": "stream",
     "text": [
      "0.999834656084656\n"
     ]
    }
   ],
   "source": [
    "# ROC\n",
    "from sklearn.metrics import roc_curve,auc\n",
    "y_score=model_dtr_bin.predict_proba(X_test)[:,1]\n",
    "fpr,tpr,thresholds=roc_curve(y_test,y_score)\n",
    "\n",
    "# AUC\n",
    "AUC=auc(fpr,tpr)\n",
    "print(AUC)"
   ]
  },
  {
   "cell_type": "markdown",
   "metadata": {},
   "source": [
    "Q. 사이킷런 패키지 내 iris 데이터를 호출한 후 학습 데이터와 평가 데이터로 분할하고 클래스 DecisionTreeClassifier()를 통해 다지분류 모형객체를 행성하고 학습한 후 평가 데이터로 목표값을 예측하고 성능을 측정하는 코드를 작성해 보자(단,학습과 평가 데이터의 비율은 8대2로하고, target의 비율을 반영하고 평가지표는 AUC를 사용해보자.)"
   ]
  },
  {
   "cell_type": "code",
   "execution_count": null,
   "metadata": {},
   "outputs": [],
   "source": [
    "from sklearn.tree import DecisionTreeClassifier\n",
    "from sklearn.model_selection import train_test_split\n",
    "from sklearn.datasets import load_iris\n",
    "\n",
    "iris=load_iris()\n",
    "data=iris.data\n",
    "target=iris.target\n",
    "\n",
    "X_train,X_test,y_train,y_test=train_test_split(data,target,test_size=0.2,random_state=2205,stratify=target)\n",
    "\n",
    "dtr_multi=DecisionTreeClassifier(max_depth=3,min_samples_leaf=10,random_state=2022)\n",
    "\n",
    "model_dtr_multi=dtr_multi.fit(X_train,y_train)"
   ]
  },
  {
   "cell_type": "code",
   "execution_count": 9,
   "metadata": {},
   "outputs": [
    {
     "name": "stdout",
     "output_type": "stream",
     "text": [
      "0.9665831244778613\n"
     ]
    }
   ],
   "source": [
    "# macro f1-score\n",
    "from sklearn.metrics import f1_score\n",
    "y_pred=model_dtr_multi.predict(X_test)\n",
    "\n",
    "macro_f1=f1_score(y_test,y_pred,average='macro')\n",
    "print(macro_f1)"
   ]
  },
  {
   "cell_type": "markdown",
   "metadata": {},
   "source": [
    "Q. 사이킷런 패키지 내 diabetes 데이터를 호출한 후 학습데이터와 평가데이터로 분할하고 DecisionTreeRegressor()를 통해 연속형 예측 모형객체를 생성하고 학습한 후 평가 데이터로 목푯값을 예측하고 성능을 측정하는 코드를 작성해보자. (단, 학습과 평가데이터의 비율으 8대2로 하고 평가지표는 RMSE를 사용해보자)"
   ]
  },
  {
   "cell_type": "code",
   "execution_count": 11,
   "metadata": {},
   "outputs": [],
   "source": [
    "from sklearn.tree import DecisionTreeRegressor\n",
    "from sklearn.model_selection import train_test_split\n",
    "\n",
    "from sklearn.datasets import load_diabetes\n",
    "\n",
    "diabetes=load_diabetes()\n",
    "data=diabetes.data\n",
    "target=diabetes.target\n",
    "\n",
    "X_train,X_test,y_train,y_test = train_test_split(data,target,test_size=0.2,random_state=2205)\n",
    "\n",
    "dtr_conti=DecisionTreeRegressor(max_depth=3,min_samples_leaf=10,random_state=2022)\n",
    "\n",
    "model_dtr_conti=dtr_conti.fit(X_train,y_train)"
   ]
  },
  {
   "cell_type": "code",
   "execution_count": 12,
   "metadata": {},
   "outputs": [
    {
     "name": "stdout",
     "output_type": "stream",
     "text": [
      "68.43615007635243\n"
     ]
    }
   ],
   "source": [
    "# RMSE\n",
    "from sklearn.metrics import mean_squared_error\n",
    "y_pred=model_dtr_conti.predict(X_test)\n",
    "rmse=mean_squared_error(y_test,y_pred,squared=False)\n",
    "print(rmse)"
   ]
  },
  {
   "cell_type": "code",
   "execution_count": null,
   "metadata": {},
   "outputs": [],
   "source": []
  }
 ],
 "metadata": {
  "kernelspec": {
   "display_name": "ML_38",
   "language": "python",
   "name": "python3"
  },
  "language_info": {
   "codemirror_mode": {
    "name": "ipython",
    "version": 3
   },
   "file_extension": ".py",
   "mimetype": "text/x-python",
   "name": "python",
   "nbconvert_exporter": "python",
   "pygments_lexer": "ipython3",
   "version": "3.8.19"
  }
 },
 "nbformat": 4,
 "nbformat_minor": 2
}

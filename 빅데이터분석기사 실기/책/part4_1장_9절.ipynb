{
 "cells": [
  {
   "cell_type": "markdown",
   "metadata": {},
   "source": [
    "## 9절 앙상블\n",
    "### 배깅"
   ]
  },
  {
   "cell_type": "markdown",
   "metadata": {},
   "source": [
    "Q. 사이킷런 패키지 내 breast_cancer 데이터를 호출한 후 학습데이터와 평가 데이터로 분할하고 클래스 BaggingClassifier()를 통해 이진분류 모형객체를 생성하고 학습한 후 평가 데이터로 목표값을 예측하고 성능을 측정하는 코드를 작성해보자. (단, 학습과 평가데이터의 비율은 8대2로 하고, target의 비율을 반영하고 평가지표는 AUC를 사용해보자.)"
   ]
  },
  {
   "cell_type": "code",
   "execution_count": 4,
   "metadata": {},
   "outputs": [
    {
     "name": "stderr",
     "output_type": "stream",
     "text": [
      "c:\\Users\\KDP-30\\anaconda3\\envs\\ML_38\\lib\\site-packages\\sklearn\\ensemble\\_base.py:156: FutureWarning: `base_estimator` was renamed to `estimator` in version 1.2 and will be removed in 1.4.\n",
      "  warnings.warn(\n"
     ]
    }
   ],
   "source": [
    "from sklearn.tree import DecisionTreeClassifier\n",
    "from sklearn.ensemble import BaggingClassifier\n",
    "from sklearn.model_selection import train_test_split\n",
    "\n",
    "from sklearn.datasets import load_breast_cancer\n",
    "breast_cancer=load_breast_cancer()\n",
    "data=breast_cancer.data\n",
    "target=breast_cancer.target\n",
    "\n",
    "X_train,X_test,y_train,y_test = train_test_split(data,target,test_size=0.2,random_state=2205,stratify=target)\n",
    "\n",
    "dtr=DecisionTreeClassifier(max_depth=3,min_samples_leaf=10)\n",
    "bag_bin=BaggingClassifier(base_estimator=dtr,n_estimators=500,random_state=2022)\n",
    "model_bag_bin=bag_bin.fit(X_train,y_train)"
   ]
  },
  {
   "cell_type": "code",
   "execution_count": 5,
   "metadata": {},
   "outputs": [
    {
     "name": "stdout",
     "output_type": "stream",
     "text": [
      "0.9973544973544974\n"
     ]
    }
   ],
   "source": [
    "# ROC\n",
    "from sklearn.metrics import roc_curve,auc\n",
    "\n",
    "y_score=model_bag_bin.predict_proba(X_test)[:,1]\n",
    "fpr,tpr,thresholds=roc_curve(y_test,y_score)\n",
    "\n",
    "# AUC\n",
    "AUC=auc(fpr,tpr)\n",
    "print(AUC)"
   ]
  },
  {
   "cell_type": "markdown",
   "metadata": {},
   "source": [
    "Q. 사이킷런 패키지 내 iris데이터를 호출한 후 학습데이터와 평가데이터로 분할하고 클래스 BaggingClassifier()를 통해 다지분류 모형객체를 생성하고 학습한후 평가 데이터로 목푯값을 예측하고 성능을 측정하는 코드를 작성해보자.(단, 학습과 평가 데이터의 비율은 8대2로하고, target의 비율을 반영하고 평가지표는 macro f1-score를 사용해보자.)"
   ]
  },
  {
   "cell_type": "code",
   "execution_count": 7,
   "metadata": {},
   "outputs": [
    {
     "name": "stderr",
     "output_type": "stream",
     "text": [
      "c:\\Users\\KDP-30\\anaconda3\\envs\\ML_38\\lib\\site-packages\\sklearn\\ensemble\\_base.py:156: FutureWarning: `base_estimator` was renamed to `estimator` in version 1.2 and will be removed in 1.4.\n",
      "  warnings.warn(\n"
     ]
    }
   ],
   "source": [
    "from sklearn.tree import DecisionTreeClassifier\n",
    "from sklearn.ensemble import BaggingClassifier\n",
    "from sklearn.model_selection import train_test_split\n",
    "\n",
    "from sklearn.datasets import load_iris\n",
    "\n",
    "X_train,X_test,y_train,y_test = train_test_split(data,target,test_size=0.2,random_state=2205,stratify=target)\n",
    "\n",
    "dtr=DecisionTreeClassifier(max_depth=3,min_samples_leaf=10)\n",
    "\n",
    "bag_multi=BaggingClassifier(base_estimator=dtr,n_estimators=500,random_state=2022)\n",
    "\n",
    "# 모델학습\n",
    "model_bag_multi=bag_multi.fit(X_train,y_train)"
   ]
  },
  {
   "cell_type": "code",
   "execution_count": 8,
   "metadata": {},
   "outputs": [
    {
     "name": "stdout",
     "output_type": "stream",
     "text": [
      "0.9539245008487591\n"
     ]
    }
   ],
   "source": [
    "# macro f1-score\n",
    "from sklearn.metrics import f1_score\n",
    "y_pred=model_bag_multi.predict(X_test)\n",
    "\n",
    "macro_f1=f1_score(y_test,y_pred,average='macro')\n",
    "print(macro_f1)"
   ]
  },
  {
   "cell_type": "markdown",
   "metadata": {},
   "source": [
    "Q. 사이킷런 패키지 내 diabetes 데이터를 호출 한 후 학습 데이터와 평가데이터로 분할하고 클래스 BaggingRegressor()를 통해 연속형 예측 모형 객체를 생성하고 학습한 후 평가 데이터로 목푯값을 예측하고 성능을 측정하는 코드를 작성해보자. (단, 학습과 평가 데이터의 비율은 8대2로하고 평가지표는 RMSE를 사용해보자.)"
   ]
  },
  {
   "cell_type": "code",
   "execution_count": 10,
   "metadata": {},
   "outputs": [
    {
     "name": "stderr",
     "output_type": "stream",
     "text": [
      "c:\\Users\\KDP-30\\anaconda3\\envs\\ML_38\\lib\\site-packages\\sklearn\\ensemble\\_base.py:156: FutureWarning: `base_estimator` was renamed to `estimator` in version 1.2 and will be removed in 1.4.\n",
      "  warnings.warn(\n"
     ]
    }
   ],
   "source": [
    "from sklearn.tree import DecisionTreeRegressor\n",
    "from sklearn.ensemble import BaggingRegressor\n",
    "from sklearn.model_selection import train_test_split\n",
    "\n",
    "from sklearn.datasets import load_diabetes\n",
    "diabetes=load_diabetes()\n",
    "data=diabetes.data\n",
    "target=diabetes.target\n",
    "\n",
    "X_train,X_test,y_train,y_test = train_test_split(data,target,test_size=0.2,random_state=2205)\n",
    "\n",
    "dtr=DecisionTreeRegressor(max_depth=3,min_samples_leaf=10)\n",
    "bag_conti=BaggingRegressor(base_estimator=dtr,n_estimators=500,random_state=2022)\n",
    "\n",
    "model_bag_conti=bag_conti.fit(X_train,y_train)"
   ]
  },
  {
   "cell_type": "code",
   "execution_count": 19,
   "metadata": {},
   "outputs": [
    {
     "name": "stdout",
     "output_type": "stream",
     "text": [
      "62.45208491746776\n"
     ]
    }
   ],
   "source": [
    "# RMSE\n",
    "from sklearn.metrics import mean_squared_error\n",
    "y_pred=model_bag_conti.predict(X_test)\n",
    "rmse=mean_squared_error(y_test,y_pred,squared=False)\n",
    "print(rmse)"
   ]
  },
  {
   "cell_type": "markdown",
   "metadata": {},
   "source": [
    "### 랜덤포레스트"
   ]
  },
  {
   "cell_type": "markdown",
   "metadata": {},
   "source": [
    "Q. 사이킷런 패키지내 breast_cancer 데이터를 호출한 후 학습데이터와 평가데이터로 분할하고 클래스 RandomForestClassifier ()를 통해 이진분류 모형객체를 생성하고 학습한 후 평가데이터로 목푯값을 에측하고 성능을 측정하는 코드를 작성해보자. (단, 학습고 ㅏ평가 데이터으 ㅣ비율은 8대2로하고,  target의 비율은 반영하고 평가ㅣ지표는 AUC를 사용해보자)"
   ]
  },
  {
   "cell_type": "code",
   "execution_count": 24,
   "metadata": {},
   "outputs": [],
   "source": [
    "from sklearn.ensemble import RandomForestClassifier\n",
    "from sklearn.model_selection import train_test_split\n",
    "\n",
    "from sklearn.datasets import load_breast_cancer\n",
    "breast_cancer=load_breast_cancer()\n",
    "data=breast_cancer.data\n",
    "target=breast_cancer.target\n",
    "\n",
    "X_train,X_test,y_train,y_test = train_test_split(data,target,test_size=0.2,random_state=2205,stratify=target)\n",
    "\n",
    "rf_bin=RandomForestClassifier(n_estimators=500, max_depth=3,min_samples_leaf=10,max_features='sqrt',random_state=2022)\n",
    "\n",
    "model_rf_bin=rf_bin.fit(X_train,y_train)"
   ]
  },
  {
   "cell_type": "code",
   "execution_count": 25,
   "metadata": {},
   "outputs": [
    {
     "name": "stdout",
     "output_type": "stream",
     "text": [
      "0.9996693121693121\n"
     ]
    }
   ],
   "source": [
    "# ROC \n",
    "from sklearn.metrics import roc_curve,auc\n",
    "y_score=model_rf_bin.predict_proba(X_test)[:,1]\n",
    "fpr,tpr,thresholds=roc_curve(y_test,y_score)\n",
    "\n",
    "# AUC\n",
    "AUC=auc(fpr,tpr)\n",
    "print(AUC)"
   ]
  },
  {
   "cell_type": "markdown",
   "metadata": {},
   "source": [
    "Q. 사이킷런 패키지내 iris 데이터를 호출한 후 학습데이터와 평가데이터로 분할하고 클래스 RandomForestClassifier ()를 통해 다지분류 모형객체를 생성하고 학습한 후 평가데이터로 목푯값을 에측하고 성능을 측정하는 코드를 작성해보자. (단, 학습과 평가 데이터의 비율은 8대2로하고,  target의 비율은 반영하고 평가ㅣ지표는 AUC를 사용해보자)"
   ]
  },
  {
   "cell_type": "code",
   "execution_count": 30,
   "metadata": {},
   "outputs": [],
   "source": [
    "from sklearn.ensemble import RandomForestClassifier\n",
    "from sklearn.model_selection import train_test_split\n",
    "\n",
    "from sklearn.datasets import load_iris\n",
    "iris=load_iris()\n",
    "data=iris.data\n",
    "target=iris.target\n",
    "\n",
    "X_train,X_test,y_train,y_test = train_test_split(data,target,test_size=0.2,random_state=2205,stratify=target)\n",
    "\n",
    "rf_multi=RandomForestClassifier(n_estimators=500, max_depth=3,min_samples_leaf=10,max_features='sqrt',random_state=2022)\n",
    "model_rf_multi=rf_multi.fit(X_train,y_train)"
   ]
  },
  {
   "cell_type": "code",
   "execution_count": 32,
   "metadata": {},
   "outputs": [
    {
     "name": "stdout",
     "output_type": "stream",
     "text": [
      "1.0\n"
     ]
    }
   ],
   "source": [
    "# macro f1_score\n",
    "from sklearn.metrics import f1_score\n",
    "y_pred=model_rf_multi.predict(X_test)\n",
    "macro_f1=f1_score(y_test,y_pred,average='macro')\n",
    "print(macro_f1)"
   ]
  },
  {
   "cell_type": "markdown",
   "metadata": {},
   "source": [
    "Q. 사이킷런 패키지 내 diabetes 데이터를 호출 한 후 학습 데이터와 평가데이터로 분할하고 클래스 RandomForestRegressor()를 통해 연속형 예측 모형 객체를 생성하고 학습한 후 평가 데이터로 목푯값을 예측하고 성능을 측정하는 코드를 작성해보자. (단, 학습과 평가 데이터의 비율은 8대2로하고 평가지표는 RMSE를 사용해보자.)"
   ]
  },
  {
   "cell_type": "code",
   "execution_count": 37,
   "metadata": {},
   "outputs": [],
   "source": [
    "from sklearn.ensemble import RandomForestRegressor\n",
    "from sklearn.model_selection import train_test_split\n",
    "\n",
    "from sklearn.datasets import load_diabetes\n",
    "\n",
    "diabetes=load_diabetes()\n",
    "data=load_diabetes()\n",
    "data=diabetes.data\n",
    "target=diabetes.target\n",
    "\n",
    "X_train,X_test,y_train,y_test = train_test_split(data,target,test_size=0.2,random_state=2205)\n",
    "\n",
    "rf_conti=RandomForestClassifier(n_estimators=500, max_depth=3,min_samples_leaf=10,max_features=3,random_state=2022)\n",
    "\n",
    "model_rf_conti=rf_conti.fit(X_train,y_train)"
   ]
  },
  {
   "cell_type": "code",
   "execution_count": 39,
   "metadata": {},
   "outputs": [
    {
     "name": "stdout",
     "output_type": "stream",
     "text": [
      "72.90697474379344\n"
     ]
    }
   ],
   "source": [
    "# RMSE\n",
    "from sklearn.metrics import mean_squared_error\n",
    "y_pred=model_rf_conti.predict(X_test)\n",
    "rmse=mean_squared_error(y_test,y_pred,squared=False)\n",
    "print(rmse)"
   ]
  },
  {
   "cell_type": "markdown",
   "metadata": {},
   "source": []
  },
  {
   "cell_type": "code",
   "execution_count": null,
   "metadata": {},
   "outputs": [],
   "source": []
  }
 ],
 "metadata": {
  "kernelspec": {
   "display_name": "ML_38",
   "language": "python",
   "name": "python3"
  },
  "language_info": {
   "codemirror_mode": {
    "name": "ipython",
    "version": 3
   },
   "file_extension": ".py",
   "mimetype": "text/x-python",
   "name": "python",
   "nbconvert_exporter": "python",
   "pygments_lexer": "ipython3",
   "version": "3.8.19"
  }
 },
 "nbformat": 4,
 "nbformat_minor": 2
}

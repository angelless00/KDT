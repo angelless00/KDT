{
 "cells": [
  {
   "cell_type": "markdown",
   "metadata": {},
   "source": [
    "## 2장 군집 모형\n",
    "### 1절 군집평가\n",
    "- 군집이 얼마나 잘 형성되어있는가를 체크\n",
    "#### 1 실루엣계수\n",
    "#### 2 RI ARI"
   ]
  },
  {
   "cell_type": "markdown",
   "metadata": {},
   "source": [
    "Q. 임의의 리스트 labels_true와 labels_pred를 생성한 후, 함수 rand_score(),adjust_rand_score()를 통하여 RI와 ARI극 게산하는 파이썬코드를 작성해보자"
   ]
  },
  {
   "cell_type": "code",
   "execution_count": 2,
   "metadata": {},
   "outputs": [
    {
     "name": "stdout",
     "output_type": "stream",
     "text": [
      "0.7222222222222222\n",
      "0.3076923076923077\n"
     ]
    }
   ],
   "source": [
    "# 임의의 리스트 생성\n",
    "labels_true=[0,0,0,1,1,1,1,2,2]\n",
    "labels_pred=[0,0,1,1,1,1,2,2,2]\n",
    "\n",
    "from sklearn.metrics.cluster import rand_score,adjusted_rand_score\n",
    "\n",
    "# RI(랜드 지수)\n",
    "ri=rand_score(labels_true,labels_pred)\n",
    "print(ri)\n",
    "\n",
    "# ARI (조정 랜드 지수)\n",
    "ari=adjusted_rand_score(labels_true,labels_pred)\n",
    "print(ari)"
   ]
  },
  {
   "cell_type": "markdown",
   "metadata": {},
   "source": [
    "### 2절 계층적 군집분석"
   ]
  },
  {
   "cell_type": "markdown",
   "metadata": {},
   "source": [
    "Q. 사이킷런 패키지 내 iris 데이터를 호출한 후 클래스 AgglomerativeClustering()를 통해 네 종류의 연결법에 따른 모형객체를 생성하여 각각 군집을 형성하여 예측된 레이블과 정답 레이블을 이용하여 RI와 ARI를 계산하는 코드를 작성해보자. (단, 군집은 세가지를 형성할것)"
   ]
  },
  {
   "cell_type": "code",
   "execution_count": 6,
   "metadata": {},
   "outputs": [
    {
     "name": "stdout",
     "output_type": "stream",
     "text": [
      "0.8797315436241611\n",
      "0.8922595078299776\n",
      "0.8367785234899329\n",
      "0.7766442953020134\n"
     ]
    }
   ],
   "source": [
    "from sklearn.cluster import AgglomerativeClustering\n",
    "from sklearn.metrics.cluster import rand_score,adjusted_rand_score\n",
    "\n",
    "from sklearn.datasets import load_iris\n",
    "iris=load_iris()\n",
    "data=iris.data\n",
    "labels_true=iris.target # 정답레이블\n",
    "\n",
    "# 와드 연결법\n",
    "agg_ward=AgglomerativeClustering(n_clusters=3)\n",
    "labels_pred_ward=agg_ward.fit_predict(data)\n",
    "\n",
    "# 평균 연결법\n",
    "agg_avg=AgglomerativeClustering(n_clusters=3,linkage='average')\n",
    "labels_pred_avg=agg_avg.fit_predict(data)\n",
    "\n",
    "# 최장 연결법\n",
    "agg_comp=AgglomerativeClustering(n_clusters=3,linkage='complete')\n",
    "labels_pred_comp=agg_comp.fit_predict(data)\n",
    "\n",
    "# 최단 연결법\n",
    "agg_sing=AgglomerativeClustering(n_clusters=3,linkage='single')\n",
    "labels_pred_sing=agg_sing.fit_predict(data)\n",
    "\n",
    "# RI 비교\n",
    "print(rand_score(labels_true,labels_pred_ward)) # 와드 연결법\n",
    "\n",
    "print(rand_score(labels_true,labels_pred_avg)) # 평균 연결법\n",
    "\n",
    "print(rand_score(labels_true,labels_pred_comp)) # 최장 연결법\n",
    "\n",
    "print(rand_score(labels_true,labels_pred_sing)) # 최단 연결법\n"
   ]
  },
  {
   "cell_type": "code",
   "execution_count": 7,
   "metadata": {},
   "outputs": [
    {
     "name": "stdout",
     "output_type": "stream",
     "text": [
      "0.7311985567707746\n",
      "0.7591987071071522\n",
      "0.6422512518362898\n",
      "0.5637510205230709\n"
     ]
    }
   ],
   "source": [
    "# ARI 비교\n",
    "print(adjusted_rand_score(labels_true,labels_pred_ward)) # 와드 연결법\n",
    "\n",
    "print(adjusted_rand_score(labels_true,labels_pred_avg)) # 평균 연결법\n",
    "\n",
    "print(adjusted_rand_score(labels_true,labels_pred_comp)) # 최장 연결법\n",
    "\n",
    "print(adjusted_rand_score(labels_true,labels_pred_sing)) # 최단 연결법\n"
   ]
  },
  {
   "cell_type": "markdown",
   "metadata": {},
   "source": [
    "### 3절 k-means 군집분석\n"
   ]
  },
  {
   "cell_type": "markdown",
   "metadata": {},
   "source": [
    "Q. 사이킷런 패키지 내 iris 데이터를 호출한 후 군집의 수(k)가 2~4개 일떄, k-mean모형에 대하여 전체, 레이블별 실루엣계수의 평균을 계산하는 코드를 작성해보자."
   ]
  },
  {
   "cell_type": "code",
   "execution_count": 16,
   "metadata": {},
   "outputs": [
    {
     "name": "stdout",
     "output_type": "stream",
     "text": [
      "labels\n",
      "0    0.769526\n",
      "1    0.632701\n",
      "Name: silhouette, dtype: float64\n",
      "0.6810461692117462\n"
     ]
    },
    {
     "name": "stderr",
     "output_type": "stream",
     "text": [
      "c:\\Users\\KDP-30\\anaconda3\\envs\\ML_38\\lib\\site-packages\\sklearn\\cluster\\_kmeans.py:1412: FutureWarning: The default value of `n_init` will change from 10 to 'auto' in 1.4. Set the value of `n_init` explicitly to suppress the warning\n",
      "  super()._check_params_vs_input(X, default_n_init=10)\n",
      "c:\\Users\\KDP-30\\anaconda3\\envs\\ML_38\\lib\\site-packages\\sklearn\\cluster\\_kmeans.py:1436: UserWarning: KMeans is known to have a memory leak on Windows with MKL, when there are less chunks than available threads. You can avoid it by setting the environment variable OMP_NUM_THREADS=1.\n",
      "  warnings.warn(\n",
      "c:\\Users\\KDP-30\\anaconda3\\envs\\ML_38\\lib\\site-packages\\sklearn\\cluster\\_kmeans.py:1412: FutureWarning: The default value of `n_init` will change from 10 to 'auto' in 1.4. Set the value of `n_init` explicitly to suppress the warning\n",
      "  super()._check_params_vs_input(X, default_n_init=10)\n",
      "c:\\Users\\KDP-30\\anaconda3\\envs\\ML_38\\lib\\site-packages\\sklearn\\cluster\\_kmeans.py:1436: UserWarning: KMeans is known to have a memory leak on Windows with MKL, when there are less chunks than available threads. You can avoid it by setting the environment variable OMP_NUM_THREADS=1.\n",
      "  warnings.warn(\n",
      "c:\\Users\\KDP-30\\anaconda3\\envs\\ML_38\\lib\\site-packages\\sklearn\\cluster\\_kmeans.py:1412: FutureWarning: The default value of `n_init` will change from 10 to 'auto' in 1.4. Set the value of `n_init` explicitly to suppress the warning\n",
      "  super()._check_params_vs_input(X, default_n_init=10)\n",
      "c:\\Users\\KDP-30\\anaconda3\\envs\\ML_38\\lib\\site-packages\\sklearn\\cluster\\_kmeans.py:1436: UserWarning: KMeans is known to have a memory leak on Windows with MKL, when there are less chunks than available threads. You can avoid it by setting the environment variable OMP_NUM_THREADS=1.\n",
      "  warnings.warn(\n"
     ]
    }
   ],
   "source": [
    "from sklearn.cluster import KMeans\n",
    "from sklearn.metrics import silhouette_score,silhouette_samples\n",
    "\n",
    "from sklearn.datasets import load_iris\n",
    "iris=load_iris()\n",
    "data=iris.data\n",
    "\n",
    "# k=2일떄 k-means 군집모형으로 군집형성\n",
    "kmeans_k2=KMeans(n_clusters=2,random_state=2022)\n",
    "labels_pred_k2=kmeans_k2.fit_predict(data)\n",
    "\n",
    "# k=3일떄 k-means 군집모형으로 군집형성\n",
    "kmeans_k3=KMeans(n_clusters=3,random_state=2022)\n",
    "labels_pred_k3=kmeans_k3.fit_predict(data)\n",
    "\n",
    "# k=4일떄 k-means 군집모형으로 군집형성\n",
    "kmeans_k4=KMeans(n_clusters=4,random_state=2022)\n",
    "labels_pred_k4=kmeans_k4.fit_predict(data)\n",
    "\n",
    "# 개체별로 연결법에 따른 실루엣계수를 계산\n",
    "import pandas as pd\n",
    "\n",
    "# k=2일떄\n",
    "sil_k2=silhouette_samples(data,labels_pred_k2)  # 개체별 실루엣계수\n",
    "\n",
    "# 개체별 예측 레이블과 실루엣계수를 각각 컬럼으로 가지는 데이터프레임 생성\n",
    "df_k2=pd.DataFrame({'labels':labels_pred_k2,'silhouette':sil_k2})\n",
    "\n",
    "# 레이블별 실루엣계수의 평균\n",
    "print(df_k2.groupby('labels')['silhouette'].mean())\n",
    "\n",
    "# 전체 실루엣계수 평균\n",
    "print(silhouette_score(data,labels_pred_k2))"
   ]
  },
  {
   "cell_type": "code",
   "execution_count": 17,
   "metadata": {},
   "outputs": [
    {
     "name": "stdout",
     "output_type": "stream",
     "text": [
      "labels\n",
      "0    0.798140\n",
      "1    0.417320\n",
      "2    0.451105\n",
      "Name: silhouette, dtype: float64\n",
      "0.5528190123564095\n"
     ]
    }
   ],
   "source": [
    "# k=3일떄\n",
    "sil_k3=silhouette_samples(data,labels_pred_k3)  # 개체별 실루엣계수\n",
    "\n",
    "# 개체별 예측 레이블과 실루엣계수를 각각 컬럼으로 가지는 데이터프레임 생성\n",
    "df_k3=pd.DataFrame({'labels':labels_pred_k3,'silhouette':sil_k3})\n",
    "\n",
    "# 레이블별 실루엣계수의 평균\n",
    "print(df_k3.groupby('labels')['silhouette'].mean())\n",
    "\n",
    "# 전체 실루엣계수 평균\n",
    "print(silhouette_score(data,labels_pred_k3))"
   ]
  },
  {
   "cell_type": "code",
   "execution_count": 18,
   "metadata": {},
   "outputs": [
    {
     "name": "stdout",
     "output_type": "stream",
     "text": [
      "labels\n",
      "0    0.419518\n",
      "1    0.763176\n",
      "2    0.321324\n",
      "3    0.362998\n",
      "Name: silhouette, dtype: float64\n",
      "0.49805050499728737\n"
     ]
    }
   ],
   "source": [
    "# k=4일떄\n",
    "sil_k4=silhouette_samples(data,labels_pred_k4)  # 개체별 실루엣계수\n",
    "\n",
    "# 개체별 예측 레이블과 실루엣계수를 각각 컬럼으로 가지는 데이터프레임 생성\n",
    "df_k4=pd.DataFrame({'labels':labels_pred_k4,'silhouette':sil_k4})\n",
    "\n",
    "# 레이블별 실루엣계수의 평균\n",
    "print(df_k4.groupby('labels')['silhouette'].mean())\n",
    "\n",
    "# 전체 실루엣계수 평균\n",
    "print(silhouette_score(data,labels_pred_k4))"
   ]
  },
  {
   "cell_type": "code",
   "execution_count": null,
   "metadata": {},
   "outputs": [],
   "source": []
  }
 ],
 "metadata": {
  "kernelspec": {
   "display_name": "ML_38",
   "language": "python",
   "name": "python3"
  },
  "language_info": {
   "codemirror_mode": {
    "name": "ipython",
    "version": 3
   },
   "file_extension": ".py",
   "mimetype": "text/x-python",
   "name": "python",
   "nbconvert_exporter": "python",
   "pygments_lexer": "ipython3",
   "version": "3.8.19"
  }
 },
 "nbformat": 4,
 "nbformat_minor": 2
}

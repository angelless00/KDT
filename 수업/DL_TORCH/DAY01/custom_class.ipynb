{
 "cells": [
  {
   "cell_type": "markdown",
   "metadata": {},
   "source": [
    "## 사용자 정의 클래스와 상속\n",
    "- 사용자 정의 클래스 : 개발자 필요에 의해서 생성한 클래스"
   ]
  },
  {
   "cell_type": "code",
   "execution_count": 44,
   "metadata": {},
   "outputs": [],
   "source": [
    "#-------------------------------------------------------------------------------------------------\n",
    "# 저장데이터 : 사람 정보 저장 클래스스\n",
    "# 클래스이름 : person\n",
    "# 클래스속성 : name,age,gender\n",
    "# 클래스기능 : eat(), sleep()\n",
    "#-------------------------------------------------------------------------------------------------\n",
    "class Person:\n",
    "    # 클래스 변수/속성\n",
    "    born='대한민국' \n",
    "    # 클래스안의 모든 인스턴스,객체가 공유하는 속성. 메모리 낭비를 막기위해\n",
    "    # 인스턴스 생성없이도 사용가능.\n",
    "\n",
    "\n",
    "    # 인스턴스 생성해주는 메서드\n",
    "    # 인스턴스 생성 시 자동 호출 즉, 콜백메서드\n",
    "    def __init__(self,name,age,gender):\n",
    "        print('__init__')\n",
    "        self.name=name\n",
    "        self.age=age\n",
    "        self.gender=gender\n",
    "\n",
    "    # 인스턴스 메서드\n",
    "    def eat(self,food):\n",
    "        print(f'{self.name}가 {food} 먹는다.')\n",
    "\n",
    "    def sleep(self,where):\n",
    "        print(f'{where}에서 잔다.')\n",
    "\n",
    "    # 정적 메서드\n",
    "    @staticmethod   #self가 없을떄 달아주는것들...\n",
    "    def test(msg):\n",
    "        print(msg)\n",
    "\n",
    "    @classmethod   \n",
    "    def test(cls,msg):\n",
    "        print(msg)"
   ]
  },
  {
   "cell_type": "code",
   "execution_count": 45,
   "metadata": {},
   "outputs": [
    {
     "name": "stdout",
     "output_type": "stream",
     "text": [
      "__init__\n"
     ]
    }
   ],
   "source": [
    "# 인스턴스/객체 생성\n",
    "kim=Person('마징가',10,'남자')"
   ]
  },
  {
   "cell_type": "code",
   "execution_count": 46,
   "metadata": {},
   "outputs": [
    {
     "data": {
      "text/plain": [
       "'대한민국'"
      ]
     },
     "execution_count": 46,
     "metadata": {},
     "output_type": "execute_result"
    }
   ],
   "source": [
    "Person.born\n",
    "# Person.name 은 객체/인스턴스 생성없이 불가능!!"
   ]
  },
  {
   "cell_type": "markdown",
   "metadata": {},
   "source": [
    "- 상속(Ingeritance)\n",
    "    - 기존 클래스의 속성/메서드를 재사용\n",
    "    - 추가 속성 및 메서드로 확장"
   ]
  },
  {
   "cell_type": "code",
   "execution_count": 47,
   "metadata": {},
   "outputs": [],
   "source": [
    "#-------------------------------------------------------------------------------------------------\n",
    "# 저장데이터 : 소방관 정보 저장 클래스\n",
    "# 클래스이름 : Fireman <= 자식클래스, subclass\n",
    "# 클래스속성 : name,age,gender, group, position\n",
    "# 클래스기능 : eat(), sleep(), extinguish()\n",
    "# 부모클래스 : Person < = Super class\n",
    "#-------------------------------------------------------------------------------------------------\n",
    "class Fireman(Person):\n",
    "    \n",
    "    # 인스턴스 생성 메서드 \n",
    "    def __init__(self, name, age, gender,group,position):\n",
    "        # 부모/Super 클래스 생성\n",
    "        super().__init__(name,age,gender)\n",
    "        # 자식/Sub 클래스 생성\n",
    "        self.group=group\n",
    "        self.position=position\n",
    "\n",
    "    # 인스턴스 메서드\n",
    "    def extinguish(self,where):\n",
    "        print(f'{self.group} {self.name}은 {where}에서 불을 끄고 있다.')"
   ]
  },
  {
   "cell_type": "code",
   "execution_count": 48,
   "metadata": {},
   "outputs": [
    {
     "name": "stdout",
     "output_type": "stream",
     "text": [
      "__init__\n"
     ]
    }
   ],
   "source": [
    "park=Fireman('홍길동',30,'남','대구소방서','주임')"
   ]
  },
  {
   "cell_type": "code",
   "execution_count": 49,
   "metadata": {},
   "outputs": [
    {
     "name": "stdout",
     "output_type": "stream",
     "text": [
      "방에서 잔다.\n"
     ]
    }
   ],
   "source": [
    "park.sleep('방')"
   ]
  },
  {
   "cell_type": "code",
   "execution_count": 50,
   "metadata": {},
   "outputs": [
    {
     "name": "stdout",
     "output_type": "stream",
     "text": [
      "홍길동가 빵 먹는다.\n"
     ]
    }
   ],
   "source": [
    "park.eat('빵')"
   ]
  },
  {
   "cell_type": "code",
   "execution_count": 51,
   "metadata": {},
   "outputs": [
    {
     "name": "stdout",
     "output_type": "stream",
     "text": [
      "대구소방서 홍길동은 학교에서 불을 끄고 있다.\n"
     ]
    }
   ],
   "source": [
    "park.extinguish('학교')"
   ]
  },
  {
   "cell_type": "code",
   "execution_count": null,
   "metadata": {},
   "outputs": [],
   "source": []
  },
  {
   "cell_type": "code",
   "execution_count": null,
   "metadata": {},
   "outputs": [],
   "source": []
  }
 ],
 "metadata": {
  "kernelspec": {
   "display_name": "TORCH_38",
   "language": "python",
   "name": "python3"
  },
  "language_info": {
   "codemirror_mode": {
    "name": "ipython",
    "version": 3
   },
   "file_extension": ".py",
   "mimetype": "text/x-python",
   "name": "python",
   "nbconvert_exporter": "python",
   "pygments_lexer": "ipython3",
   "version": "3.8.19"
  }
 },
 "nbformat": 4,
 "nbformat_minor": 2
}

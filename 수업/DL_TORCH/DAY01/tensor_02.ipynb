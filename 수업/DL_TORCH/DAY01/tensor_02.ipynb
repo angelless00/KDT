{
 "cells": [
  {
   "cell_type": "markdown",
   "metadata": {},
   "source": [
    "### Tensor 이해"
   ]
  },
  {
   "cell_type": "markdown",
   "metadata": {},
   "source": [
    "[1] 모듈 로딩"
   ]
  },
  {
   "cell_type": "code",
   "execution_count": 3,
   "metadata": {},
   "outputs": [],
   "source": [
    "import torch"
   ]
  },
  {
   "cell_type": "markdown",
   "metadata": {},
   "source": [
    "- Tensor 생성  \n",
    "[2] torch.rand()"
   ]
  },
  {
   "cell_type": "code",
   "execution_count": 11,
   "metadata": {},
   "outputs": [],
   "source": [
    "# 0 <= ~ <1 범위의 임의의 숫자 1개 추출 => rand\n",
    "torch.manual_seed(1)\n",
    "\n",
    "# * 가변인자 \n",
    "# ** 키워드파라미터\n",
    "# rand(*size) : 가변인자 => 몇 차원일지 알수 없음!\n",
    "dataTS1=torch.rand(4)\n",
    "dataTS2=torch.rand(2,4)\n",
    "dataTS3=torch.rand(3,2,4)"
   ]
  },
  {
   "cell_type": "code",
   "execution_count": 12,
   "metadata": {},
   "outputs": [
    {
     "name": "stdout",
     "output_type": "stream",
     "text": [
      "tensor([0.7576, 0.2793, 0.4031, 0.7347])\n",
      "tensor([[0.0293, 0.7999, 0.3971, 0.7544],\n",
      "        [0.5695, 0.4388, 0.6387, 0.5247]])\n",
      "tensor([[[0.6826, 0.3051, 0.4635, 0.4550],\n",
      "         [0.5725, 0.4980, 0.9371, 0.6556]],\n",
      "\n",
      "        [[0.3138, 0.1980, 0.4162, 0.2843],\n",
      "         [0.3398, 0.5239, 0.7981, 0.7718]],\n",
      "\n",
      "        [[0.0112, 0.8100, 0.6397, 0.9743],\n",
      "         [0.8300, 0.0444, 0.0246, 0.2588]]])\n"
     ]
    }
   ],
   "source": [
    "print(dataTS1)\n",
    "print(dataTS2)\n",
    "print(dataTS3)"
   ]
  },
  {
   "cell_type": "markdown",
   "metadata": {},
   "source": [
    "- Tensor생성  \n",
    "[3] torch.randn()"
   ]
  },
  {
   "cell_type": "code",
   "execution_count": 13,
   "metadata": {},
   "outputs": [
    {
     "name": "stdout",
     "output_type": "stream",
     "text": [
      "tensor([-1.5727, -0.1232,  3.5870, -1.8313])\n",
      "tensor([[ 1.5987, -1.2770,  0.3255, -0.4791],\n",
      "        [ 1.3790,  2.5286,  0.4107, -0.9880]])\n",
      "tensor([[[ 0.4533,  1.1422,  0.2486, -1.7754],\n",
      "         [-0.0255, -1.0233, -0.5962, -1.0055]],\n",
      "\n",
      "        [[-1.4344, -0.5008,  0.1716, -0.1600],\n",
      "         [-0.5047, -1.4746, -0.3416, -0.3003]],\n",
      "\n",
      "        [[-1.0483, -0.4709,  0.2911,  1.9907],\n",
      "         [-0.9247, -0.9301,  1.4301,  0.4208]]])\n"
     ]
    }
   ],
   "source": [
    "dataTS1=torch.randn(4)\n",
    "dataTS2=torch.randn(2,4)\n",
    "dataTS3=torch.randn(3,2,4)\n",
    "\n",
    "print(dataTS1)\n",
    "print(dataTS2)\n",
    "print(dataTS3)"
   ]
  },
  {
   "cell_type": "markdown",
   "metadata": {},
   "source": [
    "- Tensor 생성  \n",
    "[3] torch.randint()"
   ]
  },
  {
   "cell_type": "code",
   "execution_count": 23,
   "metadata": {},
   "outputs": [
    {
     "name": "stdout",
     "output_type": "stream",
     "text": [
      "tensor([11, 14, 20, 26, 41, 25])\n",
      "tensor([[17,  9, 18, 25,  1],\n",
      "        [32, 21, 31, 31, 21],\n",
      "        [39, 39, 30, 14, 39],\n",
      "        [16, 10, 44,  7, 33],\n",
      "        [ 6, 38, 34, 32, 43],\n",
      "        [34, 34, 18,  5, 29]])\n",
      "tensor([[[4, 2, 4],\n",
      "         [3, 3, 2]],\n",
      "\n",
      "        [[2, 4, 4],\n",
      "         [3, 3, 4]],\n",
      "\n",
      "        [[2, 3, 4],\n",
      "         [4, 4, 4]],\n",
      "\n",
      "        [[3, 2, 2],\n",
      "         [4, 1, 1]],\n",
      "\n",
      "        [[2, 1, 3],\n",
      "         [1, 3, 1]],\n",
      "\n",
      "        [[2, 2, 4],\n",
      "         [1, 4, 4]]])\n"
     ]
    }
   ],
   "source": [
    "dataTS1=torch.randint(1,46,(6,))        # 1D Vector\n",
    "dataTS2=torch.randint(1,46,(6,5))       # 2D Matrix\n",
    "dataTS3=torch.randint(1,5,(6,2,3))      # 3D Tensor\n",
    "\n",
    "print(dataTS1)\n",
    "print(dataTS2)\n",
    "print(dataTS3)"
   ]
  },
  {
   "cell_type": "code",
   "execution_count": null,
   "metadata": {},
   "outputs": [],
   "source": []
  }
 ],
 "metadata": {
  "kernelspec": {
   "display_name": "TORCH_38",
   "language": "python",
   "name": "python3"
  },
  "language_info": {
   "codemirror_mode": {
    "name": "ipython",
    "version": 3
   },
   "file_extension": ".py",
   "mimetype": "text/x-python",
   "name": "python",
   "nbconvert_exporter": "python",
   "pygments_lexer": "ipython3",
   "version": "3.8.19"
  }
 },
 "nbformat": 4,
 "nbformat_minor": 2
}

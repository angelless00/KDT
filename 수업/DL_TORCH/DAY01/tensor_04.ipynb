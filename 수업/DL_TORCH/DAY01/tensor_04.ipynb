{
 "cells": [
  {
   "cell_type": "markdown",
   "metadata": {},
   "source": [
    "### Tensor 변환\n",
    "- torch.as_tensor()\n",
    "    - 동일 타입과 동일 디바이스를 가진 데이터 존재 => view 즉, 데이터 공유\n",
    "    - 다른 타입 또는 다른 디바이스를 사진 데이터 라면 => copy 즉, 생성\n",
    "    -  view tensor() 또는 copy tensor()"
   ]
  },
  {
   "cell_type": "code",
   "execution_count": 210,
   "metadata": {},
   "outputs": [],
   "source": [
    "### 모듈로딩\n",
    "import torch"
   ]
  },
  {
   "cell_type": "markdown",
   "metadata": {},
   "source": [
    "- Python 객체 ==> Tensor 변환"
   ]
  },
  {
   "cell_type": "code",
   "execution_count": 211,
   "metadata": {},
   "outputs": [],
   "source": [
    "### List ==> Tensor \n",
    "data=list(range(1,10))"
   ]
  },
  {
   "cell_type": "code",
   "execution_count": 212,
   "metadata": {},
   "outputs": [
    {
     "data": {
      "text/plain": [
       "(tensor([1, 2, 3, 4, 5, 6, 7, 8, 9], dtype=torch.int8), torch.Size([9]), 1)"
      ]
     },
     "execution_count": 212,
     "metadata": {},
     "output_type": "execute_result"
    }
   ],
   "source": [
    "# torch.as_tensor()\n",
    "dataTS=torch.as_tensor(data,dtype=torch.int8)\n",
    "dataTS,dataTS.shape , dataTS.ndim"
   ]
  },
  {
   "cell_type": "markdown",
   "metadata": {},
   "source": [
    "1. DATA 공유\n",
    "- 형태/ 모양 shape만 변경\n",
    "- view방식\n",
    "2. 새롭게 생성\n",
    "-  Data 새롭게 메모리\n",
    "- copy 방식"
   ]
  },
  {
   "cell_type": "code",
   "execution_count": 213,
   "metadata": {},
   "outputs": [
    {
     "data": {
      "text/plain": [
       "([100, 2, 3, 4, 5, 6, 7, 8, 9],\n",
       " tensor([1, 2, 3, 4, 5, 6, 7, 8, 9], dtype=torch.int8))"
      ]
     },
     "execution_count": 213,
     "metadata": {},
     "output_type": "execute_result"
    }
   ],
   "source": [
    "data[0]=100\n",
    "data,dataTS"
   ]
  },
  {
   "cell_type": "markdown",
   "metadata": {},
   "source": [
    "## Numpy ndarray 객체 => Tensor 변환"
   ]
  },
  {
   "cell_type": "code",
   "execution_count": 214,
   "metadata": {},
   "outputs": [],
   "source": [
    "import numpy as np"
   ]
  },
  {
   "cell_type": "markdown",
   "metadata": {},
   "source": [
    "### copy방식 or view 방식\n",
    "- as_tensor()\n",
    "    - 같은 디바이스이면 view\n",
    "    - 다른 디바이스면 copy"
   ]
  },
  {
   "cell_type": "code",
   "execution_count": 216,
   "metadata": {},
   "outputs": [
    {
     "data": {
      "text/plain": [
       "(array([1, 2, 3]), dtype('int32'), 1)"
      ]
     },
     "execution_count": 216,
     "metadata": {},
     "output_type": "execute_result"
    }
   ],
   "source": [
    "arr1=np.array([1,2,3])\n",
    "arr1,arr1.dtype,arr1.ndim"
   ]
  },
  {
   "cell_type": "code",
   "execution_count": 217,
   "metadata": {},
   "outputs": [
    {
     "data": {
      "text/plain": [
       "tensor([1, 2, 3], dtype=torch.int32)"
      ]
     },
     "execution_count": 217,
     "metadata": {},
     "output_type": "execute_result"
    }
   ],
   "source": [
    "arrTS=torch.as_tensor(arr1)\n",
    "arrTS\n",
    "# view 방식"
   ]
  },
  {
   "cell_type": "code",
   "execution_count": 218,
   "metadata": {},
   "outputs": [
    {
     "data": {
      "text/plain": [
       "(array([77,  2,  3]), tensor([77,  2,  3], dtype=torch.int32))"
      ]
     },
     "execution_count": 218,
     "metadata": {},
     "output_type": "execute_result"
    }
   ],
   "source": [
    "arr1[0]=77\n",
    "arr1,arrTS"
   ]
  },
  {
   "cell_type": "code",
   "execution_count": 219,
   "metadata": {},
   "outputs": [
    {
     "data": {
      "text/plain": [
       "(array([99,  2,  3]), tensor([99,  2,  3], dtype=torch.int32))"
      ]
     },
     "execution_count": 219,
     "metadata": {},
     "output_type": "execute_result"
    }
   ],
   "source": [
    "arrTS[0]=99\n",
    "arr1,arrTS"
   ]
  },
  {
   "cell_type": "markdown",
   "metadata": {},
   "source": [
    "### view 방식\n",
    "- Numpy ndarray ==> Tensor 변환 : from_numpy()"
   ]
  },
  {
   "cell_type": "code",
   "execution_count": 220,
   "metadata": {},
   "outputs": [
    {
     "name": "stdout",
     "output_type": "stream",
     "text": [
      " [5. 7. 9.]\n",
      " 데이터 저장 메모리<memory at 0x000001C0620A71C0>\n",
      " 원소/요소 개수 3\n",
      " 원소/요소 1개 크기 4\n",
      " 타입 float32\n",
      " 방향 (4,)\n"
     ]
    }
   ],
   "source": [
    "arr2=np.array([5,7,9],dtype=np.float32)\n",
    "print(f' {arr2}')\n",
    "print(f' 데이터 저장 메모리{arr2.data}')\n",
    "print(f' 원소/요소 개수 {arr2.size}')\n",
    "print(f' 원소/요소 1개 크기 {arr2.itemsize}')\n",
    "print(f' 타입 {arr2.dtype}')\n",
    "print(f' 방향 {arr2.strides}')"
   ]
  },
  {
   "cell_type": "code",
   "execution_count": 221,
   "metadata": {},
   "outputs": [
    {
     "name": "stdout",
     "output_type": "stream",
     "text": [
      " [[5. 7. 9.]\n",
      " [1. 2. 3.]]\n",
      " 데이터 저장 메모리<memory at 0x000001C061BCCE10>\n",
      " 원소/요소 개수 6\n",
      " 원소/요소 1개 크기 4\n",
      " 타입 float32\n",
      " 방향 (12, 4)\n"
     ]
    }
   ],
   "source": [
    "arr3=np.array([[5,7,9],[1,2,3]],dtype=np.float32)\n",
    "print(f' {arr3}')\n",
    "print(f' 데이터 저장 메모리{arr3.data}')\n",
    "print(f' 원소/요소 개수 {arr3.size}')\n",
    "print(f' 원소/요소 1개 크기 {arr3.itemsize}')\n",
    "print(f' 타입 {arr3.dtype}')\n",
    "print(f' 방향 {arr3.strides}')     # (다음줄 까지 몇 바이트 , 옆 원소까지 몇바이트)"
   ]
  },
  {
   "cell_type": "code",
   "execution_count": 222,
   "metadata": {},
   "outputs": [
    {
     "name": "stdout",
     "output_type": "stream",
     "text": [
      " [[5.]\n",
      " [7.]\n",
      " [9.]]\n",
      " 데이터 저장 메모리<memory at 0x000001C061BCCE10>\n",
      " 원소/요소 개수 3\n",
      " 원소/요소 1개 크기 4\n",
      " 타입 float32\n",
      " 방향 (4, 4)\n"
     ]
    }
   ],
   "source": [
    "arr4=np.array([[5],[7],[9]],dtype=np.float32)\n",
    "print(f' {arr4}')\n",
    "print(f' 데이터 저장 메모리{arr4.data}')\n",
    "print(f' 원소/요소 개수 {arr4.size}')\n",
    "print(f' 원소/요소 1개 크기 {arr4.itemsize}')\n",
    "print(f' 타입 {arr4.dtype}')\n",
    "print(f' 방향 {arr4.strides}')"
   ]
  },
  {
   "cell_type": "code",
   "execution_count": 223,
   "metadata": {},
   "outputs": [
    {
     "data": {
      "text/plain": [
       "tensor([5., 7., 9.])"
      ]
     },
     "execution_count": 223,
     "metadata": {},
     "output_type": "execute_result"
    }
   ],
   "source": [
    "arrTS=torch.from_numpy(arr2)\n",
    "arrTS"
   ]
  },
  {
   "cell_type": "code",
   "execution_count": 224,
   "metadata": {},
   "outputs": [
    {
     "data": {
      "text/plain": [
       "(array([10.,  7.,  9.], dtype=float32), tensor([10.,  7.,  9.]))"
      ]
     },
     "execution_count": 224,
     "metadata": {},
     "output_type": "execute_result"
    }
   ],
   "source": [
    "arr2[0]=10\n",
    "arr2,arrTS"
   ]
  },
  {
   "cell_type": "markdown",
   "metadata": {},
   "source": [
    "## copy 방식"
   ]
  },
  {
   "cell_type": "code",
   "execution_count": 228,
   "metadata": {},
   "outputs": [
    {
     "data": {
      "text/plain": [
       "(array([20,  2,  3]), tensor([20,  2,  3], dtype=torch.int32))"
      ]
     },
     "execution_count": 228,
     "metadata": {},
     "output_type": "execute_result"
    }
   ],
   "source": [
    "arrTS=torch.tensor(arr1)\n",
    "arr1,arrTS"
   ]
  },
  {
   "cell_type": "code",
   "execution_count": 226,
   "metadata": {},
   "outputs": [
    {
     "data": {
      "text/plain": [
       "(array([20,  2,  3]), tensor([99,  2,  3], dtype=torch.int32))"
      ]
     },
     "execution_count": 226,
     "metadata": {},
     "output_type": "execute_result"
    }
   ],
   "source": [
    "arr1[0]=20\n",
    "arr1,arrTS"
   ]
  },
  {
   "cell_type": "code",
   "execution_count": 227,
   "metadata": {},
   "outputs": [
    {
     "data": {
      "text/plain": [
       "(array([20,  2,  3]), tensor([30,  2,  3], dtype=torch.int32))"
      ]
     },
     "execution_count": 227,
     "metadata": {},
     "output_type": "execute_result"
    }
   ],
   "source": [
    "arrTS[0]=30\n",
    "arr1,arrTS"
   ]
  },
  {
   "cell_type": "code",
   "execution_count": null,
   "metadata": {},
   "outputs": [],
   "source": []
  }
 ],
 "metadata": {
  "kernelspec": {
   "display_name": "TORCH_38",
   "language": "python",
   "name": "python3"
  },
  "language_info": {
   "codemirror_mode": {
    "name": "ipython",
    "version": 3
   },
   "file_extension": ".py",
   "mimetype": "text/x-python",
   "name": "python",
   "nbconvert_exporter": "python",
   "pygments_lexer": "ipython3",
   "version": "3.8.19"
  }
 },
 "nbformat": 4,
 "nbformat_minor": 2
}

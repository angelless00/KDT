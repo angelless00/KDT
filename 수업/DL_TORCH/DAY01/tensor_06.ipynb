{
 "cells": [
  {
   "cell_type": "markdown",
   "metadata": {},
   "source": [
    "## Tenosr 저장 구조 이해\n",
    "- storage 객체\n",
    "    - 텐서 객체의 메모리 관련 정보 저장\n",
    "    - offset : 첫번쨰 원소 인덱스\n",
    "    - stride : 원소 이동 위한 정보 저장\n",
    "        - (다음 행 이동하기 위한 메모리 칸수, 다음 열 이동하기 위한 메모리 칸수)"
   ]
  },
  {
   "cell_type": "code",
   "execution_count": 259,
   "metadata": {},
   "outputs": [],
   "source": [
    "### 모듈로딩\n",
    "import torch"
   ]
  },
  {
   "cell_type": "code",
   "execution_count": 260,
   "metadata": {},
   "outputs": [
    {
     "name": "stdout",
     "output_type": "stream",
     "text": [
      "tensor([[11, 22, 33],\n",
      "        [44, 55, 66]])\n",
      "(3, 1)\n",
      "2\n",
      "torch.int64\n"
     ]
    }
   ],
   "source": [
    "### 텐서 생성\n",
    "dataTS=torch.tensor([[11,22,33],[44,55,66]])\n",
    "print(dataTS,dataTS.stride(),dataTS.ndim,dataTS.dtype,sep='\\n')"
   ]
  },
  {
   "cell_type": "code",
   "execution_count": 261,
   "metadata": {},
   "outputs": [
    {
     "name": "stdout",
     "output_type": "stream",
     "text": [
      " 11\n",
      " 0\n",
      " 0\n",
      " 0\n",
      " 0\n",
      " 0\n",
      " 0\n",
      " 0\n",
      " 22\n",
      " 0\n",
      " 0\n",
      " 0\n",
      " 0\n",
      " 0\n",
      " 0\n",
      " 0\n",
      " 33\n",
      " 0\n",
      " 0\n",
      " 0\n",
      " 0\n",
      " 0\n",
      " 0\n",
      " 0\n",
      " 44\n",
      " 0\n",
      " 0\n",
      " 0\n",
      " 0\n",
      " 0\n",
      " 0\n",
      " 0\n",
      " 55\n",
      " 0\n",
      " 0\n",
      " 0\n",
      " 0\n",
      " 0\n",
      " 0\n",
      " 0\n",
      " 66\n",
      " 0\n",
      " 0\n",
      " 0\n",
      " 0\n",
      " 0\n",
      " 0\n",
      " 0\n",
      "[torch.storage.UntypedStorage(device=cpu) of size 48]\n"
     ]
    }
   ],
   "source": [
    "# STORAGE정보 => 메모리에 저장된 데이터 형태 1D\n",
    "print(dataTS.untyped_storage()) # int64 라서 8칸 차지"
   ]
  },
  {
   "cell_type": "code",
   "execution_count": 262,
   "metadata": {},
   "outputs": [
    {
     "name": "stdout",
     "output_type": "stream",
     "text": [
      "tensor([[11, 22, 33],\n",
      "        [44, 55, 66]], dtype=torch.int16)\n",
      "(3, 1)\n",
      "2\n",
      "torch.int16\n"
     ]
    }
   ],
   "source": [
    "### 텐서 생성\n",
    "dataTS=torch.tensor([[11,22,33],[44,55,66]],dtype=torch.int16)\n",
    "print(dataTS,dataTS.stride(),dataTS.ndim,dataTS.dtype,sep='\\n')"
   ]
  },
  {
   "cell_type": "code",
   "execution_count": 263,
   "metadata": {},
   "outputs": [
    {
     "name": "stdout",
     "output_type": "stream",
     "text": [
      " 11\n",
      " 0\n",
      " 22\n",
      " 0\n",
      " 33\n",
      " 0\n",
      " 44\n",
      " 0\n",
      " 55\n",
      " 0\n",
      " 66\n",
      " 0\n",
      "[torch.storage.UntypedStorage(device=cpu) of size 12]\n"
     ]
    }
   ],
   "source": [
    "# STORAGE정보 => 메모리에 저장된 데이터 형태 1D\n",
    "print(dataTS.untyped_storage()) # int16 라서 2칸 차지"
   ]
  },
  {
   "cell_type": "code",
   "execution_count": 268,
   "metadata": {},
   "outputs": [
    {
     "name": "stdout",
     "output_type": "stream",
     "text": [
      " 11\n",
      " 22\n",
      " 33\n",
      " 44\n",
      " 55\n",
      " 66\n",
      "[torch.storage.TypedStorage(dtype=torch.int16, device=cpu) of size 6] 0\n"
     ]
    }
   ],
   "source": [
    "print(dataTS.storage(),dataTS.storage_offset())"
   ]
  },
  {
   "cell_type": "code",
   "execution_count": 264,
   "metadata": {},
   "outputs": [
    {
     "data": {
      "text/plain": [
       "(11, 0)"
      ]
     },
     "execution_count": 264,
     "metadata": {},
     "output_type": "execute_result"
    }
   ],
   "source": [
    "mem_storage=dataTS.untyped_storage()\n",
    "mem_storage[0],mem_storage[-1]"
   ]
  },
  {
   "cell_type": "code",
   "execution_count": 265,
   "metadata": {},
   "outputs": [
    {
     "data": {
      "text/plain": [
       "(torch.Size([2, 3]), torch.int16)"
      ]
     },
     "execution_count": 265,
     "metadata": {},
     "output_type": "execute_result"
    }
   ],
   "source": [
    "dataTS.shape ,dataTS.dtype"
   ]
  },
  {
   "cell_type": "code",
   "execution_count": 266,
   "metadata": {},
   "outputs": [
    {
     "name": "stdout",
     "output_type": "stream",
     "text": [
      "[0번째 원소] - 11 : 140710202256608\n",
      "[1번째 원소] - 0 : 140710202256256\n",
      "[2번째 원소] - 22 : 140710202256960\n",
      "[3번째 원소] - 0 : 140710202256256\n",
      "[4번째 원소] - 33 : 140710202257312\n",
      "[5번째 원소] - 0 : 140710202256256\n",
      "[6번째 원소] - 44 : 140710202257664\n",
      "[7번째 원소] - 0 : 140710202256256\n",
      "[8번째 원소] - 55 : 140710202258016\n",
      "[9번째 원소] - 0 : 140710202256256\n",
      "[10번째 원소] - 66 : 140710202258368\n",
      "[11번째 원소] - 0 : 140710202256256\n"
     ]
    }
   ],
   "source": [
    "for idx in range(12):\n",
    "    print(f'[{idx}번째 원소] - {mem_storage[idx]} : {id(mem_storage[idx])}')"
   ]
  },
  {
   "cell_type": "code",
   "execution_count": 267,
   "metadata": {},
   "outputs": [
    {
     "data": {
      "text/plain": [
       "4810053060800"
      ]
     },
     "execution_count": 267,
     "metadata": {},
     "output_type": "execute_result"
    }
   ],
   "source": [
    "dataTS.data_ptr()"
   ]
  },
  {
   "cell_type": "code",
   "execution_count": null,
   "metadata": {},
   "outputs": [],
   "source": []
  }
 ],
 "metadata": {
  "kernelspec": {
   "display_name": "TORCH_38",
   "language": "python",
   "name": "python3"
  },
  "language_info": {
   "codemirror_mode": {
    "name": "ipython",
    "version": 3
   },
   "file_extension": ".py",
   "mimetype": "text/x-python",
   "name": "python",
   "nbconvert_exporter": "python",
   "pygments_lexer": "ipython3",
   "version": "3.8.19"
  }
 },
 "nbformat": 4,
 "nbformat_minor": 2
}

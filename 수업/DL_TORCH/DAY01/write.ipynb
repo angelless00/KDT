{
 "cells": [
  {
   "cell_type": "markdown",
   "metadata": {},
   "source": [
    "- byte => 8bit => 256개 => int8/ uint8\n",
    "    - 부호 (-/+) : -128 ~ 0 ~ 127 : $-32^7$ ~ $2^7 -1$\n",
    "    - 부호 x : 0~ 255 => (이미지 데이터 픽셀 저장값)\n",
    "- short => 16비트 => int16 / uint16 => $-2^{15}$ ~ $+20^{15} -1$   \n",
    "- int => 32비트 => int32/init32 => $-2^{31}$ ~ $+2^{31}-1$\n",
    "- long int => 64비트 => int64/uint64 $-2^{63}$ ~ $+2^{63}-1$\n"
   ]
  },
  {
   "cell_type": "markdown",
   "metadata": {},
   "source": [
    "- 데이터타입 변수명=데이터  \n",
    "- int age=10  \n",
    "- 기본 데이터 타입 => 숫자,글자 => int, float, char, bool  \n",
    "    - C/C++/C#/JaVa =>  스택\n",
    "    - python => 힙 (클래스기반 객체)  \n",
    "- 확장 데이터 타입 =>  여러개의 기본 데이터 타입이 모여서 하나의 데이터 표현 (string)  \n",
    "- C => 구조체  \n",
    "- JaVa외 OOP=> 구조체+함수 => 클래스\n",
    "    - C/C++/C#/JaVa/Python=> 힙 (클래스기반 객체)"
   ]
  },
  {
   "cell_type": "markdown",
   "metadata": {},
   "source": [
    "- 실수 3.12 ==> 정수부 3 , 실수부 12\n",
    "- 실수 float=> 소수점 이하 자릿수\n",
    "- float => 7/8 \n",
    "    - 4바이트 int32\n",
    "- double => float 소수점 2배 \n",
    "    - 8바이트"
   ]
  },
  {
   "cell_type": "markdown",
   "metadata": {},
   "source": []
  }
 ],
 "metadata": {
  "language_info": {
   "name": "python"
  }
 },
 "nbformat": 4,
 "nbformat_minor": 2
}

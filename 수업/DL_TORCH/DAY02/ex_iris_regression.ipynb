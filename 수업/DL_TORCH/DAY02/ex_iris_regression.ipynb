{
 "cells": [
  {
   "cell_type": "markdown",
   "metadata": {},
   "source": [
    "### iris 데이터셋 활용 꽃잎 너비 예측 모델\n",
    "- 데이터셋 : iris.csv에서 2개의 Feature 사용\n",
    "- 구현프레임워크 : Pytorch"
   ]
  },
  {
   "cell_type": "markdown",
   "metadata": {},
   "source": [
    "[1] 모듈 로딩 및 데이터 준비"
   ]
  },
  {
   "cell_type": "code",
   "execution_count": 826,
   "metadata": {},
   "outputs": [],
   "source": [
    "## 모듈 로딩\n",
    "import torch                        # 텐서 및 수치 계산 함수 관련 모듈\n",
    "import torch.nn as nn               # 인공신경망 관련 모듈\n",
    "import torch.nn.functional as F     # 손실, 거리 등 함수 관련 모듈\n",
    "import torch.optim as optimizer     # 최적화 기법 관련 모듈\n",
    "import pandas as pd\n",
    "\n",
    "from sklearn.model_selection import train_test_split"
   ]
  },
  {
   "cell_type": "code",
   "execution_count": 827,
   "metadata": {},
   "outputs": [
    {
     "data": {
      "text/plain": [
       "<torch._C.Generator at 0x1f8000aec90>"
      ]
     },
     "execution_count": 827,
     "metadata": {},
     "output_type": "execute_result"
    }
   ],
   "source": [
    "torch.manual_seed(1)"
   ]
  },
  {
   "cell_type": "code",
   "execution_count": 828,
   "metadata": {},
   "outputs": [
    {
     "data": {
      "text/html": [
       "<div>\n",
       "<style scoped>\n",
       "    .dataframe tbody tr th:only-of-type {\n",
       "        vertical-align: middle;\n",
       "    }\n",
       "\n",
       "    .dataframe tbody tr th {\n",
       "        vertical-align: top;\n",
       "    }\n",
       "\n",
       "    .dataframe thead th {\n",
       "        text-align: right;\n",
       "    }\n",
       "</style>\n",
       "<table border=\"1\" class=\"dataframe\">\n",
       "  <thead>\n",
       "    <tr style=\"text-align: right;\">\n",
       "      <th></th>\n",
       "      <th>sepal.length</th>\n",
       "      <th>sepal.width</th>\n",
       "      <th>petal.length</th>\n",
       "      <th>petal.width</th>\n",
       "    </tr>\n",
       "  </thead>\n",
       "  <tbody>\n",
       "    <tr>\n",
       "      <th>0</th>\n",
       "      <td>5.1</td>\n",
       "      <td>3.5</td>\n",
       "      <td>1.4</td>\n",
       "      <td>0.2</td>\n",
       "    </tr>\n",
       "    <tr>\n",
       "      <th>1</th>\n",
       "      <td>4.9</td>\n",
       "      <td>3.0</td>\n",
       "      <td>1.4</td>\n",
       "      <td>0.2</td>\n",
       "    </tr>\n",
       "    <tr>\n",
       "      <th>2</th>\n",
       "      <td>4.7</td>\n",
       "      <td>3.2</td>\n",
       "      <td>1.3</td>\n",
       "      <td>0.2</td>\n",
       "    </tr>\n",
       "    <tr>\n",
       "      <th>3</th>\n",
       "      <td>4.6</td>\n",
       "      <td>3.1</td>\n",
       "      <td>1.5</td>\n",
       "      <td>0.2</td>\n",
       "    </tr>\n",
       "    <tr>\n",
       "      <th>4</th>\n",
       "      <td>5.0</td>\n",
       "      <td>3.6</td>\n",
       "      <td>1.4</td>\n",
       "      <td>0.2</td>\n",
       "    </tr>\n",
       "  </tbody>\n",
       "</table>\n",
       "</div>"
      ],
      "text/plain": [
       "   sepal.length  sepal.width  petal.length  petal.width\n",
       "0           5.1          3.5           1.4          0.2\n",
       "1           4.9          3.0           1.4          0.2\n",
       "2           4.7          3.2           1.3          0.2\n",
       "3           4.6          3.1           1.5          0.2\n",
       "4           5.0          3.6           1.4          0.2"
      ]
     },
     "execution_count": 828,
     "metadata": {},
     "output_type": "execute_result"
    }
   ],
   "source": [
    "# 데이터 로딩 : CSV => DataFrame\n",
    "DATA_FILE='../../MachineLearning/data/iris.csv'\n",
    "\n",
    "irisDF=pd.read_csv(DATA_FILE,usecols=[0,1,2,3])\n",
    "irisDF.head()"
   ]
  },
  {
   "cell_type": "markdown",
   "metadata": {},
   "source": [
    "[2] 모델 준비\n",
    "- 학습방법 : 지도학습 > 회귀\n",
    "- 알고리즘 : 선형관계 >> 선형모델 ==> nn.Linear"
   ]
  },
  {
   "cell_type": "code",
   "execution_count": 829,
   "metadata": {},
   "outputs": [],
   "source": [
    "# in_feature : petal.length 3개\n",
    "# out_feature : petal.width 1개\n",
    "model=nn.Linear(3,1)\n",
    "# nn_model=nn.sequential(nn.Linear(3,10),nn.ReLU(),nn.Linear(10,1)) << 인공신경망!"
   ]
  },
  {
   "cell_type": "code",
   "execution_count": 830,
   "metadata": {},
   "outputs": [
    {
     "name": "stdout",
     "output_type": "stream",
     "text": [
      "[weight],Parameter containing:\n",
      "tensor([[ 0.2975, -0.2548, -0.1119]], requires_grad=True)\n",
      "[bias],Parameter containing:\n",
      "tensor([0.2710], requires_grad=True)\n"
     ]
    }
   ],
   "source": [
    "# 가중치와 졀편 확인\n",
    "for name, param in model.named_parameters():\n",
    "    print(f'[{name}],{param}')"
   ]
  },
  {
   "cell_type": "markdown",
   "metadata": {},
   "source": [
    "[3] 최적화 인스턴스 준비"
   ]
  },
  {
   "cell_type": "code",
   "execution_count": 831,
   "metadata": {},
   "outputs": [],
   "source": [
    "### 모델의 가중치와 절편을 최적화 ==> 인스턴스에 전달\n",
    "adam_opti=optimizer.Adam(model.parameters(),lr=0.1)"
   ]
  },
  {
   "cell_type": "markdown",
   "metadata": {},
   "source": [
    "[4] 학습 ==> 개발자가 구현\n",
    "- [4-1] 데이터셋 Tensor화 진행 : 데이터준비 시 진행하거나 학습 전 진행"
   ]
  },
  {
   "cell_type": "code",
   "execution_count": 832,
   "metadata": {},
   "outputs": [
    {
     "data": {
      "text/plain": [
       "torch.Size([150, 3])"
      ]
     },
     "execution_count": 832,
     "metadata": {},
     "output_type": "execute_result"
    }
   ],
   "source": [
    "featureTS=torch.from_numpy(irisDF[irisDF.columns[:3]].values).float()     ## 2D가 필요하므로 데이터 프레임으로 받아야함\n",
    "featureTS.shape"
   ]
  },
  {
   "cell_type": "code",
   "execution_count": 833,
   "metadata": {},
   "outputs": [
    {
     "data": {
      "text/plain": [
       "torch.Size([150, 1])"
      ]
     },
     "execution_count": 833,
     "metadata": {},
     "output_type": "execute_result"
    }
   ],
   "source": [
    "targetTS=torch.from_numpy(irisDF[['petal.width']].values).float()\n",
    "targetTS.shape"
   ]
  },
  {
   "cell_type": "code",
   "execution_count": 834,
   "metadata": {},
   "outputs": [
    {
     "name": "stdout",
     "output_type": "stream",
     "text": [
      "[Feature] Train torch.Size([96, 3]), Val torch.Size([24, 3]), Test torch.Size([30, 3])\n",
      "[Target] Train torch.Size([96, 1]), Val torch.Size([24, 1]), Test torch.Size([30, 1])\n"
     ]
    }
   ],
   "source": [
    "# Train & Test\n",
    "X_train,X_test,y_train,y_test=train_test_split(featureTS,targetTS,\n",
    "                                               test_size=0.2,random_state=10)\n",
    "\n",
    "# Train & Valid\n",
    "X_train,X_val,y_train,y_val=train_test_split(X_train,y_train,\n",
    "                                             test_size=0.2,random_state=10)\n",
    "\n",
    "print(f'[Feature] Train {X_train.shape}, Val {X_val.shape}, Test {X_test.shape}')\n",
    "print(f'[Target] Train {y_train.shape}, Val {y_val.shape}, Test {y_test.shape}')"
   ]
  },
  {
   "cell_type": "markdown",
   "metadata": {},
   "source": [
    "[4-2] 학습진행 \n",
    "- 학습횟수 결정 ==> 에포크 설정\n",
    "- 학습결과 저장 ==> 손실저장 변수"
   ]
  },
  {
   "cell_type": "code",
   "execution_count": 835,
   "metadata": {},
   "outputs": [],
   "source": [
    "EPOCH=10"
   ]
  },
  {
   "cell_type": "code",
   "execution_count": 836,
   "metadata": {},
   "outputs": [],
   "source": [
    "## 테스트/검증 함수\n",
    "# ==> 가중치, 절편 업데이트x, 최적화 미진행\n",
    "# ==> 현재 가중치와 절편값으로 테스트 진행행 \n",
    "# 모델 학습 함수\n",
    "def testing(testTS,test_targetTS,kind='Val'):\n",
    "\n",
    "    \n",
    "    with torch.no_grad():       # 가중치 및 절편 업데이트 진행 x\n",
    "        #-(1) 학습진행 - forward\n",
    "        pre_y=model(testTS)\n",
    "        \n",
    "        #-(2) 오차계산 - 손실함수\n",
    "        loss=F.mse_loss(pre_y,test_targetTS)\n",
    "        \n",
    "        \n",
    "        #-(4) 학습결과 출력 및 저장 \n",
    "        print(f'[{kind}] Loss: {loss}')\n",
    "    return loss.item()\n",
    "        "
   ]
  },
  {
   "cell_type": "code",
   "execution_count": 837,
   "metadata": {},
   "outputs": [],
   "source": [
    "# 모델 학습 함수\n",
    "def traing(featureTS,targetTS,valTS,val_targetTS):\n",
    "    \n",
    "    loss_history=[[],[]]\n",
    "\n",
    "\n",
    "    for epoch in range(EPOCH):\n",
    "        #-(1) 학습진행 - forward\n",
    "        pre_y=model(featureTS)\n",
    "        \n",
    "        #-(2) 오차계산 - 손실함수\n",
    "        loss=F.mse_loss(pre_y,targetTS)\n",
    "\n",
    "        #-(3) 최적화 : 가중치, 절편 업데이트 - backward\n",
    "        adam_opti.zero_grad()\n",
    "        loss.backward()\n",
    "        adam_opti.step()\n",
    "        loss_history[0].append(loss.item())  # 로스값이 텐서로 들어와서 숫자만 받기위해 item\n",
    "\n",
    "        #-(4) 검증 : 모델이 잘 만들어진지 검사\n",
    "        val_loss=testing(valTS,val_targetTS)\n",
    "        loss_history[1].append(val_loss)\n",
    "\n",
    "        #-(4) 학습결과 출력 및 저장 \n",
    "        print(f'[{epoch}/{EPOCH}] Loss: {loss}')\n",
    "        \n",
    "    return loss_history\n",
    "        "
   ]
  },
  {
   "cell_type": "code",
   "execution_count": 838,
   "metadata": {},
   "outputs": [
    {
     "name": "stdout",
     "output_type": "stream",
     "text": [
      "[Val] Loss: 1.4004162549972534\n",
      "[0/10] Loss: 0.7041086554527283\n",
      "[Val] Loss: 0.7576044201850891\n",
      "[1/10] Loss: 1.1665529012680054\n",
      "[Val] Loss: 0.3964044749736786\n",
      "[2/10] Loss: 0.6075401902198792\n",
      "[Val] Loss: 0.574078381061554\n",
      "[3/10] Loss: 0.36307910084724426\n",
      "[Val] Loss: 0.5159004330635071\n",
      "[4/10] Loss: 0.6073073744773865\n",
      "[Val] Loss: 0.29085662961006165\n",
      "[5/10] Loss: 0.5447484850883484\n",
      "[Val] Loss: 0.25632351636886597\n",
      "[6/10] Loss: 0.28139254450798035\n",
      "[Val] Loss: 0.3858785629272461\n",
      "[7/10] Loss: 0.20800082385540009\n",
      "[Val] Loss: 0.3971122205257416\n",
      "[8/10] Loss: 0.31948935985565186\n",
      "[Val] Loss: 0.250308096408844\n",
      "[9/10] Loss: 0.33709263801574707\n"
     ]
    }
   ],
   "source": [
    "loss_list=traing(X_train,y_train,X_val,y_val)"
   ]
  },
  {
   "cell_type": "code",
   "execution_count": 839,
   "metadata": {},
   "outputs": [
    {
     "data": {
      "image/png": "[encoded data removed]",
      "text/plain": [
       "<Figure size 640x480 with 1 Axes>"
      ]
     },
     "metadata": {},
     "output_type": "display_data"
    }
   ],
   "source": [
    "# 학습후 loss시각화\n",
    "import matplotlib.pyplot as plt\n",
    "\n",
    "plt.plot(range(1,EPOCH+1),loss_list[0],label='Train')\n",
    "plt.plot(range(1,EPOCH+1),loss_list[1],label='Val')\n",
    "plt.grid()\n",
    "plt.xlabel('Epoch')\n",
    "plt.ylabel('Loss')\n",
    "plt.legend()\n",
    "plt.show()"
   ]
  },
  {
   "cell_type": "code",
   "execution_count": null,
   "metadata": {},
   "outputs": [],
   "source": []
  },
  {
   "cell_type": "code",
   "execution_count": null,
   "metadata": {},
   "outputs": [],
   "source": []
  }
 ],
 "metadata": {
  "kernelspec": {
   "display_name": "TORCH_38",
   "language": "python",
   "name": "python3"
  },
  "language_info": {
   "codemirror_mode": {
    "name": "ipython",
    "version": 3
   },
   "file_extension": ".py",
   "mimetype": "text/x-python",
   "name": "python",
   "nbconvert_exporter": "python",
   "pygments_lexer": "ipython3",
   "version": "3.8.19"
  }
 },
 "nbformat": 4,
 "nbformat_minor": 2
}

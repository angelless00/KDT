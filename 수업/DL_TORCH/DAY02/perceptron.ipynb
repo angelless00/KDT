{
 "cells": [
  {
   "cell_type": "markdown",
   "metadata": {},
   "source": [
    "## 퍼셉트론(Perceptron)\n",
    "- 컴퓨터 내부에서 수행되는 '기계어'는 2진수 형태\n",
    "- 기계어 직접 다루는 것은 너무 어렵고 힘듬 => 고급프로그래밍 언어 사용\n",
    "    - 고급프로그래밍언어 : 사람에게 적합한 언더\n",
    "    - 기계어 : 컴퓨터에게 적합한 언더\n",
    "- 기계어 수행 => 하드웨어 위\n",
    "- 기계어 레벨 밑 => 논리 회로 레벨 => 전자 소자와 소재 레벨\n",
    "    - 전자 소자 레벨과 소재 레벨 : 물리학과 전자 공학 다루는 컴퓨터 소자 제작\n",
    "    - 전자 소자들을 통해 0과 1을 이용하여 연산 수행\n",
    "    - 기본적\n",
    "        - 전기 신호 전압 이용해 전압이 5V이면 1, 0V이면 0\n",
    "        - 전기 시노로 0과 1이 표현 가능\n",
    "- 게이트\n",
    "    - 컴퓨터에서 전기 신호 따라 가장 기본적인 연산하는 전자 소자\n",
    "    - 하나 이상의 입력을 받아 하나이상의 출력 신호 생상\n",
    "    - 게이트가 모여 회로를 이루며, 회로가 모여 컴퓨터 완성\n"
   ]
  },
  {
   "cell_type": "code",
   "execution_count": null,
   "metadata": {},
   "outputs": [],
   "source": [
    "# AND : 모든 입력이 참일 떄만 참 출력 내보내는 논리 회로\n",
    "# def AND_gate(x1,x2):\n"
   ]
  }
 ],
 "metadata": {
  "kernelspec": {
   "display_name": "TORCH_38",
   "language": "python",
   "name": "python3"
  },
  "language_info": {
   "name": "python",
   "version": "3.8.19"
  }
 },
 "nbformat": 4,
 "nbformat_minor": 2
}

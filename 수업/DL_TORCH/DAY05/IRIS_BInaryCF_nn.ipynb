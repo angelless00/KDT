{
 "cells": [
  {
   "cell_type": "markdown",
   "metadata": {},
   "source": [
    "### DNN 기반 이진분류 모델 구현 <hr>\n",
    "- 데이터셋 : iris.csv\n",
    "- 피쳐/속성 : 4개 Sepal_Length, Sepan_Width, Petal_ Length, Peatal_Width\n",
    "- 타겟/라벨 : 1개 Setosa와 나머지\n",
    "- 학습방벙 : 지도학습 > 분류 > 이진 분류\n",
    "- 알고리즘 : 인공신경망 (ANN) -> MLP(Multi Layer Percetron),  심층신경망(DNN)(은닉층 多)\n",
    "- 프레임워크 : Pytorch\n",
    "---"
   ]
  },
  {
   "cell_type": "markdown",
   "metadata": {},
   "source": [
    "[1] 모듈 로딩 및 데이터 준비  <hr>"
   ]
  },
  {
   "cell_type": "code",
   "execution_count": 78,
   "metadata": {},
   "outputs": [],
   "source": [
    "# 모듈로딩\n",
    "# Model 관련\n",
    "import torch\n",
    "import torch.nn as nn\n",
    "import torch.nn.functional as F\n",
    "from torch.utils.data import Dataset,DataLoader\n",
    "import torch.optim as optim\n",
    "from torchmetrics.classification import  F1Score, BinaryF1Score, BinaryConfusionMatrix\n",
    "from torchinfo import summary\n",
    "\n",
    "# - Data관련\n",
    "import pandas as pd\n",
    "import matplotlib.pyplot as plt\n",
    "from sklearn.preprocessing import *\n",
    "from sklearn.model_selection import train_test_split"
   ]
  },
  {
   "cell_type": "code",
   "execution_count": 79,
   "metadata": {},
   "outputs": [
    {
     "name": "stdout",
     "output_type": "stream",
     "text": [
      "Pytorch v.2.4.1\n",
      "Pandas v.2.0.3\n"
     ]
    }
   ],
   "source": [
    "# 활용 패키지 버전 체크 - 사용자 정의 함수로 구현할것!\n",
    "print(f'Pytorch v.{torch.__version__}')\n",
    "print(f'Pandas v.{pd.__version__}')"
   ]
  },
  {
   "cell_type": "code",
   "execution_count": 80,
   "metadata": {},
   "outputs": [
    {
     "data": {
      "text/html": [
       "<div>\n",
       "<style scoped>\n",
       "    .dataframe tbody tr th:only-of-type {\n",
       "        vertical-align: middle;\n",
       "    }\n",
       "\n",
       "    .dataframe tbody tr th {\n",
       "        vertical-align: top;\n",
       "    }\n",
       "\n",
       "    .dataframe thead th {\n",
       "        text-align: right;\n",
       "    }\n",
       "</style>\n",
       "<table border=\"1\" class=\"dataframe\">\n",
       "  <thead>\n",
       "    <tr style=\"text-align: right;\">\n",
       "      <th></th>\n",
       "      <th>sepal.length</th>\n",
       "      <th>sepal.width</th>\n",
       "      <th>petal.length</th>\n",
       "      <th>petal.width</th>\n",
       "      <th>variety</th>\n",
       "    </tr>\n",
       "  </thead>\n",
       "  <tbody>\n",
       "    <tr>\n",
       "      <th>0</th>\n",
       "      <td>5.1</td>\n",
       "      <td>3.5</td>\n",
       "      <td>1.4</td>\n",
       "      <td>0.2</td>\n",
       "      <td>Setosa</td>\n",
       "    </tr>\n",
       "    <tr>\n",
       "      <th>1</th>\n",
       "      <td>4.9</td>\n",
       "      <td>3.0</td>\n",
       "      <td>1.4</td>\n",
       "      <td>0.2</td>\n",
       "      <td>Setosa</td>\n",
       "    </tr>\n",
       "    <tr>\n",
       "      <th>2</th>\n",
       "      <td>4.7</td>\n",
       "      <td>3.2</td>\n",
       "      <td>1.3</td>\n",
       "      <td>0.2</td>\n",
       "      <td>Setosa</td>\n",
       "    </tr>\n",
       "    <tr>\n",
       "      <th>3</th>\n",
       "      <td>4.6</td>\n",
       "      <td>3.1</td>\n",
       "      <td>1.5</td>\n",
       "      <td>0.2</td>\n",
       "      <td>Setosa</td>\n",
       "    </tr>\n",
       "    <tr>\n",
       "      <th>4</th>\n",
       "      <td>5.0</td>\n",
       "      <td>3.6</td>\n",
       "      <td>1.4</td>\n",
       "      <td>0.2</td>\n",
       "      <td>Setosa</td>\n",
       "    </tr>\n",
       "  </tbody>\n",
       "</table>\n",
       "</div>"
      ],
      "text/plain": [
       "   sepal.length  sepal.width  petal.length  petal.width variety\n",
       "0           5.1          3.5           1.4          0.2  Setosa\n",
       "1           4.9          3.0           1.4          0.2  Setosa\n",
       "2           4.7          3.2           1.3          0.2  Setosa\n",
       "3           4.6          3.1           1.5          0.2  Setosa\n",
       "4           5.0          3.6           1.4          0.2  Setosa"
      ]
     },
     "execution_count": 80,
     "metadata": {},
     "output_type": "execute_result"
    }
   ],
   "source": [
    "## 데이터로딩\n",
    "DATA_FILE='../../MachineLearning/data/iris.csv'\n",
    "\n",
    "## CSV >> DataFrame\n",
    "irisDF=pd.read_csv(DATA_FILE)\n",
    "\n",
    "## 확인\n",
    "irisDF.head()"
   ]
  },
  {
   "cell_type": "code",
   "execution_count": 81,
   "metadata": {},
   "outputs": [
    {
     "data": {
      "text/plain": [
       "array(['Setosa', 'Versicolor', 'Virginica'], dtype=object)"
      ]
     },
     "execution_count": 81,
     "metadata": {},
     "output_type": "execute_result"
    }
   ],
   "source": [
    "### 타겟 변경 => 정수화, 클래스3개 =>2개\n",
    "irisDF['variety'].unique()"
   ]
  },
  {
   "cell_type": "code",
   "execution_count": 82,
   "metadata": {},
   "outputs": [
    {
     "data": {
      "text/html": [
       "<div>\n",
       "<style scoped>\n",
       "    .dataframe tbody tr th:only-of-type {\n",
       "        vertical-align: middle;\n",
       "    }\n",
       "\n",
       "    .dataframe tbody tr th {\n",
       "        vertical-align: top;\n",
       "    }\n",
       "\n",
       "    .dataframe thead th {\n",
       "        text-align: right;\n",
       "    }\n",
       "</style>\n",
       "<table border=\"1\" class=\"dataframe\">\n",
       "  <thead>\n",
       "    <tr style=\"text-align: right;\">\n",
       "      <th></th>\n",
       "      <th>sepal.length</th>\n",
       "      <th>sepal.width</th>\n",
       "      <th>petal.length</th>\n",
       "      <th>petal.width</th>\n",
       "      <th>variety</th>\n",
       "    </tr>\n",
       "  </thead>\n",
       "  <tbody>\n",
       "    <tr>\n",
       "      <th>0</th>\n",
       "      <td>5.1</td>\n",
       "      <td>3.5</td>\n",
       "      <td>1.4</td>\n",
       "      <td>0.2</td>\n",
       "      <td>True</td>\n",
       "    </tr>\n",
       "    <tr>\n",
       "      <th>1</th>\n",
       "      <td>4.9</td>\n",
       "      <td>3.0</td>\n",
       "      <td>1.4</td>\n",
       "      <td>0.2</td>\n",
       "      <td>True</td>\n",
       "    </tr>\n",
       "    <tr>\n",
       "      <th>2</th>\n",
       "      <td>4.7</td>\n",
       "      <td>3.2</td>\n",
       "      <td>1.3</td>\n",
       "      <td>0.2</td>\n",
       "      <td>True</td>\n",
       "    </tr>\n",
       "    <tr>\n",
       "      <th>3</th>\n",
       "      <td>4.6</td>\n",
       "      <td>3.1</td>\n",
       "      <td>1.5</td>\n",
       "      <td>0.2</td>\n",
       "      <td>True</td>\n",
       "    </tr>\n",
       "    <tr>\n",
       "      <th>4</th>\n",
       "      <td>5.0</td>\n",
       "      <td>3.6</td>\n",
       "      <td>1.4</td>\n",
       "      <td>0.2</td>\n",
       "      <td>True</td>\n",
       "    </tr>\n",
       "  </tbody>\n",
       "</table>\n",
       "</div>"
      ],
      "text/plain": [
       "   sepal.length  sepal.width  petal.length  petal.width  variety\n",
       "0           5.1          3.5           1.4          0.2     True\n",
       "1           4.9          3.0           1.4          0.2     True\n",
       "2           4.7          3.2           1.3          0.2     True\n",
       "3           4.6          3.1           1.5          0.2     True\n",
       "4           5.0          3.6           1.4          0.2     True"
      ]
     },
     "execution_count": 82,
     "metadata": {},
     "output_type": "execute_result"
    }
   ],
   "source": [
    "irisDF['variety']=(irisDF['variety']=='Setosa')\n",
    "irisDF.head()"
   ]
  },
  {
   "cell_type": "code",
   "execution_count": 83,
   "metadata": {},
   "outputs": [
    {
     "data": {
      "text/plain": [
       "array([1, 0])"
      ]
     },
     "execution_count": 83,
     "metadata": {},
     "output_type": "execute_result"
    }
   ],
   "source": [
    "irisDF['variety']=irisDF['variety'].astype('int')\n",
    "irisDF['variety'].unique()"
   ]
  },
  {
   "cell_type": "code",
   "execution_count": 84,
   "metadata": {},
   "outputs": [
    {
     "name": "stdout",
     "output_type": "stream",
     "text": [
      "labels=> {1: 0, 0: 1}\n"
     ]
    }
   ],
   "source": [
    "# 타겟 정수화\n",
    "labels=dict(zip(irisDF['variety'].unique().tolist(),range(3)))\n",
    "print(f'labels=> {labels}')\n",
    "# 라벨인코딩<<"
   ]
  },
  {
   "cell_type": "markdown",
   "metadata": {},
   "source": [
    "[2] 모델 클래스 설계 및 정의 <hr>\n",
    "- 클래스목적 : iris 데이터를 학습 및 추론 목적\n",
    "- 클래스이름 : IrisBCFModel\n",
    "- 부모클래스 : nn.Module\n",
    "- 매개변수 : 층별 입출력 갯수 고정하므로 필요 없음\n",
    "- 속성/필드 : featruesDF, targetDF, n_rows, n_features\n",
    "- 기능/역할 <필수 >\n",
    "    -  __ init __() : 모델 구조 설정 \n",
    "    - forward() : 순방향 학습 <- 오버라이딩(overriding)\n",
    "- 클래스구조\n",
    "    - 입력층 : 입력 4개 / 출력 10개 (퍼셉트론/뉴런 10개 존재)\n",
    "    - 은닉층 : 입력 10개 / 출력 5개 (퍼셉트론/뉴런 30개 존재) \n",
    "    - 출력층 : 입력 5개 / 출력 1개 (2진분류)\n",
    "- 손실함수/ 활성화함수 \n",
    "    - 클래스형태 => nn. 아래  \n",
    "        - ex) nn.ReLu << __init__() 에 사용\n",
    "    - 함수 형태 => torch.nn.functional 아래\n",
    "        - ex) F.relu << def forward() 에 사용\n"
   ]
  },
  {
   "cell_type": "code",
   "execution_count": 85,
   "metadata": {},
   "outputs": [],
   "source": [
    "class IrisBCFModel(nn.Module):\n",
    "\n",
    "    # 모델 구조 구성 및 인스턴스 생성 메서드\n",
    "    def __init__(self):\n",
    "        super().__init__()\n",
    "\n",
    "        self.in_layer=nn.Linear(4,10)\n",
    "        self.hd_layer=nn.Linear(10,5)\n",
    "        self.out_layer=nn.Linear(5,1)\n",
    "\n",
    "    # 순방향 학습 진행 메서드\n",
    "    def forward(self,x):\n",
    "        # - 입력층\n",
    "        y=self.in_layer(x)        # f1_1w1_1+f1_2w1_2+f1_3w1_3+b << 이런식 10개\n",
    "        y=F.relu(y)\n",
    "\n",
    "        # - 은닉층 : 10개의 숫자값 (>=0)\n",
    "        y=self.hd_layer(y)        # f2_1w2_1+f2_2w2_2+....f2_10w2_10 +b << 이런식 5개\n",
    "        y=F.relu(y)\n",
    "\n",
    "        # - 출력층 : 5개의 숫자값 (>=0) - 이진분류\n",
    "        return F.sigmoid(self.out_layer(y))         # f3_1w3_1+.....f3_30w3_30+b << 1 개\n",
    "\n"
   ]
  },
  {
   "cell_type": "code",
   "execution_count": 86,
   "metadata": {},
   "outputs": [
    {
     "name": "stdout",
     "output_type": "stream",
     "text": [
      "IrisBCFModel(\n",
      "  (in_layer): Linear(in_features=4, out_features=10, bias=True)\n",
      "  (hd_layer): Linear(in_features=10, out_features=5, bias=True)\n",
      "  (out_layer): Linear(in_features=5, out_features=1, bias=True)\n",
      ")\n"
     ]
    }
   ],
   "source": [
    "### [테스트] 모델 인스턴스 생성\n",
    "model=IrisBCFModel()\n",
    "\n",
    "print(model)"
   ]
  },
  {
   "cell_type": "code",
   "execution_count": 87,
   "metadata": {},
   "outputs": [
    {
     "data": {
      "text/plain": [
       "==========================================================================================\n",
       "Layer (type:depth-idx)                   Output Shape              Param #\n",
       "==========================================================================================\n",
       "IrisBCFModel                             [17, 1]                   --\n",
       "├─Linear: 1-1                            [17, 10]                  50\n",
       "├─Linear: 1-2                            [17, 5]                   55\n",
       "├─Linear: 1-3                            [17, 1]                   6\n",
       "==========================================================================================\n",
       "Total params: 111\n",
       "Trainable params: 111\n",
       "Non-trainable params: 0\n",
       "Total mult-adds (M): 0.00\n",
       "==========================================================================================\n",
       "Input size (MB): 0.00\n",
       "Forward/backward pass size (MB): 0.00\n",
       "Params size (MB): 0.00\n",
       "Estimated Total Size (MB): 0.00\n",
       "=========================================================================================="
      ]
     },
     "execution_count": 87,
     "metadata": {},
     "output_type": "execute_result"
    }
   ],
   "source": [
    "### [테스트] 모델 확인\n",
    "summary(model,input_size=(17,4))"
   ]
  },
  {
   "cell_type": "markdown",
   "metadata": {},
   "source": [
    "[3] 데이터셋 클래스 설계 및 정의 <hr>\n",
    "- 데이터셋 : iris.csv\n",
    "- 피쳐개수 : 4개\n",
    "- 타겟개수 : 1개\n",
    "- 클래스이름 : IrisDataset\n",
    "- 부모클래스 : utils.data.Dataset\n",
    "- 속성필드 : featureDF, targetDF, n_rows, n_features\n",
    "- 필수메서드 \n",
    "    - __ init __(self) : 데이터셋 저장 및 전처리, 개발자가 필요한 속성 설정\n",
    "    - __ len __(self) : 데이터의 개수 반환\n",
    "    - __ getitem __(self,index) : 특정 인덱스의 피쳐와 타겟 반환"
   ]
  },
  {
   "cell_type": "code",
   "execution_count": 88,
   "metadata": {},
   "outputs": [],
   "source": [
    "class IrisDataset(Dataset):\n",
    "\n",
    "    def __init__(self,featureDF,targetDF):\n",
    "        self.featureDF=featureDF\n",
    "        self.targetDF=targetDF\n",
    "        self.n_rows=featureDF.shape[0]      # 필수아님\n",
    "        self.n_features=featureDF.shape[1]  # 필수아님\n",
    "\n",
    "\n",
    "    def __len__(self):\n",
    "        return self.n_rows\n",
    "        \n",
    "    def __getitem__(self, index):\n",
    "        # 텐서화\n",
    "        featureTS=torch.FloatTensor(self.featureDF.iloc[index].values)\n",
    "        targetTS=torch.FloatTensor(self.targetDF.iloc[index].values)\n",
    "        \n",
    "        # 피쳐와 타겟 반환\n",
    "        return featureTS, targetTS\n",
    "    "
   ]
  },
  {
   "cell_type": "code",
   "execution_count": 89,
   "metadata": {},
   "outputs": [
    {
     "name": "stdout",
     "output_type": "stream",
     "text": [
      "tensor([[5.1000, 3.5000, 1.4000, 0.2000]]) tensor([[1.]])\n"
     ]
    }
   ],
   "source": [
    "## [테스트] 데이터셋 인스턴스 생성\n",
    "\n",
    "featureDF=irisDF[irisDF.columns[:4]]        # 2D (150,3)\n",
    "targetDF=irisDF[irisDF.columns[[4]]]        # 2D (150,1)\n",
    "\n",
    "# - 커스템데이터셋 인스턴스 생성\n",
    "irisDS=IrisDataset(featureDF,targetDF)\n",
    "\n",
    "# 데이터 로드 인스턴스 생성\n",
    "irisDL=DataLoader(irisDS)\n",
    "for feature,target in irisDL:\n",
    "    print(feature,target)\n",
    "    break\n"
   ]
  },
  {
   "cell_type": "markdown",
   "metadata": {},
   "source": [
    "[4] 학습 준비\n",
    "- 학습횟수 : EPOCH <- 처음부터 끝까지 공부하는 횟수\n",
    "- 배치크기 : BATCH_SIZE <- 한번에 학습할 데이터셋 양\n",
    "- 위치지정 : DEVICE <- 텐서 저장 및 실행 위치 (GPU/CPU)\n",
    "- 학습률(LR, learning Rate) : 가중치와 절편 업데이트 시 경사하강법으로 업데이트 간격 설정 0.001~0.1"
   ]
  },
  {
   "cell_type": "code",
   "execution_count": 100,
   "metadata": {},
   "outputs": [],
   "source": [
    "### 학습 진행 관련 설정 값 \n",
    "EPOCH = 100\n",
    "BATCH_SIZE= 10\n",
    "DEVICE ='cuda' if torch.cuda.is_available() else 'cpu'\n",
    "LR=0.001"
   ]
  },
  {
   "cell_type": "markdown",
   "metadata": {},
   "source": [
    "- 인스턴스/객체 : 모델, 데이터셋, 최적화, 손실함수 (, 성능지표)"
   ]
  },
  {
   "cell_type": "code",
   "execution_count": 91,
   "metadata": {},
   "outputs": [
    {
     "name": "stdout",
     "output_type": "stream",
     "text": [
      " X_train : (84, 4), X_val : (28, 4) , X_test : (38, 4)\n",
      " y_train : (84, 1), y_val : (28, 1) , y_test : (38, 1)\n"
     ]
    }
   ],
   "source": [
    "# 모델 인스턴스\n",
    "model= IrisBCFModel()\n",
    "\n",
    "# 데이터셋 인스턴스\n",
    "# # 학습,검증,테스트 데이터 분리\n",
    "X_train, X_test, y_train, y_test=train_test_split(featureDF,targetDF,random_state=1)\n",
    "X_train,X_val,y_train,y_val=train_test_split(X_train,y_train,random_state=1)\n",
    "print(f' X_train : {X_train.shape}, X_val : {X_val.shape} , X_test : {X_test.shape}')\n",
    "print(f' y_train : {y_train.shape}, y_val : {y_val.shape} , y_test : {y_test.shape}')\n",
    "\n",
    "\n",
    "\n",
    "trainDS=IrisDataset(X_train,y_train)\n",
    "valDS=IrisDataset(X_val,y_val)\n",
    "testDS=IrisDataset(X_test,y_test)\n",
    "\n",
    "# 데이터로더 인스턴스\n",
    "trainDL=DataLoader(trainDS,batch_size=BATCH_SIZE)"
   ]
  },
  {
   "cell_type": "markdown",
   "metadata": {},
   "source": [
    "- 최적화 , 손실함수 인스턴스 생성"
   ]
  },
  {
   "cell_type": "code",
   "execution_count": 97,
   "metadata": {},
   "outputs": [],
   "source": [
    "# 최적화 인스턴스 => W,b 텐서 즉, model.parameters() 전달\n",
    "optimizer=optim.Adam(model.parameters(),lr=LR)\n",
    "\n",
    "# 손실함수 인스턴스 => 분류 => 이진분류 BinaryCrossEntropyLoss => BCELoss\n",
    "#                            예측값은 확률값으로 전달 => sigmoid() AF처리후 전달\n",
    "bceLoss=nn.BCELoss()"
   ]
  },
  {
   "cell_type": "markdown",
   "metadata": {},
   "source": [
    "[5] 학습진행"
   ]
  },
  {
   "cell_type": "code",
   "execution_count": 98,
   "metadata": {},
   "outputs": [
    {
     "data": {
      "text/plain": [
       "(9, 9)"
      ]
     },
     "execution_count": 98,
     "metadata": {},
     "output_type": "execute_result"
    }
   ],
   "source": [
    "len(trainDL),trainDL.__len__()"
   ]
  },
  {
   "cell_type": "code",
   "execution_count": 102,
   "metadata": {},
   "outputs": [
    {
     "name": "stdout",
     "output_type": "stream",
     "text": [
      "[0/100]\n",
      "trainloss=0.0070068777487095855 trainscore=1.0\n",
      "valloss=0.00737631693482399 trainscore=1.0\n",
      "[1/100]\n",
      "trainloss=0.006805177079513669 trainscore=1.0\n",
      "valloss=0.007156603038311005 trainscore=1.0\n",
      "[2/100]\n",
      "trainloss=0.006612745605202185 trainscore=1.0\n",
      "valloss=0.006947422865778208 trainscore=1.0\n",
      "[3/100]\n",
      "trainloss=0.006428463410379158 trainscore=1.0\n",
      "valloss=0.006748297717422247 trainscore=1.0\n",
      "[4/100]\n",
      "trainloss=0.00625084594099058 trainscore=1.0\n",
      "valloss=0.006556288804858923 trainscore=1.0\n",
      "[5/100]\n",
      "trainloss=0.006080331824099024 trainscore=1.0\n",
      "valloss=0.006372309289872646 trainscore=1.0\n",
      "[6/100]\n",
      "trainloss=0.005916911901699172 trainscore=1.0\n",
      "valloss=0.0061953989788889885 trainscore=1.0\n",
      "[7/100]\n",
      "trainloss=0.0057592792177779805 trainscore=1.0\n",
      "valloss=0.006025427021086216 trainscore=1.0\n",
      "[8/100]\n",
      "trainloss=0.005608680269991358 trainscore=1.0\n",
      "valloss=0.00586332380771637 trainscore=1.0\n",
      "[9/100]\n",
      "trainloss=0.005462837353762653 trainscore=1.0\n",
      "valloss=0.005706308875232935 trainscore=1.0\n",
      "[10/100]\n",
      "trainloss=0.0053224557389815646 trainscore=1.0\n",
      "valloss=0.005555190145969391 trainscore=1.0\n",
      "[11/100]\n",
      "trainloss=0.00518815607453386 trainscore=1.0\n",
      "valloss=0.005410897079855204 trainscore=1.0\n",
      "[12/100]\n",
      "trainloss=0.005058356017495195 trainscore=1.0\n",
      "valloss=0.005272214766591787 trainscore=1.0\n",
      "[13/100]\n",
      "trainloss=0.004932682948290474 trainscore=1.0\n",
      "valloss=0.005137301050126553 trainscore=1.0\n",
      "[14/100]\n",
      "trainloss=0.004811717572415041 trainscore=1.0\n",
      "valloss=0.005007832311093807 trainscore=1.0\n",
      "[15/100]\n",
      "trainloss=0.004695938473256926 trainscore=1.0\n",
      "valloss=0.004883927758783102 trainscore=1.0\n",
      "[16/100]\n",
      "trainloss=0.004582966432078845 trainscore=1.0\n",
      "valloss=0.004762972239404917 trainscore=1.0\n",
      "[17/100]\n",
      "trainloss=0.004474257351830602 trainscore=1.0\n",
      "valloss=0.004646646324545145 trainscore=1.0\n",
      "[18/100]\n",
      "trainloss=0.004370196166241335 trainscore=1.0\n",
      "valloss=0.004535812418907881 trainscore=1.0\n",
      "[19/100]\n",
      "trainloss=0.004268590606645578 trainscore=1.0\n",
      "valloss=0.004427469801157713 trainscore=1.0\n",
      "[20/100]\n",
      "trainloss=0.004170199222345319 trainscore=1.0\n",
      "valloss=0.004322594963014126 trainscore=1.0\n",
      "[21/100]\n",
      "trainloss=0.004075890484576424 trainscore=1.0\n",
      "valloss=0.004221661482006311 trainscore=1.0\n",
      "[22/100]\n",
      "trainloss=0.00398428881696115 trainscore=1.0\n",
      "valloss=0.004124343860894442 trainscore=1.0\n",
      "[23/100]\n",
      "trainloss=0.0038958650548011065 trainscore=1.0\n",
      "valloss=0.004030253272503614 trainscore=1.0\n",
      "[24/100]\n",
      "trainloss=0.003809874450477461 trainscore=1.0\n",
      "valloss=0.003939113114029169 trainscore=1.0\n",
      "[25/100]\n",
      "trainloss=0.0037268258165568113 trainscore=1.0\n",
      "valloss=0.0038506716955453157 trainscore=1.0\n",
      "[26/100]\n",
      "trainloss=0.0036462677849663627 trainscore=1.0\n",
      "valloss=0.0037650857120752335 trainscore=1.0\n",
      "[27/100]\n",
      "trainloss=0.0035685947449463937 trainscore=1.0\n",
      "valloss=0.0036826557479798794 trainscore=1.0\n",
      "[28/100]\n",
      "trainloss=0.003492691592934231 trainscore=1.0\n",
      "valloss=0.003601690521463752 trainscore=1.0\n",
      "[29/100]\n",
      "trainloss=0.0034191180537972185 trainscore=1.0\n",
      "valloss=0.0035231378860771656 trainscore=1.0\n",
      "[30/100]\n",
      "trainloss=0.0033485959930759338 trainscore=1.0\n",
      "valloss=0.0034479463938623667 trainscore=1.0\n",
      "[31/100]\n",
      "trainloss=0.0032798280784239373 trainscore=1.0\n",
      "valloss=0.00337533769197762 trainscore=1.0\n",
      "[32/100]\n",
      "trainloss=0.0032128465568853747 trainscore=1.0\n",
      "valloss=0.003304787678644061 trainscore=1.0\n",
      "[33/100]\n",
      "trainloss=0.0031477247313078907 trainscore=1.0\n",
      "valloss=0.0032357946038246155 trainscore=1.0\n",
      "[34/100]\n",
      "trainloss=0.0030845055977503457 trainscore=1.0\n",
      "valloss=0.003168746829032898 trainscore=1.0\n",
      "[35/100]\n",
      "trainloss=0.003023411496542394 trainscore=1.0\n",
      "valloss=0.0031039242167025805 trainscore=1.0\n",
      "[36/100]\n",
      "trainloss=0.002963951116220819 trainscore=1.0\n",
      "valloss=0.003041075775399804 trainscore=1.0\n",
      "[37/100]\n",
      "trainloss=0.0029061275094540585 trainscore=1.0\n",
      "valloss=0.0029800315387547016 trainscore=1.0\n",
      "[38/100]\n",
      "trainloss=0.00284989112858764 trainscore=1.0\n",
      "valloss=0.002920698607340455 trainscore=1.0\n",
      "[39/100]\n",
      "trainloss=0.0027952194407892725 trainscore=1.0\n",
      "valloss=0.0028630041051656008 trainscore=1.0\n",
      "[40/100]\n",
      "trainloss=0.0027419987535621556 trainscore=1.0\n",
      "valloss=0.002806661417707801 trainscore=1.0\n",
      "[41/100]\n",
      "trainloss=0.002690201683435589 trainscore=1.0\n",
      "valloss=0.002751857042312622 trainscore=1.0\n",
      "[42/100]\n",
      "trainloss=0.0026399691770267156 trainscore=1.0\n",
      "valloss=0.00269871368072927 trainscore=1.0\n",
      "[43/100]\n",
      "trainloss=0.00259101833216846 trainscore=1.0\n",
      "valloss=0.002647111425176263 trainscore=1.0\n",
      "[44/100]\n",
      "trainloss=0.002543401063626839 trainscore=1.0\n",
      "valloss=0.0025969843845814466 trainscore=1.0\n",
      "[45/100]\n",
      "trainloss=0.0024969212827272713 trainscore=1.0\n",
      "valloss=0.0025481260381639004 trainscore=1.0\n",
      "[46/100]\n",
      "trainloss=0.0024516769464955563 trainscore=1.0\n",
      "valloss=0.0025005191564559937 trainscore=1.0\n",
      "[47/100]\n",
      "trainloss=0.0024076022673398256 trainscore=1.0\n",
      "valloss=0.0024541758466511965 trainscore=1.0\n",
      "[48/100]\n",
      "trainloss=0.0023647202372861407 trainscore=1.0\n",
      "valloss=0.002409078413620591 trainscore=1.0\n",
      "[49/100]\n",
      "trainloss=0.002322833228390664 trainscore=1.0\n",
      "valloss=0.002365099499002099 trainscore=1.0\n",
      "[50/100]\n",
      "trainloss=0.0022820289595983922 trainscore=1.0\n",
      "valloss=0.0023222307208925486 trainscore=1.0\n",
      "[51/100]\n",
      "trainloss=0.0022423035245285267 trainscore=1.0\n",
      "valloss=0.0022805016487836838 trainscore=1.0\n",
      "[52/100]\n",
      "trainloss=0.002203476925690969 trainscore=1.0\n",
      "valloss=0.002239762106910348 trainscore=1.0\n",
      "[53/100]\n",
      "trainloss=0.002165629302099761 trainscore=1.0\n",
      "valloss=0.0022000488825142384 trainscore=1.0\n",
      "[54/100]\n",
      "trainloss=0.002128756553348568 trainscore=1.0\n",
      "valloss=0.0021613684948533773 trainscore=1.0\n",
      "[55/100]\n",
      "trainloss=0.0020927034525407683 trainscore=1.0\n",
      "valloss=0.0021236075554043055 trainscore=1.0\n",
      "[56/100]\n",
      "trainloss=0.0020575363176046973 trainscore=1.0\n",
      "valloss=0.0020867546554654837 trainscore=1.0\n",
      "[57/100]\n",
      "trainloss=0.0020232550579951042 trainscore=1.0\n",
      "valloss=0.0020508640445768833 trainscore=1.0\n",
      "[58/100]\n",
      "trainloss=0.0019897575063320496 trainscore=1.0\n",
      "valloss=0.0020158353727310896 trainscore=1.0\n",
      "[59/100]\n",
      "trainloss=0.0019569833336087563 trainscore=1.0\n",
      "valloss=0.001981578068807721 trainscore=1.0\n",
      "[60/100]\n",
      "trainloss=0.0019250070973713365 trainscore=1.0\n",
      "valloss=0.0019481414929032326 trainscore=1.0\n",
      "[61/100]\n",
      "trainloss=0.0018938126805652347 trainscore=1.0\n",
      "valloss=0.001915524946525693 trainscore=1.0\n",
      "[62/100]\n",
      "trainloss=0.0018632755123285784 trainscore=1.0\n",
      "valloss=0.00188363844063133 trainscore=1.0\n",
      "[63/100]\n",
      "trainloss=0.001833444700524625 trainscore=1.0\n",
      "valloss=0.0018524857005104423 trainscore=1.0\n",
      "[64/100]\n",
      "trainloss=0.0018043322359315222 trainscore=1.0\n",
      "valloss=0.0018221208592876792 trainscore=1.0\n",
      "[65/100]\n",
      "trainloss=0.001775850509552078 trainscore=1.0\n",
      "valloss=0.0017924468265846372 trainscore=1.0\n",
      "[66/100]\n",
      "trainloss=0.0017479507757040362 trainscore=1.0\n",
      "valloss=0.0017633999232202768 trainscore=1.0\n",
      "[67/100]\n",
      "trainloss=0.001720693272848924 trainscore=1.0\n",
      "valloss=0.0017350052949041128 trainscore=1.0\n",
      "[68/100]\n",
      "trainloss=0.0016940752975642681 trainscore=1.0\n",
      "valloss=0.0017073083436116576 trainscore=1.0\n",
      "[69/100]\n",
      "trainloss=0.0016680186704939438 trainscore=1.0\n",
      "valloss=0.0016802275786176324 trainscore=1.0\n",
      "[70/100]\n",
      "trainloss=0.0016424774787285263 trainscore=1.0\n",
      "valloss=0.0016537028132006526 trainscore=1.0\n",
      "[71/100]\n",
      "trainloss=0.0016175110488095218 trainscore=1.0\n",
      "valloss=0.0016277587274089456 trainscore=1.0\n",
      "[72/100]\n",
      "trainloss=0.0015931112575344741 trainscore=1.0\n",
      "valloss=0.0016024133656173944 trainscore=1.0\n",
      "[73/100]\n",
      "trainloss=0.0015692112437035474 trainscore=1.0\n",
      "valloss=0.0015776215586811304 trainscore=1.0\n",
      "[74/100]\n",
      "trainloss=0.0015457712547180967 trainscore=1.0\n",
      "valloss=0.0015533355763182044 trainscore=1.0\n",
      "[75/100]\n",
      "trainloss=0.0015228722930058008 trainscore=1.0\n",
      "valloss=0.0015295930206775665 trainscore=1.0\n",
      "[76/100]\n",
      "trainloss=0.0015004054520330909 trainscore=1.0\n",
      "valloss=0.0015063328901305795 trainscore=1.0\n",
      "[77/100]\n",
      "trainloss=0.0014784668229468581 trainscore=1.0\n",
      "valloss=0.0014836170012131333 trainscore=1.0\n",
      "[78/100]\n",
      "trainloss=0.0014569378432093395 trainscore=1.0\n",
      "valloss=0.0014613906387239695 trainscore=1.0\n",
      "[79/100]\n",
      "trainloss=0.0014358469407953736 trainscore=1.0\n",
      "valloss=0.001439617364667356 trainscore=1.0\n",
      "[80/100]\n",
      "trainloss=0.0014152041888640572 trainscore=1.0\n",
      "valloss=0.0014183263992890716 trainscore=1.0\n",
      "[81/100]\n",
      "trainloss=0.001394928452403595 trainscore=1.0\n",
      "valloss=0.0013974340399727225 trainscore=1.0\n",
      "[82/100]\n",
      "trainloss=0.0013750666532562012 trainscore=1.0\n",
      "valloss=0.0013769535580649972 trainscore=1.0\n",
      "[83/100]\n",
      "trainloss=0.0013556381810404775 trainscore=1.0\n",
      "valloss=0.0013569024158641696 trainscore=1.0\n",
      "[84/100]\n",
      "trainloss=0.0013365403251049833 trainscore=1.0\n",
      "valloss=0.0013372355606406927 trainscore=1.0\n",
      "[85/100]\n",
      "trainloss=0.0013178355681399505 trainscore=1.0\n",
      "valloss=0.0013179400702938437 trainscore=1.0\n",
      "[86/100]\n",
      "trainloss=0.0012995313025183147 trainscore=1.0\n",
      "valloss=0.0012990768300369382 trainscore=1.0\n",
      "[87/100]\n",
      "trainloss=0.001281553565705609 trainscore=1.0\n",
      "valloss=0.0012805756414309144 trainscore=1.0\n",
      "[88/100]\n",
      "trainloss=0.0012639373146359706 trainscore=1.0\n",
      "valloss=0.0012624383671209216 trainscore=1.0\n",
      "[89/100]\n",
      "trainloss=0.0012466259649954736 trainscore=1.0\n",
      "valloss=0.001244644750840962 trainscore=1.0\n",
      "[90/100]\n",
      "trainloss=0.0012296709109149459 trainscore=1.0\n",
      "valloss=0.001227205852046609 trainscore=1.0\n",
      "[91/100]\n",
      "trainloss=0.0012130056533755527 trainscore=1.0\n",
      "valloss=0.0012100758031010628 trainscore=1.0\n",
      "[92/100]\n",
      "trainloss=0.001196690256215839 trainscore=1.0\n",
      "valloss=0.001193285221233964 trainscore=1.0\n",
      "[93/100]\n",
      "trainloss=0.0011806374370482648 trainscore=1.0\n",
      "valloss=0.0011768017429858446 trainscore=1.0\n",
      "[94/100]\n",
      "trainloss=0.0011649162398599503 trainscore=1.0\n",
      "valloss=0.0011606405023485422 trainscore=1.0\n",
      "[95/100]\n",
      "trainloss=0.0011494794291340643 trainscore=1.0\n",
      "valloss=0.001144787878729403 trainscore=1.0\n",
      "[96/100]\n",
      "trainloss=0.0011343013999673228 trainscore=1.0\n",
      "valloss=0.0011292060371488333 trainscore=1.0\n",
      "[97/100]\n",
      "trainloss=0.001119426655350253 trainscore=1.0\n",
      "valloss=0.0011139281559735537 trainscore=1.0\n",
      "[98/100]\n",
      "trainloss=0.0011048150999057624 trainscore=1.0\n",
      "valloss=0.0010989404981955886 trainscore=1.0\n",
      "[99/100]\n",
      "trainloss=0.0010904432824140207 trainscore=1.0\n",
      "valloss=0.0010841984767466784 trainscore=1.0\n"
     ]
    }
   ],
   "source": [
    "## 학습의 효과 확인 손실값과 성능 평가값 저장 필요\n",
    "LOSS_HISTORY,SCORE_HISTORY=[[],[]],[[],[]]\n",
    "\n",
    "# 학습 모드로 모델 설정\n",
    " \n",
    "for epoch in range(EPOCH):\n",
    "    model.train()  ## 학습모드 켜기! 에포크 단위로 학습과 검증 진행시 for문안에서 껐다 켯다 해야함! \n",
    "\n",
    "    # 배치 크기 만큼 데이터 로딩해서 학습 진행\n",
    "    loss_total=0\n",
    "    score_total=0\n",
    "    for featureTS,targetTS in trainDL:\n",
    "\n",
    "        # 학습 진행\n",
    "        pre_y=model(featureTS)\n",
    "\n",
    "        # 손실 계산\n",
    "        loss=bceLoss(pre_y,targetTS)\n",
    "        loss_total+=loss.item()\n",
    "\n",
    "        # 성능평가 계산\n",
    "        score=BinaryF1Score()(pre_y,targetTS)\n",
    "        score_total+=score.item()\n",
    "\n",
    "        # 최적화 진행\n",
    "        optimizer.zero_grad()\n",
    "        loss.backward()\n",
    "        optimizer.step()\n",
    "\n",
    "    model.eval() # 검증모드 켜기!\n",
    "    with torch.no_grad():\n",
    "        # 검증데이터셋\n",
    "        val_featureTS=torch.FloatTensor(valDS.featureDF.values)\n",
    "        val_targetTS=torch.FloatTensor(valDS.targetDF.values)\n",
    "\n",
    "        # 평가\n",
    "        pre_val = model(val_featureTS)\n",
    "        #손실\n",
    "        val_loss=bceLoss(pre_val,val_targetTS)\n",
    "        # 성능평가\n",
    "        val_score=BinaryF1Score()(pre_val,val_targetTS)\n",
    "    \n",
    "    # 손실값과 성능 평가값 저장\n",
    "    LOSS_HISTORY[0].append(loss_total/len(trainDL))\n",
    "    SCORE_HISTORY[0].append(score_total/len(trainDL))\n",
    "\n",
    "    LOSS_HISTORY[1].append(val_loss)\n",
    "    SCORE_HISTORY[1].append(val_score)\n",
    "\n",
    "    print(f'[{epoch}/{EPOCH}]')\n",
    "    print(f'trainloss={loss_total/len(trainDL)} trainscore={score_total/len(trainDL)}')\n",
    "    print(f'valloss={val_loss} trainscore={val_score}')"
   ]
  },
  {
   "cell_type": "markdown",
   "metadata": {},
   "source": [
    "- 학습결과 체크 => 학습과 검증의 Loss변화, 성능변화"
   ]
  },
  {
   "cell_type": "markdown",
   "metadata": {},
   "source": []
  }
 ],
 "metadata": {
  "kernelspec": {
   "display_name": "TORCH_38",
   "language": "python",
   "name": "python3"
  },
  "language_info": {
   "codemirror_mode": {
    "name": "ipython",
    "version": 3
   },
   "file_extension": ".py",
   "mimetype": "text/x-python",
   "name": "python",
   "nbconvert_exporter": "python",
   "pygments_lexer": "ipython3",
   "version": "3.8.19"
  }
 },
 "nbformat": 4,
 "nbformat_minor": 2
}

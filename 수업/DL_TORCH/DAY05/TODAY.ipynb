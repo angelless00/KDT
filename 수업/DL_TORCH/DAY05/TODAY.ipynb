{
 "cells": [
  {
   "cell_type": "markdown",
   "metadata": {},
   "source": [
    "[IRIS] - 회귀\n",
    "- feature 3개\n",
    "- target 1개\n",
    "\n",
    "[IRIS] - 이진분류\n",
    "- feature 4개\n",
    "- target 1개\n",
    "- class 품종 2개\n",
    "\n",
    "[IRIS] - 다중분류\n",
    "- feature 4개\n",
    "- target 1개\n",
    "- class 품종3개"
   ]
  },
  {
   "cell_type": "markdown",
   "metadata": {},
   "source": [
    "### 테스트 & 검증 상태 \n",
    "\n",
    "- 사용되지 않는 기능들 OFF\n",
    "    - W, b 업데이트 x => no_grad()\n",
    "    - 기능 off Auto_grade 엔진 ==> model.eval()\n",
    "\n",
    "==> model.train() 학습모드 설정"
   ]
  },
  {
   "cell_type": "markdown",
   "metadata": {},
   "source": []
  }
 ],
 "metadata": {
  "language_info": {
   "name": "python"
  }
 },
 "nbformat": 4,
 "nbformat_minor": 2
}

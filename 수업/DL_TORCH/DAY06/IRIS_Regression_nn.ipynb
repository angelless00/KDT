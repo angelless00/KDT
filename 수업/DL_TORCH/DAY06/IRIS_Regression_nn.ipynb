{
 "cells": [
  {
   "cell_type": "markdown",
   "metadata": {},
   "source": [
    "### DNN 기반 회귀 모델 구현 + 학습진행 모니터링 <hr>\n",
    "- 데이터셋 : iris.csv\n",
    "- 피쳐/속성 : 3개 Sepal_Length, Sepan_Width, Petal_ Length\n",
    "- 타겟/라벨 : 1개 Peatal_Width\n",
    "- 학습방벙 : 지도학습 > 회귀\n",
    "- 알고리즘 : 인공신경망 (ANN) -> MLP(Multi Layer Percetron),  심층신경망(DNN)(은닉층 多)\n",
    "- 프레임워크 : Pytorch\n",
    "---\n",
    "- 모니터링\n",
    "    - 기준 : 검증테이터셋의 loss 와 score\n",
    "    - 평가 : 학습데이텅셋의 loss와 score와 비교해서 학습 중단 여부를 결정\n",
    "    - 선택 : 현재까지 진행된 모델의 파라미터(가중치, 절편) 저장여부 또는 모델 전체 저장\n",
    "---"
   ]
  },
  {
   "cell_type": "markdown",
   "metadata": {},
   "source": [
    "[1] 모듈 로딩 및 데이터 준비  <hr>"
   ]
  },
  {
   "cell_type": "code",
   "execution_count": 208,
   "metadata": {},
   "outputs": [],
   "source": [
    "# 모듈로딩\n",
    "# Model 관련\n",
    "import torch\n",
    "import torch.nn as nn\n",
    "import torch.nn.functional as F\n",
    "from torch.utils.data import Dataset,DataLoader\n",
    "import torch.optim as optim\n",
    "from torchmetrics.regression import R2Score, MeanSquaredError\n",
    "from torchinfo import summary\n",
    "\n",
    "# - Data관련\n",
    "import pandas as pd\n",
    "import matplotlib.pyplot as plt\n",
    "from sklearn.preprocessing import *\n",
    "from sklearn.model_selection import train_test_split"
   ]
  },
  {
   "cell_type": "code",
   "execution_count": 209,
   "metadata": {},
   "outputs": [
    {
     "name": "stdout",
     "output_type": "stream",
     "text": [
      "Pytorch v.2.4.1\n",
      "Pandas v.2.0.3\n"
     ]
    }
   ],
   "source": [
    "# 활용 패키지 버전 체크 - 사용자 정의 함수로 구현할것!\n",
    "print(f'Pytorch v.{torch.__version__}')\n",
    "print(f'Pandas v.{pd.__version__}')"
   ]
  },
  {
   "cell_type": "code",
   "execution_count": 210,
   "metadata": {},
   "outputs": [
    {
     "data": {
      "text/html": [
       "<div>\n",
       "<style scoped>\n",
       "    .dataframe tbody tr th:only-of-type {\n",
       "        vertical-align: middle;\n",
       "    }\n",
       "\n",
       "    .dataframe tbody tr th {\n",
       "        vertical-align: top;\n",
       "    }\n",
       "\n",
       "    .dataframe thead th {\n",
       "        text-align: right;\n",
       "    }\n",
       "</style>\n",
       "<table border=\"1\" class=\"dataframe\">\n",
       "  <thead>\n",
       "    <tr style=\"text-align: right;\">\n",
       "      <th></th>\n",
       "      <th>sepal.length</th>\n",
       "      <th>sepal.width</th>\n",
       "      <th>petal.length</th>\n",
       "      <th>petal.width</th>\n",
       "      <th>variety</th>\n",
       "    </tr>\n",
       "  </thead>\n",
       "  <tbody>\n",
       "    <tr>\n",
       "      <th>0</th>\n",
       "      <td>5.1</td>\n",
       "      <td>3.5</td>\n",
       "      <td>1.4</td>\n",
       "      <td>0.2</td>\n",
       "      <td>Setosa</td>\n",
       "    </tr>\n",
       "    <tr>\n",
       "      <th>1</th>\n",
       "      <td>4.9</td>\n",
       "      <td>3.0</td>\n",
       "      <td>1.4</td>\n",
       "      <td>0.2</td>\n",
       "      <td>Setosa</td>\n",
       "    </tr>\n",
       "    <tr>\n",
       "      <th>2</th>\n",
       "      <td>4.7</td>\n",
       "      <td>3.2</td>\n",
       "      <td>1.3</td>\n",
       "      <td>0.2</td>\n",
       "      <td>Setosa</td>\n",
       "    </tr>\n",
       "    <tr>\n",
       "      <th>3</th>\n",
       "      <td>4.6</td>\n",
       "      <td>3.1</td>\n",
       "      <td>1.5</td>\n",
       "      <td>0.2</td>\n",
       "      <td>Setosa</td>\n",
       "    </tr>\n",
       "    <tr>\n",
       "      <th>4</th>\n",
       "      <td>5.0</td>\n",
       "      <td>3.6</td>\n",
       "      <td>1.4</td>\n",
       "      <td>0.2</td>\n",
       "      <td>Setosa</td>\n",
       "    </tr>\n",
       "  </tbody>\n",
       "</table>\n",
       "</div>"
      ],
      "text/plain": [
       "   sepal.length  sepal.width  petal.length  petal.width variety\n",
       "0           5.1          3.5           1.4          0.2  Setosa\n",
       "1           4.9          3.0           1.4          0.2  Setosa\n",
       "2           4.7          3.2           1.3          0.2  Setosa\n",
       "3           4.6          3.1           1.5          0.2  Setosa\n",
       "4           5.0          3.6           1.4          0.2  Setosa"
      ]
     },
     "execution_count": 210,
     "metadata": {},
     "output_type": "execute_result"
    }
   ],
   "source": [
    "## 데이터로딩\n",
    "DATA_FILE='../../MachineLearning/data/iris.csv'\n",
    "\n",
    "## CSV >> DataFrame\n",
    "irisDF=pd.read_csv(DATA_FILE)\n",
    "\n",
    "## 확인\n",
    "irisDF.head()"
   ]
  },
  {
   "cell_type": "markdown",
   "metadata": {},
   "source": [
    "[2] 모델 클래스 설계 및 정의 <hr>\n",
    "- 클래스목적 : iris 데이터를 학습 및 추론 목적\n",
    "- 클래스이름 : IrisRegModel\n",
    "- 부모클래스 : nn.Module\n",
    "- 매개변수 : 층별 입출력 갯수 고정하므로 필요 없음\n",
    "- 속성/필드 : featruesDF, targetDF, n_rows, n_features\n",
    "- 기능/역할 <필수 >\n",
    "    -  __ init __() : 모델 구조 설정 \n",
    "    - forward() : 순방향 학습 <- 오버라이딩(overriding)\n",
    "- 클래스구조\n",
    "    - 입력층 : 입력 3개 / 출력 10개 (퍼셉트론/뉴런 10개 존재)\n",
    "    - 은닉층 : 입력 10개 / 출력 30개 (퍼셉트론/뉴런 30개 존재) \n",
    "    - 출력층 : 입력 30개 / 출력 1개 (너비값)\n",
    "- 손실함수/ 활성화함수 \n",
    "    - 클래스형태 => nn. 아래  \n",
    "        - ex) nn.ReLu << __init__() 에 사용\n",
    "    - 함수 형태 => torch.nn.functional 아래\n",
    "        - ex) F.relu << def forward() 에 사용\n"
   ]
  },
  {
   "cell_type": "code",
   "execution_count": 211,
   "metadata": {},
   "outputs": [],
   "source": [
    "class IrisRegModel(nn.Module):\n",
    "\n",
    "    # 모델 구조 구성 및 인스턴스 생성 메서드\n",
    "    def __init__(self):\n",
    "        super().__init__()\n",
    "\n",
    "        self.in_layer=nn.Linear(3,10)\n",
    "        self.hd_layer=nn.Linear(10,30)\n",
    "        self.out_layer=nn.Linear(30,1)\n",
    "\n",
    "    # 순방향 학습 진행 메서드\n",
    "    def forward(self,x):\n",
    "        # - 입력층\n",
    "        y=self.in_layer(x)        # f1_1w1_1+f1_2w1_2+f1_3w1_3+b << 이런식 10개\n",
    "        y=F.relu(y)\n",
    "\n",
    "        # - 은닉층 : 10개의 숫자값 (>=0)\n",
    "        y=self.hd_layer(y)        # f2_1w2_1+f2_2w2_2+....f2_10w2_10 +b << 이런식 30개\n",
    "        y=F.relu(y)\n",
    "\n",
    "        # - 출력층 : 30개의 숫자값 (>=0) - 회귀이므로 바로 반환\n",
    "        return self.out_layer(y)         # f3_1w3_1+.....f3_30w3_30+b << 1 개\n",
    "\n",
    "    "
   ]
  },
  {
   "cell_type": "code",
   "execution_count": 212,
   "metadata": {},
   "outputs": [
    {
     "name": "stdout",
     "output_type": "stream",
     "text": [
      "IrisRegModel(\n",
      "  (in_layer): Linear(in_features=3, out_features=10, bias=True)\n",
      "  (hd_layer): Linear(in_features=10, out_features=30, bias=True)\n",
      "  (out_layer): Linear(in_features=30, out_features=1, bias=True)\n",
      ")\n"
     ]
    }
   ],
   "source": [
    "### [테스트] 모델 인스턴스 생성\n",
    "model=IrisRegModel()\n",
    "\n",
    "print(model)"
   ]
  },
  {
   "cell_type": "code",
   "execution_count": 213,
   "metadata": {},
   "outputs": [
    {
     "data": {
      "text/plain": [
       "==========================================================================================\n",
       "Layer (type:depth-idx)                   Output Shape              Param #\n",
       "==========================================================================================\n",
       "IrisRegModel                             [17, 1]                   --\n",
       "├─Linear: 1-1                            [17, 10]                  40\n",
       "├─Linear: 1-2                            [17, 30]                  330\n",
       "├─Linear: 1-3                            [17, 1]                   31\n",
       "==========================================================================================\n",
       "Total params: 401\n",
       "Trainable params: 401\n",
       "Non-trainable params: 0\n",
       "Total mult-adds (M): 0.01\n",
       "==========================================================================================\n",
       "Input size (MB): 0.00\n",
       "Forward/backward pass size (MB): 0.01\n",
       "Params size (MB): 0.00\n",
       "Estimated Total Size (MB): 0.01\n",
       "=========================================================================================="
      ]
     },
     "execution_count": 213,
     "metadata": {},
     "output_type": "execute_result"
    }
   ],
   "source": [
    "### [테스트] 모델 확인\n",
    "summary(model,input_size=(17,3))"
   ]
  },
  {
   "cell_type": "markdown",
   "metadata": {},
   "source": [
    "[3] 데이터셋 클래스 설계 및 정의 <hr>\n",
    "- 데이터셋 : iris.csv\n",
    "- 피쳐개수 : 3개\n",
    "- 타겟개수 : 1개\n",
    "- 클래스이름 : IrisDataset\n",
    "- 부모클래스 : utils.data.Dataset\n",
    "- 속성필드 : featureDF, targetDF, n_rows, n_features\n",
    "- 필수메서드 \n",
    "    - __ init __(self) : 데이터셋 저장 및 전처리, 개발자가 필요한 속성 설정\n",
    "    - __ len __(self) : 데이터의 개수 반환\n",
    "    - __ getitem __(self,index) : 특정 인덱스의 피쳐와 타겟 반환"
   ]
  },
  {
   "cell_type": "code",
   "execution_count": 214,
   "metadata": {},
   "outputs": [],
   "source": [
    "class IrisDataset(Dataset):\n",
    "\n",
    "    def __init__(self,featureDF,targetDF):\n",
    "        self.featureDF=featureDF\n",
    "        self.targetDF=targetDF\n",
    "        self.n_rows=featureDF.shape[0]      # 필수아님\n",
    "        self.n_features=featureDF.shape[1]  # 필수아님\n",
    "\n",
    "\n",
    "    def __len__(self):\n",
    "        return self.n_rows\n",
    "        \n",
    "    def __getitem__(self, index):\n",
    "        # 텐서화\n",
    "        featureTS=torch.FloatTensor(self.featureDF.iloc[index].values)\n",
    "        targetTS=torch.FloatTensor(self.targetDF.iloc[index].values)\n",
    "        \n",
    "        # 피쳐와 타겟 반환\n",
    "        return featureTS, targetTS\n",
    "    "
   ]
  },
  {
   "cell_type": "code",
   "execution_count": 215,
   "metadata": {},
   "outputs": [],
   "source": [
    "## 데이터셋 인스턴스 생성\n",
    "\n",
    "featureDF=irisDF[irisDF.columns[:3]]        # 2D (150,3)\n",
    "targetDF=irisDF[irisDF.columns[[3]]]        # 2D (150,1)\n",
    "\n",
    "# - 커스템데이터셋 인스턴스 생성\n",
    "irisDS=IrisDataset(featureDF,targetDF)"
   ]
  },
  {
   "cell_type": "markdown",
   "metadata": {},
   "source": [
    "[4] 학습 준비\n",
    "- 학습횟수 : EPOCH <- 처음부터 끝까지 공부하는 횟수\n",
    "- 배치크기 : BATCH_SIZE <- 한번에 학습할 데이터셋 양\n",
    "- 위치지정 : DEVICE <- 텐서 저장 및 실행 위치 (GPU/CPU)\n",
    "- 학습률(LR, learning Rate) : 가중치와 절편 업데이트 시 경사하강법으로 업데이트 간격 설정 0.001~0.1"
   ]
  },
  {
   "cell_type": "code",
   "execution_count": 216,
   "metadata": {},
   "outputs": [],
   "source": [
    "### 학습 진행 관련 설정 값 \n",
    "EPOCH = 100\n",
    "BATCH_SIZE= 10\n",
    "# BATCH_CNT=irisDF.shape[0]/BATCH_SIZE      = len(irisDL)\n",
    "DEVICE ='cuda' if torch.cuda.is_available() else 'cpu'\n",
    "LR=0.001"
   ]
  },
  {
   "cell_type": "markdown",
   "metadata": {},
   "source": [
    "- 인스턴스/객체 : 모델, 데이터셋, 최적화, 손실함수 (, 성능지표)"
   ]
  },
  {
   "cell_type": "code",
   "execution_count": 217,
   "metadata": {},
   "outputs": [
    {
     "name": "stdout",
     "output_type": "stream",
     "text": [
      " X_train : (84, 3), X_val : (28, 3) , X_test : (38, 3)\n",
      " y_train : (84, 1), y_val : (28, 1) , y_test : (38, 1)\n"
     ]
    }
   ],
   "source": [
    "# 모델 인스턴스\n",
    "model= IrisRegModel()\n",
    "\n",
    "# 데이터셋 인스턴스\n",
    "# # 학습,검증,테스트 데이터 분리\n",
    "X_train, X_test, y_train, y_test=train_test_split(featureDF,targetDF,random_state=1)\n",
    "X_train,X_val,y_train,y_val=train_test_split(X_train,y_train,random_state=1)\n",
    "print(f' X_train : {X_train.shape}, X_val : {X_val.shape} , X_test : {X_test.shape}')\n",
    "print(f' y_train : {y_train.shape}, y_val : {y_val.shape} , y_test : {y_test.shape}')\n",
    "\n",
    "\n",
    "\n",
    "trainDS=IrisDataset(X_train,y_train)\n",
    "valDS=IrisDataset(X_val,y_val)\n",
    "testDS=IrisDataset(X_test,y_test)\n",
    "\n",
    "# 데이터로더 인스턴스\n",
    "trainDL=DataLoader(trainDS,batch_size=BATCH_SIZE)"
   ]
  },
  {
   "cell_type": "code",
   "execution_count": 218,
   "metadata": {},
   "outputs": [
    {
     "name": "stdout",
     "output_type": "stream",
     "text": [
      "torch.Size([10, 3]) torch.Size([10, 1])\n",
      "torch.Size([10, 3]) torch.Size([10, 1])\n",
      "torch.Size([10, 3]) torch.Size([10, 1])\n",
      "torch.Size([10, 3]) torch.Size([10, 1])\n",
      "torch.Size([10, 3]) torch.Size([10, 1])\n",
      "torch.Size([10, 3]) torch.Size([10, 1])\n",
      "torch.Size([10, 3]) torch.Size([10, 1])\n",
      "torch.Size([10, 3]) torch.Size([10, 1])\n",
      "torch.Size([4, 3]) torch.Size([4, 1])\n"
     ]
    }
   ],
   "source": [
    "## [테스트] 데이터 로더\n",
    "for feature,target in trainDL:\n",
    "    print(feature.shape,target.shape)\n",
    "    "
   ]
  },
  {
   "cell_type": "code",
   "execution_count": 219,
   "metadata": {},
   "outputs": [],
   "source": [
    "# 최적화 인스턴스 => W,b 텐서 즉, model.parameters() 전달\n",
    "optimizer=optim.Adam(model.parameters(),lr=LR)\n",
    "\n",
    "# 손실함수 인스턴스 => 회귀, MSE, MAE, RMSE, ...\n",
    "regLoss=MeanSquaredError()"
   ]
  },
  {
   "cell_type": "markdown",
   "metadata": {},
   "source": [
    "[5] 학습진행"
   ]
  },
  {
   "cell_type": "code",
   "execution_count": 220,
   "metadata": {},
   "outputs": [
    {
     "name": "stdout",
     "output_type": "stream",
     "text": [
      "[1/100]\n",
      "[2/100]\n",
      "[3/100]\n",
      "[4/100]\n",
      "[5/100]\n",
      "[6/100]\n",
      "[7/100]\n",
      "[8/100]\n",
      "[9/100]\n",
      "[10/100]\n",
      "[11/100]\n",
      "[12/100]\n",
      "[13/100]\n",
      "[14/100]\n",
      "[15/100]\n",
      "[16/100]\n",
      "[17/100]\n",
      "[18/100]\n",
      "[19/100]\n",
      "[20/100]\n",
      "[21/100]\n",
      "[22/100]\n",
      "[23/100]\n",
      "[24/100]\n",
      "[25/100]\n",
      "[26/100]\n",
      "[27/100]\n",
      "[28/100]\n",
      "[29/100]\n",
      "[30/100]\n",
      "[31/100]\n",
      "[32/100]\n",
      "[33/100]\n",
      "[34/100]\n",
      "[35/100]\n",
      "[36/100]\n",
      "[37/100]\n",
      "[38/100]\n",
      "[39/100]\n",
      "[40/100]\n",
      "[41/100]\n",
      "[42/100]\n",
      "[43/100]\n",
      "[44/100]\n",
      "[45/100]\n",
      "[46/100]\n",
      "[47/100]\n",
      "[48/100]\n",
      "[49/100]\n",
      "[50/100]\n",
      "[51/100]\n",
      "[52/100]\n",
      "[53/100]\n",
      "[54/100]\n",
      "[55/100]\n",
      "[56/100]\n",
      "[57/100]\n",
      "성능 및 손실 개선이 없어서 학습 중단\n"
     ]
    }
   ],
   "source": [
    "## 학습의 효과 확인 손실값과 성능 평가값 저장 필요\n",
    "LOSS_HISTORY,SCORE_HISTORY=[[],[]],[[],[]]\n",
    "\n",
    "# 학습 모니터링/스케쥴링 설정\n",
    "# => LOSS_HISTORY, SCORE_HISTORY활용\n",
    "# 임계기준 : 10번 (내가설정)\n",
    "BREAK_CNT= 0\n",
    "\n",
    "\n",
    "# 학습 모드로 모델 설정\n",
    " \n",
    "for epoch in range(EPOCH):\n",
    "    model.train()  ## 학습모드 켜기! 에포크 단위로 학습과 검증 진행시 for문안에서 껐다 켯다 해야함! \n",
    "\n",
    "    # 배치 크기 만큼 데이터 로딩해서 학습 진행\n",
    "    loss_total=0\n",
    "    score_total=0\n",
    "    for featureTS,targetTS in trainDL:\n",
    "\n",
    "        # 학습 진행\n",
    "        pre_y=model(featureTS)\n",
    "\n",
    "        # 손실 계산\n",
    "        loss=regLoss(pre_y,targetTS)\n",
    "        loss_total+=loss.item()\n",
    "\n",
    "        # 성능평가 계산\n",
    "        score=R2Score()(pre_y,targetTS)\n",
    "        score_total+=score.item()\n",
    "\n",
    "        # 최적화 진행\n",
    "        optimizer.zero_grad()\n",
    "        loss.backward()\n",
    "        optimizer.step()\n",
    "\n",
    "    model.eval() # 검증모드 켜기!\n",
    "    with torch.no_grad():\n",
    "        # 검증데이터셋\n",
    "        val_featureTS=torch.FloatTensor(valDS.featureDF.values)\n",
    "        val_targetTS=torch.FloatTensor(valDS.targetDF.values)\n",
    "\n",
    "        # 평가\n",
    "        pre_val = model(val_featureTS)\n",
    "        #손실\n",
    "        val_loss=regLoss(pre_val,val_targetTS)\n",
    "        # 성능평가\n",
    "        val_score=R2Score()(pre_val,val_targetTS)\n",
    "    \n",
    "    # 손실값과 성능 평가값 저장\n",
    "    LOSS_HISTORY[0].append(loss_total/len(trainDL))\n",
    "    SCORE_HISTORY[0].append(score_total/len(trainDL))\n",
    "\n",
    "    LOSS_HISTORY[1].append(val_loss)\n",
    "    SCORE_HISTORY[1].append(val_score)\n",
    "    print(f'[{epoch+1}/{EPOCH}]')\n",
    "\n",
    "\n",
    "    # 학습 진행 모니터링/스케쥴링- 검증기준 \n",
    "    # Loss 기준\n",
    "    if len(LOSS_HISTORY[0])>=2:\n",
    "        if LOSS_HISTORY[1][-1] >= LOSS_HISTORY[1][-2]:\n",
    "            BREAK_CNT+=1\n",
    "\n",
    "    # Score 기준\n",
    "    # if len(SCORE_HISTORY[0])>=2:\n",
    "    #     if SCORE_HISTORY[1][-1] <= SCORE_HISTORY[1][-2]:\n",
    "    #         BREAK_CNT+=1\n",
    "    # loss나 score 둘중 하나만 사용\n",
    "\n",
    "    ## 학습 중단 여부 설정\n",
    "    if BREAK_CNT>10:\n",
    "        print('성능 및 손실 개선이 없어서 학습 중단')\n",
    "        break"
   ]
  },
  {
   "cell_type": "code",
   "execution_count": 221,
   "metadata": {},
   "outputs": [
    {
     "data": {
      "text/plain": [
       "[[1.1511929896142747,\n",
       "  0.6296300623151991,\n",
       "  0.3788959350850847,\n",
       "  0.30510979725254905,\n",
       "  0.28684213426378036,\n",
       "  0.2624758283297221,\n",
       "  0.24092408021291098,\n",
       "  0.22452214856942496,\n",
       "  0.2071435269382265,\n",
       "  0.1864429364601771,\n",
       "  0.16214663783709207,\n",
       "  0.13445253918568292,\n",
       "  0.10818733771642049,\n",
       "  0.08698991189400355,\n",
       "  0.0685868544711007,\n",
       "  0.05458753224876192,\n",
       "  0.045295077893469066,\n",
       "  0.03948400624924236,\n",
       "  0.03613893687725067,\n",
       "  0.034421656280756,\n",
       "  0.033549586310982704,\n",
       "  0.03303507715463638,\n",
       "  0.03268662571079201,\n",
       "  0.032409210999806724,\n",
       "  0.03214946803119448,\n",
       "  0.03190135728153917,\n",
       "  0.03161004475421376,\n",
       "  0.03144858218729496,\n",
       "  0.03117347363796499,\n",
       "  0.030957663017842505,\n",
       "  0.030798699085911114,\n",
       "  0.030521793704893854,\n",
       "  0.030388870379991002,\n",
       "  0.030146748655372195,\n",
       "  0.02998190393878354,\n",
       "  0.029845143978794415,\n",
       "  0.029614841979410913,\n",
       "  0.029530631171332464,\n",
       "  0.029329484328627586,\n",
       "  0.029208921103013888,\n",
       "  0.029056585497326322,\n",
       "  0.028963238207830325,\n",
       "  0.028791043079561658,\n",
       "  0.02871250371552176,\n",
       "  0.028553469416995842,\n",
       "  0.028473339457478788,\n",
       "  0.028382085263729095,\n",
       "  0.02827837152613534,\n",
       "  0.028253873913652368,\n",
       "  0.02811481079293622,\n",
       "  0.028119305045240454,\n",
       "  0.028002238625453577,\n",
       "  0.027971118585103087,\n",
       "  0.027892197171847027,\n",
       "  0.027872526811228857,\n",
       "  0.027789283750785723,\n",
       "  0.027771679994960625],\n",
       " [tensor(0.6972),\n",
       "  tensor(0.4300),\n",
       "  tensor(0.3629),\n",
       "  tensor(0.3713),\n",
       "  tensor(0.3486),\n",
       "  tensor(0.3048),\n",
       "  tensor(0.2703),\n",
       "  tensor(0.2458),\n",
       "  tensor(0.2248),\n",
       "  tensor(0.1996),\n",
       "  tensor(0.1666),\n",
       "  tensor(0.1312),\n",
       "  tensor(0.1034),\n",
       "  tensor(0.0829),\n",
       "  tensor(0.0655),\n",
       "  tensor(0.0527),\n",
       "  tensor(0.0452),\n",
       "  tensor(0.0416),\n",
       "  tensor(0.0400),\n",
       "  tensor(0.0396),\n",
       "  tensor(0.0397),\n",
       "  tensor(0.0397),\n",
       "  tensor(0.0397),\n",
       "  tensor(0.0396),\n",
       "  tensor(0.0395),\n",
       "  tensor(0.0394),\n",
       "  tensor(0.0391),\n",
       "  tensor(0.0391),\n",
       "  tensor(0.0389),\n",
       "  tensor(0.0387),\n",
       "  tensor(0.0386),\n",
       "  tensor(0.0384),\n",
       "  tensor(0.0383),\n",
       "  tensor(0.0381),\n",
       "  tensor(0.0380),\n",
       "  tensor(0.0380),\n",
       "  tensor(0.0378),\n",
       "  tensor(0.0378),\n",
       "  tensor(0.0377),\n",
       "  tensor(0.0377),\n",
       "  tensor(0.0376),\n",
       "  tensor(0.0376),\n",
       "  tensor(0.0375),\n",
       "  tensor(0.0375),\n",
       "  tensor(0.0374),\n",
       "  tensor(0.0374),\n",
       "  tensor(0.0374),\n",
       "  tensor(0.0373),\n",
       "  tensor(0.0374),\n",
       "  tensor(0.0373),\n",
       "  tensor(0.0373),\n",
       "  tensor(0.0372),\n",
       "  tensor(0.0373),\n",
       "  tensor(0.0372),\n",
       "  tensor(0.0372),\n",
       "  tensor(0.0372),\n",
       "  tensor(0.0372)]]"
      ]
     },
     "execution_count": 221,
     "metadata": {},
     "output_type": "execute_result"
    }
   ],
   "source": [
    "LOSS_HISTORY"
   ]
  },
  {
   "cell_type": "markdown",
   "metadata": {},
   "source": [
    "- 모델 저장 방법 </hr>\n",
    "- 방법1 : 모델 파라미터만 저장\n",
    "- 방법2 : 모델 설계 구조 및 파라미터 까지 모두 저장"
   ]
  },
  {
   "cell_type": "code",
   "execution_count": 222,
   "metadata": {},
   "outputs": [
    {
     "data": {
      "text/plain": [
       "OrderedDict([('in_layer.weight',\n",
       "              tensor([[-0.1365, -0.5364, -0.3836],\n",
       "                      [ 0.5722, -0.5604, -0.2501],\n",
       "                      [ 0.4147,  0.4546, -0.0468],\n",
       "                      [-0.0063, -0.1399,  0.4483],\n",
       "                      [ 0.2955,  0.5401, -0.3780],\n",
       "                      [ 0.5136, -0.3631, -0.3699],\n",
       "                      [-0.2814,  0.0172,  0.3477],\n",
       "                      [ 0.4181, -0.1767,  0.4972],\n",
       "                      [-0.1799,  0.0568, -0.3362],\n",
       "                      [ 0.2840,  0.5489,  0.6405]])),\n",
       "             ('in_layer.bias',\n",
       "              tensor([-0.4536, -0.0729,  0.3815, -0.3912, -0.1116,  0.1785, -0.4195, -0.4432,\n",
       "                       0.5161, -0.3506])),\n",
       "             ('hd_layer.weight',\n",
       "              tensor([[ 4.8242e-02,  1.7043e-01,  2.8597e-01,  5.2063e-02, -7.9224e-02,\n",
       "                       -1.3583e-01,  3.8102e-03,  2.3857e-01, -1.4904e-01, -1.7222e-01],\n",
       "                      [-2.7001e-01, -2.8398e-01, -2.0918e-01, -2.4336e-01, -1.8262e-01,\n",
       "                        3.1319e-01, -1.0663e-01,  9.3339e-02,  2.4816e-01, -1.8231e-01],\n",
       "                      [-2.0293e-01,  2.1843e-01,  1.2676e-01, -1.4377e-01,  1.0281e-01,\n",
       "                       -5.3184e-01, -2.9102e-01,  3.2729e-01, -8.6343e-02,  3.3761e-01],\n",
       "                      [-2.1279e-01,  1.7055e-01,  1.4400e-01,  1.2904e-01,  4.2915e-02,\n",
       "                        6.1528e-02,  1.3631e-01,  3.2871e-01,  2.9842e-01,  3.5357e-01],\n",
       "                      [ 1.0791e-01, -9.3056e-02, -2.2294e-01,  1.8861e-02, -3.1089e-01,\n",
       "                       -1.2689e-01, -1.4517e-01,  1.9852e-01,  9.9157e-02, -3.1065e-01],\n",
       "                      [-2.5234e-01, -1.8188e-01,  1.3436e-01, -3.3094e-01,  2.8088e-01,\n",
       "                       -2.0438e-02, -1.3181e-01, -1.4765e-01,  5.4260e-02, -7.7416e-03],\n",
       "                      [ 6.6975e-02, -8.2479e-02, -1.2539e-02, -1.5968e-01, -1.5942e-01,\n",
       "                       -2.9001e-01, -1.8473e-01, -1.2356e-01, -1.6574e-01,  1.1746e-01],\n",
       "                      [ 1.9727e-01, -8.6251e-02, -7.4088e-02,  4.0823e-01, -2.3737e-01,\n",
       "                       -2.6354e-01, -2.6928e-01,  1.9989e-01, -2.6369e-01,  2.9306e-01],\n",
       "                      [-2.9496e-01,  2.3088e-01,  2.9566e-01,  2.2733e-01, -3.1346e-01,\n",
       "                       -2.9891e-01,  6.1480e-02, -2.1109e-01, -2.5254e-01, -1.6828e-01],\n",
       "                      [ 2.2559e-01, -2.7722e-01, -2.4523e-01,  3.8418e-01,  1.2390e-01,\n",
       "                       -1.9302e-01, -4.4772e-02,  1.0436e-01,  2.5561e-01,  1.1681e-01],\n",
       "                      [-1.5903e-01, -2.1374e-01, -1.9935e-01,  2.5263e-01,  2.1904e-01,\n",
       "                        2.9612e-01, -2.1697e-01,  4.7055e-02,  2.9914e-01, -1.0396e-01],\n",
       "                      [ 1.6613e-01,  1.3195e-01,  4.1113e-02,  4.1191e-01, -1.3776e-01,\n",
       "                       -2.4235e-01,  1.4144e-01,  2.4252e-01, -1.0610e-01,  3.5843e-01],\n",
       "                      [-2.8786e-01,  2.3080e-01, -1.5851e-02,  1.7029e-01, -1.2659e-01,\n",
       "                       -3.5641e-02, -4.3680e-02, -1.9504e-01,  2.6808e-01, -4.5836e-02],\n",
       "                      [-5.6812e-02, -9.6357e-02,  3.1560e-04, -1.2039e-02,  6.5010e-02,\n",
       "                        4.7806e-01, -2.7966e-01,  2.3138e-01, -2.8961e-01, -1.5623e-01],\n",
       "                      [ 1.6680e-01,  2.1462e-01,  9.0758e-02,  8.3725e-02,  3.3613e-01,\n",
       "                        3.4101e-01, -2.0404e-01,  1.5241e-01,  9.3912e-02, -2.2661e-01],\n",
       "                      [-9.4119e-02,  1.8176e-01,  1.5761e-01, -3.0956e-01, -1.5177e-01,\n",
       "                       -2.8558e-01, -1.6959e-01, -2.5695e-01,  2.3168e-01, -1.6018e-01],\n",
       "                      [ 3.9733e-02,  2.7974e-01,  2.6210e-01,  8.4036e-02, -2.9366e-01,\n",
       "                       -3.0497e-01, -2.5012e-03, -9.0280e-03,  2.5856e-01, -2.4228e-01],\n",
       "                      [ 4.5794e-02,  5.0749e-02, -4.0426e-02, -7.0374e-02,  1.4426e-01,\n",
       "                       -2.9006e-01,  1.1597e-01,  1.7696e-01, -4.2071e-02,  2.1711e-01],\n",
       "                      [ 5.2731e-03, -1.9522e-01, -3.3041e-01,  2.9208e-02, -1.0158e-02,\n",
       "                        1.0574e-01, -6.3241e-02,  1.8944e-01,  1.6338e-01,  5.3975e-02],\n",
       "                      [-2.9110e-01,  3.0569e-01, -3.0666e-01,  1.7535e-02, -6.7867e-02,\n",
       "                        1.9237e-01,  7.7795e-02,  1.0148e-01, -1.7379e-01, -1.6862e-01],\n",
       "                      [ 8.0223e-02, -1.0362e-01, -1.3084e-01,  1.2543e-01,  1.1261e-01,\n",
       "                       -3.1143e-02, -2.2896e-01, -2.5153e-01, -3.0376e-01,  1.7142e-01],\n",
       "                      [ 1.5730e-01, -8.0371e-02, -2.8647e-01,  2.4925e-01,  3.0985e-01,\n",
       "                       -1.6456e-01, -2.9367e-01,  1.0804e-01, -2.5369e-03, -1.1965e-02],\n",
       "                      [-1.3884e-01,  1.3183e-01, -1.8421e-01,  3.8462e-02, -1.1404e-01,\n",
       "                       -5.0632e-03,  1.7426e-01, -9.2329e-02,  2.9756e-01,  2.8019e-01],\n",
       "                      [ 2.1855e-01, -1.0783e-01,  7.9039e-02, -1.3827e-01,  3.2408e-01,\n",
       "                        4.2693e-01, -3.0672e-01, -3.1498e-01, -2.2614e-01,  1.3852e-01],\n",
       "                      [-2.3037e-01, -6.4060e-02,  1.9614e-01, -6.0358e-02, -2.8979e-01,\n",
       "                       -8.1811e-02,  1.6483e-01,  1.8639e-01, -2.5294e-01, -2.7097e-01],\n",
       "                      [ 2.5134e-01, -9.8202e-02, -3.1322e-01,  1.7709e-01, -2.7156e-01,\n",
       "                        2.0908e-01, -3.2325e-01,  9.2252e-02, -1.2911e-01,  1.5654e-01],\n",
       "                      [-1.2023e-02, -7.6085e-02,  2.3544e-01,  2.7223e-01, -4.3046e-02,\n",
       "                       -1.7177e-01, -2.8249e-01, -1.3788e-02, -2.8891e-01,  2.2823e-01],\n",
       "                      [-1.9869e-01,  2.0729e-01, -2.4091e-02,  1.3408e-01,  2.4721e-02,\n",
       "                        2.6292e-01, -1.0962e-01, -2.1478e-01, -3.0720e-01, -2.4123e-01],\n",
       "                      [ 2.9148e-01, -2.4778e-01, -2.2472e-01,  5.1832e-02,  2.2817e-01,\n",
       "                       -2.1806e-01,  8.2331e-02,  2.6903e-01,  1.7852e-01, -1.1781e-01],\n",
       "                      [-1.7725e-02, -8.0104e-02,  3.0545e-02, -1.0255e-01, -2.9633e-02,\n",
       "                       -4.7894e-01, -2.9249e-01, -2.6313e-01, -2.5199e-01,  3.2913e-01]])),\n",
       "             ('hd_layer.bias',\n",
       "              tensor([ 2.6829e-01,  2.2213e-01, -2.2551e-01,  3.1069e-01, -2.1699e-02,\n",
       "                       2.9291e-01,  1.1335e-02,  2.1980e-01, -4.4678e-02,  1.5944e-01,\n",
       "                       2.2158e-01, -2.8152e-01, -9.4343e-03,  7.3379e-05, -9.2114e-02,\n",
       "                       2.3599e-01, -2.2405e-01,  1.1176e-01, -5.1361e-02, -2.8104e-01,\n",
       "                      -2.9576e-01, -1.8461e-01,  2.6443e-01,  2.9538e-01,  1.1773e-02,\n",
       "                       1.3275e-02,  1.1326e-01, -1.7397e-01,  1.0120e-01,  2.8839e-01])),\n",
       "             ('out_layer.weight',\n",
       "              tensor([[ 0.0264, -0.1258,  0.0914,  0.0400,  0.1615, -0.1620, -0.1144,  0.0916,\n",
       "                       -0.0591,  0.2482,  0.1265,  0.0542,  0.1733, -0.1419, -0.2332, -0.0204,\n",
       "                       -0.0440,  0.1274, -0.1118, -0.1331,  0.0974,  0.0741, -0.0954, -0.1825,\n",
       "                        0.1246, -0.0754,  0.1187, -0.0186, -0.1255,  0.1898]])),\n",
       "             ('out_layer.bias', tensor([0.1507]))])"
      ]
     },
     "execution_count": 222,
     "metadata": {},
     "output_type": "execute_result"
    }
   ],
   "source": [
    "## 학습된 모델 파라미터 값 확인\n",
    "model.state_dict()"
   ]
  },
  {
   "cell_type": "markdown",
   "metadata": {},
   "source": [
    "- [방법1] 모델파라미터 즉, 층별 가중치와 절편들"
   ]
  },
  {
   "cell_type": "code",
   "execution_count": 223,
   "metadata": {},
   "outputs": [],
   "source": [
    "### models 폴더 아래 프로젝트 폴더 아래 모델파일 저장\n",
    "import os\n",
    "\n",
    "# 저장경로\n",
    "SAVE_PATH='../models/iris/'\n",
    "# 저장 파일명\n",
    "SAVE_FILE='model_train_wbs.pth'\n"
   ]
  },
  {
   "cell_type": "code",
   "execution_count": 224,
   "metadata": {},
   "outputs": [],
   "source": [
    "# 경로상 폴더 존재 여부 체크\n",
    "\n",
    "if not os.path.exists(SAVE_PATH):\n",
    "    os.makedirs(SAVE_PATH)  # 폴더/폴더/... 하위폴더까지 생성"
   ]
  },
  {
   "cell_type": "code",
   "execution_count": 225,
   "metadata": {},
   "outputs": [],
   "source": [
    "# 모델 저장\n",
    "torch.save(model.state_dict(),SAVE_PATH+SAVE_FILE)"
   ]
  },
  {
   "cell_type": "markdown",
   "metadata": {},
   "source": [
    "#### 모델 즉, 가중치와 절편 로딩\n",
    "- [1] 가중치와 절편 객체로 로딩\n",
    "- [2] 모델의 state_dict 속성에 저장"
   ]
  },
  {
   "cell_type": "code",
   "execution_count": 228,
   "metadata": {},
   "outputs": [
    {
     "name": "stdout",
     "output_type": "stream",
     "text": [
      "OrderedDict([('in_layer.weight', tensor([[-0.1365, -0.5364, -0.3836],\n",
      "        [ 0.5722, -0.5604, -0.2501],\n",
      "        [ 0.4147,  0.4546, -0.0468],\n",
      "        [-0.0063, -0.1399,  0.4483],\n",
      "        [ 0.2955,  0.5401, -0.3780],\n",
      "        [ 0.5136, -0.3631, -0.3699],\n",
      "        [-0.2814,  0.0172,  0.3477],\n",
      "        [ 0.4181, -0.1767,  0.4972],\n",
      "        [-0.1799,  0.0568, -0.3362],\n",
      "        [ 0.2840,  0.5489,  0.6405]])), ('in_layer.bias', tensor([-0.4536, -0.0729,  0.3815, -0.3912, -0.1116,  0.1785, -0.4195, -0.4432,\n",
      "         0.5161, -0.3506])), ('hd_layer.weight', tensor([[ 4.8242e-02,  1.7043e-01,  2.8597e-01,  5.2063e-02, -7.9224e-02,\n",
      "         -1.3583e-01,  3.8102e-03,  2.3857e-01, -1.4904e-01, -1.7222e-01],\n",
      "        [-2.7001e-01, -2.8398e-01, -2.0918e-01, -2.4336e-01, -1.8262e-01,\n",
      "          3.1319e-01, -1.0663e-01,  9.3339e-02,  2.4816e-01, -1.8231e-01],\n",
      "        [-2.0293e-01,  2.1843e-01,  1.2676e-01, -1.4377e-01,  1.0281e-01,\n",
      "         -5.3184e-01, -2.9102e-01,  3.2729e-01, -8.6343e-02,  3.3761e-01],\n",
      "        [-2.1279e-01,  1.7055e-01,  1.4400e-01,  1.2904e-01,  4.2915e-02,\n",
      "          6.1528e-02,  1.3631e-01,  3.2871e-01,  2.9842e-01,  3.5357e-01],\n",
      "        [ 1.0791e-01, -9.3056e-02, -2.2294e-01,  1.8861e-02, -3.1089e-01,\n",
      "         -1.2689e-01, -1.4517e-01,  1.9852e-01,  9.9157e-02, -3.1065e-01],\n",
      "        [-2.5234e-01, -1.8188e-01,  1.3436e-01, -3.3094e-01,  2.8088e-01,\n",
      "         -2.0438e-02, -1.3181e-01, -1.4765e-01,  5.4260e-02, -7.7416e-03],\n",
      "        [ 6.6975e-02, -8.2479e-02, -1.2539e-02, -1.5968e-01, -1.5942e-01,\n",
      "         -2.9001e-01, -1.8473e-01, -1.2356e-01, -1.6574e-01,  1.1746e-01],\n",
      "        [ 1.9727e-01, -8.6251e-02, -7.4088e-02,  4.0823e-01, -2.3737e-01,\n",
      "         -2.6354e-01, -2.6928e-01,  1.9989e-01, -2.6369e-01,  2.9306e-01],\n",
      "        [-2.9496e-01,  2.3088e-01,  2.9566e-01,  2.2733e-01, -3.1346e-01,\n",
      "         -2.9891e-01,  6.1480e-02, -2.1109e-01, -2.5254e-01, -1.6828e-01],\n",
      "        [ 2.2559e-01, -2.7722e-01, -2.4523e-01,  3.8418e-01,  1.2390e-01,\n",
      "         -1.9302e-01, -4.4772e-02,  1.0436e-01,  2.5561e-01,  1.1681e-01],\n",
      "        [-1.5903e-01, -2.1374e-01, -1.9935e-01,  2.5263e-01,  2.1904e-01,\n",
      "          2.9612e-01, -2.1697e-01,  4.7055e-02,  2.9914e-01, -1.0396e-01],\n",
      "        [ 1.6613e-01,  1.3195e-01,  4.1113e-02,  4.1191e-01, -1.3776e-01,\n",
      "         -2.4235e-01,  1.4144e-01,  2.4252e-01, -1.0610e-01,  3.5843e-01],\n",
      "        [-2.8786e-01,  2.3080e-01, -1.5851e-02,  1.7029e-01, -1.2659e-01,\n",
      "         -3.5641e-02, -4.3680e-02, -1.9504e-01,  2.6808e-01, -4.5836e-02],\n",
      "        [-5.6812e-02, -9.6357e-02,  3.1560e-04, -1.2039e-02,  6.5010e-02,\n",
      "          4.7806e-01, -2.7966e-01,  2.3138e-01, -2.8961e-01, -1.5623e-01],\n",
      "        [ 1.6680e-01,  2.1462e-01,  9.0758e-02,  8.3725e-02,  3.3613e-01,\n",
      "          3.4101e-01, -2.0404e-01,  1.5241e-01,  9.3912e-02, -2.2661e-01],\n",
      "        [-9.4119e-02,  1.8176e-01,  1.5761e-01, -3.0956e-01, -1.5177e-01,\n",
      "         -2.8558e-01, -1.6959e-01, -2.5695e-01,  2.3168e-01, -1.6018e-01],\n",
      "        [ 3.9733e-02,  2.7974e-01,  2.6210e-01,  8.4036e-02, -2.9366e-01,\n",
      "         -3.0497e-01, -2.5012e-03, -9.0280e-03,  2.5856e-01, -2.4228e-01],\n",
      "        [ 4.5794e-02,  5.0749e-02, -4.0426e-02, -7.0374e-02,  1.4426e-01,\n",
      "         -2.9006e-01,  1.1597e-01,  1.7696e-01, -4.2071e-02,  2.1711e-01],\n",
      "        [ 5.2731e-03, -1.9522e-01, -3.3041e-01,  2.9208e-02, -1.0158e-02,\n",
      "          1.0574e-01, -6.3241e-02,  1.8944e-01,  1.6338e-01,  5.3975e-02],\n",
      "        [-2.9110e-01,  3.0569e-01, -3.0666e-01,  1.7535e-02, -6.7867e-02,\n",
      "          1.9237e-01,  7.7795e-02,  1.0148e-01, -1.7379e-01, -1.6862e-01],\n",
      "        [ 8.0223e-02, -1.0362e-01, -1.3084e-01,  1.2543e-01,  1.1261e-01,\n",
      "         -3.1143e-02, -2.2896e-01, -2.5153e-01, -3.0376e-01,  1.7142e-01],\n",
      "        [ 1.5730e-01, -8.0371e-02, -2.8647e-01,  2.4925e-01,  3.0985e-01,\n",
      "         -1.6456e-01, -2.9367e-01,  1.0804e-01, -2.5369e-03, -1.1965e-02],\n",
      "        [-1.3884e-01,  1.3183e-01, -1.8421e-01,  3.8462e-02, -1.1404e-01,\n",
      "         -5.0632e-03,  1.7426e-01, -9.2329e-02,  2.9756e-01,  2.8019e-01],\n",
      "        [ 2.1855e-01, -1.0783e-01,  7.9039e-02, -1.3827e-01,  3.2408e-01,\n",
      "          4.2693e-01, -3.0672e-01, -3.1498e-01, -2.2614e-01,  1.3852e-01],\n",
      "        [-2.3037e-01, -6.4060e-02,  1.9614e-01, -6.0358e-02, -2.8979e-01,\n",
      "         -8.1811e-02,  1.6483e-01,  1.8639e-01, -2.5294e-01, -2.7097e-01],\n",
      "        [ 2.5134e-01, -9.8202e-02, -3.1322e-01,  1.7709e-01, -2.7156e-01,\n",
      "          2.0908e-01, -3.2325e-01,  9.2252e-02, -1.2911e-01,  1.5654e-01],\n",
      "        [-1.2023e-02, -7.6085e-02,  2.3544e-01,  2.7223e-01, -4.3046e-02,\n",
      "         -1.7177e-01, -2.8249e-01, -1.3788e-02, -2.8891e-01,  2.2823e-01],\n",
      "        [-1.9869e-01,  2.0729e-01, -2.4091e-02,  1.3408e-01,  2.4721e-02,\n",
      "          2.6292e-01, -1.0962e-01, -2.1478e-01, -3.0720e-01, -2.4123e-01],\n",
      "        [ 2.9148e-01, -2.4778e-01, -2.2472e-01,  5.1832e-02,  2.2817e-01,\n",
      "         -2.1806e-01,  8.2331e-02,  2.6903e-01,  1.7852e-01, -1.1781e-01],\n",
      "        [-1.7725e-02, -8.0104e-02,  3.0545e-02, -1.0255e-01, -2.9633e-02,\n",
      "         -4.7894e-01, -2.9249e-01, -2.6313e-01, -2.5199e-01,  3.2913e-01]])), ('hd_layer.bias', tensor([ 2.6829e-01,  2.2213e-01, -2.2551e-01,  3.1069e-01, -2.1699e-02,\n",
      "         2.9291e-01,  1.1335e-02,  2.1980e-01, -4.4678e-02,  1.5944e-01,\n",
      "         2.2158e-01, -2.8152e-01, -9.4343e-03,  7.3379e-05, -9.2114e-02,\n",
      "         2.3599e-01, -2.2405e-01,  1.1176e-01, -5.1361e-02, -2.8104e-01,\n",
      "        -2.9576e-01, -1.8461e-01,  2.6443e-01,  2.9538e-01,  1.1773e-02,\n",
      "         1.3275e-02,  1.1326e-01, -1.7397e-01,  1.0120e-01,  2.8839e-01])), ('out_layer.weight', tensor([[ 0.0264, -0.1258,  0.0914,  0.0400,  0.1615, -0.1620, -0.1144,  0.0916,\n",
      "         -0.0591,  0.2482,  0.1265,  0.0542,  0.1733, -0.1419, -0.2332, -0.0204,\n",
      "         -0.0440,  0.1274, -0.1118, -0.1331,  0.0974,  0.0741, -0.0954, -0.1825,\n",
      "          0.1246, -0.0754,  0.1187, -0.0186, -0.1255,  0.1898]])), ('out_layer.bias', tensor([0.1507]))])\n"
     ]
    }
   ],
   "source": [
    "# 읽기\n",
    "wbTS=torch.load(SAVE_PATH+SAVE_FILE,weights_only=False)\n",
    "print(wbTS)"
   ]
  },
  {
   "cell_type": "code",
   "execution_count": 230,
   "metadata": {},
   "outputs": [
    {
     "data": {
      "text/plain": [
       "<All keys matched successfully>"
      ]
     },
     "execution_count": 230,
     "metadata": {},
     "output_type": "execute_result"
    }
   ],
   "source": [
    "# 모델 인스턴스에 저장\n",
    "model2=IrisRegModel()   # 처음부터 다시 돌려야해!\n",
    "model2.load_state_dict(wbTS)\n",
    "## 기존에 하던곳 부터 다시 시작"
   ]
  },
  {
   "cell_type": "code",
   "execution_count": null,
   "metadata": {},
   "outputs": [],
   "source": []
  }
 ],
 "metadata": {
  "kernelspec": {
   "display_name": "TORCH_38",
   "language": "python",
   "name": "python3"
  },
  "language_info": {
   "codemirror_mode": {
    "name": "ipython",
    "version": 3
   },
   "file_extension": ".py",
   "mimetype": "text/x-python",
   "name": "python",
   "nbconvert_exporter": "python",
   "pygments_lexer": "ipython3",
   "version": "3.8.19"
  }
 },
 "nbformat": 4,
 "nbformat_minor": 2
}

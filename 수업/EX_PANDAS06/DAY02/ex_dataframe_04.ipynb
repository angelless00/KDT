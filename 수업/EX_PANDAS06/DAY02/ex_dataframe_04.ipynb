{
 "cells": [
  {
   "cell_type": "markdown",
   "metadata": {},
   "source": [
    "### DataFrame 행/열 인덱스 변경\n",
    "- 방법1 : 속성명으로 변경 => 전체 변경\n",
    "- 방법2 : 메서드로 변경 => 일부 변경"
   ]
  },
  {
   "cell_type": "code",
   "execution_count": null,
   "metadata": {},
   "outputs": [],
   "source": [
    "# 모듈로딩\n",
    "import pandas as pd"
   ]
  },
  {
   "cell_type": "code",
   "execution_count": null,
   "metadata": {},
   "outputs": [],
   "source": [
    "# 데이터 준비\n",
    "data={'name':['홍길동','마징가','원더우먼'],\n",
    "      'job':['의적','로봇','영웅'],\n",
    "      'gender':['남','남','여'],\n",
    "      'age':[100,200,300],\n",
    "      'height':[180,300,200]}\n",
    "\n"
   ]
  },
  {
   "cell_type": "code",
   "execution_count": null,
   "metadata": {},
   "outputs": [],
   "source": [
    "# DF으로 데이터 저장\n",
    "dataDF=pd.DataFrame(data)\n",
    "print(dataDF)"
   ]
  },
  {
   "cell_type": "code",
   "execution_count": null,
   "metadata": {},
   "outputs": [],
   "source": [
    "# [실습] 열 인덱스를 한글로 이름,직업,성별,나이,키로 변경\n",
    "dataDF.columns=['이름','직업','성별','나이','키']\n",
    "print(dataDF)"
   ]
  },
  {
   "cell_type": "code",
   "execution_count": null,
   "metadata": {},
   "outputs": [],
   "source": [
    "## [실습] 일부변경 : 키 ===>신장 변경\n",
    "dataDF.rename(columns={'키':'신장'})   ## 원본 변경 xxxx"
   ]
  },
  {
   "cell_type": "code",
   "execution_count": null,
   "metadata": {},
   "outputs": [],
   "source": [
    "## => inplace 매개변수/파라미터 True 설정 : 원본 DF를 변경  => 결과값 NONE\n",
    "dataDF.rename(columns={'키':'신장'},inplace=True) "
   ]
  },
  {
   "cell_type": "code",
   "execution_count": null,
   "metadata": {},
   "outputs": [],
   "source": [
    "## [실습] 행 인덱스 0,1,2 ===> P0, P1, P2로 변경\n",
    "dataDF.index=['P0','P1','P2']"
   ]
  },
  {
   "cell_type": "code",
   "execution_count": null,
   "metadata": {},
   "outputs": [],
   "source": [
    "## [실습] 행 인덱스 P0, P1,P2 ===> P0, P1, END 로 변경\n",
    "dataDF.rename(index={'P2':'END'})"
   ]
  },
  {
   "cell_type": "code",
   "execution_count": null,
   "metadata": {},
   "outputs": [],
   "source": []
  }
 ],
 "metadata": {
  "kernelspec": {
   "display_name": "PY_39",
   "language": "python",
   "name": "python3"
  },
  "language_info": {
   "codemirror_mode": {
    "name": "ipython",
    "version": 3
   },
   "file_extension": ".py",
   "mimetype": "text/x-python",
   "name": "python",
   "nbconvert_exporter": "python",
   "pygments_lexer": "ipython3",
   "version": "3.9.19"
  }
 },
 "nbformat": 4,
 "nbformat_minor": 2
}

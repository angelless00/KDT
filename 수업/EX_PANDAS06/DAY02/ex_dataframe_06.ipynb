{
 "cells": [
  {
   "cell_type": "markdown",
   "metadata": {},
   "source": [
    "### DataFrame에서 행/열 추가\n",
    "- 행 방향 추가\n",
    "- 열 방향 추가"
   ]
  },
  {
   "cell_type": "code",
   "execution_count": null,
   "metadata": {},
   "outputs": [],
   "source": [
    "# 모듈생성\n",
    "import pandas as pd"
   ]
  },
  {
   "cell_type": "code",
   "execution_count": null,
   "metadata": {},
   "outputs": [],
   "source": [
    "data={'name':['홍길동','마징가','원더우먼'],\n",
    "      'job':['의적','로봇','영웅'],\n",
    "      'gender':['남','남','여'],\n",
    "      'age':[100,200,300],\n",
    "      'height':[180,300,200]}"
   ]
  },
  {
   "cell_type": "code",
   "execution_count": null,
   "metadata": {},
   "outputs": [],
   "source": [
    "# DF로 데이터 저장\n",
    "dataDF=pd.DataFrame(data)\n",
    "dataDF"
   ]
  },
  {
   "cell_type": "markdown",
   "metadata": {},
   "source": [
    "- [실습] 행 추가 : 변수명.loc['추가할 행 이름']=데이터  \n",
    "    - 변수명.iloc[]는 불가능!\n",
    "    - 데이터 수 == 컬럼수 경우 행 추가 가능\n",
    "    - 데이터 수 == 1 경우 행 추가 가능\n",
    "    - 그외 행 추가 xxx"
   ]
  },
  {
   "cell_type": "code",
   "execution_count": null,
   "metadata": {},
   "outputs": [],
   "source": [
    "## 1개 행 추가 ==> 데이터 수가 열 갯수와 동일한 경우\n",
    "dataDF.loc[3]=['배트맨','박쥐','남',40,190] #iloc는 안됨!\n",
    "dataDF"
   ]
  },
  {
   "cell_type": "code",
   "execution_count": null,
   "metadata": {},
   "outputs": [],
   "source": [
    "## 1개 행 추가 ==? 데이터 수를 1개로 => 모든 컬럼에 동일한 값 저장\n",
    "dataDF.loc[5]=100\n",
    "dataDF"
   ]
  },
  {
   "cell_type": "code",
   "execution_count": null,
   "metadata": {},
   "outputs": [],
   "source": [
    "# ## 1개 행 추가 ==? 데이터 수를 2개로 => ERROR\n",
    "# dataDF.loc[6]=['스파이더맨','거미']\n",
    "# dataDF"
   ]
  },
  {
   "cell_type": "markdown",
   "metadata": {},
   "source": [
    "- [실습] 열 추가 : 변수명['추가할 열 이름']=데이터  \n",
    "    - 데이터 수 == 행 수 경우 열 추가 가능\n",
    "    - 데이터 수 == 1 경우 열 추가 가능\n",
    "    - 그외 열 추가 xxx"
   ]
  },
  {
   "cell_type": "code",
   "execution_count": null,
   "metadata": {},
   "outputs": [],
   "source": [
    "dataDF"
   ]
  },
  {
   "cell_type": "code",
   "execution_count": null,
   "metadata": {},
   "outputs": [],
   "source": [
    "## 컬럼/열 추가 => weight 추가 : 행 갯수 == 데이터 갯수\n",
    "dataDF['weight']=[90,100,50,120,44]\n",
    "dataDF"
   ]
  },
  {
   "cell_type": "code",
   "execution_count": null,
   "metadata": {},
   "outputs": [],
   "source": [
    "## 컬럼/열 추가 => weight 추가 : 1개 == 데이터 갯수\n",
    "dataDF['weight2']=77\n",
    "dataDF"
   ]
  },
  {
   "cell_type": "code",
   "execution_count": null,
   "metadata": {},
   "outputs": [],
   "source": [
    "# ## 1개 열 추가 ==> 데이터 수를 2개로 => ERROR\n",
    "# dataDF.[weight3]=['33','66']\n",
    "# dataDF"
   ]
  }
 ],
 "metadata": {
  "kernelspec": {
   "display_name": "PY_39",
   "language": "python",
   "name": "python3"
  },
  "language_info": {
   "codemirror_mode": {
    "name": "ipython",
    "version": 3
   },
   "file_extension": ".py",
   "mimetype": "text/x-python",
   "name": "python",
   "nbconvert_exporter": "python",
   "pygments_lexer": "ipython3",
   "version": "3.9.19"
  }
 },
 "nbformat": 4,
 "nbformat_minor": 2
}

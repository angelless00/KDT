{
 "cells": [
  {
   "cell_type": "markdown",
   "metadata": {},
   "source": [
    "### CSV 데이터 파일 다루기\n",
    "- auto_mpg 데이터 파일 살펴보기"
   ]
  },
  {
   "cell_type": "code",
   "execution_count": null,
   "metadata": {},
   "outputs": [],
   "source": [
    "# [1] 모듈로딩\n",
    "import pandas as pd"
   ]
  },
  {
   "cell_type": "code",
   "execution_count": null,
   "metadata": {},
   "outputs": [],
   "source": [
    "# [2] 데이터 준비\n",
    "file_name='auto_mpg.csv'"
   ]
  },
  {
   "cell_type": "code",
   "execution_count": null,
   "metadata": {},
   "outputs": [],
   "source": [
    "# [3] CSV 데이터 ==> DataFrame 형태로 저장\n",
    "mpgDF=pd.read_csv(file_name)\n",
    "mpgDF"
   ]
  },
  {
   "cell_type": "code",
   "execution_count": null,
   "metadata": {},
   "outputs": [],
   "source": [
    "# [4] 데이터 확인\n",
    "print(f'데이터 행 개수 :{mpgDF.shape[0]}, 열 개수 {mpgDF.shape[1]}')\n",
    "print(f'데이터 컬럼 : {mpgDF.columns}')\n",
    "print(f'데이터 인덱스 : {mpgDF.index}')\n",
    "print(f'데이터 타입 : \\n{mpgDF.dtypes}')"
   ]
  },
  {
   "cell_type": "code",
   "execution_count": null,
   "metadata": {},
   "outputs": [],
   "source": [
    "# [5] 데이터 추출\n",
    "# [5-1] 70년대 자동차 데이터만 추출\n",
    "\n",
    "mpgDF[(mpgDF['model year']>=70)&(mpgDF['model year']<80)]"
   ]
  },
  {
   "cell_type": "code",
   "execution_count": null,
   "metadata": {},
   "outputs": [],
   "source": [
    "# [5-2] 실린더 개수가 4개이하인 자동차 데이터 추출\n",
    "mpgDF[mpgDF['cylinders']<=4]"
   ]
  },
  {
   "cell_type": "code",
   "execution_count": null,
   "metadata": {},
   "outputs": [],
   "source": [
    "# [5-3] 일본차가 아닌 나머지 자동차 데이터 추출\n",
    "mpgDF[~(mpgDF['origin']==3)]\n",
    "#mpgDF[mpgDF['origin']!=3]"
   ]
  },
  {
   "cell_type": "code",
   "execution_count": null,
   "metadata": {},
   "outputs": [],
   "source": [
    "# [5-4] 80년대 유럽 자동차 중에서 실린더 개수가 6개 이상인 데이터만 추출\n",
    "mpgDF[(mpgDF['model year']//10==8)& (mpgDF['origin']==2)&(mpgDF['cylinders']>=6)]"
   ]
  },
  {
   "cell_type": "markdown",
   "metadata": {},
   "source": [
    "- [데이터의 기본정보 확인]\n",
    "    - 데이터의 형태 => shape\n",
    "    - 기본 정보 => 인덱스, 컬럼, 컬럼별 데이터 개수 및 타입\n",
    "    - 실제 데이터 일부 => head(), tail()\n",
    "    - 컬럼별로 데이터 분포 => 기술통계수치 describe()"
   ]
  },
  {
   "cell_type": "code",
   "execution_count": null,
   "metadata": {},
   "outputs": [],
   "source": [
    "# [1] 기본정보 info()\n",
    "mpgDF.info()"
   ]
  },
  {
   "cell_type": "code",
   "execution_count": null,
   "metadata": {},
   "outputs": [],
   "source": [
    "# [2] 일부 실제 데이터 확인 ==> 컬럼별 데이터 값과 info()에서 확인 한 타입 체크\n",
    "mpgDF.head()    # 위에꺼 다섯개 확인\n",
    "mpgDF.tail()    # 밑에꺼 다섯개 확인\n",
    "# - horsepower의 타입 object => int 변경"
   ]
  },
  {
   "cell_type": "code",
   "execution_count": null,
   "metadata": {},
   "outputs": [],
   "source": [
    "# [3] 컬럼별 데이터 분포 확인\n",
    "mpgDF.describe(include='all')   # include 안하면 숫자데이터만 나옴!"
   ]
  },
  {
   "cell_type": "code",
   "execution_count": null,
   "metadata": {},
   "outputs": [],
   "source": [
    "## DataFrame에서 각 컬럼별 숫자확인\n",
    "mpgDF[].count()"
   ]
  },
  {
   "cell_type": "code",
   "execution_count": null,
   "metadata": {},
   "outputs": [],
   "source": [
    "## DataFrame에서 특정 컬럼 숫자확인\n",
    "mpgDF['origin'].count()"
   ]
  },
  {
   "cell_type": "code",
   "execution_count": null,
   "metadata": {},
   "outputs": [],
   "source": [
    "## 자동차 제조국가별 자동차 수 확인\n",
    "mpgDF['origin'].value_counts()"
   ]
  },
  {
   "cell_type": "code",
   "execution_count": null,
   "metadata": {},
   "outputs": [],
   "source": [
    "mpgDF['cylinders'].value_counts()"
   ]
  },
  {
   "cell_type": "code",
   "execution_count": null,
   "metadata": {},
   "outputs": [],
   "source": [
    "## 자동차 제조년 별 수확인\n",
    "mpgDF['model year'].value_counts()"
   ]
  },
  {
   "cell_type": "code",
   "execution_count": null,
   "metadata": {},
   "outputs": [],
   "source": [
    "## 자동차 연비별 수 확인\n",
    "mpgDF['mpg'].value_counts()"
   ]
  },
  {
   "cell_type": "code",
   "execution_count": null,
   "metadata": {},
   "outputs": [],
   "source": []
  }
 ],
 "metadata": {
  "kernelspec": {
   "display_name": "PY_39",
   "language": "python",
   "name": "python3"
  },
  "language_info": {
   "codemirror_mode": {
    "name": "ipython",
    "version": 3
   },
   "file_extension": ".py",
   "mimetype": "text/x-python",
   "name": "python",
   "nbconvert_exporter": "python",
   "pygments_lexer": "ipython3",
   "version": "3.9.19"
  }
 },
 "nbformat": 4,
 "nbformat_minor": 2
}

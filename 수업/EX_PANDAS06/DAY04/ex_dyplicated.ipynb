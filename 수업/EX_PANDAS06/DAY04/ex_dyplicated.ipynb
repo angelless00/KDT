{
 "cells": [
  {
   "cell_type": "markdown",
   "metadata": {},
   "source": [
    "### [중복데이터 처리]\n",
    "- 중복 데이터 검사 후 처리 ==> 삭제\n",
    "- [주의] 중복데이터를 모두 삭제하는 것은 아님!!\n",
    "    - 데이터의 특성을 확인후에 결정해야함"
   ]
  },
  {
   "cell_type": "code",
   "execution_count": null,
   "metadata": {},
   "outputs": [],
   "source": [
    "# [1] 모듈로딩\n",
    "import pandas as pd"
   ]
  },
  {
   "cell_type": "code",
   "execution_count": null,
   "metadata": {},
   "outputs": [],
   "source": [
    "# [2] 데이터 준비\n",
    "file_name='data.csv'"
   ]
  },
  {
   "cell_type": "code",
   "execution_count": null,
   "metadata": {},
   "outputs": [],
   "source": [
    "# [3] CSV => DataFrame 형태로 저장\n",
    "dataDF=pd.read_csv(file_name)"
   ]
  },
  {
   "cell_type": "code",
   "execution_count": null,
   "metadata": {},
   "outputs": [],
   "source": [
    "# [4] 데이터 확인\n",
    "dataDF.info()"
   ]
  },
  {
   "cell_type": "code",
   "execution_count": null,
   "metadata": {},
   "outputs": [],
   "source": [
    "# -컬럼별 타입과 실제 데이터 확인\n",
    "dataDF.head(2), dataDF.tail(2)"
   ]
  },
  {
   "cell_type": "code",
   "execution_count": null,
   "metadata": {},
   "outputs": [],
   "source": [
    "# [5] 전처리\n",
    "# [5-1] 결측치\n",
    "dataDF.fillna({'name':dataDF['name'].mode(),'age':dataDF['age'].mean()},inplace=True)"
   ]
  },
  {
   "cell_type": "code",
   "execution_count": null,
   "metadata": {},
   "outputs": [],
   "source": [
    "# [5-2] 중복데이터 검사 및 처리\n",
    "# - keep 매개변수 : 어느 것을 중복데이터로 취급하지 않을지 설정\n",
    "# 기본값 'first' = 처음 값이 찐 나중값이 가짜 => keep='last' 나중값이 진짜 처음값이 가짜\n",
    "#          =>keep=False 중복되는값만 살리고 나머지는 다지움움\n",
    "dataDF.duplicated() \n"
   ]
  },
  {
   "cell_type": "code",
   "execution_count": null,
   "metadata": {},
   "outputs": [],
   "source": [
    "# 중복값이 몇개인데요?\n",
    "dataDF.duplicated().sum()"
   ]
  },
  {
   "cell_type": "code",
   "execution_count": null,
   "metadata": {},
   "outputs": [],
   "source": [
    "# - 중복 데이터 처리\n",
    "dataDF.drop_duplicates()"
   ]
  },
  {
   "cell_type": "code",
   "execution_count": null,
   "metadata": {},
   "outputs": [],
   "source": [
    "# - 나이 컬럼만 중복여부 체크\n",
    "dataDF.duplicated(subset='age')"
   ]
  },
  {
   "cell_type": "code",
   "execution_count": null,
   "metadata": {},
   "outputs": [],
   "source": [
    "dataDF.drop_duplicates(subset='age')"
   ]
  },
  {
   "cell_type": "code",
   "execution_count": null,
   "metadata": {},
   "outputs": [],
   "source": []
  }
 ],
 "metadata": {
  "kernelspec": {
   "display_name": "PY_39",
   "language": "python",
   "name": "python3"
  },
  "language_info": {
   "codemirror_mode": {
    "name": "ipython",
    "version": 3
   },
   "file_extension": ".py",
   "mimetype": "text/x-python",
   "name": "python",
   "nbconvert_exporter": "python",
   "pygments_lexer": "ipython3",
   "version": "3.9.19"
  }
 },
 "nbformat": 4,
 "nbformat_minor": 2
}

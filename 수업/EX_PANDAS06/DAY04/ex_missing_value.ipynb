{
 "cells": [
  {
   "cell_type": "markdown",
   "metadata": {},
   "source": [
    "### [ 결측치 처리 ]\n",
    "- 빈 칸 즉, 데이터가 없는 부분을 의미\n",
    "- 결측치 체크 후 처리 방법 결정\n",
    "- 처리 방법\n",
    "    - 제거  \n",
    "    - 치환 "
   ]
  },
  {
   "cell_type": "code",
   "execution_count": null,
   "metadata": {},
   "outputs": [],
   "source": [
    "# [1] 모듈준비\n",
    "import pandas as pd"
   ]
  },
  {
   "cell_type": "code",
   "execution_count": null,
   "metadata": {},
   "outputs": [],
   "source": [
    "# [2] 데이터 준비\n",
    "file_name='data.csv'"
   ]
  },
  {
   "cell_type": "code",
   "execution_count": null,
   "metadata": {},
   "outputs": [],
   "source": [
    "# [3] CSV 데이터 ==> DataFrame 형태로 저장\n",
    "dataDF=pd.read_csv(file_name)"
   ]
  },
  {
   "cell_type": "code",
   "execution_count": null,
   "metadata": {},
   "outputs": [],
   "source": [
    "# [4] 데이터 확인\n",
    "dataDF.info()"
   ]
  },
  {
   "cell_type": "code",
   "execution_count": null,
   "metadata": {},
   "outputs": [],
   "source": [
    "# - 실제 데이터와 컬럼별 타입 체크\n",
    "dataDF.head()"
   ]
  },
  {
   "cell_type": "code",
   "execution_count": null,
   "metadata": {},
   "outputs": [],
   "source": [
    "# [5] 데이터 전처리 \n",
    "# [5-1] 결측치 체크 => isnull(), isna() 메서드\n",
    "dataDF.isna()"
   ]
  },
  {
   "cell_type": "code",
   "execution_count": null,
   "metadata": {},
   "outputs": [],
   "source": [
    "dataDF.isna().sum()"
   ]
  },
  {
   "cell_type": "code",
   "execution_count": null,
   "metadata": {},
   "outputs": [],
   "source": [
    "# [5-2] 결측치 처리 -> 방법 1) 삭제 dropna() 메서드\n",
    "# - 기본값 : 행방향, 행 안에 1개의 컬럼이라도 Na면 삭제\n",
    "dataDF.dropna()"
   ]
  },
  {
   "cell_type": "code",
   "execution_count": null,
   "metadata": {},
   "outputs": [],
   "source": [
    "# - 설정값 : 열방향, 열 안에 1개의 컬럼이라도 Na면 삭제\n",
    "dataDF.dropna(axis=1)"
   ]
  },
  {
   "cell_type": "code",
   "execution_count": null,
   "metadata": {},
   "outputs": [],
   "source": [
    "# - 설정값 : 모든 원소가 NAN일떄 삭제 how='all\n",
    "dataDF.dropna(axis=0,how='all')     # axis 생략 가능"
   ]
  },
  {
   "cell_type": "code",
   "execution_count": null,
   "metadata": {},
   "outputs": [],
   "source": [
    "# - 설정값 : 정상데이터가 지정된 개수 이하이면 삭제 : thresh=w정수\n",
    "dataDF.dropna(axis=0,thresh=4)    # axis 생략 가능"
   ]
  },
  {
   "cell_type": "code",
   "execution_count": null,
   "metadata": {},
   "outputs": [],
   "source": [
    "# - 설정값 : 특정 컬럼만 NaN여부 검사 진행후 결정 : subet\n",
    "# - 나이를 분석하고 싶음 => 중요한 컬럼 age\n",
    "dataDF.dropna(axis=0,subset=['age'])     # axis 생략 가능"
   ]
  },
  {
   "cell_type": "code",
   "execution_count": null,
   "metadata": {},
   "outputs": [],
   "source": [
    "# - 나이와 이름을 분석하고 싶음 => 중요한 컬럼 name,age\n",
    "dataDF.dropna(axis=0,subset=['name','age'])     # axis 생략 가능"
   ]
  },
  {
   "cell_type": "code",
   "execution_count": null,
   "metadata": {},
   "outputs": [],
   "source": [
    "# [5-2] 결측치 처리 -> 방법 2) 대체/치환 fillna() 메서드\n",
    "# - 대체값 : 원하는 값 또는 평균값/최빈값 등을 사용\n",
    "#            이전의 값 또는 이후의 값으로 대체\n",
    "dataDF.fillna(0)"
   ]
  },
  {
   "cell_type": "code",
   "execution_count": null,
   "metadata": {},
   "outputs": [],
   "source": [
    "dataDF.fillna({'name':'unknown','age':0}) # 컬럼별로 넣을떄는 딕셔너리형태로!"
   ]
  },
  {
   "cell_type": "code",
   "execution_count": null,
   "metadata": {},
   "outputs": [],
   "source": [
    "# - 이전 컬럼의 값을 채우기\n",
    "dataDF.ffill()"
   ]
  },
  {
   "cell_type": "code",
   "execution_count": null,
   "metadata": {},
   "outputs": [],
   "source": [
    "dataDF.bfill()"
   ]
  },
  {
   "cell_type": "code",
   "execution_count": null,
   "metadata": {},
   "outputs": [],
   "source": [
    "# - 나이의 결측치는 나이의 평균으로 채우기\n",
    "# - 이름의 결측치는 이르의 최빈값으로 채우기\n",
    "dataDF.fillna({'age':dataDF['age'].mean(),'name':dataDF['name'].mode()})"
   ]
  },
  {
   "cell_type": "code",
   "execution_count": null,
   "metadata": {},
   "outputs": [],
   "source": []
  }
 ],
 "metadata": {
  "kernelspec": {
   "display_name": "PY_39",
   "language": "python",
   "name": "python3"
  },
  "language_info": {
   "codemirror_mode": {
    "name": "ipython",
    "version": 3
   },
   "file_extension": ".py",
   "mimetype": "text/x-python",
   "name": "python",
   "nbconvert_exporter": "python",
   "pygments_lexer": "ipython3",
   "version": "3.9.19"
  }
 },
 "nbformat": 4,
 "nbformat_minor": 2
}

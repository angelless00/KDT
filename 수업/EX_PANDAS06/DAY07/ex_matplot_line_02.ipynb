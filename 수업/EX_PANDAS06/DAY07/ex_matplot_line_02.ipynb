{
 "cells": [
  {
   "cell_type": "markdown",
   "metadata": {},
   "source": [
    "### [ 남북한발전전력량 분석 및 시각화]\n",
    "- 데이터셋 : 남북한발전전력량.xlsx\n",
    "- 데이터 구성 :\n",
    "    - 1990년~2016년 수력, 화력, 원자력, 신재생 에너지 데이터\n",
    "- 분석주제 : 남한과 북한의 에너지 데이터 변화 분석"
   ]
  },
  {
   "cell_type": "code",
   "execution_count": null,
   "metadata": {},
   "outputs": [],
   "source": [
    "# [1] 모듈 로딩\n",
    "import pandas as pd\n",
    "import matplotlib.pyplot as plt"
   ]
  },
  {
   "cell_type": "code",
   "execution_count": null,
   "metadata": {},
   "outputs": [],
   "source": [
    "# [2] 데이터 준비\n",
    "file_name=r'C:\\KDT\\과제\\pandas\\0712-14 과제\\남북한발전전력량.xlsx'"
   ]
  },
  {
   "cell_type": "code",
   "execution_count": null,
   "metadata": {},
   "outputs": [],
   "source": [
    "# [3] EXCEL => DataFrame 형태로 저장\n",
    "dataDF=pd.read_excel(file_name)"
   ]
  },
  {
   "cell_type": "code",
   "execution_count": null,
   "metadata": {},
   "outputs": [],
   "source": [
    "dataDF.info()"
   ]
  },
  {
   "cell_type": "code",
   "execution_count": null,
   "metadata": {},
   "outputs": [],
   "source": [
    "# [5] 데이터 전처리 및 가공\n",
    "# - 멀티인덱싱 : 컬럼 ==> 행인덱스 설정\n",
    "# - (1) NaN컬럼에 대한 처리\n",
    "# - (2) 두개의 컬럼을 행인덱스로 설정 "
   ]
  },
  {
   "cell_type": "code",
   "execution_count": null,
   "metadata": {},
   "outputs": [],
   "source": [
    "# - (1) NaN컬럼에 대한 처리\n",
    "dataDF.columns"
   ]
  },
  {
   "cell_type": "code",
   "execution_count": null,
   "metadata": {},
   "outputs": [],
   "source": [
    "#dataDF['전력량 (억㎾h)']   << 혹시나 변경될때를 대비해 이름쓰는것 추천xxx\n",
    "dataDF[dataDF.columns[0]].ffill(inplace=True)"
   ]
  },
  {
   "cell_type": "code",
   "execution_count": null,
   "metadata": {},
   "outputs": [],
   "source": [
    "dataDF"
   ]
  },
  {
   "cell_type": "code",
   "execution_count": null,
   "metadata": {},
   "outputs": [],
   "source": [
    "# - (2) 두개의 컬럼을 행인덱스로 설정 \n",
    "dataDF.set_index([dataDF.columns[0],dataDF.columns[1]],inplace=True)\n",
    "#dataDF.set_index(dataDF.columns[:2].to_list(),inplace=True)"
   ]
  },
  {
   "cell_type": "code",
   "execution_count": null,
   "metadata": {},
   "outputs": [],
   "source": [
    "# - 행 인덱스 names 속성 수정\n",
    "idx_names=dataDF.index.names\n",
    "dataDF.index.set_names({idx_names[0]:'구분',idx_names[1]:'전력'},inplace=True)   # 인덱스 정보수정 \n",
    "dataDF"
   ]
  },
  {
   "cell_type": "code",
   "execution_count": null,
   "metadata": {},
   "outputs": [],
   "source": [
    "# 결측치 처리\n",
    "# - '-' 를 Na로 치환후 0로 변환\n",
    "dataDF.replace('-',pd.NA,inplace=True)\n",
    "dataDF"
   ]
  },
  {
   "cell_type": "code",
   "execution_count": null,
   "metadata": {},
   "outputs": [],
   "source": [
    "dataDF.isna().T.sum()"
   ]
  },
  {
   "cell_type": "code",
   "execution_count": null,
   "metadata": {},
   "outputs": [],
   "source": [
    "# - NA 데이터값을 0으로 치환\n",
    "dataDF.fillna(0,inplace=True)\n",
    "dataDF"
   ]
  },
  {
   "cell_type": "code",
   "execution_count": null,
   "metadata": {},
   "outputs": [],
   "source": [
    "# 한글 폰트 설정 => 폰트 매니저 모듈 사용\n",
    "from matplotlib import font_manager as fm\n",
    "from matplotlib import rc\n",
    "\n",
    "# 적용할 폰트 파일\n",
    "Font_file=r'C:\\Windows\\Fonts\\gulim.ttc'\n",
    "\n",
    "# 폰트 패밀리 이름 가져오기\n",
    "font_name=fm.FontProperties(fname=Font_file).get_name()\n",
    "\n",
    "# 새로운 폰트 패밀리 이름지정\n",
    "rc('font',family=font_name)"
   ]
  },
  {
   "cell_type": "code",
   "execution_count": null,
   "metadata": {},
   "outputs": [],
   "source": [
    "plt.plot(dataDF.loc[('남한','합계')],'bo-',label='S')\n",
    "plt.plot(dataDF.loc[('북한','합계')],'ro-',label='N')\n",
    "plt.title('[남북한 전력 발전량]')\n",
    "plt.legend()\n",
    "plt.xlabel('year')\n",
    "plt.ylabel('Value')\n",
    "plt.show()\n"
   ]
  },
  {
   "cell_type": "code",
   "execution_count": null,
   "metadata": {},
   "outputs": [],
   "source": [
    "def drawGraph(title,columns,xlabel,ylabel):\n",
    "    for col in columns:\n",
    "        plt.plot(dataDF.loc[col],'o-',label=f'{col}')\n",
    "        \n",
    "    plt.title(f'-----[{title}]-----')\n",
    "    plt.legend()\n",
    "    plt.xlabel(xlabel)\n",
    "    plt.ylabel(ylabel)\n",
    "    plt.show()\n"
   ]
  },
  {
   "cell_type": "code",
   "execution_count": null,
   "metadata": {},
   "outputs": [],
   "source": [
    "drawGraph('수력발전',[('남한','수력')],'연도','전력')"
   ]
  },
  {
   "cell_type": "code",
   "execution_count": null,
   "metadata": {},
   "outputs": [],
   "source": [
    "drawGraph('수력발전',[('남한','수력'),('북한','수력')],'연도','전력')"
   ]
  },
  {
   "cell_type": "markdown",
   "metadata": {},
   "source": [
    "### 하나의 피규어에 여러개 그래프 넣기\n",
    "- figure 객체 생성\n",
    "- 생성된 figure 객체 안에 subplot 객체 생성\n",
    "    * 그래프를 표시 방식 지정 : 가로/세로 몇개 그래프 넣을 지 지정\n",
    "- subplot에 그래프를 넣기"
   ]
  },
  {
   "cell_type": "code",
   "execution_count": null,
   "metadata": {},
   "outputs": [],
   "source": [
    "# -> 하나의 Figure에서 수력/화력/원자력/합계 그래프 넣기\n",
    "fig=plt.figure()\n",
    "\n",
    "# - add_subplot(행수,열수,번호)\n",
    "ax1=fig.add_subplot(2,2,1)\n",
    "ax2=fig.add_subplot(2,2,2)\n",
    "ax3=fig.add_subplot(2,2,3)\n",
    "ax4=fig.add_subplot(2,2,4)\n",
    "\n",
    "# - 각 subplot에 그래프 넣기\n",
    "ax1.plot(dataDF.loc[('남한','수력')],'bo-',label='남한-수력')\n",
    "ax2.plot(dataDF.loc[('남한','화력')],'bo-',label='남한-화력')\n",
    "ax3.plot(dataDF.loc[('남한','원자력')],'bo-',label='남한-원자력')\n",
    "ax4.plot(dataDF.loc[('남한','합계')],'bo-',label='남한-합계')\n",
    "\n",
    "# - 각 subplot별로 설정\n",
    "ax1.set_title('남한 - 수력발전')\n",
    "ax1.set_xlabel('년도')\n",
    "ax1.set_xticks([0,5,10,15,20,25])\n",
    "\n",
    "ax2.set_title('남한 - 화력발전')\n",
    "ax2.set_xlabel('년도')\n",
    "\n",
    "ax3.set_title('남한 - 원자력발전')\n",
    "ax3.set_xlabel('년도')\n",
    "\n",
    "ax4.set_title('남한 - 전력발전합계')\n",
    "ax4.set_xlabel('년도')\n",
    "\n",
    "plt.tight_layout()\n",
    "\n",
    "plt.legend()\n",
    "plt.show()"
   ]
  },
  {
   "cell_type": "code",
   "execution_count": null,
   "metadata": {},
   "outputs": [],
   "source": [
    "# -> 하나의 Figure에서 수력/화력/원자력/합계 그래프 넣기\n",
    "fig=plt.figure()\n",
    "\n",
    "# - subplot 객체 생성 : subplots() => axes 객체를 배열에 담아서 반환\n",
    "#                                  => 행단위로 axes 담아서 반환\n",
    "\n",
    "# axes=fig.subplots(2,2)        # axes[0,1] 로 부를수있음!    \n",
    "# print(axes)\n",
    "\n",
    "axes=fig.subplots(1,4)\n",
    "print(axes)\n",
    "\n",
    "# # - subplot에 그래프 넣기\n",
    "# axes[0].plot(dataDF.loc[('남한','수력')],'bo-',label='남한-수력')\n",
    "\n",
    "# for i in range(4):                # 내코드\n",
    "#     axes[i].plot(dataDF.iloc[i],'o-',label=dataDF.iloc[i].name)\n",
    "\n",
    "datas=dataDF.index.to_list()[:4]\n",
    "fmfs=['bo-','ro-','go-','ko-']\n",
    "for idx,ax in enumerate(axes):\n",
    "    ax.plot(dataDF.loc[datas[idx]],fmfs[idx])\n",
    "    ax.set_title(datas[idx])\n",
    "\n",
    "\n",
    "# - 전체 창 즉, figure 설정\n",
    "fig.suptitle('남한의 에너지 발전량',fontsize=20)\n",
    "\n",
    "plt.legend()\n",
    "plt.tight_layout()\n",
    "plt.show()"
   ]
  },
  {
   "cell_type": "code",
   "execution_count": null,
   "metadata": {},
   "outputs": [],
   "source": []
  },
  {
   "cell_type": "code",
   "execution_count": null,
   "metadata": {},
   "outputs": [],
   "source": []
  }
 ],
 "metadata": {
  "kernelspec": {
   "display_name": "PY_39",
   "language": "python",
   "name": "python3"
  },
  "language_info": {
   "codemirror_mode": {
    "name": "ipython",
    "version": 3
   },
   "file_extension": ".py",
   "mimetype": "text/x-python",
   "name": "python",
   "nbconvert_exporter": "python",
   "pygments_lexer": "ipython3",
   "version": "3.9.19"
  }
 },
 "nbformat": 4,
 "nbformat_minor": 2
}

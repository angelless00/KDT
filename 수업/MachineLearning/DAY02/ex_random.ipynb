{
 "cells": [
  {
   "cell_type": "markdown",
   "metadata": {},
   "source": [
    "### 임의의 숫자 즉, 난수 추출\n",
    "- random 모듈 존재\n",
    "- 0.0~1.0 실수 추출\n",
    "- n~m 정수추출\n",
    "- random값 고정 => seed 기능"
   ]
  },
  {
   "cell_type": "code",
   "execution_count": 220,
   "metadata": {},
   "outputs": [],
   "source": [
    "import random"
   ]
  },
  {
   "cell_type": "code",
   "execution_count": 221,
   "metadata": {},
   "outputs": [
    {
     "name": "stdout",
     "output_type": "stream",
     "text": [
      "1\n",
      "2\n",
      "1\n",
      "2\n",
      "1\n",
      "2\n",
      "2\n",
      "2\n",
      "2\n",
      "2\n"
     ]
    }
   ],
   "source": [
    "# 1과 2사이의 정수 추출\n",
    "for _ in range(10):\n",
    "    print(random.randint(1,2))"
   ]
  },
  {
   "cell_type": "code",
   "execution_count": 222,
   "metadata": {},
   "outputs": [
    {
     "name": "stdout",
     "output_type": "stream",
     "text": [
      "0.45683115105830563\n",
      "0.6858614854745947\n",
      "0.6618463200523511\n",
      "0.1329781447122128\n",
      "0.7678378139439905\n",
      "0.9824132490111909\n",
      "0.9693881604049188\n",
      "0.613326820546709\n",
      "0.0442606328646209\n",
      "0.004055144158407464\n"
     ]
    }
   ],
   "source": [
    "# 실수 임의의 수 추출\n",
    "for _ in range(10):\n",
    "    print(random.random())"
   ]
  },
  {
   "cell_type": "code",
   "execution_count": 223,
   "metadata": {},
   "outputs": [
    {
     "name": "stdout",
     "output_type": "stream",
     "text": [
      "0.5714025946899135\n",
      "0.4288890546751146\n",
      "0.5780913011344704\n",
      "0.20609823213950174\n",
      "0.81332125135732\n",
      "0.8235888725334455\n",
      "0.6534725339011758\n",
      "0.16022955651881965\n",
      "0.5206693596399246\n",
      "0.32777281162209315\n"
     ]
    }
   ],
   "source": [
    "random.seed(10)\n",
    "for _ in range(10):\n",
    "    print(random.random())"
   ]
  },
  {
   "cell_type": "code",
   "execution_count": 224,
   "metadata": {},
   "outputs": [],
   "source": [
    "from sklearn.model_selection import train_test_split"
   ]
  },
  {
   "cell_type": "code",
   "execution_count": 225,
   "metadata": {},
   "outputs": [],
   "source": [
    "X=[[1],[98],[5],[90],[45],[46],[64],[7],[12],[11]]\n",
    "y=[5,4,3,9,8,2,22,65,2,6]"
   ]
  },
  {
   "cell_type": "code",
   "execution_count": 226,
   "metadata": {},
   "outputs": [
    {
     "name": "stdout",
     "output_type": "stream",
     "text": [
      "[[1], [98], [5], [90], [45], [46], [64]]\n",
      "[[7], [12], [11]]\n"
     ]
    }
   ],
   "source": [
    "## 섞지않고 학습용과 테스트용 분리\n",
    "X_train,X_test,y_train,y_test=train_test_split(X,y,shuffle=False)\n",
    "print(X_train)\n",
    "print(X_test)"
   ]
  },
  {
   "cell_type": "code",
   "execution_count": 227,
   "metadata": {},
   "outputs": [
    {
     "name": "stdout",
     "output_type": "stream",
     "text": [
      "[[5], [45], [64], [46], [7], [90], [98]]\n",
      "[[12], [11], [1]]\n"
     ]
    }
   ],
   "source": [
    "# 섞어서 학습용 테스트용 분리\n",
    "X_train,X_test,y_train,y_test=train_test_split(X,y)\n",
    "print(X_train)\n",
    "print(X_test)\n",
    "# 누를떄마다 셋이 바뀜!"
   ]
  },
  {
   "cell_type": "code",
   "execution_count": 228,
   "metadata": {},
   "outputs": [
    {
     "name": "stdout",
     "output_type": "stream",
     "text": [
      "[[45], [1], [90], [98], [7], [12], [46]]\n",
      "[[5], [11], [64]]\n"
     ]
    }
   ],
   "source": [
    "# 고정적인 셔플을 줌!\n",
    "X_train,X_test,y_train,y_test=train_test_split(X,y,random_state=1)\n",
    "print(X_train)\n",
    "print(X_test)\n"
   ]
  }
 ],
 "metadata": {
  "kernelspec": {
   "display_name": "ML_38",
   "language": "python",
   "name": "python3"
  },
  "language_info": {
   "codemirror_mode": {
    "name": "ipython",
    "version": 3
   },
   "file_extension": ".py",
   "mimetype": "text/x-python",
   "name": "python",
   "nbconvert_exporter": "python",
   "pygments_lexer": "ipython3",
   "version": "3.8.19"
  }
 },
 "nbformat": 4,
 "nbformat_minor": 2
}

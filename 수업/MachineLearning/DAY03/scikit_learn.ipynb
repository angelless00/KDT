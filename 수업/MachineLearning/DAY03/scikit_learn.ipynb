{
 "cells": [
  {
   "cell_type": "markdown",
   "metadata": {},
   "source": [
    "### scikit-learn 패키지\n",
    "- 클래스\n",
    "    - 알고리즘 -> 학습모델\n",
    "    - 스케일러/인코딩 -> 전처리기능    "
   ]
  },
  {
   "cell_type": "markdown",
   "metadata": {},
   "source": [
    "- 객체/인스턴스=클래스명()  \n",
    "- model.fit\n",
    "    - fit(2D 문제, 1차원 라벨) => 학습진행 : 알고리즘마다 학습과정 다름     \n",
    "- scaler.fit\n",
    "    - fit(2D 수치 피쳐) => 수치값 범위 설정을 위한 준비  \n",
    "        - 데이터 기반의 수치계산\n",
    "        - transform() : 변환       \n",
    "\n",
    "- => 같은 fit 이지만 인스턴스에 따라 다르게 작동"
   ]
  },
  {
   "cell_type": "markdown",
   "metadata": {},
   "source": []
  }
 ],
 "metadata": {
  "language_info": {
   "name": "python"
  }
 },
 "nbformat": 4,
 "nbformat_minor": 2
}

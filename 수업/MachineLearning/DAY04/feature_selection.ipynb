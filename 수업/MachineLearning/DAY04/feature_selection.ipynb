{
 "cells": [
  {
   "cell_type": "markdown",
   "metadata": {},
   "source": [
    "## Feature Selection\n",
    "- Filtering 방법 => 타켓/종속변수에 관련성이 높은 피쳐/독립변수 선택\n",
    "    - 상관계수\n",
    "    - 몇개? k개 -> 점진적으로 늘려가기\n",
    "- Wrapper 방법\n",
    "    - Forward 방식 : 기준에 따라 k개의 피쳐를 선택 => <ins>성능평가 => 피쳐추가 </ins>(반복)\n",
    "    - Backward 방식 : 모든 피쳐 선택 =><ins> 성능평가 => 피쳐제거 </ins>(반복)\n",
    "    - Step-Wide 방식 : Forward + Backward\n",
    "- Embedding 방법\n",
    "    - 모델 내부에 피쳐 선택 기능 포함된 것 => Important Feature, 주성분분석(PCA)\n"
   ]
  },
  {
   "cell_type": "markdown",
   "metadata": {},
   "source": [
    "### Tuning => 모델 수정\n",
    "- 모델의 성능 높이기\n",
    "    - scikit-learn에서 모델 인스턴스의 score 메서드\n",
    "    - 모델을 평가기준이 되는 성능지표 => 분류/회귀에 따라 다름\n",
    "- 모델 성능에 영향을 미치는 매개변수 => Hyper-parameter\n",
    "    - KNN => K개수\n",
    "    - LinearRegression => 가중치, 기울기 초기화 값. 규제\n",
    "    - 학습 알고리즘마다 Hyper-parameter가 다름!!\n",
    "- 피쳐제어 \n",
    "    - 피쳐 개수 조절\n",
    "    - 피쳐 추출 / 압축"
   ]
  },
  {
   "cell_type": "markdown",
   "metadata": {},
   "source": [
    "### Auto ML"
   ]
  },
  {
   "cell_type": "markdown",
   "metadata": {},
   "source": [
    "### 기계학습 \n",
    "- 데이터기반 ==> 규칙/패턴 ==> 수식 ==> 모델\n",
    "- 미래 예측 - 정보를 정확히 제공\n",
    "- 학습용 DS ==> 학습용 + 테스트용 분리\n",
    "- 테스트용 DS  \n",
    "==> 과대적합인지 과소적합인지 확인해보기위해서 데이터를 학습시키고, 학습데이터로 몇점인지 확인해보기! \n",
    "    - 학습데이터 점수와 테스트데이터 점수가 비슷하면 잘한것\n",
    "    - 학습데이터 점수는 높고 테스트 데이터 점수가 낮으면 과대적합\n"
   ]
  },
  {
   "cell_type": "markdown",
   "metadata": {},
   "source": [
    "## ML Process\n",
    "1. 데이터 준비 -> 데이터 로딩, 데이터 확인 (실제 데이터 확인 및 탐색)\n",
    "2. 데이터 전처리 \n",
    "    - 정제(결측치, 중복값, 이상치, 컬럼 고유값 ...)\n",
    "    - 피쳐에 대한 처리 (인코딩, 스케일링)\n",
    "    - 피처 선택, 가공\n",
    "    - 피처와 타겟(독립변수와 종속변수)\n",
    "3. 학습준비\n",
    "    - 데이터셋(train, validation, test) \n",
    "        -데이터 부족 및 일반화 위해서 train, test 데이터 셋 분리\n",
    "4. 학습진행\n",
    "    - 교차검증으로 학습진행 : train 데이터 셋 사용\n",
    "5. 모델평가\n",
    "    - test 데이터셋으로 평가\n",
    "    - 평가기준 : 분류와 회귀가 다름!\n",
    "\n",
    "- 모델의 성능을 높이는 작업 즉, 튜닝진행\n",
    "    - Hyper parameter 제어 : 모델 인스턴스 생성시 매개변수로 설정\n",
    "    - 새로운 모델로 학습 진행 => 평가\n"
   ]
  },
  {
   "cell_type": "markdown",
   "metadata": {},
   "source": []
  }
 ],
 "metadata": {
  "language_info": {
   "name": "python"
  }
 },
 "nbformat": 4,
 "nbformat_minor": 2
}

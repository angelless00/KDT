{
 "cells": [
  {
   "cell_type": "markdown",
   "metadata": {},
   "source": [
    "전처리방법 \n",
    "A,B,C\n",
    "\n",
    "모델 - 회귀관련모델 5개 라면\n",
    " \n",
    "3*5의 모든경우의수의 성능지표를 확인후 최적의 방법을 찾기!  \n",
    "\n",
    "튜닝  \n",
    "=> 일반화가 잘된 성능 좋은 모델을 찾기 위해"
   ]
  },
  {
   "cell_type": "markdown",
   "metadata": {},
   "source": [
    " "
   ]
  }
 ],
 "metadata": {
  "language_info": {
   "name": "python"
  }
 },
 "nbformat": 4,
 "nbformat_minor": 2
}

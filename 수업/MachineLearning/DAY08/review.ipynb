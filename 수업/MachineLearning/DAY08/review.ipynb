{
 "cells": [
  {
   "cell_type": "markdown",
   "metadata": {},
   "source": [
    "- CART 범주형, 수치형 ==> 모두 처리 회귀/분류  \n",
    "- sklearn => 범주형 x => 인코딩 필요  \n",
    "    - LabelEncoder ==> 0,1  1D\n",
    "    - OrdinalEncoder => 0,1,....    2D\n",
    "    - OneHotEncoder => 1인 하나인 패턴 2D\n",
    "\n",
    "스케일링 => minmax "
   ]
  },
  {
   "cell_type": "markdown",
   "metadata": {},
   "source": [
    "### 배운 모델들\n",
    "- KNN\n",
    "- Linear\n",
    "    - LinearRegression => 다중(featrue 多), 다항(곡선) \n",
    "        - => 과대적합 주의! => 규제 필요 (alpha hyper-parameter 클수록 규제 강함)\n",
    "            - Lasso(영향력이 낮은 피쳐의 coef_를 0으로!)\n",
    "            - Ridge(영향력이 낮은 피쳐의 coef_를 0에 가깝게)\n",
    "    - LogisticRegression : 분류 \n",
    "        - 선형식의 결과를 확률값으로 => 로지스틱 회귀\n",
    "        - OvR/OvA : 2진 분류기를 여러개 => $n$개 분류기\n",
    "        - OvO : 2진 분류기를 여러개 => $ _nC_2 $ 개 분류기\n",
    "\n",
    "- Tree\n",
    "    - DecisionTree(CART) : 회귀, 분류 : 범주형 / 수치형 모두지원 but sklearn에서는 범주형 xxx\n",
    "    - 하이퍼 파라미터 多\n",
    "- Ensemble\n",
    "    - Vorting\n",
    "    - Bagging\n",
    "        -RandomForest : 회귀 분류 둘다 가능"
   ]
  },
  {
   "cell_type": "markdown",
   "metadata": {},
   "source": []
  }
 ],
 "metadata": {
  "language_info": {
   "name": "python"
  }
 },
 "nbformat": 4,
 "nbformat_minor": 2
}

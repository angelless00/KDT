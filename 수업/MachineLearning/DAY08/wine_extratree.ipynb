{
 "cells": [
  {
   "cell_type": "markdown",
   "metadata": {},
   "source": [
    "### Ensemble - ExtraTree\n",
    "- 배깅 방식의 앙상블 => 복원추출 랜덤샘플 + 동일 모델 (DecisionTree)\n",
    "    - 대표 알고리즘 : RandomForest C/R \n",
    "- 페이스트 방식의 앙상블 => 비복원추출 랜덤샘플 + 동일 모델 (DecisionTree)\n",
    "    - 대표 알고리즘 : ExtraTree C/T"
   ]
  },
  {
   "cell_type": "markdown",
   "metadata": {
    "vscode": {
     "languageId": "plaintext"
    }
   },
   "source": [
    "- 와인 분류 => 0과1 , 이진분류"
   ]
  },
  {
   "cell_type": "markdown",
   "metadata": {},
   "source": [
    "[1] 모듈 로딩 및 데이터 준비"
   ]
  },
  {
   "cell_type": "code",
   "execution_count": 80,
   "metadata": {},
   "outputs": [],
   "source": [
    "# 모듈로딩 및 데이터 준비\n",
    "import pandas as pd\n",
    "import numpy as np\n",
    "import matplotlib.pyplot as plt"
   ]
  },
  {
   "cell_type": "code",
   "execution_count": 81,
   "metadata": {},
   "outputs": [],
   "source": [
    "# 데이터\n",
    "DATA_FILE='../data/wine.csv'\n",
    "\n",
    "# CSV >> DataFrame\n",
    "wineDF=pd.read_csv(DATA_FILE)"
   ]
  },
  {
   "cell_type": "code",
   "execution_count": 82,
   "metadata": {},
   "outputs": [
    {
     "name": "stdout",
     "output_type": "stream",
     "text": [
      "<class 'pandas.core.frame.DataFrame'>\n",
      "RangeIndex: 6497 entries, 0 to 6496\n",
      "Data columns (total 4 columns):\n",
      " #   Column   Non-Null Count  Dtype  \n",
      "---  ------   --------------  -----  \n",
      " 0   alcohol  6497 non-null   float64\n",
      " 1   sugar    6497 non-null   float64\n",
      " 2   pH       6497 non-null   float64\n",
      " 3   class    6497 non-null   float64\n",
      "dtypes: float64(4)\n",
      "memory usage: 203.2 KB\n"
     ]
    }
   ],
   "source": [
    "# 데이터 확인\n",
    "wineDF.info()"
   ]
  },
  {
   "cell_type": "code",
   "execution_count": 83,
   "metadata": {},
   "outputs": [
    {
     "data": {
      "text/html": [
       "<div>\n",
       "<style scoped>\n",
       "    .dataframe tbody tr th:only-of-type {\n",
       "        vertical-align: middle;\n",
       "    }\n",
       "\n",
       "    .dataframe tbody tr th {\n",
       "        vertical-align: top;\n",
       "    }\n",
       "\n",
       "    .dataframe thead th {\n",
       "        text-align: right;\n",
       "    }\n",
       "</style>\n",
       "<table border=\"1\" class=\"dataframe\">\n",
       "  <thead>\n",
       "    <tr style=\"text-align: right;\">\n",
       "      <th></th>\n",
       "      <th>alcohol</th>\n",
       "      <th>sugar</th>\n",
       "      <th>pH</th>\n",
       "      <th>class</th>\n",
       "    </tr>\n",
       "  </thead>\n",
       "  <tbody>\n",
       "    <tr>\n",
       "      <th>0</th>\n",
       "      <td>9.4</td>\n",
       "      <td>1.9</td>\n",
       "      <td>3.51</td>\n",
       "      <td>0.0</td>\n",
       "    </tr>\n",
       "    <tr>\n",
       "      <th>1</th>\n",
       "      <td>9.8</td>\n",
       "      <td>2.6</td>\n",
       "      <td>3.20</td>\n",
       "      <td>0.0</td>\n",
       "    </tr>\n",
       "    <tr>\n",
       "      <th>2</th>\n",
       "      <td>9.8</td>\n",
       "      <td>2.3</td>\n",
       "      <td>3.26</td>\n",
       "      <td>0.0</td>\n",
       "    </tr>\n",
       "    <tr>\n",
       "      <th>3</th>\n",
       "      <td>9.8</td>\n",
       "      <td>1.9</td>\n",
       "      <td>3.16</td>\n",
       "      <td>0.0</td>\n",
       "    </tr>\n",
       "    <tr>\n",
       "      <th>4</th>\n",
       "      <td>9.4</td>\n",
       "      <td>1.9</td>\n",
       "      <td>3.51</td>\n",
       "      <td>0.0</td>\n",
       "    </tr>\n",
       "  </tbody>\n",
       "</table>\n",
       "</div>"
      ],
      "text/plain": [
       "   alcohol  sugar    pH  class\n",
       "0      9.4    1.9  3.51    0.0\n",
       "1      9.8    2.6  3.20    0.0\n",
       "2      9.8    2.3  3.26    0.0\n",
       "3      9.8    1.9  3.16    0.0\n",
       "4      9.4    1.9  3.51    0.0"
      ]
     },
     "execution_count": 83,
     "metadata": {},
     "output_type": "execute_result"
    }
   ],
   "source": [
    "wineDF.head()"
   ]
  },
  {
   "cell_type": "code",
   "execution_count": 84,
   "metadata": {},
   "outputs": [
    {
     "data": {
      "text/plain": [
       "class\n",
       "1.0    4898\n",
       "0.0    1599\n",
       "Name: count, dtype: int64"
      ]
     },
     "execution_count": 84,
     "metadata": {},
     "output_type": "execute_result"
    }
   ],
   "source": [
    "# 타겟/라벨의 클래스 분포\n",
    "wineDF['class'].value_counts()"
   ]
  },
  {
   "cell_type": "code",
   "execution_count": 85,
   "metadata": {},
   "outputs": [
    {
     "data": {
      "text/html": [
       "<div>\n",
       "<style scoped>\n",
       "    .dataframe tbody tr th:only-of-type {\n",
       "        vertical-align: middle;\n",
       "    }\n",
       "\n",
       "    .dataframe tbody tr th {\n",
       "        vertical-align: top;\n",
       "    }\n",
       "\n",
       "    .dataframe thead th {\n",
       "        text-align: right;\n",
       "    }\n",
       "</style>\n",
       "<table border=\"1\" class=\"dataframe\">\n",
       "  <thead>\n",
       "    <tr style=\"text-align: right;\">\n",
       "      <th></th>\n",
       "      <th>alcohol</th>\n",
       "      <th>sugar</th>\n",
       "      <th>pH</th>\n",
       "      <th>class</th>\n",
       "    </tr>\n",
       "  </thead>\n",
       "  <tbody>\n",
       "    <tr>\n",
       "      <th>count</th>\n",
       "      <td>6497.000000</td>\n",
       "      <td>6497.000000</td>\n",
       "      <td>6497.000000</td>\n",
       "      <td>6497.000000</td>\n",
       "    </tr>\n",
       "    <tr>\n",
       "      <th>mean</th>\n",
       "      <td>10.491801</td>\n",
       "      <td>5.443235</td>\n",
       "      <td>3.218501</td>\n",
       "      <td>0.753886</td>\n",
       "    </tr>\n",
       "    <tr>\n",
       "      <th>std</th>\n",
       "      <td>1.192712</td>\n",
       "      <td>4.757804</td>\n",
       "      <td>0.160787</td>\n",
       "      <td>0.430779</td>\n",
       "    </tr>\n",
       "    <tr>\n",
       "      <th>min</th>\n",
       "      <td>8.000000</td>\n",
       "      <td>0.600000</td>\n",
       "      <td>2.720000</td>\n",
       "      <td>0.000000</td>\n",
       "    </tr>\n",
       "    <tr>\n",
       "      <th>25%</th>\n",
       "      <td>9.500000</td>\n",
       "      <td>1.800000</td>\n",
       "      <td>3.110000</td>\n",
       "      <td>1.000000</td>\n",
       "    </tr>\n",
       "    <tr>\n",
       "      <th>50%</th>\n",
       "      <td>10.300000</td>\n",
       "      <td>3.000000</td>\n",
       "      <td>3.210000</td>\n",
       "      <td>1.000000</td>\n",
       "    </tr>\n",
       "    <tr>\n",
       "      <th>75%</th>\n",
       "      <td>11.300000</td>\n",
       "      <td>8.100000</td>\n",
       "      <td>3.320000</td>\n",
       "      <td>1.000000</td>\n",
       "    </tr>\n",
       "    <tr>\n",
       "      <th>max</th>\n",
       "      <td>14.900000</td>\n",
       "      <td>65.800000</td>\n",
       "      <td>4.010000</td>\n",
       "      <td>1.000000</td>\n",
       "    </tr>\n",
       "  </tbody>\n",
       "</table>\n",
       "</div>"
      ],
      "text/plain": [
       "           alcohol        sugar           pH        class\n",
       "count  6497.000000  6497.000000  6497.000000  6497.000000\n",
       "mean     10.491801     5.443235     3.218501     0.753886\n",
       "std       1.192712     4.757804     0.160787     0.430779\n",
       "min       8.000000     0.600000     2.720000     0.000000\n",
       "25%       9.500000     1.800000     3.110000     1.000000\n",
       "50%      10.300000     3.000000     3.210000     1.000000\n",
       "75%      11.300000     8.100000     3.320000     1.000000\n",
       "max      14.900000    65.800000     4.010000     1.000000"
      ]
     },
     "execution_count": 85,
     "metadata": {},
     "output_type": "execute_result"
    }
   ],
   "source": [
    "wineDF.describe()"
   ]
  },
  {
   "cell_type": "markdown",
   "metadata": {},
   "source": [
    "[2] 학습 준비"
   ]
  },
  {
   "cell_type": "code",
   "execution_count": 86,
   "metadata": {},
   "outputs": [],
   "source": [
    "\n",
    "from sklearn.model_selection import train_test_split"
   ]
  },
  {
   "cell_type": "code",
   "execution_count": 87,
   "metadata": {},
   "outputs": [
    {
     "name": "stdout",
     "output_type": "stream",
     "text": [
      "featureDF : (6497, 3), targetSR : (6497,)\n"
     ]
    }
   ],
   "source": [
    "# 피쳐/독립변수와 타겟/라벨/종속변수 분리\n",
    "featureDF=wineDF.drop(columns='class')\n",
    "targetSR=wineDF['class']\n",
    "\n",
    "print(f'featureDF : {featureDF.shape}, targetSR : {targetSR.shape}')"
   ]
  },
  {
   "cell_type": "code",
   "execution_count": 88,
   "metadata": {},
   "outputs": [],
   "source": [
    "# 학습용 & 테스트용 데이터셋 분할\n",
    "X_train,X_test,y_train,y_test=train_test_split(featureDF,targetSR,\n",
    "                                               test_size=0.2,\n",
    "                                               stratify=targetSR,\n",
    "                                               random_state=1)"
   ]
  },
  {
   "cell_type": "code",
   "execution_count": 89,
   "metadata": {},
   "outputs": [
    {
     "name": "stdout",
     "output_type": "stream",
     "text": [
      "X_train : (5197, 3), y_train : (5197,)\n",
      "X_test : (1300, 3), y_test : (1300,)\n"
     ]
    }
   ],
   "source": [
    "print(f'X_train : {X_train.shape}, y_train : {y_train.shape}')\n",
    "print(f'X_test : {X_test.shape}, y_test : {y_test.shape}')"
   ]
  },
  {
   "cell_type": "markdown",
   "metadata": {},
   "source": [
    "[3] 학습 진행"
   ]
  },
  {
   "cell_type": "code",
   "execution_count": 90,
   "metadata": {},
   "outputs": [],
   "source": [
    "# 학습방법 : 지도학습 > 분류\n",
    "# 알고리즘 : 앙상블 > 배깅 - ExtraTreesClassfier\n",
    "from sklearn.ensemble import ExtraTreesClassifier"
   ]
  },
  {
   "cell_type": "code",
   "execution_count": 91,
   "metadata": {},
   "outputs": [
    {
     "data": {
      "text/html": [
       "<style>#sk-container-id-5 {color: black;}#sk-container-id-5 pre{padding: 0;}#sk-container-id-5 div.sk-toggleable {background-color: white;}#sk-container-id-5 label.sk-toggleable__label {cursor: pointer;display: block;width: 100%;margin-bottom: 0;padding: 0.3em;box-sizing: border-box;text-align: center;}#sk-container-id-5 label.sk-toggleable__label-arrow:before {content: \"▸\";float: left;margin-right: 0.25em;color: #696969;}#sk-container-id-5 label.sk-toggleable__label-arrow:hover:before {color: black;}#sk-container-id-5 div.sk-estimator:hover label.sk-toggleable__label-arrow:before {color: black;}#sk-container-id-5 div.sk-toggleable__content {max-height: 0;max-width: 0;overflow: hidden;text-align: left;background-color: #f0f8ff;}#sk-container-id-5 div.sk-toggleable__content pre {margin: 0.2em;color: black;border-radius: 0.25em;background-color: #f0f8ff;}#sk-container-id-5 input.sk-toggleable__control:checked~div.sk-toggleable__content {max-height: 200px;max-width: 100%;overflow: auto;}#sk-container-id-5 input.sk-toggleable__control:checked~label.sk-toggleable__label-arrow:before {content: \"▾\";}#sk-container-id-5 div.sk-estimator input.sk-toggleable__control:checked~label.sk-toggleable__label {background-color: #d4ebff;}#sk-container-id-5 div.sk-label input.sk-toggleable__control:checked~label.sk-toggleable__label {background-color: #d4ebff;}#sk-container-id-5 input.sk-hidden--visually {border: 0;clip: rect(1px 1px 1px 1px);clip: rect(1px, 1px, 1px, 1px);height: 1px;margin: -1px;overflow: hidden;padding: 0;position: absolute;width: 1px;}#sk-container-id-5 div.sk-estimator {font-family: monospace;background-color: #f0f8ff;border: 1px dotted black;border-radius: 0.25em;box-sizing: border-box;margin-bottom: 0.5em;}#sk-container-id-5 div.sk-estimator:hover {background-color: #d4ebff;}#sk-container-id-5 div.sk-parallel-item::after {content: \"\";width: 100%;border-bottom: 1px solid gray;flex-grow: 1;}#sk-container-id-5 div.sk-label:hover label.sk-toggleable__label {background-color: #d4ebff;}#sk-container-id-5 div.sk-serial::before {content: \"\";position: absolute;border-left: 1px solid gray;box-sizing: border-box;top: 0;bottom: 0;left: 50%;z-index: 0;}#sk-container-id-5 div.sk-serial {display: flex;flex-direction: column;align-items: center;background-color: white;padding-right: 0.2em;padding-left: 0.2em;position: relative;}#sk-container-id-5 div.sk-item {position: relative;z-index: 1;}#sk-container-id-5 div.sk-parallel {display: flex;align-items: stretch;justify-content: center;background-color: white;position: relative;}#sk-container-id-5 div.sk-item::before, #sk-container-id-5 div.sk-parallel-item::before {content: \"\";position: absolute;border-left: 1px solid gray;box-sizing: border-box;top: 0;bottom: 0;left: 50%;z-index: -1;}#sk-container-id-5 div.sk-parallel-item {display: flex;flex-direction: column;z-index: 1;position: relative;background-color: white;}#sk-container-id-5 div.sk-parallel-item:first-child::after {align-self: flex-end;width: 50%;}#sk-container-id-5 div.sk-parallel-item:last-child::after {align-self: flex-start;width: 50%;}#sk-container-id-5 div.sk-parallel-item:only-child::after {width: 0;}#sk-container-id-5 div.sk-dashed-wrapped {border: 1px dashed gray;margin: 0 0.4em 0.5em 0.4em;box-sizing: border-box;padding-bottom: 0.4em;background-color: white;}#sk-container-id-5 div.sk-label label {font-family: monospace;font-weight: bold;display: inline-block;line-height: 1.2em;}#sk-container-id-5 div.sk-label-container {text-align: center;}#sk-container-id-5 div.sk-container {/* jupyter's `normalize.less` sets `[hidden] { display: none; }` but bootstrap.min.css set `[hidden] { display: none !important; }` so we also need the `!important` here to be able to override the default hidden behavior on the sphinx rendered scikit-learn.org. See: https://github.com/scikit-learn/scikit-learn/issues/21755 */display: inline-block !important;position: relative;}#sk-container-id-5 div.sk-text-repr-fallback {display: none;}</style><div id=\"sk-container-id-5\" class=\"sk-top-container\"><div class=\"sk-text-repr-fallback\"><pre>ExtraTreesClassifier(random_state=7)</pre><b>In a Jupyter environment, please rerun this cell to show the HTML representation or trust the notebook. <br />On GitHub, the HTML representation is unable to render, please try loading this page with nbviewer.org.</b></div><div class=\"sk-container\" hidden><div class=\"sk-item\"><div class=\"sk-estimator sk-toggleable\"><input class=\"sk-toggleable__control sk-hidden--visually\" id=\"sk-estimator-id-7\" type=\"checkbox\" checked><label for=\"sk-estimator-id-7\" class=\"sk-toggleable__label sk-toggleable__label-arrow\">ExtraTreesClassifier</label><div class=\"sk-toggleable__content\"><pre>ExtraTreesClassifier(random_state=7)</pre></div></div></div></div></div>"
      ],
      "text/plain": [
       "ExtraTreesClassifier(random_state=7)"
      ]
     },
     "execution_count": 91,
     "metadata": {},
     "output_type": "execute_result"
    }
   ],
   "source": [
    "# 인스턴스 생성  => 100개의 내부 DT 모델에서 사용할 데이터셋 생성\n",
    "#                  random state 매개변수 설정으로 고정된 데이터셋 생성\n",
    "#                => oob_score : 샘플 데이터셋 추출 후 남은 데이터셋을 검증용으로 사용\n",
    "lf_model=ExtraTreesClassifier(random_state=7)\n",
    "\n",
    "# 학습진행\n",
    "lf_model.fit(X_train,y_train)"
   ]
  },
  {
   "cell_type": "code",
   "execution_count": 92,
   "metadata": {},
   "outputs": [
    {
     "name": "stdout",
     "output_type": "stream",
     "text": [
      "lf_model.classes : [0. 1.]\n",
      "lf_model.n_classes : 2\n",
      "\n",
      "lf_model.feature_names_in_ : ['alcohol' 'sugar' 'pH']\n",
      "lf_model.feature_importances_ : [0.18992806 0.53030305 0.2797689 ]\n",
      "lf_model.n_features_in_ : 3\n"
     ]
    }
   ],
   "source": [
    "# 모델 파라미터\n",
    "print(f'lf_model.classes : {lf_model.classes_}')\n",
    "print(f'lf_model.n_classes : {lf_model.n_classes_}')\n",
    "print()\n",
    "print(f'lf_model.feature_names_in_ : {lf_model.feature_names_in_}')\n",
    "print(f'lf_model.feature_importances_ : {lf_model.feature_importances_}')\n",
    "print(f'lf_model.n_features_in_ : {lf_model.n_features_in_}')"
   ]
  },
  {
   "cell_type": "code",
   "execution_count": 93,
   "metadata": {},
   "outputs": [
    {
     "name": "stdout",
     "output_type": "stream",
     "text": [
      "lf_model.estimator_ : ExtraTreeClassifier()\n",
      "lf_model.estimators_ : [ExtraTreeClassifier(random_state=327741615), ExtraTreeClassifier(random_state=976413892), ExtraTreeClassifier(random_state=1202242073), ExtraTreeClassifier(random_state=1369975286), ExtraTreeClassifier(random_state=1882953283), ExtraTreeClassifier(random_state=2053951699), ExtraTreeClassifier(random_state=959775639), ExtraTreeClassifier(random_state=1956722279), ExtraTreeClassifier(random_state=2052949340), ExtraTreeClassifier(random_state=1322904761), ExtraTreeClassifier(random_state=165338510), ExtraTreeClassifier(random_state=1133316631), ExtraTreeClassifier(random_state=4812360), ExtraTreeClassifier(random_state=372560217), ExtraTreeClassifier(random_state=309457262), ExtraTreeClassifier(random_state=1801189930), ExtraTreeClassifier(random_state=1152936666), ExtraTreeClassifier(random_state=68334472), ExtraTreeClassifier(random_state=2146978983), ExtraTreeClassifier(random_state=119248870), ExtraTreeClassifier(random_state=769786948), ExtraTreeClassifier(random_state=1583990192), ExtraTreeClassifier(random_state=1304549247), ExtraTreeClassifier(random_state=1420943751), ExtraTreeClassifier(random_state=1636129708), ExtraTreeClassifier(random_state=1687674368), ExtraTreeClassifier(random_state=283194443), ExtraTreeClassifier(random_state=748743479), ExtraTreeClassifier(random_state=1237575930), ExtraTreeClassifier(random_state=740097030), ExtraTreeClassifier(random_state=1759190803), ExtraTreeClassifier(random_state=833359292), ExtraTreeClassifier(random_state=916483116), ExtraTreeClassifier(random_state=1485942463), ExtraTreeClassifier(random_state=1941857605), ExtraTreeClassifier(random_state=1844809528), ExtraTreeClassifier(random_state=1852015768), ExtraTreeClassifier(random_state=1127788727), ExtraTreeClassifier(random_state=106941365), ExtraTreeClassifier(random_state=1077017712), ExtraTreeClassifier(random_state=431854331), ExtraTreeClassifier(random_state=1094761661), ExtraTreeClassifier(random_state=1933291456), ExtraTreeClassifier(random_state=1508798754), ExtraTreeClassifier(random_state=989143352), ExtraTreeClassifier(random_state=747550921), ExtraTreeClassifier(random_state=208262606), ExtraTreeClassifier(random_state=1248819750), ExtraTreeClassifier(random_state=1757192964), ExtraTreeClassifier(random_state=1879603694), ExtraTreeClassifier(random_state=571958409), ExtraTreeClassifier(random_state=1927692119), ExtraTreeClassifier(random_state=100556259), ExtraTreeClassifier(random_state=1652057283), ExtraTreeClassifier(random_state=1075502152), ExtraTreeClassifier(random_state=1535344467), ExtraTreeClassifier(random_state=725906352), ExtraTreeClassifier(random_state=830456065), ExtraTreeClassifier(random_state=2008983232), ExtraTreeClassifier(random_state=431532432), ExtraTreeClassifier(random_state=879820150), ExtraTreeClassifier(random_state=2072909727), ExtraTreeClassifier(random_state=2107823453), ExtraTreeClassifier(random_state=488352684), ExtraTreeClassifier(random_state=1599380060), ExtraTreeClassifier(random_state=1938096892), ExtraTreeClassifier(random_state=2050422343), ExtraTreeClassifier(random_state=1497897239), ExtraTreeClassifier(random_state=1571487242), ExtraTreeClassifier(random_state=1187621609), ExtraTreeClassifier(random_state=1451346723), ExtraTreeClassifier(random_state=1917728192), ExtraTreeClassifier(random_state=1153832253), ExtraTreeClassifier(random_state=1966724487), ExtraTreeClassifier(random_state=1348596887), ExtraTreeClassifier(random_state=771276892), ExtraTreeClassifier(random_state=311923447), ExtraTreeClassifier(random_state=612959456), ExtraTreeClassifier(random_state=1185621653), ExtraTreeClassifier(random_state=358664548), ExtraTreeClassifier(random_state=1944945571), ExtraTreeClassifier(random_state=202873313), ExtraTreeClassifier(random_state=1516030531), ExtraTreeClassifier(random_state=1332338555), ExtraTreeClassifier(random_state=676025563), ExtraTreeClassifier(random_state=1214271969), ExtraTreeClassifier(random_state=1590645779), ExtraTreeClassifier(random_state=1808153499), ExtraTreeClassifier(random_state=1971789316), ExtraTreeClassifier(random_state=1861190419), ExtraTreeClassifier(random_state=941989921), ExtraTreeClassifier(random_state=1798548603), ExtraTreeClassifier(random_state=1773786398), ExtraTreeClassifier(random_state=2088312505), ExtraTreeClassifier(random_state=1745574629), ExtraTreeClassifier(random_state=1260873545), ExtraTreeClassifier(random_state=775033821), ExtraTreeClassifier(random_state=1474484177), ExtraTreeClassifier(random_state=1035597695), ExtraTreeClassifier(random_state=1289946527)]\n"
     ]
    }
   ],
   "source": [
    "print(f'lf_model.estimator_ : {lf_model.estimator_}')\n",
    "print(f'lf_model.estimators_ : {lf_model.estimators_}')"
   ]
  },
  {
   "cell_type": "code",
   "execution_count": 94,
   "metadata": {},
   "outputs": [],
   "source": [
    "#print(f'lf_model.estimators_samples_ : {lf_model.estimators_samples_}')"
   ]
  },
  {
   "cell_type": "code",
   "execution_count": 95,
   "metadata": {},
   "outputs": [],
   "source": [
    "#print(f'oob score : {lf_model.oob_score_}')"
   ]
  },
  {
   "cell_type": "markdown",
   "metadata": {},
   "source": [
    "[4] 성능평가"
   ]
  },
  {
   "cell_type": "code",
   "execution_count": 96,
   "metadata": {},
   "outputs": [],
   "source": [
    "train_score=lf_model.score(X_train,y_train)\n",
    "test_score=lf_model.score(X_test,y_test)"
   ]
  },
  {
   "cell_type": "code",
   "execution_count": 97,
   "metadata": {},
   "outputs": [
    {
     "name": "stdout",
     "output_type": "stream",
     "text": [
      "train_score : 0.9973061381566288, test_score : 0.8961538461538462\n"
     ]
    }
   ],
   "source": [
    "print(f'train_score : {train_score}, test_score : {test_score}')"
   ]
  },
  {
   "cell_type": "markdown",
   "metadata": {},
   "source": [
    "[5] 튜닝"
   ]
  },
  {
   "cell_type": "markdown",
   "metadata": {},
   "source": [
    "- RandomizedSearchCV 하이퍼파라미터 최적화 클래스  \n",
    "    - 범위가 넓은 하이퍼파라미터 설정에 좋음\n",
    "    - 지정된 범위에서 지정된 횟수만큼 하이퍼파라미터 추출하여 조합 진행"
   ]
  },
  {
   "cell_type": "code",
   "execution_count": 98,
   "metadata": {},
   "outputs": [],
   "source": [
    "# 모듈 로딩\n",
    "from sklearn.model_selection import RandomizedSearchCV"
   ]
  },
  {
   "cell_type": "code",
   "execution_count": 99,
   "metadata": {},
   "outputs": [],
   "source": [
    "# RandomForestClassfier 하이퍼 파라미터 설정\n",
    "params={'max_depth':range(2,16),'min_samples_leaf':range(5,16)}"
   ]
  },
  {
   "cell_type": "code",
   "execution_count": 100,
   "metadata": {},
   "outputs": [],
   "source": [
    "rf_model=ExtraTreesClassifier(n_estimators=300)\n",
    "# default : n_estimators=100"
   ]
  },
  {
   "cell_type": "code",
   "execution_count": 101,
   "metadata": {},
   "outputs": [],
   "source": [
    "searchCV=RandomizedSearchCV(rf_model,\n",
    "                            param_distributions=params,\n",
    "                            verbose=4)"
   ]
  },
  {
   "cell_type": "code",
   "execution_count": 102,
   "metadata": {},
   "outputs": [
    {
     "name": "stdout",
     "output_type": "stream",
     "text": [
      "Fitting 5 folds for each of 10 candidates, totalling 50 fits\n",
      "[CV 1/5] END ..max_depth=15, min_samples_leaf=8;, score=0.754 total time=   0.2s\n",
      "[CV 2/5] END ..max_depth=15, min_samples_leaf=8;, score=0.754 total time=   0.2s\n",
      "[CV 3/5] END ..max_depth=15, min_samples_leaf=8;, score=0.755 total time=   0.2s\n",
      "[CV 4/5] END ..max_depth=15, min_samples_leaf=8;, score=0.754 total time=   0.2s\n",
      "[CV 5/5] END ..max_depth=15, min_samples_leaf=8;, score=0.754 total time=   0.2s\n",
      "[CV 1/5] END ...max_depth=3, min_samples_leaf=7;, score=0.754 total time=   0.2s\n",
      "[CV 2/5] END ...max_depth=3, min_samples_leaf=7;, score=0.754 total time=   0.2s\n",
      "[CV 3/5] END ...max_depth=3, min_samples_leaf=7;, score=0.755 total time=   0.2s\n",
      "[CV 4/5] END ...max_depth=3, min_samples_leaf=7;, score=0.754 total time=   0.2s\n",
      "[CV 5/5] END ...max_depth=3, min_samples_leaf=7;, score=0.754 total time=   0.2s\n",
      "[CV 1/5] END ...max_depth=8, min_samples_leaf=7;, score=0.754 total time=   0.2s\n",
      "[CV 2/5] END ...max_depth=8, min_samples_leaf=7;, score=0.754 total time=   0.2s\n",
      "[CV 3/5] END ...max_depth=8, min_samples_leaf=7;, score=0.755 total time=   0.2s\n",
      "[CV 4/5] END ...max_depth=8, min_samples_leaf=7;, score=0.754 total time=   0.2s\n",
      "[CV 5/5] END ...max_depth=8, min_samples_leaf=7;, score=0.754 total time=   0.2s\n",
      "[CV 1/5] END ..max_depth=8, min_samples_leaf=14;, score=0.754 total time=   0.2s\n",
      "[CV 2/5] END ..max_depth=8, min_samples_leaf=14;, score=0.754 total time=   0.2s\n",
      "[CV 3/5] END ..max_depth=8, min_samples_leaf=14;, score=0.755 total time=   0.2s\n",
      "[CV 4/5] END ..max_depth=8, min_samples_leaf=14;, score=0.754 total time=   0.2s\n",
      "[CV 5/5] END ..max_depth=8, min_samples_leaf=14;, score=0.754 total time=   0.2s\n",
      "[CV 1/5] END ...max_depth=9, min_samples_leaf=5;, score=0.754 total time=   0.2s\n",
      "[CV 2/5] END ...max_depth=9, min_samples_leaf=5;, score=0.754 total time=   0.3s\n",
      "[CV 3/5] END ...max_depth=9, min_samples_leaf=5;, score=0.755 total time=   0.2s\n",
      "[CV 4/5] END ...max_depth=9, min_samples_leaf=5;, score=0.754 total time=   0.2s\n",
      "[CV 5/5] END ...max_depth=9, min_samples_leaf=5;, score=0.754 total time=   0.2s\n",
      "[CV 1/5] END ..max_depth=14, min_samples_leaf=9;, score=0.754 total time=   0.2s\n",
      "[CV 2/5] END ..max_depth=14, min_samples_leaf=9;, score=0.754 total time=   0.2s\n",
      "[CV 3/5] END ..max_depth=14, min_samples_leaf=9;, score=0.755 total time=   0.2s\n",
      "[CV 4/5] END ..max_depth=14, min_samples_leaf=9;, score=0.754 total time=   0.2s\n",
      "[CV 5/5] END ..max_depth=14, min_samples_leaf=9;, score=0.754 total time=   0.2s\n",
      "[CV 1/5] END ..max_depth=4, min_samples_leaf=15;, score=0.754 total time=   0.2s\n",
      "[CV 2/5] END ..max_depth=4, min_samples_leaf=15;, score=0.754 total time=   0.2s\n",
      "[CV 3/5] END ..max_depth=4, min_samples_leaf=15;, score=0.755 total time=   0.2s\n",
      "[CV 4/5] END ..max_depth=4, min_samples_leaf=15;, score=0.754 total time=   0.2s\n",
      "[CV 5/5] END ..max_depth=4, min_samples_leaf=15;, score=0.754 total time=   0.2s\n",
      "[CV 1/5] END .max_depth=12, min_samples_leaf=10;, score=0.754 total time=   0.2s\n",
      "[CV 2/5] END .max_depth=12, min_samples_leaf=10;, score=0.754 total time=   0.2s\n",
      "[CV 3/5] END .max_depth=12, min_samples_leaf=10;, score=0.755 total time=   0.2s\n",
      "[CV 4/5] END .max_depth=12, min_samples_leaf=10;, score=0.754 total time=   0.2s\n",
      "[CV 5/5] END .max_depth=12, min_samples_leaf=10;, score=0.754 total time=   0.2s\n",
      "[CV 1/5] END ..max_depth=5, min_samples_leaf=14;, score=0.754 total time=   0.2s\n",
      "[CV 2/5] END ..max_depth=5, min_samples_leaf=14;, score=0.754 total time=   0.2s\n",
      "[CV 3/5] END ..max_depth=5, min_samples_leaf=14;, score=0.755 total time=   0.2s\n",
      "[CV 4/5] END ..max_depth=5, min_samples_leaf=14;, score=0.754 total time=   0.2s\n",
      "[CV 5/5] END ..max_depth=5, min_samples_leaf=14;, score=0.754 total time=   0.3s\n",
      "[CV 1/5] END ..max_depth=2, min_samples_leaf=14;, score=0.754 total time=   0.2s\n",
      "[CV 2/5] END ..max_depth=2, min_samples_leaf=14;, score=0.754 total time=   0.2s\n",
      "[CV 3/5] END ..max_depth=2, min_samples_leaf=14;, score=0.755 total time=   0.2s\n",
      "[CV 4/5] END ..max_depth=2, min_samples_leaf=14;, score=0.754 total time=   0.2s\n",
      "[CV 5/5] END ..max_depth=2, min_samples_leaf=14;, score=0.754 total time=   0.2s\n"
     ]
    },
    {
     "data": {
      "text/html": [
       "<style>#sk-container-id-6 {color: black;}#sk-container-id-6 pre{padding: 0;}#sk-container-id-6 div.sk-toggleable {background-color: white;}#sk-container-id-6 label.sk-toggleable__label {cursor: pointer;display: block;width: 100%;margin-bottom: 0;padding: 0.3em;box-sizing: border-box;text-align: center;}#sk-container-id-6 label.sk-toggleable__label-arrow:before {content: \"▸\";float: left;margin-right: 0.25em;color: #696969;}#sk-container-id-6 label.sk-toggleable__label-arrow:hover:before {color: black;}#sk-container-id-6 div.sk-estimator:hover label.sk-toggleable__label-arrow:before {color: black;}#sk-container-id-6 div.sk-toggleable__content {max-height: 0;max-width: 0;overflow: hidden;text-align: left;background-color: #f0f8ff;}#sk-container-id-6 div.sk-toggleable__content pre {margin: 0.2em;color: black;border-radius: 0.25em;background-color: #f0f8ff;}#sk-container-id-6 input.sk-toggleable__control:checked~div.sk-toggleable__content {max-height: 200px;max-width: 100%;overflow: auto;}#sk-container-id-6 input.sk-toggleable__control:checked~label.sk-toggleable__label-arrow:before {content: \"▾\";}#sk-container-id-6 div.sk-estimator input.sk-toggleable__control:checked~label.sk-toggleable__label {background-color: #d4ebff;}#sk-container-id-6 div.sk-label input.sk-toggleable__control:checked~label.sk-toggleable__label {background-color: #d4ebff;}#sk-container-id-6 input.sk-hidden--visually {border: 0;clip: rect(1px 1px 1px 1px);clip: rect(1px, 1px, 1px, 1px);height: 1px;margin: -1px;overflow: hidden;padding: 0;position: absolute;width: 1px;}#sk-container-id-6 div.sk-estimator {font-family: monospace;background-color: #f0f8ff;border: 1px dotted black;border-radius: 0.25em;box-sizing: border-box;margin-bottom: 0.5em;}#sk-container-id-6 div.sk-estimator:hover {background-color: #d4ebff;}#sk-container-id-6 div.sk-parallel-item::after {content: \"\";width: 100%;border-bottom: 1px solid gray;flex-grow: 1;}#sk-container-id-6 div.sk-label:hover label.sk-toggleable__label {background-color: #d4ebff;}#sk-container-id-6 div.sk-serial::before {content: \"\";position: absolute;border-left: 1px solid gray;box-sizing: border-box;top: 0;bottom: 0;left: 50%;z-index: 0;}#sk-container-id-6 div.sk-serial {display: flex;flex-direction: column;align-items: center;background-color: white;padding-right: 0.2em;padding-left: 0.2em;position: relative;}#sk-container-id-6 div.sk-item {position: relative;z-index: 1;}#sk-container-id-6 div.sk-parallel {display: flex;align-items: stretch;justify-content: center;background-color: white;position: relative;}#sk-container-id-6 div.sk-item::before, #sk-container-id-6 div.sk-parallel-item::before {content: \"\";position: absolute;border-left: 1px solid gray;box-sizing: border-box;top: 0;bottom: 0;left: 50%;z-index: -1;}#sk-container-id-6 div.sk-parallel-item {display: flex;flex-direction: column;z-index: 1;position: relative;background-color: white;}#sk-container-id-6 div.sk-parallel-item:first-child::after {align-self: flex-end;width: 50%;}#sk-container-id-6 div.sk-parallel-item:last-child::after {align-self: flex-start;width: 50%;}#sk-container-id-6 div.sk-parallel-item:only-child::after {width: 0;}#sk-container-id-6 div.sk-dashed-wrapped {border: 1px dashed gray;margin: 0 0.4em 0.5em 0.4em;box-sizing: border-box;padding-bottom: 0.4em;background-color: white;}#sk-container-id-6 div.sk-label label {font-family: monospace;font-weight: bold;display: inline-block;line-height: 1.2em;}#sk-container-id-6 div.sk-label-container {text-align: center;}#sk-container-id-6 div.sk-container {/* jupyter's `normalize.less` sets `[hidden] { display: none; }` but bootstrap.min.css set `[hidden] { display: none !important; }` so we also need the `!important` here to be able to override the default hidden behavior on the sphinx rendered scikit-learn.org. See: https://github.com/scikit-learn/scikit-learn/issues/21755 */display: inline-block !important;position: relative;}#sk-container-id-6 div.sk-text-repr-fallback {display: none;}</style><div id=\"sk-container-id-6\" class=\"sk-top-container\"><div class=\"sk-text-repr-fallback\"><pre>RandomizedSearchCV(estimator=ExtraTreesClassifier(n_estimators=300),\n",
       "                   param_distributions={&#x27;max_depth&#x27;: range(2, 16),\n",
       "                                        &#x27;min_samples_leaf&#x27;: range(5, 16)},\n",
       "                   verbose=4)</pre><b>In a Jupyter environment, please rerun this cell to show the HTML representation or trust the notebook. <br />On GitHub, the HTML representation is unable to render, please try loading this page with nbviewer.org.</b></div><div class=\"sk-container\" hidden><div class=\"sk-item sk-dashed-wrapped\"><div class=\"sk-label-container\"><div class=\"sk-label sk-toggleable\"><input class=\"sk-toggleable__control sk-hidden--visually\" id=\"sk-estimator-id-8\" type=\"checkbox\" ><label for=\"sk-estimator-id-8\" class=\"sk-toggleable__label sk-toggleable__label-arrow\">RandomizedSearchCV</label><div class=\"sk-toggleable__content\"><pre>RandomizedSearchCV(estimator=ExtraTreesClassifier(n_estimators=300),\n",
       "                   param_distributions={&#x27;max_depth&#x27;: range(2, 16),\n",
       "                                        &#x27;min_samples_leaf&#x27;: range(5, 16)},\n",
       "                   verbose=4)</pre></div></div></div><div class=\"sk-parallel\"><div class=\"sk-parallel-item\"><div class=\"sk-item\"><div class=\"sk-label-container\"><div class=\"sk-label sk-toggleable\"><input class=\"sk-toggleable__control sk-hidden--visually\" id=\"sk-estimator-id-9\" type=\"checkbox\" ><label for=\"sk-estimator-id-9\" class=\"sk-toggleable__label sk-toggleable__label-arrow\">estimator: ExtraTreesClassifier</label><div class=\"sk-toggleable__content\"><pre>ExtraTreesClassifier(n_estimators=300)</pre></div></div></div><div class=\"sk-serial\"><div class=\"sk-item\"><div class=\"sk-estimator sk-toggleable\"><input class=\"sk-toggleable__control sk-hidden--visually\" id=\"sk-estimator-id-10\" type=\"checkbox\" ><label for=\"sk-estimator-id-10\" class=\"sk-toggleable__label sk-toggleable__label-arrow\">ExtraTreesClassifier</label><div class=\"sk-toggleable__content\"><pre>ExtraTreesClassifier(n_estimators=300)</pre></div></div></div></div></div></div></div></div></div></div>"
      ],
      "text/plain": [
       "RandomizedSearchCV(estimator=ExtraTreesClassifier(n_estimators=300),\n",
       "                   param_distributions={'max_depth': range(2, 16),\n",
       "                                        'min_samples_leaf': range(5, 16)},\n",
       "                   verbose=4)"
      ]
     },
     "execution_count": 102,
     "metadata": {},
     "output_type": "execute_result"
    }
   ],
   "source": [
    "searchCV.fit(X_train,y_train)"
   ]
  },
  {
   "cell_type": "code",
   "execution_count": 103,
   "metadata": {},
   "outputs": [
    {
     "name": "stdout",
     "output_type": "stream",
     "text": [
      "[ SearchCV.best_score_] 0.75389649811209\n",
      "[ SearchCV.best_estimator_] ExtraTreesClassifier(max_depth=15, min_samples_leaf=8, n_estimators=300)\n",
      "[ SearchCV.best_params_] {'min_samples_leaf': 8, 'max_depth': 15}\n"
     ]
    },
    {
     "data": {
      "text/html": [
       "<div>\n",
       "<style scoped>\n",
       "    .dataframe tbody tr th:only-of-type {\n",
       "        vertical-align: middle;\n",
       "    }\n",
       "\n",
       "    .dataframe tbody tr th {\n",
       "        vertical-align: top;\n",
       "    }\n",
       "\n",
       "    .dataframe thead th {\n",
       "        text-align: right;\n",
       "    }\n",
       "</style>\n",
       "<table border=\"1\" class=\"dataframe\">\n",
       "  <thead>\n",
       "    <tr style=\"text-align: right;\">\n",
       "      <th></th>\n",
       "      <th>mean_fit_time</th>\n",
       "      <th>std_fit_time</th>\n",
       "      <th>mean_score_time</th>\n",
       "      <th>std_score_time</th>\n",
       "      <th>param_min_samples_leaf</th>\n",
       "      <th>param_max_depth</th>\n",
       "      <th>params</th>\n",
       "      <th>split0_test_score</th>\n",
       "      <th>split1_test_score</th>\n",
       "      <th>split2_test_score</th>\n",
       "      <th>split3_test_score</th>\n",
       "      <th>split4_test_score</th>\n",
       "      <th>mean_test_score</th>\n",
       "      <th>std_test_score</th>\n",
       "      <th>rank_test_score</th>\n",
       "    </tr>\n",
       "  </thead>\n",
       "  <tbody>\n",
       "    <tr>\n",
       "      <th>0</th>\n",
       "      <td>0.261239</td>\n",
       "      <td>0.007511</td>\n",
       "      <td>0.027683</td>\n",
       "      <td>0.001452</td>\n",
       "      <td>8</td>\n",
       "      <td>15</td>\n",
       "      <td>{'min_samples_leaf': 8, 'max_depth': 15}</td>\n",
       "      <td>0.753846</td>\n",
       "      <td>0.753846</td>\n",
       "      <td>0.754572</td>\n",
       "      <td>0.753609</td>\n",
       "      <td>0.753609</td>\n",
       "      <td>0.753896</td>\n",
       "      <td>0.000354</td>\n",
       "      <td>1</td>\n",
       "    </tr>\n",
       "    <tr>\n",
       "      <th>1</th>\n",
       "      <td>0.230361</td>\n",
       "      <td>0.002381</td>\n",
       "      <td>0.023419</td>\n",
       "      <td>0.000748</td>\n",
       "      <td>7</td>\n",
       "      <td>3</td>\n",
       "      <td>{'min_samples_leaf': 7, 'max_depth': 3}</td>\n",
       "      <td>0.753846</td>\n",
       "      <td>0.753846</td>\n",
       "      <td>0.754572</td>\n",
       "      <td>0.753609</td>\n",
       "      <td>0.753609</td>\n",
       "      <td>0.753896</td>\n",
       "      <td>0.000354</td>\n",
       "      <td>1</td>\n",
       "    </tr>\n",
       "    <tr>\n",
       "      <th>2</th>\n",
       "      <td>0.248591</td>\n",
       "      <td>0.008826</td>\n",
       "      <td>0.027025</td>\n",
       "      <td>0.003739</td>\n",
       "      <td>7</td>\n",
       "      <td>8</td>\n",
       "      <td>{'min_samples_leaf': 7, 'max_depth': 8}</td>\n",
       "      <td>0.753846</td>\n",
       "      <td>0.753846</td>\n",
       "      <td>0.754572</td>\n",
       "      <td>0.753609</td>\n",
       "      <td>0.753609</td>\n",
       "      <td>0.753896</td>\n",
       "      <td>0.000354</td>\n",
       "      <td>1</td>\n",
       "    </tr>\n",
       "    <tr>\n",
       "      <th>3</th>\n",
       "      <td>0.240823</td>\n",
       "      <td>0.004280</td>\n",
       "      <td>0.025735</td>\n",
       "      <td>0.001450</td>\n",
       "      <td>14</td>\n",
       "      <td>8</td>\n",
       "      <td>{'min_samples_leaf': 14, 'max_depth': 8}</td>\n",
       "      <td>0.753846</td>\n",
       "      <td>0.753846</td>\n",
       "      <td>0.754572</td>\n",
       "      <td>0.753609</td>\n",
       "      <td>0.753609</td>\n",
       "      <td>0.753896</td>\n",
       "      <td>0.000354</td>\n",
       "      <td>1</td>\n",
       "    </tr>\n",
       "    <tr>\n",
       "      <th>4</th>\n",
       "      <td>0.271002</td>\n",
       "      <td>0.029761</td>\n",
       "      <td>0.027459</td>\n",
       "      <td>0.001647</td>\n",
       "      <td>5</td>\n",
       "      <td>9</td>\n",
       "      <td>{'min_samples_leaf': 5, 'max_depth': 9}</td>\n",
       "      <td>0.753846</td>\n",
       "      <td>0.753846</td>\n",
       "      <td>0.754572</td>\n",
       "      <td>0.753609</td>\n",
       "      <td>0.753609</td>\n",
       "      <td>0.753896</td>\n",
       "      <td>0.000354</td>\n",
       "      <td>1</td>\n",
       "    </tr>\n",
       "    <tr>\n",
       "      <th>5</th>\n",
       "      <td>0.257355</td>\n",
       "      <td>0.008786</td>\n",
       "      <td>0.027521</td>\n",
       "      <td>0.001480</td>\n",
       "      <td>9</td>\n",
       "      <td>14</td>\n",
       "      <td>{'min_samples_leaf': 9, 'max_depth': 14}</td>\n",
       "      <td>0.753846</td>\n",
       "      <td>0.753846</td>\n",
       "      <td>0.754572</td>\n",
       "      <td>0.753609</td>\n",
       "      <td>0.753609</td>\n",
       "      <td>0.753896</td>\n",
       "      <td>0.000354</td>\n",
       "      <td>1</td>\n",
       "    </tr>\n",
       "    <tr>\n",
       "      <th>6</th>\n",
       "      <td>0.245077</td>\n",
       "      <td>0.015862</td>\n",
       "      <td>0.025168</td>\n",
       "      <td>0.001811</td>\n",
       "      <td>15</td>\n",
       "      <td>4</td>\n",
       "      <td>{'min_samples_leaf': 15, 'max_depth': 4}</td>\n",
       "      <td>0.753846</td>\n",
       "      <td>0.753846</td>\n",
       "      <td>0.754572</td>\n",
       "      <td>0.753609</td>\n",
       "      <td>0.753609</td>\n",
       "      <td>0.753896</td>\n",
       "      <td>0.000354</td>\n",
       "      <td>1</td>\n",
       "    </tr>\n",
       "    <tr>\n",
       "      <th>7</th>\n",
       "      <td>0.279688</td>\n",
       "      <td>0.010482</td>\n",
       "      <td>0.028659</td>\n",
       "      <td>0.001818</td>\n",
       "      <td>10</td>\n",
       "      <td>12</td>\n",
       "      <td>{'min_samples_leaf': 10, 'max_depth': 12}</td>\n",
       "      <td>0.753846</td>\n",
       "      <td>0.753846</td>\n",
       "      <td>0.754572</td>\n",
       "      <td>0.753609</td>\n",
       "      <td>0.753609</td>\n",
       "      <td>0.753896</td>\n",
       "      <td>0.000354</td>\n",
       "      <td>1</td>\n",
       "    </tr>\n",
       "    <tr>\n",
       "      <th>8</th>\n",
       "      <td>0.256153</td>\n",
       "      <td>0.009300</td>\n",
       "      <td>0.039879</td>\n",
       "      <td>0.027428</td>\n",
       "      <td>14</td>\n",
       "      <td>5</td>\n",
       "      <td>{'min_samples_leaf': 14, 'max_depth': 5}</td>\n",
       "      <td>0.753846</td>\n",
       "      <td>0.753846</td>\n",
       "      <td>0.754572</td>\n",
       "      <td>0.753609</td>\n",
       "      <td>0.753609</td>\n",
       "      <td>0.753896</td>\n",
       "      <td>0.000354</td>\n",
       "      <td>1</td>\n",
       "    </tr>\n",
       "    <tr>\n",
       "      <th>9</th>\n",
       "      <td>0.241190</td>\n",
       "      <td>0.005574</td>\n",
       "      <td>0.022932</td>\n",
       "      <td>0.001210</td>\n",
       "      <td>14</td>\n",
       "      <td>2</td>\n",
       "      <td>{'min_samples_leaf': 14, 'max_depth': 2}</td>\n",
       "      <td>0.753846</td>\n",
       "      <td>0.753846</td>\n",
       "      <td>0.754572</td>\n",
       "      <td>0.753609</td>\n",
       "      <td>0.753609</td>\n",
       "      <td>0.753896</td>\n",
       "      <td>0.000354</td>\n",
       "      <td>1</td>\n",
       "    </tr>\n",
       "  </tbody>\n",
       "</table>\n",
       "</div>"
      ],
      "text/plain": [
       "   mean_fit_time  std_fit_time  mean_score_time  std_score_time  \\\n",
       "0       0.261239      0.007511         0.027683        0.001452   \n",
       "1       0.230361      0.002381         0.023419        0.000748   \n",
       "2       0.248591      0.008826         0.027025        0.003739   \n",
       "3       0.240823      0.004280         0.025735        0.001450   \n",
       "4       0.271002      0.029761         0.027459        0.001647   \n",
       "5       0.257355      0.008786         0.027521        0.001480   \n",
       "6       0.245077      0.015862         0.025168        0.001811   \n",
       "7       0.279688      0.010482         0.028659        0.001818   \n",
       "8       0.256153      0.009300         0.039879        0.027428   \n",
       "9       0.241190      0.005574         0.022932        0.001210   \n",
       "\n",
       "  param_min_samples_leaf param_max_depth  \\\n",
       "0                      8              15   \n",
       "1                      7               3   \n",
       "2                      7               8   \n",
       "3                     14               8   \n",
       "4                      5               9   \n",
       "5                      9              14   \n",
       "6                     15               4   \n",
       "7                     10              12   \n",
       "8                     14               5   \n",
       "9                     14               2   \n",
       "\n",
       "                                      params  split0_test_score  \\\n",
       "0   {'min_samples_leaf': 8, 'max_depth': 15}           0.753846   \n",
       "1    {'min_samples_leaf': 7, 'max_depth': 3}           0.753846   \n",
       "2    {'min_samples_leaf': 7, 'max_depth': 8}           0.753846   \n",
       "3   {'min_samples_leaf': 14, 'max_depth': 8}           0.753846   \n",
       "4    {'min_samples_leaf': 5, 'max_depth': 9}           0.753846   \n",
       "5   {'min_samples_leaf': 9, 'max_depth': 14}           0.753846   \n",
       "6   {'min_samples_leaf': 15, 'max_depth': 4}           0.753846   \n",
       "7  {'min_samples_leaf': 10, 'max_depth': 12}           0.753846   \n",
       "8   {'min_samples_leaf': 14, 'max_depth': 5}           0.753846   \n",
       "9   {'min_samples_leaf': 14, 'max_depth': 2}           0.753846   \n",
       "\n",
       "   split1_test_score  split2_test_score  split3_test_score  split4_test_score  \\\n",
       "0           0.753846           0.754572           0.753609           0.753609   \n",
       "1           0.753846           0.754572           0.753609           0.753609   \n",
       "2           0.753846           0.754572           0.753609           0.753609   \n",
       "3           0.753846           0.754572           0.753609           0.753609   \n",
       "4           0.753846           0.754572           0.753609           0.753609   \n",
       "5           0.753846           0.754572           0.753609           0.753609   \n",
       "6           0.753846           0.754572           0.753609           0.753609   \n",
       "7           0.753846           0.754572           0.753609           0.753609   \n",
       "8           0.753846           0.754572           0.753609           0.753609   \n",
       "9           0.753846           0.754572           0.753609           0.753609   \n",
       "\n",
       "   mean_test_score  std_test_score  rank_test_score  \n",
       "0         0.753896        0.000354                1  \n",
       "1         0.753896        0.000354                1  \n",
       "2         0.753896        0.000354                1  \n",
       "3         0.753896        0.000354                1  \n",
       "4         0.753896        0.000354                1  \n",
       "5         0.753896        0.000354                1  \n",
       "6         0.753896        0.000354                1  \n",
       "7         0.753896        0.000354                1  \n",
       "8         0.753896        0.000354                1  \n",
       "9         0.753896        0.000354                1  "
      ]
     },
     "execution_count": 103,
     "metadata": {},
     "output_type": "execute_result"
    }
   ],
   "source": [
    "print(f'[ SearchCV.best_score_] {searchCV.best_score_}')\n",
    "print(f'[ SearchCV.best_estimator_] {searchCV.best_estimator_}')\n",
    "print(f'[ SearchCV.best_params_] {searchCV.best_params_}')\n",
    "\n",
    "cv_resultDF=pd.DataFrame(searchCV.cv_results_)\n",
    "cv_resultDF"
   ]
  },
  {
   "cell_type": "code",
   "execution_count": null,
   "metadata": {},
   "outputs": [],
   "source": []
  }
 ],
 "metadata": {
  "kernelspec": {
   "display_name": "ML_38",
   "language": "python",
   "name": "python3"
  },
  "language_info": {
   "codemirror_mode": {
    "name": "ipython",
    "version": 3
   },
   "file_extension": ".py",
   "mimetype": "text/x-python",
   "name": "python",
   "nbconvert_exporter": "python",
   "pygments_lexer": "ipython3",
   "version": "3.8.19"
  }
 },
 "nbformat": 4,
 "nbformat_minor": 2
}

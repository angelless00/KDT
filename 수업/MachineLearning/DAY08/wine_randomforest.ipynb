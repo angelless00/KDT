{
 "cells": [
  {
   "cell_type": "markdown",
   "metadata": {},
   "source": [
    "### Ensemble RandomForest\n",
    "- 배깅 방식의 앙상블 => 복원추출 랜덤샘플 + 동일 모델 (DecisionTree)\n",
    "    - 대표 알고리즘 : RandomForest C/R \n",
    "- 페이스트 방식의 앙상블 => 비복원추출 랜덤샘플 + 동일 모델 (DecisionTree)\n",
    "    - 대표 알고리즘 : ExtraTree C/T"
   ]
  },
  {
   "cell_type": "markdown",
   "metadata": {
    "vscode": {
     "languageId": "plaintext"
    }
   },
   "source": [
    "- 와인 분류 => 0과1 , 이진분류"
   ]
  },
  {
   "cell_type": "markdown",
   "metadata": {},
   "source": [
    "[1] 모듈 로딩 및 데이터 준비"
   ]
  },
  {
   "cell_type": "code",
   "execution_count": 97,
   "metadata": {},
   "outputs": [],
   "source": [
    "# 모듈로딩 및 데이터 준비\n",
    "import pandas as pd\n",
    "import numpy as np\n",
    "import matplotlib.pyplot as plt"
   ]
  },
  {
   "cell_type": "code",
   "execution_count": 98,
   "metadata": {},
   "outputs": [],
   "source": [
    "# 데이터\n",
    "DATA_FILE='../data/wine.csv'\n",
    "\n",
    "# CSV >> DataFrame\n",
    "wineDF=pd.read_csv(DATA_FILE)"
   ]
  },
  {
   "cell_type": "code",
   "execution_count": 99,
   "metadata": {},
   "outputs": [
    {
     "name": "stdout",
     "output_type": "stream",
     "text": [
      "<class 'pandas.core.frame.DataFrame'>\n",
      "RangeIndex: 6497 entries, 0 to 6496\n",
      "Data columns (total 4 columns):\n",
      " #   Column   Non-Null Count  Dtype  \n",
      "---  ------   --------------  -----  \n",
      " 0   alcohol  6497 non-null   float64\n",
      " 1   sugar    6497 non-null   float64\n",
      " 2   pH       6497 non-null   float64\n",
      " 3   class    6497 non-null   float64\n",
      "dtypes: float64(4)\n",
      "memory usage: 203.2 KB\n"
     ]
    }
   ],
   "source": [
    "# 데이터 확인\n",
    "wineDF.info()"
   ]
  },
  {
   "cell_type": "code",
   "execution_count": 100,
   "metadata": {},
   "outputs": [
    {
     "data": {
      "text/html": [
       "<div>\n",
       "<style scoped>\n",
       "    .dataframe tbody tr th:only-of-type {\n",
       "        vertical-align: middle;\n",
       "    }\n",
       "\n",
       "    .dataframe tbody tr th {\n",
       "        vertical-align: top;\n",
       "    }\n",
       "\n",
       "    .dataframe thead th {\n",
       "        text-align: right;\n",
       "    }\n",
       "</style>\n",
       "<table border=\"1\" class=\"dataframe\">\n",
       "  <thead>\n",
       "    <tr style=\"text-align: right;\">\n",
       "      <th></th>\n",
       "      <th>alcohol</th>\n",
       "      <th>sugar</th>\n",
       "      <th>pH</th>\n",
       "      <th>class</th>\n",
       "    </tr>\n",
       "  </thead>\n",
       "  <tbody>\n",
       "    <tr>\n",
       "      <th>0</th>\n",
       "      <td>9.4</td>\n",
       "      <td>1.9</td>\n",
       "      <td>3.51</td>\n",
       "      <td>0.0</td>\n",
       "    </tr>\n",
       "    <tr>\n",
       "      <th>1</th>\n",
       "      <td>9.8</td>\n",
       "      <td>2.6</td>\n",
       "      <td>3.20</td>\n",
       "      <td>0.0</td>\n",
       "    </tr>\n",
       "    <tr>\n",
       "      <th>2</th>\n",
       "      <td>9.8</td>\n",
       "      <td>2.3</td>\n",
       "      <td>3.26</td>\n",
       "      <td>0.0</td>\n",
       "    </tr>\n",
       "    <tr>\n",
       "      <th>3</th>\n",
       "      <td>9.8</td>\n",
       "      <td>1.9</td>\n",
       "      <td>3.16</td>\n",
       "      <td>0.0</td>\n",
       "    </tr>\n",
       "    <tr>\n",
       "      <th>4</th>\n",
       "      <td>9.4</td>\n",
       "      <td>1.9</td>\n",
       "      <td>3.51</td>\n",
       "      <td>0.0</td>\n",
       "    </tr>\n",
       "  </tbody>\n",
       "</table>\n",
       "</div>"
      ],
      "text/plain": [
       "   alcohol  sugar    pH  class\n",
       "0      9.4    1.9  3.51    0.0\n",
       "1      9.8    2.6  3.20    0.0\n",
       "2      9.8    2.3  3.26    0.0\n",
       "3      9.8    1.9  3.16    0.0\n",
       "4      9.4    1.9  3.51    0.0"
      ]
     },
     "execution_count": 100,
     "metadata": {},
     "output_type": "execute_result"
    }
   ],
   "source": [
    "wineDF.head()"
   ]
  },
  {
   "cell_type": "code",
   "execution_count": 101,
   "metadata": {},
   "outputs": [
    {
     "data": {
      "text/plain": [
       "class\n",
       "1.0    4898\n",
       "0.0    1599\n",
       "Name: count, dtype: int64"
      ]
     },
     "execution_count": 101,
     "metadata": {},
     "output_type": "execute_result"
    }
   ],
   "source": [
    "# 타겟/라벨의 클래스 분포\n",
    "wineDF['class'].value_counts()"
   ]
  },
  {
   "cell_type": "code",
   "execution_count": 102,
   "metadata": {},
   "outputs": [
    {
     "data": {
      "text/html": [
       "<div>\n",
       "<style scoped>\n",
       "    .dataframe tbody tr th:only-of-type {\n",
       "        vertical-align: middle;\n",
       "    }\n",
       "\n",
       "    .dataframe tbody tr th {\n",
       "        vertical-align: top;\n",
       "    }\n",
       "\n",
       "    .dataframe thead th {\n",
       "        text-align: right;\n",
       "    }\n",
       "</style>\n",
       "<table border=\"1\" class=\"dataframe\">\n",
       "  <thead>\n",
       "    <tr style=\"text-align: right;\">\n",
       "      <th></th>\n",
       "      <th>alcohol</th>\n",
       "      <th>sugar</th>\n",
       "      <th>pH</th>\n",
       "      <th>class</th>\n",
       "    </tr>\n",
       "  </thead>\n",
       "  <tbody>\n",
       "    <tr>\n",
       "      <th>count</th>\n",
       "      <td>6497.000000</td>\n",
       "      <td>6497.000000</td>\n",
       "      <td>6497.000000</td>\n",
       "      <td>6497.000000</td>\n",
       "    </tr>\n",
       "    <tr>\n",
       "      <th>mean</th>\n",
       "      <td>10.491801</td>\n",
       "      <td>5.443235</td>\n",
       "      <td>3.218501</td>\n",
       "      <td>0.753886</td>\n",
       "    </tr>\n",
       "    <tr>\n",
       "      <th>std</th>\n",
       "      <td>1.192712</td>\n",
       "      <td>4.757804</td>\n",
       "      <td>0.160787</td>\n",
       "      <td>0.430779</td>\n",
       "    </tr>\n",
       "    <tr>\n",
       "      <th>min</th>\n",
       "      <td>8.000000</td>\n",
       "      <td>0.600000</td>\n",
       "      <td>2.720000</td>\n",
       "      <td>0.000000</td>\n",
       "    </tr>\n",
       "    <tr>\n",
       "      <th>25%</th>\n",
       "      <td>9.500000</td>\n",
       "      <td>1.800000</td>\n",
       "      <td>3.110000</td>\n",
       "      <td>1.000000</td>\n",
       "    </tr>\n",
       "    <tr>\n",
       "      <th>50%</th>\n",
       "      <td>10.300000</td>\n",
       "      <td>3.000000</td>\n",
       "      <td>3.210000</td>\n",
       "      <td>1.000000</td>\n",
       "    </tr>\n",
       "    <tr>\n",
       "      <th>75%</th>\n",
       "      <td>11.300000</td>\n",
       "      <td>8.100000</td>\n",
       "      <td>3.320000</td>\n",
       "      <td>1.000000</td>\n",
       "    </tr>\n",
       "    <tr>\n",
       "      <th>max</th>\n",
       "      <td>14.900000</td>\n",
       "      <td>65.800000</td>\n",
       "      <td>4.010000</td>\n",
       "      <td>1.000000</td>\n",
       "    </tr>\n",
       "  </tbody>\n",
       "</table>\n",
       "</div>"
      ],
      "text/plain": [
       "           alcohol        sugar           pH        class\n",
       "count  6497.000000  6497.000000  6497.000000  6497.000000\n",
       "mean     10.491801     5.443235     3.218501     0.753886\n",
       "std       1.192712     4.757804     0.160787     0.430779\n",
       "min       8.000000     0.600000     2.720000     0.000000\n",
       "25%       9.500000     1.800000     3.110000     1.000000\n",
       "50%      10.300000     3.000000     3.210000     1.000000\n",
       "75%      11.300000     8.100000     3.320000     1.000000\n",
       "max      14.900000    65.800000     4.010000     1.000000"
      ]
     },
     "execution_count": 102,
     "metadata": {},
     "output_type": "execute_result"
    }
   ],
   "source": [
    "wineDF.describe()"
   ]
  },
  {
   "cell_type": "markdown",
   "metadata": {},
   "source": [
    "[2] 학습 준비"
   ]
  },
  {
   "cell_type": "code",
   "execution_count": 103,
   "metadata": {},
   "outputs": [],
   "source": [
    "\n",
    "from sklearn.model_selection import train_test_split"
   ]
  },
  {
   "cell_type": "code",
   "execution_count": 104,
   "metadata": {},
   "outputs": [
    {
     "name": "stdout",
     "output_type": "stream",
     "text": [
      "featureDF : (6497, 3), targetSR : (6497,)\n"
     ]
    }
   ],
   "source": [
    "# 피쳐/독립변수와 타겟/라벨/종속변수 분리\n",
    "featureDF=wineDF.drop(columns='class')\n",
    "targetSR=wineDF['class']\n",
    "\n",
    "print(f'featureDF : {featureDF.shape}, targetSR : {targetSR.shape}')"
   ]
  },
  {
   "cell_type": "code",
   "execution_count": 105,
   "metadata": {},
   "outputs": [],
   "source": [
    "# 학습용 & 테스트용 데이터셋 분할\n",
    "X_train,X_test,y_train,y_test=train_test_split(featureDF,targetSR,\n",
    "                                               test_size=0.2,\n",
    "                                               stratify=targetSR,\n",
    "                                               random_state=1)"
   ]
  },
  {
   "cell_type": "code",
   "execution_count": 106,
   "metadata": {},
   "outputs": [
    {
     "name": "stdout",
     "output_type": "stream",
     "text": [
      "X_train : (5197, 3), y_train : (5197,)\n",
      "X_test : (1300, 3), y_test : (1300,)\n"
     ]
    }
   ],
   "source": [
    "print(f'X_train : {X_train.shape}, y_train : {y_train.shape}')\n",
    "print(f'X_test : {X_test.shape}, y_test : {y_test.shape}')"
   ]
  },
  {
   "cell_type": "markdown",
   "metadata": {},
   "source": [
    "[3] 학습 진행"
   ]
  },
  {
   "cell_type": "code",
   "execution_count": 107,
   "metadata": {},
   "outputs": [],
   "source": [
    "# 학습방법 : 지도학습 > 분류\n",
    "# 알고리즘 : 앙상블 > 배깅 - RandomForestClassfier\n",
    "from sklearn.ensemble import RandomForestClassifier"
   ]
  },
  {
   "cell_type": "code",
   "execution_count": 108,
   "metadata": {},
   "outputs": [
    {
     "data": {
      "text/html": [
       "<style>#sk-container-id-8 {color: black;}#sk-container-id-8 pre{padding: 0;}#sk-container-id-8 div.sk-toggleable {background-color: white;}#sk-container-id-8 label.sk-toggleable__label {cursor: pointer;display: block;width: 100%;margin-bottom: 0;padding: 0.3em;box-sizing: border-box;text-align: center;}#sk-container-id-8 label.sk-toggleable__label-arrow:before {content: \"▸\";float: left;margin-right: 0.25em;color: #696969;}#sk-container-id-8 label.sk-toggleable__label-arrow:hover:before {color: black;}#sk-container-id-8 div.sk-estimator:hover label.sk-toggleable__label-arrow:before {color: black;}#sk-container-id-8 div.sk-toggleable__content {max-height: 0;max-width: 0;overflow: hidden;text-align: left;background-color: #f0f8ff;}#sk-container-id-8 div.sk-toggleable__content pre {margin: 0.2em;color: black;border-radius: 0.25em;background-color: #f0f8ff;}#sk-container-id-8 input.sk-toggleable__control:checked~div.sk-toggleable__content {max-height: 200px;max-width: 100%;overflow: auto;}#sk-container-id-8 input.sk-toggleable__control:checked~label.sk-toggleable__label-arrow:before {content: \"▾\";}#sk-container-id-8 div.sk-estimator input.sk-toggleable__control:checked~label.sk-toggleable__label {background-color: #d4ebff;}#sk-container-id-8 div.sk-label input.sk-toggleable__control:checked~label.sk-toggleable__label {background-color: #d4ebff;}#sk-container-id-8 input.sk-hidden--visually {border: 0;clip: rect(1px 1px 1px 1px);clip: rect(1px, 1px, 1px, 1px);height: 1px;margin: -1px;overflow: hidden;padding: 0;position: absolute;width: 1px;}#sk-container-id-8 div.sk-estimator {font-family: monospace;background-color: #f0f8ff;border: 1px dotted black;border-radius: 0.25em;box-sizing: border-box;margin-bottom: 0.5em;}#sk-container-id-8 div.sk-estimator:hover {background-color: #d4ebff;}#sk-container-id-8 div.sk-parallel-item::after {content: \"\";width: 100%;border-bottom: 1px solid gray;flex-grow: 1;}#sk-container-id-8 div.sk-label:hover label.sk-toggleable__label {background-color: #d4ebff;}#sk-container-id-8 div.sk-serial::before {content: \"\";position: absolute;border-left: 1px solid gray;box-sizing: border-box;top: 0;bottom: 0;left: 50%;z-index: 0;}#sk-container-id-8 div.sk-serial {display: flex;flex-direction: column;align-items: center;background-color: white;padding-right: 0.2em;padding-left: 0.2em;position: relative;}#sk-container-id-8 div.sk-item {position: relative;z-index: 1;}#sk-container-id-8 div.sk-parallel {display: flex;align-items: stretch;justify-content: center;background-color: white;position: relative;}#sk-container-id-8 div.sk-item::before, #sk-container-id-8 div.sk-parallel-item::before {content: \"\";position: absolute;border-left: 1px solid gray;box-sizing: border-box;top: 0;bottom: 0;left: 50%;z-index: -1;}#sk-container-id-8 div.sk-parallel-item {display: flex;flex-direction: column;z-index: 1;position: relative;background-color: white;}#sk-container-id-8 div.sk-parallel-item:first-child::after {align-self: flex-end;width: 50%;}#sk-container-id-8 div.sk-parallel-item:last-child::after {align-self: flex-start;width: 50%;}#sk-container-id-8 div.sk-parallel-item:only-child::after {width: 0;}#sk-container-id-8 div.sk-dashed-wrapped {border: 1px dashed gray;margin: 0 0.4em 0.5em 0.4em;box-sizing: border-box;padding-bottom: 0.4em;background-color: white;}#sk-container-id-8 div.sk-label label {font-family: monospace;font-weight: bold;display: inline-block;line-height: 1.2em;}#sk-container-id-8 div.sk-label-container {text-align: center;}#sk-container-id-8 div.sk-container {/* jupyter's `normalize.less` sets `[hidden] { display: none; }` but bootstrap.min.css set `[hidden] { display: none !important; }` so we also need the `!important` here to be able to override the default hidden behavior on the sphinx rendered scikit-learn.org. See: https://github.com/scikit-learn/scikit-learn/issues/21755 */display: inline-block !important;position: relative;}#sk-container-id-8 div.sk-text-repr-fallback {display: none;}</style><div id=\"sk-container-id-8\" class=\"sk-top-container\"><div class=\"sk-text-repr-fallback\"><pre>RandomForestClassifier(oob_score=True, random_state=7)</pre><b>In a Jupyter environment, please rerun this cell to show the HTML representation or trust the notebook. <br />On GitHub, the HTML representation is unable to render, please try loading this page with nbviewer.org.</b></div><div class=\"sk-container\" hidden><div class=\"sk-item\"><div class=\"sk-estimator sk-toggleable\"><input class=\"sk-toggleable__control sk-hidden--visually\" id=\"sk-estimator-id-12\" type=\"checkbox\" checked><label for=\"sk-estimator-id-12\" class=\"sk-toggleable__label sk-toggleable__label-arrow\">RandomForestClassifier</label><div class=\"sk-toggleable__content\"><pre>RandomForestClassifier(oob_score=True, random_state=7)</pre></div></div></div></div></div>"
      ],
      "text/plain": [
       "RandomForestClassifier(oob_score=True, random_state=7)"
      ]
     },
     "execution_count": 108,
     "metadata": {},
     "output_type": "execute_result"
    }
   ],
   "source": [
    "# 인스턴스 생성  => 100개의 내부 DT 모델에서 사용할 데이터셋 생성\n",
    "#                  random state 매개변수 설정으로 고정된 데이터셋 생성\n",
    "#                => oob_score : 샘플 데이터셋 추출 후 남은 데이터셋을 검증용으로 사용\n",
    "lf_model=RandomForestClassifier(random_state=7,\n",
    "                                oob_score=True)\n",
    "\n",
    "# 학습진행\n",
    "lf_model.fit(X_train,y_train)"
   ]
  },
  {
   "cell_type": "code",
   "execution_count": 109,
   "metadata": {},
   "outputs": [
    {
     "name": "stdout",
     "output_type": "stream",
     "text": [
      "lf_model.classes : [0. 1.]\n",
      "lf_model.n_classes : 2\n",
      "\n",
      "lf_model.feature_names_in_ : ['alcohol' 'sugar' 'pH']\n",
      "lf_model.feature_importances_ : [0.23572103 0.49995154 0.26432743]\n",
      "lf_model.n_features_in_ : 3\n"
     ]
    }
   ],
   "source": [
    "# 모델 파라미터\n",
    "print(f'lf_model.classes : {lf_model.classes_}')\n",
    "print(f'lf_model.n_classes : {lf_model.n_classes_}')\n",
    "print()\n",
    "print(f'lf_model.feature_names_in_ : {lf_model.feature_names_in_}')\n",
    "print(f'lf_model.feature_importances_ : {lf_model.feature_importances_}')\n",
    "print(f'lf_model.n_features_in_ : {lf_model.n_features_in_}')"
   ]
  },
  {
   "cell_type": "code",
   "execution_count": 110,
   "metadata": {},
   "outputs": [
    {
     "name": "stdout",
     "output_type": "stream",
     "text": [
      "lf_model.estimator_ : DecisionTreeClassifier()\n",
      "lf_model.estimators_ : [DecisionTreeClassifier(max_features='sqrt', random_state=327741615), DecisionTreeClassifier(max_features='sqrt', random_state=976413892), DecisionTreeClassifier(max_features='sqrt', random_state=1202242073), DecisionTreeClassifier(max_features='sqrt', random_state=1369975286), DecisionTreeClassifier(max_features='sqrt', random_state=1882953283), DecisionTreeClassifier(max_features='sqrt', random_state=2053951699), DecisionTreeClassifier(max_features='sqrt', random_state=959775639), DecisionTreeClassifier(max_features='sqrt', random_state=1956722279), DecisionTreeClassifier(max_features='sqrt', random_state=2052949340), DecisionTreeClassifier(max_features='sqrt', random_state=1322904761), DecisionTreeClassifier(max_features='sqrt', random_state=165338510), DecisionTreeClassifier(max_features='sqrt', random_state=1133316631), DecisionTreeClassifier(max_features='sqrt', random_state=4812360), DecisionTreeClassifier(max_features='sqrt', random_state=372560217), DecisionTreeClassifier(max_features='sqrt', random_state=309457262), DecisionTreeClassifier(max_features='sqrt', random_state=1801189930), DecisionTreeClassifier(max_features='sqrt', random_state=1152936666), DecisionTreeClassifier(max_features='sqrt', random_state=68334472), DecisionTreeClassifier(max_features='sqrt', random_state=2146978983), DecisionTreeClassifier(max_features='sqrt', random_state=119248870), DecisionTreeClassifier(max_features='sqrt', random_state=769786948), DecisionTreeClassifier(max_features='sqrt', random_state=1583990192), DecisionTreeClassifier(max_features='sqrt', random_state=1304549247), DecisionTreeClassifier(max_features='sqrt', random_state=1420943751), DecisionTreeClassifier(max_features='sqrt', random_state=1636129708), DecisionTreeClassifier(max_features='sqrt', random_state=1687674368), DecisionTreeClassifier(max_features='sqrt', random_state=283194443), DecisionTreeClassifier(max_features='sqrt', random_state=748743479), DecisionTreeClassifier(max_features='sqrt', random_state=1237575930), DecisionTreeClassifier(max_features='sqrt', random_state=740097030), DecisionTreeClassifier(max_features='sqrt', random_state=1759190803), DecisionTreeClassifier(max_features='sqrt', random_state=833359292), DecisionTreeClassifier(max_features='sqrt', random_state=916483116), DecisionTreeClassifier(max_features='sqrt', random_state=1485942463), DecisionTreeClassifier(max_features='sqrt', random_state=1941857605), DecisionTreeClassifier(max_features='sqrt', random_state=1844809528), DecisionTreeClassifier(max_features='sqrt', random_state=1852015768), DecisionTreeClassifier(max_features='sqrt', random_state=1127788727), DecisionTreeClassifier(max_features='sqrt', random_state=106941365), DecisionTreeClassifier(max_features='sqrt', random_state=1077017712), DecisionTreeClassifier(max_features='sqrt', random_state=431854331), DecisionTreeClassifier(max_features='sqrt', random_state=1094761661), DecisionTreeClassifier(max_features='sqrt', random_state=1933291456), DecisionTreeClassifier(max_features='sqrt', random_state=1508798754), DecisionTreeClassifier(max_features='sqrt', random_state=989143352), DecisionTreeClassifier(max_features='sqrt', random_state=747550921), DecisionTreeClassifier(max_features='sqrt', random_state=208262606), DecisionTreeClassifier(max_features='sqrt', random_state=1248819750), DecisionTreeClassifier(max_features='sqrt', random_state=1757192964), DecisionTreeClassifier(max_features='sqrt', random_state=1879603694), DecisionTreeClassifier(max_features='sqrt', random_state=571958409), DecisionTreeClassifier(max_features='sqrt', random_state=1927692119), DecisionTreeClassifier(max_features='sqrt', random_state=100556259), DecisionTreeClassifier(max_features='sqrt', random_state=1652057283), DecisionTreeClassifier(max_features='sqrt', random_state=1075502152), DecisionTreeClassifier(max_features='sqrt', random_state=1535344467), DecisionTreeClassifier(max_features='sqrt', random_state=725906352), DecisionTreeClassifier(max_features='sqrt', random_state=830456065), DecisionTreeClassifier(max_features='sqrt', random_state=2008983232), DecisionTreeClassifier(max_features='sqrt', random_state=431532432), DecisionTreeClassifier(max_features='sqrt', random_state=879820150), DecisionTreeClassifier(max_features='sqrt', random_state=2072909727), DecisionTreeClassifier(max_features='sqrt', random_state=2107823453), DecisionTreeClassifier(max_features='sqrt', random_state=488352684), DecisionTreeClassifier(max_features='sqrt', random_state=1599380060), DecisionTreeClassifier(max_features='sqrt', random_state=1938096892), DecisionTreeClassifier(max_features='sqrt', random_state=2050422343), DecisionTreeClassifier(max_features='sqrt', random_state=1497897239), DecisionTreeClassifier(max_features='sqrt', random_state=1571487242), DecisionTreeClassifier(max_features='sqrt', random_state=1187621609), DecisionTreeClassifier(max_features='sqrt', random_state=1451346723), DecisionTreeClassifier(max_features='sqrt', random_state=1917728192), DecisionTreeClassifier(max_features='sqrt', random_state=1153832253), DecisionTreeClassifier(max_features='sqrt', random_state=1966724487), DecisionTreeClassifier(max_features='sqrt', random_state=1348596887), DecisionTreeClassifier(max_features='sqrt', random_state=771276892), DecisionTreeClassifier(max_features='sqrt', random_state=311923447), DecisionTreeClassifier(max_features='sqrt', random_state=612959456), DecisionTreeClassifier(max_features='sqrt', random_state=1185621653), DecisionTreeClassifier(max_features='sqrt', random_state=358664548), DecisionTreeClassifier(max_features='sqrt', random_state=1944945571), DecisionTreeClassifier(max_features='sqrt', random_state=202873313), DecisionTreeClassifier(max_features='sqrt', random_state=1516030531), DecisionTreeClassifier(max_features='sqrt', random_state=1332338555), DecisionTreeClassifier(max_features='sqrt', random_state=676025563), DecisionTreeClassifier(max_features='sqrt', random_state=1214271969), DecisionTreeClassifier(max_features='sqrt', random_state=1590645779), DecisionTreeClassifier(max_features='sqrt', random_state=1808153499), DecisionTreeClassifier(max_features='sqrt', random_state=1971789316), DecisionTreeClassifier(max_features='sqrt', random_state=1861190419), DecisionTreeClassifier(max_features='sqrt', random_state=941989921), DecisionTreeClassifier(max_features='sqrt', random_state=1798548603), DecisionTreeClassifier(max_features='sqrt', random_state=1773786398), DecisionTreeClassifier(max_features='sqrt', random_state=2088312505), DecisionTreeClassifier(max_features='sqrt', random_state=1745574629), DecisionTreeClassifier(max_features='sqrt', random_state=1260873545), DecisionTreeClassifier(max_features='sqrt', random_state=775033821), DecisionTreeClassifier(max_features='sqrt', random_state=1474484177), DecisionTreeClassifier(max_features='sqrt', random_state=1035597695), DecisionTreeClassifier(max_features='sqrt', random_state=1289946527)]\n"
     ]
    }
   ],
   "source": [
    "print(f'lf_model.estimator_ : {lf_model.estimator_}')\n",
    "print(f'lf_model.estimators_ : {lf_model.estimators_}')"
   ]
  },
  {
   "cell_type": "code",
   "execution_count": 111,
   "metadata": {},
   "outputs": [],
   "source": [
    "#print(f'lf_model.estimators_samples_ : {lf_model.estimators_samples_}')"
   ]
  },
  {
   "cell_type": "code",
   "execution_count": 112,
   "metadata": {},
   "outputs": [
    {
     "name": "stdout",
     "output_type": "stream",
     "text": [
      "oob score : 0.89532422551472\n"
     ]
    }
   ],
   "source": [
    "print(f'oob score : {lf_model.oob_score_}')"
   ]
  },
  {
   "cell_type": "markdown",
   "metadata": {},
   "source": [
    "[4] 성능평가"
   ]
  },
  {
   "cell_type": "code",
   "execution_count": 113,
   "metadata": {},
   "outputs": [],
   "source": [
    "train_score=lf_model.score(X_train,y_train)\n",
    "test_score=lf_model.score(X_test,y_test)"
   ]
  },
  {
   "cell_type": "code",
   "execution_count": 114,
   "metadata": {},
   "outputs": [
    {
     "name": "stdout",
     "output_type": "stream",
     "text": [
      "train_score : 0.9973061381566288, test_score : 0.9\n"
     ]
    }
   ],
   "source": [
    "print(f'train_score : {train_score}, test_score : {test_score}')"
   ]
  },
  {
   "cell_type": "markdown",
   "metadata": {},
   "source": [
    "[5] 튜닝"
   ]
  },
  {
   "cell_type": "markdown",
   "metadata": {},
   "source": [
    "- RandomizedSearchCV 하이퍼파라미터 최적화 클래스  \n",
    "    - 범위가 넓은 하이퍼파라미터 설정에 좋음\n",
    "    - 지정된 범위에서 지정된 횟수만큼 하이퍼파라미터 추출하여 조합 진행"
   ]
  },
  {
   "cell_type": "code",
   "execution_count": 115,
   "metadata": {},
   "outputs": [],
   "source": [
    "# 모듈 로딩\n",
    "from sklearn.model_selection import RandomizedSearchCV"
   ]
  },
  {
   "cell_type": "code",
   "execution_count": 116,
   "metadata": {},
   "outputs": [],
   "source": [
    "# RandomForestClassfier 하이퍼 파라미터 설정\n",
    "params={'max_depth':range(2,16),'min_samples_leaf':range(5,16)}"
   ]
  },
  {
   "cell_type": "code",
   "execution_count": 117,
   "metadata": {},
   "outputs": [],
   "source": [
    "rf_model=RandomForestClassifier()"
   ]
  },
  {
   "cell_type": "code",
   "execution_count": 118,
   "metadata": {},
   "outputs": [],
   "source": [
    "searchCV=RandomizedSearchCV(rf_model,\n",
    "                            param_distributions=params,\n",
    "                            verbose=4)"
   ]
  },
  {
   "cell_type": "code",
   "execution_count": 119,
   "metadata": {},
   "outputs": [
    {
     "name": "stdout",
     "output_type": "stream",
     "text": [
      "Fitting 5 folds for each of 10 candidates, totalling 50 fits\n",
      "[CV 1/5] END ...max_depth=8, min_samples_leaf=5;, score=0.869 total time=   0.2s\n",
      "[CV 2/5] END ...max_depth=8, min_samples_leaf=5;, score=0.839 total time=   0.2s\n",
      "[CV 3/5] END ...max_depth=8, min_samples_leaf=5;, score=0.879 total time=   0.2s\n",
      "[CV 4/5] END ...max_depth=8, min_samples_leaf=5;, score=0.873 total time=   0.2s\n",
      "[CV 5/5] END ...max_depth=8, min_samples_leaf=5;, score=0.863 total time=   0.2s\n",
      "[CV 1/5] END ..max_depth=4, min_samples_leaf=12;, score=0.854 total time=   0.1s\n",
      "[CV 2/5] END ..max_depth=4, min_samples_leaf=12;, score=0.838 total time=   0.1s\n",
      "[CV 3/5] END ..max_depth=4, min_samples_leaf=12;, score=0.853 total time=   0.1s\n",
      "[CV 4/5] END ..max_depth=4, min_samples_leaf=12;, score=0.868 total time=   0.1s\n",
      "[CV 5/5] END ..max_depth=4, min_samples_leaf=12;, score=0.849 total time=   0.1s\n",
      "[CV 1/5] END ..max_depth=2, min_samples_leaf=12;, score=0.754 total time=   0.0s\n",
      "[CV 2/5] END ..max_depth=2, min_samples_leaf=12;, score=0.780 total time=   0.0s\n",
      "[CV 3/5] END ..max_depth=2, min_samples_leaf=12;, score=0.756 total time=   0.0s\n",
      "[CV 4/5] END ..max_depth=2, min_samples_leaf=12;, score=0.754 total time=   0.0s\n",
      "[CV 5/5] END ..max_depth=2, min_samples_leaf=12;, score=0.754 total time=   0.1s\n",
      "[CV 1/5] END ..max_depth=14, min_samples_leaf=9;, score=0.875 total time=   0.2s\n",
      "[CV 2/5] END ..max_depth=14, min_samples_leaf=9;, score=0.837 total time=   0.2s\n",
      "[CV 3/5] END ..max_depth=14, min_samples_leaf=9;, score=0.879 total time=   0.2s\n",
      "[CV 4/5] END ..max_depth=14, min_samples_leaf=9;, score=0.883 total time=   0.2s\n",
      "[CV 5/5] END ..max_depth=14, min_samples_leaf=9;, score=0.870 total time=   0.2s\n",
      "[CV 1/5] END ..max_depth=3, min_samples_leaf=10;, score=0.812 total time=   0.1s\n",
      "[CV 2/5] END ..max_depth=3, min_samples_leaf=10;, score=0.829 total time=   0.1s\n",
      "[CV 3/5] END ..max_depth=3, min_samples_leaf=10;, score=0.840 total time=   0.1s\n",
      "[CV 4/5] END ..max_depth=3, min_samples_leaf=10;, score=0.854 total time=   0.1s\n",
      "[CV 5/5] END ..max_depth=3, min_samples_leaf=10;, score=0.836 total time=   0.1s\n",
      "[CV 1/5] END ...max_depth=7, min_samples_leaf=6;, score=0.865 total time=   0.1s\n",
      "[CV 2/5] END ...max_depth=7, min_samples_leaf=6;, score=0.838 total time=   0.1s\n",
      "[CV 3/5] END ...max_depth=7, min_samples_leaf=6;, score=0.878 total time=   0.1s\n",
      "[CV 4/5] END ...max_depth=7, min_samples_leaf=6;, score=0.874 total time=   0.1s\n",
      "[CV 5/5] END ...max_depth=7, min_samples_leaf=6;, score=0.868 total time=   0.1s\n",
      "[CV 1/5] END ..max_depth=12, min_samples_leaf=8;, score=0.878 total time=   0.2s\n",
      "[CV 2/5] END ..max_depth=12, min_samples_leaf=8;, score=0.840 total time=   0.2s\n",
      "[CV 3/5] END ..max_depth=12, min_samples_leaf=8;, score=0.876 total time=   0.2s\n",
      "[CV 4/5] END ..max_depth=12, min_samples_leaf=8;, score=0.885 total time=   0.2s\n",
      "[CV 5/5] END ..max_depth=12, min_samples_leaf=8;, score=0.879 total time=   0.2s\n",
      "[CV 1/5] END .max_depth=13, min_samples_leaf=14;, score=0.872 total time=   0.1s\n",
      "[CV 2/5] END .max_depth=13, min_samples_leaf=14;, score=0.835 total time=   0.2s\n",
      "[CV 3/5] END .max_depth=13, min_samples_leaf=14;, score=0.878 total time=   0.2s\n",
      "[CV 4/5] END .max_depth=13, min_samples_leaf=14;, score=0.880 total time=   0.2s\n",
      "[CV 5/5] END .max_depth=13, min_samples_leaf=14;, score=0.866 total time=   0.2s\n",
      "[CV 1/5] END .max_depth=11, min_samples_leaf=10;, score=0.879 total time=   0.2s\n",
      "[CV 2/5] END .max_depth=11, min_samples_leaf=10;, score=0.837 total time=   0.2s\n",
      "[CV 3/5] END .max_depth=11, min_samples_leaf=10;, score=0.879 total time=   0.2s\n",
      "[CV 4/5] END .max_depth=11, min_samples_leaf=10;, score=0.884 total time=   0.2s\n",
      "[CV 5/5] END .max_depth=11, min_samples_leaf=10;, score=0.871 total time=   0.2s\n",
      "[CV 1/5] END ..max_depth=6, min_samples_leaf=12;, score=0.864 total time=   0.1s\n",
      "[CV 2/5] END ..max_depth=6, min_samples_leaf=12;, score=0.837 total time=   0.1s\n",
      "[CV 3/5] END ..max_depth=6, min_samples_leaf=12;, score=0.881 total time=   0.1s\n",
      "[CV 4/5] END ..max_depth=6, min_samples_leaf=12;, score=0.880 total time=   0.1s\n",
      "[CV 5/5] END ..max_depth=6, min_samples_leaf=12;, score=0.862 total time=   0.1s\n"
     ]
    },
    {
     "data": {
      "text/html": [
       "<style>#sk-container-id-9 {color: black;}#sk-container-id-9 pre{padding: 0;}#sk-container-id-9 div.sk-toggleable {background-color: white;}#sk-container-id-9 label.sk-toggleable__label {cursor: pointer;display: block;width: 100%;margin-bottom: 0;padding: 0.3em;box-sizing: border-box;text-align: center;}#sk-container-id-9 label.sk-toggleable__label-arrow:before {content: \"▸\";float: left;margin-right: 0.25em;color: #696969;}#sk-container-id-9 label.sk-toggleable__label-arrow:hover:before {color: black;}#sk-container-id-9 div.sk-estimator:hover label.sk-toggleable__label-arrow:before {color: black;}#sk-container-id-9 div.sk-toggleable__content {max-height: 0;max-width: 0;overflow: hidden;text-align: left;background-color: #f0f8ff;}#sk-container-id-9 div.sk-toggleable__content pre {margin: 0.2em;color: black;border-radius: 0.25em;background-color: #f0f8ff;}#sk-container-id-9 input.sk-toggleable__control:checked~div.sk-toggleable__content {max-height: 200px;max-width: 100%;overflow: auto;}#sk-container-id-9 input.sk-toggleable__control:checked~label.sk-toggleable__label-arrow:before {content: \"▾\";}#sk-container-id-9 div.sk-estimator input.sk-toggleable__control:checked~label.sk-toggleable__label {background-color: #d4ebff;}#sk-container-id-9 div.sk-label input.sk-toggleable__control:checked~label.sk-toggleable__label {background-color: #d4ebff;}#sk-container-id-9 input.sk-hidden--visually {border: 0;clip: rect(1px 1px 1px 1px);clip: rect(1px, 1px, 1px, 1px);height: 1px;margin: -1px;overflow: hidden;padding: 0;position: absolute;width: 1px;}#sk-container-id-9 div.sk-estimator {font-family: monospace;background-color: #f0f8ff;border: 1px dotted black;border-radius: 0.25em;box-sizing: border-box;margin-bottom: 0.5em;}#sk-container-id-9 div.sk-estimator:hover {background-color: #d4ebff;}#sk-container-id-9 div.sk-parallel-item::after {content: \"\";width: 100%;border-bottom: 1px solid gray;flex-grow: 1;}#sk-container-id-9 div.sk-label:hover label.sk-toggleable__label {background-color: #d4ebff;}#sk-container-id-9 div.sk-serial::before {content: \"\";position: absolute;border-left: 1px solid gray;box-sizing: border-box;top: 0;bottom: 0;left: 50%;z-index: 0;}#sk-container-id-9 div.sk-serial {display: flex;flex-direction: column;align-items: center;background-color: white;padding-right: 0.2em;padding-left: 0.2em;position: relative;}#sk-container-id-9 div.sk-item {position: relative;z-index: 1;}#sk-container-id-9 div.sk-parallel {display: flex;align-items: stretch;justify-content: center;background-color: white;position: relative;}#sk-container-id-9 div.sk-item::before, #sk-container-id-9 div.sk-parallel-item::before {content: \"\";position: absolute;border-left: 1px solid gray;box-sizing: border-box;top: 0;bottom: 0;left: 50%;z-index: -1;}#sk-container-id-9 div.sk-parallel-item {display: flex;flex-direction: column;z-index: 1;position: relative;background-color: white;}#sk-container-id-9 div.sk-parallel-item:first-child::after {align-self: flex-end;width: 50%;}#sk-container-id-9 div.sk-parallel-item:last-child::after {align-self: flex-start;width: 50%;}#sk-container-id-9 div.sk-parallel-item:only-child::after {width: 0;}#sk-container-id-9 div.sk-dashed-wrapped {border: 1px dashed gray;margin: 0 0.4em 0.5em 0.4em;box-sizing: border-box;padding-bottom: 0.4em;background-color: white;}#sk-container-id-9 div.sk-label label {font-family: monospace;font-weight: bold;display: inline-block;line-height: 1.2em;}#sk-container-id-9 div.sk-label-container {text-align: center;}#sk-container-id-9 div.sk-container {/* jupyter's `normalize.less` sets `[hidden] { display: none; }` but bootstrap.min.css set `[hidden] { display: none !important; }` so we also need the `!important` here to be able to override the default hidden behavior on the sphinx rendered scikit-learn.org. See: https://github.com/scikit-learn/scikit-learn/issues/21755 */display: inline-block !important;position: relative;}#sk-container-id-9 div.sk-text-repr-fallback {display: none;}</style><div id=\"sk-container-id-9\" class=\"sk-top-container\"><div class=\"sk-text-repr-fallback\"><pre>RandomizedSearchCV(estimator=RandomForestClassifier(),\n",
       "                   param_distributions={&#x27;max_depth&#x27;: range(2, 16),\n",
       "                                        &#x27;min_samples_leaf&#x27;: range(5, 16)},\n",
       "                   verbose=4)</pre><b>In a Jupyter environment, please rerun this cell to show the HTML representation or trust the notebook. <br />On GitHub, the HTML representation is unable to render, please try loading this page with nbviewer.org.</b></div><div class=\"sk-container\" hidden><div class=\"sk-item sk-dashed-wrapped\"><div class=\"sk-label-container\"><div class=\"sk-label sk-toggleable\"><input class=\"sk-toggleable__control sk-hidden--visually\" id=\"sk-estimator-id-13\" type=\"checkbox\" ><label for=\"sk-estimator-id-13\" class=\"sk-toggleable__label sk-toggleable__label-arrow\">RandomizedSearchCV</label><div class=\"sk-toggleable__content\"><pre>RandomizedSearchCV(estimator=RandomForestClassifier(),\n",
       "                   param_distributions={&#x27;max_depth&#x27;: range(2, 16),\n",
       "                                        &#x27;min_samples_leaf&#x27;: range(5, 16)},\n",
       "                   verbose=4)</pre></div></div></div><div class=\"sk-parallel\"><div class=\"sk-parallel-item\"><div class=\"sk-item\"><div class=\"sk-label-container\"><div class=\"sk-label sk-toggleable\"><input class=\"sk-toggleable__control sk-hidden--visually\" id=\"sk-estimator-id-14\" type=\"checkbox\" ><label for=\"sk-estimator-id-14\" class=\"sk-toggleable__label sk-toggleable__label-arrow\">estimator: RandomForestClassifier</label><div class=\"sk-toggleable__content\"><pre>RandomForestClassifier()</pre></div></div></div><div class=\"sk-serial\"><div class=\"sk-item\"><div class=\"sk-estimator sk-toggleable\"><input class=\"sk-toggleable__control sk-hidden--visually\" id=\"sk-estimator-id-15\" type=\"checkbox\" ><label for=\"sk-estimator-id-15\" class=\"sk-toggleable__label sk-toggleable__label-arrow\">RandomForestClassifier</label><div class=\"sk-toggleable__content\"><pre>RandomForestClassifier()</pre></div></div></div></div></div></div></div></div></div></div>"
      ],
      "text/plain": [
       "RandomizedSearchCV(estimator=RandomForestClassifier(),\n",
       "                   param_distributions={'max_depth': range(2, 16),\n",
       "                                        'min_samples_leaf': range(5, 16)},\n",
       "                   verbose=4)"
      ]
     },
     "execution_count": 119,
     "metadata": {},
     "output_type": "execute_result"
    }
   ],
   "source": [
    "searchCV.fit(X_train,y_train)"
   ]
  },
  {
   "cell_type": "code",
   "execution_count": 120,
   "metadata": {},
   "outputs": [
    {
     "name": "stdout",
     "output_type": "stream",
     "text": [
      "[ SearchCV.best_score_] 0.871661545865107\n",
      "[ SearchCV.best_estimator_] RandomForestClassifier(max_depth=12, min_samples_leaf=8)\n",
      "[ SearchCV.best_params_] {'min_samples_leaf': 8, 'max_depth': 12}\n"
     ]
    },
    {
     "data": {
      "text/html": [
       "<div>\n",
       "<style scoped>\n",
       "    .dataframe tbody tr th:only-of-type {\n",
       "        vertical-align: middle;\n",
       "    }\n",
       "\n",
       "    .dataframe tbody tr th {\n",
       "        vertical-align: top;\n",
       "    }\n",
       "\n",
       "    .dataframe thead th {\n",
       "        text-align: right;\n",
       "    }\n",
       "</style>\n",
       "<table border=\"1\" class=\"dataframe\">\n",
       "  <thead>\n",
       "    <tr style=\"text-align: right;\">\n",
       "      <th></th>\n",
       "      <th>mean_fit_time</th>\n",
       "      <th>std_fit_time</th>\n",
       "      <th>mean_score_time</th>\n",
       "      <th>std_score_time</th>\n",
       "      <th>param_min_samples_leaf</th>\n",
       "      <th>param_max_depth</th>\n",
       "      <th>params</th>\n",
       "      <th>split0_test_score</th>\n",
       "      <th>split1_test_score</th>\n",
       "      <th>split2_test_score</th>\n",
       "      <th>split3_test_score</th>\n",
       "      <th>split4_test_score</th>\n",
       "      <th>mean_test_score</th>\n",
       "      <th>std_test_score</th>\n",
       "      <th>rank_test_score</th>\n",
       "    </tr>\n",
       "  </thead>\n",
       "  <tbody>\n",
       "    <tr>\n",
       "      <th>0</th>\n",
       "      <td>0.260507</td>\n",
       "      <td>0.031217</td>\n",
       "      <td>0.016269</td>\n",
       "      <td>0.001493</td>\n",
       "      <td>5</td>\n",
       "      <td>8</td>\n",
       "      <td>{'min_samples_leaf': 5, 'max_depth': 8}</td>\n",
       "      <td>0.869231</td>\n",
       "      <td>0.839423</td>\n",
       "      <td>0.878730</td>\n",
       "      <td>0.872955</td>\n",
       "      <td>0.863330</td>\n",
       "      <td>0.864734</td>\n",
       "      <td>0.013611</td>\n",
       "      <td>6</td>\n",
       "    </tr>\n",
       "    <tr>\n",
       "      <th>1</th>\n",
       "      <td>0.164241</td>\n",
       "      <td>0.001954</td>\n",
       "      <td>0.010574</td>\n",
       "      <td>0.000468</td>\n",
       "      <td>12</td>\n",
       "      <td>4</td>\n",
       "      <td>{'min_samples_leaf': 12, 'max_depth': 4}</td>\n",
       "      <td>0.853846</td>\n",
       "      <td>0.838462</td>\n",
       "      <td>0.852743</td>\n",
       "      <td>0.868142</td>\n",
       "      <td>0.848893</td>\n",
       "      <td>0.852417</td>\n",
       "      <td>0.009556</td>\n",
       "      <td>8</td>\n",
       "    </tr>\n",
       "    <tr>\n",
       "      <th>2</th>\n",
       "      <td>0.136906</td>\n",
       "      <td>0.005066</td>\n",
       "      <td>0.010168</td>\n",
       "      <td>0.001168</td>\n",
       "      <td>12</td>\n",
       "      <td>2</td>\n",
       "      <td>{'min_samples_leaf': 12, 'max_depth': 2}</td>\n",
       "      <td>0.753846</td>\n",
       "      <td>0.779808</td>\n",
       "      <td>0.756497</td>\n",
       "      <td>0.753609</td>\n",
       "      <td>0.753609</td>\n",
       "      <td>0.759474</td>\n",
       "      <td>0.010225</td>\n",
       "      <td>10</td>\n",
       "    </tr>\n",
       "    <tr>\n",
       "      <th>3</th>\n",
       "      <td>0.261355</td>\n",
       "      <td>0.006512</td>\n",
       "      <td>0.015719</td>\n",
       "      <td>0.000972</td>\n",
       "      <td>9</td>\n",
       "      <td>14</td>\n",
       "      <td>{'min_samples_leaf': 9, 'max_depth': 14}</td>\n",
       "      <td>0.875000</td>\n",
       "      <td>0.836538</td>\n",
       "      <td>0.878730</td>\n",
       "      <td>0.882579</td>\n",
       "      <td>0.870067</td>\n",
       "      <td>0.868583</td>\n",
       "      <td>0.016547</td>\n",
       "      <td>3</td>\n",
       "    </tr>\n",
       "    <tr>\n",
       "      <th>4</th>\n",
       "      <td>0.154194</td>\n",
       "      <td>0.004441</td>\n",
       "      <td>0.009953</td>\n",
       "      <td>0.000611</td>\n",
       "      <td>10</td>\n",
       "      <td>3</td>\n",
       "      <td>{'min_samples_leaf': 10, 'max_depth': 3}</td>\n",
       "      <td>0.811538</td>\n",
       "      <td>0.828846</td>\n",
       "      <td>0.840231</td>\n",
       "      <td>0.853705</td>\n",
       "      <td>0.836381</td>\n",
       "      <td>0.834140</td>\n",
       "      <td>0.013884</td>\n",
       "      <td>9</td>\n",
       "    </tr>\n",
       "    <tr>\n",
       "      <th>5</th>\n",
       "      <td>0.219583</td>\n",
       "      <td>0.002730</td>\n",
       "      <td>0.014445</td>\n",
       "      <td>0.001136</td>\n",
       "      <td>6</td>\n",
       "      <td>7</td>\n",
       "      <td>{'min_samples_leaf': 6, 'max_depth': 7}</td>\n",
       "      <td>0.865385</td>\n",
       "      <td>0.837500</td>\n",
       "      <td>0.877767</td>\n",
       "      <td>0.873917</td>\n",
       "      <td>0.868142</td>\n",
       "      <td>0.864542</td>\n",
       "      <td>0.014197</td>\n",
       "      <td>7</td>\n",
       "    </tr>\n",
       "    <tr>\n",
       "      <th>6</th>\n",
       "      <td>0.264130</td>\n",
       "      <td>0.006522</td>\n",
       "      <td>0.015167</td>\n",
       "      <td>0.000413</td>\n",
       "      <td>8</td>\n",
       "      <td>12</td>\n",
       "      <td>{'min_samples_leaf': 8, 'max_depth': 12}</td>\n",
       "      <td>0.877885</td>\n",
       "      <td>0.840385</td>\n",
       "      <td>0.875842</td>\n",
       "      <td>0.885467</td>\n",
       "      <td>0.878730</td>\n",
       "      <td>0.871662</td>\n",
       "      <td>0.015969</td>\n",
       "      <td>1</td>\n",
       "    </tr>\n",
       "    <tr>\n",
       "      <th>7</th>\n",
       "      <td>0.235293</td>\n",
       "      <td>0.003223</td>\n",
       "      <td>0.015256</td>\n",
       "      <td>0.000380</td>\n",
       "      <td>14</td>\n",
       "      <td>13</td>\n",
       "      <td>{'min_samples_leaf': 14, 'max_depth': 13}</td>\n",
       "      <td>0.872115</td>\n",
       "      <td>0.834615</td>\n",
       "      <td>0.877767</td>\n",
       "      <td>0.879692</td>\n",
       "      <td>0.866218</td>\n",
       "      <td>0.866081</td>\n",
       "      <td>0.016422</td>\n",
       "      <td>4</td>\n",
       "    </tr>\n",
       "    <tr>\n",
       "      <th>8</th>\n",
       "      <td>0.249707</td>\n",
       "      <td>0.001706</td>\n",
       "      <td>0.016228</td>\n",
       "      <td>0.000850</td>\n",
       "      <td>10</td>\n",
       "      <td>11</td>\n",
       "      <td>{'min_samples_leaf': 10, 'max_depth': 11}</td>\n",
       "      <td>0.878846</td>\n",
       "      <td>0.836538</td>\n",
       "      <td>0.878730</td>\n",
       "      <td>0.883542</td>\n",
       "      <td>0.871030</td>\n",
       "      <td>0.869737</td>\n",
       "      <td>0.017078</td>\n",
       "      <td>2</td>\n",
       "    </tr>\n",
       "    <tr>\n",
       "      <th>9</th>\n",
       "      <td>0.198658</td>\n",
       "      <td>0.003107</td>\n",
       "      <td>0.013595</td>\n",
       "      <td>0.000538</td>\n",
       "      <td>12</td>\n",
       "      <td>6</td>\n",
       "      <td>{'min_samples_leaf': 12, 'max_depth': 6}</td>\n",
       "      <td>0.864423</td>\n",
       "      <td>0.836538</td>\n",
       "      <td>0.880654</td>\n",
       "      <td>0.879692</td>\n",
       "      <td>0.862368</td>\n",
       "      <td>0.864735</td>\n",
       "      <td>0.015987</td>\n",
       "      <td>5</td>\n",
       "    </tr>\n",
       "  </tbody>\n",
       "</table>\n",
       "</div>"
      ],
      "text/plain": [
       "   mean_fit_time  std_fit_time  mean_score_time  std_score_time  \\\n",
       "0       0.260507      0.031217         0.016269        0.001493   \n",
       "1       0.164241      0.001954         0.010574        0.000468   \n",
       "2       0.136906      0.005066         0.010168        0.001168   \n",
       "3       0.261355      0.006512         0.015719        0.000972   \n",
       "4       0.154194      0.004441         0.009953        0.000611   \n",
       "5       0.219583      0.002730         0.014445        0.001136   \n",
       "6       0.264130      0.006522         0.015167        0.000413   \n",
       "7       0.235293      0.003223         0.015256        0.000380   \n",
       "8       0.249707      0.001706         0.016228        0.000850   \n",
       "9       0.198658      0.003107         0.013595        0.000538   \n",
       "\n",
       "  param_min_samples_leaf param_max_depth  \\\n",
       "0                      5               8   \n",
       "1                     12               4   \n",
       "2                     12               2   \n",
       "3                      9              14   \n",
       "4                     10               3   \n",
       "5                      6               7   \n",
       "6                      8              12   \n",
       "7                     14              13   \n",
       "8                     10              11   \n",
       "9                     12               6   \n",
       "\n",
       "                                      params  split0_test_score  \\\n",
       "0    {'min_samples_leaf': 5, 'max_depth': 8}           0.869231   \n",
       "1   {'min_samples_leaf': 12, 'max_depth': 4}           0.853846   \n",
       "2   {'min_samples_leaf': 12, 'max_depth': 2}           0.753846   \n",
       "3   {'min_samples_leaf': 9, 'max_depth': 14}           0.875000   \n",
       "4   {'min_samples_leaf': 10, 'max_depth': 3}           0.811538   \n",
       "5    {'min_samples_leaf': 6, 'max_depth': 7}           0.865385   \n",
       "6   {'min_samples_leaf': 8, 'max_depth': 12}           0.877885   \n",
       "7  {'min_samples_leaf': 14, 'max_depth': 13}           0.872115   \n",
       "8  {'min_samples_leaf': 10, 'max_depth': 11}           0.878846   \n",
       "9   {'min_samples_leaf': 12, 'max_depth': 6}           0.864423   \n",
       "\n",
       "   split1_test_score  split2_test_score  split3_test_score  split4_test_score  \\\n",
       "0           0.839423           0.878730           0.872955           0.863330   \n",
       "1           0.838462           0.852743           0.868142           0.848893   \n",
       "2           0.779808           0.756497           0.753609           0.753609   \n",
       "3           0.836538           0.878730           0.882579           0.870067   \n",
       "4           0.828846           0.840231           0.853705           0.836381   \n",
       "5           0.837500           0.877767           0.873917           0.868142   \n",
       "6           0.840385           0.875842           0.885467           0.878730   \n",
       "7           0.834615           0.877767           0.879692           0.866218   \n",
       "8           0.836538           0.878730           0.883542           0.871030   \n",
       "9           0.836538           0.880654           0.879692           0.862368   \n",
       "\n",
       "   mean_test_score  std_test_score  rank_test_score  \n",
       "0         0.864734        0.013611                6  \n",
       "1         0.852417        0.009556                8  \n",
       "2         0.759474        0.010225               10  \n",
       "3         0.868583        0.016547                3  \n",
       "4         0.834140        0.013884                9  \n",
       "5         0.864542        0.014197                7  \n",
       "6         0.871662        0.015969                1  \n",
       "7         0.866081        0.016422                4  \n",
       "8         0.869737        0.017078                2  \n",
       "9         0.864735        0.015987                5  "
      ]
     },
     "execution_count": 120,
     "metadata": {},
     "output_type": "execute_result"
    }
   ],
   "source": [
    "print(f'[ SearchCV.best_score_] {searchCV.best_score_}')\n",
    "print(f'[ SearchCV.best_estimator_] {searchCV.best_estimator_}')\n",
    "print(f'[ SearchCV.best_params_] {searchCV.best_params_}')\n",
    "\n",
    "cv_resultDF=pd.DataFrame(searchCV.cv_results_)\n",
    "cv_resultDF"
   ]
  },
  {
   "cell_type": "code",
   "execution_count": null,
   "metadata": {},
   "outputs": [],
   "source": []
  }
 ],
 "metadata": {
  "kernelspec": {
   "display_name": "ML_38",
   "language": "python",
   "name": "python3"
  },
  "language_info": {
   "codemirror_mode": {
    "name": "ipython",
    "version": 3
   },
   "file_extension": ".py",
   "mimetype": "text/x-python",
   "name": "python",
   "nbconvert_exporter": "python",
   "pygments_lexer": "ipython3",
   "version": "3.8.19"
  }
 },
 "nbformat": 4,
 "nbformat_minor": 2
}

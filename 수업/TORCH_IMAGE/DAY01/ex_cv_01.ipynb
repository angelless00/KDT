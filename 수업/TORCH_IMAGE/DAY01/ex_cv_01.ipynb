{
 "cells": [
  {
   "cell_type": "markdown",
   "metadata": {},
   "source": [
    "### OpenCV 기본 사용법"
   ]
  },
  {
   "cell_type": "code",
   "execution_count": 2,
   "metadata": {},
   "outputs": [],
   "source": [
    "import cv2\n",
    "import os\n",
    "import numpy as np"
   ]
  },
  {
   "cell_type": "code",
   "execution_count": 3,
   "metadata": {},
   "outputs": [],
   "source": [
    "# 이미지관련 공통변수\n",
    "IMG_DIR='../image/'"
   ]
  },
  {
   "cell_type": "markdown",
   "metadata": {},
   "source": [
    "[1] 이미지 읽기 ==> ndarray"
   ]
  },
  {
   "cell_type": "code",
   "execution_count": 4,
   "metadata": {},
   "outputs": [],
   "source": [
    "# 이미지 파일 경로 + 파일명\n",
    "IMG_FILE=IMG_DIR+'logo.png'\n",
    "\n",
    "# 이미지 불러오기\n",
    "im_data=cv2.imread(IMG_FILE)\n",
    "gray_data=cv2.imread(IMG_FILE,flags=cv2.IMREAD_GRAYSCALE)"
   ]
  },
  {
   "cell_type": "code",
   "execution_count": 5,
   "metadata": {},
   "outputs": [
    {
     "name": "stdout",
     "output_type": "stream",
     "text": [
      "[im_data]\n",
      "shape (184, 544, 3)\n",
      "ndim 3D\n",
      "[gray_data]\n",
      "shape (184, 544)\n",
      "ndim 2D\n"
     ]
    }
   ],
   "source": [
    "# 이미지 데이터 속성\n",
    "print('[im_data]')\n",
    "print(f'shape {im_data.shape}')\n",
    "print(f'ndim {im_data.ndim}D')\n",
    "\n",
    "print('[gray_data]')\n",
    "print(f'shape {gray_data.shape}')\n",
    "print(f'ndim {gray_data.ndim}D')"
   ]
  },
  {
   "cell_type": "markdown",
   "metadata": {},
   "source": [
    "[2] 이미지 화면 출력 ==> imshow()"
   ]
  },
  {
   "cell_type": "code",
   "execution_count": 5,
   "metadata": {},
   "outputs": [],
   "source": [
    "# cv2.imshow('[IM_DATA]',im_data)\n",
    "# cv2.waitKeyEx()"
   ]
  },
  {
   "cell_type": "code",
   "execution_count": 6,
   "metadata": {},
   "outputs": [
    {
     "name": "stdout",
     "output_type": "stream",
     "text": [
      "-1\n",
      "-1\n",
      "-1\n",
      "-1\n",
      "-1\n",
      "-1\n",
      "-1\n",
      "-1\n",
      "-1\n",
      "-1\n"
     ]
    }
   ],
   "source": [
    "for _ in range(10):\n",
    "    print(cv2.waitKey(1000))    # 밀리세컨드 기준 1000=1초"
   ]
  },
  {
   "cell_type": "code",
   "execution_count": 8,
   "metadata": {},
   "outputs": [],
   "source": [
    "import time\n",
    "\n",
    "\n",
    "# 이미지 창 띄우기\n",
    "cv2.imshow('[IM_DATA]',im_data)\n",
    "cv2.imshow('[GRAY_DATA]',gray_data)\n",
    "\n",
    "# 이미지 창위에 이벤트 대기\n",
    "cv2.waitKey()\n",
    "\n",
    "# 이미지 창 닫기\n",
    "#cv2.destroyAllWindows()     # 입력이 있다면 열린창 다 닫아\n",
    "cv2.destroyWindow(\"[IM_DATA]\")  # 얘만 닫아줘\n",
    "\n",
    "# 1초 정지\n",
    "time.sleep(1)\n",
    "cv2.destroyWindow('[GRAY_DATA]')"
   ]
  },
  {
   "cell_type": "code",
   "execution_count": 1,
   "metadata": {},
   "outputs": [
    {
     "ename": "NameError",
     "evalue": "name 'cv2' is not defined",
     "output_type": "error",
     "traceback": [
      "\u001b[1;31m---------------------------------------------------------------------------\u001b[0m",
      "\u001b[1;31mNameError\u001b[0m                                 Traceback (most recent call last)",
      "Cell \u001b[1;32mIn[1], line 3\u001b[0m\n\u001b[0;32m      1\u001b[0m \u001b[38;5;66;03m### 'x', 'X' 입력시 모든 이미지 창 닫기\u001b[39;00m\n\u001b[0;32m      2\u001b[0m \u001b[38;5;66;03m# 이미지 창 띄우기\u001b[39;00m\n\u001b[1;32m----> 3\u001b[0m \u001b[43mcv2\u001b[49m\u001b[38;5;241m.\u001b[39mimshow(\u001b[38;5;124m'\u001b[39m\u001b[38;5;124m[IM_DATA]\u001b[39m\u001b[38;5;124m'\u001b[39m,im_data)\n\u001b[0;32m      4\u001b[0m cv2\u001b[38;5;241m.\u001b[39mimshow(\u001b[38;5;124m'\u001b[39m\u001b[38;5;124m[GRAY_DATA]\u001b[39m\u001b[38;5;124m'\u001b[39m,gray_data)\n\u001b[0;32m      6\u001b[0m \u001b[38;5;28;01mwhile\u001b[39;00m \u001b[38;5;28;01mTrue\u001b[39;00m:\n\u001b[0;32m      7\u001b[0m     \u001b[38;5;66;03m# 키보드 이벤트 대기\u001b[39;00m\n",
      "\u001b[1;31mNameError\u001b[0m: name 'cv2' is not defined"
     ]
    }
   ],
   "source": [
    "### 'x', 'X' 입력시 모든 이미지 창 닫기\n",
    "# 이미지 창 띄우기\n",
    "cv2.imshow('[IM_DATA]',im_data)\n",
    "cv2.imshow('[GRAY_DATA]',gray_data)\n",
    "\n",
    "while True:\n",
    "    # 키보드 이벤트 대기\n",
    "    key_code=cv2.waitKey()\n",
    "    print(f'[key_code] {key_code}, {chr(key_code)}')\n",
    "\n",
    "    if chr(key_code) in ['x','X']:  # 키가 x 일떄 닫아\n",
    "        cv2.destroyAllWindows()\n",
    "        break\n",
    "    elif chr(key_code) in ['s','S']:\n",
    "        cv2.imwrite('copy.jpg',gray_data)\n",
    "        cv2.destroyAllWindows()\n",
    "        break"
   ]
  },
  {
   "cell_type": "code",
   "execution_count": null,
   "metadata": {},
   "outputs": [],
   "source": []
  }
 ],
 "metadata": {
  "kernelspec": {
   "display_name": "TORCH_CV_38",
   "language": "python",
   "name": "python3"
  },
  "language_info": {
   "codemirror_mode": {
    "name": "ipython",
    "version": 3
   },
   "file_extension": ".py",
   "mimetype": "text/x-python",
   "name": "python",
   "nbconvert_exporter": "python",
   "pygments_lexer": "ipython3",
   "version": "3.8.19"
  }
 },
 "nbformat": 4,
 "nbformat_minor": 2
}

{
 "cells": [
  {
   "cell_type": "markdown",
   "metadata": {},
   "source": [
    "### Video 처리\n",
    "- cv2.VideoCapture(동영상 또는 카메라번호) 함수\n"
   ]
  },
  {
   "cell_type": "code",
   "execution_count": 1,
   "metadata": {},
   "outputs": [],
   "source": [
    "### 모듈로딩\n",
    "import cv2\n",
    "import numpy as np"
   ]
  },
  {
   "cell_type": "code",
   "execution_count": 4,
   "metadata": {},
   "outputs": [],
   "source": [
    "## 데이터 및 디바이스 설정\n",
    "DIR_PATH='../image/'\n",
    "\n",
    "CAM_DEVICE=0"
   ]
  },
  {
   "cell_type": "markdown",
   "metadata": {},
   "source": [
    "- [카메라 관련 영상 처리]"
   ]
  },
  {
   "cell_type": "code",
   "execution_count": 13,
   "metadata": {},
   "outputs": [],
   "source": [
    "import time\n",
    "\n",
    "time.ctime(), time.time()\n",
    "time.strftime('%M_%D_%S') # 내가 원하는 포맷으로 뱉어내줌\n",
    "SAVE_FILE=f'capture_{time.ctime()}.jpg'"
   ]
  },
  {
   "cell_type": "code",
   "execution_count": 14,
   "metadata": {},
   "outputs": [
    {
     "name": "stdout",
     "output_type": "stream",
     "text": [
      "영상 재생 정지\n"
     ]
    }
   ],
   "source": [
    "## 카메라와 연결여부 체크\n",
    "camera=cv2.VideoCapture(CAM_DEVICE)\n",
    "if camera.isOpened():\n",
    "    while True:\n",
    "        ret, img= camera.read()     # 정상적으로 프레임읽기 되었는가 bool, 프레임 튜플\n",
    "        if ret:\n",
    "            cv2.imshow(\"VIDEO\",img)\n",
    "            if cv2.waitKey(10) != -1:\n",
    "                print('영상 재생 정지')\n",
    "                cv2.imwrite(DIR_PATH+SAVE_FILE,img)\n",
    "                cv2.destroyAllWindows()\n",
    "                break\n",
    "    \n",
    "        else:\n",
    "            print('영상 읽기 실패')\n",
    "            break\n",
    "\n",
    "else:\n",
    "    print('카메라 연결 여부 체크 바랍니다.')"
   ]
  },
  {
   "cell_type": "code",
   "execution_count": null,
   "metadata": {},
   "outputs": [],
   "source": []
  }
 ],
 "metadata": {
  "kernelspec": {
   "display_name": "TORCH_CV_38",
   "language": "python",
   "name": "python3"
  },
  "language_info": {
   "codemirror_mode": {
    "name": "ipython",
    "version": 3
   },
   "file_extension": ".py",
   "mimetype": "text/x-python",
   "name": "python",
   "nbconvert_exporter": "python",
   "pygments_lexer": "ipython3",
   "version": "3.8.19"
  }
 },
 "nbformat": 4,
 "nbformat_minor": 2
}

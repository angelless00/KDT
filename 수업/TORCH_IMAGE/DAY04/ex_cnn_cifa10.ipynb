{
 "cells": [
  {
   "cell_type": "markdown",
   "metadata": {},
   "source": [
    "### CNN 이미지 분류 모델\n",
    "- 이미지 데이터셋 준비\n",
    "\t* torchvision의 내장 데이터셋 활용 CIFAR 10\n",
    "- 이미지 분류 모델\n",
    "\t* 커스텀 CNN 구현"
   ]
  },
  {
   "cell_type": "markdown",
   "metadata": {},
   "source": [
    "#### [1] 모듈 로딩 및 데이터 준비<hr>"
   ]
  },
  {
   "cell_type": "code",
   "execution_count": 20,
   "metadata": {},
   "outputs": [],
   "source": [
    "# 모듈 로딩\n",
    "import torch\n",
    "import torch.nn as nn\n",
    "from torchvision.datasets import CIFAR10\t\t\t\t# torchvision 내장 데이터셋 관련 모듈\n",
    "from torchvision.transforms import ToTensor\t\t\t\t# torchvision 데이터 변환 관련 모듈\n",
    "from torch.utils.data import DataLoader\t\t\t\t\t# 데이터셋 관련 모듈 로딩딩\n",
    "\n",
    "import matplotlib.pyplot as plt"
   ]
  },
  {
   "cell_type": "code",
   "execution_count": 21,
   "metadata": {},
   "outputs": [
    {
     "name": "stdout",
     "output_type": "stream",
     "text": [
      "Files already downloaded and verified\n"
     ]
    }
   ],
   "source": [
    "# 데이터 준비\n",
    "DIR_PATH = '../data/' \n",
    "\n",
    "# 파이토치 dataset 인스턴스 로딩 (텐서 형태로)\n",
    "cifarDS = CIFAR10(DIR_PATH, train=True, download=True,\n",
    "                  transform=ToTensor())"
   ]
  },
  {
   "cell_type": "code",
   "execution_count": 22,
   "metadata": {},
   "outputs": [
    {
     "data": {
      "text/plain": [
       "torchvision.datasets.cifar.CIFAR10"
      ]
     },
     "execution_count": 22,
     "metadata": {},
     "output_type": "execute_result"
    }
   ],
   "source": [
    "type(cifarDS)"
   ]
  },
  {
   "cell_type": "code",
   "execution_count": 23,
   "metadata": {},
   "outputs": [
    {
     "name": "stdout",
     "output_type": "stream",
     "text": [
      "cifarDS.classes =>\t['airplane', 'automobile', 'bird', 'cat', 'deer', 'dog', 'frog', 'horse', 'ship', 'truck']\n",
      "\n",
      "cifarDS.data.shape => (50000, 32, 32, 3)\n",
      "len(cifarDS.targets)=> 50000\n",
      "cifarDS.class_to_idx => {'airplane': 0, 'automobile': 1, 'bird': 2, 'cat': 3, 'deer': 4, 'dog': 5, 'frog': 6, 'horse': 7, 'ship': 8, 'truck': 9}\n"
     ]
    }
   ],
   "source": [
    "# cifarDS 속성 확인 \n",
    "# class 속성\n",
    "print(f'cifarDS.classes =>\t{cifarDS.classes}\\n' )\n",
    "print(f'cifarDS.data.shape => {cifarDS.data.shape}' )\n",
    "print(f'len(cifarDS.targets)=> {len(cifarDS.targets)}')\n",
    "print(f'cifarDS.class_to_idx => {cifarDS.class_to_idx}' )"
   ]
  },
  {
   "cell_type": "markdown",
   "metadata": {},
   "source": [
    "#### [2] 데이터 로더<hr>\n",
    "- 학습 시 배치크기만큼 데이터와 라벨/타겟을 로딩"
   ]
  },
  {
   "cell_type": "code",
   "execution_count": 24,
   "metadata": {},
   "outputs": [
    {
     "name": "stdout",
     "output_type": "stream",
     "text": [
      "target tensor([6])\n",
      "torch.Size([1, 3, 32, 32])\n",
      "torch.Size([1])\n",
      "data tensor([[[[0.2314, 0.1686, 0.1961,  ..., 0.6196, 0.5961, 0.5804],\n",
      "          [0.0627, 0.0000, 0.0706,  ..., 0.4824, 0.4667, 0.4784],\n",
      "          [0.0980, 0.0627, 0.1922,  ..., 0.4627, 0.4706, 0.4275],\n",
      "          ...,\n",
      "          [0.8157, 0.7882, 0.7765,  ..., 0.6275, 0.2196, 0.2078],\n",
      "          [0.7059, 0.6784, 0.7294,  ..., 0.7216, 0.3804, 0.3255],\n",
      "          [0.6941, 0.6588, 0.7020,  ..., 0.8471, 0.5922, 0.4824]],\n",
      "\n",
      "         [[0.2431, 0.1804, 0.1882,  ..., 0.5176, 0.4902, 0.4863],\n",
      "          [0.0784, 0.0000, 0.0314,  ..., 0.3451, 0.3255, 0.3412],\n",
      "          [0.0941, 0.0275, 0.1059,  ..., 0.3294, 0.3294, 0.2863],\n",
      "          ...,\n",
      "          [0.6667, 0.6000, 0.6314,  ..., 0.5216, 0.1216, 0.1333],\n",
      "          [0.5451, 0.4824, 0.5647,  ..., 0.5804, 0.2431, 0.2078],\n",
      "          [0.5647, 0.5059, 0.5569,  ..., 0.7216, 0.4627, 0.3608]],\n",
      "\n",
      "         [[0.2471, 0.1765, 0.1686,  ..., 0.4235, 0.4000, 0.4039],\n",
      "          [0.0784, 0.0000, 0.0000,  ..., 0.2157, 0.1961, 0.2235],\n",
      "          [0.0824, 0.0000, 0.0314,  ..., 0.1961, 0.1961, 0.1647],\n",
      "          ...,\n",
      "          [0.3765, 0.1333, 0.1020,  ..., 0.2745, 0.0275, 0.0784],\n",
      "          [0.3765, 0.1647, 0.1176,  ..., 0.3686, 0.1333, 0.1333],\n",
      "          [0.4549, 0.3686, 0.3412,  ..., 0.5490, 0.3294, 0.2824]]]])\n",
      "torch.Size([3, 32, 32])\n"
     ]
    },
    {
     "data": {
      "image/png": "[encoded data removed]",
      "text/plain": [
       "<Figure size 640x480 with 1 Axes>"
      ]
     },
     "metadata": {},
     "output_type": "display_data"
    }
   ],
   "source": [
    "BATCH_SIZE = 50\n",
    "\n",
    "# cifar10DL = DataLoader(cifarDS, batch_size=BATCH_SIZE)\n",
    "cifar10DL = DataLoader(cifarDS)\t\t# 배치 사이즈==1\n",
    "\n",
    "# [테스트] Dataset & DataLoader\n",
    "for data, target in cifar10DL:\n",
    "    print(\"target\",target)\n",
    "    print(data.shape)\t\t\t\t# torch.Size([1, 3, 32, 32]) --> 3: RGB 3개\n",
    "    print(target.shape)\n",
    "    print(\"data\",data)\n",
    "    data1=data.squeeze()\n",
    "    print(data1.shape)\t\t\t\t# torch.Size([3, 32, 32])\n",
    "    plt.imshow(data1.transpose(0,2))\n",
    "    plt.title(cifarDS.classes[target.item()])\n",
    "    break"
   ]
  },
  {
   "cell_type": "markdown",
   "metadata": {},
   "source": [
    "##### 이미지 데이터 형태로 shape 변환"
   ]
  },
  {
   "cell_type": "code",
   "execution_count": 25,
   "metadata": {},
   "outputs": [],
   "source": [
    "# torch.Size([1, 3, 32, 32])\n",
    "#\t\t-> [32,32,3]으로 shape 변환 필요!!"
   ]
  },
  {
   "cell_type": "code",
   "execution_count": 26,
   "metadata": {},
   "outputs": [
    {
     "name": "stdout",
     "output_type": "stream",
     "text": [
      "a Tensor with 3072 elements cannot be converted to Scalar\n"
     ]
    }
   ],
   "source": [
    "try:\n",
    "\tdata.item()\n",
    "except Exception as e:\n",
    "\tprint(e)"
   ]
  },
  {
   "cell_type": "markdown",
   "metadata": {},
   "source": [
    "#### [3] 커스텀 모델 설계 및 정의 <hr>\n",
    "- 모델 목적: 이미지 분류 모델\n",
    "- 학습 방법: 지도학습 >> 분류 >> 다중분류 (10개)\n",
    "- 클래스이름: ImageMCF\n",
    "- 클래스구조: 특징추출부분 => CNN + 학습부분 FC\n",
    "- 부모클래스: nn.Module\n",
    "<hr>\n",
    "* 초반에 kernel(out_features) 개수 많이 할당!! (피쳐 특성 많이 뽑기 위해)"
   ]
  },
  {
   "cell_type": "code",
   "execution_count": 27,
   "metadata": {},
   "outputs": [],
   "source": [
    "import torch.nn as nn\n",
    "import torch.nn.functional as F"
   ]
  },
  {
   "cell_type": "code",
   "execution_count": 28,
   "metadata": {},
   "outputs": [],
   "source": [
    "class ImageMCF(nn.Module):\n",
    "\n",
    "\t# 모델 구조 설계, 생성자 메서드\n",
    "\tdef __init__(self):\n",
    "\t\t# 부모 생성\n",
    "\t\tsuper().__init__()\n",
    "\n",
    "\t\t# 모델 층 구성 \n",
    "\t\t# 피쳐 맵 추출 층\n",
    "\t\t# \t\t\n",
    "\t\t#\t\t\t\t[1,3,32,32]\n",
    "\t\tself.in_layer = nn.Conv2d(in_channels=3, out_channels=10,kernel_size=3)\t\t# Valid padding\n",
    "\t\t#\t\t\t\t[1,10,30,30]\n",
    "\t\tself.p_layer =nn.MaxPool2d(kernel_size=2)\n",
    "\t\t#\t\t\t\t[1,10,15,15]\n",
    "\n",
    "\t\t'''\n",
    "\t\tself.in_layer = nn.Conv2d(3,10,3)\n",
    "\t\tself.in_layer = nn.Conv2d(10,50,3)\n",
    "\t\tself.in_layer = nn.Conv2d(50,10,3)\n",
    "\t\t'''\n",
    "\n",
    "\t\t# 학습 관련 층\n",
    "\t\tself.hd_layer = nn.Linear(1*10*15*15, 50)\n",
    "\t\tself.ot_layer = nn.Linear( 50, 10)\n",
    "\n",
    "\t\t# shape 변환 과정--------------------------------------------------------------\n",
    "\t\t# 원본 [1,3,32,32]\t-> 이미지 변환 [3, 32,32] (채널, 행, 열)\n",
    "\t\t# \t\t-> Conv2d 후 [10,30,30] \n",
    "\t\t#\t\t\t\t(out_channels, 커널크기만큼 변환된 크기(30), 30)\n",
    "\t\t#\t\t-> 배치사이즈만큼 [1,10,30,30]\n",
    "\t\t#\t\t\t\t\t(배치사이즈 크기=>(1), )\n",
    "\t\t# ----------------------------------------------------------------------------\n",
    "\n",
    "\n",
    "\t# 전방향/순방향 학습 메서드\n",
    "\tdef forward(self, in_put):\n",
    "\n",
    "\t\t# 이미지 특징 맵 추출\n",
    "\t\toutput = self.in_layer(in_put)\n",
    "\t\tprint(f'[output 1] {output.shape}')\n",
    "\n",
    "\t\toutput = F.relu(output)\n",
    "\t\tprint(f'[output 2] {output.shape}')\n",
    "\n",
    "\t\toutput = self.p_layer(output)\n",
    "\t\tprint(f'[output 3] {output.shape}')\n",
    "\n",
    "\t\t# 4d->2d (샘플수, 피쳐수)\n",
    "\t\toutput = output.view(output.shape[0], -1)\n",
    "\t\tprint(f'[output 4] {output.shape}')\n",
    "\n",
    "\t\toutput = self.hd_layer(output)\n",
    "\t\tprint(f'[output 5] {output.shape}')\n",
    "\n",
    "\t\toutput = self.ot_layer(output)\n",
    "\t\tprint(f'[output 6] {output.shape}')\n",
    "\t\t\n",
    "\t\treturn output\t\t\t\t\t\t\t# 손실함수에서 softmax 처리!! \n",
    "\t\t\t\t\t\t\t\t\t\t\t\t# 따로 확률값 처리 필요 X\n",
    "\n"
   ]
  },
  {
   "cell_type": "markdown",
   "metadata": {},
   "source": [
    "##### nn.Sequential로 Layer 묶기"
   ]
  },
  {
   "cell_type": "code",
   "execution_count": 29,
   "metadata": {},
   "outputs": [],
   "source": [
    "## nn.Sequential로 묶기\n",
    "\n",
    "class ImageMCF_2(nn.Module):\n",
    "\n",
    "\t# 모델 구조 설계, 생성자 메서드\n",
    "\tdef __init__(self):\n",
    "\t\t# 부모 생성\n",
    "\t\tsuper().__init__()\n",
    "\n",
    "\t\t# 모델 층 구성 \n",
    "\t\t# 피쳐 맵 추출 층\n",
    "\t\t# \t\t\n",
    "\t\t#\t\t\t\t[1,3,32,32]\n",
    "\t\tself.cnn_layer = nn.Sequential(\n",
    "\t\t\tnn.Conv2d(in_channels=3, out_channels=10,kernel_size=3),\t\t\n",
    "\t\t\tnn.ReLU(),\n",
    "\t\t\tnn.MaxPool2d(kernel_size=2, stride=2)\n",
    "\t\t)\n",
    "\n",
    "\t\tself.cnn_layer2 = nn.Sequential(\n",
    "\t\t\tnn.Conv2d(in_channels=10, out_channels=30,kernel_size=3),\t\t\n",
    "\t\t\tnn.ReLU(),\t\t\t\t\t\t\t\t\t\t# 1,30,13,13\n",
    "\t\t\tnn.AvgPool2d(kernel_size=2,stride=2)\t\t\t# 1,30,6,6\n",
    "\t\t)\n",
    "\n",
    "\n",
    "\t\t'''\n",
    "\t\tself.in_layer = nn.Conv2d(3,10,3)\n",
    "\t\tself.in_layer = nn.Conv2d(10,50,3)\n",
    "\t\tself.in_layer = nn.Conv2d(50,10,3)\n",
    "\t\t'''\n",
    "\n",
    "\t\t# 학습 관련 층\n",
    "\t\tself.hd_layer = nn.Linear(1*30*6*6, 50)\n",
    "\t\tself.ot_layer = nn.Linear( 50, 10)\n",
    "\n",
    "\t\t# shape 변환 과정--------------------------------------------------------------\n",
    "\t\t# 원본 [1,3,32,32]\t-> 이미지 변환 [3, 32,32] (채널, 행, 열)\n",
    "\t\t# \t\t-> Conv2d 후 [10,30,30] \n",
    "\t\t#\t\t\t\t(out_channels, 커널크기만큼 변환된 크기(30), 30)\n",
    "\t\t#\t\t-> 배치사이즈만큼 [1,10,30,30]\n",
    "\t\t#\t\t\t\t\t(배치사이즈 크기=>(1), )\n",
    "\t\t# ----------------------------------------------------------------------------\n",
    "\n",
    "\n",
    "\t# 전방향/순방향 학습 메서드\n",
    "\tdef forward(self, in_put):\n",
    "\n",
    "\t\t# 이미지 특징 맵 추출\n",
    "\t\toutput = self.cnn_layer(in_put)\n",
    "\t\tprint(f'[cnn_layer output] {output.shape}')\n",
    "\n",
    "\t\toutput = self.cnn_layer2(output)\n",
    "\t\tprint(f'[cnn_layer2 output] {output.shape}')\n",
    "\t\t\n",
    "\n",
    "\t\t# 4d->2d (샘플수, 피쳐수)\n",
    "\t\toutput = output.view(output.shape[0], -1)\n",
    "\t\tprint(f'[view output] {output.shape}')\n",
    "\n",
    "\t\toutput = self.hd_layer(output)\n",
    "\t\tprint(f'[hd_layer output] {output.shape}')\n",
    "\n",
    "\t\toutput = self.ot_layer(output)\n",
    "\t\tprint(f'[ot_layer output] {output.shape}')\n",
    "\t\t\n",
    "\t\treturn output\t\t\t\t\t\t\t# 손실함수에서 softmax 처리!! \n",
    "\t\t\t\t\t\t\t\t\t\t\t\t# 따로 확률값 처리 필요 X"
   ]
  },
  {
   "cell_type": "code",
   "execution_count": 30,
   "metadata": {},
   "outputs": [],
   "source": [
    "# 사용자 정의 모델 테스트\n",
    "model = ImageMCF()\n",
    "model2 = ImageMCF_2()"
   ]
  },
  {
   "cell_type": "code",
   "execution_count": 31,
   "metadata": {},
   "outputs": [
    {
     "name": "stdout",
     "output_type": "stream",
     "text": [
      "weight\n",
      "Parameter containing:\n",
      "tensor([[-0.0647,  0.0503, -0.1399,  0.1378,  0.2183,  0.1300, -0.1824, -0.0782,\n",
      "         -0.0661, -0.2249],\n",
      "        [-0.2892,  0.1836,  0.0496,  0.0383, -0.0968,  0.1068,  0.2825, -0.1387,\n",
      "         -0.2960,  0.2824],\n",
      "        [-0.2570,  0.1249,  0.1458, -0.3069, -0.2049, -0.2689,  0.1310, -0.2457,\n",
      "          0.2447, -0.1453],\n",
      "        [-0.1269, -0.1476, -0.2728,  0.2551,  0.0537, -0.1247, -0.1778,  0.0304,\n",
      "         -0.3099,  0.1550],\n",
      "        [ 0.2811,  0.1095, -0.0356,  0.1661,  0.0993,  0.2427,  0.1315, -0.1636,\n",
      "          0.0790, -0.2822],\n",
      "        [-0.1398,  0.0025, -0.1396,  0.2590,  0.0688,  0.1049, -0.2514, -0.1323,\n",
      "         -0.1118,  0.1313],\n",
      "        [-0.0242, -0.1498,  0.2571, -0.2626, -0.2746,  0.0784,  0.1610,  0.3133,\n",
      "          0.1269, -0.1344],\n",
      "        [-0.0496, -0.1608,  0.2359, -0.2342, -0.2405, -0.2637,  0.2030,  0.1431,\n",
      "          0.2249, -0.0327],\n",
      "        [ 0.1437,  0.1113, -0.0078,  0.0474,  0.0858, -0.1199, -0.2766,  0.2868,\n",
      "          0.2038,  0.2691],\n",
      "        [-0.1552, -0.2390,  0.1665,  0.1332, -0.1894, -0.1993,  0.0934, -0.2137,\n",
      "          0.2984, -0.0334],\n",
      "        [-0.0422, -0.2423,  0.0586,  0.1650,  0.1117,  0.3105, -0.1082, -0.0520,\n",
      "          0.0511,  0.2860],\n",
      "        [-0.1510,  0.0338, -0.0319, -0.3016,  0.0680, -0.0588, -0.0699,  0.1223,\n",
      "          0.1358,  0.0915],\n",
      "        [-0.2750,  0.2578, -0.2891,  0.1396, -0.1907, -0.0203,  0.1362,  0.2057,\n",
      "         -0.1001,  0.0269],\n",
      "        [-0.2619,  0.0555, -0.0577,  0.2871, -0.0625,  0.0659, -0.0764,  0.2786,\n",
      "          0.2323, -0.2799],\n",
      "        [-0.2995,  0.0722,  0.0218, -0.0032, -0.3003, -0.2187,  0.0830, -0.1267,\n",
      "         -0.0205,  0.2187],\n",
      "        [-0.2378, -0.2941,  0.2076,  0.2740, -0.2590, -0.1498, -0.0296,  0.3104,\n",
      "         -0.0006, -0.2067],\n",
      "        [-0.1493,  0.0664, -0.0447,  0.2096, -0.0664,  0.2125,  0.0174,  0.1957,\n",
      "         -0.0443,  0.0899],\n",
      "        [ 0.0316, -0.2434,  0.1934,  0.1302,  0.1694,  0.0298, -0.0636, -0.0754,\n",
      "          0.1543, -0.1061],\n",
      "        [ 0.1303, -0.2957, -0.2610, -0.1641, -0.1295,  0.0019, -0.2267, -0.1511,\n",
      "          0.2487,  0.1692],\n",
      "        [-0.0428, -0.2600,  0.2741,  0.1481, -0.0278,  0.1693,  0.0997,  0.2722,\n",
      "          0.2357, -0.2195],\n",
      "        [-0.0239, -0.2929, -0.2883, -0.1064,  0.0919,  0.0179, -0.1384, -0.1791,\n",
      "         -0.2910,  0.0653],\n",
      "        [ 0.1919,  0.2218, -0.0175, -0.2276,  0.1575,  0.2039,  0.2048,  0.0266,\n",
      "         -0.0722,  0.1139],\n",
      "        [-0.1748,  0.2928,  0.1940,  0.0108, -0.1028,  0.2288, -0.1971,  0.1862,\n",
      "         -0.1534, -0.3066],\n",
      "        [ 0.2070,  0.2262,  0.2286, -0.1956, -0.1521,  0.2675,  0.0612, -0.1718,\n",
      "         -0.0198, -0.2166],\n",
      "        [ 0.1110,  0.0590, -0.2534, -0.1216, -0.0885, -0.0743, -0.1762, -0.0053,\n",
      "         -0.0502,  0.1531],\n",
      "        [-0.1703, -0.1125,  0.0286,  0.0593,  0.1027, -0.2215, -0.2654,  0.0979,\n",
      "         -0.2736,  0.1728],\n",
      "        [ 0.2810, -0.0982, -0.1654,  0.1529, -0.0052,  0.0012, -0.1792, -0.1571,\n",
      "         -0.2423, -0.1000],\n",
      "        [ 0.2212, -0.3154,  0.2327, -0.1912,  0.1887, -0.1875, -0.2405, -0.1579,\n",
      "         -0.0618,  0.3154],\n",
      "        [ 0.1388, -0.1789,  0.1523,  0.2435,  0.2651, -0.1385,  0.0573,  0.0503,\n",
      "         -0.0012, -0.0316],\n",
      "        [-0.0084,  0.3033,  0.0484, -0.0143,  0.3027, -0.2396,  0.1916,  0.2367,\n",
      "          0.2764,  0.0931],\n",
      "        [ 0.0371,  0.2991,  0.1655,  0.0505,  0.1738,  0.1213, -0.1337,  0.0306,\n",
      "          0.1762,  0.1555],\n",
      "        [-0.2413, -0.2791, -0.1264,  0.0398, -0.2171,  0.0226, -0.1383,  0.2392,\n",
      "         -0.0182,  0.2173],\n",
      "        [-0.1163, -0.0056,  0.1851, -0.0219, -0.2713, -0.1235, -0.1479, -0.0396,\n",
      "         -0.0983,  0.0670],\n",
      "        [-0.1240,  0.1280, -0.0574, -0.0612,  0.1350, -0.3036, -0.1633,  0.1461,\n",
      "         -0.2380, -0.2858],\n",
      "        [-0.1215,  0.1105,  0.0339,  0.3049, -0.0658, -0.1765,  0.1448, -0.3077,\n",
      "         -0.1998,  0.1300],\n",
      "        [ 0.3015, -0.0955,  0.1328, -0.3062, -0.1478,  0.0805,  0.3148,  0.2171,\n",
      "          0.1380, -0.1815],\n",
      "        [ 0.1443,  0.1555, -0.1132,  0.2817,  0.0070, -0.1323,  0.3107,  0.1594,\n",
      "          0.0543, -0.1923],\n",
      "        [-0.1826,  0.1301, -0.1440, -0.0215, -0.0734, -0.1784,  0.0871,  0.1180,\n",
      "         -0.1827,  0.2510],\n",
      "        [-0.1492,  0.1941,  0.0107,  0.1351,  0.2212, -0.2440,  0.0027,  0.3146,\n",
      "         -0.2506,  0.1919],\n",
      "        [-0.2474, -0.1762, -0.1205, -0.1602,  0.1294, -0.0735, -0.1438,  0.1907,\n",
      "          0.2192, -0.0962],\n",
      "        [ 0.2451, -0.3154, -0.0345,  0.1544, -0.0575,  0.2235,  0.0946, -0.0464,\n",
      "          0.0657, -0.2790],\n",
      "        [-0.0245, -0.1193, -0.2453, -0.0829,  0.1111, -0.2547, -0.2417,  0.0609,\n",
      "         -0.0119,  0.0536],\n",
      "        [-0.3000, -0.1811,  0.0086,  0.2990, -0.1366, -0.2253, -0.1351, -0.1766,\n",
      "         -0.2808, -0.2192],\n",
      "        [-0.3082, -0.0065,  0.2336,  0.2435,  0.2576, -0.2397,  0.0008,  0.1138,\n",
      "         -0.1426, -0.1314],\n",
      "        [-0.0357,  0.1308,  0.0711, -0.3135, -0.2105, -0.0878,  0.1807,  0.1821,\n",
      "         -0.0751,  0.2770],\n",
      "        [-0.0360,  0.2755, -0.2969, -0.1875,  0.1922,  0.1503, -0.0512, -0.1399,\n",
      "         -0.1619,  0.2157],\n",
      "        [ 0.0033,  0.1960, -0.0440,  0.0564,  0.1086, -0.2672, -0.0476,  0.0276,\n",
      "         -0.1130, -0.2678],\n",
      "        [ 0.1422, -0.1717,  0.0786, -0.0757,  0.0107, -0.2931,  0.1116, -0.0615,\n",
      "         -0.2685,  0.0197],\n",
      "        [ 0.1219, -0.2850,  0.1468,  0.1995,  0.0409, -0.2311, -0.0332, -0.2546,\n",
      "          0.0266, -0.1683],\n",
      "        [-0.1214, -0.2975,  0.1624,  0.0487, -0.1740, -0.0730, -0.3027,  0.1562,\n",
      "         -0.1179, -0.1959]], requires_grad=True)\n",
      "bias\n",
      "Parameter containing:\n",
      "tensor([ 0.1819,  0.2434,  0.0798,  0.1830,  0.2443, -0.0441,  0.1711,  0.0597,\n",
      "         0.1664, -0.2279, -0.1490, -0.2925, -0.2607, -0.1610, -0.1700, -0.1057,\n",
      "        -0.1921,  0.0005,  0.2978,  0.0450,  0.1554, -0.2183,  0.1451,  0.0510,\n",
      "        -0.2047, -0.1378,  0.0607,  0.2196,  0.1934,  0.0856,  0.0848, -0.0049,\n",
      "         0.1591,  0.1601, -0.2361, -0.2545,  0.1072, -0.0076, -0.0433, -0.2727,\n",
      "        -0.2492, -0.2996,  0.1227, -0.3156,  0.3034,  0.1963,  0.1718, -0.2810,\n",
      "        -0.1044, -0.2175], requires_grad=True)\n"
     ]
    }
   ],
   "source": [
    "## 인스턴스 속성 변수 ==> 인스턴스변수명.속성명=새로운값\n",
    "model.out_layer=nn.Linear(10,50)\n",
    "for name,param in model.out_layer.named_parameters():\n",
    "    print(name,param,sep='\\n')"
   ]
  },
  {
   "cell_type": "code",
   "execution_count": 32,
   "metadata": {},
   "outputs": [],
   "source": [
    "# %pip install torchinfo"
   ]
  },
  {
   "cell_type": "code",
   "execution_count": 33,
   "metadata": {},
   "outputs": [
    {
     "name": "stdout",
     "output_type": "stream",
     "text": [
      "ImageMCF_2(\n",
      "  (cnn_layer): Sequential(\n",
      "    (0): Conv2d(3, 10, kernel_size=(3, 3), stride=(1, 1))\n",
      "    (1): ReLU()\n",
      "    (2): MaxPool2d(kernel_size=2, stride=2, padding=0, dilation=1, ceil_mode=False)\n",
      "  )\n",
      "  (cnn_layer2): Sequential(\n",
      "    (0): Conv2d(10, 30, kernel_size=(3, 3), stride=(1, 1))\n",
      "    (1): ReLU()\n",
      "    (2): AvgPool2d(kernel_size=2, stride=2, padding=0)\n",
      "  )\n",
      "  (hd_layer): Linear(in_features=1080, out_features=50, bias=True)\n",
      "  (ot_layer): Linear(in_features=50, out_features=10, bias=True)\n",
      ")\n"
     ]
    },
    {
     "data": {
      "text/plain": [
       "=================================================================\n",
       "Layer (type:depth-idx)                   Param #\n",
       "=================================================================\n",
       "ImageMCF_2                               --\n",
       "├─Sequential: 1-1                        --\n",
       "│    └─Conv2d: 2-1                       280\n",
       "│    └─ReLU: 2-2                         --\n",
       "│    └─MaxPool2d: 2-3                    --\n",
       "├─Sequential: 1-2                        --\n",
       "│    └─Conv2d: 2-4                       2,730\n",
       "│    └─ReLU: 2-5                         --\n",
       "│    └─AvgPool2d: 2-6                    --\n",
       "├─Linear: 1-3                            54,050\n",
       "├─Linear: 1-4                            510\n",
       "=================================================================\n",
       "Total params: 57,570\n",
       "Trainable params: 57,570\n",
       "Non-trainable params: 0\n",
       "================================================================="
      ]
     },
     "execution_count": 33,
     "metadata": {},
     "output_type": "execute_result"
    }
   ],
   "source": [
    "from torchinfo import summary\n",
    "\n",
    "# summary(model)\n",
    "print(model2)\n",
    "summary(model2)"
   ]
  },
  {
   "cell_type": "code",
   "execution_count": 34,
   "metadata": {},
   "outputs": [
    {
     "name": "stdout",
     "output_type": "stream",
     "text": [
      "[target] => tensor([6])\n",
      "torch.Size([1, 3, 32, 32])\n",
      "[output 1] torch.Size([1, 10, 30, 30])\n",
      "[output 2] torch.Size([1, 10, 30, 30])\n",
      "[output 3] torch.Size([1, 10, 15, 15])\n",
      "[output 4] torch.Size([1, 2250])\n",
      "[output 5] torch.Size([1, 50])\n",
      "[output 6] torch.Size([1, 10])\n",
      "pre => tensor([9])\n"
     ]
    }
   ],
   "source": [
    "# 테스트\n",
    "for data, target in cifar10DL:\n",
    "    print(f'[target] => {target}')\n",
    "    print(data.shape)\n",
    "    \n",
    "\t# 학습\n",
    "    preTarget = model(data)\n",
    "    print(f'pre => {preTarget.argmax(dim=1)}')\n",
    "    break"
   ]
  },
  {
   "cell_type": "code",
   "execution_count": 35,
   "metadata": {},
   "outputs": [
    {
     "name": "stdout",
     "output_type": "stream",
     "text": [
      "[target] => tensor([6])\n",
      "torch.Size([1, 3, 32, 32])\n",
      "[cnn_layer output] torch.Size([1, 10, 15, 15])\n",
      "[cnn_layer2 output] torch.Size([1, 30, 6, 6])\n",
      "[view output] torch.Size([1, 1080])\n",
      "[hd_layer output] torch.Size([1, 50])\n",
      "[ot_layer output] torch.Size([1, 10])\n",
      "pre => tensor([2])\n"
     ]
    }
   ],
   "source": [
    "# 테스트\n",
    "for data, target in cifar10DL:\n",
    "    print(f'[target] => {target}')\n",
    "    print(data.shape)\n",
    "    \n",
    "\t# 학습\n",
    "    preTarget = model2(data)\n",
    "    print(f'pre => {preTarget.argmax(dim=1)}')\n",
    "    break"
   ]
  },
  {
   "cell_type": "code",
   "execution_count": 36,
   "metadata": {},
   "outputs": [
    {
     "name": "stdout",
     "output_type": "stream",
     "text": [
      "[in_layer.weight]----------\n",
      "torch.Size([10, 3, 3, 3])\n",
      "\n",
      "[in_layer.bias]----------\n",
      "torch.Size([10])\n",
      "\n",
      "[hd_layer.weight]----------\n",
      "torch.Size([50, 2250])\n",
      "\n",
      "[hd_layer.bias]----------\n",
      "torch.Size([50])\n",
      "\n",
      "[ot_layer.weight]----------\n",
      "torch.Size([10, 50])\n",
      "\n",
      "[ot_layer.bias]----------\n",
      "torch.Size([10])\n",
      "\n",
      "[out_layer.weight]----------\n",
      "torch.Size([50, 10])\n",
      "\n",
      "[out_layer.bias]----------\n",
      "torch.Size([50])\n",
      "\n"
     ]
    }
   ],
   "source": [
    "# 모델 파라미터 확인\n",
    "for name, param in model.named_parameters():\n",
    "    print(f'[{name}]----------\\n{param.shape}\\n')"
   ]
  },
  {
   "cell_type": "code",
   "execution_count": null,
   "metadata": {},
   "outputs": [],
   "source": []
  },
  {
   "cell_type": "code",
   "execution_count": null,
   "metadata": {},
   "outputs": [],
   "source": []
  }
 ],
 "metadata": {
  "kernelspec": {
   "display_name": "CV_torch_38",
   "language": "python",
   "name": "python3"
  },
  "language_info": {
   "codemirror_mode": {
    "name": "ipython",
    "version": 3
   },
   "file_extension": ".py",
   "mimetype": "text/x-python",
   "name": "python",
   "nbconvert_exporter": "python",
   "pygments_lexer": "ipython3",
   "version": "3.8.19"
  }
 },
 "nbformat": 4,
 "nbformat_minor": 2
}

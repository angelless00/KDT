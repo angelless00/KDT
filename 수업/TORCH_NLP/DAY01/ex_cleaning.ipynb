{
 "cells": [
  {
   "cell_type": "markdown",
   "metadata": {},
   "source": [
    "### 자연어 처리를 위한 전처리\n",
    "- 정제\n",
    "    - 토큰화 전후로 진행 됨\n",
    "    - 100% 제거는 어려움!\n",
    "    - 불용어 제거, 빈도에 따른 제거, 길이에 따른 제거\n"
   ]
  },
  {
   "cell_type": "code",
   "execution_count": 3,
   "metadata": {},
   "outputs": [],
   "source": [
    "## 모듈로딩\n",
    "from nltk.corpus import stopwords\n",
    "from nltk.tokenize import word_tokenize"
   ]
  },
  {
   "cell_type": "code",
   "execution_count": 8,
   "metadata": {},
   "outputs": [
    {
     "name": "stdout",
     "output_type": "stream",
     "text": [
      "영어 불용어 : 179개\n",
      "i\n",
      "me my myself we our ours ourselves you you're you've\n",
      "you'll you'd your yours yourself yourselves he him his himself\n",
      "she she's her hers herself it it's its itself they\n",
      "them their theirs themselves what which who whom this that\n",
      "that'll these those am is are was were be been\n",
      "being have has had having do does did doing a\n",
      "an the and but if or because as until while\n",
      "of at by for with about against between into through\n",
      "during before after above below to from up down in\n",
      "out on off over under again further then once here\n",
      "there when where why how all any both each few\n",
      "more most other some such no nor not only own\n",
      "same so than too very s t can will just\n",
      "don don't should should've now d ll m o re\n",
      "ve y ain aren aren't couldn couldn't didn didn't doesn\n",
      "doesn't hadn hadn't hasn hasn't haven haven't isn isn't ma\n",
      "mightn mightn't mustn mustn't needn needn't shan shan't shouldn shouldn't\n",
      "wasn wasn't weren weren't won won't wouldn wouldn't "
     ]
    }
   ],
   "source": [
    "### NLTK 제공 영어 불용어 리스트 가져오기\n",
    "english_sw=stopwords.words('english')\n",
    "\n",
    "print(f'영어 불용어 : {len(english_sw)}개')\n",
    "for idx, word in enumerate(english_sw):\n",
    "    print(word,end=' ' if idx%10 else '\\n')"
   ]
  },
  {
   "cell_type": "code",
   "execution_count": 10,
   "metadata": {},
   "outputs": [],
   "source": [
    "## 토큰에서 불용어 제거하기\n",
    "text=\"Falmily is not an important thing. It's everything.\""
   ]
  },
  {
   "cell_type": "code",
   "execution_count": 11,
   "metadata": {},
   "outputs": [
    {
     "data": {
      "text/plain": [
       "\"Falmily is not an important thing It's everything\""
      ]
     },
     "execution_count": 11,
     "metadata": {},
     "output_type": "execute_result"
    }
   ],
   "source": [
    "## 구두점 제거\n",
    "text.replace('.','')"
   ]
  },
  {
   "cell_type": "code",
   "execution_count": 15,
   "metadata": {},
   "outputs": [
    {
     "name": "stdout",
     "output_type": "stream",
     "text": [
      "punctuation-! : Falmily is not an important thing Its everything\n",
      "punctuation-\" : Falmily is not an important thing Its everything\n",
      "punctuation-# : Falmily is not an important thing Its everything\n",
      "punctuation-$ : Falmily is not an important thing Its everything\n",
      "punctuation-% : Falmily is not an important thing Its everything\n",
      "punctuation-& : Falmily is not an important thing Its everything\n",
      "punctuation-' : Falmily is not an important thing Its everything\n",
      "punctuation-( : Falmily is not an important thing Its everything\n",
      "punctuation-) : Falmily is not an important thing Its everything\n",
      "punctuation-* : Falmily is not an important thing Its everything\n",
      "punctuation-+ : Falmily is not an important thing Its everything\n",
      "punctuation-, : Falmily is not an important thing Its everything\n",
      "punctuation-- : Falmily is not an important thing Its everything\n",
      "punctuation-. : Falmily is not an important thing Its everything\n",
      "punctuation-/ : Falmily is not an important thing Its everything\n",
      "punctuation-: : Falmily is not an important thing Its everything\n",
      "punctuation-; : Falmily is not an important thing Its everything\n",
      "punctuation-< : Falmily is not an important thing Its everything\n",
      "punctuation-= : Falmily is not an important thing Its everything\n",
      "punctuation-> : Falmily is not an important thing Its everything\n",
      "punctuation-? : Falmily is not an important thing Its everything\n",
      "punctuation-@ : Falmily is not an important thing Its everything\n",
      "punctuation-[ : Falmily is not an important thing Its everything\n",
      "punctuation-\\ : Falmily is not an important thing Its everything\n",
      "punctuation-] : Falmily is not an important thing Its everything\n",
      "punctuation-^ : Falmily is not an important thing Its everything\n",
      "punctuation-_ : Falmily is not an important thing Its everything\n",
      "punctuation-` : Falmily is not an important thing Its everything\n",
      "punctuation-{ : Falmily is not an important thing Its everything\n",
      "punctuation-| : Falmily is not an important thing Its everything\n",
      "punctuation-} : Falmily is not an important thing Its everything\n",
      "punctuation-~ : Falmily is not an important thing Its everything\n"
     ]
    }
   ],
   "source": [
    "# 구두점 제거\n",
    "import string\n",
    "\n",
    "punct=string.punctuation\n",
    "for pun in punct:\n",
    "    print(f'punctuation-{pun}',end=' : ')\n",
    "    text=text.replace(pun,'')\n",
    "    print(text)"
   ]
  },
  {
   "cell_type": "code",
   "execution_count": 16,
   "metadata": {},
   "outputs": [
    {
     "name": "stdout",
     "output_type": "stream",
     "text": [
      "['falmily', 'is', 'not', 'an', 'important', 'thing', 'its', 'everything']\n"
     ]
    }
   ],
   "source": [
    "### 대소문자 통일\n",
    "text=text.lower()\n",
    "\n",
    "## 토큭화 진행\n",
    "tokens=word_tokenize(text)\n",
    "print(tokens)\n"
   ]
  },
  {
   "cell_type": "code",
   "execution_count": 17,
   "metadata": {},
   "outputs": [],
   "source": [
    "### 불용어 제거 : 분석에 의미가 없는 단어 토큰 제거\n",
    "for token in tokens:\n",
    "    if token in english_sw:\n",
    "        # 제거\n",
    "        tokens.remove(token)\n",
    "    if token in list(punct):\n",
    "        tokens.remove(token)"
   ]
  },
  {
   "cell_type": "code",
   "execution_count": 19,
   "metadata": {},
   "outputs": [
    {
     "data": {
      "text/plain": [
       "['falmily', 'not', 'important', 'thing', 'everything']"
      ]
     },
     "execution_count": 19,
     "metadata": {},
     "output_type": "execute_result"
    }
   ],
   "source": [
    "tokens"
   ]
  },
  {
   "cell_type": "code",
   "execution_count": null,
   "metadata": {},
   "outputs": [],
   "source": [
    "for token in tokens[::-1]:\n",
    "    print(F'{token} : {token in english_sw}')\n",
    "    if token in english_sw:\n",
    "        tokens.remove(token)\n",
    "    if token in list(punct):\n",
    "        tokens.remove(token)"
   ]
  }
 ],
 "metadata": {
  "kernelspec": {
   "display_name": "TEXT_018_230_38",
   "language": "python",
   "name": "python3"
  },
  "language_info": {
   "codemirror_mode": {
    "name": "ipython",
    "version": 3
   },
   "file_extension": ".py",
   "mimetype": "text/x-python",
   "name": "python",
   "nbconvert_exporter": "python",
   "pygments_lexer": "ipython3",
   "version": "3.8.19"
  }
 },
 "nbformat": 4,
 "nbformat_minor": 2
}

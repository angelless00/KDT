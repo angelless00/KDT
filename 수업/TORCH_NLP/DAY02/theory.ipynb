{
 "cells": [
  {
   "cell_type": "markdown",
   "metadata": {},
   "source": [
    "- 문장 기준으로 단어 분리 ==> 토큰\n",
    "    - 목적과 데이터 기반 \n",
    "        - 목적이 달라지면 단어의 중요성도 달라짐!\n",
    "        - 특정 단어를 삭제할지 말지는 주제에 따라 다름!\n",
    "- 의미x 토큰 제거\n",
    "- 의미x 기호/부호 제거"
   ]
  },
  {
   "cell_type": "markdown",
   "metadata": {},
   "source": [
    "- 모든 문장 동일 길이로 일치하도록\n",
    "\\begin{cases}\n",
    "가장 긴 문장 기준으로 일치 \\\\\n",
    "가장 많은 빈도의 길이로 일치\n",
    "\\end{cases}\n",
    "- => 선택은 개발자의 몫"
   ]
  },
  {
   "cell_type": "markdown",
   "metadata": {},
   "source": []
  }
 ],
 "metadata": {
  "language_info": {
   "name": "python"
  }
 },
 "nbformat": 4,
 "nbformat_minor": 2
}

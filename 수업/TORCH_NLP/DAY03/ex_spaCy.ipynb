{
 "cells": [
  {
   "cell_type": "markdown",
   "metadata": {},
   "source": [
    "### 한국어 형태소 분석기 spacy\n",
    "- 빠른 속도와 정확도가 높은 형태소 분석기\n",
    "- 설치 2단계\n",
    "    - 형태소 분석기 설치\n",
    "    - 언어별 모델 설치\n"
   ]
  },
  {
   "cell_type": "code",
   "execution_count": 9,
   "metadata": {},
   "outputs": [],
   "source": [
    "### 모듈로딩\n",
    "import spacy"
   ]
  },
  {
   "cell_type": "code",
   "execution_count": 10,
   "metadata": {},
   "outputs": [],
   "source": [
    "### 한국어 모델 설정\n",
    "KO_MODEL='ko_core_news_sm'"
   ]
  },
  {
   "cell_type": "code",
   "execution_count": 11,
   "metadata": {},
   "outputs": [],
   "source": [
    "### 한국어 분석기 생성\n",
    "nlp=spacy.load(KO_MODEL)"
   ]
  },
  {
   "cell_type": "code",
   "execution_count": 32,
   "metadata": {},
   "outputs": [
    {
     "name": "stdout",
     "output_type": "stream",
     "text": [
      "일만       일+만      ADV    ncpa+jxc False\n",
      "하고       하+고      CCONJ  pvg+ecc False\n",
      "놀지       놀+지      VERB   pvg+ecx False\n",
      "않으면      않+으면     SCONJ  px+ecs False\n",
      "바보가      바보+가     VERB   pvg+ecx False\n",
      "된다       되+ㄴ다     AUX    px+ef  False\n",
      ".        .        PUNCT  sf     False\n"
     ]
    }
   ],
   "source": [
    "text='일만 하고 놀지 않으면 바보가 된다.'\n",
    "doc=nlp(text)\n",
    "\n",
    "for token in doc:\n",
    "    # 토큰, 표제어, 단어 품사, 자세한 품사, 불용어 여부\n",
    "    print(f'{token.text:8} {token.lemma_:8} {token.pos_:6} {token.tag_:6} {token.is_stop}')"
   ]
  },
  {
   "cell_type": "code",
   "execution_count": 40,
   "metadata": {},
   "outputs": [],
   "source": [
    "my_tokens=[]\n",
    "for token in doc:\n",
    "    if (not token.is_punct) or (not token.is_stop):  # 구두점 체크, 불용어 체크\n",
    "        my_tokens.append(token)"
   ]
  },
  {
   "cell_type": "code",
   "execution_count": 41,
   "metadata": {},
   "outputs": [
    {
     "data": {
      "text/plain": [
       "[일만, 하고, 놀지, 않으면, 바보가, 된다, .]"
      ]
     },
     "execution_count": 41,
     "metadata": {},
     "output_type": "execute_result"
    }
   ],
   "source": [
    "my_tokens"
   ]
  },
  {
   "cell_type": "code",
   "execution_count": 39,
   "metadata": {},
   "outputs": [],
   "source": [
    "cls=spacy.util.get_lang_class('ko')"
   ]
  },
  {
   "cell_type": "code",
   "execution_count": null,
   "metadata": {},
   "outputs": [],
   "source": []
  }
 ],
 "metadata": {
  "kernelspec": {
   "display_name": "TEXT_018_230_38",
   "language": "python",
   "name": "python3"
  },
  "language_info": {
   "codemirror_mode": {
    "name": "ipython",
    "version": 3
   },
   "file_extension": ".py",
   "mimetype": "text/x-python",
   "name": "python",
   "nbconvert_exporter": "python",
   "pygments_lexer": "ipython3",
   "version": "3.8.19"
  }
 },
 "nbformat": 4,
 "nbformat_minor": 2
}

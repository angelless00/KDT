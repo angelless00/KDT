{
 "cells": [
  {
   "cell_type": "markdown",
   "metadata": {},
   "source": [
    "## 임베딩 층\n",
    "- 임베딩 층의 입력으로 사용하기 위해서 입력 시퀀스의 각 단어들은 모두 정수 인코딩\n",
    "- 어떤 단어 -> 단어에 부여된 고유한 정수값 -> 임베딩 층 통과 -> 밀집벡터\n",
    "- 임베딩 층 \n",
    "    - 입력 정수에 대해 밀집 벡터 (dense vector)로 맵핑\n",
    "    - 밀집 벡터는 인공 신경망의 학습 과정에서 가중치가 학습되는 것과 같은 방식으로 훈련\n",
    "    - 훈련 과정에서 단어는 업데이트 ==> 밀집벡터를 임베딩 벡터\n",
    "- 룩업 테이블 \n",
    "    - 파이토치는 단어를 정수 인덱스로 바꾸고 원-핫 벡터로 한번 더 바꾸고나서 \n",
    "    - 임베딩 층의 입력으로 사용하는 것이 아니라, \n",
    "    - 단어를 정수 인덱스로만 바꾼채로 임베딩 층의 입력으로 사용해도 \n",
    "    - 룩업 테이블 된 결과인 임베딩 벡터를 리턴"
   ]
  },
  {
   "cell_type": "code",
   "execution_count": 11,
   "metadata": {},
   "outputs": [
    {
     "name": "stdout",
     "output_type": "stream",
     "text": [
      "{'to': 2, 'you': 3, 'know': 4, 'need': 5, 'code': 6, 'how': 7, '<pad>': 0, '<unk>': 1}\n"
     ]
    }
   ],
   "source": [
    "## 단어 사전 생성\n",
    "train_data='you need to know how to code'\n",
    "\n",
    "# 중복을 제거한 단어들의 집합인 단어 집합 생성\n",
    "word_set=set(train_data.split())\n",
    "\n",
    "# 단어 집합의 각 단어에 고유한 정수 맵핑.\n",
    "vocab={word:i+2 for i , word in enumerate(word_set)}\n",
    "vocab['<pad>']=0\n",
    "vocab['<unk>']=1\n",
    "\n",
    "print(vocab)"
   ]
  },
  {
   "cell_type": "code",
   "execution_count": 12,
   "metadata": {},
   "outputs": [],
   "source": [
    "import torch\n",
    "import torch.nn as nn"
   ]
  },
  {
   "cell_type": "code",
   "execution_count": 13,
   "metadata": {},
   "outputs": [],
   "source": [
    "embedding_table=torch.FloatTensor([\n",
    "    [0.0,0.0,0.0],\n",
    "    [0.0,0.0,0.0],\n",
    "    [0.2,0.9,0.7],\n",
    "    [0.1,0.5,0.7],\n",
    "    [0.2,0.1,0.8],\n",
    "    [0.4,0.1,0.1],\n",
    "    [0.1,0.8,0.9],\n",
    "    [0.6,0.1,0.1],\n",
    "])"
   ]
  },
  {
   "cell_type": "code",
   "execution_count": 14,
   "metadata": {},
   "outputs": [
    {
     "name": "stdout",
     "output_type": "stream",
     "text": [
      "idxes : tensor([3, 5, 2, 1])\n",
      "tensor([[0.1000, 0.5000, 0.7000],\n",
      "        [0.4000, 0.1000, 0.1000],\n",
      "        [0.2000, 0.9000, 0.7000],\n",
      "        [0.0000, 0.0000, 0.0000]])\n"
     ]
    }
   ],
   "source": [
    "# 토큰 정수 ==> 임베팅 벡터 변환\n",
    "sample='you need to run'.split()\n",
    "idxes=[]\n",
    "\n",
    "# 각 단어를 정수로 변환\n",
    "for word in sample:\n",
    "    try:\n",
    "        idxes.append(vocab[word])\n",
    "    # 단어 집합에 없는 단어일 경우 <unk> 대체\n",
    "    except KeyError:\n",
    "        idxes.append(vocab['<unk>'])\n",
    "\n",
    "# 텐서화진행\n",
    "idxes=torch.LongTensor(idxes)\n",
    "print(f'idxes : {idxes}')\n",
    "\n",
    "# 각 정수를 인덱스로 임베딩 테이블에서 값 가져오기\n",
    "lookup_result=embedding_table[idxes,:]\n",
    "print(lookup_result)"
   ]
  },
  {
   "cell_type": "code",
   "execution_count": 15,
   "metadata": {},
   "outputs": [],
   "source": [
    "### Pytorch Embedding Layer\n",
    "embedding_layer=nn.Embedding(num_embeddings=len(vocab),\n",
    "                             embedding_dim=3,\n",
    "                             padding_idx=0)"
   ]
  },
  {
   "cell_type": "code",
   "execution_count": 16,
   "metadata": {},
   "outputs": [
    {
     "name": "stdout",
     "output_type": "stream",
     "text": [
      "Parameter containing:\n",
      "tensor([[ 0.0000e+00,  0.0000e+00,  0.0000e+00],\n",
      "        [ 7.3262e-01, -2.1042e+00, -6.2136e-01],\n",
      "        [ 1.7430e-01,  1.9166e+00,  4.8954e-01],\n",
      "        [-1.9341e-01, -7.1637e-01,  1.5404e-01],\n",
      "        [ 1.1111e+00, -1.6998e-01,  4.7688e-01],\n",
      "        [-8.1482e-01, -2.1617e-01, -1.6039e-01],\n",
      "        [ 4.3908e-01, -1.3064e-03,  2.4630e+00],\n",
      "        [ 2.7211e-01, -3.2354e-01, -1.6252e-01]], requires_grad=True)\n"
     ]
    }
   ],
   "source": [
    "print(embedding_layer.weight)"
   ]
  },
  {
   "cell_type": "code",
   "execution_count": null,
   "metadata": {},
   "outputs": [],
   "source": []
  }
 ],
 "metadata": {
  "kernelspec": {
   "display_name": "TEXT_018_230_38",
   "language": "python",
   "name": "python3"
  },
  "language_info": {
   "codemirror_mode": {
    "name": "ipython",
    "version": 3
   },
   "file_extension": ".py",
   "mimetype": "text/x-python",
   "name": "python",
   "nbconvert_exporter": "python",
   "pygments_lexer": "ipython3",
   "version": "3.8.19"
  }
 },
 "nbformat": 4,
 "nbformat_minor": 2
}

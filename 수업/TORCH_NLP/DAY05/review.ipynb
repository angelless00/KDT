{
 "cells": [
  {
   "cell_type": "markdown",
   "metadata": {},
   "source": [
    "[텍스트 전처리]\n",
    "- 토큰화    => 최적 토큰화 패치\n",
    "- 정제 (불용어, 구두점, 개발자 지정 제거 문자)\n",
    "- 단어사전 (정수)\n",
    "- 문장 ==> 수치화\n",
    "- 문장 길이 통일, 패딩\n",
    "- 정수 수치화 ==> One-Hot Encoding 변환 : 파이토치는 필요없음\n",
    "\n",
    "[모델]\n",
    "- 임베딩 층 : 차원축소 [예: 샘플 5개, 3000개 피쳐 ====> 샘플 5개 30개피쳐]\n",
    "- RNN/LSTM/GRU 층"
   ]
  },
  {
   "cell_type": "markdown",
   "metadata": {},
   "source": [
    "\n"
   ]
  }
 ],
 "metadata": {
  "language_info": {
   "name": "python"
  }
 },
 "nbformat": 4,
 "nbformat_minor": 2
}

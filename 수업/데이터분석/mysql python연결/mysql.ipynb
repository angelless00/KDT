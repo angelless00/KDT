{
 "cells": [
  {
   "cell_type": "code",
   "execution_count": 41,
   "metadata": {},
   "outputs": [],
   "source": [
    "import pymysql\n",
    "import pandas as pd\n",
    "import csv"
   ]
  },
  {
   "cell_type": "code",
   "execution_count": 42,
   "metadata": {},
   "outputs": [],
   "source": [
    "conn=pymysql.connect(host='localhost',user='root',password='1234',db='sakila',charset='utf8')\n",
    "cur=conn.cursor() #<= 내용만 들고와!\n",
    "#cur= conn.cursor(pymysql.cursors.DictCursor) #<= 컬럼명도 들고와!"
   ]
  },
  {
   "cell_type": "code",
   "execution_count": 43,
   "metadata": {},
   "outputs": [
    {
     "data": {
      "text/plain": [
       "6"
      ]
     },
     "execution_count": 43,
     "metadata": {},
     "output_type": "execute_result"
    }
   ],
   "source": [
    "\n",
    "cur.execute('select * from language') # 쿼리 작성"
   ]
  },
  {
   "cell_type": "code",
   "execution_count": 44,
   "metadata": {},
   "outputs": [
    {
     "name": "stdout",
     "output_type": "stream",
     "text": [
      "language_id name last_update \n"
     ]
    }
   ],
   "source": [
    "desc=cur.description # 헤더정보 가져옴\n",
    "for i in range(len(desc)):\n",
    "    print(desc[i][0],end=' ')\n",
    "print()"
   ]
  },
  {
   "cell_type": "code",
   "execution_count": 45,
   "metadata": {},
   "outputs": [
    {
     "name": "stdout",
     "output_type": "stream",
     "text": [
      "(1, 'English', datetime.datetime(2006, 2, 15, 5, 2, 19))\n",
      "(2, 'Italian', datetime.datetime(2006, 2, 15, 5, 2, 19))\n",
      "(3, 'Japanese', datetime.datetime(2006, 2, 15, 5, 2, 19))\n",
      "(4, 'Mandarin', datetime.datetime(2006, 2, 15, 5, 2, 19))\n",
      "(5, 'French', datetime.datetime(2006, 2, 15, 5, 2, 19))\n",
      "(6, 'German', datetime.datetime(2006, 2, 15, 5, 2, 19))\n",
      "\n"
     ]
    }
   ],
   "source": [
    "rows=cur.fetchall() # 모든 데이터를 가져옴\n",
    "for data in rows:\n",
    "    print(data)\n",
    "print()"
   ]
  },
  {
   "cell_type": "code",
   "execution_count": 46,
   "metadata": {},
   "outputs": [
    {
     "name": "stdout",
     "output_type": "stream",
     "text": [
      "   0         1                   2\n",
      "0  1   English 2006-02-15 05:02:19\n",
      "1  2   Italian 2006-02-15 05:02:19\n",
      "2  3  Japanese 2006-02-15 05:02:19\n",
      "3  4  Mandarin 2006-02-15 05:02:19\n",
      "4  5    French 2006-02-15 05:02:19\n",
      "5  6    German 2006-02-15 05:02:19\n"
     ]
    }
   ],
   "source": [
    "# 데이터 프레임 형태로 변환\n",
    "language_df=pd.DataFrame(rows)\n",
    "print(language_df)"
   ]
  },
  {
   "cell_type": "code",
   "execution_count": 47,
   "metadata": {},
   "outputs": [],
   "source": [
    "# 컬럼명도 같이 가져왔을때 사용 가능\n",
    "#print(language_df['name'])"
   ]
  },
  {
   "cell_type": "code",
   "execution_count": 48,
   "metadata": {},
   "outputs": [
    {
     "name": "stdout",
     "output_type": "stream",
     "text": [
      "('CATHERINE.CAMPBELL@sakilacustomer.org',)\n",
      "('JOYCE.EDWARDS@sakilacustomer.org',)\n",
      "('AMBER.DIXON@sakilacustomer.org',)\n",
      "('JEANETTE.GREENE@sakilacustomer.org',)\n",
      "('MINNIE.ROMERO@sakilacustomer.org',)\n",
      "('GWENDOLYN.MAY@sakilacustomer.org',)\n",
      "('SONIA.GREGORY@sakilacustomer.org',)\n",
      "('MIRIAM.MCKINNEY@sakilacustomer.org',)\n",
      "('CHARLES.KOWALSKI@sakilacustomer.org',)\n",
      "('DANIEL.CABRAL@sakilacustomer.org',)\n",
      "('MATTHEW.MAHAN@sakilacustomer.org',)\n",
      "('JEFFERY.PINSON@sakilacustomer.org',)\n",
      "('HERMAN.DEVORE@sakilacustomer.org',)\n",
      "('ELMER.NOE@sakilacustomer.org',)\n",
      "('TERRANCE.ROUSH@sakilacustomer.org',)\n",
      "('TERRENCE.GUNDERSON@sakilacustomer.org',)\n"
     ]
    }
   ],
   "source": [
    "# 복잡한 쿼리 실행\n",
    "\n",
    "query=\"\"\"\n",
    "select c.email from customer as c\n",
    "    inner join rental as r\n",
    "    on c.customer_id=r.customer_id\n",
    "where date(r.rental_date)=(%s)\"\"\"\n",
    "\n",
    "cur.execute(query,('2005-06-14'))\n",
    "rows=cur.fetchall()  #모든 데이터를 가져옴\n",
    "for row in rows:\n",
    "    print(row)"
   ]
  },
  {
   "cell_type": "code",
   "execution_count": 49,
   "metadata": {},
   "outputs": [],
   "source": [
    "cur.close()\n",
    "conn.close()  # 데이터 베이스 연결 종료"
   ]
  }
 ],
 "metadata": {
  "kernelspec": {
   "display_name": "PY_39",
   "language": "python",
   "name": "python3"
  },
  "language_info": {
   "codemirror_mode": {
    "name": "ipython",
    "version": 3
   },
   "file_extension": ".py",
   "mimetype": "text/x-python",
   "name": "python",
   "nbconvert_exporter": "python",
   "pygments_lexer": "ipython3",
   "version": "3.9.19"
  }
 },
 "nbformat": 4,
 "nbformat_minor": 2
}

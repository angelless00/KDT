{
 "cells": [
  {
   "cell_type": "markdown",
   "metadata": {},
   "source": [
    "### find_all() 함수\n",
    "    - find_all(tag, attrs, recursive, text, limit=몇개찾을껀데?, keywords)\n",
    "    - find는 젤 첨에 나오는 한놈만 찾지만 find_all은 다 찾아줌!\n",
    "    - 검색된 모든 태그를 list 형태로 리턴"
   ]
  },
  {
   "cell_type": "code",
   "execution_count": 2,
   "metadata": {},
   "outputs": [],
   "source": [
    "from bs4 import BeautifulSoup\n",
    "\n",
    "html_example=\"\"\"<!DOCTYPE html>\n",
    "<html lang=\"en\">\n",
    "<head>\n",
    "    <meta charset=\"UTF-8\">\n",
    "    <meta name=\"viewport\" content=\"width=device-width, initial-scale=1.0\">\n",
    "    <title>BeautifulSoup 활용</title>\n",
    "</head>\n",
    "<body>\n",
    "    <h1 id=\"heading\">Heading 1</h1>\n",
    "    <p>Paragraph</p>\n",
    "    <span class=\"red\">BeautifulSoup Library Examples!</span>\n",
    "    <div id=\"link\">\n",
    "        <a class=\"external_link\" href=\"www.google.com\">google</a>\n",
    "\n",
    "        <div id=\"class1\">\n",
    "            <p id=\"first\">class1's first paragraph</p>\n",
    "            <a class=\"exteranl_link\" href=\"www.naver.com\">naver</a>\n",
    "\n",
    "            <p id=\"second\">class1's second paragraph</p>\n",
    "            <a class=\"internal_link\" href=\"/pages/page1.html\">Page1</a>\n",
    "            <p id=\"third\">class1's third paragraph</p>\n",
    "        </div>\n",
    "    </div>\n",
    "    <div id=\"text_id2\">\n",
    "        Example page\n",
    "        <p>g</p>\n",
    "    </div>\n",
    "    <h1 id=\"footer\">Footer</h1>\n",
    "</body>\n",
    "</html>\"\"\""
   ]
  },
  {
   "cell_type": "code",
   "execution_count": 3,
   "metadata": {},
   "outputs": [],
   "source": [
    "soup=BeautifulSoup(html_example,'html.parser')"
   ]
  },
  {
   "cell_type": "code",
   "execution_count": 5,
   "metadata": {},
   "outputs": [
    {
     "name": "stdout",
     "output_type": "stream",
     "text": [
      "div_tags lenghth: 3\n"
     ]
    }
   ],
   "source": [
    "# 모든 div 태그를 검색 (리스트 형태로 반환)\n",
    "div_tags=soup.find_all('div')\n",
    "print('div_tags lenghth:',len(div_tags))"
   ]
  },
  {
   "cell_type": "code",
   "execution_count": 8,
   "metadata": {},
   "outputs": [
    {
     "name": "stdout",
     "output_type": "stream",
     "text": [
      "--------------------------------------------------\n",
      "<div id=\"link\">\n",
      "<a class=\"external_link\" href=\"www.google.com\">google</a>\n",
      "<div id=\"class1\">\n",
      "<p id=\"first\">class1's first paragraph</p>\n",
      "<a class=\"exteranl_link\" href=\"www.naver.com\">naver</a>\n",
      "<p id=\"second\">class1's second paragraph</p>\n",
      "<a class=\"internal_link\" href=\"/pages/page1.html\">Page1</a>\n",
      "<p id=\"third\">class1's third paragraph</p>\n",
      "</div>\n",
      "</div>\n",
      "--------------------------------------------------\n",
      "<div id=\"class1\">\n",
      "<p id=\"first\">class1's first paragraph</p>\n",
      "<a class=\"exteranl_link\" href=\"www.naver.com\">naver</a>\n",
      "<p id=\"second\">class1's second paragraph</p>\n",
      "<a class=\"internal_link\" href=\"/pages/page1.html\">Page1</a>\n",
      "<p id=\"third\">class1's third paragraph</p>\n",
      "</div>\n",
      "--------------------------------------------------\n",
      "<div id=\"text_id2\">\n",
      "        Example page\n",
      "        <p>g</p>\n",
      "</div>\n"
     ]
    }
   ],
   "source": [
    "for div in div_tags:\n",
    "    print('-'*50)\n",
    "    print(div)"
   ]
  },
  {
   "cell_type": "code",
   "execution_count": 11,
   "metadata": {},
   "outputs": [
    {
     "name": "stdout",
     "output_type": "stream",
     "text": [
      "<a class=\"external_link\" href=\"www.google.com\">google</a>\n",
      "url: www.google.com, text: google\n",
      "\n",
      "<a class=\"exteranl_link\" href=\"www.naver.com\">naver</a>\n",
      "url: www.naver.com, text: naver\n",
      "\n",
      "<a class=\"internal_link\" href=\"/pages/page1.html\">Page1</a>\n",
      "url: /pages/page1.html, text: Page1\n",
      "\n"
     ]
    }
   ],
   "source": [
    "links=soup.find_all('a')\n",
    "\n",
    "for alink in links:\n",
    "    print(alink)\n",
    "    print(f'url: {alink[\"href\"]}, text: {alink.string}')\n",
    "    print()"
   ]
  },
  {
   "cell_type": "markdown",
   "metadata": {},
   "source": [
    "### 특정 태그중 여러 속성값을 한번에 검색\n",
    "    - 리스트 형태로 추가"
   ]
  },
  {
   "cell_type": "code",
   "execution_count": 12,
   "metadata": {},
   "outputs": [
    {
     "name": "stdout",
     "output_type": "stream",
     "text": [
      "[<a class=\"external_link\" href=\"www.google.com\">google</a>, <a class=\"internal_link\" href=\"/pages/page1.html\">Page1</a>]\n"
     ]
    }
   ],
   "source": [
    "# 여러 <a>태그에서 2개의 class 속성값 검색\n",
    "link_tags=soup.find_all('a',{'class':['external_link','internal_link']})\n",
    "print(link_tags)"
   ]
  },
  {
   "cell_type": "code",
   "execution_count": 13,
   "metadata": {},
   "outputs": [
    {
     "name": "stdout",
     "output_type": "stream",
     "text": [
      "[<p id=\"first\">class1's first paragraph</p>, <p id=\"third\">class1's third paragraph</p>]\n"
     ]
    }
   ],
   "source": [
    "# <p>태그 id값이 'first','third'인 항목 검색\n",
    "p_tags=soup.find_all('p',{'id':['first','third']})\n",
    "print(p_tags)"
   ]
  },
  {
   "cell_type": "code",
   "execution_count": null,
   "metadata": {},
   "outputs": [],
   "source": []
  }
 ],
 "metadata": {
  "kernelspec": {
   "display_name": "base",
   "language": "python",
   "name": "python3"
  },
  "language_info": {
   "codemirror_mode": {
    "name": "ipython",
    "version": 3
   },
   "file_extension": ".py",
   "mimetype": "text/x-python",
   "name": "python",
   "nbconvert_exporter": "python",
   "pygments_lexer": "ipython3",
   "version": "3.11.7"
  }
 },
 "nbformat": 4,
 "nbformat_minor": 2
}

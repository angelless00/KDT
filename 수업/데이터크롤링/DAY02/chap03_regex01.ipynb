{
 "cells": [
  {
   "cell_type": "markdown",
   "metadata": {},
   "source": [
    "## 정규 표현식 객체 사용:\n",
    "### 정규식 객체를 생성 : compile(pattern)\n",
    "- 동일한 패턴을 여러번 검색하는 경우, 편리하게 사용\n",
    "- re모듈 함수들은 pattern 파라미터 없이 호출 가능\n",
    "    - search(string, pos), match(string,pos) 등"
   ]
  },
  {
   "cell_type": "code",
   "execution_count": 1,
   "metadata": {},
   "outputs": [],
   "source": [
    "import re"
   ]
  },
  {
   "cell_type": "code",
   "execution_count": 2,
   "metadata": {},
   "outputs": [
    {
     "name": "stdout",
     "output_type": "stream",
     "text": [
      "None\n",
      "<re.Match object; span=(7, 12), match='apple'>\n"
     ]
    }
   ],
   "source": [
    "# compile() 사용 안함\n",
    "m=re.match('[a-z]+','Python')\n",
    "print(m)    # Python 은 대문자로 시작하기떄문에 xxx\n",
    "print(re.search('apple','I like apple!')) # 맨 처음 나타나는 소문자 리턴"
   ]
  },
  {
   "cell_type": "code",
   "execution_count": 3,
   "metadata": {},
   "outputs": [
    {
     "name": "stdout",
     "output_type": "stream",
     "text": [
      "<re.Match object; span=(0, 6), match='python'>\n",
      "<re.Match object; span=(2, 6), match='like'>\n"
     ]
    }
   ],
   "source": [
    "# compile() 사용 : 객체 생성\n",
    "p=re.compile('[a-z]+')  # 알파벳 소문자\n",
    "m=p.match('python')\n",
    "print(m)\n",
    "print(p.search('I like apple 123')) # 맨 처음 나타나는  소문자 리턴"
   ]
  },
  {
   "cell_type": "code",
   "execution_count": 4,
   "metadata": {},
   "outputs": [
    {
     "name": "stdout",
     "output_type": "stream",
     "text": [
      "<re.Match object; span=(0, 5), match='pytho'>\n"
     ]
    }
   ],
   "source": [
    "m=re.match('[a-z]+','pythoN')\n",
    "print(m)"
   ]
  },
  {
   "cell_type": "code",
   "execution_count": 5,
   "metadata": {},
   "outputs": [
    {
     "name": "stdout",
     "output_type": "stream",
     "text": [
      "None\n"
     ]
    }
   ],
   "source": [
    "m=re.match('[a-z]+','PYthon')\n",
    "print(m)"
   ]
  },
  {
   "cell_type": "code",
   "execution_count": 8,
   "metadata": {},
   "outputs": [
    {
     "name": "stdout",
     "output_type": "stream",
     "text": [
      "<re.Match object; span=(0, 5), match='regex'>\n",
      "None\n"
     ]
    }
   ],
   "source": [
    "print(re.match('[a-z]+','regex python'))\n",
    "print(re.match('[a-z]+',' regexpython')) # 문자열 처음에 공백 포함"
   ]
  },
  {
   "cell_type": "code",
   "execution_count": 13,
   "metadata": {},
   "outputs": [
    {
     "name": "stdout",
     "output_type": "stream",
     "text": [
      "<re.Match object; span=(0, 10), match='regexpytho'>\n",
      "None\n"
     ]
    }
   ],
   "source": [
    "print(re.match('[a-z]+','regexpythoN'))\n",
    "print(re.match('[a-z]+$','regexpythoN'))    # $ : 문자열의 마지막에 소문자 1회 이상 검사"
   ]
  },
  {
   "cell_type": "code",
   "execution_count": 17,
   "metadata": {},
   "outputs": [
    {
     "name": "stdout",
     "output_type": "stream",
     "text": [
      "<re.Match object; span=(0, 5), match='regex'>\n",
      "<re.Match object; span=(0, 11), match='regexpython'>\n"
     ]
    }
   ],
   "source": [
    "print(re.match('[a-z]+','regexPython'))\n",
    "print(re.match('[a-z]+$','regexpython')) "
   ]
  },
  {
   "cell_type": "markdown",
   "metadata": {},
   "source": [
    "- findall() 함수 : 일치하는 모든 문자열을 리스트로 리턴"
   ]
  },
  {
   "cell_type": "code",
   "execution_count": 18,
   "metadata": {},
   "outputs": [
    {
     "name": "stdout",
     "output_type": "stream",
     "text": [
      "['life', 'is', 'too', 'short', 'egular', 'expression', 'test']\n"
     ]
    }
   ],
   "source": [
    "p=re.compile('[a-z]+')\n",
    "print(p.findall('life is too short! Regular expression test'))"
   ]
  },
  {
   "cell_type": "markdown",
   "metadata": {},
   "source": [
    "- search() 함수 : 일치하는 첫번째 문자열만 리턴"
   ]
  },
  {
   "cell_type": "code",
   "execution_count": 19,
   "metadata": {},
   "outputs": [
    {
     "name": "stdout",
     "output_type": "stream",
     "text": [
      "<re.Match object; span=(2, 6), match='like'>\n"
     ]
    }
   ],
   "source": [
    "result=p.search('I like apple 123')\n",
    "print(result)"
   ]
  },
  {
   "cell_type": "code",
   "execution_count": 20,
   "metadata": {},
   "outputs": [
    {
     "name": "stdout",
     "output_type": "stream",
     "text": [
      "['like', 'apple']\n"
     ]
    }
   ],
   "source": [
    "result=p.findall('I like apple 123')\n",
    "print(result)"
   ]
  },
  {
   "cell_type": "markdown",
   "metadata": {},
   "source": [
    "# Match 메소드 예제 #1\n",
    "- 전화번호 분석\n",
    "- groups(): 매칭되는 문자열의 전체 그룹을 리턴"
   ]
  },
  {
   "cell_type": "code",
   "execution_count": 29,
   "metadata": {},
   "outputs": [
    {
     "data": {
      "text/plain": [
       "<re.Match object; span=(0, 11), match='02-123-4567'>"
      ]
     },
     "execution_count": 29,
     "metadata": {},
     "output_type": "execute_result"
    }
   ],
   "source": [
    "# ^...$ 를 명시해야 정확한 자리수 검사가 이루어짐\n",
    "tel_checker=re.compile(r'^(\\d{2,3})-(\\d{3,4})-(\\d{4})$')\n",
    "print(tel_checker.match('02-123-4567'))"
   ]
  },
  {
   "cell_type": "code",
   "execution_count": 32,
   "metadata": {},
   "outputs": [
    {
     "data": {
      "text/plain": [
       "<re.Match object; span=(0, 11), match='02-123-4567'>"
      ]
     },
     "execution_count": 32,
     "metadata": {},
     "output_type": "execute_result"
    }
   ],
   "source": [
    "#re.match(r'^(\\d{2,3})-(\\d{3,4})-(\\d{4})$','02-123-4567')\n",
    "re.match(tel_checker,'02-123-4567')"
   ]
  },
  {
   "cell_type": "code",
   "execution_count": 23,
   "metadata": {},
   "outputs": [
    {
     "name": "stdout",
     "output_type": "stream",
     "text": [
      "('02', '123', '4567')\n"
     ]
    }
   ],
   "source": [
    "match_groups=tel_checker.match('02-123-4567').groups()\n",
    "print(match_groups)"
   ]
  },
  {
   "cell_type": "code",
   "execution_count": 24,
   "metadata": {},
   "outputs": [
    {
     "name": "stdout",
     "output_type": "stream",
     "text": [
      "None\n",
      "None\n"
     ]
    }
   ],
   "source": [
    "print(tel_checker.match('052-950-45678')) # 자리수가 맞지 않음\n",
    "print(tel_checker.match('053950-4567'))     # dash(-)가 없음"
   ]
  },
  {
   "cell_type": "markdown",
   "metadata": {},
   "source": [
    "- 전화번호에서 dash(-) 제거하고 검사하기"
   ]
  },
  {
   "cell_type": "code",
   "execution_count": 26,
   "metadata": {},
   "outputs": [
    {
     "name": "stdout",
     "output_type": "stream",
     "text": [
      "<re.Match object; span=(0, 10), match='0539504567'>\n",
      "<re.Match object; span=(0, 10), match='0239501234'>\n"
     ]
    }
   ],
   "source": [
    "tel_number='053-950-4567'\n",
    "tel_number=tel_number.replace('-','')\n",
    "\n",
    "tel_checher1=re.compile(r'^(\\d{2,3})(\\d{3,4})(\\d{4})$')\n",
    "print(tel_checher1.match(tel_number))\n",
    "print(tel_checher1.match('0239501234')) # 02-3950-1234"
   ]
  },
  {
   "cell_type": "markdown",
   "metadata": {},
   "source": [
    "- groups() : 매칭 결과 튜플로 출력\n",
    "- group() : 매칭된 전체 문자열 반환\n",
    "- group(index) : 해당 인덱스에 매칭된 문자열 반환\n",
    "    - index=0 : 전체리턴"
   ]
  },
  {
   "cell_type": "code",
   "execution_count": 40,
   "metadata": {},
   "outputs": [],
   "source": [
    "tel_checker=re.compile(r'^(\\d{2,3})-(\\d{3,4})-(\\d{4})$')\n",
    "m=tel_checker.match('02-123-4567')"
   ]
  },
  {
   "cell_type": "code",
   "execution_count": 39,
   "metadata": {},
   "outputs": [
    {
     "name": "stdout",
     "output_type": "stream",
     "text": [
      "('02', '123', '4567')\n",
      "group():  02-123-4567\n",
      "group(0):  02-123-4567\n",
      "group(1):  02\n",
      "group(2,3):  ('123', '4567')\n"
     ]
    }
   ],
   "source": [
    "print(m.groups())\n",
    "print('group(): ', m.group())\n",
    "print('group(0): ', m.group(0))\n",
    "print('group(1): ', m.group(1))\n",
    "print('group(2,3): ', m.group(2,3))"
   ]
  },
  {
   "cell_type": "code",
   "execution_count": 37,
   "metadata": {},
   "outputs": [
    {
     "name": "stdout",
     "output_type": "stream",
     "text": [
      "strat():  0\n",
      "end():  11\n"
     ]
    }
   ],
   "source": [
    "print('strat(): ', m.start())   # 매칭된 문자열의 시작 인덱스\n",
    "print('end(): ',m.end())    # 매칭된 문자열의 마지막 인덱스+1"
   ]
  },
  {
   "cell_type": "markdown",
   "metadata": {},
   "source": [
    "(?:0|1|[6-9]) : ?뒤에나오는 0 or 1 or 6~9를 하나의 그룹으로"
   ]
  },
  {
   "cell_type": "code",
   "execution_count": 45,
   "metadata": {},
   "outputs": [],
   "source": [
    "cell_phone=re.compile('^(01(?:0|1|[6-9]))-(\\d{3,4})-(\\d{4})$')"
   ]
  },
  {
   "cell_type": "code",
   "execution_count": 46,
   "metadata": {},
   "outputs": [
    {
     "name": "stdout",
     "output_type": "stream",
     "text": [
      "<re.Match object; span=(0, 12), match='010-123-4567'>\n",
      "<re.Match object; span=(0, 13), match='019-1234-5678'>\n",
      "None\n",
      "None\n"
     ]
    }
   ],
   "source": [
    "print(cell_phone.match('010-123-4567'))\n",
    "print(cell_phone.match('019-1234-5678'))\n",
    "print(cell_phone.match('001-123-4567'))\n",
    "print(cell_phone.match('010-1234567'))"
   ]
  },
  {
   "cell_type": "markdown",
   "metadata": {},
   "source": [
    "### 전방탐색 (lookahhead)\n",
    "- 전방 긍정 탐색\n",
    "    - 패턴과 일치하는 문자열을 만나면 패턴 앞의 문자열 반환 : (?= 패턴)\n",
    "- 전방 부정 탐색(?!)\n",
    "    - 패턴과 일치하지 않는 문자열을 만나면 패턴 앞의 문자열 반환"
   ]
  },
  {
   "cell_type": "code",
   "execution_count": 51,
   "metadata": {},
   "outputs": [
    {
     "name": "stdout",
     "output_type": "stream",
     "text": [
      "1000 \n"
     ]
    }
   ],
   "source": [
    "# 전방 긍정 탐색 문자열이 won을 포함하고있으면 won 앞의 문자열을 반환\n",
    "lookahead1=re.search('.+(?=won)','1000 won')\n",
    "if (lookahead1!=None):\n",
    "    print(lookahead1.group())\n",
    "else:\n",
    "    print('None')"
   ]
  },
  {
   "cell_type": "code",
   "execution_count": 48,
   "metadata": {},
   "outputs": [
    {
     "name": "stdout",
     "output_type": "stream",
     "text": [
      "2023-01-26 \n"
     ]
    }
   ],
   "source": [
    "lookahead2=re.search('.+(?=am)','2023-01-26 am 10:00:01')\n",
    "print(lookahead2.group())"
   ]
  },
  {
   "cell_type": "code",
   "execution_count": 52,
   "metadata": {},
   "outputs": [
    {
     "name": "stdout",
     "output_type": "stream",
     "text": [
      "<re.Match object; span=(9, 13), match='5678'>\n"
     ]
    }
   ],
   "source": [
    "# 전방 부정 탐색 (4자리 숫자 다음에 '-'을 포함하지 않으면 앞의 문자열 리턴)\n",
    "lookahead3=re.search('\\d{4}(?!-)','010-1234-5678')\n",
    "print(lookahead3)"
   ]
  },
  {
   "cell_type": "markdown",
   "metadata": {},
   "source": [
    "### 후방 탐색(lookbehind)\n",
    "- 후방(?<) 긍정(=) 탐색\n",
    "    - 패턴과 일치하는 문자열을 만나면 패턴 뒤의 문자열 반환 (?<= 패턴)\n",
    "- 후방(?<) 부정(!) 탐색\n",
    "    - 패턴과 일치하지 않는 문자열을 만나면 패턴 뒤의 문자열 반환(?>! 패턴)"
   ]
  },
  {
   "cell_type": "code",
   "execution_count": 53,
   "metadata": {},
   "outputs": [
    {
     "name": "stdout",
     "output_type": "stream",
     "text": [
      "<re.Match object; span=(13, 22), match=' 11:10:01'>\n"
     ]
    }
   ],
   "source": [
    "# 후방 긍정 탐색 ('am' 다음에 문자가 1개이상 있으면, 해당 문자열 리턴)\n",
    "lookbehind1=re.search('(?<=am).+','2023-01-26 am 11:10:01')\n",
    "print(lookbehind1)"
   ]
  },
  {
   "cell_type": "code",
   "execution_count": 55,
   "metadata": {},
   "outputs": [
    {
     "name": "stdout",
     "output_type": "stream",
     "text": [
      "<re.Match object; span=(4, 8), match=' $51'>\n"
     ]
    }
   ],
   "source": [
    "lookbehind2=re.search('(?<=:).+','USD: $51')\n",
    "print(lookbehind2)"
   ]
  },
  {
   "cell_type": "code",
   "execution_count": 58,
   "metadata": {},
   "outputs": [
    {
     "name": "stdout",
     "output_type": "stream",
     "text": [
      "<re.Match object; span=(15, 18), match='100'>\n"
     ]
    }
   ],
   "source": [
    "# 후방 부정 탐색 ('\\b': 공백)\n",
    "# 공백 다음에 $기호가 없고 숫자가 1개이상이고 공백이 있는 경우\n",
    "lookbehind4=re.search(r'\\b(?<!\\$)\\d+\\b','I paid $30 for 100 apples.')\n",
    "print(lookbehind4)"
   ]
  },
  {
   "cell_type": "code",
   "execution_count": null,
   "metadata": {},
   "outputs": [],
   "source": []
  }
 ],
 "metadata": {
  "kernelspec": {
   "display_name": "base",
   "language": "python",
   "name": "python3"
  },
  "language_info": {
   "codemirror_mode": {
    "name": "ipython",
    "version": 3
   },
   "file_extension": ".py",
   "mimetype": "text/x-python",
   "name": "python",
   "nbconvert_exporter": "python",
   "pygments_lexer": "ipython3",
   "version": "3.11.7"
  }
 },
 "nbformat": 4,
 "nbformat_minor": 2
}

{
 "cells": [
  {
   "cell_type": "markdown",
   "metadata": {},
   "source": [
    "## Feature Selection\n",
    "- Filtering 방법 => 타켓/종속변수에 관련성이 높은 피쳐/독립변수 선택\n",
    "    - 상관계수\n",
    "    - 몇개? k개 -> 점진적으로 늘려가기\n",
    "- Wrapper 방법\n",
    "    - Forward 방식 : 기준에 따라 k개의 피쳐를 선택 => <ins>성능평가 => 피쳐추가 </ins>(반복)\n",
    "    - Backward 방식 : 모든 피쳐 선택 =><ins> 성능평가 => 피쳐제거 </ins>(반복)\n",
    "    - Step-Wide 방식 : Forward + Backward\n",
    "- Embedding 방법\n",
    "    - 모델 내부에 피쳐 선택 기능 포함된 것 => Important Feature, 주성분분석(PCA)\n"
   ]
  },
  {
   "cell_type": "markdown",
   "metadata": {},
   "source": [
    "### Tuning => 모델 수정\n",
    "- 모델의 성능 높이기\n",
    "    - scikit-learn에서 모델 인스턴스의 score 메서드\n",
    "    - 모델을 평가기준이 되는 성능지표 => 분류/회귀에 따라 다름\n",
    "- 모델 성능에 영향을 미치는 매개변수 => Hyper-parameter\n",
    "    - KNN => K개수\n",
    "    - LinearRegression => 가중치, 기울기 초기화 값. 규제\n",
    "    - 학습 알고리즘마다 Hyper-parameter가 다름!!\n",
    "- 피쳐제어 \n",
    "    - 피쳐 개수 조절\n",
    "    - 피쳐 추출 / 압축"
   ]
  },
  {
   "cell_type": "markdown",
   "metadata": {},
   "source": [
    "### Auto ML"
   ]
  },
  {
   "cell_type": "markdown",
   "metadata": {},
   "source": [
    "### 기계학습 \n",
    "- 데이터기반 ==> 규칙/패턴 ==> 수식 ==> 모델\n",
    "- 미래 예측 - 정보를 정확히 제공\n",
    "- 학습용 DS ==> 학습용 + 테스트용 분리\n",
    "- 테스트용 DS  \n",
    "==> 과대적합인지 과소적합인지 확인해보기위해서 데이터를 학습시키고, 학습데이터로 몇점인지 확인해보기! \n",
    "    - 학습데이터 점수와 테스트데이터 점수가 비슷하면 잘한것\n",
    "    - 학습데이터 점수는 높고 테스트 데이터 점수가 낮으면 과대적합\n"
   ]
  },
  {
   "cell_type": "markdown",
   "metadata": {},
   "source": []
  }
 ],
 "metadata": {
  "language_info": {
   "name": "python"
  }
 },
 "nbformat": 4,
 "nbformat_minor": 2
}

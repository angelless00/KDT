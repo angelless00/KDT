{
 "cells": [
  {
   "cell_type": "code",
   "execution_count": 3,
   "metadata": {},
   "outputs": [],
   "source": [
    "from bs4 import BeautifulSoup\n",
    "import requests\n",
    "import pandas as pd\n",
    "import collections\n",
    "\n",
    "if not hasattr(collections,'callable'):\n",
    "    collections.Callable=collections.abc.Callable\n",
    "\n",
    "url=f'https://gamung.tistory.com/entry/2%EB%85%84-%EC%B0%A8-%EC%9B%B9-%EA%B0%9C%EB%B0%9C%EC%9E%90%EA%B0%80-%EB%A7%90%ED%95%98%EB%8A%94-%EC%8B%A0%EC%9E%85-%EC%9B%B9-%EA%B0%9C%EB%B0%9C%EC%9E%90-%EB%A9%B4%EC%A0%91-%EC%8B%9C-%EB%8F%84%EC%9B%80%EB%90%A0-%EB%A7%8C%ED%95%9C-%EA%B2%83-2'\n",
    "html=requests.get(url)\n",
    "soup=BeautifulSoup(html.text,'html.parser')\n",
    "\n",
    "title=soup.find_all('article')\n"
   ]
  },
  {
   "cell_type": "code",
   "execution_count": 8,
   "metadata": {},
   "outputs": [
    {
     "data": {
      "text/plain": [
       "[<article id=\"content\">\n",
       " <div class=\"inner\">\n",
       " <div class=\"post-cover\">\n",
       " <div class=\"inner\">\n",
       " <span class=\"category\">후기 및 노하우</span>\n",
       " <h1>신입 웹 개발자 첫 면접에 한번에 합격한 후기 (2)</h1>\n",
       " <span class=\"meta\">\n",
       " <span class=\"author\">by 감웅</span>\n",
       " <span class=\"date\">2021. 5. 2.</span>\n",
       " </span>\n",
       " </div>\n",
       " </div>\n",
       " <div class=\"entry-content\">\n",
       " <script async=\"\" crossorigin=\"anonymous\" onerror=\"changeAdsenseToAdfit()\" src=\"https://pagead2.googlesyndication.com/pagead/js/adsbygoogle.js?client=ca-pub-9527582522912841\"></script>\n",
       " <!-- inventory -->\n",
       " <ins class=\"adsbygoogle\" data-ad-adfit-unit=\"DAN-nRFiQiN4avFYIKbk\" data-ad-client=\"ca-pub-9527582522912841\" data-ad-format=\"auto\" data-ad-slot=\"3825649038\" data-ad-type=\"inventory\" data-full-width-responsive=\"true\" style=\"margin:50px 0; display:block\"></ins>\n",
       " <script id=\"adsense_script\">\n",
       "      (adsbygoogle = window.adsbygoogle || []).push({});\n",
       " </script>\n",
       " <script>\n",
       "     if(window.ObserveAdsenseUnfilledState !== undefined){ ObserveAdsenseUnfilledState(); }\n",
       " </script>\n",
       " <!-- System - START -->\n",
       " <div class=\"revenue_unit_wrap\">\n",
       " <div class=\"revenue_unit_item adsense responsive\">\n",
       " <div class=\"revenue_unit_info\">반응형</div>\n",
       " <script async=\"async\" src=\"//pagead2.googlesyndication.com/pagead/js/adsbygoogle.js\"></script>\n",
       " <ins class=\"adsbygoogle\" data-ad-client=\"ca-pub-9943625449200454\" data-ad-format=\"auto\" data-ad-host=\"ca-host-pub-9691043933427338\" style=\"display: block;\"></ins>\n",
       " <script>(adsbygoogle = window.adsbygoogle || []).push({});</script>\n",
       " </div>\n",
       " </div>\n",
       " <!-- System - END -->\n",
       " <div class=\"tt_article_useless_p_margin contents_style\"><h2 data-ke-size=\"size26\"><b>신입 웹 개발자 첫 면접에 한번에 합격한 후기 (2)</b></h2>\n",
       " <p>해당 포스팅을 시작하기 전에 아래 포스팅을 안 보셨다면 먼저 봐주시길 바랍니다. <br/><br/><a href=\"https://gamung.tistory.com/18\">gamung.tistory.com/18</a></p>\n",
       " <figure contenteditable=\"false\" data-ke-type=\"opengraph\" data-og-description=\"신입 웹 개발자 첫 면접에 한번에 합격한 후기 안녕하세요! 감웅입니다. 요즘 취업이 많이 어려우시죠? 저 또한 2년 전만 해도 '내가 과연 취업을 할 수 있을지?', '몇 년이 흘러도 영원히 백수는 \" data-og-host=\"gamung.tistory.com\" data-og-image=\"https://scrap.kakaocdn.net/dn/hVkPW/hyJ4W5hFJ6/0MMgpg3KSAA0GkkWnaMGR0/img.png?width=717&amp;height=735&amp;face=0_0_717_735,https://scrap.kakaocdn.net/dn/byP8Bt/hyJ45nCNtl/W3MAJXni6KJPxLEf385DUk/img.png?width=717&amp;height=735&amp;face=0_0_717_735,https://scrap.kakaocdn.net/dn/2oVOn/hyJ4VSQrvl/Pfawn7WOrWs4kMgW2Hivs1/img.png?width=717&amp;height=735&amp;face=0_0_717_735\" data-og-source-url=\"https://gamung.tistory.com/18\" data-og-title=\"신입 웹 개발자 첫 면접에 한번에 합격한 후기\" data-og-type=\"article\" data-og-url=\"https://gamung.tistory.com/entry/2%EB%85%84-%EC%B0%A8-%EC%9B%B9-%EA%B0%9C%EB%B0%9C%EC%9E%90%EA%B0%80-%EB%A7%90%ED%95%98%EB%8A%94-%EC%8B%A0%EC%9E%85-%EC%9B%B9-%EA%B0%9C%EB%B0%9C%EC%9E%90-%EB%A9%B4%EC%A0%91-%EC%8B%9C-%EB%8F%84%EC%9B%80%EB%90%A0-%EB%A7%8C%ED%95%9C-%EA%B2%83\" id=\"og_1619914667018\"><a data-source-url=\"https://gamung.tistory.com/18\" href=\"https://gamung.tistory.com/18\" rel=\"noopener\" target=\"_blank\">\n",
       " <div class=\"og-image\" style=\"background-image: url('https://scrap.kakaocdn.net/dn/hVkPW/hyJ4W5hFJ6/0MMgpg3KSAA0GkkWnaMGR0/img.png?width=717&amp;height=735&amp;face=0_0_717_735,https://scrap.kakaocdn.net/dn/byP8Bt/hyJ45nCNtl/W3MAJXni6KJPxLEf385DUk/img.png?width=717&amp;height=735&amp;face=0_0_717_735,https://scrap.kakaocdn.net/dn/2oVOn/hyJ4VSQrvl/Pfawn7WOrWs4kMgW2Hivs1/img.png?width=717&amp;height=735&amp;face=0_0_717_735');\"> </div>\n",
       " <div class=\"og-text\">\n",
       " <p class=\"og-title\">신입 웹 개발자 첫 면접에 한번에 합격한 후기</p>\n",
       " <p class=\"og-desc\">신입 웹 개발자 첫 면접에 한번에 합격한 후기 안녕하세요! 감웅입니다. 요즘 취업이 많이 어려우시죠? 저 또한 2년 전만 해도 '내가 과연 취업을 할 수 있을지?', '몇 년이 흘러도 영원히 백수는</p>\n",
       " <p class=\"og-host\">gamung.tistory.com</p>\n",
       " </div>\n",
       " </a></figure>\n",
       " <p>이번에는 면접 준비를 어떻게 했는지에 대해서 포스팅을 시작해보겠습니다.</p>\n",
       " <h4 data-ke-size=\"size20\"><br/><b>면접 준비<br/></b></h4>\n",
       " <p>태어나서 알바 면접 경력밖에 없는 저에게 첫 면접 기회가 찾아왔습니다. 코딩 테스트를 볼 때만 해도 '붙으면 좋고 안 붙으면 다시 도전하면 된다'라는 마음이 '제발 붙었으면 좋겠다'라는 간절함으로 바뀌었습니다.<br/>하지만, 생애 처음 준비해보는 면접이라 무엇을 어떻게 하면 좋을지에 대해 아무것도 몰랐습니다. 시간은 정해져 있고 마음은 촉박해져만 가니 시야가 흐려지더군요. 다시 마음을 가다듬고 천천히 찾아보다가 세 가지를 하기로 결정합니다.</p>\n",
       " <p> </p>\n",
       " <ul data-ke-list-type=\"circle\" style=\"list-style-type: circle;\">\n",
       " <li>회사 잡플래닛 후기에 나온 면접 질문 리스트를 다 뽑아서 대비하기</li>\n",
       " <li>신입 개발자 면접 준비 관련 책 하나를 파기</li>\n",
       " <li>웹에 대한 기본개념 리마인드</li>\n",
       " </ul>\n",
       " <p>잡플래닛 후기에 나온 면접 질문은 또 나올 수 있는 확률이 있으므로 메모장에 질문 리스트를 적었습니다. <br/>또한 면접 질문에 대해 블로그에 나온 글보다는 실제 전문가가 쓴 책 한 권을 파는 것이 좋을 것 같아서 면접 준비 관련 책 하나를 동네 도서관에 빌려서 공부했습니다. 마지막으로는 웹에 대한 전반적인 개념에 대해서 학부시절 공부하던 것을 다시 리마인드 하였습니다.<br/><br/></p>\n",
       " <p><b>정말 미친 듯이 하루에 14시간 정도를 투자하였습니다.</b> 밥 먹을 때도 머릿속으로 정리를 하고 자는 시간 빼고 모든 의식을 면접 준비로 채워 넣었던 기억이 나네요. 좀 더 디테일하게 방법을 적어보자면 크게 <b>인성, 기술</b> 두 파트로 나누어서 준비를 했는데요. 인성이야 뭐 구글링 해서 준비해도 충분합니다. 문제는 기술인데요. 기술 같은 경우는 다시 <b>지식, 스피킹(Speaking)</b> 연습으로 또 나눠서 준비를 했습니다.<br/><br/></p>\n",
       " <p><b>지식</b>을 위해서 저는 개발 면접 관련 책을 도서관에서 빌려서 매일매일 분량을 정해놓고 1차 면접 전까지 총 2번을 훑었습니다. 또한 웹 개발자니까 HTTP, HTTPS와 같은 기본개념, 웹 통신 원리, 네트워크 기본, 데이터베이스 개념 등 기본개념을 한번 더 정리하는 것으로 준비했습니다.<br/><br/><b>스피킹</b>을 위해서는 회사 잡플래닛 후기에 나온 질문 리스트들을 소리 내어서 스스로 질문해보고 나름의 답변으로 답하는 것으로 준비를 했습니다. 스피킹은 생각보다 중요합니다. 면접은 근본적으로 질문에 대한 답변을 전달하는 것인데 전달력이 부족하면 내가 아는 만큼 전달을 못하는 것이니 스피킹 연습은 중요합니다.</p>\n",
       " <p> </p>\n",
       " <h4 data-ke-size=\"size20\"><b>1차 면접 (인성, 기술)</b></h4>\n",
       " <p>하루하루 준비를 하다 보니 드디어 1차 면접이 다가왔습니다. 면접 대기실에서 대기할 때의 그 긴장감.. 아직도 잊히지가 않네요. 하여튼, 제 차례가 되어 면접을 보러 들어갔을 때 기억이 아직도 생생합니다. 면접 진행방식은 회사마다 다르겠지만 제가 본 곳은 면접관 두 분(인성, 기술)에 면접자 한 명이고 되게 편안한 분위기로 진행을 했습니다. 면접관분들이 면접자 긴장을 풀어주기 위해서 초반에 많이 노력하셨던 기억도 나네요.<br/><br/></p>\n",
       " <p>분위기가 편해지니 곧바로 질문의 시간. 생각나는 질문 몇 가지만 파트별로 적어보면 다음과 같았습니다.<br/><b></b></p>\n",
       " <p> </p>\n",
       " <p><b>인성</b></p>\n",
       " <ul data-ke-list-type=\"circle\" style=\"list-style-type: circle;\">\n",
       " <li>프로젝트 경험이 많이 없으신데 이것을 어떻게 커버할 것이냐?</li>\n",
       " <li>스스로 생각하는 자신의 장점과 단점, 단점을 보완하기 위한 노력은?</li>\n",
       " </ul>\n",
       " <p><b>기술</b></p>\n",
       " <ul data-ke-list-type=\"circle\" style=\"list-style-type: circle;\">\n",
       " <li>HTTP와 HTTPS의 차이는?</li>\n",
       " <li>프로세스와 스레드의 차이</li>\n",
       " <li>Deadlock 해결방법  </li>\n",
       " <li>데이터베이스 관련 기본</li>\n",
       " </ul>\n",
       " <p> </p>\n",
       " <p>인성면접은 예상했던 질문들이 나와서 순조롭게 대답했습니다. 그러나, 기술면접 같은 경우 저기에 쓰인 질문만 봤을 때는 어려워 보이는 게 없지만 질문에 답을 하면 <b>꼬리를 무는 질문을 하여 좀 더 deep 하게 물었습니다.</b></p>\n",
       " <p> </p>\n",
       " <p>예를 들어, Deadlock 해결방법에 대한 질문에 프로세스 kill을 한다고 답을 하면, 프로세스 kill을 하면 안 되는 가상의 상황을 면접관님이 제시를 하셔서 이럴 땐 어떻게 할 것인지를 물어봅니다. 또 그것에 대해 답을 하면 다른 방법은 없는지, 그것이 적합한 방법인지에 대해서 주관적인 생각을 물어봅니다. </p>\n",
       " <p>이 부분은 전혀 준비를 하지 못했던 터라 대답을 못하거나 얼버무렸던 기억이 납니다. 지금 돌이켜 생각해보면 논리적으로 문제를 잘 접근해서 해결을 할 수 있는지를 보려고 하셨던 것 같습니다. 이런 경험으로 다시 한번 기본적인 base에 대해 중요하다는 것을 많이 느꼈지요. </p>\n",
       " <p> </p>\n",
       " <p>면접을 보고 나오면서 드는 생각은 '아 망했다'였지만, 웬걸 합격 문자가 날아와서 기쁜 마음도 잠시 2차 면접인 임원면접 날짜를 통보받고 곧바로 준비하게 됩니다.</p>\n",
       " <p> </p>\n",
       " <h4 data-ke-size=\"size20\"><b>2차 면접 (임원면접)</b></h4>\n",
       " <p>1차 면접까지 붙으니 간절함은 더 해졌습니다. 임원면접에 대해 잡플래닛 후기를 보니 난이도가 어려움으로 되어있어서 1차 면접 준비하던 방법대로 준비를 하되, 좀 더 추가적으로 1차 면접의 문제점을 보완하기 위해 노력했습니다. 1차 면접에서 답을 못했던 질문들에 대해서 리스트를 적고 해당 질문에 대한 주관적인 생각을 적고 스피킹 했습니다. 주관적인 생각을 적은 이유는 인터넷에 쳐도 답이 안 나왔기 때문입니다. 또한 자료구조에 대한 공부도 했는데요. 제가 보던 면접 책에 나와있는 자료구조 관련 알고리즘 문제를 5번씩 풀어봤습니다. 참고로 면접 책은 'JAVA 프로그래밍 면접 이렇게 준비한다'를 봤는데 정말 도움됐습니다. 이렇게 2주 정도 준비 후에 임원면접을 보러 갔습니다.</p>\n",
       " <p> </p>\n",
       " <p>임원면접은 인성 + 기술 두 가지를 좀 더 폭넓게 봤던 기억이 나네요. 기억나는 질문 몇 가지만 추려보자면 다음과 같았습니다.</p>\n",
       " <p> </p>\n",
       " <script async=\"\" crossorigin=\"anonymous\" src=\"https://pagead2.googlesyndication.com/pagead/js/adsbygoogle.js?client=ca-pub-9943625449200454\"></script>\n",
       " <ins class=\"adsbygoogle\" data-ad-client=\"ca-pub-9943625449200454\" data-ad-format=\"fluid\" data-ad-layout=\"in-article\" data-ad-slot=\"9521635131\" style=\"display:block; text-align:center;\"></ins>\n",
       " <script>\n",
       "      (adsbygoogle = window.adsbygoogle || []).push({});\n",
       " </script>\n",
       " <p> </p>\n",
       " <p><b>인성</b></p>\n",
       " <ul data-ke-list-type=\"circle\" style=\"list-style-type: circle;\">\n",
       " <li>친구들한테 자주 듣는 말이나 별명이 있습니까?</li>\n",
       " <li>학창 시절 기억에 남는 프로그래밍 활동은 뭐가 있습니까?</li>\n",
       " </ul>\n",
       " <p><b>기술</b></p>\n",
       " <ul data-ke-list-type=\"circle\" style=\"list-style-type: circle;\">\n",
       " <li>기본적인 알고리즘 문제 몇 가지</li>\n",
       " <li>제일 자신 있는 컴퓨터 공학 과목 선택 후, 그것에 대한 심도 있는 질문</li>\n",
       " <li>브라우저에 특정 url을 쳤을 때 동작을 아는 데로 설명</li>\n",
       " </ul>\n",
       " <p>인성면접은 준비한 데로 나와서 수월하게 대답하였고, 기술면접은 웹에 대한 전체적인 이해를 처음에 물어보다가 갑자기 제일 자신 있는 과목을 선택하라고 해서 네트워크에 대해 선택을 했습니다. 그리고 해당 과목에 대해 기본적인 수준의 문제부터 수박 겉핥기로 공부하면 모르는 질문까지 했습니다. 확실히 웹과 관련된 과목의 기본적인 지식에 대해서 학습하던 것이 많은 도움이 됐습니다. 예를 들면, 네트워크 관련해서 질문하실 때는 ARP란 무엇인지와 같은 학부시절에 잠깐 다뤘던 것들을 질문받았습니다.<br/><br/>면접 경험을 통해 웹 개발자라면 다음과 같은 지식은 알고 있어야 된다고 생각합니다. <span style=\"color: #333333;\">생각나는 게 여러 가지 있긴 한데.. 필수적으로는 알아야 된다고 생각합니다.</span></p>\n",
       " <ul data-ke-list-type=\"circle\" style=\"list-style-type: circle;\">\n",
       " <li>프로토콜의 개념 (대표적으로 HTTP와 HTTPS 차이,  TCP/UDP)</li>\n",
       " <li>웹 통신이 어떻게 이루어지는지</li>\n",
       " </ul>\n",
       " <p>임원면접을 본 후 2주 정도 시간이 흘러 결과 발표날.. 아직도 기억이 납니다. 오후 5시쯤 돼도 아무런 문자가 안 와서 떨어졌구나 생각하던 찰나에 합격 문자가 왔던 그 순간을 잊지 못합니다. <br/>그때까지의 노력이 보상받는 느낌이 들면서 첫 면접만에 합격이라는 사실에 감사했던 추억이 떠오르네요. 사실, 제가 운이 좋다고 저는 스스로 생각합니다. 왜냐면, 회사가 원하는 인재상과 제 이미지가 어느 정도 부합했기에 뽑힌 것이니까요.<br/><br/>하지만, 저처럼 팀플 경험도 없고 그렇다고 컴공이 주전공도 아니고 자격증 하나 없는 사람도 이렇게 취업시장에서 취업을 한 사례가 있다는 것을 말씀드리고 싶습니다. <b>대신 자신의 약점(저는 부족한 플젝 경험)을  커버할만한 기본적인 지식에 대한 폭넓은 이해와 같은 커버할 강점은 하나씩 있어야 됩니다.</b></p>\n",
       " <p> </p>\n",
       " <p>저 같은 경우는 학부시절 컴퓨터 관련 과목은 7개밖에 안 들었지만 각 과목이 운영체제론, 데이터베이스 기초, 네트워크 관련, 컴퓨터 구조등 원리와 기본을 다루는 과목이었고 공부도 나름 게을리하지 않았기 때문에 지식에 대한 자신감은 있었고 이것이 제 강점이었다고 스스로 생각했습니다. 혹시나 '이 정도 스펙으로 내가 취업이 될까?'라고 생각하시는 분들이 있으시다면 생각 말고 일단 도전해보세요. 어떤 회사에서는 당신을 원할 수도 있습니다. 일단 해보는 것이 가장 중요합니다. 일단 도전하면 저절로 간절해지고 노력을 하게 되니 지금 바로 취업시장에 도전해보세요. 긴 글 읽어주셔서 감사합니다.</p>\n",
       " <p> </p>\n",
       " <p> </p></div>\n",
       " <!-- System - START -->\n",
       " <div class=\"revenue_unit_wrap\">\n",
       " <div class=\"revenue_unit_item adsense responsive\">\n",
       " <div class=\"revenue_unit_info\">반응형</div>\n",
       " <script async=\"async\" src=\"//pagead2.googlesyndication.com/pagead/js/adsbygoogle.js\"></script>\n",
       " <ins class=\"adsbygoogle\" data-ad-client=\"ca-pub-9943625449200454\" data-ad-format=\"auto\" data-ad-host=\"ca-host-pub-9691043933427338\" style=\"display: block;\"></ins>\n",
       " <script>(adsbygoogle = window.adsbygoogle || []).push({});</script>\n",
       " </div>\n",
       " </div>\n",
       " <!-- System - END -->\n",
       " <div class=\"container_postbtn #post_button_group\">\n",
       " <div class=\"postbtn_like\"><script>window.ReactionButtonType = 'reaction';\n",
       " window.ReactionApiUrl = '//gamung.tistory.com/reaction';\n",
       " window.ReactionReqBody = {\n",
       "     entryId: 19\n",
       " }</script>\n",
       " <div class=\"wrap_btn\" id=\"reaction-19\"></div>\n",
       " <script src=\"https://tistory1.daumcdn.net/tistory_admin/userblog/tistory-b39cbb91e82c71c0b7d79bc57d8787be444fd0df/static/script/reaction-button-container.min.js\"></script><div class=\"wrap_btn wrap_btn_share\"><button aria-expanded=\"false\" class=\"btn_post sns_btn btn_share\" data-blog-title=\"감웅's issue story\" data-description=\"신입 웹 개발자 첫 면접에 한번에 합격한 후기 (2) 해당 포스팅을 시작하기 전에 아래 포스팅을 안 보셨다면 먼저 봐주시길 바랍니다. gamung.tistory.com/18 신입 웹 개발자 첫 면접에 한번에 합격한 후기 신입 웹 개발자 첫 면접에 한번에 합격한 후기 안녕하세요! 감웅입니다. 요즘 취업이 많이 어려우시죠? 저 또한 2년 전만 해도 '내가 과연 취업을 할 수 있을지?', '몇 년이 흘러도 영원히 백수는 gamung.tistory.com 이번에는 면접 준비를 어떻게 했는지에 대해서 포스팅을 시작해보겠습니다. 면접 준비 태어나서 알바 면접 경력밖에 없는 저에게 첫 면접 기회가 찾아왔습니다. 코딩 테스트를 볼 때만 해도 '붙으면 좋고 안 붙으면 다시 도전하면 된다'라는 마음이 '제발 붙었으면 좋겠..\" data-pc-url=\"https://gamung.tistory.com/entry/2%EB%85%84-%EC%B0%A8-%EC%9B%B9-%EA%B0%9C%EB%B0%9C%EC%9E%90%EA%B0%80-%EB%A7%90%ED%95%98%EB%8A%94-%EC%8B%A0%EC%9E%85-%EC%9B%B9-%EA%B0%9C%EB%B0%9C%EC%9E%90-%EB%A9%B4%EC%A0%91-%EC%8B%9C-%EB%8F%84%EC%9B%80%EB%90%A0-%EB%A7%8C%ED%95%9C-%EA%B2%83-2\" data-profile-image=\"https://tistory1.daumcdn.net/tistory/3174136/attach/edbc5a3073e3418ead72d4150ac0beb1\" data-profile-name=\"감웅\" data-relative-pc-url=\"/entry/2%EB%85%84-%EC%B0%A8-%EC%9B%B9-%EA%B0%9C%EB%B0%9C%EC%9E%90%EA%B0%80-%EB%A7%90%ED%95%98%EB%8A%94-%EC%8B%A0%EC%9E%85-%EC%9B%B9-%EA%B0%9C%EB%B0%9C%EC%9E%90-%EB%A9%B4%EC%A0%91-%EC%8B%9C-%EB%8F%84%EC%9B%80%EB%90%A0-%EB%A7%8C%ED%95%9C-%EA%B2%83-2\" data-thumbnail-url=\"https://t1.daumcdn.net/tistory_admin/static/images/openGraph/opengraph.png\" data-tiara-action-name=\"공유_클릭\" data-title=\"신입 웹 개발자 첫 면접에 한번에 합격한 후기 (2)\" type=\"button\"><span class=\"ico_postbtn ico_share\">공유하기</span></button>\n",
       " <div class=\"layer_post\" id=\"tistorySnsLayer\"></div>\n",
       " </div><div class=\"wrap_btn wrap_btn_etc\" data-category-visibility=\"public\" data-entry-id=\"19\" data-entry-visibility=\"public\"><button aria-expanded=\"false\" class=\"btn_post btn_etc2\" data-tiara-action-name=\"더보기_클릭\" data-tiara-custom=\"role=guest\" type=\"button\"><span class=\"ico_postbtn ico_etc\">게시글 관리</span></button>\n",
       " <div class=\"layer_post\" id=\"tistoryEtcLayer\"></div>\n",
       " </div></div>\n",
       " <button class=\"btn_menu_toolbar btn_subscription #subscribe\" data-blog-id=\"3174136\" data-device=\"web_pc\" data-tiara-action-name=\"구독 버튼_클릭\" data-url=\"https://gamung.tistory.com/entry/2%EB%85%84-%EC%B0%A8-%EC%9B%B9-%EA%B0%9C%EB%B0%9C%EC%9E%90%EA%B0%80-%EB%A7%90%ED%95%98%EB%8A%94-%EC%8B%A0%EC%9E%85-%EC%9B%B9-%EA%B0%9C%EB%B0%9C%EC%9E%90-%EB%A9%B4%EC%A0%91-%EC%8B%9C-%EB%8F%84%EC%9B%80%EB%90%A0-%EB%A7%8C%ED%95%9C-%EA%B2%83-2\" type=\"button\"><em class=\"txt_state\"></em><strong class=\"txt_tool_id\">감웅's issue story</strong><span class=\"img_common_tistory ico_check_type1\"></span></button><div class=\"postbtn_ccl\" data-ccl-derive=\"2\" data-ccl-type=\"1\">\n",
       " <a class=\"link_ccl\" href=\"https://creativecommons.org/licenses/by-nc-nd/4.0/deed.ko\" rel=\"license\" target=\"_blank\">\n",
       " <span class=\"bundle_ccl\">\n",
       " <span class=\"ico_postbtn ico_ccl1\">저작자표시</span> <span class=\"ico_postbtn ico_ccl2\">비영리</span> <span class=\"ico_postbtn ico_ccl3\">변경금지</span>\n",
       " </span>\n",
       " </a>\n",
       " </div>\n",
       " <!--\n",
       " <rdf:RDF xmlns=\"https://web.resource.org/cc/\" xmlns:dc=\"https://purl.org/dc/elements/1.1/\" xmlns:rdf=\"https://www.w3.org/1999/02/22-rdf-syntax-ns#\">\n",
       "     <Work rdf:about=\"\">\n",
       "         <license rdf:resource=\"https://creativecommons.org/licenses/by-nc-nd/4.0/deed.ko\" />\n",
       "     </Work>\n",
       "     <License rdf:about=\"https://creativecommons.org/licenses/by-nc-nd/4.0/deed.ko\">\n",
       "         <permits rdf:resource=\"https://web.resource.org/cc/Reproduction\"/>\n",
       "         <permits rdf:resource=\"https://web.resource.org/cc/Distribution\"/>\n",
       "         <requires rdf:resource=\"https://web.resource.org/cc/Notice\"/>\n",
       "         <requires rdf:resource=\"https://web.resource.org/cc/Attribution\"/>\n",
       "         <prohibits rdf:resource=\"https://web.resource.org/cc/CommercialUse\"/>\n",
       " \n",
       "     </License>\n",
       " </rdf:RDF>\n",
       " --> <div data-tistory-react-app=\"SupportButton\"></div>\n",
       " </div>\n",
       " <!-- PostListinCategory - START -->\n",
       " <div class=\"another_category another_category_color_gray\">\n",
       " <h4>'<a href=\"/category/%ED%9B%84%EA%B8%B0%20%EB%B0%8F%20%EB%85%B8%ED%95%98%EC%9A%B0\">후기 및 노하우</a>' 카테고리의 다른 글</h4>\n",
       " <table>\n",
       " <tr>\n",
       " <th><a href=\"/entry/%EC%9D%B4%EC%A7%80%EC%B6%9C\">직접 써보고 적는 가계부 어플 추천 (+노하우)</a>  <span>(1)</span></th>\n",
       " <td>2023.02.18</td>\n",
       " </tr>\n",
       " <tr>\n",
       " <th><a href=\"/entry/2%EB%85%84-%EC%B0%A8-%EC%9B%B9-%EA%B0%9C%EB%B0%9C%EC%9E%90%EA%B0%80-%EB%A7%90%ED%95%98%EB%8A%94-%EC%8B%A0%EC%9E%85-%EC%9B%B9-%EA%B0%9C%EB%B0%9C%EC%9E%90-%EB%A9%B4%EC%A0%91-%EC%8B%9C-%EB%8F%84%EC%9B%80%EB%90%A0-%EB%A7%8C%ED%95%9C-%EA%B2%83\">신입 웹 개발자 첫 면접에 한번에 합격한 후기</a>  <span>(8)</span></th>\n",
       " <td>2021.04.29</td>\n",
       " </tr>\n",
       " <tr>\n",
       " <th><a href=\"/entry/%ED%8B%B0%EC%8A%A4%ED%86%A0%EB%A6%AC-%EC%B4%88%EB%B3%B4%EA%B0%80-%ED%8F%AC%EC%8A%A4%ED%8C%85-6%EA%B0%9C%EB%A1%9C-%EA%B5%AC%EA%B8%80-%EC%95%A0%EB%93%9C%EC%84%BC%EC%8A%A4-%ED%95%9C%EB%B2%88%EC%97%90-%EC%8A%B9%EC%9D%B8%EB%B0%9B%EC%9D%80-%ED%9B%84%EA%B8%B0\">티스토리 초보가 포스팅 6개로 구글 애드센스 한번에 승인받은 후기</a>  <span>(0)</span></th>\n",
       " <td>2021.04.23</td>\n",
       " </tr>\n",
       " <tr>\n",
       " <th><a href=\"/entry/4%EB%85%84%EA%B0%84-%EA%B7%9C%EC%B9%99%EC%A0%81%EC%9C%BC%EB%A1%9C-%EC%83%9D%ED%99%9C%ED%95%9C-%ED%9B%84%EA%B8%B0\">4년간 규칙적으로 생활한 후기</a>  <span>(1)</span></th>\n",
       " <td>2020.02.06</td>\n",
       " </tr>\n",
       " </table>\n",
       " </div>\n",
       " <!-- PostListinCategory - END -->\n",
       " </div>\n",
       " <div class=\"tags\">\n",
       " <h2>태그</h2>\n",
       " <a href=\"/tag/%EA%B0%9C%EB%B0%9C%EC%9E%90%20%EB%A9%B4%EC%A0%91%20%ED%9B%84%EA%B8%B0\" rel=\"tag\">개발자 면접 후기</a>, <a href=\"/tag/%EB%A9%B4%EC%A0%91%20%ED%9B%84%EA%B8%B0\" rel=\"tag\">면접 후기</a>, <a href=\"/tag/%EC%8B%A0%EC%9E%85%20%EA%B0%9C%EB%B0%9C%EC%9E%90%20%EB%A9%B4%EC%A0%91%20%ED%9B%84%EA%B8%B0\" rel=\"tag\">신입 개발자 면접 후기</a>, <a href=\"/tag/%EC%8B%A0%EC%9E%85%EA%B0%9C%EB%B0%9C%EC%9E%90\" rel=\"tag\">신입개발자</a>, <a href=\"/tag/%EC%8B%A0%EC%9E%85%EA%B0%9C%EB%B0%9C%EC%9E%90%20%EB%A9%B4%EC%A0%91\" rel=\"tag\">신입개발자 면접</a>, <a href=\"/tag/%EC%9B%B9%EA%B0%9C%EB%B0%9C%EC%9E%90%20%EB%A9%B4%EC%A0%91\" rel=\"tag\">웹개발자 면접</a>, <a href=\"/tag/%EC%9B%B9%EA%B0%9C%EB%B0%9C%EC%9E%90%20%EB%A9%B4%EC%A0%91%20%ED%9B%84%EA%B8%B0\" rel=\"tag\">웹개발자 면접 후기</a>\n",
       " </div>\n",
       " <div class=\"related-articles\">\n",
       " <h2>관련글</h2>\n",
       " <ul>\n",
       " <li>\n",
       " <a href=\"/entry/%EC%9D%B4%EC%A7%80%EC%B6%9C?category=874083\">\n",
       " <figure>\n",
       " <img alt=\"\" src=\"//i1.daumcdn.net/thumb/C176x120/?fname=https://img1.daumcdn.net/thumb/R750x0/?scode=mtistory2&amp;fname=https%3A%2F%2Fblog.kakaocdn.net%2Fdn%2FcR7Rzc%2FbtrZJDZyF1j%2FBivEKxtFq6D5tsg6sh8o9K%2Fimg.jpg\">\n",
       " </img></figure>\n",
       " <span class=\"title\">직접 써보고 적는 가계부 어플 추천 (+노하우)</span>\n",
       " </a>\n",
       " </li>\n",
       " <li>\n",
       " <a href=\"/entry/2%EB%85%84-%EC%B0%A8-%EC%9B%B9-%EA%B0%9C%EB%B0%9C%EC%9E%90%EA%B0%80-%EB%A7%90%ED%95%98%EB%8A%94-%EC%8B%A0%EC%9E%85-%EC%9B%B9-%EA%B0%9C%EB%B0%9C%EC%9E%90-%EB%A9%B4%EC%A0%91-%EC%8B%9C-%EB%8F%84%EC%9B%80%EB%90%A0-%EB%A7%8C%ED%95%9C-%EA%B2%83?category=874083\">\n",
       " <figure>\n",
       " <img alt=\"\" src=\"//i1.daumcdn.net/thumb/C176x120/?fname=https://img1.daumcdn.net/thumb/R750x0/?scode=mtistory2&amp;fname=https%3A%2F%2Fblog.kakaocdn.net%2Fdn%2FHQ6Zq%2Fbtq3KwWHMiG%2FkLhUSvMi6YWr7jlVV8RsC1%2Fimg.png\">\n",
       " </img></figure>\n",
       " <span class=\"title\">신입 웹 개발자 첫 면접에 한번에 합격한 후기</span>\n",
       " </a>\n",
       " </li>\n",
       " <li>\n",
       " <a href=\"/entry/%ED%8B%B0%EC%8A%A4%ED%86%A0%EB%A6%AC-%EC%B4%88%EB%B3%B4%EA%B0%80-%ED%8F%AC%EC%8A%A4%ED%8C%85-6%EA%B0%9C%EB%A1%9C-%EA%B5%AC%EA%B8%80-%EC%95%A0%EB%93%9C%EC%84%BC%EC%8A%A4-%ED%95%9C%EB%B2%88%EC%97%90-%EC%8A%B9%EC%9D%B8%EB%B0%9B%EC%9D%80-%ED%9B%84%EA%B8%B0?category=874083\">\n",
       " <figure>\n",
       " <img alt=\"\" src=\"//i1.daumcdn.net/thumb/C176x120/?fname=https://img1.daumcdn.net/thumb/R750x0/?scode=mtistory2&amp;fname=https%3A%2F%2Fblog.kakaocdn.net%2Fdn%2FbSrVzJ%2Fbtq3bVPEWut%2FXMq5GnNzKY4AJ4AdUqlKC0%2Fimg.png\">\n",
       " </img></figure>\n",
       " <span class=\"title\">티스토리 초보가 포스팅 6개로 구글 애드센스 한번에 승인받은 후기</span>\n",
       " </a>\n",
       " </li>\n",
       " <li>\n",
       " <a href=\"/entry/4%EB%85%84%EA%B0%84-%EA%B7%9C%EC%B9%99%EC%A0%81%EC%9C%BC%EB%A1%9C-%EC%83%9D%ED%99%9C%ED%95%9C-%ED%9B%84%EA%B8%B0?category=874083\">\n",
       " <figure>\n",
       " <img alt=\"\" src=\"//i1.daumcdn.net/thumb/C176x120/?fname=https://img1.daumcdn.net/thumb/R750x0/?scode=mtistory2&amp;fname=https%3A%2F%2Fblog.kakaocdn.net%2Fdn%2FnAyxE%2FbtqBL8CmHLF%2FqBjeALJKjjfTwABYs5z5w1%2Fimg.png\">\n",
       " </img></figure>\n",
       " <span class=\"title\">4년간 규칙적으로 생활한 후기</span>\n",
       " </a>\n",
       " </li>\n",
       " </ul>\n",
       " </div>\n",
       " <div class=\"comments\">\n",
       " <h2>댓글<span class=\"count\"><span id=\"commentCount19_0\">6</span></span></h2>\n",
       " <div data-tistory-react-app=\"Namecard\"></div><div id=\"entry19Comment\">\n",
       " <div class=\"comment-list\">\n",
       " <ul>\n",
       " <li id=\"none_display_division_for_comment_list_19\" style=\"display: none;\"></li>\n",
       " <script type=\"text/javascript\">\n",
       "     setInitialEntryComments(19, 1723616069)\n",
       " </script>\n",
       " </ul>\n",
       " </div>\n",
       " <form action=\"/comment/add/19\" method=\"post\" onsubmit=\"return false\" style=\"margin: 0\">\n",
       " <div class=\"comment-form\">\n",
       " <div class=\"field\">\n",
       " <input name=\"name\" placeholder=\"이름\" type=\"text\" value=\"\">\n",
       " <input maxlength=\"8\" name=\"password\" placeholder=\"비밀번호\" type=\"password\" value=\"\">\n",
       " <div class=\"secret\">\n",
       " <input id=\"secret\" name=\"secret\" type=\"checkbox\">\n",
       " <label for=\"secret\" tabindex=\"0\">비밀글</label>\n",
       " </input></div>\n",
       " </input></input></div>\n",
       " <textarea cols=\"\" name=\"comment\" placeholder=\"여러분의 소중한 댓글을 입력해주세요.\" rows=\"4\"></textarea>\n",
       " <div class=\"submit\">\n",
       " <button class=\"btn\" onclick=\"addComment(this, 19); return false;\" type=\"submit\">등록</button>\n",
       " </div>\n",
       " </div>\n",
       " </form>\n",
       " </div>\n",
       " <script type=\"text/javascript\">loadedComments[19]=true;\n",
       " findFragmentAndHighlight(19);</script>\n",
       " </div>\n",
       " </div>\n",
       " </article>]"
      ]
     },
     "execution_count": 8,
     "metadata": {},
     "output_type": "execute_result"
    }
   ],
   "source": [
    "title"
   ]
  },
  {
   "cell_type": "code",
   "execution_count": 100,
   "metadata": {},
   "outputs": [
    {
     "data": {
      "text/plain": [
       "{'target': '_blank',\n",
       " 'href': 'https://ehdvudee.tistory.com/53',\n",
       " 'class': ['link_tit'],\n",
       " 'onclick': 'goOtherCR(this,\"a=web_lis*w.link&r=2&i=a00000fa_4ecefc66fa73caa925b8e012%5EG&u=\"+urlencode(this.href))'}"
      ]
     },
     "execution_count": 100,
     "metadata": {},
     "output_type": "execute_result"
    }
   ],
   "source": [
    "title[1].attrs"
   ]
  },
  {
   "cell_type": "code",
   "execution_count": 14,
   "metadata": {},
   "outputs": [],
   "source": [
    "data=pd.read_csv('datascientist.csv')"
   ]
  },
  {
   "cell_type": "code",
   "execution_count": 5,
   "metadata": {},
   "outputs": [
    {
     "data": {
      "text/plain": [
       "0                             코딩 테스트\n",
       "1      데이터 사이언티스트 면접 대비 (1) 분석 일반 파트\n",
       "2                                Tag\n",
       "3               데이터 분석가 면접 질문 리스트 정리\n",
       "4                             티스토리툴바\n",
       "                   ...              \n",
       "128                              Tag\n",
       "129                       Fit to Fly\n",
       "130                               태그\n",
       "131                               태그\n",
       "132             LX 세미콘 부스 구성 및  분위기 \n",
       "Name: 제목, Length: 133, dtype: object"
      ]
     },
     "execution_count": 5,
     "metadata": {},
     "output_type": "execute_result"
    }
   ],
   "source": [
    "data['제목']"
   ]
  },
  {
   "cell_type": "code",
   "execution_count": 6,
   "metadata": {},
   "outputs": [
    {
     "data": {
      "text/plain": [
       "0      https://aplab.tistory.com/entry/SKT-%EB%8D%B0%...\n",
       "1                        https://gils-lab.tistory.com/79\n",
       "2                         https://ok-lab.tistory.com/315\n",
       "3                      https://lifeofdori.tistory.com/14\n",
       "4                    https://woo-niverse.tistory.com/241\n",
       "                             ...                        \n",
       "128                 https://approximation.tistory.com/81\n",
       "129                          https://shumw.tistory.com/m\n",
       "130                           https://i7i7.tistory.com/3\n",
       "131                       https://billlbo.tistory.com/19\n",
       "132                     https://jongamk.tistory.com/6884\n",
       "Name: 주소, Length: 133, dtype: object"
      ]
     },
     "execution_count": 6,
     "metadata": {},
     "output_type": "execute_result"
    }
   ],
   "source": [
    "data['주소']"
   ]
  },
  {
   "cell_type": "code",
   "execution_count": 15,
   "metadata": {},
   "outputs": [
    {
     "data": {
      "text/plain": [
       "0      테리엇의 A Python Lab홈태그미디어로그위치로그방명록 분류 전체보기 (307)...\n",
       "1      본문 바로가기GIL's LAB카테고리검색하기검색하기블로그 내 검색GIL's LABG...\n",
       "2                                                    ...\n",
       "3      본문 바로가기도리의 블로그카테고리검색하기검색하기블로그 내 검색도리의 블로그도리 Do...\n",
       "4      공부 기록우연구기록만이 살 길이닷HOMETAGGUESTBOOKRSSCategory ...\n",
       "                             ...                        \n",
       "128                                                  ...\n",
       "129    티스토리Fit to Fly검색하기블로그 홈Fit to Flyshumw.tistory...\n",
       "130    본문 바로가기인포팩토리메뉴홈태그방명록초보경리일지못 받은 임금과 퇴직금이 있다면? 후...\n",
       "131    본문 바로가기바밥밥검색관리글쓰기로그인로그아웃메뉴홈CAREER 🧑‍💼CAREER대기업...\n",
       "132    (function() {function signalGooglefcPresent() ...\n",
       "Name: 내용, Length: 133, dtype: object"
      ]
     },
     "execution_count": 15,
     "metadata": {},
     "output_type": "execute_result"
    }
   ],
   "source": [
    "data['내용']"
   ]
  },
  {
   "cell_type": "code",
   "execution_count": 16,
   "metadata": {},
   "outputs": [],
   "source": [
    "from wordcloud import WordCloud\n",
    "from konlpy.tag import Okt\n",
    "from collections import Counter\n",
    "import matplotlib.pyplot as plt\n",
    "import numpy as np\n",
    "from PIL import Image\n",
    "import pandas as pd\n",
    "from wordcloud import STOPWORDS"
   ]
  },
  {
   "cell_type": "code",
   "execution_count": 19,
   "metadata": {},
   "outputs": [
    {
     "data": {
      "text/plain": [
       "{'개발자'}"
      ]
     },
     "execution_count": 19,
     "metadata": {},
     "output_type": "execute_result"
    }
   ],
   "source": [
    "STOPWORDS={'개발자'}\n",
    "STOPWORDS"
   ]
  },
  {
   "cell_type": "code",
   "execution_count": null,
   "metadata": {},
   "outputs": [],
   "source": []
  }
 ],
 "metadata": {
  "kernelspec": {
   "display_name": "base",
   "language": "python",
   "name": "python3"
  },
  "language_info": {
   "codemirror_mode": {
    "name": "ipython",
    "version": 3
   },
   "file_extension": ".py",
   "mimetype": "text/x-python",
   "name": "python",
   "nbconvert_exporter": "python",
   "pygments_lexer": "ipython3",
   "version": "3.11.7"
  }
 },
 "nbformat": 4,
 "nbformat_minor": 2
}

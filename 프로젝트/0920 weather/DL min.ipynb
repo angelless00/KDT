{
 "cells": [
  {
   "cell_type": "code",
   "execution_count": 101,
   "metadata": {},
   "outputs": [],
   "source": [
    "import pandas as pd\n",
    "import utils\n",
    "import torch\n",
    "from torch.utils.data import DataLoader\n",
    "import torch.optim as optim\n",
    "from torch.optim import lr_scheduler\n",
    "from torchmetrics.regression import MeanSquaredError,R2Score\n",
    "from torchinfo import summary\n",
    "from sklearn.preprocessing import StandardScaler"
   ]
  },
  {
   "cell_type": "code",
   "execution_count": 84,
   "metadata": {},
   "outputs": [],
   "source": [
    "featureDF=pd.read_csv('feature.csv')\n",
    "targetDF=pd.read_csv('target.csv')"
   ]
  },
  {
   "cell_type": "code",
   "execution_count": 85,
   "metadata": {},
   "outputs": [
    {
     "data": {
      "text/plain": [
       "((153290, 5), (153290, 5))"
      ]
     },
     "execution_count": 85,
     "metadata": {},
     "output_type": "execute_result"
    }
   ],
   "source": [
    "featureDF.shape,targetDF.shape"
   ]
  },
  {
   "cell_type": "code",
   "execution_count": 86,
   "metadata": {},
   "outputs": [
    {
     "name": "stdout",
     "output_type": "stream",
     "text": [
      "<class 'pandas.core.frame.DataFrame'>\n",
      "RangeIndex: 153290 entries, 0 to 153289\n",
      "Data columns (total 5 columns):\n",
      " #   Column      Non-Null Count   Dtype  \n",
      "---  ------      --------------   -----  \n",
      " 0   일시          153290 non-null  object \n",
      " 1   최저기온(°C)    153290 non-null  float64\n",
      " 2   최고기온(°C)    153290 non-null  float64\n",
      " 3   일강수량(mm)    153290 non-null  float64\n",
      " 4   평균 상대습도(%)  153290 non-null  float64\n",
      "dtypes: float64(4), object(1)\n",
      "memory usage: 5.8+ MB\n"
     ]
    }
   ],
   "source": [
    "featureDF.info()"
   ]
  },
  {
   "cell_type": "code",
   "execution_count": 87,
   "metadata": {},
   "outputs": [
    {
     "data": {
      "text/html": [
       "<div>\n",
       "<style scoped>\n",
       "    .dataframe tbody tr th:only-of-type {\n",
       "        vertical-align: middle;\n",
       "    }\n",
       "\n",
       "    .dataframe tbody tr th {\n",
       "        vertical-align: top;\n",
       "    }\n",
       "\n",
       "    .dataframe thead th {\n",
       "        text-align: right;\n",
       "    }\n",
       "</style>\n",
       "<table border=\"1\" class=\"dataframe\">\n",
       "  <thead>\n",
       "    <tr style=\"text-align: right;\">\n",
       "      <th></th>\n",
       "      <th>최저기온(°C)</th>\n",
       "      <th>최고기온(°C)</th>\n",
       "      <th>일강수량(mm)</th>\n",
       "      <th>평균 상대습도(%)</th>\n",
       "    </tr>\n",
       "  </thead>\n",
       "  <tbody>\n",
       "    <tr>\n",
       "      <th>0</th>\n",
       "      <td>15.3</td>\n",
       "      <td>23.6</td>\n",
       "      <td>0.0</td>\n",
       "      <td>68.0</td>\n",
       "    </tr>\n",
       "    <tr>\n",
       "      <th>1</th>\n",
       "      <td>13.7</td>\n",
       "      <td>23.9</td>\n",
       "      <td>0.0</td>\n",
       "      <td>64.9</td>\n",
       "    </tr>\n",
       "    <tr>\n",
       "      <th>2</th>\n",
       "      <td>9.6</td>\n",
       "      <td>22.4</td>\n",
       "      <td>0.0</td>\n",
       "      <td>78.0</td>\n",
       "    </tr>\n",
       "    <tr>\n",
       "      <th>3</th>\n",
       "      <td>12.0</td>\n",
       "      <td>21.3</td>\n",
       "      <td>0.0</td>\n",
       "      <td>92.8</td>\n",
       "    </tr>\n",
       "    <tr>\n",
       "      <th>4</th>\n",
       "      <td>11.2</td>\n",
       "      <td>22.9</td>\n",
       "      <td>0.1</td>\n",
       "      <td>89.4</td>\n",
       "    </tr>\n",
       "  </tbody>\n",
       "</table>\n",
       "</div>"
      ],
      "text/plain": [
       "   최저기온(°C)  최고기온(°C)  일강수량(mm)  평균 상대습도(%)\n",
       "0      15.3      23.6       0.0        68.0\n",
       "1      13.7      23.9       0.0        64.9\n",
       "2       9.6      22.4       0.0        78.0\n",
       "3      12.0      21.3       0.0        92.8\n",
       "4      11.2      22.9       0.1        89.4"
      ]
     },
     "execution_count": 87,
     "metadata": {},
     "output_type": "execute_result"
    }
   ],
   "source": [
    "featureDF=featureDF.drop(columns=['일시'])\n",
    "featureDF.head()"
   ]
  },
  {
   "cell_type": "code",
   "execution_count": 88,
   "metadata": {},
   "outputs": [
    {
     "data": {
      "text/html": [
       "<div>\n",
       "<style scoped>\n",
       "    .dataframe tbody tr th:only-of-type {\n",
       "        vertical-align: middle;\n",
       "    }\n",
       "\n",
       "    .dataframe tbody tr th {\n",
       "        vertical-align: top;\n",
       "    }\n",
       "\n",
       "    .dataframe thead th {\n",
       "        text-align: right;\n",
       "    }\n",
       "</style>\n",
       "<table border=\"1\" class=\"dataframe\">\n",
       "  <thead>\n",
       "    <tr style=\"text-align: right;\">\n",
       "      <th></th>\n",
       "      <th>최저기온(°C)</th>\n",
       "    </tr>\n",
       "  </thead>\n",
       "  <tbody>\n",
       "    <tr>\n",
       "      <th>0</th>\n",
       "      <td>13.7</td>\n",
       "    </tr>\n",
       "    <tr>\n",
       "      <th>1</th>\n",
       "      <td>9.6</td>\n",
       "    </tr>\n",
       "    <tr>\n",
       "      <th>2</th>\n",
       "      <td>12.0</td>\n",
       "    </tr>\n",
       "    <tr>\n",
       "      <th>3</th>\n",
       "      <td>11.2</td>\n",
       "    </tr>\n",
       "    <tr>\n",
       "      <th>4</th>\n",
       "      <td>13.8</td>\n",
       "    </tr>\n",
       "  </tbody>\n",
       "</table>\n",
       "</div>"
      ],
      "text/plain": [
       "   최저기온(°C)\n",
       "0      13.7\n",
       "1       9.6\n",
       "2      12.0\n",
       "3      11.2\n",
       "4      13.8"
      ]
     },
     "execution_count": 88,
     "metadata": {},
     "output_type": "execute_result"
    }
   ],
   "source": [
    "#targetDF=targetDF.drop(columns=['일시','평균 상대습도(%)','일강수량(mm)'])\n",
    "targetDF=targetDF[['최저기온(°C)']]\n",
    "targetDF.head()"
   ]
  },
  {
   "cell_type": "markdown",
   "metadata": {},
   "source": [
    "## 데이터 셋 분리 후 텐서화"
   ]
  },
  {
   "cell_type": "code",
   "execution_count": 89,
   "metadata": {},
   "outputs": [],
   "source": [
    "SS=utils.SeperateSet(featureDF,targetDF)\n",
    "X_train,X_val,X_test,y_train,y_val,y_test=SS.run()"
   ]
  },
  {
   "cell_type": "code",
   "execution_count": 90,
   "metadata": {},
   "outputs": [
    {
     "name": "stdout",
     "output_type": "stream",
     "text": [
      "X_train : (98105, 4) X_val :(24527, 4) X_test:(30658, 4)\n",
      "y_train : (98105, 1) y_val :(24527, 1) y_test:(30658, 1)\n"
     ]
    }
   ],
   "source": [
    "print(f'X_train : {X_train.shape} X_val :{X_val.shape} X_test:{X_test.shape}')\n",
    "print(f'y_train : {y_train.shape} y_val :{y_val.shape} y_test:{y_test.shape}')"
   ]
  },
  {
   "cell_type": "code",
   "execution_count": 91,
   "metadata": {},
   "outputs": [],
   "source": [
    "# scaler=StandardScaler()\n",
    "# scaler.fit(X_train)\n",
    "# X_train=pd.DataFrame(scaler.transform(X_train))\n",
    "# X_val=pd.DataFrame(scaler.transform(X_val))\n",
    "# X_test=pd.DataFrame(scaler.transform(X_test))\n"
   ]
  },
  {
   "cell_type": "code",
   "execution_count": 92,
   "metadata": {},
   "outputs": [],
   "source": [
    "trainDS=utils.MyDataSet(X_train,y_train)\n",
    "valDS=utils.MyDataSet(X_val,y_val)\n",
    "testDS=utils.MyDataSet(X_test,y_test)"
   ]
  },
  {
   "cell_type": "code",
   "execution_count": 93,
   "metadata": {},
   "outputs": [],
   "source": [
    "trainDL=DataLoader(trainDS,batch_size=256)\n",
    "valDL=DataLoader(valDS,batch_size=len(valDS))"
   ]
  },
  {
   "cell_type": "markdown",
   "metadata": {},
   "source": [
    "## 모델로딩"
   ]
  },
  {
   "cell_type": "code",
   "execution_count": 94,
   "metadata": {},
   "outputs": [],
   "source": [
    "model=utils.DynamicsModel(featureDF.shape[1],targetDF.shape[1],nums=[6500])\n",
    "optimizer=optim.Adam(model.parameters(),lr=1)"
   ]
  },
  {
   "cell_type": "code",
   "execution_count": 95,
   "metadata": {},
   "outputs": [
    {
     "data": {
      "text/plain": [
       "==========================================================================================\n",
       "Layer (type:depth-idx)                   Output Shape              Param #\n",
       "==========================================================================================\n",
       "DynamicsModel                            [98105, 1]                --\n",
       "├─Linear: 1-1                            [98105, 6500]             32,500\n",
       "├─Linear: 1-2                            [98105, 1]                6,501\n",
       "==========================================================================================\n",
       "Total params: 39,001\n",
       "Trainable params: 39,001\n",
       "Non-trainable params: 0\n",
       "Total mult-adds (G): 3.83\n",
       "==========================================================================================\n",
       "Input size (MB): 1.57\n",
       "Forward/backward pass size (MB): 5102.24\n",
       "Params size (MB): 0.16\n",
       "Estimated Total Size (MB): 5103.97\n",
       "=========================================================================================="
      ]
     },
     "execution_count": 95,
     "metadata": {},
     "output_type": "execute_result"
    }
   ],
   "source": [
    "summary(model,input_size=X_train.shape)"
   ]
  },
  {
   "cell_type": "code",
   "execution_count": 96,
   "metadata": {},
   "outputs": [],
   "source": [
    "# 스케쥴러\n",
    "scheduler=lr_scheduler.ReduceLROnPlateau(optimizer,patience=10,factor=0.9)"
   ]
  },
  {
   "cell_type": "code",
   "execution_count": 97,
   "metadata": {},
   "outputs": [],
   "source": [
    "lossf=MeanSquaredError()\n",
    "scoref=R2Score(num_outputs=targetDF.shape[1])"
   ]
  },
  {
   "cell_type": "code",
   "execution_count": 98,
   "metadata": {},
   "outputs": [
    {
     "name": "stdout",
     "output_type": "stream",
     "text": [
      "[1/1000]\n",
      "train loss 170568854.95861948, train score -3469572.5080189817\n",
      "val loss 141.59283447265625, val score -1.8175930976867676\n",
      "scheduler.num_bad_epochs 0/10\n",
      "[2/1000]\n",
      "train loss 215.05166519184908, train score -3.2783855802069106\n",
      "val loss 39.86908721923828, val score 0.20663458108901978\n",
      "scheduler.num_bad_epochs 0/10\n",
      "[3/1000]\n",
      "train loss 36.09059704095125, train score 0.27323563195144135\n",
      "val loss 38.89542007446289, val score 0.2260097861289978\n",
      "scheduler.num_bad_epochs 0/10\n",
      "[4/1000]\n",
      "train loss 62.08331722021103, train score -0.25255276697377366\n",
      "val loss 18.781591415405273, val score 0.6262601613998413\n",
      "scheduler.num_bad_epochs 0/10\n",
      "[5/1000]\n",
      "train loss 143182.59133883193, train score -2865.0961344066695\n",
      "val loss 27.503009796142578, val score 0.4527103900909424\n",
      "scheduler.num_bad_epochs 1/10\n",
      "[6/1000]\n",
      "train loss 48136.26106774062, train score -949.0171621632762\n",
      "val loss 3710264.25, val score -73830.5234375\n",
      "scheduler.num_bad_epochs 2/10\n",
      "[7/1000]\n",
      "train loss 44490.57314752167, train score -879.593448795999\n",
      "val loss 32.11168670654297, val score 0.3610011339187622\n",
      "scheduler.num_bad_epochs 3/10\n",
      "[8/1000]\n",
      "train loss 75.8203823318084, train score -0.5185377619539698\n",
      "val loss 97.41097259521484, val score -0.9384065866470337\n",
      "scheduler.num_bad_epochs 4/10\n",
      "[9/1000]\n",
      "train loss 89839.6602572004, train score -1785.3491103203658\n",
      "val loss 13.53832721710205, val score 0.7305972576141357\n",
      "scheduler.num_bad_epochs 0/10\n",
      "[10/1000]\n",
      "train loss 10.476635945339998, train score 0.7893221283641955\n",
      "val loss 8.426252365112305, val score 0.8323237895965576\n",
      "scheduler.num_bad_epochs 0/10\n",
      "[11/1000]\n",
      "train loss 8.004396249850592, train score 0.8387876863901814\n",
      "val loss 6.817977428436279, val score 0.8643273115158081\n",
      "scheduler.num_bad_epochs 0/10\n",
      "[12/1000]\n",
      "train loss 7.234141395737727, train score 0.854233235741655\n",
      "val loss 7.179398059844971, val score 0.8571352958679199\n",
      "scheduler.num_bad_epochs 1/10\n",
      "[13/1000]\n",
      "train loss 6.901077955961227, train score 0.860810994481047\n",
      "val loss 7.1014180183410645, val score 0.8586870431900024\n",
      "scheduler.num_bad_epochs 2/10\n",
      "[14/1000]\n",
      "train loss 7.001240222404401, train score 0.8588165151886642\n",
      "val loss 7.161897659301758, val score 0.8574835062026978\n",
      "scheduler.num_bad_epochs 3/10\n",
      "[15/1000]\n",
      "train loss 6.866480911771457, train score 0.8615493034012616\n",
      "val loss 9.928622245788574, val score 0.8024277687072754\n",
      "scheduler.num_bad_epochs 4/10\n",
      "[16/1000]\n",
      "train loss 7.320974850406249, train score 0.852274990019699\n",
      "val loss 15.66948413848877, val score 0.6881887912750244\n",
      "scheduler.num_bad_epochs 5/10\n",
      "[17/1000]\n",
      "train loss 7.747731161614259, train score 0.8436440716808041\n",
      "val loss 9.328137397766113, val score 0.814376950263977\n",
      "scheduler.num_bad_epochs 6/10\n",
      "[18/1000]\n",
      "train loss 315.65058261776966, train score -5.305032310541719\n",
      "val loss 1103.6793212890625, val score -20.962406158447266\n",
      "scheduler.num_bad_epochs 7/10\n",
      "[19/1000]\n",
      "train loss 267.6337635628879, train score -4.426609706909706\n",
      "val loss 10.022683143615723, val score 0.8005560040473938\n",
      "scheduler.num_bad_epochs 8/10\n",
      "[20/1000]\n",
      "train loss 460.40427291269106, train score -8.371645422962805\n",
      "val loss 7.28102970123291, val score 0.8551129102706909\n",
      "scheduler.num_bad_epochs 9/10\n",
      "[21/1000]\n",
      "train loss 11.411988689253727, train score 0.7712156660854816\n",
      "val loss 6.061408042907715, val score 0.8793824315071106\n",
      "scheduler.num_bad_epochs 0/10\n",
      "[22/1000]\n",
      "train loss 178.56695167223612, train score -2.53437932782496\n",
      "val loss 8.04903507232666, val score 0.8398301601409912\n",
      "scheduler.num_bad_epochs 1/10\n",
      "[23/1000]\n",
      "train loss 147.05376009767255, train score -1.9822342976306875\n",
      "val loss 14.945414543151855, val score 0.7025972604751587\n",
      "scheduler.num_bad_epochs 2/10\n",
      "[24/1000]\n",
      "train loss 19.50538680329919, train score 0.6074484148994088\n",
      "val loss 15.13634967803955, val score 0.6987978219985962\n",
      "scheduler.num_bad_epochs 3/10\n",
      "[25/1000]\n",
      "train loss 78.19963457683723, train score -0.5692383403268954\n",
      "val loss 15.037476539611816, val score 0.7007653117179871\n",
      "scheduler.num_bad_epochs 4/10\n",
      "[26/1000]\n",
      "train loss 36.71207774306337, train score 0.26221806307633716\n",
      "val loss 18.57931137084961, val score 0.630285382270813\n",
      "scheduler.num_bad_epochs 5/10\n",
      "[27/1000]\n",
      "train loss 15.637717238316933, train score 0.6835038388768832\n",
      "val loss 13.985225677490234, val score 0.721704363822937\n",
      "scheduler.num_bad_epochs 6/10\n",
      "[28/1000]\n",
      "train loss 33.251639153808355, train score 0.33147347951307893\n",
      "val loss 16.740726470947266, val score 0.6668719053268433\n",
      "scheduler.num_bad_epochs 7/10\n",
      "[29/1000]\n",
      "train loss 8.774209889272848, train score 0.8233954356983304\n",
      "val loss 16.442058563232422, val score 0.672815203666687\n",
      "scheduler.num_bad_epochs 8/10\n",
      "[30/1000]\n",
      "train loss 16.048878776530426, train score 0.6771572090995809\n",
      "val loss 6.604878902435303, val score 0.8685677647590637\n",
      "scheduler.num_bad_epochs 9/10\n",
      "[31/1000]\n",
      "train loss 10.513177569955587, train score 0.7880822132962445\n",
      "val loss 7.502377510070801, val score 0.8507082462310791\n",
      "scheduler.num_bad_epochs 10/10\n",
      "[10] EPOCH 성능개선이 없어서 조기 종료함\n"
     ]
    }
   ],
   "source": [
    "EPOCH=1000\n",
    "trainmodel=utils.Train_val(trainDL,valDL,model,optimizer,lossf,scoref)\n",
    "History=trainmodel.train(EPOCH,scheduler,modelnum='min2')"
   ]
  },
  {
   "cell_type": "code",
   "execution_count": 99,
   "metadata": {},
   "outputs": [
    {
     "data": {
      "image/png": "[encoded data removed]",
      "text/plain": [
       "<Figure size 1000x500 with 2 Axes>"
      ]
     },
     "metadata": {},
     "output_type": "display_data"
    }
   ],
   "source": [
    "plothistoy=utils.Plot_History(History)\n",
    "plothistoy.draw(num=20)"
   ]
  },
  {
   "cell_type": "code",
   "execution_count": 103,
   "metadata": {},
   "outputs": [
    {
     "name": "stdout",
     "output_type": "stream",
     "text": [
      "test loss 6.102502346038818, test score 0.8772622346878052\n"
     ]
    }
   ],
   "source": [
    "testDL=DataLoader(testDS,batch_size=X_test.shape[0])\n",
    "MIN_Model = torch.load('model/best_modelmin4.pth', weights_only=False)\n",
    "for feature,target in testDL:\n",
    "    test_y=MIN_Model(feature)\n",
    "    loss=lossf(test_y,target)\n",
    "    score=scoref(test_y,target)\n",
    "    print(f'test loss {loss}, test score {score}')"
   ]
  },
  {
   "cell_type": "code",
   "execution_count": null,
   "metadata": {},
   "outputs": [],
   "source": []
  }
 ],
 "metadata": {
  "kernelspec": {
   "display_name": "TORCH_38",
   "language": "python",
   "name": "python3"
  },
  "language_info": {
   "codemirror_mode": {
    "name": "ipython",
    "version": 3
   },
   "file_extension": ".py",
   "mimetype": "text/x-python",
   "name": "python",
   "nbconvert_exporter": "python",
   "pygments_lexer": "ipython3",
   "version": "3.8.19"
  }
 },
 "nbformat": 4,
 "nbformat_minor": 2
}

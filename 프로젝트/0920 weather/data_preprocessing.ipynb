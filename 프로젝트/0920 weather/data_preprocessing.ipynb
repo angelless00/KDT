{
 "cells": [
  {
   "cell_type": "code",
   "execution_count": 191,
   "metadata": {},
   "outputs": [],
   "source": [
    "import os\n",
    "import pandas as pd\n",
    "import utils\n",
    "import numpy as np"
   ]
  },
  {
   "cell_type": "code",
   "execution_count": 192,
   "metadata": {},
   "outputs": [],
   "source": [
    "# files=os.listdir('대구경북')\n",
    "# for file in files:\n",
    "#     data=pd.read_csv(f'대구경북/{file}',encoding='cp949')\n",
    "#     data['일시']=pd.to_datetime(data['일시'])\n",
    "#     dataDF=data[(9<=data['일시'].dt.month) & (data['일시'].dt.month<=11)]\n",
    "#     dataDF=dataDF[['최저기온(°C)','최고기온(°C)','일강수량(mm)','평균 상대습도(%)']]\n",
    "\n",
    "    "
   ]
  },
  {
   "cell_type": "code",
   "execution_count": 193,
   "metadata": {},
   "outputs": [],
   "source": [
    "data=pd.read_csv(f'total.csv')\n",
    "data['일시']=pd.to_datetime(data['일시'])\n",
    "dataDF=data[(9<=data['일시'].dt.month) & (data['일시'].dt.month<=11)]\n",
    "dataDF=dataDF[['일시','최저기온(°C)','최고기온(°C)','일강수량(mm)','평균 상대습도(%)']]\n",
    "dataDF.reset_index(inplace=True,drop=True)"
   ]
  },
  {
   "cell_type": "code",
   "execution_count": 194,
   "metadata": {},
   "outputs": [
    {
     "name": "stdout",
     "output_type": "stream",
     "text": [
      "<class 'pandas.core.frame.DataFrame'>\n",
      "RangeIndex: 154997 entries, 0 to 154996\n",
      "Data columns (total 5 columns):\n",
      " #   Column      Non-Null Count   Dtype         \n",
      "---  ------      --------------   -----         \n",
      " 0   일시          154997 non-null  datetime64[ns]\n",
      " 1   최저기온(°C)    154976 non-null  float64       \n",
      " 2   최고기온(°C)    154972 non-null  float64       \n",
      " 3   일강수량(mm)    50635 non-null   float64       \n",
      " 4   평균 상대습도(%)  154719 non-null  float64       \n",
      "dtypes: datetime64[ns](1), float64(4)\n",
      "memory usage: 5.9 MB\n"
     ]
    }
   ],
   "source": [
    "dataDF.info()"
   ]
  },
  {
   "cell_type": "markdown",
   "metadata": {},
   "source": [
    "## 결측값 처리"
   ]
  },
  {
   "cell_type": "code",
   "execution_count": 195,
   "metadata": {},
   "outputs": [],
   "source": [
    "# 강수량 nan값은 0로\n",
    "dataDF['일강수량(mm)']=dataDF['일강수량(mm)'].fillna(0)"
   ]
  },
  {
   "cell_type": "code",
   "execution_count": 196,
   "metadata": {},
   "outputs": [
    {
     "data": {
      "text/html": [
       "<div>\n",
       "<style scoped>\n",
       "    .dataframe tbody tr th:only-of-type {\n",
       "        vertical-align: middle;\n",
       "    }\n",
       "\n",
       "    .dataframe tbody tr th {\n",
       "        vertical-align: top;\n",
       "    }\n",
       "\n",
       "    .dataframe thead th {\n",
       "        text-align: right;\n",
       "    }\n",
       "</style>\n",
       "<table border=\"1\" class=\"dataframe\">\n",
       "  <thead>\n",
       "    <tr style=\"text-align: right;\">\n",
       "      <th></th>\n",
       "      <th>일시</th>\n",
       "      <th>최저기온(°C)</th>\n",
       "      <th>최고기온(°C)</th>\n",
       "      <th>일강수량(mm)</th>\n",
       "      <th>평균 상대습도(%)</th>\n",
       "    </tr>\n",
       "  </thead>\n",
       "  <tbody>\n",
       "    <tr>\n",
       "      <th>915</th>\n",
       "      <td>2014-09-06</td>\n",
       "      <td>13.4</td>\n",
       "      <td>24.8</td>\n",
       "      <td>0.0</td>\n",
       "      <td>NaN</td>\n",
       "    </tr>\n",
       "    <tr>\n",
       "      <th>1112</th>\n",
       "      <td>2016-09-21</td>\n",
       "      <td>8.5</td>\n",
       "      <td>16.8</td>\n",
       "      <td>0.0</td>\n",
       "      <td>NaN</td>\n",
       "    </tr>\n",
       "    <tr>\n",
       "      <th>3203</th>\n",
       "      <td>2019-09-19</td>\n",
       "      <td>15.0</td>\n",
       "      <td>26.0</td>\n",
       "      <td>0.0</td>\n",
       "      <td>NaN</td>\n",
       "    </tr>\n",
       "    <tr>\n",
       "      <th>9586</th>\n",
       "      <td>2013-10-02</td>\n",
       "      <td>NaN</td>\n",
       "      <td>25.7</td>\n",
       "      <td>4.0</td>\n",
       "      <td>77.1</td>\n",
       "    </tr>\n",
       "    <tr>\n",
       "      <th>11780</th>\n",
       "      <td>2017-10-12</td>\n",
       "      <td>8.8</td>\n",
       "      <td>NaN</td>\n",
       "      <td>0.0</td>\n",
       "      <td>71.0</td>\n",
       "    </tr>\n",
       "    <tr>\n",
       "      <th>...</th>\n",
       "      <td>...</td>\n",
       "      <td>...</td>\n",
       "      <td>...</td>\n",
       "      <td>...</td>\n",
       "      <td>...</td>\n",
       "    </tr>\n",
       "    <tr>\n",
       "      <th>150538</th>\n",
       "      <td>2015-09-01</td>\n",
       "      <td>19.9</td>\n",
       "      <td>23.3</td>\n",
       "      <td>0.0</td>\n",
       "      <td>NaN</td>\n",
       "    </tr>\n",
       "    <tr>\n",
       "      <th>154342</th>\n",
       "      <td>2016-11-13</td>\n",
       "      <td>8.0</td>\n",
       "      <td>18.9</td>\n",
       "      <td>0.0</td>\n",
       "      <td>NaN</td>\n",
       "    </tr>\n",
       "    <tr>\n",
       "      <th>154406</th>\n",
       "      <td>2017-10-17</td>\n",
       "      <td>3.4</td>\n",
       "      <td>22.2</td>\n",
       "      <td>0.0</td>\n",
       "      <td>NaN</td>\n",
       "    </tr>\n",
       "    <tr>\n",
       "      <th>154408</th>\n",
       "      <td>2017-10-19</td>\n",
       "      <td>8.6</td>\n",
       "      <td>11.0</td>\n",
       "      <td>0.0</td>\n",
       "      <td>NaN</td>\n",
       "    </tr>\n",
       "    <tr>\n",
       "      <th>154449</th>\n",
       "      <td>2017-11-29</td>\n",
       "      <td>-3.1</td>\n",
       "      <td>5.3</td>\n",
       "      <td>0.0</td>\n",
       "      <td>NaN</td>\n",
       "    </tr>\n",
       "  </tbody>\n",
       "</table>\n",
       "<p>287 rows × 5 columns</p>\n",
       "</div>"
      ],
      "text/plain": [
       "               일시  최저기온(°C)  최고기온(°C)  일강수량(mm)  평균 상대습도(%)\n",
       "915    2014-09-06      13.4      24.8       0.0         NaN\n",
       "1112   2016-09-21       8.5      16.8       0.0         NaN\n",
       "3203   2019-09-19      15.0      26.0       0.0         NaN\n",
       "9586   2013-10-02       NaN      25.7       4.0        77.1\n",
       "11780  2017-10-12       8.8       NaN       0.0        71.0\n",
       "...           ...       ...       ...       ...         ...\n",
       "150538 2015-09-01      19.9      23.3       0.0         NaN\n",
       "154342 2016-11-13       8.0      18.9       0.0         NaN\n",
       "154406 2017-10-17       3.4      22.2       0.0         NaN\n",
       "154408 2017-10-19       8.6      11.0       0.0         NaN\n",
       "154449 2017-11-29      -3.1       5.3       0.0         NaN\n",
       "\n",
       "[287 rows x 5 columns]"
      ]
     },
     "execution_count": 196,
     "metadata": {},
     "output_type": "execute_result"
    }
   ],
   "source": [
    "# nan 값 확인\n",
    "nanDF=dataDF[dataDF['최저기온(°C)'].isna()|dataDF['최고기온(°C)'].isna()|(dataDF['평균 상대습도(%)'].isna())]\n",
    "nanDF"
   ]
  },
  {
   "cell_type": "code",
   "execution_count": 197,
   "metadata": {},
   "outputs": [],
   "source": [
    "# 수치의 일관성이 없어 각 달의 평균값으로 치환\n",
    "# 각월 평균\n",
    "mean9=dataDF[dataDF['일시'].dt.month==9].mean()\n",
    "mean10=dataDF[dataDF['일시'].dt.month==10].mean()\n",
    "mean11=dataDF[dataDF['일시'].dt.month==11].mean()"
   ]
  },
  {
   "cell_type": "code",
   "execution_count": 198,
   "metadata": {},
   "outputs": [],
   "source": [
    "for idx in nanDF.index:\n",
    "    \n",
    "    for col in dataDF.columns[1:]:\n",
    "        if ~(-100<dataDF.loc[idx,col]<100):\n",
    "            if dataDF.loc[idx,'일시'].month==9:\n",
    "                dataDF.loc[idx,col]=mean9[col]\n",
    "            elif dataDF.loc[idx,'일시'].month==10:\n",
    "                dataDF.loc[idx,col]=mean10[col]\n",
    "            else:\n",
    "                dataDF.loc[idx,col]=mean11[col]"
   ]
  },
  {
   "cell_type": "code",
   "execution_count": 199,
   "metadata": {},
   "outputs": [
    {
     "name": "stdout",
     "output_type": "stream",
     "text": [
      "<class 'pandas.core.frame.DataFrame'>\n",
      "RangeIndex: 154997 entries, 0 to 154996\n",
      "Data columns (total 5 columns):\n",
      " #   Column      Non-Null Count   Dtype         \n",
      "---  ------      --------------   -----         \n",
      " 0   일시          154997 non-null  datetime64[ns]\n",
      " 1   최저기온(°C)    154997 non-null  float64       \n",
      " 2   최고기온(°C)    154997 non-null  float64       \n",
      " 3   일강수량(mm)    154997 non-null  float64       \n",
      " 4   평균 상대습도(%)  154997 non-null  float64       \n",
      "dtypes: datetime64[ns](1), float64(4)\n",
      "memory usage: 5.9 MB\n"
     ]
    }
   ],
   "source": [
    "dataDF.info()\n",
    "# 결측값 처리 완"
   ]
  },
  {
   "cell_type": "markdown",
   "metadata": {},
   "source": [
    "- 피쳐 9월1일~11월29일\n",
    "- 타겟 9월1일~11월30일"
   ]
  },
  {
   "cell_type": "code",
   "execution_count": 200,
   "metadata": {},
   "outputs": [
    {
     "name": "stdout",
     "output_type": "stream",
     "text": [
      "<class 'pandas.core.frame.DataFrame'>\n",
      "Index: 153292 entries, 0 to 154995\n",
      "Data columns (total 5 columns):\n",
      " #   Column      Non-Null Count   Dtype         \n",
      "---  ------      --------------   -----         \n",
      " 0   일시          153292 non-null  datetime64[ns]\n",
      " 1   최저기온(°C)    153292 non-null  float64       \n",
      " 2   최고기온(°C)    153292 non-null  float64       \n",
      " 3   일강수량(mm)    153292 non-null  float64       \n",
      " 4   평균 상대습도(%)  153292 non-null  float64       \n",
      "dtypes: datetime64[ns](1), float64(4)\n",
      "memory usage: 7.0 MB\n"
     ]
    }
   ],
   "source": [
    "# 피쳐 데이터셋 제작\n",
    "featureDF=dataDF[~((dataDF['일시'].dt.month==11) & (dataDF['일시'].dt.day==30))]\n",
    "featureDF.info()\n",
    "featureDF.reset_index(inplace=True,drop=True)\n"
   ]
  },
  {
   "cell_type": "code",
   "execution_count": 201,
   "metadata": {},
   "outputs": [
    {
     "name": "stdout",
     "output_type": "stream",
     "text": [
      "<class 'pandas.core.frame.DataFrame'>\n",
      "Index: 153296 entries, 1 to 154996\n",
      "Data columns (total 5 columns):\n",
      " #   Column      Non-Null Count   Dtype         \n",
      "---  ------      --------------   -----         \n",
      " 0   일시          153296 non-null  datetime64[ns]\n",
      " 1   최저기온(°C)    153296 non-null  float64       \n",
      " 2   최고기온(°C)    153296 non-null  float64       \n",
      " 3   일강수량(mm)    153296 non-null  float64       \n",
      " 4   평균 상대습도(%)  153296 non-null  float64       \n",
      "dtypes: datetime64[ns](1), float64(4)\n",
      "memory usage: 7.0 MB\n"
     ]
    }
   ],
   "source": [
    "# 타겟 데이터셋 제작\n",
    "targetDF=dataDF[~((dataDF['일시'].dt.month==9) & (dataDF['일시'].dt.day==1))]\n",
    "targetDF.info()\n",
    "targetDF.reset_index(inplace=True,drop=True)"
   ]
  },
  {
   "cell_type": "code",
   "execution_count": 202,
   "metadata": {},
   "outputs": [
    {
     "data": {
      "text/plain": [
       "일시            2022-10-15 00:00:00\n",
       "최저기온(°C)                     12.6\n",
       "최고기온(°C)                     24.4\n",
       "일강수량(mm)                      0.0\n",
       "평균 상대습도(%)                   68.5\n",
       "Name: 12103, dtype: object"
      ]
     },
     "execution_count": 202,
     "metadata": {},
     "output_type": "execute_result"
    }
   ],
   "source": [
    "targetDF.loc[12103]"
   ]
  },
  {
   "cell_type": "code",
   "execution_count": 220,
   "metadata": {},
   "outputs": [
    {
     "name": "stdout",
     "output_type": "stream",
     "text": [
      "Empty DataFrame\n",
      "Columns: [일시, 최저기온(°C), 최고기온(°C), 일강수량(mm), 평균 상대습도(%)]\n",
      "Index: []\n",
      "Empty DataFrame\n",
      "Columns: [일시, 최저기온(°C), 최고기온(°C), 일강수량(mm), 평균 상대습도(%)]\n",
      "Index: []\n"
     ]
    }
   ],
   "source": [
    "idx=~(targetDF['일시'].dt.dayofyear-featureDF['일시'].dt.dayofyear==1)\n",
    "print(featureDF[idx].head(2))\n",
    "print(targetDF[idx].head(2))"
   ]
  },
  {
   "cell_type": "code",
   "execution_count": 219,
   "metadata": {},
   "outputs": [],
   "source": [
    "# featureDF=featureDF.drop(index=121012)\n",
    "# featureDF.reset_index(inplace=True,drop=True)\n",
    "\n",
    "targetDF=targetDF.drop(index=147200)\n",
    "targetDF.reset_index(inplace=True,drop=True)"
   ]
  },
  {
   "cell_type": "code",
   "execution_count": 205,
   "metadata": {},
   "outputs": [],
   "source": [
    "# featureDF=featureDF.drop(index=12103)\n",
    "# featureDF.reset_index(inplace=True,drop=True)\n",
    "\n",
    "targetDF=targetDF.drop(index=[59040,62731,62882])\n",
    "targetDF.reset_index(inplace=True,drop=True)"
   ]
  },
  {
   "cell_type": "code",
   "execution_count": 221,
   "metadata": {},
   "outputs": [],
   "source": [
    "# csv 파일로 저장\n",
    "featureDF.to_csv('feature.csv',index=False)\n",
    "targetDF.to_csv('target.csv',index=False)"
   ]
  },
  {
   "cell_type": "code",
   "execution_count": null,
   "metadata": {},
   "outputs": [],
   "source": []
  }
 ],
 "metadata": {
  "kernelspec": {
   "display_name": "TORCH_38",
   "language": "python",
   "name": "python3"
  },
  "language_info": {
   "codemirror_mode": {
    "name": "ipython",
    "version": 3
   },
   "file_extension": ".py",
   "mimetype": "text/x-python",
   "name": "python",
   "nbconvert_exporter": "python",
   "pygments_lexer": "ipython3",
   "version": "3.8.19"
  }
 },
 "nbformat": 4,
 "nbformat_minor": 2
}

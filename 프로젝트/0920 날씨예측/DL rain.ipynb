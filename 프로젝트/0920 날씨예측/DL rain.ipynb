{
 "cells": [
  {
   "cell_type": "code",
   "execution_count": 19,
   "metadata": {},
   "outputs": [],
   "source": [
    "import pandas as pd\n",
    "import utils\n",
    "from torch.utils.data import DataLoader\n",
    "import torch.optim as optim\n",
    "from torch.optim import lr_scheduler\n",
    "from torchmetrics.regression import MeanSquaredError,R2Score\n",
    "from torchinfo import summary\n",
    "from sklearn.preprocessing import StandardScaler"
   ]
  },
  {
   "cell_type": "code",
   "execution_count": 20,
   "metadata": {},
   "outputs": [],
   "source": [
    "featureDF=pd.read_csv('feature.csv')\n",
    "targetDF=pd.read_csv('target.csv')"
   ]
  },
  {
   "cell_type": "code",
   "execution_count": 21,
   "metadata": {},
   "outputs": [
    {
     "data": {
      "text/plain": [
       "((153290, 5), (153290, 5))"
      ]
     },
     "execution_count": 21,
     "metadata": {},
     "output_type": "execute_result"
    }
   ],
   "source": [
    "featureDF.shape,targetDF.shape"
   ]
  },
  {
   "cell_type": "code",
   "execution_count": 22,
   "metadata": {},
   "outputs": [
    {
     "name": "stdout",
     "output_type": "stream",
     "text": [
      "<class 'pandas.core.frame.DataFrame'>\n",
      "RangeIndex: 153290 entries, 0 to 153289\n",
      "Data columns (total 5 columns):\n",
      " #   Column      Non-Null Count   Dtype  \n",
      "---  ------      --------------   -----  \n",
      " 0   일시          153290 non-null  object \n",
      " 1   최저기온(°C)    153290 non-null  float64\n",
      " 2   최고기온(°C)    153290 non-null  float64\n",
      " 3   일강수량(mm)    153290 non-null  float64\n",
      " 4   평균 상대습도(%)  153290 non-null  float64\n",
      "dtypes: float64(4), object(1)\n",
      "memory usage: 5.8+ MB\n"
     ]
    }
   ],
   "source": [
    "featureDF.info()"
   ]
  },
  {
   "cell_type": "code",
   "execution_count": 23,
   "metadata": {},
   "outputs": [
    {
     "data": {
      "text/html": [
       "<div>\n",
       "<style scoped>\n",
       "    .dataframe tbody tr th:only-of-type {\n",
       "        vertical-align: middle;\n",
       "    }\n",
       "\n",
       "    .dataframe tbody tr th {\n",
       "        vertical-align: top;\n",
       "    }\n",
       "\n",
       "    .dataframe thead th {\n",
       "        text-align: right;\n",
       "    }\n",
       "</style>\n",
       "<table border=\"1\" class=\"dataframe\">\n",
       "  <thead>\n",
       "    <tr style=\"text-align: right;\">\n",
       "      <th></th>\n",
       "      <th>최저기온(°C)</th>\n",
       "      <th>최고기온(°C)</th>\n",
       "      <th>일강수량(mm)</th>\n",
       "      <th>평균 상대습도(%)</th>\n",
       "    </tr>\n",
       "  </thead>\n",
       "  <tbody>\n",
       "    <tr>\n",
       "      <th>0</th>\n",
       "      <td>15.3</td>\n",
       "      <td>23.6</td>\n",
       "      <td>0.0</td>\n",
       "      <td>68.0</td>\n",
       "    </tr>\n",
       "    <tr>\n",
       "      <th>1</th>\n",
       "      <td>13.7</td>\n",
       "      <td>23.9</td>\n",
       "      <td>0.0</td>\n",
       "      <td>64.9</td>\n",
       "    </tr>\n",
       "    <tr>\n",
       "      <th>2</th>\n",
       "      <td>9.6</td>\n",
       "      <td>22.4</td>\n",
       "      <td>0.0</td>\n",
       "      <td>78.0</td>\n",
       "    </tr>\n",
       "    <tr>\n",
       "      <th>3</th>\n",
       "      <td>12.0</td>\n",
       "      <td>21.3</td>\n",
       "      <td>0.0</td>\n",
       "      <td>92.8</td>\n",
       "    </tr>\n",
       "    <tr>\n",
       "      <th>4</th>\n",
       "      <td>11.2</td>\n",
       "      <td>22.9</td>\n",
       "      <td>0.1</td>\n",
       "      <td>89.4</td>\n",
       "    </tr>\n",
       "  </tbody>\n",
       "</table>\n",
       "</div>"
      ],
      "text/plain": [
       "   최저기온(°C)  최고기온(°C)  일강수량(mm)  평균 상대습도(%)\n",
       "0      15.3      23.6       0.0        68.0\n",
       "1      13.7      23.9       0.0        64.9\n",
       "2       9.6      22.4       0.0        78.0\n",
       "3      12.0      21.3       0.0        92.8\n",
       "4      11.2      22.9       0.1        89.4"
      ]
     },
     "execution_count": 23,
     "metadata": {},
     "output_type": "execute_result"
    }
   ],
   "source": [
    "featureDF=featureDF.drop(columns=['일시'])\n",
    "featureDF.head()"
   ]
  },
  {
   "cell_type": "code",
   "execution_count": 24,
   "metadata": {},
   "outputs": [
    {
     "data": {
      "text/html": [
       "<div>\n",
       "<style scoped>\n",
       "    .dataframe tbody tr th:only-of-type {\n",
       "        vertical-align: middle;\n",
       "    }\n",
       "\n",
       "    .dataframe tbody tr th {\n",
       "        vertical-align: top;\n",
       "    }\n",
       "\n",
       "    .dataframe thead th {\n",
       "        text-align: right;\n",
       "    }\n",
       "</style>\n",
       "<table border=\"1\" class=\"dataframe\">\n",
       "  <thead>\n",
       "    <tr style=\"text-align: right;\">\n",
       "      <th></th>\n",
       "      <th>일강수량(mm)</th>\n",
       "    </tr>\n",
       "  </thead>\n",
       "  <tbody>\n",
       "    <tr>\n",
       "      <th>0</th>\n",
       "      <td>0.0</td>\n",
       "    </tr>\n",
       "    <tr>\n",
       "      <th>1</th>\n",
       "      <td>0.0</td>\n",
       "    </tr>\n",
       "    <tr>\n",
       "      <th>2</th>\n",
       "      <td>0.0</td>\n",
       "    </tr>\n",
       "    <tr>\n",
       "      <th>3</th>\n",
       "      <td>0.1</td>\n",
       "    </tr>\n",
       "    <tr>\n",
       "      <th>4</th>\n",
       "      <td>13.0</td>\n",
       "    </tr>\n",
       "  </tbody>\n",
       "</table>\n",
       "</div>"
      ],
      "text/plain": [
       "   일강수량(mm)\n",
       "0       0.0\n",
       "1       0.0\n",
       "2       0.0\n",
       "3       0.1\n",
       "4      13.0"
      ]
     },
     "execution_count": 24,
     "metadata": {},
     "output_type": "execute_result"
    }
   ],
   "source": [
    "#targetDF=targetDF.drop(columns=['일시','평균 상대습도(%)','일강수량(mm)'])\n",
    "targetDF=targetDF[['일강수량(mm)']]\n",
    "targetDF.head()"
   ]
  },
  {
   "cell_type": "markdown",
   "metadata": {},
   "source": [
    "## 데이터 셋 분리 후 텐서화"
   ]
  },
  {
   "cell_type": "code",
   "execution_count": 25,
   "metadata": {},
   "outputs": [],
   "source": [
    "SS=utils.SeperateSet(featureDF,targetDF)\n",
    "X_train,X_val,X_test,y_train,y_val,y_test=SS.run()"
   ]
  },
  {
   "cell_type": "code",
   "execution_count": 26,
   "metadata": {},
   "outputs": [
    {
     "name": "stdout",
     "output_type": "stream",
     "text": [
      "X_train : (98105, 4) X_val :(24527, 4) X_test:(30658, 4)\n",
      "y_train : (98105, 1) y_val :(24527, 1) y_test:(30658, 1)\n"
     ]
    }
   ],
   "source": [
    "print(f'X_train : {X_train.shape} X_val :{X_val.shape} X_test:{X_test.shape}')\n",
    "print(f'y_train : {y_train.shape} y_val :{y_val.shape} y_test:{y_test.shape}')"
   ]
  },
  {
   "cell_type": "code",
   "execution_count": 27,
   "metadata": {},
   "outputs": [],
   "source": [
    "# scaler=StandardScaler()\n",
    "# scaler.fit(X_train)\n",
    "# X_train=pd.DataFrame(scaler.transform(X_train))\n",
    "# X_val=pd.DataFrame(scaler.transform(X_val))\n",
    "# X_test=pd.DataFrame(scaler.transform(X_test))\n"
   ]
  },
  {
   "cell_type": "code",
   "execution_count": 28,
   "metadata": {},
   "outputs": [],
   "source": [
    "trainDS=utils.MyDataSet(X_train,y_train)\n",
    "valDS=utils.MyDataSet(X_val,y_val)\n",
    "testDS=utils.MyDataSet(X_test,y_test)"
   ]
  },
  {
   "cell_type": "code",
   "execution_count": 29,
   "metadata": {},
   "outputs": [],
   "source": [
    "trainDL=DataLoader(trainDS,batch_size=3000)\n",
    "valDL=DataLoader(valDS,batch_size=len(valDS))"
   ]
  },
  {
   "cell_type": "markdown",
   "metadata": {},
   "source": [
    "## 모델로딩"
   ]
  },
  {
   "cell_type": "code",
   "execution_count": 30,
   "metadata": {},
   "outputs": [],
   "source": [
    "model=utils.DynamicsModel(featureDF.shape[1],targetDF.shape[1],nums=[8000])\n",
    "optimizer=optim.Adam(model.parameters(),lr=2)"
   ]
  },
  {
   "cell_type": "code",
   "execution_count": 31,
   "metadata": {},
   "outputs": [
    {
     "data": {
      "text/plain": [
       "==========================================================================================\n",
       "Layer (type:depth-idx)                   Output Shape              Param #\n",
       "==========================================================================================\n",
       "DynamicsModel                            [98105, 1]                --\n",
       "├─Linear: 1-1                            [98105, 8000]             40,000\n",
       "├─Linear: 1-2                            [98105, 1]                8,001\n",
       "==========================================================================================\n",
       "Total params: 48,001\n",
       "Trainable params: 48,001\n",
       "Non-trainable params: 0\n",
       "Total mult-adds (G): 4.71\n",
       "==========================================================================================\n",
       "Input size (MB): 1.57\n",
       "Forward/backward pass size (MB): 6279.50\n",
       "Params size (MB): 0.19\n",
       "Estimated Total Size (MB): 6281.27\n",
       "=========================================================================================="
      ]
     },
     "execution_count": 31,
     "metadata": {},
     "output_type": "execute_result"
    }
   ],
   "source": [
    "summary(model,input_size=X_train.shape)"
   ]
  },
  {
   "cell_type": "code",
   "execution_count": 32,
   "metadata": {},
   "outputs": [],
   "source": [
    "# 스케쥴러\n",
    "scheduler=lr_scheduler.ReduceLROnPlateau(optimizer,patience=10,factor=0.90)"
   ]
  },
  {
   "cell_type": "code",
   "execution_count": 33,
   "metadata": {},
   "outputs": [],
   "source": [
    "lossf=MeanSquaredError()\n",
    "scoref=R2Score(num_outputs=targetDF.shape[1])"
   ]
  },
  {
   "cell_type": "code",
   "execution_count": 34,
   "metadata": {},
   "outputs": [
    {
     "name": "stdout",
     "output_type": "stream",
     "text": [
      "[1/1000]\n",
      "train loss 47359192844.66019, train score -315750539.3310944\n",
      "val loss 1267607.125, val score -8642.076171875\n",
      "scheduler.num_bad_epochs 0/10\n",
      "[2/1000]\n",
      "train loss 399706.4941258286, train score -2761.239038265113\n",
      "val loss 68810.6171875, val score -468.1795959472656\n",
      "scheduler.num_bad_epochs 0/10\n",
      "[3/1000]\n",
      "train loss 22442.30707619407, train score -158.1305108720606\n",
      "val loss 10635.99609375, val score -71.52066802978516\n",
      "scheduler.num_bad_epochs 0/10\n",
      "[4/1000]\n",
      "train loss 7048.089461817886, train score -49.43734682690013\n",
      "val loss 3853.5576171875, val score -25.27516746520996\n",
      "scheduler.num_bad_epochs 0/10\n",
      "[5/1000]\n",
      "train loss 3608.9068723736386, train score -25.025937781189427\n",
      "val loss 1573.53955078125, val score -9.729050636291504\n",
      "scheduler.num_bad_epochs 0/10\n",
      "[6/1000]\n",
      "train loss 2078.7531058571553, train score -14.008942138064992\n",
      "val loss 833.2719116210938, val score -4.681596279144287\n",
      "scheduler.num_bad_epochs 0/10\n",
      "[7/1000]\n",
      "train loss 1292.0434801506274, train score -8.326760443774136\n",
      "val loss 502.4610900878906, val score -2.425989866256714\n",
      "scheduler.num_bad_epochs 0/10\n",
      "[8/1000]\n",
      "train loss 889.6667818011659, train score -5.4151698061914155\n",
      "val loss 353.87164306640625, val score -1.4128448963165283\n",
      "scheduler.num_bad_epochs 0/10\n",
      "[9/1000]\n",
      "train loss 655.8310889041785, train score -3.7178333925478384\n",
      "val loss 265.4947204589844, val score -0.8102540969848633\n",
      "scheduler.num_bad_epochs 0/10\n",
      "[10/1000]\n",
      "train loss 504.68740151145244, train score -2.6178283420476047\n",
      "val loss 222.19586181640625, val score -0.5150244235992432\n",
      "scheduler.num_bad_epochs 0/10\n",
      "[11/1000]\n",
      "train loss 401.9897967251864, train score -1.8744685649871826\n",
      "val loss 205.6277618408203, val score -0.40205609798431396\n",
      "scheduler.num_bad_epochs 0/10\n",
      "[12/1000]\n",
      "train loss 328.9223274462151, train score -1.349959747357802\n",
      "val loss 185.57037353515625, val score -0.26529645919799805\n",
      "scheduler.num_bad_epochs 0/10\n",
      "[13/1000]\n",
      "train loss 278.29505827932644, train score -0.9845239213018706\n",
      "val loss 168.89956665039062, val score -0.15162789821624756\n",
      "scheduler.num_bad_epochs 0/10\n",
      "[14/1000]\n",
      "train loss 244.75990988991478, train score -0.7412711291602163\n",
      "val loss 160.7801055908203, val score -0.09626603126525879\n",
      "scheduler.num_bad_epochs 0/10\n",
      "[15/1000]\n",
      "train loss 222.18955554384175, train score -0.5776438080903256\n",
      "val loss 156.54505920410156, val score -0.06738972663879395\n",
      "scheduler.num_bad_epochs 0/10\n",
      "[16/1000]\n",
      "train loss 206.79306585138494, train score -0.4661754315549677\n",
      "val loss 154.72149658203125, val score -0.05495595932006836\n",
      "scheduler.num_bad_epochs 0/10\n",
      "[17/1000]\n",
      "train loss 195.57071408358487, train score -0.3852205511295434\n",
      "val loss 154.40875244140625, val score -0.052823543548583984\n",
      "scheduler.num_bad_epochs 0/10\n",
      "[18/1000]\n",
      "train loss 186.9032992738666, train score -0.32302698944554187\n",
      "val loss 153.01773071289062, val score -0.043338894844055176\n",
      "scheduler.num_bad_epochs 0/10\n",
      "[19/1000]\n",
      "train loss 178.9226284605084, train score -0.2656335505572232\n",
      "val loss 148.5005645751953, val score -0.012539029121398926\n",
      "scheduler.num_bad_epochs 0/10\n",
      "[20/1000]\n",
      "train loss 171.07000108198687, train score -0.20874228802594272\n",
      "val loss 142.98338317871094, val score 0.025079429149627686\n",
      "scheduler.num_bad_epochs 0/10\n",
      "[21/1000]\n",
      "train loss 164.225354050145, train score -0.15889755523566043\n",
      "val loss 140.01361083984375, val score 0.04532855749130249\n",
      "scheduler.num_bad_epochs 0/10\n",
      "[22/1000]\n",
      "train loss 159.51506551106772, train score -0.12454213337464766\n",
      "val loss 138.79791259765625, val score 0.053617775440216064\n",
      "scheduler.num_bad_epochs 0/10\n",
      "[23/1000]\n",
      "train loss 156.17968241373697, train score -0.1001259522004561\n",
      "val loss 138.22628784179688, val score 0.05751532316207886\n",
      "scheduler.num_bad_epochs 0/10\n",
      "[24/1000]\n",
      "train loss 153.69222791267163, train score -0.08181133414759781\n",
      "val loss 138.2117462158203, val score 0.05761450529098511\n",
      "scheduler.num_bad_epochs 0/10\n",
      "[25/1000]\n",
      "train loss 151.80879789410216, train score -0.0678122549345999\n",
      "val loss 138.64268493652344, val score 0.054676175117492676\n",
      "scheduler.num_bad_epochs 1/10\n",
      "[26/1000]\n",
      "train loss 150.30396779378256, train score -0.05658229914578525\n",
      "val loss 139.40122985839844, val score 0.049504101276397705\n",
      "scheduler.num_bad_epochs 2/10\n",
      "[27/1000]\n",
      "train loss 148.9847622495709, train score -0.046868625915411743\n",
      "val loss 139.73681640625, val score 0.04721587896347046\n",
      "scheduler.num_bad_epochs 3/10\n",
      "[28/1000]\n",
      "train loss 147.62791743423, train score -0.037215175050677674\n",
      "val loss 138.75811767578125, val score 0.05388909578323364\n",
      "scheduler.num_bad_epochs 4/10\n",
      "[29/1000]\n",
      "train loss 146.06297279126716, train score -0.02620424646319765\n",
      "val loss 137.1051025390625, val score 0.06516009569168091\n",
      "scheduler.num_bad_epochs 0/10\n",
      "[30/1000]\n",
      "train loss 144.25375597404712, train score -0.013117053292014381\n",
      "val loss 136.54835510253906, val score 0.06895619630813599\n",
      "scheduler.num_bad_epochs 0/10\n",
      "[31/1000]\n",
      "train loss 142.66286792177144, train score -0.0013753573099772136\n",
      "val loss 136.76319885253906, val score 0.06749129295349121\n",
      "scheduler.num_bad_epochs 1/10\n",
      "[32/1000]\n",
      "train loss 141.57866229433003, train score 0.006662576487570098\n",
      "val loss 136.9243621826172, val score 0.06639236211776733\n",
      "scheduler.num_bad_epochs 2/10\n",
      "[33/1000]\n",
      "train loss 140.90772409150094, train score 0.011667399695425323\n",
      "val loss 137.06918334960938, val score 0.06540489196777344\n",
      "scheduler.num_bad_epochs 3/10\n",
      "[34/1000]\n",
      "train loss 140.4087529037938, train score 0.01542008284366492\n",
      "val loss 137.1771240234375, val score 0.06466901302337646\n",
      "scheduler.num_bad_epochs 4/10\n",
      "[35/1000]\n",
      "train loss 140.04749113140684, train score 0.018175782579364197\n",
      "val loss 137.22314453125, val score 0.06435513496398926\n",
      "scheduler.num_bad_epochs 5/10\n",
      "[36/1000]\n",
      "train loss 139.8045208092892, train score 0.02007681673223322\n",
      "val loss 137.1383514404297, val score 0.06493330001831055\n",
      "scheduler.num_bad_epochs 6/10\n",
      "[37/1000]\n",
      "train loss 139.65590852679628, train score 0.021277965921344177\n",
      "val loss 136.89036560058594, val score 0.0666242241859436\n",
      "scheduler.num_bad_epochs 7/10\n",
      "[38/1000]\n",
      "train loss 139.67327256636187, train score 0.021216258858189438\n",
      "val loss 136.6851806640625, val score 0.06802326440811157\n",
      "scheduler.num_bad_epochs 8/10\n",
      "[39/1000]\n",
      "train loss 139.64332857998934, train score 0.0214189634178624\n",
      "val loss 136.81959533691406, val score 0.06710672378540039\n",
      "scheduler.num_bad_epochs 9/10\n",
      "[40/1000]\n",
      "train loss 139.54990964947325, train score 0.022078685688249992\n",
      "val loss 137.10464477539062, val score 0.06516313552856445\n",
      "scheduler.num_bad_epochs 10/10\n",
      "[10] EPOCH 성능개선이 없어서 조기 종료함\n"
     ]
    }
   ],
   "source": [
    "EPOCH=1000\n",
    "trainmodel=utils.Train_val(trainDL,valDL,model,optimizer,lossf,scoref)\n",
    "History=trainmodel.train(EPOCH,scheduler,modelnum='rain1')"
   ]
  },
  {
   "cell_type": "code",
   "execution_count": 35,
   "metadata": {},
   "outputs": [
    {
     "data": {
      "image/png": "[encoded data removed]",
      "text/plain": [
       "<Figure size 1000x500 with 2 Axes>"
      ]
     },
     "metadata": {},
     "output_type": "display_data"
    }
   ],
   "source": [
    "plothistoy=utils.Plot_History(History)\n",
    "plothistoy.draw(num=20)"
   ]
  },
  {
   "cell_type": "code",
   "execution_count": 36,
   "metadata": {},
   "outputs": [
    {
     "name": "stdout",
     "output_type": "stream",
     "text": [
      "test loss 139.84210205078125, test score 0.06646209955215454\n"
     ]
    }
   ],
   "source": [
    "testDL=DataLoader(testDS,batch_size=X_test.shape[0])\n",
    "for feature,target in testDL:\n",
    "    test_y=model(feature)\n",
    "    loss=lossf(test_y,target)\n",
    "    score=scoref(test_y,target)\n",
    "    print(f'test loss {loss}, test score {score}')"
   ]
  },
  {
   "cell_type": "code",
   "execution_count": null,
   "metadata": {},
   "outputs": [],
   "source": []
  }
 ],
 "metadata": {
  "kernelspec": {
   "display_name": "TORCH_38",
   "language": "python",
   "name": "python3"
  },
  "language_info": {
   "codemirror_mode": {
    "name": "ipython",
    "version": 3
   },
   "file_extension": ".py",
   "mimetype": "text/x-python",
   "name": "python",
   "nbconvert_exporter": "python",
   "pygments_lexer": "ipython3",
   "version": "3.8.19"
  }
 },
 "nbformat": 4,
 "nbformat_minor": 2
}

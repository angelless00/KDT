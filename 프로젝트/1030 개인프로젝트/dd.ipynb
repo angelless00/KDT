{
 "cells": [
  {
   "cell_type": "code",
   "execution_count": 2,
   "metadata": {},
   "outputs": [],
   "source": [
    "# Flask Framework에서 모듈단위 URL 처리 파일\n",
    "# - 파일명 : main_view.py\n",
    "# -----------------------------------------------------------------------------\n",
    "# 모듈로딩\n",
    "from flask import Blueprint,render_template,url_for,request\n",
    "#from PROWEB.models.models import Result\n",
    "from werkzeug.utils import redirect\n",
    "import torch\n",
    "import RNNutils as utils\n",
    "from konlpy.tag import Okt\n",
    "tokenizer=Okt()\n",
    "\n",
    "\n",
    "# Blueprint 인스턴스 생성\n",
    "mainBP=Blueprint('main',\n",
    "                 import_name=__name__,\n",
    "                 url_prefix='/',\n",
    "                 template_folder='templates')\n",
    "\n",
    "model=torch.load('model/best_model1.pth',weights_only=False,map_location='cpu')\n",
    "\n",
    "\n",
    "import json\n",
    "with open(\"token_to_idx.json\", \"r\", encoding=\"utf-8\") as f:\n",
    "    token_to_idx=json.load(f)\n",
    "with open(\"idx_to_token.json\", \"r\", encoding=\"utf-8\") as f:\n",
    "    idx_to_token=json.load(f)\n"
   ]
  },
  {
   "cell_type": "code",
   "execution_count": 3,
   "metadata": {},
   "outputs": [],
   "source": [
    "def before(text):\n",
    "    songtoken=utils.getToken(text,tokenizer)\n",
    "    songvector=utils.vectorize(songtoken,token_to_idx)\n",
    "    result=[]\n",
    "    for vector in songvector:\n",
    "        for vv in vector:\n",
    "            result.append(vv)\n",
    "    return torch.tensor([result[-3:]])"
   ]
  },
  {
   "cell_type": "code",
   "execution_count": 4,
   "metadata": {},
   "outputs": [
    {
     "data": {
      "text/plain": [
       "tensor([[20293, 21352,  4230]])"
      ]
     },
     "execution_count": 4,
     "metadata": {},
     "output_type": "execute_result"
    }
   ],
   "source": [
    "ss=before('세상에 지쳐가던')\n",
    "ss"
   ]
  },
  {
   "cell_type": "code",
   "execution_count": 5,
   "metadata": {},
   "outputs": [
    {
     "data": {
      "text/plain": [
       "'하는'"
      ]
     },
     "execution_count": 5,
     "metadata": {},
     "output_type": "execute_result"
    }
   ],
   "source": [
    "idx_to_token[str(torch.argmax(model(ss)).item())]"
   ]
  },
  {
   "cell_type": "code",
   "execution_count": 6,
   "metadata": {},
   "outputs": [
    {
     "ename": "RuntimeError",
     "evalue": "a Tensor with 35910 elements cannot be converted to Scalar",
     "output_type": "error",
     "traceback": [
      "\u001b[1;31m---------------------------------------------------------------------------\u001b[0m",
      "\u001b[1;31mRuntimeError\u001b[0m                              Traceback (most recent call last)",
      "Cell \u001b[1;32mIn[6], line 3\u001b[0m\n\u001b[0;32m      1\u001b[0m st_text\u001b[38;5;241m=\u001b[39m\u001b[38;5;124m'\u001b[39m\u001b[38;5;124m누가뭐라해도 난 나야\u001b[39m\u001b[38;5;124m'\u001b[39m\n\u001b[0;32m      2\u001b[0m \u001b[38;5;28;01mwhile\u001b[39;00m \u001b[38;5;28mlen\u001b[39m(st_text)\u001b[38;5;241m<\u001b[39m\u001b[38;5;241m30\u001b[39m:\n\u001b[1;32m----> 3\u001b[0m     st_text\u001b[38;5;241m=\u001b[39mst_text\u001b[38;5;241m+\u001b[39m\u001b[38;5;124m'\u001b[39m\u001b[38;5;124m \u001b[39m\u001b[38;5;124m'\u001b[39m\u001b[38;5;241m+\u001b[39m\u001b[38;5;28mstr\u001b[39m(idx_to_token[\u001b[38;5;28mstr\u001b[39m(torch\u001b[38;5;241m.\u001b[39margmax(\u001b[43mmodel\u001b[49m\u001b[43m(\u001b[49m\u001b[43mbefore\u001b[49m\u001b[43m(\u001b[49m\u001b[43mst_text\u001b[49m\u001b[43m)\u001b[49m\u001b[43m)\u001b[49m\u001b[38;5;241;43m.\u001b[39;49m\u001b[43mitem\u001b[49m\u001b[43m(\u001b[49m\u001b[43m)\u001b[49m))])\n",
      "\u001b[1;31mRuntimeError\u001b[0m: a Tensor with 35910 elements cannot be converted to Scalar"
     ]
    }
   ],
   "source": [
    "st_text='누가뭐라해도 난 나야'\n",
    "while len(st_text)<30:\n",
    "    st_text=st_text+' '+str(idx_to_token[str(torch.argmax(model(before(st_text)).item()))])"
   ]
  },
  {
   "cell_type": "code",
   "execution_count": 12,
   "metadata": {},
   "outputs": [
    {
     "data": {
      "text/plain": [
       "9411"
      ]
     },
     "execution_count": 12,
     "metadata": {},
     "output_type": "execute_result"
    }
   ],
   "source": [
    "torch.argmax(model(before(st_text))).item()"
   ]
  },
  {
   "cell_type": "code",
   "execution_count": null,
   "metadata": {},
   "outputs": [],
   "source": []
  },
  {
   "cell_type": "code",
   "execution_count": null,
   "metadata": {},
   "outputs": [],
   "source": []
  }
 ],
 "metadata": {
  "kernelspec": {
   "display_name": "WEB_AI",
   "language": "python",
   "name": "python3"
  },
  "language_info": {
   "codemirror_mode": {
    "name": "ipython",
    "version": 3
   },
   "file_extension": ".py",
   "mimetype": "text/x-python",
   "name": "python",
   "nbconvert_exporter": "python",
   "pygments_lexer": "ipython3",
   "version": "3.8.20"
  }
 },
 "nbformat": 4,
 "nbformat_minor": 2
}

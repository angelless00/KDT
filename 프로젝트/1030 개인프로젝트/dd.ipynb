{
 "cells": [
  {
   "cell_type": "code",
   "execution_count": 2,
   "metadata": {},
   "outputs": [],
   "source": [
    "# Flask Framework에서 모듈단위 URL 처리 파일\n",
    "# - 파일명 : main_view.py\n",
    "# -----------------------------------------------------------------------------\n",
    "# 모듈로딩\n",
    "from flask import Blueprint,render_template,url_for,request\n",
    "#from PROWEB.models.models import Result\n",
    "from werkzeug.utils import redirect\n",
    "import torch\n",
    "import RNNutils as utils\n",
    "from konlpy.tag import Okt\n",
    "tokenizer=Okt()\n",
    "\n",
    "\n",
    "# Blueprint 인스턴스 생성\n",
    "mainBP=Blueprint('main',\n",
    "                 import_name=__name__,\n",
    "                 url_prefix='/',\n",
    "                 template_folder='templates')\n",
    "\n",
    "model=torch.load('model/best_model1.pth',weights_only=False,map_location='cpu')\n",
    "\n",
    "\n",
    "import json\n",
    "with open(\"token_to_idx.json\", \"r\", encoding=\"utf-8\") as f:\n",
    "    token_to_idx=json.load(f)\n",
    "with open(\"idx_to_token.json\", \"r\", encoding=\"utf-8\") as f:\n",
    "    idx_to_token=json.load(f)\n"
   ]
  },
  {
   "cell_type": "code",
   "execution_count": 3,
   "metadata": {},
   "outputs": [],
   "source": [
    "def before(text):\n",
    "    songtoken=utils.getToken(text,tokenizer)\n",
    "    songvector=utils.vectorize(songtoken,token_to_idx)\n",
    "    result=[]\n",
    "    for vector in songvector:\n",
    "        for vv in vector:\n",
    "            result.append(vv)\n",
    "    return torch.tensor([result[-3:]])"
   ]
  },
  {
   "cell_type": "code",
   "execution_count": 4,
   "metadata": {},
   "outputs": [
    {
     "data": {
      "text/plain": [
       "tensor([[27965, 14636, 22787]])"
      ]
     },
     "execution_count": 4,
     "metadata": {},
     "output_type": "execute_result"
    }
   ],
   "source": [
    "ss=before('너를위해서')\n",
    "ss"
   ]
  },
  {
   "cell_type": "code",
   "execution_count": 5,
   "metadata": {},
   "outputs": [
    {
     "data": {
      "text/plain": [
       "'사이'"
      ]
     },
     "execution_count": 5,
     "metadata": {},
     "output_type": "execute_result"
    }
   ],
   "source": [
    "idx_to_token[str(torch.argmax(model(ss)).item())]"
   ]
  },
  {
   "cell_type": "code",
   "execution_count": 6,
   "metadata": {},
   "outputs": [
    {
     "ename": "RuntimeError",
     "evalue": "a Tensor with 35910 elements cannot be converted to Scalar",
     "output_type": "error",
     "traceback": [
      "\u001b[1;31m---------------------------------------------------------------------------\u001b[0m",
      "\u001b[1;31mRuntimeError\u001b[0m                              Traceback (most recent call last)",
      "Cell \u001b[1;32mIn[6], line 3\u001b[0m\n\u001b[0;32m      1\u001b[0m st_t